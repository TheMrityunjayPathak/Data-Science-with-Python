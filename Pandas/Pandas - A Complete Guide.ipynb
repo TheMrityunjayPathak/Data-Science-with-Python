{
 "cells": [
  {
   "cell_type": "markdown",
   "id": "10b26fdf-c3de-4260-b8e8-8faaa01b3e74",
   "metadata": {},
   "source": [
    "<div id=\"header\"><p style=\"color:#6a66bd; text-align:center; font-weight:bold; font-family:verdana; font-size:25px;\">Pandas - A Complete Guide</p></div>\n",
    "\n",
    "---\n",
    "\n",
    "<p style=\"text-align:right; font-family:verdana;\">Follow <a href=\"https://github.com/TheMrityunjayPathak\" style=\"color:#6a66bd; text-decoration:none;\">@Mrityunjay Pathak</a> for more!</p>\n",
    "    \n",
    "<div style=\"background-color:gainsboro; padding:8px; border:2px dotted black; border-radius:8px; font-family:verdana; line-height: 1.7em\">\n",
    "<font color='#6a66bd' size=\"5px\">Introduction to Pandas</font>\n",
    "<br>\n",
    "<br>\n",
    "<strong>What is Pandas?</strong>\n",
    "<br>\n",
    "• Pandas is a Python library used for working with data sets.\n",
    "<br>\n",
    "• It has functions for analyzing, cleaning, exploring and manipulating data.\n",
    "<br>\n",
    "<br>\n",
    "<strong>Why use Pandas?</strong>\n",
    "<br>\n",
    "• Pandas allows us to analyze big data and make conclusions based on statistical theories.\n",
    "<br>\n",
    "• Pandas can clean messy data sets and make them readable and relevant.\n",
    "</div>"
   ]
  },
  {
   "cell_type": "markdown",
   "id": "d0732828-3da8-4759-b012-e2f7b25ba1fc",
   "metadata": {},
   "source": [
    "<div style=\"background-color:gainsboro; padding:8px; border:2px dotted black; border-radius:8px; font-family:verdana; line-height: 1.7em\">\n",
    "<font color='#6a66bd' size=\"5px\">Installing Pandas</font>\n",
    "<br>\n",
    "<br>\n",
    "• If you have <a href=\"https://www.python.org/downloads/\" style=\"text-decoration:none; color:#6a66bd;\">Python</a> and <a href=\"https://pypi.org/project/pip/\" style=\"text-decoration:none; color:#6a66bd;\">PIP</a> already installed on your system, then installation of Pandas is very easy.\n",
    "<br>\n",
    "• Install it using this command :\n",
    "<div style=\"background-color:#ADD8E6; padding:8px; border:1px solid #87CEEB; border-radius:4px;\">\n",
    "<strong>Note :</strong> You can use your Jupyter Notebook as Terminal to install anything using PIP Command.\n",
    "</div>\n",
    "<div style=\"background-color:#ADD8E6; padding:8px; border:1px solid #87CEEB; border-radius:4px;\">\n",
    "<strong>Note :</strong> Just add an exclamation mark before your PIP Command. Like !pip install pandas\n",
    "</div>\n",
    "</div>"
   ]
  },
  {
   "cell_type": "code",
   "execution_count": 1,
   "id": "4ddc8c4d-242e-48c2-80db-2e28fec18622",
   "metadata": {},
   "outputs": [
    {
     "name": "stdout",
     "output_type": "stream",
     "text": [
      "Requirement already satisfied: pandas in c:\\users\\mrityunjay pathak\\appdata\\local\\programs\\python\\python312\\lib\\site-packages (2.1.4)\n",
      "Requirement already satisfied: numpy<2,>=1.26.0 in c:\\users\\mrityunjay pathak\\appdata\\local\\programs\\python\\python312\\lib\\site-packages (from pandas) (1.26.3)\n",
      "Requirement already satisfied: python-dateutil>=2.8.2 in c:\\users\\mrityunjay pathak\\appdata\\local\\programs\\python\\python312\\lib\\site-packages (from pandas) (2.8.2)\n",
      "Requirement already satisfied: pytz>=2020.1 in c:\\users\\mrityunjay pathak\\appdata\\local\\programs\\python\\python312\\lib\\site-packages (from pandas) (2023.3.post1)\n",
      "Requirement already satisfied: tzdata>=2022.1 in c:\\users\\mrityunjay pathak\\appdata\\local\\programs\\python\\python312\\lib\\site-packages (from pandas) (2023.4)\n",
      "Requirement already satisfied: six>=1.5 in c:\\users\\mrityunjay pathak\\appdata\\local\\programs\\python\\python312\\lib\\site-packages (from python-dateutil>=2.8.2->pandas) (1.16.0)\n"
     ]
    }
   ],
   "source": [
    "!pip install pandas"
   ]
  },
  {
   "cell_type": "markdown",
   "id": "dca816bc-165b-448d-8753-a08839c937b3",
   "metadata": {},
   "source": [
    "<div style=\"background-color:gainsboro; padding:8px; border:2px dotted black; border-radius:8px; font-family:verdana; line-height: 1.7em\">\n",
    "<font color='#6a66bd' size=\"5px\">Getting Started with Pandas</font>\n",
    "<br>\n",
    "<br>\n",
    "<strong>Import Pandas</strong>\n",
    "<br>\n",
    "• Once Pandas is installed, import it in your project by adding the import keyword.\n",
    "</div>"
   ]
  },
  {
   "cell_type": "code",
   "execution_count": 2,
   "id": "48d9984b-ba50-4bb5-bddf-e86311900b36",
   "metadata": {},
   "outputs": [],
   "source": [
    "import pandas"
   ]
  },
  {
   "cell_type": "markdown",
   "id": "f61573c2-287f-464c-9c8e-fb64ea9270fe",
   "metadata": {},
   "source": [
    "<div style=\"background-color:gainsboro; padding:8px; border:2px dotted black; border-radius:8px; font-family:verdana; line-height: 1.7em\">\n",
    "<strong>Pandas as pd</strong>\n",
    "<br>\n",
    "• Pandas is usually imported under the pd alias.\n",
    "<br>\n",
    "• Create an alias with the as keyword while importing.\n",
    "<div style=\"background-color:#ADD8E6; padding:8px; border:1px solid #87CEEB; border-radius:4px;\">\n",
    "<strong>Note :</strong> In Python alias are an alternate name for referring to the same thing.\n",
    "</div>\n",
    "</div>"
   ]
  },
  {
   "cell_type": "code",
   "execution_count": 3,
   "id": "fe96cddf-08da-424d-8e7a-bdfdd6d0b94d",
   "metadata": {},
   "outputs": [],
   "source": [
    "import pandas as pd"
   ]
  },
  {
   "cell_type": "markdown",
   "id": "56fcbbd4-99ad-4034-ba7c-b79040c5fe7a",
   "metadata": {},
   "source": [
    "<div style=\"background-color:gainsboro; padding:8px; border:2px dotted black; border-radius:8px; font-family:verdana; line-height: 1.7em\">\n",
    "<strong>Checking Pandas Version</strong>\n",
    "<br>\n",
    "• The version string is stored under __version__ attribute.\n",
    "</div>"
   ]
  },
  {
   "cell_type": "code",
   "execution_count": 4,
   "id": "331594f1-7007-44d6-82eb-5b4db04bd740",
   "metadata": {},
   "outputs": [
    {
     "name": "stdout",
     "output_type": "stream",
     "text": [
      "2.1.4\n"
     ]
    }
   ],
   "source": [
    "print(pandas.__version__)"
   ]
  },
  {
   "cell_type": "markdown",
   "id": "0428b898-34cf-4be6-b7e3-ea9fb79878ae",
   "metadata": {},
   "source": [
    "<div style=\"background-color:gainsboro; padding:8px; border:2px dotted black; border-radius:8px; font-family:verdana; line-height: 1.7em\">\n",
    "<font color='#6a66bd' size=\"5px\">Pandas Series</font>\n",
    "<br>\n",
    "<br>\n",
    "• A Pandas Series is a one-dimensional labeled array-like object that can hold data of any type.\n",
    "<br>\n",
    "• A Pandas Series can be thought of as a column in a spreadsheet or a single column of a DataFrame. \n",
    "<br>\n",
    "• It consists of two main components : the labels and the data.\n",
    "<br>\n",
    "• The labels are the index values assigned to each data point, while the data represents the actual values stored in the Series.\n",
    "<div style=\"background-color:#ADD8E6; padding:8px; border:1px solid #87CEEB; border-radius:4px;\">\n",
    "<strong>Note :</strong> NaN (not a number) is the standard missing data marker used in Pandas.\n",
    "</div>\n",
    "</div>"
   ]
  },
  {
   "cell_type": "code",
   "execution_count": 5,
   "id": "58182af5-72f8-4365-8b7e-708178c20b55",
   "metadata": {},
   "outputs": [
    {
     "data": {
      "text/plain": [
       "0    1\n",
       "1    7\n",
       "2    2\n",
       "dtype: int64"
      ]
     },
     "execution_count": 5,
     "metadata": {},
     "output_type": "execute_result"
    }
   ],
   "source": [
    "#Creating Series with a List\n",
    "x = [1, 7, 2]\n",
    "ser = pd.Series(x)\n",
    "ser"
   ]
  },
  {
   "cell_type": "markdown",
   "id": "ad4333a8-4bc4-4de2-9e4e-b5a73298854e",
   "metadata": {},
   "source": [
    "<div style=\"background-color:gainsboro; padding:8px; border:2px dotted black; border-radius:8px; font-family:verdana; line-height: 1.7em\">\n",
    "• You can also create a Pandas Series from a Python dictionary. \n",
    "<br>\n",
    "• By using a key/value object, like a dictionary, you can create a Series.\n",
    "<div style=\"background-color:#ADD8E6; padding:8px; border:1px solid #87CEEB; border-radius:4px;\">\n",
    "<strong>Note :</strong> The keys of the dictionary have become the labels and the values of the dictionary have become the data.\n",
    "</div>\n",
    "</div>"
   ]
  },
  {
   "cell_type": "code",
   "execution_count": 6,
   "id": "5aeb8acd-d0f9-483f-8f54-88d20c3a9032",
   "metadata": {},
   "outputs": [
    {
     "data": {
      "text/plain": [
       "Math       89\n",
       "English    75\n",
       "Science    99\n",
       "dtype: int64"
      ]
     },
     "execution_count": 6,
     "metadata": {},
     "output_type": "execute_result"
    }
   ],
   "source": [
    "#Creating Series with a Dictionary\n",
    "x = {\"Math\":89,\"English\":75,\"Science\":99}\n",
    "grades = pd.Series(x)\n",
    "grades"
   ]
  },
  {
   "cell_type": "markdown",
   "id": "5aa024ed-7bec-4ed9-a3b2-003ea96911dd",
   "metadata": {},
   "source": [
    "<div style=\"background-color:gainsboro; padding:8px; border:2px dotted black; border-radius:8px; font-family:verdana; line-height: 1.7em\">\n",
    "• To select only some of the items in the dictionary while creating Series, use the index argument and specify only the items you want to include in the Series.\n",
    "</div>"
   ]
  },
  {
   "cell_type": "code",
   "execution_count": 7,
   "id": "dfbfed35-f5d6-4846-a3d8-064a72d90ab0",
   "metadata": {},
   "outputs": [
    {
     "data": {
      "text/plain": [
       "Math       89\n",
       "Science    99\n",
       "dtype: int64"
      ]
     },
     "execution_count": 7,
     "metadata": {},
     "output_type": "execute_result"
    }
   ],
   "source": [
    "#Creating Series with only selected items of the Dictionary\n",
    "x = {\"Math\":89,\"English\":75,\"Science\":99}\n",
    "grades = pd.Series(x, index=[\"Math\",\"Science\"])\n",
    "grades"
   ]
  },
  {
   "cell_type": "markdown",
   "id": "7bd40e5a-8ed0-4846-9e2d-40ca7e4ff6e2",
   "metadata": {},
   "source": [
    "<div style=\"background-color:gainsboro; padding:8px; border:2px dotted black; border-radius:8px; font-family:verdana; line-height: 1.7em\">\n",
    "• You can also name your Series by adding name parameter while creating a Series.\n",
    "</div>"
   ]
  },
  {
   "cell_type": "code",
   "execution_count": 8,
   "id": "e254a3d7-de33-48dc-988c-5963f182e212",
   "metadata": {},
   "outputs": [
    {
     "data": {
      "text/plain": [
       "Math       89\n",
       "Science    99\n",
       "Name: Grades, dtype: int64"
      ]
     },
     "execution_count": 8,
     "metadata": {},
     "output_type": "execute_result"
    }
   ],
   "source": [
    "#Creating Series with a specific name\n",
    "x = {\"Math\":89,\"English\":75,\"Science\":99}\n",
    "grades = pd.Series(x, index=[\"Math\",\"Science\"], name=\"Grades\")\n",
    "grades"
   ]
  },
  {
   "cell_type": "markdown",
   "id": "1ecea6ac-afc9-4489-bf0e-91acc3a85327",
   "metadata": {},
   "source": [
    "<div style=\"background-color:gainsboro; padding:8px; border:2px dotted black; border-radius:8px; font-family:verdana; line-height: 1.7em\">\n",
    "• You can also create a Series from a Scalar value.\n",
    "<br>\n",
    "• Just remember that when using a Scalar value for creating a Series, you must provide index.\n",
    "<br>\n",
    "• The value will be repeated to match the length of index.\n",
    "</div>"
   ]
  },
  {
   "cell_type": "code",
   "execution_count": 9,
   "id": "82dba9b2-74b2-4d9a-846e-6dc6eb6b665b",
   "metadata": {},
   "outputs": [
    {
     "data": {
      "text/plain": [
       "One      5\n",
       "Two      5\n",
       "Three    5\n",
       "dtype: int64"
      ]
     },
     "execution_count": 9,
     "metadata": {},
     "output_type": "execute_result"
    }
   ],
   "source": [
    "#Creating Series by using a Scalar Value\n",
    "ser = pd.Series(5, index=[\"One\",\"Two\",\"Three\"])\n",
    "ser"
   ]
  },
  {
   "cell_type": "markdown",
   "id": "d08e51be-5fde-4612-9692-e6c8057cfd1b",
   "metadata": {},
   "source": [
    "<div style=\"background-color:gainsboro; padding:8px; border:2px dotted black; border-radius:8px; font-family:verdana; line-height: 1.7em\">\n",
    "<strong>Label</strong>\n",
    "<br>\n",
    "• The labels in the Pandas Series are index numbers by default. Like List and Strings, the index number in series starts from 0.\n",
    "<br>\n",
    "<div style=\"background-color:#ADD8E6; padding:8px; border:1px solid #87CEEB; border-radius:4px;\">\n",
    "<strong>Note :</strong> If nothing else is specified, the values are labeled with their index number.\n",
    "</div>\n",
    "<div style=\"background-color:#ADD8E6; padding:8px; border:1px solid #87CEEB; border-radius:4px;\">\n",
    "<strong>Note :</strong> This label can be used to access a specified value.\n",
    "</div>\n",
    "</div>"
   ]
  },
  {
   "cell_type": "code",
   "execution_count": 10,
   "id": "23f5df13-25ca-40bd-a6cf-69a1c1ce258c",
   "metadata": {},
   "outputs": [
    {
     "data": {
      "text/plain": [
       "7"
      ]
     },
     "execution_count": 10,
     "metadata": {},
     "output_type": "execute_result"
    }
   ],
   "source": [
    "#Accessing values of Series by Label\n",
    "x = [1, 7, 2]\n",
    "ser = pd.Series(x)\n",
    "ser[1]"
   ]
  },
  {
   "cell_type": "markdown",
   "id": "215b5f28-2664-4a42-9368-b1b6166d4b5e",
   "metadata": {},
   "source": [
    "<div style=\"background-color:gainsboro; padding:8px; border:2px dotted black; border-radius:8px; font-family:verdana; line-height: 1.7em\">\n",
    "<strong>Create Labels</strong>\n",
    "<br>\n",
    "• With the index argument, you can name your own labels.\n",
    "</div>"
   ]
  },
  {
   "cell_type": "code",
   "execution_count": 11,
   "id": "30ae29a3-be69-4ca1-a796-e1a8400ea048",
   "metadata": {},
   "outputs": [
    {
     "data": {
      "text/plain": [
       "X    1\n",
       "Y    7\n",
       "Z    2\n",
       "dtype: int64"
      ]
     },
     "execution_count": 11,
     "metadata": {},
     "output_type": "execute_result"
    }
   ],
   "source": [
    "#Creating user defined Labels with index parameter\n",
    "x = [1, 7, 2]\n",
    "ser = pd.Series(x, index=[\"X\",\"Y\",\"Z\"])\n",
    "ser"
   ]
  },
  {
   "cell_type": "markdown",
   "id": "b2e4aec8-f2cd-40ab-ad71-56998fd3d0d8",
   "metadata": {},
   "source": [
    "<div style=\"background-color:gainsboro; padding:8px; border:2px dotted black; border-radius:8px; font-family:verdana; line-height: 1.7em\">\n",
    "• When you have created labels, you can access an item by referring to the label.\n",
    "</div>"
   ]
  },
  {
   "cell_type": "code",
   "execution_count": 12,
   "id": "2ad5594b-99ed-40e9-b78a-77952316c09b",
   "metadata": {},
   "outputs": [
    {
     "data": {
      "text/plain": [
       "7"
      ]
     },
     "execution_count": 12,
     "metadata": {},
     "output_type": "execute_result"
    }
   ],
   "source": [
    "#Accessing Labels using user defined index\n",
    "x = [1, 7, 2]\n",
    "ser = pd.Series(x, index=[\"X\",\"Y\",\"Z\"])\n",
    "ser[\"Y\"]"
   ]
  },
  {
   "cell_type": "markdown",
   "id": "b410b9de-bb87-4e05-9326-be6726000db7",
   "metadata": {},
   "source": [
    "<div style=\"background-color:gainsboro; padding:8px; border:2px dotted black; border-radius:8px; font-family:verdana; line-height: 1.7em\">\n",
    "<font color='#6a66bd' size=\"5px\">Pandas DataFrame</font>\n",
    "<br>\n",
    "<br>\n",
    "• A DataFrame is like a table where the data is organized in rows and columns.\n",
    "<br>\n",
    "• It is a two-dimensional data structure like a two-dimensional array.\n",
    "</div>"
   ]
  },
  {
   "cell_type": "code",
   "execution_count": 13,
   "id": "6486dbc7-6970-473b-ab68-040aa85ffeb4",
   "metadata": {},
   "outputs": [
    {
     "data": {
      "text/html": [
       "<div>\n",
       "<style scoped>\n",
       "    .dataframe tbody tr th:only-of-type {\n",
       "        vertical-align: middle;\n",
       "    }\n",
       "\n",
       "    .dataframe tbody tr th {\n",
       "        vertical-align: top;\n",
       "    }\n",
       "\n",
       "    .dataframe thead th {\n",
       "        text-align: right;\n",
       "    }\n",
       "</style>\n",
       "<table border=\"1\" class=\"dataframe\">\n",
       "  <thead>\n",
       "    <tr style=\"text-align: right;\">\n",
       "      <th></th>\n",
       "      <th>Name</th>\n",
       "      <th>Age</th>\n",
       "      <th>City</th>\n",
       "    </tr>\n",
       "  </thead>\n",
       "  <tbody>\n",
       "    <tr>\n",
       "      <th>0</th>\n",
       "      <td>John</td>\n",
       "      <td>25</td>\n",
       "      <td>New York</td>\n",
       "    </tr>\n",
       "    <tr>\n",
       "      <th>1</th>\n",
       "      <td>Alice</td>\n",
       "      <td>30</td>\n",
       "      <td>London</td>\n",
       "    </tr>\n",
       "    <tr>\n",
       "      <th>2</th>\n",
       "      <td>Bob</td>\n",
       "      <td>35</td>\n",
       "      <td>Paris</td>\n",
       "    </tr>\n",
       "  </tbody>\n",
       "</table>\n",
       "</div>"
      ],
      "text/plain": [
       "    Name  Age      City\n",
       "0   John   25  New York\n",
       "1  Alice   30    London\n",
       "2    Bob   35     Paris"
      ]
     },
     "execution_count": 13,
     "metadata": {},
     "output_type": "execute_result"
    }
   ],
   "source": [
    "#Creating a DataFrame with Dictionary\n",
    "data = {'Name': ['John', 'Alice', 'Bob'],\n",
    "       'Age': [25, 30, 35],\n",
    "       'City': ['New York', 'London', 'Paris']}\n",
    "df = pd.DataFrame(data)\n",
    "df"
   ]
  },
  {
   "cell_type": "markdown",
   "id": "38696f85-02e8-47d0-b1f0-8ae6593fba57",
   "metadata": {},
   "source": [
    "<div style=\"background-color:gainsboro; padding:8px; border:2px dotted black; border-radius:8px; font-family:verdana; line-height: 1.7em\">\n",
    "• You can also create a DataFrame with the help of Lists.\n",
    "</div>"
   ]
  },
  {
   "cell_type": "code",
   "execution_count": 14,
   "id": "274f3939-8e6b-47d2-97f4-c10ad6358f75",
   "metadata": {},
   "outputs": [
    {
     "data": {
      "text/html": [
       "<div>\n",
       "<style scoped>\n",
       "    .dataframe tbody tr th:only-of-type {\n",
       "        vertical-align: middle;\n",
       "    }\n",
       "\n",
       "    .dataframe tbody tr th {\n",
       "        vertical-align: top;\n",
       "    }\n",
       "\n",
       "    .dataframe thead th {\n",
       "        text-align: right;\n",
       "    }\n",
       "</style>\n",
       "<table border=\"1\" class=\"dataframe\">\n",
       "  <thead>\n",
       "    <tr style=\"text-align: right;\">\n",
       "      <th></th>\n",
       "      <th>0</th>\n",
       "      <th>1</th>\n",
       "      <th>2</th>\n",
       "    </tr>\n",
       "  </thead>\n",
       "  <tbody>\n",
       "    <tr>\n",
       "      <th>0</th>\n",
       "      <td>John</td>\n",
       "      <td>25</td>\n",
       "      <td>New York</td>\n",
       "    </tr>\n",
       "    <tr>\n",
       "      <th>1</th>\n",
       "      <td>Alice</td>\n",
       "      <td>30</td>\n",
       "      <td>London</td>\n",
       "    </tr>\n",
       "    <tr>\n",
       "      <th>2</th>\n",
       "      <td>Bob</td>\n",
       "      <td>35</td>\n",
       "      <td>Paris</td>\n",
       "    </tr>\n",
       "  </tbody>\n",
       "</table>\n",
       "</div>"
      ],
      "text/plain": [
       "       0   1         2\n",
       "0   John  25  New York\n",
       "1  Alice  30    London\n",
       "2    Bob  35     Paris"
      ]
     },
     "execution_count": 14,
     "metadata": {},
     "output_type": "execute_result"
    }
   ],
   "source": [
    "#Creating a DataFrame with Lists\n",
    "data = [['John', 25, 'New York'],\n",
    "       ['Alice', 30, 'London'],\n",
    "       ['Bob', 35, 'Paris']]\n",
    "df = pd.DataFrame(data)\n",
    "df"
   ]
  },
  {
   "cell_type": "markdown",
   "id": "f018101e-d4e3-4a4d-b634-9db82660b518",
   "metadata": {},
   "source": [
    "<div style=\"background-color:gainsboro; padding:8px; border:2px dotted black; border-radius:8px; font-family:verdana; line-height: 1.7em\">\n",
    "• You can add column names for your DataFrame by adding columns parameter while creating DataFrame.\n",
    "</div>"
   ]
  },
  {
   "cell_type": "code",
   "execution_count": 15,
   "id": "974be9bf-a85e-4c3f-a4d6-1a8227a0a94c",
   "metadata": {},
   "outputs": [
    {
     "data": {
      "text/html": [
       "<div>\n",
       "<style scoped>\n",
       "    .dataframe tbody tr th:only-of-type {\n",
       "        vertical-align: middle;\n",
       "    }\n",
       "\n",
       "    .dataframe tbody tr th {\n",
       "        vertical-align: top;\n",
       "    }\n",
       "\n",
       "    .dataframe thead th {\n",
       "        text-align: right;\n",
       "    }\n",
       "</style>\n",
       "<table border=\"1\" class=\"dataframe\">\n",
       "  <thead>\n",
       "    <tr style=\"text-align: right;\">\n",
       "      <th></th>\n",
       "      <th>Name</th>\n",
       "      <th>Age</th>\n",
       "      <th>Country</th>\n",
       "    </tr>\n",
       "  </thead>\n",
       "  <tbody>\n",
       "    <tr>\n",
       "      <th>0</th>\n",
       "      <td>John</td>\n",
       "      <td>25</td>\n",
       "      <td>New York</td>\n",
       "    </tr>\n",
       "    <tr>\n",
       "      <th>1</th>\n",
       "      <td>Alice</td>\n",
       "      <td>30</td>\n",
       "      <td>London</td>\n",
       "    </tr>\n",
       "    <tr>\n",
       "      <th>2</th>\n",
       "      <td>Bob</td>\n",
       "      <td>35</td>\n",
       "      <td>Paris</td>\n",
       "    </tr>\n",
       "  </tbody>\n",
       "</table>\n",
       "</div>"
      ],
      "text/plain": [
       "    Name  Age   Country\n",
       "0   John   25  New York\n",
       "1  Alice   30    London\n",
       "2    Bob   35     Paris"
      ]
     },
     "execution_count": 15,
     "metadata": {},
     "output_type": "execute_result"
    }
   ],
   "source": [
    "#Creating a DataFrame with Column Names\n",
    "data = [['John', 25, 'New York'],\n",
    "       ['Alice', 30, 'London'],\n",
    "       ['Bob', 35, 'Paris']]\n",
    "df = pd.DataFrame(data, columns=[\"Name\",\"Age\",\"Country\"])\n",
    "df"
   ]
  },
  {
   "cell_type": "markdown",
   "id": "15082dd6-e8e7-4513-af26-9eacffb41ba6",
   "metadata": {},
   "source": [
    "<div style=\"background-color:gainsboro; padding:8px; border:2px dotted black; border-radius:8px; font-family:verdana; line-height: 1.7em\">\n",
    "• Sometimes we may want to create an empty DataFrame and then add data later. So, You can create an Empty DataFrame.\n",
    "</div>"
   ]
  },
  {
   "cell_type": "code",
   "execution_count": 16,
   "id": "bee5b5b7-91b1-4a7b-a87a-0052526eaee7",
   "metadata": {},
   "outputs": [
    {
     "data": {
      "text/html": [
       "<div>\n",
       "<style scoped>\n",
       "    .dataframe tbody tr th:only-of-type {\n",
       "        vertical-align: middle;\n",
       "    }\n",
       "\n",
       "    .dataframe tbody tr th {\n",
       "        vertical-align: top;\n",
       "    }\n",
       "\n",
       "    .dataframe thead th {\n",
       "        text-align: right;\n",
       "    }\n",
       "</style>\n",
       "<table border=\"1\" class=\"dataframe\">\n",
       "  <thead>\n",
       "    <tr style=\"text-align: right;\">\n",
       "      <th></th>\n",
       "    </tr>\n",
       "  </thead>\n",
       "  <tbody>\n",
       "  </tbody>\n",
       "</table>\n",
       "</div>"
      ],
      "text/plain": [
       "Empty DataFrame\n",
       "Columns: []\n",
       "Index: []"
      ]
     },
     "execution_count": 16,
     "metadata": {},
     "output_type": "execute_result"
    }
   ],
   "source": [
    "#Creating an Empty DataFrame\n",
    "df = pd.DataFrame()\n",
    "df"
   ]
  },
  {
   "cell_type": "markdown",
   "id": "8125b177-58de-4ee2-b1ba-741191feade3",
   "metadata": {},
   "source": [
    "\n",
    "\n",
    "<div style=\"background-color:gainsboro; padding:8px; border:2px dotted black; border-radius:8px; font-family:verdana; line-height: 1.7em\">\n",
    "• You can also create a DataFrame by loading data from a CSV (Comma Separated Values) File.\n",
    "<br>\n",
    "• We can also create a DataFrame using other file types like JSON, Excel spreadsheet, SQL database, etc.\n",
    "<br>\n",
    "• The methods to read different file types are listed below :\n",
    "<br>\n",
    "→ <strong>JSON</strong> - read_json()\n",
    "<br>\n",
    "→ <strong>Excel Spreadsheet</strong> - read_excel()\n",
    "<br>\n",
    "→ <strong>SQL</strong> - read_sql()\n",
    "<div style=\"background-color:#ADD8E6; padding:8px; border:1px solid #87CEEB; border-radius:4px;\">\n",
    "<strong>Note :</strong> If you have a large DataFrame with many rows, Pandas will not print the entire DataFrame, So you can use to_string() method to print the entire DataFrame.\n",
    "</div>\n",
    "</div>"
   ]
  },
  {
   "cell_type": "code",
   "execution_count": 17,
   "id": "163b0518-e34c-44ad-8d62-9429db2b45fe",
   "metadata": {},
   "outputs": [
    {
     "data": {
      "text/html": [
       "<div>\n",
       "<style scoped>\n",
       "    .dataframe tbody tr th:only-of-type {\n",
       "        vertical-align: middle;\n",
       "    }\n",
       "\n",
       "    .dataframe tbody tr th {\n",
       "        vertical-align: top;\n",
       "    }\n",
       "\n",
       "    .dataframe thead th {\n",
       "        text-align: right;\n",
       "    }\n",
       "</style>\n",
       "<table border=\"1\" class=\"dataframe\">\n",
       "  <thead>\n",
       "    <tr style=\"text-align: right;\">\n",
       "      <th></th>\n",
       "      <th>year</th>\n",
       "      <th>per_capita_income</th>\n",
       "    </tr>\n",
       "  </thead>\n",
       "  <tbody>\n",
       "    <tr>\n",
       "      <th>0</th>\n",
       "      <td>1970</td>\n",
       "      <td>3399.299037</td>\n",
       "    </tr>\n",
       "    <tr>\n",
       "      <th>1</th>\n",
       "      <td>1971</td>\n",
       "      <td>3768.297935</td>\n",
       "    </tr>\n",
       "    <tr>\n",
       "      <th>2</th>\n",
       "      <td>1972</td>\n",
       "      <td>4251.175484</td>\n",
       "    </tr>\n",
       "    <tr>\n",
       "      <th>3</th>\n",
       "      <td>1973</td>\n",
       "      <td>4804.463248</td>\n",
       "    </tr>\n",
       "    <tr>\n",
       "      <th>4</th>\n",
       "      <td>1974</td>\n",
       "      <td>5576.514583</td>\n",
       "    </tr>\n",
       "    <tr>\n",
       "      <th>5</th>\n",
       "      <td>1975</td>\n",
       "      <td>5998.144346</td>\n",
       "    </tr>\n",
       "    <tr>\n",
       "      <th>6</th>\n",
       "      <td>1976</td>\n",
       "      <td>7062.131392</td>\n",
       "    </tr>\n",
       "    <tr>\n",
       "      <th>7</th>\n",
       "      <td>1977</td>\n",
       "      <td>7100.126170</td>\n",
       "    </tr>\n",
       "    <tr>\n",
       "      <th>8</th>\n",
       "      <td>1978</td>\n",
       "      <td>7247.967035</td>\n",
       "    </tr>\n",
       "    <tr>\n",
       "      <th>9</th>\n",
       "      <td>1979</td>\n",
       "      <td>7602.912681</td>\n",
       "    </tr>\n",
       "    <tr>\n",
       "      <th>10</th>\n",
       "      <td>1980</td>\n",
       "      <td>8355.968120</td>\n",
       "    </tr>\n",
       "    <tr>\n",
       "      <th>11</th>\n",
       "      <td>1981</td>\n",
       "      <td>9434.390652</td>\n",
       "    </tr>\n",
       "    <tr>\n",
       "      <th>12</th>\n",
       "      <td>1982</td>\n",
       "      <td>9619.438377</td>\n",
       "    </tr>\n",
       "    <tr>\n",
       "      <th>13</th>\n",
       "      <td>1983</td>\n",
       "      <td>10416.536590</td>\n",
       "    </tr>\n",
       "    <tr>\n",
       "      <th>14</th>\n",
       "      <td>1984</td>\n",
       "      <td>10790.328720</td>\n",
       "    </tr>\n",
       "    <tr>\n",
       "      <th>15</th>\n",
       "      <td>1985</td>\n",
       "      <td>11018.955850</td>\n",
       "    </tr>\n",
       "    <tr>\n",
       "      <th>16</th>\n",
       "      <td>1986</td>\n",
       "      <td>11482.891530</td>\n",
       "    </tr>\n",
       "    <tr>\n",
       "      <th>17</th>\n",
       "      <td>1987</td>\n",
       "      <td>12974.806620</td>\n",
       "    </tr>\n",
       "    <tr>\n",
       "      <th>18</th>\n",
       "      <td>1988</td>\n",
       "      <td>15080.283450</td>\n",
       "    </tr>\n",
       "    <tr>\n",
       "      <th>19</th>\n",
       "      <td>1989</td>\n",
       "      <td>16426.725480</td>\n",
       "    </tr>\n",
       "    <tr>\n",
       "      <th>20</th>\n",
       "      <td>1990</td>\n",
       "      <td>16838.673200</td>\n",
       "    </tr>\n",
       "    <tr>\n",
       "      <th>21</th>\n",
       "      <td>1991</td>\n",
       "      <td>17266.097690</td>\n",
       "    </tr>\n",
       "    <tr>\n",
       "      <th>22</th>\n",
       "      <td>1992</td>\n",
       "      <td>16412.083090</td>\n",
       "    </tr>\n",
       "    <tr>\n",
       "      <th>23</th>\n",
       "      <td>1993</td>\n",
       "      <td>15875.586730</td>\n",
       "    </tr>\n",
       "    <tr>\n",
       "      <th>24</th>\n",
       "      <td>1994</td>\n",
       "      <td>15755.820270</td>\n",
       "    </tr>\n",
       "    <tr>\n",
       "      <th>25</th>\n",
       "      <td>1995</td>\n",
       "      <td>16369.317250</td>\n",
       "    </tr>\n",
       "    <tr>\n",
       "      <th>26</th>\n",
       "      <td>1996</td>\n",
       "      <td>16699.826680</td>\n",
       "    </tr>\n",
       "    <tr>\n",
       "      <th>27</th>\n",
       "      <td>1997</td>\n",
       "      <td>17310.757750</td>\n",
       "    </tr>\n",
       "    <tr>\n",
       "      <th>28</th>\n",
       "      <td>1998</td>\n",
       "      <td>16622.671870</td>\n",
       "    </tr>\n",
       "    <tr>\n",
       "      <th>29</th>\n",
       "      <td>1999</td>\n",
       "      <td>17581.024140</td>\n",
       "    </tr>\n",
       "    <tr>\n",
       "      <th>30</th>\n",
       "      <td>2000</td>\n",
       "      <td>18987.382410</td>\n",
       "    </tr>\n",
       "    <tr>\n",
       "      <th>31</th>\n",
       "      <td>2001</td>\n",
       "      <td>18601.397240</td>\n",
       "    </tr>\n",
       "    <tr>\n",
       "      <th>32</th>\n",
       "      <td>2002</td>\n",
       "      <td>19232.175560</td>\n",
       "    </tr>\n",
       "    <tr>\n",
       "      <th>33</th>\n",
       "      <td>2003</td>\n",
       "      <td>22739.426280</td>\n",
       "    </tr>\n",
       "    <tr>\n",
       "      <th>34</th>\n",
       "      <td>2004</td>\n",
       "      <td>25719.147150</td>\n",
       "    </tr>\n",
       "    <tr>\n",
       "      <th>35</th>\n",
       "      <td>2005</td>\n",
       "      <td>29198.055690</td>\n",
       "    </tr>\n",
       "    <tr>\n",
       "      <th>36</th>\n",
       "      <td>2006</td>\n",
       "      <td>32738.262900</td>\n",
       "    </tr>\n",
       "    <tr>\n",
       "      <th>37</th>\n",
       "      <td>2007</td>\n",
       "      <td>36144.481220</td>\n",
       "    </tr>\n",
       "    <tr>\n",
       "      <th>38</th>\n",
       "      <td>2008</td>\n",
       "      <td>37446.486090</td>\n",
       "    </tr>\n",
       "    <tr>\n",
       "      <th>39</th>\n",
       "      <td>2009</td>\n",
       "      <td>32755.176820</td>\n",
       "    </tr>\n",
       "    <tr>\n",
       "      <th>40</th>\n",
       "      <td>2010</td>\n",
       "      <td>38420.522890</td>\n",
       "    </tr>\n",
       "    <tr>\n",
       "      <th>41</th>\n",
       "      <td>2011</td>\n",
       "      <td>42334.711210</td>\n",
       "    </tr>\n",
       "    <tr>\n",
       "      <th>42</th>\n",
       "      <td>2012</td>\n",
       "      <td>42665.255970</td>\n",
       "    </tr>\n",
       "    <tr>\n",
       "      <th>43</th>\n",
       "      <td>2013</td>\n",
       "      <td>42676.468370</td>\n",
       "    </tr>\n",
       "    <tr>\n",
       "      <th>44</th>\n",
       "      <td>2014</td>\n",
       "      <td>41039.893600</td>\n",
       "    </tr>\n",
       "    <tr>\n",
       "      <th>45</th>\n",
       "      <td>2015</td>\n",
       "      <td>35175.188980</td>\n",
       "    </tr>\n",
       "    <tr>\n",
       "      <th>46</th>\n",
       "      <td>2016</td>\n",
       "      <td>34229.193630</td>\n",
       "    </tr>\n",
       "  </tbody>\n",
       "</table>\n",
       "</div>"
      ],
      "text/plain": [
       "    year  per_capita_income\n",
       "0   1970        3399.299037\n",
       "1   1971        3768.297935\n",
       "2   1972        4251.175484\n",
       "3   1973        4804.463248\n",
       "4   1974        5576.514583\n",
       "5   1975        5998.144346\n",
       "6   1976        7062.131392\n",
       "7   1977        7100.126170\n",
       "8   1978        7247.967035\n",
       "9   1979        7602.912681\n",
       "10  1980        8355.968120\n",
       "11  1981        9434.390652\n",
       "12  1982        9619.438377\n",
       "13  1983       10416.536590\n",
       "14  1984       10790.328720\n",
       "15  1985       11018.955850\n",
       "16  1986       11482.891530\n",
       "17  1987       12974.806620\n",
       "18  1988       15080.283450\n",
       "19  1989       16426.725480\n",
       "20  1990       16838.673200\n",
       "21  1991       17266.097690\n",
       "22  1992       16412.083090\n",
       "23  1993       15875.586730\n",
       "24  1994       15755.820270\n",
       "25  1995       16369.317250\n",
       "26  1996       16699.826680\n",
       "27  1997       17310.757750\n",
       "28  1998       16622.671870\n",
       "29  1999       17581.024140\n",
       "30  2000       18987.382410\n",
       "31  2001       18601.397240\n",
       "32  2002       19232.175560\n",
       "33  2003       22739.426280\n",
       "34  2004       25719.147150\n",
       "35  2005       29198.055690\n",
       "36  2006       32738.262900\n",
       "37  2007       36144.481220\n",
       "38  2008       37446.486090\n",
       "39  2009       32755.176820\n",
       "40  2010       38420.522890\n",
       "41  2011       42334.711210\n",
       "42  2012       42665.255970\n",
       "43  2013       42676.468370\n",
       "44  2014       41039.893600\n",
       "45  2015       35175.188980\n",
       "46  2016       34229.193630"
      ]
     },
     "execution_count": 17,
     "metadata": {},
     "output_type": "execute_result"
    }
   ],
   "source": [
    "#Creating a DataFrame by loading data from CSV\n",
    "df = pd.read_csv(\"canada_per_capita_income.csv\")\n",
    "df"
   ]
  },
  {
   "cell_type": "markdown",
   "id": "a40dc5a0-7b93-4820-9ba5-71d56b9afce2",
   "metadata": {},
   "source": [
    "<div style=\"background-color:gainsboro; padding:8px; border:2px dotted black; border-radius:8px; font-family:verdana; line-height: 1.7em\">\n",
    "<font color='#6a66bd' size=\"5px\">Pandas DataFrame Analysis</font>\n",
    "<br>\n",
    "<br>\n",
    "• Pandas DataFrame objects come with a variety of built-in functions like head(), tail() and info() that allow us to view and analyze DataFrames.\n",
    "</div>"
   ]
  },
  {
   "cell_type": "markdown",
   "id": "c2ab74ac-676e-4a2a-bb49-5b3228013cc3",
   "metadata": {},
   "source": [
    "<div style=\"background-color:gainsboro; padding:8px; border:2px dotted black; border-radius:8px; font-family:verdana; line-height: 1.7em\">\n",
    "<strong>Pandas head()</strong>\n",
    "<br>\n",
    "• One of the most used method for getting a quick overview of the DataFrame is the head() method.\n",
    "<br>\n",
    "• The head() method returns the headers and a specified number of rows, starting from the top.\n",
    "</div>"
   ]
  },
  {
   "cell_type": "code",
   "execution_count": 18,
   "id": "017e67bc-7379-4875-b882-a4fc7519574a",
   "metadata": {},
   "outputs": [
    {
     "data": {
      "text/html": [
       "<div>\n",
       "<style scoped>\n",
       "    .dataframe tbody tr th:only-of-type {\n",
       "        vertical-align: middle;\n",
       "    }\n",
       "\n",
       "    .dataframe tbody tr th {\n",
       "        vertical-align: top;\n",
       "    }\n",
       "\n",
       "    .dataframe thead th {\n",
       "        text-align: right;\n",
       "    }\n",
       "</style>\n",
       "<table border=\"1\" class=\"dataframe\">\n",
       "  <thead>\n",
       "    <tr style=\"text-align: right;\">\n",
       "      <th></th>\n",
       "      <th>year</th>\n",
       "      <th>per_capita_income</th>\n",
       "    </tr>\n",
       "  </thead>\n",
       "  <tbody>\n",
       "    <tr>\n",
       "      <th>0</th>\n",
       "      <td>1970</td>\n",
       "      <td>3399.299037</td>\n",
       "    </tr>\n",
       "    <tr>\n",
       "      <th>1</th>\n",
       "      <td>1971</td>\n",
       "      <td>3768.297935</td>\n",
       "    </tr>\n",
       "    <tr>\n",
       "      <th>2</th>\n",
       "      <td>1972</td>\n",
       "      <td>4251.175484</td>\n",
       "    </tr>\n",
       "    <tr>\n",
       "      <th>3</th>\n",
       "      <td>1973</td>\n",
       "      <td>4804.463248</td>\n",
       "    </tr>\n",
       "    <tr>\n",
       "      <th>4</th>\n",
       "      <td>1974</td>\n",
       "      <td>5576.514583</td>\n",
       "    </tr>\n",
       "  </tbody>\n",
       "</table>\n",
       "</div>"
      ],
      "text/plain": [
       "   year  per_capita_income\n",
       "0  1970        3399.299037\n",
       "1  1971        3768.297935\n",
       "2  1972        4251.175484\n",
       "3  1973        4804.463248\n",
       "4  1974        5576.514583"
      ]
     },
     "execution_count": 18,
     "metadata": {},
     "output_type": "execute_result"
    }
   ],
   "source": [
    "#head() prints only top 5 rows of DataFrame by default\n",
    "df.head()"
   ]
  },
  {
   "cell_type": "code",
   "execution_count": 19,
   "id": "a93efe5c-1f65-4668-99a5-bf4ecdb78f96",
   "metadata": {},
   "outputs": [
    {
     "data": {
      "text/html": [
       "<div>\n",
       "<style scoped>\n",
       "    .dataframe tbody tr th:only-of-type {\n",
       "        vertical-align: middle;\n",
       "    }\n",
       "\n",
       "    .dataframe tbody tr th {\n",
       "        vertical-align: top;\n",
       "    }\n",
       "\n",
       "    .dataframe thead th {\n",
       "        text-align: right;\n",
       "    }\n",
       "</style>\n",
       "<table border=\"1\" class=\"dataframe\">\n",
       "  <thead>\n",
       "    <tr style=\"text-align: right;\">\n",
       "      <th></th>\n",
       "      <th>year</th>\n",
       "      <th>per_capita_income</th>\n",
       "    </tr>\n",
       "  </thead>\n",
       "  <tbody>\n",
       "    <tr>\n",
       "      <th>0</th>\n",
       "      <td>1970</td>\n",
       "      <td>3399.299037</td>\n",
       "    </tr>\n",
       "    <tr>\n",
       "      <th>1</th>\n",
       "      <td>1971</td>\n",
       "      <td>3768.297935</td>\n",
       "    </tr>\n",
       "    <tr>\n",
       "      <th>2</th>\n",
       "      <td>1972</td>\n",
       "      <td>4251.175484</td>\n",
       "    </tr>\n",
       "    <tr>\n",
       "      <th>3</th>\n",
       "      <td>1973</td>\n",
       "      <td>4804.463248</td>\n",
       "    </tr>\n",
       "    <tr>\n",
       "      <th>4</th>\n",
       "      <td>1974</td>\n",
       "      <td>5576.514583</td>\n",
       "    </tr>\n",
       "    <tr>\n",
       "      <th>5</th>\n",
       "      <td>1975</td>\n",
       "      <td>5998.144346</td>\n",
       "    </tr>\n",
       "    <tr>\n",
       "      <th>6</th>\n",
       "      <td>1976</td>\n",
       "      <td>7062.131392</td>\n",
       "    </tr>\n",
       "    <tr>\n",
       "      <th>7</th>\n",
       "      <td>1977</td>\n",
       "      <td>7100.126170</td>\n",
       "    </tr>\n",
       "    <tr>\n",
       "      <th>8</th>\n",
       "      <td>1978</td>\n",
       "      <td>7247.967035</td>\n",
       "    </tr>\n",
       "    <tr>\n",
       "      <th>9</th>\n",
       "      <td>1979</td>\n",
       "      <td>7602.912681</td>\n",
       "    </tr>\n",
       "  </tbody>\n",
       "</table>\n",
       "</div>"
      ],
      "text/plain": [
       "   year  per_capita_income\n",
       "0  1970        3399.299037\n",
       "1  1971        3768.297935\n",
       "2  1972        4251.175484\n",
       "3  1973        4804.463248\n",
       "4  1974        5576.514583\n",
       "5  1975        5998.144346\n",
       "6  1976        7062.131392\n",
       "7  1977        7100.126170\n",
       "8  1978        7247.967035\n",
       "9  1979        7602.912681"
      ]
     },
     "execution_count": 19,
     "metadata": {},
     "output_type": "execute_result"
    }
   ],
   "source": [
    "#You can specify any number of rows in head() method to print it\n",
    "df.head(10)"
   ]
  },
  {
   "cell_type": "markdown",
   "id": "1078513d-7788-4f82-8440-e4d1dc7785f8",
   "metadata": {},
   "source": [
    "<div style=\"background-color:gainsboro; padding:8px; border:2px dotted black; border-radius:8px; font-family:verdana; line-height: 1.7em\">\n",
    "<strong>Pandas tail()</strong>\n",
    "<br>\n",
    "• There is also a tail() method for viewing the last rows of the DataFrame.\n",
    "<br>\n",
    "• The tail() method returns the headers and a specified number of rows, starting from the bottom.\n",
    "</div>"
   ]
  },
  {
   "cell_type": "code",
   "execution_count": 20,
   "id": "cdd1c9cc-f37e-4d6f-a7d7-8921903c3bcf",
   "metadata": {},
   "outputs": [
    {
     "data": {
      "text/html": [
       "<div>\n",
       "<style scoped>\n",
       "    .dataframe tbody tr th:only-of-type {\n",
       "        vertical-align: middle;\n",
       "    }\n",
       "\n",
       "    .dataframe tbody tr th {\n",
       "        vertical-align: top;\n",
       "    }\n",
       "\n",
       "    .dataframe thead th {\n",
       "        text-align: right;\n",
       "    }\n",
       "</style>\n",
       "<table border=\"1\" class=\"dataframe\">\n",
       "  <thead>\n",
       "    <tr style=\"text-align: right;\">\n",
       "      <th></th>\n",
       "      <th>year</th>\n",
       "      <th>per_capita_income</th>\n",
       "    </tr>\n",
       "  </thead>\n",
       "  <tbody>\n",
       "    <tr>\n",
       "      <th>42</th>\n",
       "      <td>2012</td>\n",
       "      <td>42665.25597</td>\n",
       "    </tr>\n",
       "    <tr>\n",
       "      <th>43</th>\n",
       "      <td>2013</td>\n",
       "      <td>42676.46837</td>\n",
       "    </tr>\n",
       "    <tr>\n",
       "      <th>44</th>\n",
       "      <td>2014</td>\n",
       "      <td>41039.89360</td>\n",
       "    </tr>\n",
       "    <tr>\n",
       "      <th>45</th>\n",
       "      <td>2015</td>\n",
       "      <td>35175.18898</td>\n",
       "    </tr>\n",
       "    <tr>\n",
       "      <th>46</th>\n",
       "      <td>2016</td>\n",
       "      <td>34229.19363</td>\n",
       "    </tr>\n",
       "  </tbody>\n",
       "</table>\n",
       "</div>"
      ],
      "text/plain": [
       "    year  per_capita_income\n",
       "42  2012        42665.25597\n",
       "43  2013        42676.46837\n",
       "44  2014        41039.89360\n",
       "45  2015        35175.18898\n",
       "46  2016        34229.19363"
      ]
     },
     "execution_count": 20,
     "metadata": {},
     "output_type": "execute_result"
    }
   ],
   "source": [
    "#tail() prints only bottom 5 rows of DataFrame by default\n",
    "df.tail()"
   ]
  },
  {
   "cell_type": "code",
   "execution_count": 21,
   "id": "87a46503-dad8-4652-b843-d33f137aebee",
   "metadata": {},
   "outputs": [
    {
     "data": {
      "text/html": [
       "<div>\n",
       "<style scoped>\n",
       "    .dataframe tbody tr th:only-of-type {\n",
       "        vertical-align: middle;\n",
       "    }\n",
       "\n",
       "    .dataframe tbody tr th {\n",
       "        vertical-align: top;\n",
       "    }\n",
       "\n",
       "    .dataframe thead th {\n",
       "        text-align: right;\n",
       "    }\n",
       "</style>\n",
       "<table border=\"1\" class=\"dataframe\">\n",
       "  <thead>\n",
       "    <tr style=\"text-align: right;\">\n",
       "      <th></th>\n",
       "      <th>year</th>\n",
       "      <th>per_capita_income</th>\n",
       "    </tr>\n",
       "  </thead>\n",
       "  <tbody>\n",
       "    <tr>\n",
       "      <th>37</th>\n",
       "      <td>2007</td>\n",
       "      <td>36144.48122</td>\n",
       "    </tr>\n",
       "    <tr>\n",
       "      <th>38</th>\n",
       "      <td>2008</td>\n",
       "      <td>37446.48609</td>\n",
       "    </tr>\n",
       "    <tr>\n",
       "      <th>39</th>\n",
       "      <td>2009</td>\n",
       "      <td>32755.17682</td>\n",
       "    </tr>\n",
       "    <tr>\n",
       "      <th>40</th>\n",
       "      <td>2010</td>\n",
       "      <td>38420.52289</td>\n",
       "    </tr>\n",
       "    <tr>\n",
       "      <th>41</th>\n",
       "      <td>2011</td>\n",
       "      <td>42334.71121</td>\n",
       "    </tr>\n",
       "    <tr>\n",
       "      <th>42</th>\n",
       "      <td>2012</td>\n",
       "      <td>42665.25597</td>\n",
       "    </tr>\n",
       "    <tr>\n",
       "      <th>43</th>\n",
       "      <td>2013</td>\n",
       "      <td>42676.46837</td>\n",
       "    </tr>\n",
       "    <tr>\n",
       "      <th>44</th>\n",
       "      <td>2014</td>\n",
       "      <td>41039.89360</td>\n",
       "    </tr>\n",
       "    <tr>\n",
       "      <th>45</th>\n",
       "      <td>2015</td>\n",
       "      <td>35175.18898</td>\n",
       "    </tr>\n",
       "    <tr>\n",
       "      <th>46</th>\n",
       "      <td>2016</td>\n",
       "      <td>34229.19363</td>\n",
       "    </tr>\n",
       "  </tbody>\n",
       "</table>\n",
       "</div>"
      ],
      "text/plain": [
       "    year  per_capita_income\n",
       "37  2007        36144.48122\n",
       "38  2008        37446.48609\n",
       "39  2009        32755.17682\n",
       "40  2010        38420.52289\n",
       "41  2011        42334.71121\n",
       "42  2012        42665.25597\n",
       "43  2013        42676.46837\n",
       "44  2014        41039.89360\n",
       "45  2015        35175.18898\n",
       "46  2016        34229.19363"
      ]
     },
     "execution_count": 21,
     "metadata": {},
     "output_type": "execute_result"
    }
   ],
   "source": [
    "#You can specify any number of rows in tail() method to print it\n",
    "df.tail(10)"
   ]
  },
  {
   "cell_type": "markdown",
   "id": "cd177d1b-1204-4046-b7d0-4ede7df0db0c",
   "metadata": {},
   "source": [
    "\n",
    "\n",
    "<div style=\"background-color:gainsboro; padding:8px; border:2px dotted black; border-radius:8px; font-family:verdana; line-height: 1.7em\">\n",
    "<strong>Pandas info()</strong>\n",
    "<br>\n",
    "• The DataFrame object has a method called info(), that gives you the overall information about the DataFrame such as its class, data type, size etc.\n",
    "<br>\n",
    "• As you can see, the info() method provides the following information about a Pandas DataFrame :\n",
    "<br>\n",
    "→ <strong>Class :</strong> The class of the object which indicates that it is a pandas DataFrame.\n",
    "<br>\n",
    "→ <strong>RangeIndex :</strong> The index range of the DataFrame showing the starting and ending index values.\n",
    "<br>\n",
    "→ <strong>Data columns :</strong> The total number of columns in the DataFrame.\n",
    "<br>\n",
    "→ <strong>Column names :</strong> The names of the columns in the DataFrame.\n",
    "<br>\n",
    "→ <strong>Non-Null Count :</strong> The count of non-null values for each column.\n",
    "<br>\n",
    "→ <strong>Dtype :</strong> The data types of the Columns.\n",
    "<br>\n",
    "→ <strong>Memory usage :</strong> The memory usage of the DataFrame in bytes.\n",
    "</div>"
   ]
  },
  {
   "cell_type": "code",
   "execution_count": 22,
   "id": "6a3700a7-34e3-4994-a51b-da2dda73e319",
   "metadata": {},
   "outputs": [
    {
     "name": "stdout",
     "output_type": "stream",
     "text": [
      "<class 'pandas.core.frame.DataFrame'>\n",
      "RangeIndex: 47 entries, 0 to 46\n",
      "Data columns (total 2 columns):\n",
      " #   Column             Non-Null Count  Dtype  \n",
      "---  ------             --------------  -----  \n",
      " 0   year               47 non-null     int64  \n",
      " 1   per_capita_income  47 non-null     float64\n",
      "dtypes: float64(1), int64(1)\n",
      "memory usage: 884.0 bytes\n"
     ]
    }
   ],
   "source": [
    "#info() gives an overall information about the DataFrame\n",
    "df.info()"
   ]
  },
  {
   "cell_type": "markdown",
   "id": "4546b9e1-56a6-43ac-ab79-f553f2f1867a",
   "metadata": {},
   "source": [
    "<div style=\"background-color:gainsboro; padding:8px; border:2px dotted black; border-radius:8px; font-family:verdana; line-height: 1.7em\">\n",
    "<font color='#6a66bd' size=\"5px\">Pandas Summary Functions</font>\n",
    "<br>\n",
    "<br>\n",
    "• In pandas, summary functions are used to quickly obtain descriptive statistics or summaries of data within a DataFrame or Series.\n",
    "<br>\n",
    "• These functions provide insights into the data's distribution, central tendency and other key statistical measures. \n",
    "<br>\n",
    "• Here are some commonly used summary functions in Pandas :\n",
    "</div>"
   ]
  },
  {
   "cell_type": "markdown",
   "id": "7b7d7786-76fa-4bce-9fbf-dbd6e6b86c92",
   "metadata": {},
   "source": [
    "\n",
    "\n",
    "<div style=\"background-color:gainsboro; padding:8px; border:2px dotted black; border-radius:8px; font-family:verdana; line-height: 1.7em\">\n",
    "→ <strong>df.describe() :</strong> Generates descriptive statistics of numerical columns in the DataFrame such as count, mean, standard deviation, min, max and quartiles.\n",
    "<div style=\"background-color:#ADD8E6; padding:8px; border:1px solid #87CEEB; border-radius:4px;\">\n",
    "<strong>Note :</strong> You can specify describe method for any particular column in your DataFrame.\n",
    "</div>\n",
    "</div>"
   ]
  },
  {
   "cell_type": "code",
   "execution_count": 23,
   "id": "ecf0b444-3c11-4724-bd3b-04759a696aa4",
   "metadata": {},
   "outputs": [
    {
     "name": "stdout",
     "output_type": "stream",
     "text": [
      "              year  per_capita_income\n",
      "count    47.000000          47.000000\n",
      "mean   1993.000000       18920.137063\n",
      "std      13.711309       12034.679438\n",
      "min    1970.000000        3399.299037\n",
      "25%    1981.500000        9526.914515\n",
      "50%    1993.000000       16426.725480\n",
      "75%    2004.500000       27458.601420\n",
      "max    2016.000000       42676.468370\n"
     ]
    }
   ],
   "source": [
    "#Description of the DataFrame\n",
    "df = pd.read_csv(\"canada_per_capita_income.csv\")\n",
    "print(df.describe())"
   ]
  },
  {
   "cell_type": "code",
   "execution_count": 24,
   "id": "821cd364-a6d6-45a0-a3eb-000b91866a07",
   "metadata": {},
   "outputs": [
    {
     "name": "stdout",
     "output_type": "stream",
     "text": [
      "count       47.000000\n",
      "mean     18920.137063\n",
      "std      12034.679438\n",
      "min       3399.299037\n",
      "25%       9526.914515\n",
      "50%      16426.725480\n",
      "75%      27458.601420\n",
      "max      42676.468370\n",
      "Name: per_capita_income, dtype: float64\n"
     ]
    }
   ],
   "source": [
    "#Description of the DataFrame for a specific column\n",
    "print(df[\"per_capita_income\"].describe())"
   ]
  },
  {
   "cell_type": "markdown",
   "id": "674353db-aa23-479c-9539-1dc7c0dd83d0",
   "metadata": {},
   "source": [
    "\n",
    "\n",
    "<div style=\"background-color:gainsboro; padding:8px; border:2px dotted black; border-radius:8px; font-family:verdana; line-height: 1.7em\">\n",
    "→ <strong>df.shape :</strong> Returns a tuple representing the dimensionality (rows, columns) of the DataFrame.\n",
    "</div>"
   ]
  },
  {
   "cell_type": "code",
   "execution_count": 25,
   "id": "caf6aa78-54b8-4e33-a39e-b408c4042d88",
   "metadata": {},
   "outputs": [
    {
     "name": "stdout",
     "output_type": "stream",
     "text": [
      "(47, 2)\n"
     ]
    }
   ],
   "source": [
    "#Shape of the DataFrame\n",
    "print(df.shape)"
   ]
  },
  {
   "cell_type": "markdown",
   "id": "2c963cd2-d30c-48d6-85e2-a903a5cf9d8e",
   "metadata": {},
   "source": [
    "\n",
    "\n",
    "<div style=\"background-color:gainsboro; padding:8px; border:2px dotted black; border-radius:8px; font-family:verdana; line-height: 1.7em\">\n",
    "→ <strong>df.columns :</strong> Returns the column labels of the DataFrame.\n",
    "</div>"
   ]
  },
  {
   "cell_type": "code",
   "execution_count": 26,
   "id": "7179a937-cf0d-4d3e-928a-de4fff13e3c9",
   "metadata": {},
   "outputs": [
    {
     "name": "stdout",
     "output_type": "stream",
     "text": [
      "Index(['year', 'per_capita_income'], dtype='object')\n"
     ]
    }
   ],
   "source": [
    "#Columns of the DataFrame\n",
    "print(df.columns)"
   ]
  },
  {
   "cell_type": "markdown",
   "id": "b15ea960-8267-429a-8e1f-d27ef83ed915",
   "metadata": {},
   "source": [
    "\n",
    "\n",
    "<div style=\"background-color:gainsboro; padding:8px; border:2px dotted black; border-radius:8px; font-family:verdana; line-height: 1.7em\">\n",
    "→ <strong>df.dtypes :</strong> Returns the data types of each column in the DataFrame.\n",
    "</div>"
   ]
  },
  {
   "cell_type": "code",
   "execution_count": 27,
   "id": "c7bb62d3-a24a-4797-ab54-c6128e1a2035",
   "metadata": {},
   "outputs": [
    {
     "name": "stdout",
     "output_type": "stream",
     "text": [
      "year                   int64\n",
      "per_capita_income    float64\n",
      "dtype: object\n"
     ]
    }
   ],
   "source": [
    "#DataType of the Columns in the DataFrame\n",
    "print(df.dtypes)"
   ]
  },
  {
   "cell_type": "markdown",
   "id": "5483306f-3219-47c5-b356-99b36c44a8fb",
   "metadata": {},
   "source": [
    "\n",
    "\n",
    "<div style=\"background-color:gainsboro; padding:8px; border:2px dotted black; border-radius:8px; font-family:verdana; line-height: 1.7em\">\n",
    "→ <strong>df.count() :</strong> Returns the number of non-null observations for each column.\n",
    "<div style=\"background-color:#ADD8E6; padding:8px; border:1px solid #87CEEB; border-radius:4px;\">\n",
    "<strong>Note :</strong> You can specify count() method for any particular column in your DataFrame.\n",
    "</div>\n",
    "</div>"
   ]
  },
  {
   "cell_type": "code",
   "execution_count": 28,
   "id": "485fdc39-413a-4ece-b24f-0a98010b3185",
   "metadata": {},
   "outputs": [
    {
     "name": "stdout",
     "output_type": "stream",
     "text": [
      "year                 47\n",
      "per_capita_income    47\n",
      "dtype: int64\n"
     ]
    }
   ],
   "source": [
    "#Count of the observations in all columns of the DataFrame\n",
    "print(df.count())"
   ]
  },
  {
   "cell_type": "code",
   "execution_count": 29,
   "id": "95d3c52f-90a5-480c-90f1-e6d63887fab5",
   "metadata": {},
   "outputs": [
    {
     "name": "stdout",
     "output_type": "stream",
     "text": [
      "47\n"
     ]
    }
   ],
   "source": [
    "#Count of the observation for a specific column of the DataFrame\n",
    "print(df[\"per_capita_income\"].count())"
   ]
  },
  {
   "cell_type": "markdown",
   "id": "3d52dd09-dcfb-4713-8200-2903fd33b667",
   "metadata": {},
   "source": [
    "\n",
    "\n",
    "<div style=\"background-color:gainsboro; padding:8px; border:2px dotted black; border-radius:8px; font-family:verdana; line-height: 1.7em\">\n",
    "→ <strong>df.isnull().sum() :</strong> Returns the number of null values in each column.\n",
    "<div style=\"background-color:#ADD8E6; padding:8px; border:1px solid #87CEEB; border-radius:4px;\">\n",
    "<strong>Note :</strong> You can specify isnull().sum() method for any particular column in your DataFrame.\n",
    "</div>\n",
    "</div>"
   ]
  },
  {
   "cell_type": "code",
   "execution_count": 30,
   "id": "edae0132-f6f9-4209-a8df-daa723af21d2",
   "metadata": {},
   "outputs": [
    {
     "name": "stdout",
     "output_type": "stream",
     "text": [
      "year                 0\n",
      "per_capita_income    0\n",
      "dtype: int64\n"
     ]
    }
   ],
   "source": [
    "#Number of null values in the DataFrame\n",
    "print(df.isnull().sum())"
   ]
  },
  {
   "cell_type": "code",
   "execution_count": 31,
   "id": "b76d777f-7e51-43fe-8ca2-3ea82a3fd967",
   "metadata": {},
   "outputs": [
    {
     "name": "stdout",
     "output_type": "stream",
     "text": [
      "0\n"
     ]
    }
   ],
   "source": [
    "#Number of null values in the DataFrame for a particular column\n",
    "print(df[\"per_capita_income\"].isnull().sum())"
   ]
  },
  {
   "cell_type": "markdown",
   "id": "22fba6a4-f4d4-4892-a7ee-1ac8152d9565",
   "metadata": {},
   "source": [
    "\n",
    "\n",
    "<div style=\"background-color:gainsboro; padding:8px; border:2px dotted black; border-radius:8px; font-family:verdana; line-height: 1.7em\">\n",
    "→ <strong>df.value_counts() :</strong> Returns a Series containing counts of unique values in descending order.\n",
    "</div>"
   ]
  },
  {
   "cell_type": "code",
   "execution_count": 32,
   "id": "35fede04-7443-4996-8b6c-d3ef83227cf6",
   "metadata": {},
   "outputs": [
    {
     "name": "stdout",
     "output_type": "stream",
     "text": [
      "year  per_capita_income\n",
      "1970  3399.299037          1\n",
      "2005  29198.055690         1\n",
      "1996  16699.826680         1\n",
      "1997  17310.757750         1\n",
      "1998  16622.671870         1\n",
      "1999  17581.024140         1\n",
      "2000  18987.382410         1\n",
      "2001  18601.397240         1\n",
      "2002  19232.175560         1\n",
      "2003  22739.426280         1\n",
      "2004  25719.147150         1\n",
      "2006  32738.262900         1\n",
      "1994  15755.820270         1\n",
      "2007  36144.481220         1\n",
      "2008  37446.486090         1\n",
      "2009  32755.176820         1\n",
      "2010  38420.522890         1\n",
      "2011  42334.711210         1\n",
      "2012  42665.255970         1\n",
      "2013  42676.468370         1\n",
      "2014  41039.893600         1\n",
      "2015  35175.188980         1\n",
      "1995  16369.317250         1\n",
      "1993  15875.586730         1\n",
      "1971  3768.297935          1\n",
      "1981  9434.390652          1\n",
      "1972  4251.175484          1\n",
      "1973  4804.463248          1\n",
      "1974  5576.514583          1\n",
      "1975  5998.144346          1\n",
      "1976  7062.131392          1\n",
      "1977  7100.126170          1\n",
      "1978  7247.967035          1\n",
      "1979  7602.912681          1\n",
      "1980  8355.968120          1\n",
      "1982  9619.438377          1\n",
      "1992  16412.083090         1\n",
      "1983  10416.536590         1\n",
      "1984  10790.328720         1\n",
      "1985  11018.955850         1\n",
      "1986  11482.891530         1\n",
      "1987  12974.806620         1\n",
      "1988  15080.283450         1\n",
      "1989  16426.725480         1\n",
      "1990  16838.673200         1\n",
      "1991  17266.097690         1\n",
      "2016  34229.193630         1\n",
      "Name: count, dtype: int64\n"
     ]
    }
   ],
   "source": [
    "#Count of the unique values of the data in DataFrame\n",
    "print(df.value_counts())"
   ]
  },
  {
   "cell_type": "markdown",
   "id": "923bce58-3140-4d13-988c-68d081196237",
   "metadata": {},
   "source": [
    "\n",
    "\n",
    "<div style=\"background-color:gainsboro; padding:8px; border:2px dotted black; border-radius:8px; font-family:verdana; line-height: 1.7em\">\n",
    "→ <strong>df.unique() :</strong> Returns an array of unique values found in a Series.\n",
    "</div>"
   ]
  },
  {
   "cell_type": "code",
   "execution_count": 33,
   "id": "36313941-be87-4499-9261-54e54d1e742d",
   "metadata": {},
   "outputs": [
    {
     "name": "stdout",
     "output_type": "stream",
     "text": [
      "[1970 1971 1972 1973 1974 1975 1976 1977 1978 1979 1980 1981 1982 1983\n",
      " 1984 1985 1986 1987 1988 1989 1990 1991 1992 1993 1994 1995 1996 1997\n",
      " 1998 1999 2000 2001 2002 2003 2004 2005 2006 2007 2008 2009 2010 2011\n",
      " 2012 2013 2014 2015 2016]\n"
     ]
    }
   ],
   "source": [
    "#Unique values of a specific column in a DataFrame\n",
    "print(df[\"year\"].unique())"
   ]
  },
  {
   "cell_type": "markdown",
   "id": "c0a90f95-c91e-4d73-b39c-ef44d25d49f3",
   "metadata": {},
   "source": [
    "<div style=\"background-color:gainsboro; padding:8px; border:2px dotted black; border-radius:8px; font-family:verdana; line-height: 1.7em\">\n",
    "<font color='#6a66bd' size=\"5px\">Pandas Index</font>\n",
    "<br>\n",
    "<br>\n",
    "• In Pandas, an index refers to the labeled array that identifies rows or columns in a DataFrame or a Series. \n",
    "<br>\n",
    "• We can use indexes to uniquely identify data and access data with efficiency and precision.\n",
    "</div>"
   ]
  },
  {
   "cell_type": "code",
   "execution_count": 34,
   "id": "e152227a-17a5-4ec8-9c73-2fe73dffc385",
   "metadata": {},
   "outputs": [
    {
     "data": {
      "text/plain": [
       "RangeIndex(start=0, stop=47, step=1)"
      ]
     },
     "execution_count": 34,
     "metadata": {},
     "output_type": "execute_result"
    }
   ],
   "source": [
    "#Index gives the start index and end index of the DataFrame\n",
    "df.index"
   ]
  },
  {
   "cell_type": "markdown",
   "id": "f0db295c-7cff-4598-92c0-0ac31b41bbef",
   "metadata": {},
   "source": [
    "<div style=\"background-color:gainsboro; padding:8px; border:2px dotted black; border-radius:8px; font-family:verdana; line-height: 1.7em\">\n",
    "<strong>Access Columns of a DataFrame</strong>\n",
    "<br>\n",
    "• We can access columns of a DataFrame using the bracket [] operator.\n",
    "</div>"
   ]
  },
  {
   "cell_type": "code",
   "execution_count": 35,
   "id": "1c9b4471-8237-425e-979c-79d873fa35f2",
   "metadata": {},
   "outputs": [
    {
     "data": {
      "text/plain": [
       "0      Alice\n",
       "1        Bob\n",
       "2    Charlie\n",
       "3      David\n",
       "4        Eve\n",
       "Name: Name, dtype: object"
      ]
     },
     "execution_count": 35,
     "metadata": {},
     "output_type": "execute_result"
    }
   ],
   "source": [
    "#Accessing Columns of the DataFrame\n",
    "data = {\n",
    "    'Name': ['Alice', 'Bob', 'Charlie', 'David', 'Eve'],\n",
    "    'Age': [25, 32, 18, 47, 33],\n",
    "    'City': ['New York', 'Paris', 'London', 'Tokyo', 'Sydney']\n",
    "}\n",
    "df = pd.DataFrame(data)\n",
    "df['Name']"
   ]
  },
  {
   "cell_type": "markdown",
   "id": "6fc63a17-d7f1-4d6f-b132-59aabe363769",
   "metadata": {},
   "source": [
    "<div style=\"background-color:gainsboro; padding:8px; border:2px dotted black; border-radius:8px; font-family:verdana; line-height: 1.7em\">\n",
    "• We can also access multiple columns using the [] operator.\n",
    "</div>"
   ]
  },
  {
   "cell_type": "code",
   "execution_count": 36,
   "id": "939f33ca-268f-4f8b-9c39-1f4c71aa8234",
   "metadata": {},
   "outputs": [
    {
     "data": {
      "text/html": [
       "<div>\n",
       "<style scoped>\n",
       "    .dataframe tbody tr th:only-of-type {\n",
       "        vertical-align: middle;\n",
       "    }\n",
       "\n",
       "    .dataframe tbody tr th {\n",
       "        vertical-align: top;\n",
       "    }\n",
       "\n",
       "    .dataframe thead th {\n",
       "        text-align: right;\n",
       "    }\n",
       "</style>\n",
       "<table border=\"1\" class=\"dataframe\">\n",
       "  <thead>\n",
       "    <tr style=\"text-align: right;\">\n",
       "      <th></th>\n",
       "      <th>Name</th>\n",
       "      <th>Age</th>\n",
       "    </tr>\n",
       "  </thead>\n",
       "  <tbody>\n",
       "    <tr>\n",
       "      <th>0</th>\n",
       "      <td>Alice</td>\n",
       "      <td>25</td>\n",
       "    </tr>\n",
       "    <tr>\n",
       "      <th>1</th>\n",
       "      <td>Bob</td>\n",
       "      <td>32</td>\n",
       "    </tr>\n",
       "    <tr>\n",
       "      <th>2</th>\n",
       "      <td>Charlie</td>\n",
       "      <td>18</td>\n",
       "    </tr>\n",
       "    <tr>\n",
       "      <th>3</th>\n",
       "      <td>David</td>\n",
       "      <td>47</td>\n",
       "    </tr>\n",
       "    <tr>\n",
       "      <th>4</th>\n",
       "      <td>Eve</td>\n",
       "      <td>33</td>\n",
       "    </tr>\n",
       "  </tbody>\n",
       "</table>\n",
       "</div>"
      ],
      "text/plain": [
       "      Name  Age\n",
       "0    Alice   25\n",
       "1      Bob   32\n",
       "2  Charlie   18\n",
       "3    David   47\n",
       "4      Eve   33"
      ]
     },
     "execution_count": 36,
     "metadata": {},
     "output_type": "execute_result"
    }
   ],
   "source": [
    "#Accessing Multiple Columns of the DataFrame\n",
    "df[['Name','Age']]"
   ]
  },
  {
   "cell_type": "markdown",
   "id": "28599715-44a6-4770-ac0d-690dfec696e1",
   "metadata": {},
   "source": [
    "\n",
    "\n",
    "<div style=\"background-color:gainsboro; padding:8px; border:2px dotted black; border-radius:8px; font-family:verdana; line-height: 1.7em\">\n",
    "<strong>Pandas .loc</strong>\n",
    "<br>\n",
    "• In Pandas, we use the .loc property to access and modify data within a DataFrame using label-based indexing.\n",
    "<br>\n",
    "• It allows us to select specific rows and columns based on their labels.\n",
    "<br>\n",
    "• The syntax of <code>.loc</code> in Pandas is : <code>df.loc[row_indexer, column_indexer]</code>\n",
    "<br>\n",
    "→ <strong>row_indexer -</strong> Selects rows by their labels and can be a single label, a list of labels or a boolean array.\n",
    "<br>\n",
    "→ <strong>column_indexer -</strong> Selects columns and can also be a single label, a list of labels or a boolean array.\n",
    "<div style=\"background-color:#ADD8E6; padding:8px; border:1px solid #87CEEB; border-radius:4px;\">\n",
    "<strong>Note :</strong> We used .loc to access a row, a list of rows, a list of columns and a specific value using the respective labels.\n",
    "</div>\n",
    "</div>"
   ]
  },
  {
   "cell_type": "code",
   "execution_count": 37,
   "id": "327b1a47-273d-47e4-ab83-493f2c5ae763",
   "metadata": {},
   "outputs": [
    {
     "data": {
      "text/html": [
       "<div>\n",
       "<style scoped>\n",
       "    .dataframe tbody tr th:only-of-type {\n",
       "        vertical-align: middle;\n",
       "    }\n",
       "\n",
       "    .dataframe tbody tr th {\n",
       "        vertical-align: top;\n",
       "    }\n",
       "\n",
       "    .dataframe thead th {\n",
       "        text-align: right;\n",
       "    }\n",
       "</style>\n",
       "<table border=\"1\" class=\"dataframe\">\n",
       "  <thead>\n",
       "    <tr style=\"text-align: right;\">\n",
       "      <th></th>\n",
       "      <th>Name</th>\n",
       "      <th>Age</th>\n",
       "      <th>City</th>\n",
       "    </tr>\n",
       "  </thead>\n",
       "  <tbody>\n",
       "    <tr>\n",
       "      <th>0</th>\n",
       "      <td>Alice</td>\n",
       "      <td>25</td>\n",
       "      <td>New York</td>\n",
       "    </tr>\n",
       "    <tr>\n",
       "      <th>1</th>\n",
       "      <td>Bob</td>\n",
       "      <td>32</td>\n",
       "      <td>Paris</td>\n",
       "    </tr>\n",
       "    <tr>\n",
       "      <th>2</th>\n",
       "      <td>Charlie</td>\n",
       "      <td>18</td>\n",
       "      <td>London</td>\n",
       "    </tr>\n",
       "    <tr>\n",
       "      <th>3</th>\n",
       "      <td>David</td>\n",
       "      <td>47</td>\n",
       "      <td>Tokyo</td>\n",
       "    </tr>\n",
       "    <tr>\n",
       "      <th>4</th>\n",
       "      <td>Eve</td>\n",
       "      <td>33</td>\n",
       "      <td>Sydney</td>\n",
       "    </tr>\n",
       "  </tbody>\n",
       "</table>\n",
       "</div>"
      ],
      "text/plain": [
       "      Name  Age      City\n",
       "0    Alice   25  New York\n",
       "1      Bob   32     Paris\n",
       "2  Charlie   18    London\n",
       "3    David   47     Tokyo\n",
       "4      Eve   33    Sydney"
      ]
     },
     "execution_count": 37,
     "metadata": {},
     "output_type": "execute_result"
    }
   ],
   "source": [
    "#Creating a DataFrame\n",
    "data = {\n",
    "    'Name': ['Alice', 'Bob', 'Charlie', 'David', 'Eve'],\n",
    "    'Age': [25, 32, 18, 47, 33],\n",
    "    'City': ['New York', 'Paris', 'London', 'Tokyo', 'Sydney']\n",
    "}\n",
    "df = pd.DataFrame(data)\n",
    "df"
   ]
  },
  {
   "cell_type": "code",
   "execution_count": 38,
   "id": "defaab57-f703-4375-9294-cf8bfd082adf",
   "metadata": {},
   "outputs": [
    {
     "data": {
      "text/plain": [
       "Name       Alice\n",
       "Age           25\n",
       "City    New York\n",
       "Name: 0, dtype: object"
      ]
     },
     "execution_count": 38,
     "metadata": {},
     "output_type": "execute_result"
    }
   ],
   "source": [
    "#Accessing a Single Row\n",
    "df.loc[0]"
   ]
  },
  {
   "cell_type": "code",
   "execution_count": 39,
   "id": "4a0e53ae-8c25-4bd0-8e91-437fb8f3ba64",
   "metadata": {},
   "outputs": [
    {
     "data": {
      "text/html": [
       "<div>\n",
       "<style scoped>\n",
       "    .dataframe tbody tr th:only-of-type {\n",
       "        vertical-align: middle;\n",
       "    }\n",
       "\n",
       "    .dataframe tbody tr th {\n",
       "        vertical-align: top;\n",
       "    }\n",
       "\n",
       "    .dataframe thead th {\n",
       "        text-align: right;\n",
       "    }\n",
       "</style>\n",
       "<table border=\"1\" class=\"dataframe\">\n",
       "  <thead>\n",
       "    <tr style=\"text-align: right;\">\n",
       "      <th></th>\n",
       "      <th>Name</th>\n",
       "      <th>Age</th>\n",
       "      <th>City</th>\n",
       "    </tr>\n",
       "  </thead>\n",
       "  <tbody>\n",
       "    <tr>\n",
       "      <th>0</th>\n",
       "      <td>Alice</td>\n",
       "      <td>25</td>\n",
       "      <td>New York</td>\n",
       "    </tr>\n",
       "    <tr>\n",
       "      <th>3</th>\n",
       "      <td>David</td>\n",
       "      <td>47</td>\n",
       "      <td>Tokyo</td>\n",
       "    </tr>\n",
       "    <tr>\n",
       "      <th>4</th>\n",
       "      <td>Eve</td>\n",
       "      <td>33</td>\n",
       "      <td>Sydney</td>\n",
       "    </tr>\n",
       "  </tbody>\n",
       "</table>\n",
       "</div>"
      ],
      "text/plain": [
       "    Name  Age      City\n",
       "0  Alice   25  New York\n",
       "3  David   47     Tokyo\n",
       "4    Eve   33    Sydney"
      ]
     },
     "execution_count": 39,
     "metadata": {},
     "output_type": "execute_result"
    }
   ],
   "source": [
    "#Accessing Multiple Rows\n",
    "df.loc[[0, 3, 4]]"
   ]
  },
  {
   "cell_type": "code",
   "execution_count": 40,
   "id": "bf24da8b-6bde-4de6-be8d-6ec537eac598",
   "metadata": {},
   "outputs": [
    {
     "data": {
      "text/plain": [
       "Name    Alice\n",
       "Age        25\n",
       "Name: 0, dtype: object"
      ]
     },
     "execution_count": 40,
     "metadata": {},
     "output_type": "execute_result"
    }
   ],
   "source": [
    "#Accessing specific information from a index\n",
    "df.loc[0,['Name', 'Age']]"
   ]
  },
  {
   "cell_type": "code",
   "execution_count": 41,
   "id": "00ce6a5b-ac4e-46da-a93a-e5159fac7b4a",
   "metadata": {},
   "outputs": [
    {
     "data": {
      "text/html": [
       "<div>\n",
       "<style scoped>\n",
       "    .dataframe tbody tr th:only-of-type {\n",
       "        vertical-align: middle;\n",
       "    }\n",
       "\n",
       "    .dataframe tbody tr th {\n",
       "        vertical-align: top;\n",
       "    }\n",
       "\n",
       "    .dataframe thead th {\n",
       "        text-align: right;\n",
       "    }\n",
       "</style>\n",
       "<table border=\"1\" class=\"dataframe\">\n",
       "  <thead>\n",
       "    <tr style=\"text-align: right;\">\n",
       "      <th></th>\n",
       "      <th>Name</th>\n",
       "    </tr>\n",
       "  </thead>\n",
       "  <tbody>\n",
       "    <tr>\n",
       "      <th>0</th>\n",
       "      <td>Alice</td>\n",
       "    </tr>\n",
       "    <tr>\n",
       "      <th>1</th>\n",
       "      <td>Bob</td>\n",
       "    </tr>\n",
       "    <tr>\n",
       "      <th>2</th>\n",
       "      <td>Charlie</td>\n",
       "    </tr>\n",
       "    <tr>\n",
       "      <th>3</th>\n",
       "      <td>David</td>\n",
       "    </tr>\n",
       "    <tr>\n",
       "      <th>4</th>\n",
       "      <td>Eve</td>\n",
       "    </tr>\n",
       "  </tbody>\n",
       "</table>\n",
       "</div>"
      ],
      "text/plain": [
       "      Name\n",
       "0    Alice\n",
       "1      Bob\n",
       "2  Charlie\n",
       "3    David\n",
       "4      Eve"
      ]
     },
     "execution_count": 41,
     "metadata": {},
     "output_type": "execute_result"
    }
   ],
   "source": [
    "#Accessing all rows but only selective column\n",
    "df.loc[:,[\"Name\"]]"
   ]
  },
  {
   "cell_type": "code",
   "execution_count": 42,
   "id": "6e713531-2b1d-423e-a072-d8237a7822b4",
   "metadata": {},
   "outputs": [
    {
     "data": {
      "text/html": [
       "<div>\n",
       "<style scoped>\n",
       "    .dataframe tbody tr th:only-of-type {\n",
       "        vertical-align: middle;\n",
       "    }\n",
       "\n",
       "    .dataframe tbody tr th {\n",
       "        vertical-align: top;\n",
       "    }\n",
       "\n",
       "    .dataframe thead th {\n",
       "        text-align: right;\n",
       "    }\n",
       "</style>\n",
       "<table border=\"1\" class=\"dataframe\">\n",
       "  <thead>\n",
       "    <tr style=\"text-align: right;\">\n",
       "      <th></th>\n",
       "      <th>Name</th>\n",
       "      <th>Age</th>\n",
       "      <th>City</th>\n",
       "    </tr>\n",
       "  </thead>\n",
       "  <tbody>\n",
       "    <tr>\n",
       "      <th>1</th>\n",
       "      <td>Bob</td>\n",
       "      <td>32</td>\n",
       "      <td>Paris</td>\n",
       "    </tr>\n",
       "    <tr>\n",
       "      <th>3</th>\n",
       "      <td>David</td>\n",
       "      <td>47</td>\n",
       "      <td>Tokyo</td>\n",
       "    </tr>\n",
       "    <tr>\n",
       "      <th>4</th>\n",
       "      <td>Eve</td>\n",
       "      <td>33</td>\n",
       "      <td>Sydney</td>\n",
       "    </tr>\n",
       "  </tbody>\n",
       "</table>\n",
       "</div>"
      ],
      "text/plain": [
       "    Name  Age    City\n",
       "1    Bob   32   Paris\n",
       "3  David   47   Tokyo\n",
       "4    Eve   33  Sydney"
      ]
     },
     "execution_count": 42,
     "metadata": {},
     "output_type": "execute_result"
    }
   ],
   "source": [
    "#Conditionally Selecting Rows from DataFrame\n",
    "df.loc[df['Age'] > 30]"
   ]
  },
  {
   "cell_type": "markdown",
   "id": "7a0fe3ef-d848-44f3-8a1c-de2a0e86edbf",
   "metadata": {},
   "source": [
    "\n",
    "\n",
    "<div style=\"background-color:gainsboro; padding:8px; border:2px dotted black; border-radius:8px; font-family:verdana; line-height: 1.7em\">\n",
    "<strong>Pandas .iloc</strong>\n",
    "<br>\n",
    "• In Pandas, the .iloc property is used to access and modify data within a DataFrame using integer-based indexing. \n",
    "<br>\n",
    "• It allows us to select specific rows and columns based on their integer locations.\n",
    "<br>\n",
    "• The syntax of <code>.iloc</code> in Pandas is : <code>df.iloc[row_indexer, column_indexer]</code>\n",
    "<br>\n",
    "→ <strong>row_indexer -</strong> Selects rows by their integer location and can be a single integer, a list of integers or a boolean array.\n",
    "<br>\n",
    "→ <strong>column_indexer -</strong> Selects columns and can also be a single integer, a list of integers or a boolean array.\n",
    "<div style=\"background-color:#ADD8E6; padding:8px; border:1px solid #87CEEB; border-radius:4px;\">\n",
    "<strong>Note :</strong> iloc() does not support conditional selection of rows, like loc().\n",
    "</div>\n",
    "</div>"
   ]
  },
  {
   "cell_type": "code",
   "execution_count": 43,
   "id": "070789d7-a187-4e23-a7bc-6c244890d175",
   "metadata": {},
   "outputs": [
    {
     "data": {
      "text/html": [
       "<div>\n",
       "<style scoped>\n",
       "    .dataframe tbody tr th:only-of-type {\n",
       "        vertical-align: middle;\n",
       "    }\n",
       "\n",
       "    .dataframe tbody tr th {\n",
       "        vertical-align: top;\n",
       "    }\n",
       "\n",
       "    .dataframe thead th {\n",
       "        text-align: right;\n",
       "    }\n",
       "</style>\n",
       "<table border=\"1\" class=\"dataframe\">\n",
       "  <thead>\n",
       "    <tr style=\"text-align: right;\">\n",
       "      <th></th>\n",
       "      <th>Name</th>\n",
       "      <th>Age</th>\n",
       "      <th>City</th>\n",
       "    </tr>\n",
       "  </thead>\n",
       "  <tbody>\n",
       "    <tr>\n",
       "      <th>0</th>\n",
       "      <td>Alice</td>\n",
       "      <td>25</td>\n",
       "      <td>New York</td>\n",
       "    </tr>\n",
       "    <tr>\n",
       "      <th>1</th>\n",
       "      <td>Bob</td>\n",
       "      <td>32</td>\n",
       "      <td>Paris</td>\n",
       "    </tr>\n",
       "    <tr>\n",
       "      <th>2</th>\n",
       "      <td>Charlie</td>\n",
       "      <td>18</td>\n",
       "      <td>London</td>\n",
       "    </tr>\n",
       "    <tr>\n",
       "      <th>3</th>\n",
       "      <td>David</td>\n",
       "      <td>47</td>\n",
       "      <td>Tokyo</td>\n",
       "    </tr>\n",
       "    <tr>\n",
       "      <th>4</th>\n",
       "      <td>Eve</td>\n",
       "      <td>33</td>\n",
       "      <td>Sydney</td>\n",
       "    </tr>\n",
       "  </tbody>\n",
       "</table>\n",
       "</div>"
      ],
      "text/plain": [
       "      Name  Age      City\n",
       "0    Alice   25  New York\n",
       "1      Bob   32     Paris\n",
       "2  Charlie   18    London\n",
       "3    David   47     Tokyo\n",
       "4      Eve   33    Sydney"
      ]
     },
     "execution_count": 43,
     "metadata": {},
     "output_type": "execute_result"
    }
   ],
   "source": [
    "#Creating a DataFrame\n",
    "data = {\n",
    "    'Name': ['Alice', 'Bob', 'Charlie', 'David', 'Eve'],\n",
    "    'Age': [25, 32, 18, 47, 33],\n",
    "    'City': ['New York', 'Paris', 'London', 'Tokyo', 'Sydney']\n",
    "}\n",
    "df = pd.DataFrame(data)\n",
    "df"
   ]
  },
  {
   "cell_type": "code",
   "execution_count": 44,
   "id": "6740685c-af94-4980-911b-a726a808c976",
   "metadata": {},
   "outputs": [
    {
     "data": {
      "text/plain": [
       "Name       Alice\n",
       "Age           25\n",
       "City    New York\n",
       "Name: 0, dtype: object"
      ]
     },
     "execution_count": 44,
     "metadata": {},
     "output_type": "execute_result"
    }
   ],
   "source": [
    "#Accessing a Single Row\n",
    "df.iloc[0]"
   ]
  },
  {
   "cell_type": "code",
   "execution_count": 45,
   "id": "efd97a62-f2da-4c08-9bb5-220ba0cc0b14",
   "metadata": {},
   "outputs": [
    {
     "data": {
      "text/html": [
       "<div>\n",
       "<style scoped>\n",
       "    .dataframe tbody tr th:only-of-type {\n",
       "        vertical-align: middle;\n",
       "    }\n",
       "\n",
       "    .dataframe tbody tr th {\n",
       "        vertical-align: top;\n",
       "    }\n",
       "\n",
       "    .dataframe thead th {\n",
       "        text-align: right;\n",
       "    }\n",
       "</style>\n",
       "<table border=\"1\" class=\"dataframe\">\n",
       "  <thead>\n",
       "    <tr style=\"text-align: right;\">\n",
       "      <th></th>\n",
       "      <th>Name</th>\n",
       "      <th>Age</th>\n",
       "      <th>City</th>\n",
       "    </tr>\n",
       "  </thead>\n",
       "  <tbody>\n",
       "    <tr>\n",
       "      <th>0</th>\n",
       "      <td>Alice</td>\n",
       "      <td>25</td>\n",
       "      <td>New York</td>\n",
       "    </tr>\n",
       "    <tr>\n",
       "      <th>2</th>\n",
       "      <td>Charlie</td>\n",
       "      <td>18</td>\n",
       "      <td>London</td>\n",
       "    </tr>\n",
       "    <tr>\n",
       "      <th>4</th>\n",
       "      <td>Eve</td>\n",
       "      <td>33</td>\n",
       "      <td>Sydney</td>\n",
       "    </tr>\n",
       "  </tbody>\n",
       "</table>\n",
       "</div>"
      ],
      "text/plain": [
       "      Name  Age      City\n",
       "0    Alice   25  New York\n",
       "2  Charlie   18    London\n",
       "4      Eve   33    Sydney"
      ]
     },
     "execution_count": 45,
     "metadata": {},
     "output_type": "execute_result"
    }
   ],
   "source": [
    "#Accessing Multiple Rows\n",
    "df.iloc[[0,2,4]]"
   ]
  },
  {
   "cell_type": "code",
   "execution_count": 46,
   "id": "62db0ca2-9d61-499f-a00f-b0b976c9363e",
   "metadata": {},
   "outputs": [
    {
     "data": {
      "text/plain": [
       "'New York'"
      ]
     },
     "execution_count": 46,
     "metadata": {},
     "output_type": "execute_result"
    }
   ],
   "source": [
    "#Accessing specific information from a index\n",
    "df.iloc[0,2]"
   ]
  },
  {
   "cell_type": "code",
   "execution_count": 47,
   "id": "01418712-e642-4c3e-8d8a-e56f77fc31d5",
   "metadata": {},
   "outputs": [
    {
     "data": {
      "text/html": [
       "<div>\n",
       "<style scoped>\n",
       "    .dataframe tbody tr th:only-of-type {\n",
       "        vertical-align: middle;\n",
       "    }\n",
       "\n",
       "    .dataframe tbody tr th {\n",
       "        vertical-align: top;\n",
       "    }\n",
       "\n",
       "    .dataframe thead th {\n",
       "        text-align: right;\n",
       "    }\n",
       "</style>\n",
       "<table border=\"1\" class=\"dataframe\">\n",
       "  <thead>\n",
       "    <tr style=\"text-align: right;\">\n",
       "      <th></th>\n",
       "      <th>Name</th>\n",
       "      <th>City</th>\n",
       "    </tr>\n",
       "  </thead>\n",
       "  <tbody>\n",
       "    <tr>\n",
       "      <th>0</th>\n",
       "      <td>Alice</td>\n",
       "      <td>New York</td>\n",
       "    </tr>\n",
       "    <tr>\n",
       "      <th>1</th>\n",
       "      <td>Bob</td>\n",
       "      <td>Paris</td>\n",
       "    </tr>\n",
       "    <tr>\n",
       "      <th>2</th>\n",
       "      <td>Charlie</td>\n",
       "      <td>London</td>\n",
       "    </tr>\n",
       "    <tr>\n",
       "      <th>3</th>\n",
       "      <td>David</td>\n",
       "      <td>Tokyo</td>\n",
       "    </tr>\n",
       "    <tr>\n",
       "      <th>4</th>\n",
       "      <td>Eve</td>\n",
       "      <td>Sydney</td>\n",
       "    </tr>\n",
       "  </tbody>\n",
       "</table>\n",
       "</div>"
      ],
      "text/plain": [
       "      Name      City\n",
       "0    Alice  New York\n",
       "1      Bob     Paris\n",
       "2  Charlie    London\n",
       "3    David     Tokyo\n",
       "4      Eve    Sydney"
      ]
     },
     "execution_count": 47,
     "metadata": {},
     "output_type": "execute_result"
    }
   ],
   "source": [
    "#Accessing all rows but only selective column\n",
    "df.iloc[:,[0,2]]"
   ]
  },
  {
   "cell_type": "markdown",
   "id": "26912267-9003-4421-92ee-d90eb01ae8ef",
   "metadata": {},
   "source": [
    "\n",
    "\n",
    "<div style=\"background-color:gainsboro; padding:8px; border:2px dotted black; border-radius:8px; font-family:verdana; line-height: 1.7em\">\n",
    "<font color='#6a66bd' size=\"5px\">Create Indexes in Pandas</font>\n",
    "<br>\n",
    "<br>\n",
    "• Pandas offers several ways to create indexes. Some common methods are as follows :\n",
    "<br>\n",
    "→ Default Index\n",
    "<br>\n",
    "→ Setting Index\n",
    "<br>\n",
    "→ Creating a Range Index\n",
    "</div>"
   ]
  },
  {
   "cell_type": "markdown",
   "id": "6d544f44-f921-426a-9be0-37f1bbb2d204",
   "metadata": {},
   "source": [
    "<div style=\"background-color:gainsboro; padding:8px; border:2px dotted black; border-radius:8px; font-family:verdana; line-height: 1.7em\">\n",
    "<strong>Default Index</strong>\n",
    "<br>\n",
    "• When we create a DataFrame or Series without specifying an index explicitly, Pandas assigns a default integer index starting from 0.\n",
    "</div>"
   ]
  },
  {
   "cell_type": "code",
   "execution_count": 48,
   "id": "efc7d002-5bee-47e7-8d2a-16ec12e176c2",
   "metadata": {},
   "outputs": [
    {
     "name": "stdout",
     "output_type": "stream",
     "text": [
      "    Name  Age      City\n",
      "0   John   25  New York\n",
      "1  Alice   28    London\n",
      "2    Bob   32     Paris\n"
     ]
    }
   ],
   "source": [
    "#Creating DataFrame with default index\n",
    "data = {'Name': ['John', 'Alice', 'Bob'],\n",
    "        'Age': [25, 28, 32],\n",
    "        'City': ['New York', 'London', 'Paris']}\n",
    "df = pd.DataFrame(data)\n",
    "print(df)"
   ]
  },
  {
   "cell_type": "markdown",
   "id": "871d9131-10dd-4e8c-89b3-da6864cf1a21",
   "metadata": {},
   "source": [
    "<div style=\"background-color:gainsboro; padding:8px; border:2px dotted black; border-radius:8px; font-family:verdana; line-height: 1.7em\">\n",
    "<strong>Setting Index</strong>\n",
    "<br>\n",
    "• We can set an existing column as the index using the set_index() method.\n",
    "<div style=\"background-color:#ADD8E6; padding:8px; border:1px solid #87CEEB; border-radius:4px;\">\n",
    "<strong>Note :</strong> The inplace=True parameter performs the operation directly on the object itself, without creating a new object.\n",
    "</div>\n",
    "<div style=\"background-color:#ADD8E6; padding:8px; border:1px solid #87CEEB; border-radius:4px;\">\n",
    "<strong>Note :</strong>  When we specify inplace=True, the original object is modified and the changes are directly applied.\n",
    "</div>\n",
    "</div>"
   ]
  },
  {
   "cell_type": "code",
   "execution_count": 49,
   "id": "0721bb3d-2c2b-4dc9-9555-20ea6492fa0f",
   "metadata": {},
   "outputs": [
    {
     "name": "stdout",
     "output_type": "stream",
     "text": [
      "       Age      City\n",
      "Name                \n",
      "John    25  New York\n",
      "Alice   28    London\n",
      "Bob     32     Paris\n"
     ]
    }
   ],
   "source": [
    "#Using Name Column as index in DataFrame\n",
    "data = {'Name': ['John', 'Alice', 'Bob'],\n",
    "        'Age': [25, 28, 32],\n",
    "        'City': ['New York', 'London', 'Paris']}\n",
    "df = pd.DataFrame(data)\n",
    "df.set_index('Name', inplace=True)\n",
    "print(df)"
   ]
  },
  {
   "cell_type": "markdown",
   "id": "64642988-d91b-4c56-9bed-93b8a0f905a5",
   "metadata": {},
   "source": [
    "<div style=\"background-color:gainsboro; padding:8px; border:2px dotted black; border-radius:8px; font-family:verdana; line-height: 1.7em\">\n",
    "<strong>Creating a Range Index</strong>\n",
    "<br>\n",
    "• We can create a range index with specific start and end values using the RangeIndex() function.\n",
    "</div>"
   ]
  },
  {
   "cell_type": "code",
   "execution_count": 50,
   "id": "504281e9-4235-4260-89a0-c813ece13061",
   "metadata": {},
   "outputs": [
    {
     "name": "stdout",
     "output_type": "stream",
     "text": [
      "        Name  Age      City\n",
      "Index                      \n",
      "1       John   25  New York\n",
      "2      Alice   28    London\n",
      "3        Bob   32     Paris\n"
     ]
    }
   ],
   "source": [
    "#Creating a DataFrame with index defined as range\n",
    "data = {'Name': ['John', 'Alice', 'Bob'],\n",
    "        'Age': [25, 28, 32],\n",
    "        'City': ['New York', 'London', 'Paris']}\n",
    "df = pd.DataFrame(data)\n",
    "df = pd.DataFrame(data, index=pd.RangeIndex(1, 4, name='Index'))\n",
    "print(df)"
   ]
  },
  {
   "cell_type": "markdown",
   "id": "21ade191-9284-4665-8e8c-11fb035fdf2f",
   "metadata": {},
   "source": [
    "\n",
    "\n",
    "<div style=\"background-color:gainsboro; padding:8px; border:2px dotted black; border-radius:8px; font-family:verdana; line-height: 1.7em\">\n",
    "<font color='#6a66bd' size=\"5px\">Modifying Indexes in Pandas</font>\n",
    "<br>\n",
    "<br>\n",
    "• Pandas allows us to make changes to indexes easily. Some common modification operations are :\n",
    "<br>\n",
    "→ Renaming Index\n",
    "<br>\n",
    "→ Resetting Index\n",
    "</div>"
   ]
  },
  {
   "cell_type": "markdown",
   "id": "358be291-627b-4e07-ad53-16449ca7ba76",
   "metadata": {},
   "source": [
    "<div style=\"background-color:gainsboro; padding:8px; border:2px dotted black; border-radius:8px; font-family:verdana; line-height: 1.7em\">\n",
    "<strong>Renaming Index</strong>\n",
    "<br>\n",
    "• We can rename an index using the rename() method.\n",
    "</div>"
   ]
  },
  {
   "cell_type": "code",
   "execution_count": 51,
   "id": "b398574c-caa0-4533-a642-ef7265e63dda",
   "metadata": {},
   "outputs": [
    {
     "name": "stdout",
     "output_type": "stream",
     "text": [
      "Original DataFrame ↓\n",
      "    Name  Age      City\n",
      "0   John   25  New York\n",
      "1  Alice   28    London\n",
      "2    Bob   32     Paris\n",
      "\n",
      "Modified DataFrame ↓\n",
      "    Name  Age      City\n",
      "A   John   25  New York\n",
      "B  Alice   28    London\n",
      "C    Bob   32     Paris\n"
     ]
    }
   ],
   "source": [
    "#Renaming the index value of the DataFrame\n",
    "data = {'Name': ['John', 'Alice', 'Bob'],\n",
    "        'Age': [25, 28, 32],\n",
    "        'City': ['New York', 'London', 'Paris']}\n",
    "df = pd.DataFrame(data)\n",
    "print('Original DataFrame ↓')\n",
    "print(df)\n",
    "\n",
    "print()\n",
    "\n",
    "df.rename(index={0: 'A', 1: 'B', 2: 'C'}, inplace=True)\n",
    "print('Modified DataFrame ↓')\n",
    "print(df)"
   ]
  },
  {
   "cell_type": "markdown",
   "id": "1d00dd96-29b3-4293-973b-5c3f3d5a036e",
   "metadata": {},
   "source": [
    "<div style=\"background-color:gainsboro; padding:8px; border:2px dotted black; border-radius:8px; font-family:verdana; line-height: 1.7em\">\n",
    "<strong>Resetting Index</strong>\n",
    "<br>\n",
    "We can reset the index to the default integer index using the reset_index() method. \n",
    "</div>"
   ]
  },
  {
   "cell_type": "code",
   "execution_count": 52,
   "id": "9112467b-b32c-46f7-8ff8-b65e47f90373",
   "metadata": {},
   "outputs": [
    {
     "name": "stdout",
     "output_type": "stream",
     "text": [
      "Original DataFrame ↓\n",
      "    Name  Age      City\n",
      "A   John   25  New York\n",
      "B  Alice   28    London\n",
      "C    Bob   32     Paris\n",
      "\n",
      "Modified DataFrame ↓\n",
      "  index   Name  Age      City\n",
      "0     A   John   25  New York\n",
      "1     B  Alice   28    London\n",
      "2     C    Bob   32     Paris\n"
     ]
    }
   ],
   "source": [
    "#Resetting the index of the DataFrame\n",
    "data = {'Name': ['John', 'Alice', 'Bob'],\n",
    "        'Age': [25, 28, 32],\n",
    "        'City': ['New York', 'London', 'Paris']}\n",
    "df = pd.DataFrame(data)\n",
    "df.rename(index={0: 'A', 1: 'B', 2: 'C'}, inplace=True)\n",
    "\n",
    "print('Original DataFrame ↓')\n",
    "print(df)\n",
    "\n",
    "print()\n",
    "\n",
    "df.reset_index(inplace=True)\n",
    "print('Modified DataFrame ↓')\n",
    "print(df)"
   ]
  },
  {
   "cell_type": "markdown",
   "id": "f20fa3ec-40e8-4772-a098-8a8284fdb4a0",
   "metadata": {},
   "source": [
    "\n",
    "\n",
    "<div style=\"background-color:gainsboro; padding:8px; border:2px dotted black; border-radius:8px; font-family:verdana; line-height: 1.7em\">\n",
    "<font color='#6a66bd' size=\"5px\">Pandas DataFrame Manipulation</font>\n",
    "<br>\n",
    "<br>\n",
    "• DataFrame manipulation in Pandas involves editing and modifying existing DataFrames. \n",
    "<br>\n",
    "• Some common DataFrame manipulation operations are :\n",
    "<br>\n",
    "→ Adding rows/columns\n",
    "<br>\n",
    "→ Removing rows/columns\n",
    "<br>\n",
    "→ Renaming rows/columns\n",
    "</div>"
   ]
  },
  {
   "cell_type": "markdown",
   "id": "26dab737-eeba-4ca3-a7c8-9ced7950e97d",
   "metadata": {},
   "source": [
    "<div style=\"background-color:gainsboro; padding:8px; border:2px dotted black; border-radius:8px; font-family:verdana; line-height: 1.7em\">\n",
    "<strong>Add a New Column to a Pandas DataFrame</strong>\n",
    "<br>\n",
    "• We can add a new column to an existing Pandas DataFrame by simply declaring a new list as a column.\n",
    "</div>"
   ]
  },
  {
   "cell_type": "code",
   "execution_count": 53,
   "id": "9074f9d1-3885-4e2e-8a6c-c2c3bb62b1d1",
   "metadata": {},
   "outputs": [
    {
     "name": "stdout",
     "output_type": "stream",
     "text": [
      "Original DataFrame ↓\n",
      "      Name  Height Qualification\n",
      "0     John     5.5           BSc\n",
      "1     Emma     6.0           BBA\n",
      "2  Michael     5.8           MBA\n",
      "3   Sophia     5.3           BSc\n",
      "\n",
      "Modified DataFrame ↓\n",
      "      Name  Height Qualification   Address\n",
      "0     John     5.5           BSc  New York\n",
      "1     Emma     6.0           BBA    London\n",
      "2  Michael     5.8           MBA    Sydney\n",
      "3   Sophia     5.3           BSc   Toronto\n"
     ]
    }
   ],
   "source": [
    "#Adding a new column in DataFrame\n",
    "data = {'Name': ['John', 'Emma', 'Michael', 'Sophia'],\n",
    "        'Height': [5.5, 6.0, 5.8, 5.3],\n",
    "        'Qualification': ['BSc', 'BBA', 'MBA', 'BSc']}\n",
    "df = pd.DataFrame(data)\n",
    "print(\"Original DataFrame ↓\")\n",
    "print(df)\n",
    "\n",
    "print()\n",
    "\n",
    "address = ['New York', 'London', 'Sydney', 'Toronto']\n",
    "df['Address'] = address\n",
    "print(\"Modified DataFrame ↓\")\n",
    "print(df)"
   ]
  },
  {
   "cell_type": "markdown",
   "id": "03231216-1b52-481b-a847-ac30e4c1aa99",
   "metadata": {},
   "source": [
    "<div style=\"background-color:gainsboro; padding:8px; border:2px dotted black; border-radius:8px; font-family:verdana; line-height: 1.7em\">\n",
    "<strong>Add a New Row to a Pandas DataFrame</strong>\n",
    "<br>\n",
    "• Adding rows to a DataFrame is not quite as straightforward as adding columns in Pandas.\n",
    "<br>\n",
    "• We use the .loc property to add a new row to a Pandas DataFrame.\n",
    "</div>"
   ]
  },
  {
   "cell_type": "code",
   "execution_count": 54,
   "id": "1ed208eb-fb8f-4a10-912b-cb6f13eab17e",
   "metadata": {},
   "outputs": [
    {
     "name": "stdout",
     "output_type": "stream",
     "text": [
      "Original DataFrame ↓\n",
      "      Name  Height Qualification\n",
      "0     John     5.5           BSc\n",
      "1     Emma     6.0           BBA\n",
      "2  Michael     5.8           MBA\n",
      "3   Sophia     5.3           BSc\n",
      "\n",
      "Modified DataFrame ↓\n",
      "      Name  Height Qualification\n",
      "0     John     5.5           BSc\n",
      "1     Emma     6.0           BBA\n",
      "2  Michael     5.8           MBA\n",
      "3   Sophia     5.3           BSc\n",
      "4      Amy     5.2           BIT\n"
     ]
    }
   ],
   "source": [
    "#Adding a new row in DataFrame\n",
    "data = {'Name': ['John', 'Emma', 'Michael', 'Sophia'],\n",
    "        'Height': [5.5, 6.0, 5.8, 5.3],\n",
    "        'Qualification': ['BSc', 'BBA', 'MBA', 'BSc']}\n",
    "df = pd.DataFrame(data)\n",
    "print(\"Original DataFrame ↓\")\n",
    "print(df)\n",
    "\n",
    "print()\n",
    "\n",
    "df.loc[len(df.index)] = ['Amy', 5.2, 'BIT'] \n",
    "print(\"Modified DataFrame ↓\")\n",
    "print(df)"
   ]
  },
  {
   "cell_type": "markdown",
   "id": "e1d67fca-d93b-4b91-925b-705cde36bfc8",
   "metadata": {},
   "source": [
    "<div style=\"background-color:gainsboro; padding:8px; border:2px dotted black; border-radius:8px; font-family:verdana; line-height: 1.7em\">\n",
    "<strong>Remove Rows/Columns from a Pandas DataFrame</strong>\n",
    "<br>\n",
    "• We can use drop() to delete rows and columns from a DataFrame.\n",
    "</div>"
   ]
  },
  {
   "cell_type": "code",
   "execution_count": 55,
   "id": "337704ae-6be4-4dd1-b7a6-b49f53ecb082",
   "metadata": {},
   "outputs": [
    {
     "name": "stdout",
     "output_type": "stream",
     "text": [
      "Original DataFrame ↓\n",
      "      Name  Age      City\n",
      "0    Alice   25  New York\n",
      "1      Bob   30    London\n",
      "2  Charlie   35     Paris\n",
      "3    David   40     Tokyo\n",
      "4   Felipe   22    Bogota\n",
      "5     Rita   29  Banglore\n",
      "\n",
      "Modified DataFrame ↓\n",
      "      Name  Age      City\n",
      "0    Alice   25  New York\n",
      "1      Bob   30    London\n",
      "2  Charlie   35     Paris\n",
      "3    David   40     Tokyo\n",
      "5     Rita   29  Banglore\n"
     ]
    }
   ],
   "source": [
    "#Removing a row from a DataFrame\n",
    "data = {'Name': ['Alice', 'Bob', 'Charlie', 'David', 'Felipe', 'Rita'],\n",
    "        'Age': [25, 30, 35, 40, 22, 29],\n",
    "        'City': ['New York', 'London', 'Paris', 'Tokyo', 'Bogota', 'Banglore']}\n",
    "df = pd.DataFrame(data)\n",
    "print(\"Original DataFrame ↓\")\n",
    "print(df)\n",
    "\n",
    "print()\n",
    "\n",
    "df.drop(4, axis=0, inplace=True)\n",
    "print(\"Modified DataFrame ↓\")\n",
    "print(df)"
   ]
  },
  {
   "cell_type": "code",
   "execution_count": 56,
   "id": "2833ca37-4f16-45ef-8687-03de6328fa9a",
   "metadata": {},
   "outputs": [
    {
     "name": "stdout",
     "output_type": "stream",
     "text": [
      "Original DataFrame ↓\n",
      "      Name  Age      City\n",
      "0    Alice   25  New York\n",
      "1      Bob   30    London\n",
      "2  Charlie   35     Paris\n",
      "3    David   40     Tokyo\n",
      "4   Felipe   22    Bogota\n",
      "5     Rita   29  Banglore\n",
      "\n",
      "Modified DataFrame ↓\n",
      "      Name      City\n",
      "0    Alice  New York\n",
      "1      Bob    London\n",
      "2  Charlie     Paris\n",
      "3    David     Tokyo\n",
      "4   Felipe    Bogota\n",
      "5     Rita  Banglore\n"
     ]
    }
   ],
   "source": [
    "#Removing a column from a DataFrame\n",
    "data = {'Name': ['Alice', 'Bob', 'Charlie', 'David', 'Felipe', 'Rita'],\n",
    "        'Age': [25, 30, 35, 40, 22, 29],\n",
    "        'City': ['New York', 'London', 'Paris', 'Tokyo', 'Bogota', 'Banglore']}\n",
    "df = pd.DataFrame(data)\n",
    "print(\"Original DataFrame ↓\")\n",
    "print(df)\n",
    "\n",
    "print()\n",
    "\n",
    "df.drop(\"Age\", axis=1, inplace=True)\n",
    "print(\"Modified DataFrame ↓\")\n",
    "print(df)"
   ]
  },
  {
   "cell_type": "markdown",
   "id": "e2223a40-01ec-4c4a-8f45-68d5ca66f2b5",
   "metadata": {},
   "source": [
    "<div style=\"background-color:gainsboro; padding:8px; border:2px dotted black; border-radius:8px; font-family:verdana; line-height: 1.7em\">\n",
    "<strong>Rename Labels in a DataFrame</strong>\n",
    "<br>\n",
    "• We can rename columns in a Pandas DataFrame using the rename() function.\n",
    "</div>"
   ]
  },
  {
   "cell_type": "code",
   "execution_count": 57,
   "id": "5c875402-0f2f-4ea8-9d05-4da9f4e42b64",
   "metadata": {},
   "outputs": [
    {
     "name": "stdout",
     "output_type": "stream",
     "text": [
      "Original DataFrame ↓\n",
      "      Name  Age      City\n",
      "0    Alice   25  New York\n",
      "1      Bob   30    London\n",
      "2  Charlie   35     Paris\n",
      "3    David   40     Tokyo\n",
      "\n",
      "Modified DataFrame ↓\n",
      "  First_Name  Number   Address\n",
      "0      Alice      25  New York\n",
      "1        Bob      30    London\n",
      "2    Charlie      35     Paris\n",
      "3      David      40     Tokyo\n"
     ]
    }
   ],
   "source": [
    "#Renaming Column Label of a DataFrame\n",
    "data = {'Name': ['Alice', 'Bob', 'Charlie', 'David'],\n",
    "        'Age': [25, 30, 35, 40],\n",
    "        'City': ['New York', 'London', 'Paris', 'Tokyo']}\n",
    "df = pd.DataFrame(data)\n",
    "print(\"Original DataFrame ↓\")\n",
    "print(df)\n",
    "\n",
    "print()\n",
    "\n",
    "df.rename(columns={'Name': 'First_Name', 'Age': 'Number', 'City':'Address'}, inplace=True)\n",
    "print(\"Modified DataFrame ↓\")\n",
    "print(df)"
   ]
  },
  {
   "cell_type": "code",
   "execution_count": 58,
   "id": "ed25e655-af77-4d46-be98-d084a968ac99",
   "metadata": {},
   "outputs": [
    {
     "name": "stdout",
     "output_type": "stream",
     "text": [
      "Original DataFrame ↓\n",
      "      Name  Age      City\n",
      "0    Alice   25  New York\n",
      "1      Bob   30    London\n",
      "2  Charlie   35     Paris\n",
      "3    David   40     Tokyo\n",
      "\n",
      "Modified DataFrame ↓\n",
      "        Name  Age      City\n",
      "100    Alice   25  New York\n",
      "200      Bob   30    London\n",
      "300  Charlie   35     Paris\n",
      "400    David   40     Tokyo\n"
     ]
    }
   ],
   "source": [
    "#Renaming Row Label of a DataFrame\n",
    "data = {'Name': ['Alice', 'Bob', 'Charlie', 'David'],\n",
    "        'Age': [25, 30, 35, 40],\n",
    "        'City': ['New York', 'London', 'Paris', 'Tokyo']}\n",
    "df = pd.DataFrame(data)\n",
    "print(\"Original DataFrame ↓\")\n",
    "print(df)\n",
    "\n",
    "print()\n",
    "\n",
    "df.rename(index={0: 100, 1: 200, 2: 300, 3: 400}, inplace=True)\n",
    "print(\"Modified DataFrame ↓\")\n",
    "print(df)"
   ]
  },
  {
   "cell_type": "markdown",
   "id": "f721a6c8-751a-456a-8847-a6decda97beb",
   "metadata": {},
   "source": [
    "<div style=\"background-color:gainsboro; padding:8px; border:2px dotted black; border-radius:8px; font-family:verdana; line-height: 1.7em\">\n",
    "<font color='#6a66bd' size=\"5px\">Pandas Select</font>\n",
    "<br>\n",
    "<br>\n",
    "• Pandas select refers to the process of extracting specific portions of data from a DataFrame.\n",
    "<br>\n",
    "• Data selection involves choosing specific rows and columns based on labels, positions or conditions.\n",
    "</div>"
   ]
  },
  {
   "cell_type": "markdown",
   "id": "db5e8178-ef11-42e0-8a5c-0997f7ff231e",
   "metadata": {},
   "source": [
    "<div style=\"background-color:gainsboro; padding:8px; border:2px dotted black; border-radius:8px; font-family:verdana; line-height: 1.7em\">\n",
    "<strong>Select Data Using Indexing and Slicing</strong>\n",
    "<br>\n",
    "• In Pandas, we can use square brackets and their labels or positions to select the data we want.\n",
    "</div>"
   ]
  },
  {
   "cell_type": "code",
   "execution_count": 59,
   "id": "6ccbb934-6ba4-45f7-810c-19339a23e685",
   "metadata": {},
   "outputs": [
    {
     "name": "stdout",
     "output_type": "stream",
     "text": [
      "Selecting single column : Name\n",
      "0      Alice\n",
      "1        Bob\n",
      "2    Charlie\n",
      "3      David\n",
      "4        Eve\n",
      "Name: Name, dtype: object\n",
      "\n",
      "Selecting multiple columns : Age and Salary\n",
      "   Age  Salary\n",
      "0   25   50000\n",
      "1   30   60000\n",
      "2   22   45000\n",
      "3   27   55000\n",
      "4   29   52000\n",
      "\n",
      "Selecting rows from 1 to 3\n",
      "      Name  Age  Salary\n",
      "1      Bob   30   60000\n",
      "2  Charlie   22   45000\n",
      "3    David   27   55000\n",
      "\n"
     ]
    }
   ],
   "source": [
    "#Select Data Using Indexing and Slicing\n",
    "data = {\n",
    "    'Name': ['Alice', 'Bob', 'Charlie', 'David', 'Eve'],\n",
    "    'Age': [25, 30, 22, 27, 29],\n",
    "    'Salary': [50000, 60000, 45000, 55000, 52000]\n",
    "}\n",
    "df = pd.DataFrame(data)\n",
    "print(\"Selecting single column : Name\")\n",
    "print(df[\"Name\"])\n",
    "\n",
    "print()\n",
    "\n",
    "print(\"Selecting multiple columns : Age and Salary\")\n",
    "print(df[[\"Age\",\"Salary\"]])\n",
    "\n",
    "print()\n",
    "\n",
    "print(\"Selecting rows from 1 to 3\")\n",
    "print(df[1:4])\n",
    "print()"
   ]
  },
  {
   "cell_type": "markdown",
   "id": "6a799f1b-0a12-43f4-9126-6c93c14fad5f",
   "metadata": {},
   "source": [
    "<div style=\"background-color:gainsboro; padding:8px; border:2px dotted black; border-radius:8px; font-family:verdana; line-height: 1.7em\">\n",
    "<strong>Select Rows Based on Specific Criteria</strong>\n",
    "<br>\n",
    "• In Pandas, we can use boolean conditions to filter rows based on specific criteria.\n",
    "</div>"
   ]
  },
  {
   "cell_type": "code",
   "execution_count": 60,
   "id": "0a4ad703-8d64-41f7-895d-660e47c39d79",
   "metadata": {},
   "outputs": [
    {
     "name": "stdout",
     "output_type": "stream",
     "text": [
      "    Name  Age Gender\n",
      "1    Bob   30   Male\n",
      "3  David   28   Male\n"
     ]
    }
   ],
   "source": [
    "#Select Rows Based on Specific Criteria\n",
    "data = {\n",
    "    'Name': ['Alice', 'Bob', 'Charlie', 'David', 'Emily'],\n",
    "    'Age': [25, 30, 22, 28, 24],\n",
    "    'Gender': ['Female', 'Male', 'Male', 'Male', 'Female']\n",
    "}\n",
    "df = pd.DataFrame(data)\n",
    "print(df[df['Age'] > 25])"
   ]
  },
  {
   "cell_type": "markdown",
   "id": "e8d0d16b-77d8-42e1-be37-e583c13c37bf",
   "metadata": {},
   "source": [
    "<div style=\"background-color:gainsboro; padding:8px; border:2px dotted black; border-radius:8px; font-family:verdana; line-height: 1.7em\">\n",
    "<strong>Select Data using query()</strong>\n",
    "<br>\n",
    "• The query() method in Pandas allows you to select data using a more SQL-like syntax.\n",
    "</div>"
   ]
  },
  {
   "cell_type": "code",
   "execution_count": 61,
   "id": "448b07d7-09d5-45b5-84ca-26d82f177890",
   "metadata": {},
   "outputs": [
    {
     "name": "stdout",
     "output_type": "stream",
     "text": [
      "    Name  Age  Score\n",
      "0  Alice   25     85\n",
      "1    Bob   30     90\n",
      "4    Eva   35     95\n"
     ]
    }
   ],
   "source": [
    "#Select Data using query()\n",
    "data = {\n",
    "    'Name': ['Alice', 'Bob', 'Charlie', 'David', 'Eva'],\n",
    "    'Age': [25, 30, 22, 28, 35],\n",
    "    'Score': [85, 90, 75, 80, 95]\n",
    "}\n",
    "df = pd.DataFrame(data)\n",
    "print(df.query(\"Score > 80\"))"
   ]
  },
  {
   "cell_type": "markdown",
   "id": "f68e1391-3e7f-49a8-91f8-54e7f37b39c9",
   "metadata": {},
   "source": [
    "<div style=\"background-color:gainsboro; padding:8px; border:2px dotted black; border-radius:8px; font-family:verdana; line-height: 1.7em\">\n",
    "<strong>Filter Data By Labels</strong>\n",
    "<br>\n",
    "• We can use the filter() function to select columns by their names or labels.\n",
    "</div>"
   ]
  },
  {
   "cell_type": "code",
   "execution_count": 62,
   "id": "8439ecad-1ae6-4653-90ca-4e57bcb5e265",
   "metadata": {},
   "outputs": [
    {
     "name": "stdout",
     "output_type": "stream",
     "text": [
      "      Name  Salary\n",
      "0    Alice   50000\n",
      "1      Bob   60000\n",
      "2  Charlie   55000\n",
      "3    David   70000\n"
     ]
    }
   ],
   "source": [
    "#Filter data by using filter() function\n",
    "data = {'Name': ['Alice', 'Bob', 'Charlie', 'David'],\n",
    "        'Department': ['HR', 'Marketing', 'Marketing', 'IT'],\n",
    "        'Salary': [50000, 60000, 55000, 70000]}\n",
    "df = pd.DataFrame(data)\n",
    "print(df.filter(items=['Name', 'Salary']))"
   ]
  },
  {
   "cell_type": "markdown",
   "id": "c3a8dd04-5f5c-4445-995d-91e653dfde42",
   "metadata": {},
   "source": [
    "<div style=\"background-color:gainsboro; padding:8px; border:2px dotted black; border-radius:8px; font-family:verdana; line-height: 1.7em\">\n",
    "<strong>Select Rows Based on a List of Values</strong>\n",
    "<br>\n",
    "• Pandas provides us with the method named isin() to filter rows based on a list of values.\n",
    "</div>"
   ]
  },
  {
   "cell_type": "code",
   "execution_count": 63,
   "id": "5949bf91-56b5-46d0-8350-af90770d08c7",
   "metadata": {},
   "outputs": [
    {
     "name": "stdout",
     "output_type": "stream",
     "text": [
      "    Name  Age\n",
      "1    Bob   30\n",
      "3  David   28\n"
     ]
    }
   ],
   "source": [
    "#Select Rows Based on a List of Values\n",
    "data = {\n",
    "    'Name': ['Alice', 'Bob', 'Charlie', 'David', 'Emily'],\n",
    "    'Age': [25, 30, 22, 28, 24]\n",
    "}\n",
    "df = pd.DataFrame(data)\n",
    "print(df[df['Name'].isin(['Bob', 'David'])])"
   ]
  },
  {
   "cell_type": "markdown",
   "id": "5eea6377-f80a-4c1b-b8e5-0b3f6dd67ddf",
   "metadata": {},
   "source": [
    "<div style=\"background-color:gainsboro; padding:8px; border:2px dotted black; border-radius:8px; font-family:verdana; line-height: 1.7em\">\n",
    "<font color='#6a66bd' size=\"5px\">Pandas MultiIndex</font>\n",
    "<br>\n",
    "<br>\n",
    "• A MultiIndex in Pandas is a hierarchical indexing structure that allows us to represent and work with higher-dimensional data efficiently.\n",
    "<br>\n",
    "• While a typical index refers to a single column, a MultiIndex contains multiple levels of indexes. \n",
    "<br>\n",
    "• Each column in a MultiIndex is linked to one another through a parent/relationship.\n",
    "</div>"
   ]
  },
  {
   "cell_type": "code",
   "execution_count": 64,
   "id": "32e44559-03fe-4033-bfa7-f82c700442af",
   "metadata": {},
   "outputs": [
    {
     "name": "stdout",
     "output_type": "stream",
     "text": [
      "       Continent         Country  Population\n",
      "0  North America   United States   331002651\n",
      "1         Europe         Germany    83783942\n",
      "2           Asia           China  1439323776\n",
      "3  North America          Canada    37742154\n",
      "4           Asia           Japan   126476461\n",
      "5         Europe          France    65273511\n",
      "6  North America          Mexico   128932753\n",
      "7           Asia           India  1380004385\n",
      "8         Europe  United Kingdom    67886011\n",
      "9           Asia           Nepal    29136808\n"
     ]
    }
   ],
   "source": [
    "#Creating a DataFrame\n",
    "data = {\n",
    "    \"Continent\": [\"North America\", \"Europe\", \"Asia\", \"North America\", \"Asia\", \"Europe\", \"North America\", \"Asia\", \"Europe\", \"Asia\"],\n",
    "    \"Country\": [\"United States\", \"Germany\", \"China\", \"Canada\", \"Japan\", \"France\", \"Mexico\", \"India\", \"United Kingdom\", \"Nepal\"],\n",
    "    \"Population\": [331002651, 83783942, 1439323776, 37742154, 126476461, 65273511, 128932753, 1380004385, 67886011, 29136808]\n",
    "}\n",
    "df = pd.DataFrame(data)\n",
    "print(df)"
   ]
  },
  {
   "attachments": {},
   "cell_type": "markdown",
   "id": "f12a522c-9fa4-470b-95dd-f9f4de7765fa",
   "metadata": {},
   "source": [
    "<div style=\"background-color:gainsboro; padding:8px; border:2px dotted black; border-radius:8px; font-family:verdana; line-height: 1.7em\">\n",
    "• Notice the redundancy in the Continent column. North America and Europe are repeated three times each while Asia is repeated four times.\n",
    "<br>\n",
    "• Additionally, we have arranged the entries in a random order and used integer values as index for the rows, thus complicating the task of locating data for a particular country. \n",
    "<br>\n",
    "• This task becomes tedious as the size of the data set grows.\n",
    "<br>\n",
    "• In situations like this, hierarchical indexing makes much more sense.\n",
    "</div>"
   ]
  },
  {
   "cell_type": "markdown",
   "id": "2fea9d6b-917f-41f9-b508-6296afc7ae64",
   "metadata": {},
   "source": [
    "<div style=\"background-color:gainsboro; padding:8px; border:2px dotted black; border-radius:8px; font-family:verdana; line-height: 1.7em\">\n",
    "<strong>Create MultiIndex in Pandas</strong>\n",
    "<br>\n",
    "• In Pandas, we achieve hierarchical indexing using the concept of MultiIndex.\n",
    "</div>"
   ]
  },
  {
   "cell_type": "code",
   "execution_count": 65,
   "id": "282ead78-ecc3-46df-b08b-8595a8856b14",
   "metadata": {},
   "outputs": [
    {
     "name": "stdout",
     "output_type": "stream",
     "text": [
      "                              Population\n",
      "Continent     Country                   \n",
      "Asia          China           1439323776\n",
      "              Japan            126476461\n",
      "              India           1380004385\n",
      "              Nepal             29136808\n",
      "Europe        Germany           83783942\n",
      "              France            65273511\n",
      "              United Kingdom    67886011\n",
      "North America United States    331002651\n",
      "              Canada            37742154\n",
      "              Mexico           128932753\n"
     ]
    }
   ],
   "source": [
    "#Creating a MultiIndex DataFrame \n",
    "data = {\n",
    "    \"Continent\": [\"North America\", \"Europe\", \"Asia\", \"North America\", \"Asia\", \"Europe\", \"North America\", \"Asia\", \"Europe\", \"Asia\"],\n",
    "    \"Country\": [\"United States\", \"Germany\", \"China\", \"Canada\", \"Japan\", \"France\", \"Mexico\", \"India\", \"United Kingdom\", \"Nepal\"],\n",
    "    \"Population\": [331002651, 83783942, 1439323776, 37742154, 126476461, 65273511, 128932753, 1380004385, 67886011, 29136808]\n",
    "}\n",
    "df = pd.DataFrame(data)\n",
    "df.sort_values('Continent', inplace=True)\n",
    "\n",
    "df.set_index(['Continent','Country'], inplace=True)\n",
    "\n",
    "print(df)"
   ]
  },
  {
   "cell_type": "markdown",
   "id": "5acd30e9-8dda-4b43-b77f-8d7de060a00b",
   "metadata": {},
   "source": [
    "<div style=\"background-color:gainsboro; padding:8px; border:2px dotted black; border-radius:8px; font-family:verdana; line-height: 1.7em\">\n",
    "• In the above example, we first sorted the values in the DataFrame based on the Continent column. This groups the entries of the same continent together.\n",
    "<br>\n",
    "• We then created a MultiIndex by passing a list of columns as an argument to the set_index() function.\n",
    "<br>\n",
    "• Notice the order of the columns in the list. Continent comes first as it is the parent column and Country comes second as it is the child of Continent.\n",
    "</div>"
   ]
  },
  {
   "cell_type": "markdown",
   "id": "96951a46-af09-4bad-8bad-63b158ae2306",
   "metadata": {},
   "source": [
    "<div style=\"background-color:gainsboro; padding:8px; border:2px dotted black; border-radius:8px; font-family:verdana; line-height: 1.7em\">\n",
    "<strong>Access Rows With MultiIndex</strong>\n",
    "<br>\n",
    "• We can access rows with MultiIndex by providing the full hierarchical index in the form of a tuple.\n",
    "</div>"
   ]
  },
  {
   "cell_type": "code",
   "execution_count": 66,
   "id": "cfa3f485-9054-42a5-ad47-bff0f2af4baf",
   "metadata": {},
   "outputs": [
    {
     "data": {
      "text/html": [
       "<div>\n",
       "<style scoped>\n",
       "    .dataframe tbody tr th:only-of-type {\n",
       "        vertical-align: middle;\n",
       "    }\n",
       "\n",
       "    .dataframe tbody tr th {\n",
       "        vertical-align: top;\n",
       "    }\n",
       "\n",
       "    .dataframe thead th {\n",
       "        text-align: right;\n",
       "    }\n",
       "</style>\n",
       "<table border=\"1\" class=\"dataframe\">\n",
       "  <thead>\n",
       "    <tr style=\"text-align: right;\">\n",
       "      <th></th>\n",
       "      <th>Population</th>\n",
       "    </tr>\n",
       "    <tr>\n",
       "      <th>Country</th>\n",
       "      <th></th>\n",
       "    </tr>\n",
       "  </thead>\n",
       "  <tbody>\n",
       "    <tr>\n",
       "      <th>China</th>\n",
       "      <td>1439323776</td>\n",
       "    </tr>\n",
       "    <tr>\n",
       "      <th>Japan</th>\n",
       "      <td>126476461</td>\n",
       "    </tr>\n",
       "    <tr>\n",
       "      <th>India</th>\n",
       "      <td>1380004385</td>\n",
       "    </tr>\n",
       "    <tr>\n",
       "      <th>Nepal</th>\n",
       "      <td>29136808</td>\n",
       "    </tr>\n",
       "  </tbody>\n",
       "</table>\n",
       "</div>"
      ],
      "text/plain": [
       "         Population\n",
       "Country            \n",
       "China    1439323776\n",
       "Japan     126476461\n",
       "India    1380004385\n",
       "Nepal      29136808"
      ]
     },
     "execution_count": 66,
     "metadata": {},
     "output_type": "execute_result"
    }
   ],
   "source": [
    "#Access only Continents\n",
    "df.loc['Asia']"
   ]
  },
  {
   "cell_type": "code",
   "execution_count": 67,
   "id": "c4d2de9c-9fb9-47ce-87a1-ce421d540c61",
   "metadata": {},
   "outputs": [
    {
     "data": {
      "text/plain": [
       "Population    1380004385\n",
       "Name: (Asia, India), dtype: int64"
      ]
     },
     "execution_count": 67,
     "metadata": {},
     "output_type": "execute_result"
    }
   ],
   "source": [
    "#Access Continents and Countries\n",
    "df.loc[('Asia','India')]"
   ]
  },
  {
   "cell_type": "markdown",
   "id": "bb3919fe-be3c-401c-bedc-abef405b0f55",
   "metadata": {},
   "source": [
    "<div style=\"background-color:gainsboro; padding:8px; border:2px dotted black; border-radius:8px; font-family:verdana; line-height: 1.7em\">\n",
    "<font color='#6a66bd' size=\"5px\">Pandas Reshape</font>\n",
    "<br>\n",
    "<br>\n",
    "• In Pandas, reshaping data refers to the process of converting a DataFrame from one format to another for better data visualization and analysis.\n",
    "</div>"
   ]
  },
  {
   "cell_type": "code",
   "execution_count": 68,
   "id": "86aeedd7-1e0c-4d76-a91d-39df302382e8",
   "metadata": {},
   "outputs": [
    {
     "name": "stdout",
     "output_type": "stream",
     "text": [
      "Original Dataframe ↓\n",
      "         Date Category  Value\n",
      "0  2023-08-01        A     10\n",
      "1  2023-08-01        B     20\n",
      "2  2023-08-02        A     30\n",
      "3  2023-08-02        B     40\n",
      "\n",
      "Reshaped DataFrame ↓\n",
      "Category     A   B\n",
      "Date              \n",
      "2023-08-01  10  20\n",
      "2023-08-02  30  40\n"
     ]
    }
   ],
   "source": [
    "#Reshape Data Using pivot()\n",
    "data = {'Date': ['2023-08-01', '2023-08-01', '2023-08-02', '2023-08-02'],\n",
    "        'Category': ['A', 'B', 'A', 'B'],\n",
    "        'Value': [10, 20, 30, 40]}\n",
    "df = pd.DataFrame(data)\n",
    "print(\"Original Dataframe ↓\")\n",
    "print(df)\n",
    "\n",
    "print()\n",
    "\n",
    "pivot_df = df.pivot(index='Date', columns='Category', values='Value')\n",
    "print(\"Reshaped DataFrame ↓\")\n",
    "print(pivot_df)"
   ]
  },
  {
   "cell_type": "markdown",
   "id": "5bf02346-3921-4996-90da-bfd99d130de5",
   "metadata": {},
   "source": [
    "\n",
    "\n",
    "<div style=\"background-color:gainsboro; padding:8px; border:2px dotted black; border-radius:8px; font-family:verdana; line-height: 1.7em\">\n",
    "<strong>Reshape Data Using pivot()</strong>\n",
    "<br>\n",
    "• In Pandas, the pivot() function reshapes data based on column values.\n",
    "<br>\n",
    "• It takes simple column-wise data as input and groups the entries into a two-dimensional table.\n",
    "<br>\n",
    "• We have to pass parameters index, columns and values to the pivot function,\n",
    "<br>\n",
    "→ <strong>index :</strong> specifies the column to be used as the index for the pivoted DataFrame.\n",
    "<br>\n",
    "→ <strong>columns :</strong> specifies the column whose unique values will become the new column headers.\n",
    "<br>\n",
    "→ <strong>values :</strong> specifies the column containing the values to be placed in the new columns.\n",
    "</div>"
   ]
  },
  {
   "cell_type": "markdown",
   "id": "ee4c857c-8f33-418f-a251-390a4e5819e7",
   "metadata": {},
   "source": [
    "<div style=\"background-color:gainsboro; padding:8px; border:2px dotted black; border-radius:8px; font-family:verdana; line-height: 1.7em\">\n",
    "<strong>pivot() for Multiple Values</strong>\n",
    "<br>\n",
    "• If we omit the values argument in pivot(), it selects all the remaining columns (besides the ones specified index and columns) as values for the pivot table.\n",
    "</div>"
   ]
  },
  {
   "cell_type": "code",
   "execution_count": 69,
   "id": "de0d2dca-9d4f-45e0-96ff-f60afe13bd8a",
   "metadata": {},
   "outputs": [
    {
     "name": "stdout",
     "output_type": "stream",
     "text": [
      "Original DataFrame ↓\n",
      "         Date         City  Temperature  Humidity\n",
      "0  2023-01-01     New York           32        80\n",
      "1  2023-01-01  Los Angeles           75        10\n",
      "2  2023-01-02     New York           30        85\n",
      "3  2023-01-02  Los Angeles           77         5\n",
      "\n",
      "Reshaped DataFrame ↓\n",
      "           Temperature             Humidity         \n",
      "City       Los Angeles New York Los Angeles New York\n",
      "Date                                                \n",
      "2023-01-01          75       32          10       80\n",
      "2023-01-02          77       30           5       85\n"
     ]
    }
   ],
   "source": [
    "#pivot() for multiple values\n",
    "data = {'Date': ['2023-01-01', '2023-01-01', '2023-01-02', '2023-01-02'],\n",
    "        'City': ['New York', 'Los Angeles', 'New York', 'Los Angeles'],\n",
    "        'Temperature': [32, 75, 30, 77],\n",
    "        'Humidity': [80, 10, 85, 5]}\n",
    "df = pd.DataFrame(data)\n",
    "print('Original DataFrame ↓')\n",
    "print(df)\n",
    "\n",
    "print()\n",
    "\n",
    "pivot_df = df.pivot(index='Date', columns='City')\n",
    "print('Reshaped DataFrame ↓')\n",
    "print(pivot_df)"
   ]
  },
  {
   "cell_type": "markdown",
   "id": "0e77e466-f23c-489f-aaa1-0074e60fe8da",
   "metadata": {},
   "source": [
    "<div style=\"background-color:gainsboro; padding:8px; border:2px dotted black; border-radius:8px; font-family:verdana; line-height: 1.7em\">\n",
    "<strong>Reshape Data Using pivot_table()</strong>\n",
    "<br>\n",
    "• The pivot_table() function in Pandas is a way for reshaping and summarizing data in a DataFrame.\n",
    "<br>\n",
    "• It allows us to create a pivot table that aggregates and summarizes data based on the specified index, columns and aggregation functions.\n",
    "</div>"
   ]
  },
  {
   "cell_type": "code",
   "execution_count": 70,
   "id": "36cfe326-95cf-4fae-bb78-1bd85916d6c1",
   "metadata": {},
   "outputs": [
    {
     "name": "stdout",
     "output_type": "stream",
     "text": [
      "Original Dataframe ↓\n",
      "  Category  Value\n",
      "0        A     10\n",
      "1        B     20\n",
      "2        A     30\n",
      "3        B     40\n",
      "4        A     50\n",
      "5        B     60\n",
      "\n",
      "Reshaped Dataframe ↓\n",
      "          Value\n",
      "Category       \n",
      "A          30.0\n",
      "B          40.0\n"
     ]
    }
   ],
   "source": [
    "#Reshape Data Using pivot_table()\n",
    "data = {'Category': ['A', 'B', 'A', 'B', 'A', 'B'],\n",
    "        'Value': [10, 20, 30, 40, 50, 60]}\n",
    "df = pd.DataFrame(data)\n",
    "print(\"Original Dataframe ↓\")\n",
    "print(df)\n",
    "\n",
    "print()\n",
    "\n",
    "pivot_table_df = df.pivot_table(index='Category', values='Value', aggfunc='mean')\n",
    "print(\"Reshaped Dataframe ↓\")\n",
    "print(pivot_table_df)"
   ]
  },
  {
   "cell_type": "markdown",
   "id": "d1446102-3726-4a17-8373-46ace95c5502",
   "metadata": {},
   "source": [
    "\n",
    "\n",
    "<div style=\"background-color:gainsboro; padding:8px; border:2px dotted black; border-radius:8px; font-family:verdana; line-height: 1.7em\">\n",
    "<strong>pivot_table() Syntax</strong>\n",
    "<br>\n",
    "• The syntax of pivot_table() in Pandas is :\n",
    "<br>\n",
    "<code>df.pivot_table(values=None, index=None, columns=None, aggfunc='mean', fill_value=None, dropna=True)</code>\n",
    "<br>\n",
    "→ <strong>index</strong> : the column to use as row labels.\n",
    "<br>\n",
    "→ <strong>columns</strong> : the column that will be reshaped as columns.\n",
    "<br>\n",
    "→ <strong>values</strong> : the column to use for the new DataFrame values.\n",
    "<br>\n",
    "→ <strong>aggfunc</strong> : the function to use for aggregation, defaulting to 'mean', other option such as 'sum', 'mean', 'count', 'max' and 'min'.\n",
    "<br>\n",
    "→ <strong>fill_value</strong> : value to replace missing values with.\n",
    "<br>\n",
    "→ <strong>dropna</strong> : whether to exclude the columns whose entries are all NaN.\n",
    "</div>"
   ]
  },
  {
   "cell_type": "markdown",
   "id": "b13eef49-190e-4de0-95a9-0f8a802caf20",
   "metadata": {},
   "source": [
    "<div style=\"background-color:gainsboro; padding:8px; border:2px dotted black; border-radius:8px; font-family:verdana; line-height: 1.7em\">\n",
    "<font color='#6a66bd' size=\"5px\">Pandas CSV</font>\n",
    "<br>\n",
    "<br>\n",
    "• Pandas provides functions for both reading from and writing to CSV files.\n",
    "<br>\n",
    "• CSV stands for Comma-Separated Values. \n",
    "<br>\n",
    "• It is a popular file format used for storing tabular data, where each row represents a record and columns are separated by a delimiter (generally a comma).\n",
    "</div>"
   ]
  },
  {
   "cell_type": "markdown",
   "id": "58d85dd3-7674-4f54-ae13-bc73bef76353",
   "metadata": {},
   "source": [
    "<div style=\"background-color:gainsboro; padding:8px; border:2px dotted black; border-radius:8px; font-family:verdana; line-height: 1.7em\">\n",
    "<strong>Read CSV Files</strong>\n",
    "<br>\n",
    "• In Pandas, the read_csv() function allows us to read data from a CSV file into a DataFrame. \n",
    "<br>\n",
    "• It automatically detects commas and parses the data into appropriate columns.\n",
    "</div>"
   ]
  },
  {
   "cell_type": "code",
   "execution_count": 71,
   "id": "5565f633-4210-47f0-8052-5e7ee6e9ffa7",
   "metadata": {},
   "outputs": [
    {
     "data": {
      "text/html": [
       "<div>\n",
       "<style scoped>\n",
       "    .dataframe tbody tr th:only-of-type {\n",
       "        vertical-align: middle;\n",
       "    }\n",
       "\n",
       "    .dataframe tbody tr th {\n",
       "        vertical-align: top;\n",
       "    }\n",
       "\n",
       "    .dataframe thead th {\n",
       "        text-align: right;\n",
       "    }\n",
       "</style>\n",
       "<table border=\"1\" class=\"dataframe\">\n",
       "  <thead>\n",
       "    <tr style=\"text-align: right;\">\n",
       "      <th></th>\n",
       "      <th>year</th>\n",
       "      <th>per_capita_income</th>\n",
       "    </tr>\n",
       "  </thead>\n",
       "  <tbody>\n",
       "    <tr>\n",
       "      <th>0</th>\n",
       "      <td>1970</td>\n",
       "      <td>3399.299037</td>\n",
       "    </tr>\n",
       "    <tr>\n",
       "      <th>1</th>\n",
       "      <td>1971</td>\n",
       "      <td>3768.297935</td>\n",
       "    </tr>\n",
       "    <tr>\n",
       "      <th>2</th>\n",
       "      <td>1972</td>\n",
       "      <td>4251.175484</td>\n",
       "    </tr>\n",
       "    <tr>\n",
       "      <th>3</th>\n",
       "      <td>1973</td>\n",
       "      <td>4804.463248</td>\n",
       "    </tr>\n",
       "    <tr>\n",
       "      <th>4</th>\n",
       "      <td>1974</td>\n",
       "      <td>5576.514583</td>\n",
       "    </tr>\n",
       "  </tbody>\n",
       "</table>\n",
       "</div>"
      ],
      "text/plain": [
       "   year  per_capita_income\n",
       "0  1970        3399.299037\n",
       "1  1971        3768.297935\n",
       "2  1972        4251.175484\n",
       "3  1973        4804.463248\n",
       "4  1974        5576.514583"
      ]
     },
     "execution_count": 71,
     "metadata": {},
     "output_type": "execute_result"
    }
   ],
   "source": [
    "#Reading a CSV File\n",
    "df = pd.read_csv(\"canada_per_capita_income.csv\")\n",
    "df.head()"
   ]
  },
  {
   "cell_type": "markdown",
   "id": "02009619-7619-4d41-ab05-8a5942fba7a0",
   "metadata": {},
   "source": [
    "\n",
    "\n",
    "<div style=\"background-color:gainsboro; padding:8px; border:2px dotted black; border-radius:8px; font-family:verdana; line-height: 1.7em\">\n",
    "<strong>read_csv() Syntax</strong>\n",
    "<br>\n",
    "• The syntax of read_csv() in Pandas is :\n",
    "<br>\n",
    "<code>df = pd.read_csv(\n",
    "    filepath_or_buffer,\n",
    "    sep=',',\n",
    "    header=0,\n",
    "    names=['col1', 'col2', 'col3'],\n",
    "    index_col='col1',\n",
    "    usecols=['col1', 'col3'],\n",
    "    skiprows=[1, 3],\n",
    "    nrows=100,\n",
    "    skipinitialspace=True\n",
    ")\n",
    "</code>\n",
    "→ <strong>filepath_or_buffer :</strong> represents the path or buffer object containing the CSV data to be read.\n",
    "<br>\n",
    "→ <strong>sep(optional) :</strong> specifies the delimiter used in the CSV file.\n",
    "<br>\n",
    "→ <strong>header(optional) :</strong> indicates the row number to be used as the header or column names.\n",
    "<br>\n",
    "→ <strong>names(optional) :</strong> a list of column names to assign to the DataFrame.\n",
    "<br>\n",
    "→ <strong>index_col(optional) :</strong> specifies the column to be used as the index of the DataFrame.\n",
    "<br>\n",
    "→ <strong>usecols(optional) :</strong> a list of columns to be read and included in the DataFrame.\n",
    "<br>\n",
    "→ <strong>skiprows(optional) :</strong> used to skip specific rows while reading the CSV file.\n",
    "<br>\n",
    "→ <strong>nrows(optional) :</strong> sets the maximum number of rows to be read from the CSV file.\n",
    "<br>\n",
    "→ <strong>skipinitialspace(optional) :</strong> determines whether to skip any whitespace after the delimiter in each field.\n",
    "</div>"
   ]
  },
  {
   "cell_type": "markdown",
   "id": "f4e4f41e-0228-420c-9a7d-121eabecbb33",
   "metadata": {},
   "source": [
    "<div style=\"background-color:gainsboro; padding:8px; border:2px dotted black; border-radius:8px; font-family:verdana; line-height: 1.7em\">\n",
    "<strong>Write to CSV Files</strong>\n",
    "<br>\n",
    "• We used read_csv() to read data from a CSV file into a DataFrame.\n",
    "<br>\n",
    "• Pandas also provides the to_csv() function to write data from a DataFrame into a CSV file.\n",
    "<div style=\"background-color:#ADD8E6; padding:8px; border:1px solid #87CEEB; border-radius:4px;\">\n",
    "<strong>Note :</strong> The index=False parameter is used to exclude the index labels from the CSV file.\n",
    "</div>\n",
    "</div>"
   ]
  },
  {
   "cell_type": "code",
   "execution_count": 72,
   "id": "3d5fd6a3-aa92-4273-8132-02ff056d0280",
   "metadata": {},
   "outputs": [],
   "source": [
    "#Writting a CSV File\n",
    "data = {'Name': ['John', 'Alice', 'Bob'],\n",
    "        'Age': [25, 30, 35],\n",
    "        'City': ['New York', 'London', 'Paris']}\n",
    "df = pd.DataFrame(data)\n",
    "df.to_csv('output.csv', index=False)"
   ]
  },
  {
   "cell_type": "markdown",
   "id": "256d3cb2-a5fa-46ea-be7b-2c9e8bf0b201",
   "metadata": {},
   "source": [
    "\n",
    "\n",
    "<div style=\"background-color:gainsboro; padding:8px; border:2px dotted black; border-radius:8px; font-family:verdana; line-height: 1.7em\">\n",
    "<strong>to_csv() Syntax</strong>\n",
    "<br>\n",
    "• The syntax of to_csv() in Pandas is :\n",
    "<br>\n",
    "<code>df.to_csv(\n",
    "    path_or_buf,\n",
    "    sep=',',\n",
    "    header=True,\n",
    "    index=False,\n",
    "    mode='w',\n",
    "    encoding=None,\n",
    "    quoting=None,\n",
    "    line_terminator='\\n',\n",
    ")\n",
    "</code>\n",
    "→ <strong>path_or_buf :</strong> represents the path or buffer object where the DataFrame will be saved as a CSV file.\n",
    "<br>\n",
    "→ <strong>sep(optional) :</strong> specifies the delimiter to be used in the output CSV file.\n",
    "<br>\n",
    "→ <strong>header(optional) :</strong> indicates whether to include the header row in the output CSV file.\n",
    "<br>\n",
    "→ <strong>index(optional) :</strong> determines whether to include the index column in the output CSV file.\n",
    "<br>\n",
    "→ <strong>mode(optional) :</strong> specifies the mode in which the output file will be opened.\n",
    "<br>\n",
    "→ <strong>encoding(optional) :</strong> sets the character encoding to be used when writing the CSV file.\n",
    "<br>\n",
    "→ <strong>quoting(optional) :</strong> determines the quoting behavior for fields that contain special characters.\n",
    "<br>\n",
    "→ <strong>line_terminator(optional) :</strong> specifies the character sequence used to terminate lines in the output CSV file.\n",
    "</div>"
   ]
  },
  {
   "cell_type": "markdown",
   "id": "c776556f-2f94-4a11-ba3a-bb581a6101ee",
   "metadata": {},
   "source": [
    "\n",
    "\n",
    "<div style=\"background-color:gainsboro; padding:8px; border:2px dotted black; border-radius:8px; font-family:verdana; line-height: 1.7em\">\n",
    "<font color='#6a66bd' size=\"5px\">Pandas Cleaning Data</font>\n",
    "<br>\n",
    "<br>\n",
    "• Data cleaning means fixing and organizing messy data. \n",
    "<br>\n",
    "• Pandas offers a wide range of tools and functions to help us clean and preprocess our data effectively.\n",
    "<br>\n",
    "• Data cleaning often involves :\n",
    "<br>\n",
    "→ Dropping irrelevant columns.\n",
    "<br>\n",
    "→ Renaming column names to meaningful names.\n",
    "<br>\n",
    "→ Making data values consistent.\n",
    "<br>\n",
    "→ Replacing or filling in missing values.\n",
    "</div>"
   ]
  },
  {
   "cell_type": "markdown",
   "id": "b0d6ac90-f3c3-4126-a4e8-b5611ca94247",
   "metadata": {},
   "source": [
    "<div style=\"background-color:gainsboro; padding:8px; border:2px dotted black; border-radius:8px; font-family:verdana; line-height: 1.7em\">\n",
    "<strong>Drop Rows With Missing Values</strong>\n",
    "<br>\n",
    "• In Pandas, we can drop rows with missing values using the dropna() function.\n",
    "</div>"
   ]
  },
  {
   "cell_type": "code",
   "execution_count": 73,
   "id": "22ffd1b9-c5e0-4f60-806c-295b35344fc2",
   "metadata": {},
   "outputs": [
    {
     "name": "stdout",
     "output_type": "stream",
     "text": [
      "Original Data ↓\n",
      "     A    B    C\n",
      "0  1.0  NaN  1.0\n",
      "1  2.0  2.0  2.0\n",
      "2  3.0  3.0  NaN\n",
      "3  NaN  4.0  NaN\n",
      "4  5.0  5.0  5.0\n",
      "\n",
      "Cleaned Data  ↓\n",
      "     A    B    C\n",
      "1  2.0  2.0  2.0\n",
      "4  5.0  5.0  5.0\n"
     ]
    }
   ],
   "source": [
    "#Dropping the NaN Values from the DataFrame\n",
    "data = {\n",
    "    'A': [1, 2, 3, None, 5],  \n",
    "    'B': [None, 2, 3, 4, 5],  \n",
    "    'C': [1, 2, None, None, 5]\n",
    "}\n",
    "df = pd.DataFrame(data)\n",
    "print(\"Original Data ↓\")\n",
    "print(df)\n",
    "\n",
    "print()\n",
    "\n",
    "df_cleaned = df.dropna()\n",
    "print(\"Cleaned Data  ↓\")\n",
    "print(df_cleaned)"
   ]
  },
  {
   "cell_type": "markdown",
   "id": "f71b8e26-0f25-4ef0-a720-74d0324419c3",
   "metadata": {},
   "source": [
    "<div style=\"background-color:gainsboro; padding:8px; border:2px dotted black; border-radius:8px; font-family:verdana; line-height: 1.7em\">\n",
    "<strong>Fill Missing Values</strong>\n",
    "<br>\n",
    "• To fill the missing values in Pandas, we use the fillna() function.\n",
    "<div style=\"background-color:#ADD8E6; padding:8px; border:1px solid #87CEEB; border-radius:4px;\">\n",
    "<strong>Note :</strong> While using agg function in fillna() method, remember to include [0] with mode() method like this <code>mode()[0]</code> to returns the most frequent value.\n",
    "</div>\n",
    "</div>"
   ]
  },
  {
   "cell_type": "code",
   "execution_count": 74,
   "id": "b6e791b6-dcfb-4e72-86b6-4b6ae2933c7f",
   "metadata": {},
   "outputs": [
    {
     "name": "stdout",
     "output_type": "stream",
     "text": [
      "Original Data ↓\n",
      "     A    B    C\n",
      "0  1.0  NaN  1.0\n",
      "1  2.0  2.0  2.0\n",
      "2  3.0  3.0  NaN\n",
      "3  NaN  4.0  NaN\n",
      "4  5.0  5.0  5.0\n",
      "\n",
      "Data after filling NaN with 0 ↓\n",
      "     A    B    C\n",
      "0  1.0  0.0  1.0\n",
      "1  2.0  2.0  2.0\n",
      "2  3.0  3.0  0.0\n",
      "3  0.0  4.0  0.0\n",
      "4  5.0  5.0  5.0\n"
     ]
    }
   ],
   "source": [
    "#Filling the missing Values\n",
    "data = {\n",
    "    'A': [1, 2, 3, None, 5],  \n",
    "    'B': [None, 2, 3, 4, 5],  \n",
    "    'C': [1, 2, None, None, 5]\n",
    "}\n",
    "df = pd.DataFrame(data)\n",
    "print(\"Original Data ↓\")\n",
    "print(df)\n",
    "\n",
    "print()\n",
    "\n",
    "df.fillna(0, inplace=True)\n",
    "print(\"Data after filling NaN with 0 ↓\")\n",
    "print(df)"
   ]
  },
  {
   "cell_type": "code",
   "execution_count": 75,
   "id": "1e1d71d8-5ac4-47d2-acd2-2592a3997530",
   "metadata": {},
   "outputs": [
    {
     "name": "stdout",
     "output_type": "stream",
     "text": [
      "Original Data ↓\n",
      "     A    B    C\n",
      "0  1.0  NaN  1.0\n",
      "1  2.0  2.0  2.0\n",
      "2  3.0  3.0  NaN\n",
      "3  NaN  4.0  NaN\n",
      "4  5.0  5.0  5.0\n",
      "\n",
      "Data after filling NaN with 0 ↓\n",
      "      A    B         C\n",
      "0  1.00  3.5  1.000000\n",
      "1  2.00  2.0  2.000000\n",
      "2  3.00  3.0  2.666667\n",
      "3  2.75  4.0  2.666667\n",
      "4  5.00  5.0  5.000000\n"
     ]
    }
   ],
   "source": [
    "#Filling the missing Values with aggregate functions\n",
    "data = {\n",
    "    'A': [1, 2, 3, None, 5],  \n",
    "    'B': [None, 2, 3, 4, 5],  \n",
    "    'C': [1, 2, None, None, 5]\n",
    "}\n",
    "df = pd.DataFrame(data)\n",
    "print(\"Original Data ↓\")\n",
    "print(df)\n",
    "\n",
    "print()\n",
    "\n",
    "df.fillna(df.mean(), inplace=True)\n",
    "print(\"Data after filling NaN with 0 ↓\")\n",
    "print(df)"
   ]
  },
  {
   "cell_type": "markdown",
   "id": "ffb1171c-8405-4f0d-b59e-fe532329234d",
   "metadata": {},
   "source": [
    "<div style=\"background-color:gainsboro; padding:8px; border:2px dotted black; border-radius:8px; font-family:verdana; line-height: 1.7em\">\n",
    "<strong>Pandas Handling Duplicate Values</strong>\n",
    "<br>\n",
    "• In large datasets, we often encounter duplicate entries in tables. These duplicate entries can throw off our analysis and skew the results.\n",
    "<br>\n",
    "• Pandas provides several methods to find and remove duplicate entries in DataFrames.\n",
    "<br>\n",
    "<br>\n",
    "<strong>Find Duplicate Entries</strong>\n",
    "<br>\n",
    "• We can find duplicate entries in a DataFrame using the duplicated() method. It returns True if a row is duplicated and returns False otherwise.\n",
    "</div>"
   ]
  },
  {
   "cell_type": "code",
   "execution_count": 76,
   "id": "fdd4fc61-ca78-42d6-b0cd-3397abd675c8",
   "metadata": {},
   "outputs": [
    {
     "name": "stdout",
     "output_type": "stream",
     "text": [
      "0    False\n",
      "1    False\n",
      "2     True\n",
      "3     True\n",
      "4    False\n",
      "dtype: bool\n"
     ]
    }
   ],
   "source": [
    "#Finding Duplicate Entries\n",
    "data = {\n",
    "    'Name': ['John', 'Anna', 'John', 'Anna', 'John'],\n",
    "    'Age': [28, 24, 28, 24, 19],\n",
    "    'City': ['New York', 'Los Angeles', 'New York', 'Los Angeles', 'Chicago']\n",
    "}\n",
    "df = pd.DataFrame(data)\n",
    "print(df.duplicated())"
   ]
  },
  {
   "cell_type": "code",
   "execution_count": 77,
   "id": "162b96dd-d056-4a96-b0ba-63ba0fc472e9",
   "metadata": {},
   "outputs": [
    {
     "name": "stdout",
     "output_type": "stream",
     "text": [
      "0    False\n",
      "1    False\n",
      "2    False\n",
      "3     True\n",
      "4    False\n",
      "dtype: bool\n"
     ]
    }
   ],
   "source": [
    "#Checking for duplicate entries in Name and Age Columns\n",
    "data = {\n",
    "    'Name': ['John', 'Anna', 'Johnny', 'Anna', 'John'],\n",
    "    'Age': [28, 24, 28, 24, 19],\n",
    "    'City': ['New York', 'Las Vegas', 'New York', 'Los Angeles', 'Chicago']\n",
    "}\n",
    "df = pd.DataFrame(data)\n",
    "print(df.duplicated(subset=['Name', 'Age']))"
   ]
  },
  {
   "cell_type": "markdown",
   "id": "3cf1e6f8-3cf6-40c3-a218-d480e9cfbcca",
   "metadata": {},
   "source": [
    "<div style=\"background-color:gainsboro; padding:8px; border:2px dotted black; border-radius:8px; font-family:verdana; line-height: 1.7em\">\n",
    "<strong>Remove Duplicate Entries</strong>\n",
    "<br>\n",
    "• We can remove duplicate entries in Pandas using the drop_duplicates() method.\n",
    "</div>"
   ]
  },
  {
   "cell_type": "code",
   "execution_count": 78,
   "id": "3268258d-c744-42c0-aa9d-1912a31fc363",
   "metadata": {},
   "outputs": [
    {
     "name": "stdout",
     "output_type": "stream",
     "text": [
      "   Name  Age         City\n",
      "0  John   28     New York\n",
      "1  Anna   24  Los Angeles\n",
      "4  John   19      Chicago\n"
     ]
    }
   ],
   "source": [
    "#Removing Duplicate Entries from DataFrame\n",
    "data = {\n",
    "    'Name': ['John', 'Anna', 'John', 'Anna', 'John'],\n",
    "    'Age': [28, 24, 28, 24, 19],\n",
    "    'City': ['New York', 'Los Angeles', 'New York', 'Los Angeles', 'Chicago']\n",
    "}\n",
    "df = pd.DataFrame(data)\n",
    "df.drop_duplicates(inplace=True)\n",
    "print(df)"
   ]
  },
  {
   "cell_type": "markdown",
   "id": "ccd18ec5-d993-46bd-96c6-b6aac5dbca01",
   "metadata": {},
   "source": [
    "<div style=\"background-color:gainsboro; padding:8px; border:2px dotted black; border-radius:8px; font-family:verdana; line-height: 1.7em\">\n",
    "<strong>Rename Column Names to Meaningful Names</strong>\n",
    "<br>\n",
    "• To rename column names to more meaningful names in Pandas, we can use the rename() function. \n",
    "</div>"
   ]
  },
  {
   "cell_type": "code",
   "execution_count": 79,
   "id": "a198ed30-c89c-427c-9433-ceb48d9b9e91",
   "metadata": {},
   "outputs": [
    {
     "name": "stdout",
     "output_type": "stream",
     "text": [
      "Original DataFrame ↓\n",
      "    A      B      C\n",
      "0  25   John  50000\n",
      "1  30    Doe  60000\n",
      "2  35  Smith  70000\n",
      "\n",
      "Modified DataFrame ↓\n",
      "   Age   Name  Salary\n",
      "0   25   John   50000\n",
      "1   30    Doe   60000\n",
      "2   35  Smith   70000\n"
     ]
    }
   ],
   "source": [
    "#Renaming Column Names\n",
    "data = {\n",
    "    'A': [25, 30, 35],\n",
    "    'B': ['John', 'Doe', 'Smith'],\n",
    "    'C': [50000, 60000, 70000]\n",
    "}\n",
    "df = pd.DataFrame(data)\n",
    "print(\"Original DataFrame ↓\")\n",
    "print(df)\n",
    "\n",
    "print()\n",
    "\n",
    "df.rename(columns={'A': 'Age', 'B': 'Name', 'C': 'Salary'}, inplace=True)\n",
    "print(\"Modified DataFrame ↓\")\n",
    "print(df)"
   ]
  },
  {
   "cell_type": "markdown",
   "id": "937f7e8f-9f0a-4e00-9b28-a661d82f6cf5",
   "metadata": {},
   "source": [
    "<div style=\"background-color:gainsboro; padding:8px; border:2px dotted black; border-radius:8px; font-family:verdana; line-height: 1.7em\">\n",
    "<font color='#6a66bd' size=\"5px\">Pandas Handling Wrong Format Data</font>\n",
    "<br>\n",
    "<br>\n",
    "• In a real world scenario, data are taken from various sources which causes inconsistencies in format of the data. \n",
    "<br>\n",
    "• Such inconsistencies can create challenges, making data analysis difficult or even impossible.\n",
    "<br>\n",
    "<br>\n",
    "<strong>Convert Data to Correct Format</strong>\n",
    "<br>\n",
    "• We can remove inconsistencies in data by converting a column with inconsistencies to a specific format.\n",
    "</div>"
   ]
  },
  {
   "cell_type": "code",
   "execution_count": 80,
   "id": "6f5f78c6-6bf2-44d7-a909-9a74aa1ce23b",
   "metadata": {},
   "outputs": [
    {
     "name": "stdout",
     "output_type": "stream",
     "text": [
      "26.560000000000002\n"
     ]
    }
   ],
   "source": [
    "#Converting data to a correct format\n",
    "data = {\n",
    "    'Country': ['USA', 'Canada', 'Australia', 'Germany', 'Japan'],\n",
    "    'Date': ['2023-07-20', '2023-07-21', '2023-07-22', '2023-07-23', '2023-07-24'],\n",
    "    'Temperature': [25.5, '28.0', 30.2, 22.8, 26.3]\n",
    "}\n",
    "df = pd.DataFrame(data)\n",
    "\n",
    "df['Temperature'] = df['Temperature'].astype(float)\n",
    "mean_temperature = df['Temperature'].mean()\n",
    "\n",
    "print(mean_temperature)"
   ]
  },
  {
   "cell_type": "markdown",
   "id": "a3d70efd-7083-4c2e-925f-69888d2b02a3",
   "metadata": {},
   "source": [
    "<div style=\"background-color:gainsboro; padding:8px; border:2px dotted black; border-radius:8px; font-family:verdana; line-height: 1.7em\">\n",
    "<font color='#6a66bd' size=\"5px\">Data Analysis and Aggregation</font>\n",
    "<br>\n",
    "<br>\n",
    "<strong>Pandas DateTime</strong>\n",
    "<br>\n",
    "• In Pandas, DateTime is a data type that represents a single point in time.\n",
    "<br>\n",
    "• It is especially useful when dealing with time-series data like stock prices, weather records, economic indicators etc.\n",
    "<br>\n",
    "• We use the to_datetime() function to convert strings to the DateTime object.\n",
    "<br>\n",
    "• Dates can be represented in various formats such as mm-dd-yyyy, dd-mm-yyyy, yyyy-mm-dd etc.\n",
    "<br>\n",
    "• Also, different separators such as /, -, . etc can be used.\n",
    "<br>\n",
    "• We can handle this issue by converting the column containing dates to the DateTime format.\n",
    "</div>"
   ]
  },
  {
   "cell_type": "code",
   "execution_count": 81,
   "id": "1146d0de-dba4-4445-a364-e1f411875716",
   "metadata": {},
   "outputs": [
    {
     "name": "stdout",
     "output_type": "stream",
     "text": [
      "String : 2001 12 24 12:38\n",
      "<class 'str'>\n",
      "\n",
      "DateTime : 2001-12-24 12:38:00\n",
      "<class 'pandas._libs.tslibs.timestamps.Timestamp'>\n"
     ]
    }
   ],
   "source": [
    "#Converting string to DataTime Format\n",
    "date_string = '2001 12 24 12:38'\n",
    "print(\"String :\", date_string)\n",
    "print(type(date_string))\n",
    "\n",
    "print()\n",
    "\n",
    "date = pd.to_datetime(date_string)\n",
    "print(\"DateTime :\", date)\n",
    "print(type(date))"
   ]
  },
  {
   "cell_type": "code",
   "execution_count": 82,
   "id": "a5f6fda0-c2e2-41a8-a11c-f35e5ecff1dc",
   "metadata": {},
   "outputs": [
    {
     "name": "stdout",
     "output_type": "stream",
     "text": [
      "        date\n",
      "0 2021-02-13\n",
      "1 2022-03-22\n",
      "2 2023-04-30\n"
     ]
    }
   ],
   "source": [
    "#to_datetime() With Day First Format\n",
    "df = pd.DataFrame({'date': ['13-02-2021', '22-03-2022', '30-04-2023']})\n",
    "df['date'] = pd.to_datetime(df['date'], dayfirst=True)\n",
    "print(df)"
   ]
  },
  {
   "cell_type": "code",
   "execution_count": 83,
   "id": "322c5e02-30f5-4430-99b9-b4fe68fea63d",
   "metadata": {},
   "outputs": [
    {
     "name": "stdout",
     "output_type": "stream",
     "text": [
      "        date\n",
      "0 2021-01-22\n",
      "1 2022-01-13\n",
      "2 2023-03-30\n"
     ]
    }
   ],
   "source": [
    "#to_datetime() With Custom Format\n",
    "df = pd.DataFrame({'date': ['2021/22/01', '2022/13/01', '2023/30/03']})\n",
    "df['date'] = pd.to_datetime(df['date'], format='%Y/%d/%m')\n",
    "print(df)"
   ]
  },
  {
   "cell_type": "code",
   "execution_count": 84,
   "id": "82e67f60-c2f2-4d4d-9556-3499b9a353d7",
   "metadata": {},
   "outputs": [
    {
     "name": "stdout",
     "output_type": "stream",
     "text": [
      "   year  month  day  hour  minute  second            datetime\n",
      "0  2021      1    1    10      30       0 2021-01-01 10:30:00\n",
      "1  2022      2    2    11      45       0 2022-02-02 11:45:00\n",
      "2  2023      3    3    12       0       0 2023-03-03 12:00:00\n"
     ]
    }
   ],
   "source": [
    "#Get DateTime From Multiple Columns\n",
    "df = pd.DataFrame({'year': [2021, 2022, 2023],\n",
    "                   'month': [1, 2, 3],\n",
    "                   'day': [1, 2, 3],\n",
    "                   'hour': [10, 11, 12],\n",
    "                   'minute': [30, 45, 0],\n",
    "                   'second': [0, 0, 0]})\n",
    "df['datetime'] = pd.to_datetime(df[['year', 'month', 'day', 'hour', 'minute', 'second']])\n",
    "print(df)"
   ]
  },
  {
   "cell_type": "code",
   "execution_count": 85,
   "id": "d986ad16-c772-4328-a651-83f98a272c48",
   "metadata": {},
   "outputs": [
    {
     "name": "stdout",
     "output_type": "stream",
     "text": [
      "    datetime  year  month  day\n",
      "0 2021-01-11  2021      1   11\n",
      "1 2022-02-22  2022      2   22\n",
      "2 2023-03-31  2023      3   31\n"
     ]
    }
   ],
   "source": [
    "#Get Year, Month and Day From DateTime\n",
    "df = pd.DataFrame({'datetime': ['2021-01-11', '2022-02-22', '2023-03-31']})\n",
    "\n",
    "df['datetime'] = pd.to_datetime(df['datetime'])\n",
    "\n",
    "df['year'] = df['datetime'].dt.year\n",
    "df['month'] = df['datetime'].dt.month\n",
    "df['day'] = df['datetime'].dt.day\n",
    "\n",
    "print(df)"
   ]
  },
  {
   "cell_type": "code",
   "execution_count": 86,
   "id": "6d6e7eac-df9d-479f-ae4f-5412ba1c787b",
   "metadata": {},
   "outputs": [
    {
     "name": "stdout",
     "output_type": "stream",
     "text": [
      "    datetime day_of_week  week_of_year  leap_year\n",
      "0 2021-01-01      Friday            53      False\n",
      "1 2024-02-02      Friday             5       True\n",
      "2 2023-03-03      Friday             9      False\n"
     ]
    }
   ],
   "source": [
    "#Get Day of Week, Week of Year and Leap Year\n",
    "df = pd.DataFrame({'datetime': ['2021-01-01', '2024-02-02', '2023-03-03']})\n",
    "\n",
    "df['datetime'] = pd.to_datetime(df['datetime'])\n",
    "\n",
    "df['day_of_week'] = df['datetime'].dt.day_name()\n",
    "\n",
    "df['week_of_year'] = df['datetime'].dt.isocalendar().week\n",
    "\n",
    "df['leap_year'] = df['datetime'].dt.is_leap_year\n",
    "\n",
    "print(df)"
   ]
  },
  {
   "cell_type": "code",
   "execution_count": 87,
   "id": "1dfb70b4-5928-4032-8ad3-ff18c58798f0",
   "metadata": {},
   "outputs": [
    {
     "name": "stdout",
     "output_type": "stream",
     "text": [
      "        date\n",
      "0 2022-12-01\n",
      "1 2022-02-01\n",
      "2 2022-03-23\n",
      "3 2022-02-03\n",
      "4 2023-04-03\n",
      "5 2023-09-30\n"
     ]
    }
   ],
   "source": [
    "#Converting the Date Column with mixed formats of Dates\n",
    "df = pd.DataFrame({'date': ['2022-12-01', '01/02/2022', '2022-03-23', '03/02/2022', '3 4 2023', '2023.9.30']})\n",
    "df['date'] = pd.to_datetime(df['date'], format='mixed', dayfirst=True)\n",
    "print(df)"
   ]
  },
  {
   "cell_type": "markdown",
   "id": "edb64058-2fcb-4044-a987-318d4f13b1ee",
   "metadata": {},
   "source": [
    "\n",
    "\n",
    "<div style=\"background-color:gainsboro; padding:8px; border:2px dotted black; border-radius:8px; font-family:verdana; line-height: 1.7em\">\n",
    "<strong>Pandas Aggregate Function</strong>\n",
    "<br>\n",
    "• Aggregate function in Pandas performs summary computations on data, often on grouped data. But it can also be used on Series objects.\n",
    "<br>\n",
    "• This can be really useful for tasks such as calculating mean, sum, count and other statistics for different groups within our data.\n",
    "<br>\n",
    "<br>\n",
    "<strong>Syntax</strong>\n",
    "<br>\n",
    "• Here's the basic syntax of the aggregate function : <code>df.aggregate(func, axis=0/1)</code>\n",
    "<br>\n",
    "→ <strong>func -</strong> an aggregate function like sum, mean, etc.\n",
    "<br>\n",
    "→ <strong>axis -</strong> specifies whether to apply the aggregation operation along rows or columns.\n",
    "</div>"
   ]
  },
  {
   "cell_type": "code",
   "execution_count": 88,
   "id": "741e29cb-8c18-4d82-9057-b599cd1bf042",
   "metadata": {},
   "outputs": [
    {
     "name": "stdout",
     "output_type": "stream",
     "text": [
      "Total Sum : 135\n",
      "Average Value : 22.5\n",
      "Maximum Value : 35\n"
     ]
    }
   ],
   "source": [
    "#Aggregate Function applied on DataFrame\n",
    "data = {\n",
    "    'Category': ['A', 'A', 'B', 'B', 'A', 'B'],\n",
    "    'Value': [10, 15, 20, 25, 30, 35]\n",
    "}\n",
    "df = pd.DataFrame(data)\n",
    "\n",
    "total_sum = df['Value'].aggregate('sum')\n",
    "print(\"Total Sum :\", total_sum)\n",
    "\n",
    "average_value = df['Value'].aggregate('mean')\n",
    "print(\"Average Value :\", average_value)\n",
    "\n",
    "max_value = df['Value'].aggregate('max')\n",
    "print(\"Maximum Value :\", max_value)"
   ]
  },
  {
   "cell_type": "markdown",
   "id": "4184e583-98a3-4c60-9c78-093111e708a6",
   "metadata": {},
   "source": [
    "<div style=\"background-color:gainsboro; padding:8px; border:2px dotted black; border-radius:8px; font-family:verdana; line-height: 1.7em\">\n",
    "<strong>Pandas groupby</strong>\n",
    "<br>\n",
    "• In Pandas, the groupby operation lets us group data based on specific columns.\n",
    "<br>\n",
    "• This means we can divide a DataFrame into smaller groups based on the values in these columns.\n",
    "<br>\n",
    "• Once grouped, we can then apply functions to each group separately. These functions help summarize or aggregate the data in each group.\n",
    "</div>"
   ]
  },
  {
   "cell_type": "code",
   "execution_count": 89,
   "id": "cc737756-57d9-4d65-badc-f942bd473ab5",
   "metadata": {},
   "outputs": [
    {
     "name": "stdout",
     "output_type": "stream",
     "text": [
      "Category\n",
      "Clothing        800\n",
      "Electronics    1800\n",
      "Name: Sales, dtype: int64\n"
     ]
    }
   ],
   "source": [
    "#Grouping the Data based on specific column and agg() function\n",
    "data = {'Category': ['Electronics', 'Clothing', 'Electronics', 'Clothing'],\n",
    "        'Sales': [1000, 500, 800, 300]}\n",
    "df = pd.DataFrame(data)\n",
    "grouped = df.groupby('Category')['Sales'].sum()\n",
    "print(grouped)"
   ]
  },
  {
   "cell_type": "code",
   "execution_count": 90,
   "id": "6e37c577-de62-43e9-9008-9e52a014b50b",
   "metadata": {},
   "outputs": [
    {
     "name": "stdout",
     "output_type": "stream",
     "text": [
      "             Score      \n",
      "               sum  mean\n",
      "Gender Grade            \n",
      "Female A        88  88.0\n",
      "       B        85  85.0\n",
      "Male   A       182  91.0\n",
      "       B        78  78.0\n"
     ]
    }
   ],
   "source": [
    "#Grouping by multiple column\n",
    "data = {\n",
    "    'Gender': ['Male', 'Female', 'Male', 'Female', 'Male'],\n",
    "    'Grade': ['A', 'B', 'A', 'A', 'B'],\n",
    "    'Score': [90, 85, 92, 88, 78]\n",
    "}\n",
    "df = pd.DataFrame(data)\n",
    "\n",
    "grouped = df.groupby(['Gender', 'Grade']).aggregate(['sum','mean'])\n",
    "\n",
    "print(grouped)"
   ]
  },
  {
   "cell_type": "markdown",
   "id": "7867cbbf-9bff-44d8-b06c-fd9c1a751acc",
   "metadata": {},
   "source": [
    "<div style=\"background-color:gainsboro; padding:8px; border:2px dotted black; border-radius:8px; font-family:verdana; line-height: 1.7em\">\n",
    "<font color='#6a66bd' size=\"5px\">Pandas Sort</font>\n",
    "<br>\n",
    "<br>\n",
    "• Sorting is a fundamental operation in data manipulation and analysis that involves arranging data in a specific order.\n",
    "<br>\n",
    "• Sorting is crucial for tasks such as organizing data for better readability, identifying patterns, making comparisons and facilitating further analysis.\n",
    "<br>\n",
    "<br>\n",
    "<strong>Sort DataFrame in Pandas</strong>\n",
    "<br>\n",
    "• In Pandas, we can use the sort_values() function to sort a DataFrame.\n",
    "</div>"
   ]
  },
  {
   "cell_type": "code",
   "execution_count": 91,
   "id": "c088790e-e652-4c5f-846f-7f7aaa5b7110",
   "metadata": {},
   "outputs": [
    {
     "name": "stdout",
     "output_type": "stream",
     "text": [
      "      Name  Age\n",
      "1      Bob   22\n",
      "2  Charlie   25\n",
      "0    Alice   28\n"
     ]
    }
   ],
   "source": [
    "#Sort DataFrame according to a specific column in ascending order\n",
    "data = {'Name': ['Alice', 'Bob', 'Charlie'],\n",
    "        'Age': [28, 22, 25]}\n",
    "df = pd.DataFrame(data)\n",
    "\n",
    "sorted_df = df.sort_values(by='Age')\n",
    "\n",
    "print(sorted_df)"
   ]
  },
  {
   "cell_type": "markdown",
   "id": "2a7edcc9-6fd6-4a53-9e84-6bf0be930c57",
   "metadata": {},
   "source": [
    "<div style=\"background-color:gainsboro; padding:8px; border:2px dotted black; border-radius:8px; font-family:verdana; line-height: 1.7em\">\n",
    "• To sort values in descending order, we use the ascending parameter as False :\n",
    "</div>"
   ]
  },
  {
   "cell_type": "code",
   "execution_count": 92,
   "id": "ba9796a8-040f-4ad0-b58d-bc56da1ff236",
   "metadata": {},
   "outputs": [
    {
     "name": "stdout",
     "output_type": "stream",
     "text": [
      "      Name  Age\n",
      "0    Alice   28\n",
      "2  Charlie   25\n",
      "1      Bob   22\n"
     ]
    }
   ],
   "source": [
    "#Sort DataFrame according to a specific column in descending order\n",
    "data = {'Name': ['Alice', 'Bob', 'Charlie'],\n",
    "        'Age': [28, 22, 25]}\n",
    "df = pd.DataFrame(data)\n",
    "\n",
    "sorted_df = df.sort_values(by='Age', ascending=False)\n",
    "\n",
    "print(sorted_df)"
   ]
  },
  {
   "cell_type": "code",
   "execution_count": 93,
   "id": "e9e5459f-c4fc-4eef-8c8d-4c812eca6fde",
   "metadata": {},
   "outputs": [
    {
     "name": "stdout",
     "output_type": "stream",
     "text": [
      "Sorting by 'Age' and then by 'Score' ↓\n",
      "      Name  Age  Score\n",
      "3    David   22     80\n",
      "1      Bob   22     90\n",
      "0    Alice   25     85\n",
      "2  Charlie   30     75\n",
      "\n",
      "Sorting by 'Age' (ascending) and then by 'Score' (descending) ↓\n",
      "      Name  Age  Score\n",
      "1      Bob   22     90\n",
      "3    David   22     80\n",
      "0    Alice   25     85\n",
      "2  Charlie   30     75\n"
     ]
    }
   ],
   "source": [
    "#Sort Pandas DataFrame by Multiple Columns\n",
    "data = {'Name': ['Alice', 'Bob', 'Charlie', 'David'],\n",
    "        'Age': [25, 22, 30, 22],\n",
    "        'Score': [85, 90, 75, 80]}\n",
    "df = pd.DataFrame(data)\n",
    "\n",
    "df1 = df.sort_values(by=['Age', 'Score'], ascending=[True,True])\n",
    "print(\"Sorting by 'Age' and then by 'Score' ↓\")\n",
    "print(df1)\n",
    "\n",
    "print()\n",
    "\n",
    "df2 = df.sort_values(by=['Age', 'Score'], ascending=[True, False])\n",
    "print(\"Sorting by 'Age' (ascending) and then by 'Score' (descending) ↓\")\n",
    "print(df2)"
   ]
  },
  {
   "cell_type": "markdown",
   "id": "d88c93f9-144b-4be2-9b4e-c0605e5391e2",
   "metadata": {},
   "source": [
    "<div style=\"background-color:gainsboro; padding:8px; border:2px dotted black; border-radius:8px; font-family:verdana; line-height: 1.7em\">\n",
    "<strong>Sort Pandas DataFrame Using sort_index()</strong>\n",
    "<br>\n",
    "• The sort_index() function is used to sort a DataFrame or Series by its index. \n",
    "<br>\n",
    "• This is useful for organizing data in a logical order, improving query performance and ensuring consistent data representation.\n",
    "</div>"
   ]
  },
  {
   "cell_type": "code",
   "execution_count": 94,
   "id": "fd40265e-26e5-42e0-913c-b8cf549f05d2",
   "metadata": {},
   "outputs": [
    {
     "name": "stdout",
     "output_type": "stream",
     "text": [
      "Original DataFrame ↓\n",
      "      Name  Age\n",
      "2    Alice   28\n",
      "0      Bob   22\n",
      "1  Charlie   25\n",
      "\n",
      "Sorted DataFrame by index ↓\n",
      "      Name  Age\n",
      "0      Bob   22\n",
      "1  Charlie   25\n",
      "2    Alice   28\n"
     ]
    }
   ],
   "source": [
    "#Sorting DataFrame by using sort_index()\n",
    "data = {'Name': ['Alice', 'Bob', 'Charlie'],\n",
    "        'Age': [28, 22, 25]}\n",
    "df = pd.DataFrame(data, index=[2, 0, 1])\n",
    "\n",
    "print(\"Original DataFrame ↓\")\n",
    "print(df.to_string(index=True))\n",
    "\n",
    "print()\n",
    "\n",
    "sorted_df = df.sort_index()\n",
    "print(\"Sorted DataFrame by index ↓\")\n",
    "print(sorted_df.to_string(index=True))"
   ]
  },
  {
   "cell_type": "markdown",
   "id": "938a374b-cdd5-4ba9-add2-ef3710e8bb4a",
   "metadata": {},
   "source": [
    "<div style=\"background-color:gainsboro; padding:8px; border:2px dotted black; border-radius:8px; font-family:verdana; line-height: 1.7em\">\n",
    "<font color='#6a66bd' size=\"5px\">Pandas Correlation</font>\n",
    "<br>\n",
    "<br>\n",
    "• Correlation is a statistical concept that quantifies the degree to which two variables are related to each other.\n",
    "<br>\n",
    "• Correlation can be calculated in Pandas using the corr() function.\n",
    "<div style=\"background-color:#ADD8E6; padding:8px; border:1px solid #87CEEB; border-radius:4px;\">\n",
    "<strong>Note :</strong> DataFrame may contain missing values (NaN). The corr() function completely ignores the rows with NaN values.\n",
    "</div>\n",
    "</div>"
   ]
  },
  {
   "cell_type": "code",
   "execution_count": 95,
   "id": "767a226b-c6a5-4fbd-b8da-a6ed348a7c14",
   "metadata": {},
   "outputs": [
    {
     "name": "stdout",
     "output_type": "stream",
     "text": [
      "                 Temperature  Ice_Cream_Sales\n",
      "Temperature         1.000000         0.923401\n",
      "Ice_Cream_Sales     0.923401         1.000000\n"
     ]
    }
   ],
   "source": [
    "#Correlation of a DataFrame\n",
    "data = {\n",
    "    \"Temperature\": [22, 25, 32, 28, 30],\n",
    "    \"Ice_Cream_Sales\": [105, 120, 135, 130, 125]\n",
    "}\n",
    "df = pd.DataFrame(data)\n",
    "print(df.corr())"
   ]
  },
  {
   "cell_type": "markdown",
   "id": "45873508-b0d2-4ef9-be63-3c7c766da3d3",
   "metadata": {},
   "source": [
    "<div style=\"background-color:gainsboro; padding:8px; border:2px dotted black; border-radius:8px; font-family:verdana; line-height: 1.7em\">\n",
    "<strong>Positive and Negative Correlation</strong>\n",
    "<br>\n",
    "• Positive correlation refers to a relationship between two variables where they both tend to change in the same direction. \n",
    "<br>\n",
    "• When one variable increases, the other variable also tends to increase and when one variable decreases, the other variable also tends to decrease.\n",
    "<br>\n",
    "• Negative correlation, on the other hand, refers to a relationship between two variables where they tend to change in opposite directions.\n",
    "<br>\n",
    "• When one variable increases, the other variable tends to decrease and vice versa.\n",
    "</div>"
   ]
  },
  {
   "cell_type": "code",
   "execution_count": 96,
   "id": "b7a561ad-c6ff-4693-8c90-c13a6086c637",
   "metadata": {},
   "outputs": [
    {
     "name": "stdout",
     "output_type": "stream",
     "text": [
      "0.9234007664064656\n"
     ]
    }
   ],
   "source": [
    "#Correlation between 2 Columns\n",
    "data = {\n",
    "    \"Temperature\": [22, 25, 32, 28, 30],\n",
    "    \"Ice_Cream_Sales\": [105, 120, 135, 130, 125]\n",
    "}\n",
    "df = pd.DataFrame(data)\n",
    "correlation = df['Temperature'].corr(df[\"Ice_Cream_Sales\"])\n",
    "print(correlation)"
   ]
  },
  {
   "cell_type": "markdown",
   "id": "596fe0f2-dd8e-4fdc-9246-afce273a4bae",
   "metadata": {},
   "source": [
    "\n",
    "\n",
    "<div style=\"background-color:gainsboro; padding:8px; border:2px dotted black; border-radius:8px; font-family:verdana; line-height: 1.7em\">\n",
    "<strong>Correlation Methods in Pandas</strong>\n",
    "<br>\n",
    "• We can calculate correlation using three different methods in Pandas :\n",
    "<br>\n",
    "→ <strong>Pearson Method :</strong> evaluates the linear relationship between two continuous variables.\n",
    "<br>\n",
    "→ <strong>Kendall Method :</strong> measures the ordinal association between two measured quantities.\n",
    "<br>\n",
    "→ <strong>Spearman Method :</strong> evaluates the monotonic relationship between two continuous or ordinal variables.\n",
    "<br>\n",
    "• By default, corr() computes the Pearson correlation coefficient which measures the linear relationship between two variables.\n",
    "</strong>"
   ]
  },
  {
   "cell_type": "code",
   "execution_count": 97,
   "id": "57aa8769-20ee-4e4a-8f58-6041127ad292",
   "metadata": {},
   "outputs": [
    {
     "name": "stdout",
     "output_type": "stream",
     "text": [
      "Pearson's Coefficient : 0.9234007664064656\n",
      "Kendall's Coefficient : 0.7999999999999999\n",
      "Spearman's Coefficient : 0.8999999999999998\n"
     ]
    }
   ],
   "source": [
    "#Different correlation methods in Pandas\n",
    "data = {\n",
    "    \"Temperature\": [22, 25, 32, 28, 30],\n",
    "    \"Ice_Cream_Sales\": [105, 120, 135, 130, 125]\n",
    "}\n",
    "df = pd.DataFrame(data)\n",
    "\n",
    "pearson = df['Temperature'].corr(df[\"Ice_Cream_Sales\"])\n",
    "kendall = df['Temperature'].corr(df[\"Ice_Cream_Sales\"], method='kendall')\n",
    "spearman = df['Temperature'].corr(df[\"Ice_Cream_Sales\"], method='spearman')\n",
    "\n",
    "print(f\"Pearson's Coefficient : {pearson}\")\n",
    "print(f\"Kendall's Coefficient : {kendall}\")\n",
    "print(f\"Spearman's Coefficient : {spearman}\")"
   ]
  },
  {
   "cell_type": "markdown",
   "id": "88e95235-6480-44c1-bd3b-4a9a093f22ac",
   "metadata": {},
   "source": [
    "\n",
    "\n",
    "<div style=\"background-color:gainsboro; padding:8px; border:2px dotted black; border-radius:8px; font-family:verdana; line-height: 1.7em\">\n",
    "<strong>Perfect, Good & Bad Correlation</strong>\n",
    "<br>\n",
    "→ <strong>Perfect Correlation</strong>\n",
    "<br>\n",
    "• A perfect positive correlation implies that for every increase in one variable, there is a proportionate increase in the other variable indicated by a coefficient of +1.\n",
    "<br>\n",
    "• A perfect negative correlation, represented by -1, signifies that an increase in one variable leads to a proportionate decrease in the other.\n",
    "<br>\n",
    "→ <strong>Good Correlation</strong>\n",
    "<br>\n",
    "• A good correlation can range from 0.5 to 0.9 (positive or negative) and generally indicates a strong relationship between the variables, but it doesn't mean the relationship is perfect.\n",
    "<br>\n",
    "→ <strong>Bad Correlation</strong>\n",
    "<br>\n",
    "• A bad correlation is typically close to zero, indicating that there is no relationship or any form of dependence between the two variables.\n",
    "</div>"
   ]
  },
  {
   "cell_type": "markdown",
   "id": "0fc83a82-b6bd-4646-89e9-381a219279ca",
   "metadata": {},
   "source": [
    "---\n",
    "\n",
    "<p style=\"color:#6a66bd; text-align:center; font-weight:bold; font-family:verdana; font-size:25px;\">Thanks 👏 for Visiting!</p>"
   ]
  }
 ],
 "metadata": {
  "kernelspec": {
   "display_name": "Python 3 (ipykernel)",
   "language": "python",
   "name": "python3"
  },
  "language_info": {
   "codemirror_mode": {
    "name": "ipython",
    "version": 3
   },
   "file_extension": ".py",
   "mimetype": "text/x-python",
   "name": "python",
   "nbconvert_exporter": "python",
   "pygments_lexer": "ipython3",
   "version": "3.12.1"
  }
 },
 "nbformat": 4,
 "nbformat_minor": 5
}
