{
 "cells": [
  {
   "cell_type": "markdown",
   "id": "64e5720f-aead-417f-be20-87f1df5ade16",
   "metadata": {},
   "source": [
    "<div><p style=\"color:#6a66bd; text-align:center; font-weight:bold; font-family:verdana; font-size:25px;\">NumPy - A Complete Guide</p></div>\n",
    "\n",
    "---\n",
    "\n",
    "<p style=\"text-align:right; font-family:verdana;\">Follow <a href=\"https://github.com/TheMrityunjayPathak\" style=\"color:#6a66bd; text-decoration:none;\">@Mrityunjay Pathak</a> for more!</p>\n",
    "\n",
    "<!--Include Prism.js and CSS-->\n",
    "<link href=\"https://cdnjs.cloudflare.com/ajax/libs/prism/1.25.0/themes/prism.min.css\" rel=\"stylesheet\"/>\n",
    "<script src=\"https://cdnjs.cloudflare.com/ajax/libs/prism/1.25.0/prism.min.js\"></script>\n",
    "<script src=\"https://cdnjs.cloudflare.com/ajax/libs/prism/1.25.0/components/prism-python.min.js\"></script>\n",
    "    \n",
    "<div style=\"background-color:gainsboro; padding:8px; border:2px dotted black; border-radius:8px; font-family:verdana; line-height: 1.7em\">\n",
    "<font color='#6a66bd' size=\"5px\">Introduction to Numpy</font>\n",
    "<br>\n",
    "<br>\n",
    "<strong>What is NumPy?</strong>\n",
    "<br>\n",
    "• NumPy stands for Numerical Python.\n",
    "<br>\n",
    "• NumPy is a Python library used for working with arrays.\n",
    "<br>\n",
    "• It also has functions for working in domain of linear algebra, fourier transform and matrices.\n",
    "<br>\n",
    "• NumPy was created in 2005 by Travis Oliphant. It is an open source project and you can use it freely.\n",
    "<br>\n",
    "<br>\n",
    "<strong>Why Use NumPy?</strong>\n",
    "<br>\n",
    "• In Python we have lists that serve the purpose of arrays, but they are slow to process.\n",
    "<br>\n",
    "• NumPy aims to provide an array object that is up to 50x faster than traditional Python lists.\n",
    "<br>\n",
    "• The array object in NumPy is called ndarray, it provides a lot of supporting functions that make working with ndarray very easy.\n",
    "<br>\n",
    "• Arrays are very frequently used in data science, where speed and resources are very important.\n",
    "<br>\n",
    "<br>\n",
    "<strong>Why is NumPy Faster Than Lists?</strong>\n",
    "<br>\n",
    "• NumPy arrays are stored at one continuous place in memory unlike lists, so processes can access and manipulate them very efficiently.\n",
    "<br>\n",
    "• This behavior is called locality of reference in computer science.\n",
    "<br>\n",
    "• This is the main reason why NumPy is faster than lists. Also it is optimized to work with latest CPU architectures.\n",
    "</div>"
   ]
  },
  {
   "cell_type": "markdown",
   "id": "333f4e62-994f-4f93-bae4-891dd95db30c",
   "metadata": {},
   "source": [
    "<div style=\"background-color:gainsboro; padding:8px; border:2px dotted black; border-radius:8px; font-family:verdana; line-height: 1.7em\">\n",
    "<font color='#6a66bd' size=\"5px\">Installing NumPy</font>\n",
    "<br>\n",
    "<br>\n",
    "• If you have <a href=\"https://www.python.org/downloads/\" style=\"text-decoration:none; color:#6a66bd;\">Python</a> and <a href=\"https://pypi.org/project/pip/\" style=\"text-decoration:none; color:#6a66bd;\">PIP</a> already installed on your system, then installation of NumPy is very easy.\n",
    "<br>\n",
    "• Install it using this command :\n",
    "<div style=\"background-color:#ADD8E6; padding:8px; border:1px solid #87CEEB; border-radius:4px;\">\n",
    "<strong>Note :</strong> You can use your Jupyter Notebook as Terminal to install anything using PIP Command.\n",
    "</div>\n",
    "<div style=\"background-color:#ADD8E6; padding:8px; border:1px solid #87CEEB; border-radius:4px;\">\n",
    "<strong>Note :</strong> Just add an exclamation mark before your PIP Command. Like !pip install numpy\n",
    "</div>\n",
    "</div>"
   ]
  },
  {
   "cell_type": "code",
   "execution_count": 7,
   "id": "97bc741d-b440-4ad8-aff8-823a9b145ab8",
   "metadata": {},
   "outputs": [
    {
     "name": "stdout",
     "output_type": "stream",
     "text": [
      "Requirement already satisfied: numpy in c:\\users\\mrityunjay pathak\\appdata\\local\\programs\\python\\python312\\lib\\site-packages (1.26.3)\n"
     ]
    }
   ],
   "source": [
    "!pip install numpy"
   ]
  },
  {
   "cell_type": "markdown",
   "id": "0de70f34-4359-4728-b2cf-697010ea3e32",
   "metadata": {},
   "source": [
    "<div style=\"background-color:gainsboro; padding:8px; border:2px dotted black; border-radius:8px; font-family:verdana; line-height: 1.7em\">\n",
    "<font color='#6a66bd' size=\"5px\">Getting Started with NumPy</font>\n",
    "<br>\n",
    "<br>\n",
    "<strong>Import NumPy</strong>\n",
    "<br>\n",
    "• Once NumPy is installed, import it in your project by adding the import keyword.\n",
    "</div>"
   ]
  },
  {
   "cell_type": "code",
   "execution_count": 8,
   "id": "79213a20-339c-4cd4-9c12-7c9035da52e5",
   "metadata": {},
   "outputs": [],
   "source": [
    "import numpy"
   ]
  },
  {
   "cell_type": "markdown",
   "id": "a0a02f47-c769-4643-9a37-514b07e63ddb",
   "metadata": {},
   "source": [
    "<div style=\"background-color:gainsboro; padding:8px; border:2px dotted black; border-radius:8px; font-family:verdana; line-height: 1.7em\">\n",
    "<strong>NumPy as np</strong>\n",
    "<br>\n",
    "• NumPy is usually imported under the np alias.\n",
    "<br>\n",
    "• Create an alias with the as keyword while importing.\n",
    "<div style=\"background-color:#ADD8E6; padding:8px; border:1px solid #87CEEB; border-radius:4px;\">\n",
    "<strong>Note :</strong> In Python alias are an alternate name for referring to the same thing.\n",
    "</div>\n",
    "</div>"
   ]
  },
  {
   "cell_type": "code",
   "execution_count": 9,
   "id": "ffb65d6d-5659-401a-a53c-abddb20b2509",
   "metadata": {},
   "outputs": [],
   "source": [
    "import numpy as np"
   ]
  },
  {
   "cell_type": "markdown",
   "id": "408ce219-a45b-4756-b5c9-e1f783ed81f0",
   "metadata": {},
   "source": [
    "<div style=\"background-color:gainsboro; padding:8px; border:2px dotted black; border-radius:8px; font-family:verdana; line-height: 1.7em\">\n",
    "<strong>Checking NumPy Version</strong>\n",
    "<br>\n",
    "• The version string is stored under __version__ attribute.\n",
    "</div>"
   ]
  },
  {
   "cell_type": "code",
   "execution_count": 10,
   "id": "aa4c376d-a3aa-48e6-913f-02b358e05945",
   "metadata": {},
   "outputs": [
    {
     "name": "stdout",
     "output_type": "stream",
     "text": [
      "1.26.3\n"
     ]
    }
   ],
   "source": [
    "print(numpy.__version__)"
   ]
  },
  {
   "cell_type": "markdown",
   "id": "ef2d4a6e-f550-49c4-bb1f-4fd4570940de",
   "metadata": {},
   "source": [
    "<div style=\"background-color:gainsboro; padding:8px; border:2px dotted black; border-radius:8px; font-family:verdana; line-height: 1.7em\">\n",
    "<font color='#6a66bd' size=\"5px\">Creating NumPy Array</font>\n",
    "<br>\n",
    "<br>\n",
    "<strong>NumPy ndarray Object</strong>\n",
    "<br>\n",
    "• NumPy is used to work with arrays. The array object in NumPy is called ndarray.\n",
    "<br>\n",
    "• We can create a NumPy ndarray object by using the array() function.\n",
    "<br>\n",
    "• In computer programming, an array is a structure for storing and retrieving data. \n",
    "<br>\n",
    "• We often talk about an array as if it were a grid in space, with each cell storing one element of the data.\n",
    "<br>\n",
    "<br>\n",
    "<strong>Most NumPy arrays have some restrictions, For instance :</strong>\n",
    "<br>\n",
    "• All elements of the array must be of the same type of data.\n",
    "<br>\n",
    "• Once created, the total size of the the array can’t change.\n",
    "<br>\n",
    "• The shape must be “rectangular” not “jagged”.\n",
    "<div style=\"background-color:#ADD8E6; padding:8px; border:1px solid #87CEEB; border-radius:4px;\">\n",
    "<strong>Note :</strong> type() function tells us the type of the object passed to it.\n",
    "</div>\n",
    "</div>"
   ]
  },
  {
   "cell_type": "code",
   "execution_count": 11,
   "id": "b05b6eb9-5e34-47d8-b4d2-1f95bc9d09e9",
   "metadata": {},
   "outputs": [
    {
     "name": "stdout",
     "output_type": "stream",
     "text": [
      "[1 2 3 4 5]\n",
      "<class 'numpy.ndarray'>\n"
     ]
    }
   ],
   "source": [
    "arr = np.array([1, 2, 3, 4, 5])\n",
    "print(arr)\n",
    "print(type(arr))"
   ]
  },
  {
   "cell_type": "markdown",
   "id": "e17394ae-fc84-4d30-bd73-dbb78062c4fe",
   "metadata": {},
   "source": [
    "<div style=\"background-color:gainsboro; padding:8px; border:2px dotted black; border-radius:8px; font-family:verdana; line-height: 1.7em\">\n",
    "• To create an ndarray, we can pass a list, tuple or any array-like object into the array() method, and it will be converted into an ndarray.\n",
    "</div>"
   ]
  },
  {
   "cell_type": "code",
   "execution_count": 12,
   "id": "15b4805e-3c6d-49d1-b6dc-33fde3923ec3",
   "metadata": {},
   "outputs": [
    {
     "name": "stdout",
     "output_type": "stream",
     "text": [
      "[1 2 3 4 5]\n"
     ]
    }
   ],
   "source": [
    "arr = np.array((1, 2, 3, 4, 5))\n",
    "print(arr)"
   ]
  },
  {
   "cell_type": "markdown",
   "id": "a8b412ac-e8ca-439d-9d3b-4462763cf4c4",
   "metadata": {},
   "source": [
    "<div style=\"background-color:gainsboro; padding:8px; border:2px dotted black; border-radius:8px; font-family:verdana; line-height: 1.7em\">\n",
    "<font color='#6a66bd' size=\"5px\">Create Basic Arrays</font>\n",
    "<br>\n",
    "<br>\n",
    "• Besides creating an array from a sequence of elements, you can easily create an array of some predefined formats.\n",
    "<br>\n",
    "• To create an array with all elements as zero(0).\n",
    "</div>"
   ]
  },
  {
   "cell_type": "code",
   "execution_count": 13,
   "id": "9acced85-5185-476f-a032-562a31a221fd",
   "metadata": {},
   "outputs": [
    {
     "name": "stdout",
     "output_type": "stream",
     "text": [
      "[0. 0. 0.]\n"
     ]
    }
   ],
   "source": [
    "#Creating a 1D Array\n",
    "zeros = np.zeros(3)\n",
    "print(zeros)"
   ]
  },
  {
   "cell_type": "code",
   "execution_count": 14,
   "id": "d9f1ad27-254c-4f6c-9c6d-4d1b54d1844d",
   "metadata": {},
   "outputs": [
    {
     "name": "stdout",
     "output_type": "stream",
     "text": [
      "[[0. 0. 0.]\n",
      " [0. 0. 0.]\n",
      " [0. 0. 0.]]\n"
     ]
    }
   ],
   "source": [
    "#Creating a 2D Array\n",
    "zeros = np.zeros((3,3))\n",
    "print(zeros)"
   ]
  },
  {
   "cell_type": "markdown",
   "id": "d8f27a4b-7f5c-4367-bd3c-193b1aa11dce",
   "metadata": {},
   "source": [
    "<div style=\"background-color:gainsboro; padding:8px; border:2px dotted black; border-radius:8px; font-family:verdana; line-height: 1.7em\">\n",
    "• To create an array with all elements as one(1).\n",
    "</div>"
   ]
  },
  {
   "cell_type": "code",
   "execution_count": 15,
   "id": "1c96cd33-dd86-4ebc-9dfb-e6f74cabfc28",
   "metadata": {},
   "outputs": [
    {
     "name": "stdout",
     "output_type": "stream",
     "text": [
      "[1. 1. 1.]\n"
     ]
    }
   ],
   "source": [
    "#Creating a 1D Array\n",
    "ones = np.ones(3)\n",
    "print(ones)"
   ]
  },
  {
   "cell_type": "code",
   "execution_count": 16,
   "id": "d7ca7e11-e3c1-4529-bc4c-9b8236e079bf",
   "metadata": {},
   "outputs": [
    {
     "name": "stdout",
     "output_type": "stream",
     "text": [
      "[[1. 1. 1.]\n",
      " [1. 1. 1.]\n",
      " [1. 1. 1.]]\n"
     ]
    }
   ],
   "source": [
    "#Creating a 2D Array\n",
    "ones = np.ones((3,3))\n",
    "print(ones)"
   ]
  },
  {
   "cell_type": "markdown",
   "id": "f8338214-64df-4c8f-b0c2-bc8eb1c3c981",
   "metadata": {},
   "source": [
    "<div style=\"background-color:gainsboro; padding:8px; border:2px dotted black; border-radius:8px; font-family:verdana; line-height: 1.7em\">\n",
    "• The function empty() creates an array whose initial content is random and depends on the state of the memory. \n",
    "<br>\n",
    "• The reason to use empty over zeros (or something similar) is speed - just make sure to fill every element afterwards.\n",
    "</div>"
   ]
  },
  {
   "cell_type": "code",
   "execution_count": 17,
   "id": "5a30710d-9ac2-4021-8567-c1e394b202ad",
   "metadata": {},
   "outputs": [
    {
     "name": "stdout",
     "output_type": "stream",
     "text": [
      "[1. 1. 1.]\n"
     ]
    }
   ],
   "source": [
    "#Create a 1D Array\n",
    "empty = np.empty(3)\n",
    "print(empty)"
   ]
  },
  {
   "cell_type": "code",
   "execution_count": 18,
   "id": "48a71dd2-e50c-4253-8a24-347d2e492d57",
   "metadata": {},
   "outputs": [
    {
     "name": "stdout",
     "output_type": "stream",
     "text": [
      "[[1. 1. 1.]\n",
      " [1. 1. 1.]\n",
      " [1. 1. 1.]]\n"
     ]
    }
   ],
   "source": [
    "#Create a 2D Array\n",
    "empty = np.empty((3,3))\n",
    "print(empty)"
   ]
  },
  {
   "cell_type": "markdown",
   "id": "c9ce27f5-f47d-483c-86c7-92e973c2fec9",
   "metadata": {},
   "source": [
    "<div style=\"background-color:gainsboro; padding:8px; border:2px dotted black; border-radius:8px; font-family:verdana; line-height: 1.7em\">\n",
    "• To create an array with all digonal elements as one(1).\n",
    "</div>"
   ]
  },
  {
   "cell_type": "code",
   "execution_count": 19,
   "id": "f05ed633-f0a9-422e-883f-3de032dbb0a6",
   "metadata": {},
   "outputs": [
    {
     "name": "stdout",
     "output_type": "stream",
     "text": [
      "[[1. 0. 0.]\n",
      " [0. 1. 0.]\n",
      " [0. 0. 1.]]\n"
     ]
    }
   ],
   "source": [
    "idnt = np.identity(3)\n",
    "print(idnt)"
   ]
  },
  {
   "cell_type": "markdown",
   "id": "793fb770-a943-4d71-b4e2-cc45a72d970a",
   "metadata": {},
   "source": [
    "<div style=\"background-color:gainsboro; padding:8px; border:2px dotted black; border-radius:8px; font-family:verdana; line-height: 1.7em\">\n",
    "• To create an array with all digonal elements as specified.\n",
    "</div>"
   ]
  },
  {
   "cell_type": "code",
   "execution_count": 20,
   "id": "68f2f9f5-80d0-4403-a810-170f0adfea66",
   "metadata": {},
   "outputs": [
    {
     "name": "stdout",
     "output_type": "stream",
     "text": [
      "[[1 0 0]\n",
      " [0 2 0]\n",
      " [0 0 3]]\n"
     ]
    }
   ],
   "source": [
    "dig = np.diag((1,2,3))\n",
    "print(dig)"
   ]
  },
  {
   "cell_type": "markdown",
   "id": "83a0e06c-45f1-4aa2-88b4-97d2fc0a3882",
   "metadata": {},
   "source": [
    "<div style=\"background-color:gainsboro; padding:8px; border:2px dotted black; border-radius:8px; font-family:verdana; line-height: 1.7em\">\n",
    "• To create an array with series of numbers starting with zero.\n",
    "</div>"
   ]
  },
  {
   "cell_type": "code",
   "execution_count": 21,
   "id": "1dc74df2-07e1-4390-a0e8-6741f860b40a",
   "metadata": {},
   "outputs": [
    {
     "name": "stdout",
     "output_type": "stream",
     "text": [
      "[0 1 2 3 4 5 6 7 8]\n"
     ]
    }
   ],
   "source": [
    "#To start with 0\n",
    "rng = np.arange(9)\n",
    "print(rng)"
   ]
  },
  {
   "cell_type": "code",
   "execution_count": 22,
   "id": "d36ab044-f862-445f-8fa6-952b6d998759",
   "metadata": {},
   "outputs": [
    {
     "name": "stdout",
     "output_type": "stream",
     "text": [
      "[1 3 5 7 9]\n"
     ]
    }
   ],
   "source": [
    "#To start with any specific number and interval (step) specified\n",
    "rng = np.arange(1, 10, 2)\n",
    "print(rng)"
   ]
  },
  {
   "cell_type": "markdown",
   "id": "b1745093-cb59-4ea2-9cef-619779562fd0",
   "metadata": {},
   "source": [
    "<div style=\"background-color:gainsboro; padding:8px; border:2px dotted black; border-radius:8px; font-family:verdana; line-height: 1.7em\">\n",
    "• You can also use linspace() method to create an array with values that are spaced linearly in a specified interval.\n",
    "</div>"
   ]
  },
  {
   "cell_type": "code",
   "execution_count": 23,
   "id": "b7a79d31-4755-442a-ac76-fdfb82d8eb45",
   "metadata": {},
   "outputs": [
    {
     "name": "stdout",
     "output_type": "stream",
     "text": [
      "[ 0.   2.5  5.   7.5 10. ]\n"
     ]
    }
   ],
   "source": [
    "lin_arr = np.linspace(0, 10, num=5)\n",
    "print(lin_arr)"
   ]
  },
  {
   "cell_type": "markdown",
   "id": "463df0c7-9a22-4bda-a435-deb6c984b9a9",
   "metadata": {},
   "source": [
    "<div style=\"background-color:gainsboro; padding:8px; border:2px dotted black; border-radius:8px; font-family:verdana; line-height: 1.7em\">\n",
    "• The tile() method constructs an array by repeating arrays.\n",
    "<br>\n",
    "• You can specify repetitions to create an array by repeating the array any number of times.\n",
    "</div>"
   ]
  },
  {
   "cell_type": "code",
   "execution_count": 24,
   "id": "d6eb4f96-1260-4571-b0e2-d8f05c0228a7",
   "metadata": {},
   "outputs": [
    {
     "name": "stdout",
     "output_type": "stream",
     "text": [
      "[1 2 3 4 5 1 2 3 4 5]\n"
     ]
    }
   ],
   "source": [
    "#Create an array by repeating arr 2 times\n",
    "arr = np.array([1,2,3,4,5])\n",
    "tile_arr = np.tile(arr, 2)\n",
    "print(tile_arr)"
   ]
  },
  {
   "cell_type": "markdown",
   "id": "c238ab69-6247-4e0d-85d7-6c5179477709",
   "metadata": {},
   "source": [
    "<div style=\"background-color:gainsboro; padding:8px; border:2px dotted black; border-radius:8px; font-family:verdana; line-height: 1.7em\">\n",
    "• The full() method creates a new array of given shape and type, filled with a given fill value.\n",
    "</div>"
   ]
  },
  {
   "cell_type": "code",
   "execution_count": 25,
   "id": "e3e1f035-b1f2-4102-b641-6750d74e3748",
   "metadata": {},
   "outputs": [
    {
     "name": "stdout",
     "output_type": "stream",
     "text": [
      "[[3 3]\n",
      " [3 3]]\n"
     ]
    }
   ],
   "source": [
    "#Create a 2X2 array filled with 3s\n",
    "arr = np.full((2,2),3)\n",
    "print(arr)"
   ]
  },
  {
   "cell_type": "markdown",
   "id": "91541915-192d-4b46-be33-6ad3f2eef356",
   "metadata": {},
   "source": [
    "<div style=\"background-color:gainsboro; padding:8px; border:2px dotted black; border-radius:8px; font-family:verdana; line-height: 1.7em\">\n",
    "<font color='#6a66bd' size=\"5px\">Dimensions in Arrays</font>\n",
    "<br>\n",
    "<br>\n",
    "• A dimension in arrays is one level of array depth.\n",
    "<br>\n",
    "<br>\n",
    "<strong>0-D Arrays</strong>\n",
    "<br>\n",
    "• 0-D arrays or Scalars are the elements in an array. Each value in an array is a 0-D array.\n",
    "</div>"
   ]
  },
  {
   "cell_type": "code",
   "execution_count": 26,
   "id": "f16c3c4f-31fd-4d58-9d73-3f12dd4e77a4",
   "metadata": {},
   "outputs": [
    {
     "name": "stdout",
     "output_type": "stream",
     "text": [
      "42\n"
     ]
    }
   ],
   "source": [
    "arr = np.array(42)\n",
    "print(arr)"
   ]
  },
  {
   "cell_type": "markdown",
   "id": "1be1d8aa-20e9-4ef9-88c4-34b6dc6be6db",
   "metadata": {},
   "source": [
    "<div style=\"background-color:gainsboro; padding:8px; border:2px dotted black; border-radius:8px; font-family:verdana; line-height: 1.7em\">\n",
    "<strong>1-D Arrays</strong>\n",
    "<br>\n",
    "• An array that has 0-D arrays as its elements is called uni-dimensional or 1-D array.\n",
    "<br>\n",
    "• These are the most common and basic arrays.\n",
    "</div>"
   ]
  },
  {
   "cell_type": "code",
   "execution_count": 27,
   "id": "b930f0bb-e621-4bef-8db1-99c2b8ea7616",
   "metadata": {},
   "outputs": [
    {
     "name": "stdout",
     "output_type": "stream",
     "text": [
      "[1 2 3 4 5]\n"
     ]
    }
   ],
   "source": [
    "arr = np.array([1, 2, 3, 4, 5])\n",
    "print(arr)"
   ]
  },
  {
   "cell_type": "markdown",
   "id": "185cd502-ce46-4c80-b93c-ffa4cd4d40c1",
   "metadata": {},
   "source": [
    "<div style=\"background-color:gainsboro; padding:8px; border:2px dotted black; border-radius:8px; font-family:verdana; line-height: 1.7em\">\n",
    "<strong>2-D Arrays</strong>\n",
    "<br>\n",
    "• An array that has 1-D arrays as its elements is called a 2-D array.\n",
    "<br>\n",
    "• These are often used to represent matrix or 2nd order tensors.\n",
    "</div>"
   ]
  },
  {
   "cell_type": "code",
   "execution_count": 28,
   "id": "ba6db170-e9aa-4459-a49f-b64f2a3479d1",
   "metadata": {},
   "outputs": [
    {
     "name": "stdout",
     "output_type": "stream",
     "text": [
      "[[1 2 3]\n",
      " [4 5 6]]\n"
     ]
    }
   ],
   "source": [
    "arr = np.array([[1, 2, 3], [4, 5, 6]])\n",
    "print(arr)"
   ]
  },
  {
   "cell_type": "markdown",
   "id": "f34d3e06-cde9-47e0-8c02-f8a5d228dd1f",
   "metadata": {},
   "source": [
    "<div style=\"background-color:gainsboro; padding:8px; border:2px dotted black; border-radius:8px; font-family:verdana; line-height: 1.7em\">\n",
    "<strong>3-D arrays</strong>\n",
    "<br>\n",
    "• An array that has 2-D arrays (matrices) as its elements is called 3-D array.\n",
    "<br>\n",
    "• These are often used to represent a 3rd order tensor.\n",
    "</div>"
   ]
  },
  {
   "cell_type": "code",
   "execution_count": 29,
   "id": "edf99eaf-edfc-434e-ade8-9f0e35bb55e1",
   "metadata": {},
   "outputs": [
    {
     "name": "stdout",
     "output_type": "stream",
     "text": [
      "[[[1 2 3]\n",
      "  [4 5 6]]\n",
      "\n",
      " [[1 2 3]\n",
      "  [4 5 6]]]\n"
     ]
    }
   ],
   "source": [
    "arr = np.array([[[1, 2, 3], [4, 5, 6]], [[1, 2, 3], [4, 5, 6]]])\n",
    "print(arr)"
   ]
  },
  {
   "cell_type": "markdown",
   "id": "8125a9a0-9959-453d-8195-49f8d3cc2485",
   "metadata": {},
   "source": [
    "<div style=\"background-color:gainsboro; padding:8px; border:2px dotted black; border-radius:8px; font-family:verdana; line-height: 1.7em\">\n",
    "<strong>Check Number of Dimensions?</strong>\n",
    "<br>\n",
    "• NumPy Arrays provides the ndim attribute that returns an integer that tells us how many dimensions the array have.\n",
    "</div>"
   ]
  },
  {
   "cell_type": "code",
   "execution_count": 30,
   "id": "fe32e7bd-c302-4d46-831d-1e01468d25b3",
   "metadata": {},
   "outputs": [
    {
     "name": "stdout",
     "output_type": "stream",
     "text": [
      "0\n",
      "1\n",
      "2\n",
      "3\n"
     ]
    }
   ],
   "source": [
    "a = np.array(42)\n",
    "b = np.array([1, 2, 3, 4, 5])\n",
    "c = np.array([[1, 2, 3], [4, 5, 6]])\n",
    "d = np.array([[[1, 2, 3], [4, 5, 6]], [[1, 2, 3], [4, 5, 6]]])\n",
    "\n",
    "print(a.ndim)\n",
    "print(b.ndim)\n",
    "print(c.ndim)\n",
    "print(d.ndim)"
   ]
  },
  {
   "cell_type": "markdown",
   "id": "85bd310a-daba-4f23-9e6e-71c6dba89cdf",
   "metadata": {},
   "source": [
    "<div style=\"background-color:gainsboro; padding:8px; border:2px dotted black; border-radius:8px; font-family:verdana; line-height: 1.7em\">\n",
    "<strong>Higher Dimensional Arrays</strong>\n",
    "<br>\n",
    "• An array can have any number of dimensions.\n",
    "<br>\n",
    "• When the array is created, you can define the number of dimensions by using the ndmin argument.\n",
    "</div>"
   ]
  },
  {
   "cell_type": "code",
   "execution_count": 31,
   "id": "eea8fdcc-afd5-400b-90a3-b207c47b1948",
   "metadata": {},
   "outputs": [
    {
     "name": "stdout",
     "output_type": "stream",
     "text": [
      "[[[[[1 2 3 4]]]]]\n",
      "Dimension of Array : 5\n"
     ]
    }
   ],
   "source": [
    "arr = np.array([1, 2, 3, 4], ndmin=5)\n",
    "print(arr)\n",
    "print('Dimension of Array :', arr.ndim)"
   ]
  },
  {
   "cell_type": "markdown",
   "id": "1439dd19-298a-46b2-8531-1f6a7c3d670f",
   "metadata": {},
   "source": [
    "<div style=\"background-color:gainsboro; padding:8px; border:2px dotted black; border-radius:8px; font-family:verdana; line-height: 1.7em\">\n",
    "<font color='#6a66bd' size=\"5px\">NumPy Indexing Array</font>\n",
    "<br>\n",
    "<br>\n",
    "<strong>Access Array Elements</strong>\n",
    "<br>\n",
    "• Array indexing is the same as accessing an array element.\n",
    "<br>\n",
    "• You can access an array element by referring to its index number.\n",
    "<br>\n",
    "• The indexes in NumPy arrays start with 0, meaning that the first element has index 0, and the second has index 1 etc.\n",
    "</div>"
   ]
  },
  {
   "cell_type": "code",
   "execution_count": 32,
   "id": "6b5756a1-dbf5-4754-b5d3-bb5ec9515d3e",
   "metadata": {},
   "outputs": [
    {
     "name": "stdout",
     "output_type": "stream",
     "text": [
      "1\n"
     ]
    }
   ],
   "source": [
    "arr = np.array([1, 2, 3, 4])\n",
    "print(arr[0])"
   ]
  },
  {
   "cell_type": "markdown",
   "id": "ef7c3bef-489c-4254-9c25-88341b3f297e",
   "metadata": {},
   "source": [
    "<div style=\"background-color:gainsboro; padding:8px; border:2px dotted black; border-radius:8px; font-family:verdana; line-height: 1.7em\">\n",
    "<strong>Access 2-D Arrays</strong>\n",
    "<br>\n",
    "• To access elements from 2-D arrays we can use comma separated integers representing the dimension and the index of the element.\n",
    "<br>\n",
    "• Think of 2-D arrays like a table with rows and columns, where the dimension represents the row and the index represents the column.\n",
    "</div>"
   ]
  },
  {
   "cell_type": "code",
   "execution_count": 33,
   "id": "9eba0032-7cd7-43aa-8954-64cfcb3cee16",
   "metadata": {},
   "outputs": [
    {
     "name": "stdout",
     "output_type": "stream",
     "text": [
      "[[ 1  2  3  4  5]\n",
      " [ 6  7  8  9 10]]\n",
      "2nd element on 1st row : 2\n"
     ]
    }
   ],
   "source": [
    "arr = np.array([[1,2,3,4,5], [6,7,8,9,10]])\n",
    "print(arr)\n",
    "print('2nd element on 1st row :', arr[0, 1])"
   ]
  },
  {
   "cell_type": "markdown",
   "id": "ce175530-1b9f-41b4-88b2-004330215d65",
   "metadata": {},
   "source": [
    "<div style=\"background-color:gainsboro; padding:8px; border:2px dotted black; border-radius:8px; font-family:verdana; line-height: 1.7em\">\n",
    "<strong>Access 3-D Arrays</strong>\n",
    "<br>\n",
    "• To access elements from 3-D arrays we can use comma separated integers representing the dimensions and the index of the element.\n",
    "</div>"
   ]
  },
  {
   "cell_type": "code",
   "execution_count": 34,
   "id": "11e289a7-e2e7-4d98-a008-78fd57cc9454",
   "metadata": {},
   "outputs": [
    {
     "name": "stdout",
     "output_type": "stream",
     "text": [
      "[[[ 1  2  3]\n",
      "  [ 4  5  6]]\n",
      "\n",
      " [[ 7  8  9]\n",
      "  [10 11 12]]]\n",
      "3rd element of the second array of the first array : 6\n"
     ]
    }
   ],
   "source": [
    "arr = np.array([[[1, 2, 3], [4, 5, 6]], [[7, 8, 9], [10, 11, 12]]])\n",
    "print(arr)\n",
    "print('3rd element of the second array of the first array :', arr[0, 1, 2])"
   ]
  },
  {
   "cell_type": "markdown",
   "id": "29cba099-3b9a-4ef4-b645-a89ee8295573",
   "metadata": {},
   "source": [
    "<div style=\"background-color:gainsboro; padding:8px; border:2px dotted black; border-radius:8px; font-family:verdana; line-height: 1.7em\">\n",
    "<strong>Negative Indexing</strong>\n",
    "<br>\n",
    "• Use negative indexing to access an array from the end.\n",
    "</div>"
   ]
  },
  {
   "cell_type": "code",
   "execution_count": 35,
   "id": "a6b903cd-cab6-4cad-bb21-192b9385e2c9",
   "metadata": {},
   "outputs": [
    {
     "name": "stdout",
     "output_type": "stream",
     "text": [
      "[[ 1  2  3  4  5]\n",
      " [ 6  7  8  9 10]]\n",
      "Last element from last row : 10\n"
     ]
    }
   ],
   "source": [
    "arr = np.array([[1,2,3,4,5], [6,7,8,9,10]])\n",
    "print(arr)\n",
    "print('Last element from last row :', arr[1, -1])"
   ]
  },
  {
   "cell_type": "markdown",
   "id": "46b645b4-e20a-4f62-a331-5f178ce5b630",
   "metadata": {},
   "source": [
    "<div style=\"background-color:gainsboro; padding:8px; border:2px dotted black; border-radius:8px; font-family:verdana; line-height: 1.7em\">\n",
    "<font color='#6a66bd' size=\"5px\">NumPy Slicing Array</font>\n",
    "<br>\n",
    "<br>\n",
    "<strong>Slicing Arrays</strong>\n",
    "<br>\n",
    "• Slicing in python means taking elements from one given index to another given index.\n",
    "<br>\n",
    "• We pass slice instead of index like this : [start:end].\n",
    "<br>\n",
    "• We can also define the step, like this : [start:end:step].\n",
    "<br>\n",
    "• If we don't pass start its considered 0\n",
    "<br>\n",
    "• If we don't pass end its considered length of array in that dimension\n",
    "<br>\n",
    "• If we don't pass step its considered 1\n",
    "<div style=\"background-color:#ADD8E6; padding:8px; border:1px solid #87CEEB; border-radius:4px;\">\n",
    "<strong>Note :</strong> The result includes the start index, but excludes the end index.\n",
    "</div>\n",
    "</div>"
   ]
  },
  {
   "cell_type": "code",
   "execution_count": 36,
   "id": "f1f0cfbc-1767-429e-afc3-6267b9b508c3",
   "metadata": {},
   "outputs": [
    {
     "name": "stdout",
     "output_type": "stream",
     "text": [
      "[2 3 4 5]\n"
     ]
    }
   ],
   "source": [
    "#Slice elements from index 1 to index 5\n",
    "arr = np.array([1, 2, 3, 4, 5, 6, 7])\n",
    "print(arr[1:5])"
   ]
  },
  {
   "cell_type": "code",
   "execution_count": 37,
   "id": "2634ee70-1812-4bf0-9c0c-165c8e67df98",
   "metadata": {},
   "outputs": [
    {
     "name": "stdout",
     "output_type": "stream",
     "text": [
      "[5 6 7]\n"
     ]
    }
   ],
   "source": [
    "#Slice elements from index 4 to the end of the array\n",
    "arr = np.array([1, 2, 3, 4, 5, 6, 7])\n",
    "print(arr[4:])"
   ]
  },
  {
   "cell_type": "code",
   "execution_count": 38,
   "id": "c5cc78e7-a289-4a44-b7ed-9e8221e6a9cb",
   "metadata": {},
   "outputs": [
    {
     "name": "stdout",
     "output_type": "stream",
     "text": [
      "[1 2 3 4]\n"
     ]
    }
   ],
   "source": [
    "#Slice elements from the beginning to index 4 (not included)\n",
    "arr = np.array([1, 2, 3, 4, 5, 6, 7])\n",
    "print(arr[:4])"
   ]
  },
  {
   "cell_type": "markdown",
   "id": "541efe5a-c3b8-49a1-8b43-81b7f9d14bde",
   "metadata": {},
   "source": [
    "<div style=\"background-color:gainsboro; padding:8px; border:2px dotted black; border-radius:8px; font-family:verdana; line-height: 1.7em\">\n",
    "<strong>Negative Slicing</strong>\n",
    "<br>\n",
    "• Use the minus operator to refer to an index from the end.\n",
    "</div>"
   ]
  },
  {
   "cell_type": "code",
   "execution_count": 39,
   "id": "604afeaf-e516-457f-aad6-d6013ecccbe8",
   "metadata": {},
   "outputs": [
    {
     "name": "stdout",
     "output_type": "stream",
     "text": [
      "[5 6]\n"
     ]
    }
   ],
   "source": [
    "#Slice from the index 3 from the end to index 1 from the end\n",
    "arr = np.array([1, 2, 3, 4, 5, 6, 7])\n",
    "print(arr[-3:-1])"
   ]
  },
  {
   "cell_type": "markdown",
   "id": "a89cd865-d59a-4d35-8643-56584242127a",
   "metadata": {},
   "source": [
    "<div style=\"background-color:gainsboro; padding:8px; border:2px dotted black; border-radius:8px; font-family:verdana; line-height: 1.7em\">\n",
    "<strong>Step</strong>\n",
    "<br>\n",
    "• Use the step value to determine the step of the slicing.\n",
    "</div>"
   ]
  },
  {
   "cell_type": "code",
   "execution_count": 40,
   "id": "57e29c39-463d-43fb-80a7-4999b325d0fb",
   "metadata": {},
   "outputs": [
    {
     "name": "stdout",
     "output_type": "stream",
     "text": [
      "[2 4]\n"
     ]
    }
   ],
   "source": [
    "#Return every other element from index 1 to index 5\n",
    "arr = np.array([1, 2, 3, 4, 5, 6, 7])\n",
    "print(arr[1:5:2])"
   ]
  },
  {
   "cell_type": "markdown",
   "id": "db5d3950-ebeb-4ee3-982a-85acf7e77a90",
   "metadata": {},
   "source": [
    "<div style=\"background-color:gainsboro; padding:8px; border:2px dotted black; border-radius:8px; font-family:verdana; line-height: 1.7em\">\n",
    "<strong>Slicing 2-D Arrays</strong>\n",
    "</div>"
   ]
  },
  {
   "cell_type": "code",
   "execution_count": 41,
   "id": "dd59b10d-fb08-4254-82b3-857848a76e98",
   "metadata": {},
   "outputs": [
    {
     "name": "stdout",
     "output_type": "stream",
     "text": [
      "[7 8 9]\n"
     ]
    }
   ],
   "source": [
    "#From the second element, slice elements from index 1 to index 4\n",
    "arr = np.array([[1, 2, 3, 4, 5], [6, 7, 8, 9, 10]])\n",
    "print(arr[1, 1:4])"
   ]
  },
  {
   "cell_type": "code",
   "execution_count": 42,
   "id": "db6fb1c4-d94c-469d-b493-70967344e817",
   "metadata": {},
   "outputs": [
    {
     "name": "stdout",
     "output_type": "stream",
     "text": [
      "[3 8]\n"
     ]
    }
   ],
   "source": [
    "#From both elements, return index 2\n",
    "arr = np.array([[1, 2, 3, 4, 5], [6, 7, 8, 9, 10]])\n",
    "print(arr[0:2, 2])"
   ]
  },
  {
   "cell_type": "code",
   "execution_count": 43,
   "id": "47a72b35-7a37-4cae-ae0d-4ede9d0367db",
   "metadata": {},
   "outputs": [
    {
     "name": "stdout",
     "output_type": "stream",
     "text": [
      "[[2 3 4]\n",
      " [7 8 9]]\n"
     ]
    }
   ],
   "source": [
    "#From both elements, slice index 1 to index 4 (not included), this will return a 2-D array:\n",
    "arr = np.array([[1, 2, 3, 4, 5], [6, 7, 8, 9, 10]])\n",
    "print(arr[0:2, 1:4])"
   ]
  },
  {
   "cell_type": "markdown",
   "id": "bc73ec99-5d23-483f-a22b-23a6be467827",
   "metadata": {},
   "source": [
    "<div style=\"background-color:gainsboro; padding:8px; border:2px dotted black; border-radius:8px; font-family:verdana; line-height: 1.7em\">\n",
    "<font color='#6a66bd' size=\"5px\">Data Types in NumPy</font>\n",
    "<br>\n",
    "<br>\n",
    "• NumPy has some extra data types and refer to data types with one character like i for integers, u for unsigned integers etc.\n",
    "<br>\n",
    "• Below is a list of all data types in NumPy and the characters used to represent them.\n",
    "<br>\n",
    "<strong>i</strong> - integer\n",
    "<br>\n",
    "<strong>b</strong> - boolean\n",
    "<br>\n",
    "<strong>u</strong> - unsigned integer\n",
    "<br>\n",
    "<strong>f</strong> - float\n",
    "<br>\n",
    "<strong>c</strong> - complex float\n",
    "<br>\n",
    "<strong>m</strong> - timedelta\n",
    "<br>\n",
    "<strong>M</strong> - datetime\n",
    "<br>\n",
    "<strong>O</strong> - object\n",
    "<br>\n",
    "<strong>S</strong> - string\n",
    "<br>\n",
    "<strong>U</strong> - unicode string\n",
    "<br>\n",
    "<strong>V</strong> - fixed chunk of memory for other type (void)\n",
    "<br>\n",
    "<br>\n",
    "<strong>Checking the Data Type of an Array</strong>\n",
    "<br>\n",
    "• The NumPy array object has a property called dtype that returns the data type of the array.\n",
    "</div>"
   ]
  },
  {
   "cell_type": "code",
   "execution_count": 44,
   "id": "3178f4dd-608c-4499-804f-c5ba7d51f8f8",
   "metadata": {},
   "outputs": [
    {
     "name": "stdout",
     "output_type": "stream",
     "text": [
      "int32\n"
     ]
    }
   ],
   "source": [
    "arr = np.array([1, 2, 3, 4])\n",
    "print(arr.dtype)"
   ]
  },
  {
   "cell_type": "markdown",
   "id": "363d5225-ae65-42f2-99ae-41a07b9a943e",
   "metadata": {},
   "source": [
    "<div style=\"background-color:gainsboro; padding:8px; border:2px dotted black; border-radius:8px; font-family:verdana; line-height: 1.7em\">\n",
    "<strong>Creating Arrays With a Defined Data Type</strong>\n",
    "<br>\n",
    "• We use the array() function to create arrays, this function can take an optional argument : dtype that allows us to define the expected data type of the array elements.\n",
    "</div>"
   ]
  },
  {
   "cell_type": "code",
   "execution_count": 45,
   "id": "88871067-f1e8-4e74-91cb-90b1377fd842",
   "metadata": {},
   "outputs": [
    {
     "name": "stdout",
     "output_type": "stream",
     "text": [
      "[b'1' b'2' b'3' b'4']\n",
      "|S1\n"
     ]
    }
   ],
   "source": [
    "arr = np.array([1, 2, 3, 4], dtype='S')\n",
    "print(arr)\n",
    "print(arr.dtype)"
   ]
  },
  {
   "cell_type": "markdown",
   "id": "9ba481f4-24c0-45de-acf1-ac0ec84b3b22",
   "metadata": {},
   "source": [
    "<div style=\"background-color:gainsboro; padding:8px; border:2px dotted black; border-radius:8px; font-family:verdana; line-height: 1.7em\">\n",
    "• For i, u, f, S and U we can define size for the datatype also.\n",
    "</div>"
   ]
  },
  {
   "cell_type": "code",
   "execution_count": 46,
   "id": "c9dec6f1-5a88-4541-81bb-630ef0ef530c",
   "metadata": {},
   "outputs": [
    {
     "name": "stdout",
     "output_type": "stream",
     "text": [
      "[1 2 3 4]\n",
      "int32\n"
     ]
    }
   ],
   "source": [
    "arr = np.array([1, 2, 3, 4], dtype='i4')\n",
    "print(arr)\n",
    "print(arr.dtype)"
   ]
  },
  {
   "cell_type": "markdown",
   "id": "560a3237-c5a4-459a-a316-b9ffeaaa728e",
   "metadata": {},
   "source": [
    "<div style=\"background-color:gainsboro; padding:8px; border:2px dotted black; border-radius:8px; font-family:verdana; line-height: 1.7em\">\n",
    "<strong>Converting Data Type on Existing Arrays</strong>\n",
    "<br>\n",
    "• The best way to change the data type of an existing array, is to make a copy of the array with the astype() method.\n",
    "<br>\n",
    "• The astype() function creates a copy of the array and allows you to specify the data type as a parameter.\n",
    "<br>\n",
    "• The data type can be specified using a string, like 'f' for float, 'i' for integer etc. \n",
    "<br>\n",
    "• Or you can use the data type directly like float for float and int for integer.\n",
    "</div>"
   ]
  },
  {
   "cell_type": "code",
   "execution_count": 47,
   "id": "5b0474e5-5146-44ea-b165-880d754c165e",
   "metadata": {},
   "outputs": [
    {
     "name": "stdout",
     "output_type": "stream",
     "text": [
      "[1 2 3]\n",
      "int32\n"
     ]
    }
   ],
   "source": [
    "arr = np.array([1.1, 2.1, 3.1])\n",
    "newarr = arr.astype('i')\n",
    "print(newarr)\n",
    "print(newarr.dtype)"
   ]
  },
  {
   "cell_type": "markdown",
   "id": "534ee8d3-14d3-4344-a2db-b568e9883044",
   "metadata": {},
   "source": [
    "<div style=\"background-color:gainsboro; padding:8px; border:2px dotted black; border-radius:8px; font-family:verdana; line-height: 1.7em\">\n",
    "<font color='#6a66bd' size=\"5px\">NumPy Array Copy vs View</font>\n",
    "<br>\n",
    "<br>\n",
    "<strong>Difference Between Copy and View</strong>\n",
    "<br>\n",
    "• The main difference between a copy and a view of an array is that the copy is a new array and the view is just a view of the original array.\n",
    "<br>\n",
    "• The copy owns the data and any changes made to the copy will not affect original array and any changes made to the original array will not affect the copy.\n",
    "<br>\n",
    "• The view does not own the data and any changes made to the view will affect the original array and any changes made to the original array will affect the view.\n",
    "\n",
    "\n",
    "\n",
    "\n",
    "\n",
    "\n",
    "\n",
    "\n",
    "\n",
    "\n",
    "\n",
    "</div>"
   ]
  },
  {
   "cell_type": "code",
   "execution_count": 48,
   "id": "9f98d0b4-da03-457e-a4e3-15733032a4cf",
   "metadata": {},
   "outputs": [
    {
     "name": "stdout",
     "output_type": "stream",
     "text": [
      "[42  2  3  4  5]\n",
      "[1 2 3 4 5]\n"
     ]
    }
   ],
   "source": [
    "#Make a copy, change the original array and display both arrays\n",
    "arr = np.array([1, 2, 3, 4, 5])\n",
    "x = arr.copy()\n",
    "arr[0] = 42\n",
    "print(arr)\n",
    "print(x)"
   ]
  },
  {
   "cell_type": "code",
   "execution_count": 49,
   "id": "a06f0476-ead5-430c-be12-7ee1debc8ed2",
   "metadata": {},
   "outputs": [
    {
     "name": "stdout",
     "output_type": "stream",
     "text": [
      "[42  2  3  4  5]\n",
      "[42  2  3  4  5]\n"
     ]
    }
   ],
   "source": [
    "#Make a view, change the original array and display both arrays\n",
    "arr = np.array([1, 2, 3, 4, 5])\n",
    "x = arr.view()\n",
    "arr[0] = 42\n",
    "print(arr)\n",
    "print(x)"
   ]
  },
  {
   "cell_type": "markdown",
   "id": "5cf063c1-8fb8-427c-9adf-82b6b86da211",
   "metadata": {},
   "source": [
    "<div style=\"background-color:gainsboro; padding:8px; border:2px dotted black; border-radius:8px; font-family:verdana; line-height: 1.7em\">\n",
    "<strong>Check if Array Owns its Data</strong>\n",
    "<br>\n",
    "• Copies owns the data and views does not own the data, but how can we check this?\n",
    "<br>\n",
    "• Every NumPy array has the attribute base that returns None if the array owns the data.\n",
    "<br>\n",
    "• Otherwise, the base attribute refers to the original object.\n",
    "<div style=\"background-color:#ADD8E6; padding:8px; border:1px solid #87CEEB; border-radius:4px;\">\n",
    "<strong>Note :</strong> The copy returns None.\n",
    "</div>\n",
    "<div style=\"background-color:#ADD8E6; padding:8px; border:1px solid #87CEEB; border-radius:4px;\">\n",
    "<strong>Note :</strong> The view returns the original array.\n",
    "</div>\n",
    "</div>"
   ]
  },
  {
   "cell_type": "code",
   "execution_count": 50,
   "id": "1582a186-57d3-41d2-aa99-8bb1137ef07c",
   "metadata": {},
   "outputs": [
    {
     "name": "stdout",
     "output_type": "stream",
     "text": [
      "None\n",
      "[1 2 3 4 5]\n"
     ]
    }
   ],
   "source": [
    "arr = np.array([1, 2, 3, 4, 5])\n",
    "\n",
    "x = arr.copy()\n",
    "y = arr.view()\n",
    "\n",
    "print(x.base)\n",
    "print(y.base)"
   ]
  },
  {
   "cell_type": "markdown",
   "id": "79321ef1-b775-4a46-9c7f-8647c1852ed7",
   "metadata": {},
   "source": [
    "<div style=\"background-color:gainsboro; padding:8px; border:2px dotted black; border-radius:8px; font-family:verdana; line-height: 1.7em\">\n",
    "<font color='#6a66bd' size=\"5px\">NumPy Array Size</font>\n",
    "<br>\n",
    "<br>\n",
    "• To find the total number of elements in the array, use the size function of NumPy.\n",
    "</div>"
   ]
  },
  {
   "cell_type": "code",
   "execution_count": 51,
   "id": "16c65c4c-c95a-4dc7-8e8f-dc736798d84b",
   "metadata": {},
   "outputs": [
    {
     "name": "stdout",
     "output_type": "stream",
     "text": [
      "[[1 2 3 4]\n",
      " [5 6 7 8]]\n",
      "8\n"
     ]
    }
   ],
   "source": [
    "arr = np.array([[1, 2, 3, 4], [5, 6, 7, 8]])\n",
    "print(arr)\n",
    "print(arr.size)"
   ]
  },
  {
   "cell_type": "markdown",
   "id": "8c609cda-71d7-4cf2-9875-b12e3b047a6d",
   "metadata": {},
   "source": [
    "<div style=\"background-color:gainsboro; padding:8px; border:2px dotted black; border-radius:8px; font-family:verdana; line-height: 1.7em\">\n",
    "<font color='#6a66bd' size=\"5px\">NumPy Array Shape</font>\n",
    "<br>\n",
    "<br>\n",
    "<br>\n",
    "<strong>Shape of an Array</strong>\n",
    "<br>\n",
    "• The shape of an array is the number of elements in each dimension.\n",
    "<br>\n",
    "<br>\n",
    "<strong>Get the Shape of an Array</strong>\n",
    "<br>\n",
    "• NumPy arrays have an attribute called shape that returns a tuple with each index having the number of corresponding elements.\n",
    "</div>"
   ]
  },
  {
   "cell_type": "code",
   "execution_count": 52,
   "id": "b236f236-442d-4a0b-bd55-11ef88e286d5",
   "metadata": {},
   "outputs": [
    {
     "name": "stdout",
     "output_type": "stream",
     "text": [
      "[[1 2 3 4]\n",
      " [5 6 7 8]]\n",
      "(2, 4)\n"
     ]
    }
   ],
   "source": [
    "arr = np.array([[1, 2, 3, 4], [5, 6, 7, 8]])\n",
    "print(arr)\n",
    "print(arr.shape)"
   ]
  },
  {
   "cell_type": "markdown",
   "id": "be6c9b2f-1788-4738-aa7a-1abeecafc1b4",
   "metadata": {},
   "source": [
    "<div style=\"background-color:gainsboro; padding:8px; border:2px dotted black; border-radius:8px; font-family:verdana; line-height: 1.7em\">\n",
    "<font color='#6a66bd' size=\"5px\">NumPy Reshaping Array</font>\n",
    "<br>\n",
    "<br>\n",
    "<strong>Reshaping Arrays</strong>\n",
    "<br>\n",
    "• Reshaping means changing the shape of an array.\n",
    "<br>\n",
    "• The shape of an array is the number of elements in each dimension.\n",
    "<br>\n",
    "• By reshaping we can add or remove dimensions or change number of elements in each dimension.\n",
    "</div>"
   ]
  },
  {
   "cell_type": "code",
   "execution_count": 53,
   "id": "aed715d3-4387-452c-bcdf-d3f0e0ba9c34",
   "metadata": {},
   "outputs": [
    {
     "name": "stdout",
     "output_type": "stream",
     "text": [
      "[[ 1  2  3]\n",
      " [ 4  5  6]\n",
      " [ 7  8  9]\n",
      " [10 11 12]]\n"
     ]
    }
   ],
   "source": [
    "#Reshape From 1-D to 2-D\n",
    "arr = np.array([1, 2, 3, 4, 5, 6, 7, 8, 9, 10, 11, 12])\n",
    "newarr = arr.reshape(4, 3)\n",
    "print(newarr)"
   ]
  },
  {
   "cell_type": "code",
   "execution_count": 54,
   "id": "339130e5-fe81-4282-aada-2b07bbcc05ba",
   "metadata": {},
   "outputs": [
    {
     "name": "stdout",
     "output_type": "stream",
     "text": [
      "[[[ 1  2]\n",
      "  [ 3  4]\n",
      "  [ 5  6]]\n",
      "\n",
      " [[ 7  8]\n",
      "  [ 9 10]\n",
      "  [11 12]]]\n"
     ]
    }
   ],
   "source": [
    "#Reshape From 1-D to 3-D\n",
    "arr = np.array([1, 2, 3, 4, 5, 6, 7, 8, 9, 10, 11, 12])\n",
    "newarr = arr.reshape(2, 3, 2)\n",
    "print(newarr)"
   ]
  },
  {
   "cell_type": "markdown",
   "id": "e5c975ca-a754-4e1d-ad3f-1b256b849c42",
   "metadata": {},
   "source": [
    "<div style=\"background-color:gainsboro; padding:8px; border:2px dotted black; border-radius:8px; font-family:verdana; line-height: 1.7em\">\n",
    "<strong>Can We Reshape Into any Shape?</strong>\n",
    "<br>\n",
    "• Yes, as long as the elements required for reshaping are equal in both shapes.\n",
    "<br>\n",
    "• We can reshape an 8 elements 1D array into 4 elements in 2 rows 2D array but we cannot reshape it into a 3 elements 3 rows 2D array as that would require 3x3 = 9 elements.\n",
    "</div>"
   ]
  },
  {
   "cell_type": "code",
   "execution_count": 55,
   "id": "aa6c5359-b4e8-487f-9ec0-ec69e9193b07",
   "metadata": {},
   "outputs": [
    {
     "name": "stdout",
     "output_type": "stream",
     "text": [
      "[[1 2]\n",
      " [3 4]\n",
      " [5 6]\n",
      " [7 8]]\n"
     ]
    }
   ],
   "source": [
    "arr = np.array([1, 2, 3, 4, 5, 6, 7, 8])\n",
    "newarr = arr.reshape(4, 2)\n",
    "print(newarr)"
   ]
  },
  {
   "cell_type": "markdown",
   "id": "147f658a-7db5-4a5d-8f2a-8eea15e20197",
   "metadata": {},
   "source": [
    "<div style=\"background-color:gainsboro; padding:8px; border:2px dotted black; border-radius:8px; font-family:verdana; line-height: 1.7em\">\n",
    "<strong>Returns Copy or View?</strong>\n",
    "<br>\n",
    "• Check if the returned array in reshape is a copy or a view.\n",
    "</div>"
   ]
  },
  {
   "cell_type": "code",
   "execution_count": 56,
   "id": "554f219a-4efb-4f99-ba2e-c5b765b06954",
   "metadata": {},
   "outputs": [
    {
     "name": "stdout",
     "output_type": "stream",
     "text": [
      "[1 2 3 4 5 6 7 8]\n"
     ]
    }
   ],
   "source": [
    "arr = np.array([1, 2, 3, 4, 5, 6, 7, 8])\n",
    "print(arr.reshape(2, 4).base) #It is a view as it returns original array"
   ]
  },
  {
   "cell_type": "markdown",
   "id": "10b4536f-edc5-40ed-ba88-d00c9c92ff50",
   "metadata": {},
   "source": [
    "<div style=\"background-color:gainsboro; padding:8px; border:2px dotted black; border-radius:8px; font-family:verdana; line-height: 1.7em\">\n",
    "<strong>Unknown Dimension</strong>\n",
    "<br>\n",
    "• You are allowed to have one \"unknown\" dimension.\n",
    "<br>\n",
    "• Meaning that you do not have to specify an exact number for one of the dimensions in the reshape method.\n",
    "<br>\n",
    "• Pass -1 as the value and NumPy will calculate this number for you.\n",
    "</div>"
   ]
  },
  {
   "cell_type": "code",
   "execution_count": 57,
   "id": "3030e327-2fdb-434d-8b7f-66f40fa571d0",
   "metadata": {},
   "outputs": [
    {
     "name": "stdout",
     "output_type": "stream",
     "text": [
      "[[[1 2]\n",
      "  [3 4]]\n",
      "\n",
      " [[5 6]\n",
      "  [7 8]]]\n"
     ]
    }
   ],
   "source": [
    "arr = np.array([1, 2, 3, 4, 5, 6, 7, 8])\n",
    "newarr = arr.reshape(2, 2, -1)\n",
    "print(newarr)"
   ]
  },
  {
   "cell_type": "markdown",
   "id": "bdf15b01-43c6-45ec-93fd-980aa4172dbb",
   "metadata": {},
   "source": [
    "<div style=\"background-color:gainsboro; padding:8px; border:2px dotted black; border-radius:8px; font-family:verdana; line-height: 1.7em\">\n",
    "<font color='#6a66bd' size=\"5px\">NumPy Flattening Arrays</font>\n",
    "<br>\n",
    "<br>\n",
    "• Flattening array means converting a multidimensional array into a 1D array.\n",
    "<br>\n",
    "• We can use reshape(-1) to do this.\n",
    "</div>"
   ]
  },
  {
   "cell_type": "code",
   "execution_count": 58,
   "id": "3ae17782-2a95-4bd6-8b0b-57e6154db4d4",
   "metadata": {},
   "outputs": [
    {
     "name": "stdout",
     "output_type": "stream",
     "text": [
      "[1 2 3 4 5 6]\n"
     ]
    }
   ],
   "source": [
    "arr = np.array([[1, 2, 3], [4, 5, 6]])\n",
    "newarr = arr.reshape(-1)\n",
    "print(newarr)"
   ]
  },
  {
   "cell_type": "markdown",
   "id": "4836b0d5-dc2e-40d2-b0fe-63f4af8cfa18",
   "metadata": {},
   "source": [
    "<div style=\"background-color:gainsboro; padding:8px; border:2px dotted black; border-radius:8px; font-family:verdana; line-height: 1.7em\">\n",
    "• arr.ravel() can also be used to flatten an array.\n",
    "</div>"
   ]
  },
  {
   "cell_type": "code",
   "execution_count": 59,
   "id": "de2132b6-81d7-4111-b96f-4b956c0b85d2",
   "metadata": {},
   "outputs": [
    {
     "name": "stdout",
     "output_type": "stream",
     "text": [
      "[1 2 3 4 5 6 7 8 9]\n"
     ]
    }
   ],
   "source": [
    "arr = np.array([[1,2,3],[4,5,6],[7,8,9]])\n",
    "newarr = arr.ravel()\n",
    "print(newarr)"
   ]
  },
  {
   "cell_type": "markdown",
   "id": "6fce2908-888a-44f6-98f6-9259598e52e7",
   "metadata": {},
   "source": [
    "<div style=\"background-color:gainsboro; padding:8px; border:2px dotted black; border-radius:8px; font-family:verdana; line-height: 1.7em\">\n",
    "• You can use flatten() to flatten your array into a 1D array.\n",
    "</div>"
   ]
  },
  {
   "cell_type": "code",
   "execution_count": 60,
   "id": "730fd40b-648f-4c73-9c71-7d944fda0de4",
   "metadata": {},
   "outputs": [
    {
     "name": "stdout",
     "output_type": "stream",
     "text": [
      "[1 2 3 4 5 6 7 8 9]\n"
     ]
    }
   ],
   "source": [
    "arr = np.array([[1,2,3],[4,5,6],[7,8,9]])\n",
    "newarr = arr.flatten()\n",
    "print(newarr)"
   ]
  },
  {
   "cell_type": "markdown",
   "id": "f656b872-6810-45c3-872b-51817c04b76f",
   "metadata": {},
   "source": [
    "<div style=\"background-color:gainsboro; padding:8px; border:2px dotted black; border-radius:8px; font-family:verdana; line-height: 1.7em\">\n",
    "<font color='#6a66bd' size=\"5px\">Reversing an Array</font>\n",
    "<br>\n",
    "<br>\n",
    "• np.flip() function allows you to flip or reverse the contents of an array along an axis. \n",
    "<br>\n",
    "• When using np.flip(), specify the array you would like to reverse and the axis. \n",
    "<br>\n",
    "• If you don’t specify the axis, NumPy will reverse the contents along all of the axes of your input array.\n",
    "</div>"
   ]
  },
  {
   "cell_type": "code",
   "execution_count": 61,
   "id": "c1f3fb7e-14a4-4568-88e3-5d937e531295",
   "metadata": {},
   "outputs": [
    {
     "name": "stdout",
     "output_type": "stream",
     "text": [
      "[1 2 3 4 5 6 7 8]\n",
      "[8 7 6 5 4 3 2 1]\n"
     ]
    }
   ],
   "source": [
    "#Reversing an 1D Array\n",
    "arr = np.array([1, 2, 3, 4, 5, 6, 7, 8])\n",
    "newarr = np.flip(arr)\n",
    "\n",
    "print(arr)\n",
    "\n",
    "print(newarr)"
   ]
  },
  {
   "cell_type": "code",
   "execution_count": 62,
   "id": "b4e09752-e821-4d55-a30c-2b201d864a03",
   "metadata": {},
   "outputs": [
    {
     "name": "stdout",
     "output_type": "stream",
     "text": [
      "[[1 2 3]\n",
      " [4 5 6]\n",
      " [7 8 9]]\n",
      "[[9 8 7]\n",
      " [6 5 4]\n",
      " [3 2 1]]\n"
     ]
    }
   ],
   "source": [
    "#Reversing an 2D Array\n",
    "arr = np.array([[1,2,3],[4,5,6],[7,8,9]])\n",
    "newarr = np.flip(arr)\n",
    "\n",
    "print(arr)\n",
    "\n",
    "print(newarr)"
   ]
  },
  {
   "cell_type": "markdown",
   "id": "93c9e27e-5a2b-4731-9d14-c3221f98fa0a",
   "metadata": {},
   "source": [
    "<div style=\"background-color:gainsboro; padding:8px; border:2px dotted black; border-radius:8px; font-family:verdana; line-height: 1.7em\">\n",
    "<font color='#6a66bd' size=\"5px\">NumPy Unique Elements</font>\n",
    "<br>\n",
    "<br>\n",
    "• You can find the unique elements in an array easily with np.unique.\n",
    "</div>"
   ]
  },
  {
   "cell_type": "code",
   "execution_count": 63,
   "id": "24a8b645-6d81-4512-a1c0-fbf0a998d44b",
   "metadata": {},
   "outputs": [
    {
     "name": "stdout",
     "output_type": "stream",
     "text": [
      "[11 12 13 14 15 16 17 18 19 20]\n"
     ]
    }
   ],
   "source": [
    "arr = np.array([11, 11, 12, 13, 14, 15, 16, 17, 12, 13, 11, 14, 18, 19, 20])\n",
    "newarr = np.unique(arr)\n",
    "print(newarr)"
   ]
  },
  {
   "cell_type": "markdown",
   "id": "5462c079-e5f1-426c-96e0-1e9a4203709f",
   "metadata": {},
   "source": [
    "<div style=\"background-color:gainsboro; padding:8px; border:2px dotted black; border-radius:8px; font-family:verdana; line-height: 1.7em\">\n",
    "• To get the index of unique values in a NumPy array, just pass the return_index argument in np.unique() function.\n",
    "</div>"
   ]
  },
  {
   "cell_type": "code",
   "execution_count": 64,
   "id": "8b939802-53b7-49e5-8241-efefe9a6cf25",
   "metadata": {},
   "outputs": [
    {
     "name": "stdout",
     "output_type": "stream",
     "text": [
      "[11 12 13 14 15 16 17 18 19 20]\n",
      "[ 0  2  3  4  5  6  7 12 13 14]\n"
     ]
    }
   ],
   "source": [
    "arr = np.array([11, 11, 12, 13, 14, 15, 16, 17, 12, 13, 11, 14, 18, 19, 20])\n",
    "newarr, index_list = np.unique(arr, return_index=True)\n",
    "print(newarr)\n",
    "print(index_list)"
   ]
  },
  {
   "cell_type": "markdown",
   "id": "9fbc6ebe-e104-4651-813a-651eb045f580",
   "metadata": {},
   "source": [
    "<div style=\"background-color:gainsboro; padding:8px; border:2px dotted black; border-radius:8px; font-family:verdana; line-height: 1.7em\">\n",
    "• You can pass the return_counts argument in np.unique() along with your array to get the frequency count of unique values in a NumPy array.\n",
    "</div>"
   ]
  },
  {
   "cell_type": "code",
   "execution_count": 65,
   "id": "6c59286a-7961-48f5-8823-9ef144008f76",
   "metadata": {},
   "outputs": [
    {
     "name": "stdout",
     "output_type": "stream",
     "text": [
      "[11 12 13 14 15 16 17 18 19 20]\n",
      "[3 2 2 2 1 1 1 1 1 1]\n"
     ]
    }
   ],
   "source": [
    "arr = np.array([11, 11, 12, 13, 14, 15, 16, 17, 12, 13, 11, 14, 18, 19, 20])\n",
    "newarr, count_list = np.unique(arr, return_counts=True)\n",
    "print(newarr)\n",
    "print(count_list)"
   ]
  },
  {
   "cell_type": "markdown",
   "id": "fa427819-7686-4912-960c-0594ec741696",
   "metadata": {},
   "source": [
    "<div style=\"background-color:gainsboro; padding:8px; border:2px dotted black; border-radius:8px; font-family:verdana; line-height: 1.7em\">\n",
    "<font color='#6a66bd' size=\"5px\">NumPy Iterating Array</font>\n",
    "<br>\n",
    "<br>\n",
    "<strong>Iterating Arrays</strong>\n",
    "<br>\n",
    "• Iterating means going through elements one by one.\n",
    "<br>\n",
    "• As we deal with multi-dimensional arrays in numpy, we can do this using basic for loop of python.\n",
    "<br>\n",
    "• If we iterate on a 1-D array it will go through each element one by one.\n",
    "</div>"
   ]
  },
  {
   "cell_type": "code",
   "execution_count": 66,
   "id": "8a807721-f1bc-4672-a1be-89de80113c34",
   "metadata": {},
   "outputs": [
    {
     "name": "stdout",
     "output_type": "stream",
     "text": [
      "1\n",
      "2\n",
      "3\n"
     ]
    }
   ],
   "source": [
    "arr = np.array([1, 2, 3])\n",
    "for x in arr:\n",
    "  print(x)"
   ]
  },
  {
   "cell_type": "markdown",
   "id": "93948133-b1d8-477a-a1ca-09e23e698d32",
   "metadata": {},
   "source": [
    "<div style=\"background-color:gainsboro; padding:8px; border:2px dotted black; border-radius:8px; font-family:verdana; line-height: 1.7em\">\n",
    "<strong>Iterating 2-D Arrays</strong>\n",
    "<br>\n",
    "• In a 2-D array it will go through all the rows.\n",
    "</div>"
   ]
  },
  {
   "cell_type": "code",
   "execution_count": 67,
   "id": "a4a2c08b-0ce9-4daa-beb8-0f4949b8a958",
   "metadata": {},
   "outputs": [
    {
     "name": "stdout",
     "output_type": "stream",
     "text": [
      "[1 2 3]\n",
      "[4 5 6]\n"
     ]
    }
   ],
   "source": [
    "arr = np.array([[1, 2, 3], [4, 5, 6]])\n",
    "for x in arr:\n",
    "  print(x)"
   ]
  },
  {
   "cell_type": "code",
   "execution_count": 68,
   "id": "fc8de64e-546b-41df-a081-e4e79baaa16f",
   "metadata": {},
   "outputs": [
    {
     "name": "stdout",
     "output_type": "stream",
     "text": [
      "1\n",
      "2\n",
      "3\n",
      "4\n",
      "5\n",
      "6\n"
     ]
    }
   ],
   "source": [
    "#Iterate on each scalar element of the 2-D array\n",
    "arr = np.array([[1, 2, 3], [4, 5, 6]])\n",
    "for x in arr:\n",
    "  for y in x:\n",
    "    print(y)"
   ]
  },
  {
   "cell_type": "markdown",
   "id": "02ea74c4-e1c9-4356-921b-6bacc8519de6",
   "metadata": {},
   "source": [
    "<div style=\"background-color:gainsboro; padding:8px; border:2px dotted black; border-radius:8px; font-family:verdana; line-height: 1.7em\">\n",
    "<strong>Iterating 3-D Arrays</strong>\n",
    "<br>\n",
    "• In a 3-D array it will go through all the 2-D arrays.\n",
    "</div>"
   ]
  },
  {
   "cell_type": "code",
   "execution_count": 69,
   "id": "b97f6bdf-88a2-488c-8986-7ab9beadc3f6",
   "metadata": {},
   "outputs": [
    {
     "name": "stdout",
     "output_type": "stream",
     "text": [
      "[[1 2 3]\n",
      " [4 5 6]]\n",
      "[[ 7  8  9]\n",
      " [10 11 12]]\n"
     ]
    }
   ],
   "source": [
    "arr = np.array([[[1, 2, 3], [4, 5, 6]], [[7, 8, 9], [10, 11, 12]]])\n",
    "for x in arr:\n",
    "  print(x)"
   ]
  },
  {
   "cell_type": "code",
   "execution_count": 70,
   "id": "3929387b-d444-4073-811a-a866fb488cb1",
   "metadata": {},
   "outputs": [
    {
     "name": "stdout",
     "output_type": "stream",
     "text": [
      "1\n",
      "2\n",
      "3\n",
      "4\n",
      "5\n",
      "6\n",
      "7\n",
      "8\n",
      "9\n",
      "10\n",
      "11\n",
      "12\n"
     ]
    }
   ],
   "source": [
    "#Iterate on each scalar element of the 2-D array\n",
    "arr = np.array([[[1, 2, 3], [4, 5, 6]], [[7, 8, 9], [10, 11, 12]]])\n",
    "for x in arr:\n",
    "  for y in x:\n",
    "    for z in y:\n",
    "      print(z)"
   ]
  },
  {
   "cell_type": "markdown",
   "id": "4e9a9f60-817a-4909-9cff-c348492b5d74",
   "metadata": {},
   "source": [
    "<div style=\"background-color:gainsboro; padding:8px; border:2px dotted black; border-radius:8px; font-family:verdana; line-height: 1.7em\">\n",
    "<strong>Iterating Arrays Using nditer()</strong>\n",
    "<br>\n",
    "• The function nditer() is a helping function that can be used from very basic to very advanced iterations. \n",
    "<br>    \n",
    "• It solves some basic issues which we face in iteration, lets go through it with examples.\n",
    "</div>"
   ]
  },
  {
   "cell_type": "code",
   "execution_count": 71,
   "id": "917b124c-49cf-435b-bdeb-df55cf1941a0",
   "metadata": {},
   "outputs": [
    {
     "name": "stdout",
     "output_type": "stream",
     "text": [
      "1\n",
      "2\n",
      "3\n",
      "4\n",
      "5\n",
      "6\n",
      "7\n",
      "8\n"
     ]
    }
   ],
   "source": [
    "arr = np.array([[[1, 2], [3, 4]], [[5, 6], [7, 8]]])\n",
    "for x in np.nditer(arr):\n",
    "  print(x)"
   ]
  },
  {
   "cell_type": "markdown",
   "id": "4d0b2b0f-ae17-434e-abda-f95554f2adfe",
   "metadata": {},
   "source": [
    "<div style=\"background-color:gainsboro; padding:8px; border:2px dotted black; border-radius:8px; font-family:verdana; line-height: 1.7em\">\n",
    "<strong>Iterating With Different Step Size</strong>\n",
    "<br>\n",
    "• We can use filtering and followed by iteration.\n",
    "</div>"
   ]
  },
  {
   "cell_type": "code",
   "execution_count": 72,
   "id": "0fcb591c-ef83-43f3-8f08-f90abf5a4017",
   "metadata": {},
   "outputs": [
    {
     "name": "stdout",
     "output_type": "stream",
     "text": [
      "1\n",
      "3\n",
      "5\n",
      "7\n"
     ]
    }
   ],
   "source": [
    "#Iterate through every scalar element of the 2D array skipping 1 element\n",
    "arr = np.array([[1, 2, 3, 4], [5, 6, 7, 8]])\n",
    "for x in np.nditer(arr[:, ::2]):\n",
    "  print(x)"
   ]
  },
  {
   "cell_type": "markdown",
   "id": "a7ca8127-f647-4f23-8371-d3d9ba390426",
   "metadata": {},
   "source": [
    "<div style=\"background-color:gainsboro; padding:8px; border:2px dotted black; border-radius:8px; font-family:verdana; line-height: 1.7em\">\n",
    "<strong>Enumerated Iteration Using ndenumerate()</strong>\n",
    "<br>\n",
    "• Enumeration means mentioning sequence number of somethings one by one.\n",
    "<br>\n",
    "• Sometimes we require corresponding index of the element while iterating, the ndenumerate() method can be used for those use cases.\n",
    "</div>"
   ]
  },
  {
   "cell_type": "code",
   "execution_count": 73,
   "id": "0b5bbf99-85e7-4ef5-a4c4-dcea8cc01710",
   "metadata": {},
   "outputs": [
    {
     "name": "stdout",
     "output_type": "stream",
     "text": [
      "(0,) 1\n",
      "(1,) 2\n",
      "(2,) 3\n"
     ]
    }
   ],
   "source": [
    "#Enumerate on following 1D arrays elements\n",
    "arr = np.array([1, 2, 3])\n",
    "for idx, x in np.ndenumerate(arr):\n",
    "  print(idx, x)"
   ]
  },
  {
   "cell_type": "code",
   "execution_count": 74,
   "id": "fb2836b9-0783-440c-ba82-67070a4f6ae1",
   "metadata": {},
   "outputs": [
    {
     "name": "stdout",
     "output_type": "stream",
     "text": [
      "(0, 0) 1\n",
      "(0, 1) 2\n",
      "(0, 2) 3\n",
      "(0, 3) 4\n",
      "(1, 0) 5\n",
      "(1, 1) 6\n",
      "(1, 2) 7\n",
      "(1, 3) 8\n"
     ]
    }
   ],
   "source": [
    "#Enumerate on following 2D arrays elements\n",
    "arr = np.array([[1, 2, 3, 4], [5, 6, 7, 8]])\n",
    "for idx, x in np.ndenumerate(arr):\n",
    "  print(idx, x)"
   ]
  },
  {
   "attachments": {},
   "cell_type": "markdown",
   "id": "9841cd1b-6a2c-49cb-8f61-10d414ed4637",
   "metadata": {},
   "source": [
    "<div style=\"background-color:gainsboro; padding:8px; border:2px dotted black; border-radius:8px; font-family:verdana; line-height: 1.7em\">\n",
    "<font color='#6a66bd' size=\"5px\">NumPy Joining Array</font>\n",
    "<br>\n",
    "<br>\n",
    "<strong>Joining NumPy Arrays</strong>\n",
    "<br>\n",
    "• Joining means putting contents of two or more arrays in a single array.\n",
    "<br>\n",
    "• We pass a sequence of arrays that we want to join to the concatenate() function, along with the axis. \n",
    "<br>\n",
    "• If axis is not explicitly passed, it is taken as 0.\n",
    "<br>\n",
    "→ Axis 0 = Rows\n",
    "<br>\n",
    "→ Axis 1 = Columns  \n",
    "</div>"
   ]
  },
  {
   "cell_type": "code",
   "execution_count": 75,
   "id": "ca6492fe-0b69-4b06-af1f-096909e36b70",
   "metadata": {},
   "outputs": [
    {
     "name": "stdout",
     "output_type": "stream",
     "text": [
      "[1 2 3 4 5 6]\n"
     ]
    }
   ],
   "source": [
    "#Join two 1-D arrays\n",
    "arr1 = np.array([1, 2, 3])\n",
    "arr2 = np.array([4, 5, 6])\n",
    "\n",
    "arr = np.concatenate((arr1, arr2))\n",
    "\n",
    "print(arr)"
   ]
  },
  {
   "cell_type": "code",
   "execution_count": 76,
   "id": "e5087ef5-6658-45bb-8c45-20999e3ac42d",
   "metadata": {},
   "outputs": [
    {
     "name": "stdout",
     "output_type": "stream",
     "text": [
      "[[1 2 5 6]\n",
      " [3 4 7 8]]\n"
     ]
    }
   ],
   "source": [
    "#Join two 2-D arrays along rows (axis=1)\n",
    "arr1 = np.array([[1, 2], [3, 4]])\n",
    "arr2 = np.array([[5, 6], [7, 8]])\n",
    "\n",
    "arr = np.concatenate((arr1, arr2), axis=1)\n",
    "\n",
    "print(arr)"
   ]
  },
  {
   "cell_type": "markdown",
   "id": "deba6019-780c-47eb-b997-b196eb6f4ba9",
   "metadata": {},
   "source": [
    "<div style=\"background-color:gainsboro; padding:8px; border:2px dotted black; border-radius:8px; font-family:verdana; line-height: 1.7em\">\n",
    "<strong>Joining Arrays Using Stack Functions</strong>\n",
    "<br>\n",
    "• Stacking is same as concatenation, the only difference is that stacking is done along a new axis.\n",
    "<br>\n",
    "• We can concatenate two 1-D arrays along the second axis which would result in putting them one over the other, ie. stacking.\n",
    "<br>\n",
    "• We pass a sequence of arrays that we want to join to the stack() method along with the axis. If axis is not explicitly passed it is taken as 0.\n",
    "</div>"
   ]
  },
  {
   "cell_type": "code",
   "execution_count": 77,
   "id": "468bc1e7-b110-4aaf-8aeb-07f17e2f6276",
   "metadata": {},
   "outputs": [
    {
     "name": "stdout",
     "output_type": "stream",
     "text": [
      "[[1 4]\n",
      " [2 5]\n",
      " [3 6]]\n"
     ]
    }
   ],
   "source": [
    "arr1 = np.array([1, 2, 3])\n",
    "arr2 = np.array([4, 5, 6])\n",
    "\n",
    "arr = np.stack((arr1, arr2), axis=1)\n",
    "\n",
    "print(arr)"
   ]
  },
  {
   "cell_type": "markdown",
   "id": "a267c9d7-bf59-4cdf-817d-4f171dda30ae",
   "metadata": {},
   "source": [
    "<div style=\"background-color:gainsboro; padding:8px; border:2px dotted black; border-radius:8px; font-family:verdana; line-height: 1.7em\">\n",
    "<strong>Stacking Along Rows</strong>\n",
    "<br>\n",
    "• NumPy provides a helper function : hstack() to stack along rows.\n",
    "</div>"
   ]
  },
  {
   "cell_type": "code",
   "execution_count": 78,
   "id": "5d5fc111-4956-49dc-9d95-a07d883bca4f",
   "metadata": {},
   "outputs": [
    {
     "name": "stdout",
     "output_type": "stream",
     "text": [
      "[1 2 3 4 5 6]\n"
     ]
    }
   ],
   "source": [
    "arr1 = np.array([1, 2, 3])\n",
    "arr2 = np.array([4, 5, 6])\n",
    "\n",
    "arr = np.hstack((arr1, arr2))\n",
    "\n",
    "print(arr)"
   ]
  },
  {
   "cell_type": "markdown",
   "id": "7db93e3a-7837-464b-b3a0-d9ffd76e5cc4",
   "metadata": {},
   "source": [
    "<div style=\"background-color:gainsboro; padding:8px; border:2px dotted black; border-radius:8px; font-family:verdana; line-height: 1.7em\">\n",
    "<strong>Stacking Along Columns</strong>\n",
    "<br>\n",
    "• NumPy provides a helper function : vstack() to stack along columns.\n",
    "</div>"
   ]
  },
  {
   "cell_type": "code",
   "execution_count": 79,
   "id": "9ecb8a6c-6dd9-4d11-bf25-7d90d6370bfc",
   "metadata": {},
   "outputs": [
    {
     "name": "stdout",
     "output_type": "stream",
     "text": [
      "[[1 2 3]\n",
      " [4 5 6]]\n"
     ]
    }
   ],
   "source": [
    "arr1 = np.array([1, 2, 3])\n",
    "arr2 = np.array([4, 5, 6])\n",
    "\n",
    "arr = np.vstack((arr1, arr2))\n",
    "\n",
    "print(arr)"
   ]
  },
  {
   "cell_type": "markdown",
   "id": "b6ed315e-3583-4cc5-a923-e556f908d5d9",
   "metadata": {},
   "source": [
    "<div style=\"background-color:gainsboro; padding:8px; border:2px dotted black; border-radius:8px; font-family:verdana; line-height: 1.7em\">\n",
    "<strong>Stacking Along Height (depth)</strong>\n",
    "<br>\n",
    "• NumPy provides a helper function : dstack() to stack along height, which is the same as depth.\n",
    "</div>"
   ]
  },
  {
   "cell_type": "code",
   "execution_count": 80,
   "id": "971993d0-2e60-4503-8846-7c38558184c6",
   "metadata": {},
   "outputs": [
    {
     "name": "stdout",
     "output_type": "stream",
     "text": [
      "[[[1 4]\n",
      "  [2 5]\n",
      "  [3 6]]]\n"
     ]
    }
   ],
   "source": [
    "arr1 = np.array([1, 2, 3])\n",
    "arr2 = np.array([4, 5, 6])\n",
    "\n",
    "arr = np.dstack((arr1, arr2))\n",
    "\n",
    "print(arr)"
   ]
  },
  {
   "cell_type": "markdown",
   "id": "dcd80541-7d42-489a-aba5-fc384751d483",
   "metadata": {},
   "source": [
    "<div style=\"background-color:gainsboro; padding:8px; border:2px dotted black; border-radius:8px; font-family:verdana; line-height: 1.7em\">\n",
    "<font color='#6a66bd' size=\"5px\">NumPy Splitting Array</font>\n",
    "<br>\n",
    "<br>\n",
    "<strong>Splitting NumPy Arrays</strong>\n",
    "<br>\n",
    "• Splitting is reverse operation of Joining.\n",
    "<br>\n",
    "• Joining merges multiple arrays into one and Splitting breaks one array into multiple.\n",
    "<br>\n",
    "• We use array_split() for splitting arrays, we pass it the array we want to split and the number of splits.\n",
    "<div style=\"background-color:#ADD8E6; padding:8px; border:1px solid #87CEEB; border-radius:4px;\">\n",
    "<strong>Note :</strong> The return value is a list containing three arrays.\n",
    "</div>\n",
    "</div>"
   ]
  },
  {
   "cell_type": "code",
   "execution_count": 81,
   "id": "2bf55701-7581-4150-81fd-9842665bd131",
   "metadata": {},
   "outputs": [
    {
     "name": "stdout",
     "output_type": "stream",
     "text": [
      "[array([1, 2]), array([3, 4]), array([5, 6])]\n"
     ]
    }
   ],
   "source": [
    "arr = np.array([1, 2, 3, 4, 5, 6])\n",
    "newarr = np.array_split(arr, 3)\n",
    "print(newarr)"
   ]
  },
  {
   "cell_type": "code",
   "execution_count": 82,
   "id": "bb80882f-92ca-46b6-a9c8-8759367e4f52",
   "metadata": {},
   "outputs": [
    {
     "name": "stdout",
     "output_type": "stream",
     "text": [
      "[array([1, 2]), array([3, 4]), array([5]), array([6])]\n"
     ]
    }
   ],
   "source": [
    "arr = np.array([1, 2, 3, 4, 5, 6])\n",
    "newarr = np.array_split(arr, 4)\n",
    "print(newarr)"
   ]
  },
  {
   "cell_type": "markdown",
   "id": "7f06875a-9bb8-413d-9ad2-3263666c769c",
   "metadata": {},
   "source": [
    "<div style=\"background-color:gainsboro; padding:8px; border:2px dotted black; border-radius:8px; font-family:verdana; line-height: 1.7em\">\n",
    "<strong>Split Into Arrays</strong>\n",
    "<br>\n",
    "• The return value of the array_split() method is an array containing each of the split as an array.\n",
    "<br>\n",
    "• If you split an array into 3 arrays, you can access them from the result just like any array element.\n",
    "</div>"
   ]
  },
  {
   "cell_type": "code",
   "execution_count": 83,
   "id": "5e04e399-bad9-432c-8132-905946405eca",
   "metadata": {},
   "outputs": [
    {
     "name": "stdout",
     "output_type": "stream",
     "text": [
      "[1 2]\n",
      "[3 4]\n",
      "[5 6]\n"
     ]
    }
   ],
   "source": [
    "arr = np.array([1, 2, 3, 4, 5, 6])\n",
    "\n",
    "newarr = np.array_split(arr, 3)\n",
    "\n",
    "print(newarr[0])\n",
    "print(newarr[1])\n",
    "print(newarr[2])"
   ]
  },
  {
   "cell_type": "markdown",
   "id": "d2c238c0-bf70-48b7-8d05-e50b44ddde43",
   "metadata": {},
   "source": [
    "<div style=\"background-color:gainsboro; padding:8px; border:2px dotted black; border-radius:8px; font-family:verdana; line-height: 1.7em\">\n",
    "<strong>Splitting 2-D Arrays</strong>\n",
    "<br>\n",
    "• Use the same syntax when splitting 2-D arrays.\n",
    "<br>\n",
    "• Use the array_split() method, pass in the array you want to split and the number of splits you want to do.\n",
    "</div>"
   ]
  },
  {
   "cell_type": "code",
   "execution_count": 84,
   "id": "d6174c28-22ad-40d2-a087-27eee375a0fe",
   "metadata": {},
   "outputs": [
    {
     "name": "stdout",
     "output_type": "stream",
     "text": [
      "[array([[1, 2],\n",
      "       [3, 4]]), array([[5, 6],\n",
      "       [7, 8]]), array([[ 9, 10],\n",
      "       [11, 12]])]\n"
     ]
    }
   ],
   "source": [
    "#Split the 2-D array into three 2-D arrays\n",
    "arr = np.array([[1, 2], [3, 4], [5, 6], [7, 8], [9, 10], [11, 12]])\n",
    "newarr = np.array_split(arr, 3)\n",
    "print(newarr)"
   ]
  },
  {
   "cell_type": "markdown",
   "id": "d5d805b4-7ca4-4ae9-9b24-065622600eff",
   "metadata": {},
   "source": [
    "<div style=\"background-color:gainsboro; padding:8px; border:2px dotted black; border-radius:8px; font-family:verdana; line-height: 1.7em\">\n",
    "• In addition, you can specify which axis you want to do the split around.\n",
    "</div>"
   ]
  },
  {
   "cell_type": "code",
   "execution_count": 85,
   "id": "0f0ab5cc-13d6-4f38-9483-1e93d6dcdf6d",
   "metadata": {},
   "outputs": [
    {
     "name": "stdout",
     "output_type": "stream",
     "text": [
      "[array([[ 1],\n",
      "       [ 4],\n",
      "       [ 7],\n",
      "       [10],\n",
      "       [13],\n",
      "       [16]]), array([[ 2],\n",
      "       [ 5],\n",
      "       [ 8],\n",
      "       [11],\n",
      "       [14],\n",
      "       [17]]), array([[ 3],\n",
      "       [ 6],\n",
      "       [ 9],\n",
      "       [12],\n",
      "       [15],\n",
      "       [18]])]\n"
     ]
    }
   ],
   "source": [
    "#Split the 2-D array into three 2-D arrays along columns\n",
    "arr = np.array([[1, 2, 3], [4, 5, 6], [7, 8, 9], [10, 11, 12], [13, 14, 15], [16, 17, 18]])\n",
    "newarr = np.array_split(arr, 3, axis=1)\n",
    "print(newarr)"
   ]
  },
  {
   "cell_type": "code",
   "execution_count": 86,
   "id": "9b56b543-bdd6-4f9a-b04e-f821ba059586",
   "metadata": {},
   "outputs": [
    {
     "name": "stdout",
     "output_type": "stream",
     "text": [
      "[array([[ 1],\n",
      "       [ 4],\n",
      "       [ 7],\n",
      "       [10],\n",
      "       [13],\n",
      "       [16]]), array([[ 2],\n",
      "       [ 5],\n",
      "       [ 8],\n",
      "       [11],\n",
      "       [14],\n",
      "       [17]]), array([[ 3],\n",
      "       [ 6],\n",
      "       [ 9],\n",
      "       [12],\n",
      "       [15],\n",
      "       [18]])]\n"
     ]
    }
   ],
   "source": [
    "#Split the 2-D array into three 2-D arrays with hsplit()\n",
    "arr = np.array([[1, 2, 3], [4, 5, 6], [7, 8, 9], [10, 11, 12], [13, 14, 15], [16, 17, 18]])\n",
    "newarr = np.hsplit(arr, 3)\n",
    "print(newarr)"
   ]
  },
  {
   "cell_type": "code",
   "execution_count": 87,
   "id": "b282064d-1d53-456b-ba18-04d75eba35fc",
   "metadata": {},
   "outputs": [
    {
     "name": "stdout",
     "output_type": "stream",
     "text": [
      "[array([[1, 2, 3],\n",
      "       [4, 5, 6]]), array([[ 7,  8,  9],\n",
      "       [10, 11, 12]]), array([[13, 14, 15],\n",
      "       [16, 17, 18]])]\n"
     ]
    }
   ],
   "source": [
    "#Split the 2-D array into three 2-D arrays using vsplit()\n",
    "arr = np.array([[1, 2, 3], [4, 5, 6], [7, 8, 9], [10, 11, 12], [13, 14, 15], [16, 17, 18]])\n",
    "newarr = np.vsplit(arr, 3)\n",
    "print(newarr)"
   ]
  },
  {
   "cell_type": "markdown",
   "id": "2f750ff2-b94d-471d-90cb-76c5346cd820",
   "metadata": {},
   "source": [
    "<div style=\"background-color:gainsboro; padding:8px; border:2px dotted black; border-radius:8px; font-family:verdana; line-height: 1.7em\">\n",
    "<font color='#6a66bd' size=\"5px\">NumPy Searching Arrays</font>\n",
    "<br>\n",
    "<br>\n",
    "<strong>Searching Arrays</strong>\n",
    "<br>\n",
    "• You can search an array for a certain value and return the indexes that get a match.\n",
    "<br>\n",
    "• To search an array, use the where() method.\n",
    "<br>\n",
    "• It returns a tuple after finding elements according to condition.\n",
    "</div>"
   ]
  },
  {
   "cell_type": "code",
   "execution_count": 88,
   "id": "5c495d3a-053f-43d1-b29c-2f9497f7ee0e",
   "metadata": {},
   "outputs": [
    {
     "name": "stdout",
     "output_type": "stream",
     "text": [
      "(array([3, 5, 6], dtype=int64),)\n"
     ]
    }
   ],
   "source": [
    "#Find the indexes where the value is 4\n",
    "arr = np.array([1, 2, 3, 4, 5, 4, 4])\n",
    "x = np.where(arr == 4)\n",
    "print(x)"
   ]
  },
  {
   "cell_type": "code",
   "execution_count": 89,
   "id": "610cc39e-bbf6-4788-bfc8-e79be3d9dcfd",
   "metadata": {},
   "outputs": [
    {
     "name": "stdout",
     "output_type": "stream",
     "text": [
      "(array([1, 3, 5, 7], dtype=int64),)\n"
     ]
    }
   ],
   "source": [
    "#Find the indexes where the values are even\n",
    "arr = np.array([1, 2, 3, 4, 5, 6, 7, 8])\n",
    "x = np.where(arr%2 == 0)\n",
    "print(x)"
   ]
  },
  {
   "cell_type": "markdown",
   "id": "ff6d2c97-6ea9-4bc1-af93-4c9cfe22cafb",
   "metadata": {},
   "source": [
    "<div style=\"background-color:gainsboro; padding:8px; border:2px dotted black; border-radius:8px; font-family:verdana; line-height: 1.7em\">\n",
    "<strong>Search Sorted</strong>\n",
    "<br>\n",
    "• There is a method called searchsorted() which performs a binary search in the array and returns the index where the specified value would be inserted to maintain the search order.\n",
    "<br>\n",
    "• The searchsorted() method is assumed to be used on sorted arrays.\n",
    "<br>\n",
    "• The method starts the search from the left and returns the first index where the number is no longer larger than the next value.\n",
    "</div>"
   ]
  },
  {
   "cell_type": "code",
   "execution_count": 90,
   "id": "909c698b-6e3e-4398-a036-a7a2699edfa9",
   "metadata": {},
   "outputs": [
    {
     "name": "stdout",
     "output_type": "stream",
     "text": [
      "1\n"
     ]
    }
   ],
   "source": [
    "#Find the indexes where the value 7 should be inserted\n",
    "arr = np.array([6, 7, 8, 9])\n",
    "x = np.searchsorted(arr, 7)\n",
    "print(x)"
   ]
  },
  {
   "cell_type": "markdown",
   "id": "15390332-14bd-4a08-a8e0-72a86f6d505a",
   "metadata": {},
   "source": [
    "<div style=\"background-color:gainsboro; padding:8px; border:2px dotted black; border-radius:8px; font-family:verdana; line-height: 1.7em\">\n",
    "<strong>Search From the Right Side</strong>\n",
    "<br>\n",
    "• By default the left most index is returned, but we can give side='right' to return the right most index instead.\n",
    "</div>"
   ]
  },
  {
   "cell_type": "code",
   "execution_count": 91,
   "id": "b6ab631b-861f-43aa-8a59-70a61189fb85",
   "metadata": {},
   "outputs": [
    {
     "name": "stdout",
     "output_type": "stream",
     "text": [
      "2\n"
     ]
    }
   ],
   "source": [
    "#Find the indexes where the value 7 should be inserted, starting from the right\n",
    "arr = np.array([6, 7, 8, 9])\n",
    "x = np.searchsorted(arr, 7, side='right')\n",
    "print(x)"
   ]
  },
  {
   "cell_type": "markdown",
   "id": "c679e6a4-c680-442d-a718-0cfdcb0b3cbb",
   "metadata": {},
   "source": [
    "<div style=\"background-color:gainsboro; padding:8px; border:2px dotted black; border-radius:8px; font-family:verdana; line-height: 1.7em\">\n",
    "<strong>Multiple Values</strong>\n",
    "<br>\n",
    "• To search for more than one value, use an array with the specified values.\n",
    "</div>"
   ]
  },
  {
   "cell_type": "code",
   "execution_count": 92,
   "id": "48e6fb09-0670-4a00-98ee-7f8663d2700d",
   "metadata": {},
   "outputs": [
    {
     "name": "stdout",
     "output_type": "stream",
     "text": [
      "[1 2 3]\n"
     ]
    }
   ],
   "source": [
    "#Find the indexes where the values 2, 4, and 6 should be inserted\n",
    "arr = np.array([1, 3, 5, 7])\n",
    "x = np.searchsorted(arr, [2, 4, 6])\n",
    "print(x)"
   ]
  },
  {
   "cell_type": "markdown",
   "id": "42f2ad3a-ca6e-4bd9-9afd-dbfb36c2f717",
   "metadata": {},
   "source": [
    "<div style=\"background-color:gainsboro; padding:8px; border:2px dotted black; border-radius:8px; font-family:verdana; line-height: 1.7em\">\n",
    "<strong>Non Zero Elements</strong>\n",
    "<br>\n",
    "• The NumPy nonzero() method finds the indices of array elements that are not zero.\n",
    "</div>"
   ]
  },
  {
   "cell_type": "code",
   "execution_count": 93,
   "id": "1e02406b-e1d2-49e2-b1b8-ad556840958c",
   "metadata": {},
   "outputs": [
    {
     "name": "stdout",
     "output_type": "stream",
     "text": [
      "(array([0, 3, 4], dtype=int64),)\n"
     ]
    }
   ],
   "source": [
    "arr = np.array([1, 0, 0, 4, -5])\n",
    "non_zero_arr = np.nonzero(arr)\n",
    "print(non_zero_arr)"
   ]
  },
  {
   "cell_type": "markdown",
   "id": "3c629fc9-08de-40fb-be63-e2c5c50b60b8",
   "metadata": {},
   "source": [
    "<div style=\"background-color:gainsboro; padding:8px; border:2px dotted black; border-radius:8px; font-family:verdana; line-height: 1.7em\">\n",
    "<strong>Elements wise Searching</strong>\n",
    "<br>\n",
    "• The argmax() method returns the index of the largest element of an array.\n",
    "<br>\n",
    "• Similarly, argmin() method returns the index of the smallest element of an array.\n",
    "</div>"
   ]
  },
  {
   "cell_type": "code",
   "execution_count": 94,
   "id": "3e22b3d1-1cc0-4f12-b3c6-8c4bf93c1e3d",
   "metadata": {},
   "outputs": [
    {
     "name": "stdout",
     "output_type": "stream",
     "text": [
      "Index of largest element : 4\n",
      "Index of smallest element : 1\n"
     ]
    }
   ],
   "source": [
    "arr = np.array([71,4,7,65,91,12,8])\n",
    "print(\"Index of largest element :\", np.argmax(arr))\n",
    "print(\"Index of smallest element :\", np.argmin(arr))"
   ]
  },
  {
   "cell_type": "markdown",
   "id": "561c8e12-3d35-4f06-b3d7-23d4343d1a06",
   "metadata": {},
   "source": [
    "<div style=\"background-color:gainsboro; padding:8px; border:2px dotted black; border-radius:8px; font-family:verdana; line-height: 1.7em\">\n",
    "<font color='#6a66bd' size=\"5px\">NumPy Sorting Arrays</font>\n",
    "<br>\n",
    "<br>\n",
    "<strong>Sorting Arrays</strong>\n",
    "<br>\n",
    "• Sorting means putting elements in an ordered sequence.\n",
    "<br>\n",
    "• Ordered sequence is any sequence that has an order corresponding to elements, like numeric or alphabetical, ascending or descending.\n",
    "<br>\n",
    "• The NumPy ndarray object has a function called sort() that will sort a specified array.\n",
    "<div style=\"background-color:#ADD8E6; padding:8px; border:1px solid #87CEEB; border-radius:4px;\">\n",
    "<strong>Note :</strong> This method returns a copy of the array leaving the original array unchanged.\n",
    "</div>"
   ]
  },
  {
   "cell_type": "code",
   "execution_count": 95,
   "id": "14a5e8f7-878f-42fb-8bbe-2664c7326e4e",
   "metadata": {},
   "outputs": [
    {
     "name": "stdout",
     "output_type": "stream",
     "text": [
      "[0 1 2 3]\n"
     ]
    }
   ],
   "source": [
    "arr = np.array([3, 2, 0, 1])\n",
    "print(np.sort(arr))"
   ]
  },
  {
   "cell_type": "markdown",
   "id": "24f21398-4f74-4679-a206-d579700f6cd7",
   "metadata": {},
   "source": [
    "<div style=\"background-color:gainsboro; padding:8px; border:2px dotted black; border-radius:8px; font-family:verdana; line-height: 1.7em\">\n",
    "• You can also sort arrays of strings or any other data type.\n",
    "</div>"
   ]
  },
  {
   "cell_type": "code",
   "execution_count": 96,
   "id": "0ba34808-5523-469e-b255-cd3ffc0cb05d",
   "metadata": {},
   "outputs": [
    {
     "name": "stdout",
     "output_type": "stream",
     "text": [
      "['apple' 'banana' 'cherry']\n"
     ]
    }
   ],
   "source": [
    "#Sort the array alphabetically\n",
    "arr = np.array(['banana', 'cherry', 'apple'])\n",
    "print(np.sort(arr))"
   ]
  },
  {
   "cell_type": "code",
   "execution_count": 97,
   "id": "4fc0a588-c69d-4939-be66-247f0b5cd8da",
   "metadata": {},
   "outputs": [
    {
     "name": "stdout",
     "output_type": "stream",
     "text": [
      "[False  True  True]\n"
     ]
    }
   ],
   "source": [
    "#Sort a boolean array\n",
    "arr = np.array([True, False, True])\n",
    "print(np.sort(arr))"
   ]
  },
  {
   "cell_type": "markdown",
   "id": "93674a00-8a97-46ad-9649-af3e1dd6d27a",
   "metadata": {},
   "source": [
    "<div style=\"background-color:gainsboro; padding:8px; border:2px dotted black; border-radius:8px; font-family:verdana; line-height: 1.7em\">\n",
    "<strong>Sorting a 2-D Array</strong>\n",
    "<br>\n",
    "• If you use the sort() method on a 2-D array both arrays will be sorted.\n",
    "</div>"
   ]
  },
  {
   "cell_type": "code",
   "execution_count": 98,
   "id": "ab277039-1d4f-4fa7-a6dd-1fc94b5cc2ea",
   "metadata": {},
   "outputs": [
    {
     "name": "stdout",
     "output_type": "stream",
     "text": [
      "[[2 3 4]\n",
      " [0 1 5]]\n"
     ]
    }
   ],
   "source": [
    "arr = np.array([[3, 2, 4], [5, 0, 1]])\n",
    "print(np.sort(arr))"
   ]
  },
  {
   "cell_type": "markdown",
   "id": "5786037a-02e4-47ea-94ed-a97cf361666e",
   "metadata": {},
   "source": [
    "<div style=\"background-color:gainsboro; padding:8px; border:2px dotted black; border-radius:8px; font-family:verdana; line-height: 1.7em\">\n",
    "<strong>Elements wise Sorting</strong>\n",
    "<br>\n",
    "• The argsort() method in NumPy sorts the array elements in ascending order and returns indices of the sorted elements.\n",
    "</div>"
   ]
  },
  {
   "cell_type": "code",
   "execution_count": 99,
   "id": "5489bb72-f917-409f-a07d-d0ea150b3a13",
   "metadata": {},
   "outputs": [
    {
     "name": "stdout",
     "output_type": "stream",
     "text": [
      "Sorted Array : [-1  2  9 10]\n",
      "Sorted Index : [3 1 2 0]\n"
     ]
    }
   ],
   "source": [
    "arr = np.array([10, 2, 9, -1])\n",
    "arg_sort = np.argsort(arr)\n",
    "print(\"Sorted Array :\", arr[arg_sort])\n",
    "print(\"Sorted Index :\", arg_sort)"
   ]
  },
  {
   "cell_type": "markdown",
   "id": "ab90cba2-ebc6-498b-8682-adfd59cbba54",
   "metadata": {},
   "source": [
    "<div style=\"background-color:gainsboro; padding:8px; border:2px dotted black; border-radius:8px; font-family:verdana; line-height: 1.7em\">\n",
    "<font color='#6a66bd' size=\"5px\">NumPy Matrix</font>\n",
    "<br>\n",
    "<br>\n",
    "• A matrix is a two-dimensional data structure where numbers are arranged into rows and columns.\n",
    "<br>\n",
    "• The matrix is represented as 3x4 (pronounced \"three by four\") matrix because it has 3 rows and 4 columns.\n",
    "<br>\n",
    "• Python doesn't have a built-in type for matrices. However, we can treat a list of a list as a matrix.\n",
    "<br>\n",
    "• But, NumPy has matrix() method which is used to create a matrix from a 2-D array-like object.\n",
    "</div>"
   ]
  },
  {
   "cell_type": "code",
   "execution_count": 100,
   "id": "6eff5a2f-d8ee-44d1-9239-b8f4731d9bc0",
   "metadata": {},
   "outputs": [
    {
     "name": "stdout",
     "output_type": "stream",
     "text": [
      "[[1 2 3]\n",
      " [4 5 6]\n",
      " [7 8 9]]\n",
      "3\n"
     ]
    }
   ],
   "source": [
    "#Creating a matrix from 2D array\n",
    "arr = np.array([[1,2,3],[4,5,6],[7,8,9]])\n",
    "matrix_arr = np.matrix(arr)\n",
    "\n",
    "print(matrix_arr)\n",
    "\n",
    "#Accessing elements of a matrix\n",
    "print(matrix_arr[0,2])"
   ]
  },
  {
   "cell_type": "markdown",
   "id": "f7e8971c-6827-4f7b-a22f-a0070b385969",
   "metadata": {},
   "source": [
    "<div style=\"background-color:gainsboro; padding:8px; border:2px dotted black; border-radius:8px; font-family:verdana; line-height: 1.7em\">\n",
    "<strong>Matrix Operation</strong>\n",
    "<br>\n",
    "• The determinant of a matrix is a scalar value that provides information about the properties and behavior of the matrix.\n",
    "<br>\n",
    "• The np.linalg.det() function is used to compute the determinant of a square matrix.\n",
    "</div>"
   ]
  },
  {
   "cell_type": "code",
   "execution_count": 101,
   "id": "afef1aaf-64e4-4c5a-9a50-a8a1c06cd7d5",
   "metadata": {},
   "outputs": [
    {
     "name": "stdout",
     "output_type": "stream",
     "text": [
      "0.0\n"
     ]
    }
   ],
   "source": [
    "arr = np.array([[1,2,3],[4,5,6],[7,8,9]])\n",
    "matrix_arr = np.matrix(arr)\n",
    "\n",
    "det_arr = np.linalg.det(matrix_arr)\n",
    "\n",
    "print(det_arr)"
   ]
  },
  {
   "cell_type": "markdown",
   "id": "34ea2403-ca09-4ec6-a6d0-ec11ea4e54c1",
   "metadata": {},
   "source": [
    "<div style=\"background-color:gainsboro; padding:8px; border:2px dotted black; border-radius:8px; font-family:verdana; line-height: 1.7em\">\n",
    "• The matmul() method is used to perform matrix multiplication in NumPy.\n",
    "</div>"
   ]
  },
  {
   "cell_type": "code",
   "execution_count": 102,
   "id": "6fd621e1-d2f5-422e-a906-8e4b00966552",
   "metadata": {},
   "outputs": [
    {
     "name": "stdout",
     "output_type": "stream",
     "text": [
      "[[19 22]\n",
      " [43 50]]\n"
     ]
    }
   ],
   "source": [
    "arr1 = np.array([[1,2],[3,4]])\n",
    "arr2 = np.array([[5,6],[7,8]])\n",
    "\n",
    "matrix1 = np.matrix(arr1)\n",
    "matrix2 = np.matrix(arr2)\n",
    "\n",
    "arr_multi = np.matmul(matrix1, matrix2)\n",
    "print(arr_multi)"
   ]
  },
  {
   "cell_type": "markdown",
   "id": "4186b4c6-d5ee-40de-b291-f0fe67b163f0",
   "metadata": {},
   "source": [
    "<div style=\"background-color:gainsboro; padding:8px; border:2px dotted black; border-radius:8px; font-family:verdana; line-height: 1.7em\">\n",
    "• The np.trace() function is used to return the sum of the diagonals of the matrix.\n",
    "</div>"
   ]
  },
  {
   "cell_type": "code",
   "execution_count": 103,
   "id": "7a88258f-c1c0-4720-a876-22a857a741e5",
   "metadata": {},
   "outputs": [
    {
     "name": "stdout",
     "output_type": "stream",
     "text": [
      "[[1 2]\n",
      " [3 4]]\n",
      "5\n"
     ]
    }
   ],
   "source": [
    "arr = np.array([[1,2],[3,4]])\n",
    "matrix = np.matrix(arr)\n",
    "\n",
    "result = np.trace(matrix)\n",
    "\n",
    "print(matrix)\n",
    "print(result)  "
   ]
  },
  {
   "cell_type": "markdown",
   "id": "e5d9cad9-8f77-4e70-b660-3213478aa5d6",
   "metadata": {},
   "source": [
    "<div style=\"background-color:gainsboro; padding:8px; border:2px dotted black; border-radius:8px; font-family:verdana; line-height: 1.7em\">\n",
    "<strong>Transpose an Aarray</strong>\n",
    "<br>\n",
    "• The np.transpose() method swaps the axes of the given array similar to the transpose of a matrix in mathematics. \n",
    "<br>\n",
    "• In the case of arrays with more than two dimensions, np.transpose() permutes the axes based on the given argument.\n",
    "</div>"
   ]
  },
  {
   "cell_type": "code",
   "execution_count": 104,
   "id": "03d4dec6-b3fb-4087-b91d-4e8d85104ef3",
   "metadata": {},
   "outputs": [
    {
     "name": "stdout",
     "output_type": "stream",
     "text": [
      "Array before Transpose : [[1 2 3]\n",
      " [4 5 6]\n",
      " [7 8 9]]\n",
      "Array after Transpose : [[1 4 7]\n",
      " [2 5 8]\n",
      " [3 6 9]]\n"
     ]
    }
   ],
   "source": [
    "#By using transpose() function\n",
    "arr = np.array([[1,2,3],[4,5,6],[7,8,9]])\n",
    "matrix_arr = np.matrix(arr)\n",
    "\n",
    "trans_arr = np.transpose(matrix_arr)\n",
    "\n",
    "print(\"Array before Transpose :\", arr)\n",
    "print(\"Array after Transpose :\", trans_arr)"
   ]
  },
  {
   "cell_type": "code",
   "execution_count": 105,
   "id": "757fb7b7-20a5-4d55-ab83-3a8599f30bef",
   "metadata": {},
   "outputs": [
    {
     "name": "stdout",
     "output_type": "stream",
     "text": [
      "Array before Transpose : [[1 2 3]\n",
      " [4 5 6]\n",
      " [7 8 9]]\n",
      "Array after Transpose : [[1 4 7]\n",
      " [2 5 8]\n",
      " [3 6 9]]\n"
     ]
    }
   ],
   "source": [
    "#By using T function\n",
    "arr = np.array([[1,2,3],[4,5,6],[7,8,9]])\n",
    "matrix_arr = np.matrix(arr)\n",
    "\n",
    "trans_arr = matrix_arr.T\n",
    "\n",
    "print(\"Array before Transpose :\", arr)\n",
    "print(\"Array after Transpose :\", trans_arr)"
   ]
  },
  {
   "cell_type": "markdown",
   "id": "82d0f6b9-b032-4323-bf82-2c4beee19d56",
   "metadata": {},
   "source": [
    "<div style=\"background-color:gainsboro; padding:8px; border:2px dotted black; border-radius:8px; font-family:verdana; line-height: 1.7em\">\n",
    "<font color='#6a66bd' size=\"5px\">NumPy Aggregation Functions</font>\n",
    "<br>\n",
    "<br>\n",
    "• NumPy also performs aggregation functions. \n",
    "<br>\n",
    "• In addition to min, max and sum, you can easily run mean to get the average, prod to get the result of multiplying the elements together, std to get the standard deviation and more.\n",
    "<div style=\"background-color:#ADD8E6; padding:8px; border:1px solid #87CEEB; border-radius:4px;\">\n",
    "<strong>Note :</strong> You can add axis() parameter to any function listed below.\n",
    "</div>\n",
    "<div style=\"background-color:#ADD8E6; padding:8px; border:1px solid #87CEEB; border-radius:4px;\">\n",
    "<strong>Note :</strong> Remember to add axis() only for 2D or above array.\n",
    "</div>\n",
    "</div>"
   ]
  },
  {
   "cell_type": "code",
   "execution_count": 106,
   "id": "11fa9aa0-dc50-4d6b-8f8c-2b0b3bbbc4ce",
   "metadata": {},
   "outputs": [
    {
     "name": "stdout",
     "output_type": "stream",
     "text": [
      "1\n"
     ]
    }
   ],
   "source": [
    "#Min() Function\n",
    "arr = np.array([1,2,3,4,5,6])\n",
    "print(np.min(arr))"
   ]
  },
  {
   "cell_type": "code",
   "execution_count": 107,
   "id": "5502d96b-87c9-4539-b55c-b15d1b6ebd8a",
   "metadata": {},
   "outputs": [
    {
     "name": "stdout",
     "output_type": "stream",
     "text": [
      "6\n"
     ]
    }
   ],
   "source": [
    "#Max() Function\n",
    "arr = np.array([1,2,3,4,5,6])\n",
    "print(np.max(arr))"
   ]
  },
  {
   "cell_type": "code",
   "execution_count": 108,
   "id": "10440ff1-b39f-4013-a86d-71031eb9ba64",
   "metadata": {},
   "outputs": [
    {
     "name": "stdout",
     "output_type": "stream",
     "text": [
      "21\n"
     ]
    }
   ],
   "source": [
    "#Sum() Function\n",
    "arr = np.array([1,2,3,4,5,6])\n",
    "print(np.sum(arr))"
   ]
  },
  {
   "cell_type": "code",
   "execution_count": 109,
   "id": "9a640843-db4c-4d37-9fd1-6400aba8bfe2",
   "metadata": {},
   "outputs": [
    {
     "name": "stdout",
     "output_type": "stream",
     "text": [
      "720\n"
     ]
    }
   ],
   "source": [
    "#Prod() Function\n",
    "arr = np.array([1,2,3,4,5,6])\n",
    "print(np.prod(arr))"
   ]
  },
  {
   "cell_type": "code",
   "execution_count": 110,
   "id": "1a0a79cc-5331-49d0-af71-10151c68960c",
   "metadata": {},
   "outputs": [
    {
     "name": "stdout",
     "output_type": "stream",
     "text": [
      "3.5\n"
     ]
    }
   ],
   "source": [
    "#Mean() Function\n",
    "arr = np.array([1,2,3,4,5,6])\n",
    "print(np.mean(arr))"
   ]
  },
  {
   "cell_type": "code",
   "execution_count": 111,
   "id": "ef98851d-d964-44b8-a1aa-bf70cca6420e",
   "metadata": {},
   "outputs": [
    {
     "name": "stdout",
     "output_type": "stream",
     "text": [
      "3.5\n"
     ]
    }
   ],
   "source": [
    "#Median() Function\n",
    "arr = np.array([1,2,3,4,5,6])\n",
    "print(np.median(arr))"
   ]
  },
  {
   "cell_type": "code",
   "execution_count": 112,
   "id": "2633bb48-4bc2-4e01-9eed-1dcb3bd027b6",
   "metadata": {},
   "outputs": [
    {
     "name": "stdout",
     "output_type": "stream",
     "text": [
      "2.25\n"
     ]
    }
   ],
   "source": [
    "#Percentile() Function\n",
    "arr = np.array([1,2,3,4,5,6])\n",
    "print(np.percentile(arr, 25))"
   ]
  },
  {
   "cell_type": "code",
   "execution_count": 113,
   "id": "c4c20c98-8535-4ced-89fe-6482b12c4bb3",
   "metadata": {},
   "outputs": [
    {
     "name": "stdout",
     "output_type": "stream",
     "text": [
      "4.75\n"
     ]
    }
   ],
   "source": [
    "#Quantile() Method\n",
    "arr = np.array([1,2,3,4,5,6])\n",
    "print(np.quantile(arr, 0.75))"
   ]
  },
  {
   "cell_type": "code",
   "execution_count": 114,
   "id": "9ecaa2bc-1e6b-4b50-8e58-6361a61fd27a",
   "metadata": {},
   "outputs": [
    {
     "name": "stdout",
     "output_type": "stream",
     "text": [
      "2.9166666666666665\n"
     ]
    }
   ],
   "source": [
    "#Var() Function\n",
    "arr = np.array([1,2,3,4,5,6])\n",
    "print(np.var(arr))"
   ]
  },
  {
   "cell_type": "code",
   "execution_count": 115,
   "id": "642d5e0e-208a-4585-a636-d0bf0de0db42",
   "metadata": {},
   "outputs": [
    {
     "name": "stdout",
     "output_type": "stream",
     "text": [
      "1.707825127659933\n"
     ]
    }
   ],
   "source": [
    "#Std() Function\n",
    "arr = np.array([1,2,3,4,5,6])\n",
    "print(np.std(arr))"
   ]
  },
  {
   "cell_type": "code",
   "execution_count": 116,
   "id": "49ac58d4-874a-44d2-a935-3a91f9068dda",
   "metadata": {},
   "outputs": [
    {
     "name": "stdout",
     "output_type": "stream",
     "text": [
      "[1.         1.41421356 1.73205081 2.         2.23606798 2.44948974]\n"
     ]
    }
   ],
   "source": [
    "#Sqrt() Function\n",
    "arr = np.array([1,2,3,4,5,6])\n",
    "print(np.sqrt(arr))"
   ]
  },
  {
   "cell_type": "code",
   "execution_count": 117,
   "id": "8f183f39-df71-485a-af63-46f44ba35aa0",
   "metadata": {},
   "outputs": [
    {
     "name": "stdout",
     "output_type": "stream",
     "text": [
      "[ 1  4  9 16 25 36]\n"
     ]
    }
   ],
   "source": [
    "#Square() Function\n",
    "arr = np.array([1,2,3,4,5,6])\n",
    "print(np.square(arr))"
   ]
  },
  {
   "cell_type": "markdown",
   "id": "3b6b95db-a689-4b43-8651-fe0af0a122dd",
   "metadata": {},
   "source": [
    "<div style=\"background-color:gainsboro; padding:8px; border:2px dotted black; border-radius:8px; font-family:verdana; line-height: 1.7em\">\n",
    "• The np.nanmean() method computes the arithmetic mean along the specified axis and ignores the NaNs (Not a Number).\n",
    "<br>\n",
    "• Computing Mean of an array having NaN Values in it, results in NaN as output. \n",
    "<br>\n",
    "• But nanmean() function ignores NaN Values whie computing mean and provide the result.\n",
    "</div>"
   ]
  },
  {
   "cell_type": "code",
   "execution_count": 118,
   "id": "f105434d-7ddd-46f0-bc38-960af7683b96",
   "metadata": {},
   "outputs": [
    {
     "name": "stdout",
     "output_type": "stream",
     "text": [
      "Calculating mean with mean() function : nan\n",
      "Calculating mean with nanmean() function : 3.5\n"
     ]
    }
   ],
   "source": [
    "#Nanmean() Function\n",
    "arr = np.array([0, np.nan, np.nan, 1, 2, 3, 4, 5, 6, 7])\n",
    "\n",
    "mean_arr = np.mean(arr)\n",
    "nan_mean_arr = np.nanmean(arr)\n",
    "\n",
    "print(\"Calculating mean with mean() function :\", mean_arr)\n",
    "print(\"Calculating mean with nanmean() function :\", nan_mean_arr)"
   ]
  },
  {
   "cell_type": "markdown",
   "id": "0ffd4f2e-4029-4e56-aa00-00ddbc867f88",
   "metadata": {},
   "source": [
    "<div style=\"background-color:gainsboro; padding:8px; border:2px dotted black; border-radius:8px; font-family:verdana; line-height: 1.7em\">\n",
    "<font color='#6a66bd' size=\"5px\">NumPy ufuncs</font>\n",
    "<br>\n",
    "<br>\n",
    "<strong>What are ufuncs?</strong>\n",
    "<br>\n",
    "• ufuncs stands for \"Universal Functions\" and they are NumPy functions that operate on the ndarray object.\n",
    "<br>\n",
    "<br>\n",
    "<strong>Why use ufuncs?</strong>\n",
    "<br>\n",
    "• ufuncs are used to implement vectorization in NumPy which is way faster than iterating over elements.\n",
    "<br>\n",
    "• They also provide broadcasting and additional methods like reduce, accumulate etc. that are very helpful for computation.\n",
    "<br>\n",
    "<br>\n",
    "<strong>Add the Elements of Two Lists</strong>\n",
    "<br>\n",
    "→ list 1: [1, 2, 3, 4]\n",
    "<br>\n",
    "→ list 2: [4, 5, 6, 7]\n",
    "</div>"
   ]
  },
  {
   "cell_type": "code",
   "execution_count": 119,
   "id": "c75f0185-fdd3-4def-a36c-89cb48fc0d15",
   "metadata": {},
   "outputs": [
    {
     "name": "stdout",
     "output_type": "stream",
     "text": [
      "[5, 7, 9, 11]\n"
     ]
    }
   ],
   "source": [
    "#Without ufunc, we can use Python's built-in zip() method\n",
    "x = [1, 2, 3, 4]\n",
    "y = [4, 5, 6, 7]\n",
    "z = []\n",
    "\n",
    "for i, j in zip(x, y):\n",
    "  z.append(i + j)\n",
    "print(z)"
   ]
  },
  {
   "cell_type": "code",
   "execution_count": 120,
   "id": "5ad556bc-bfb8-4ddb-b97b-b220041dcd92",
   "metadata": {},
   "outputs": [
    {
     "name": "stdout",
     "output_type": "stream",
     "text": [
      "[ 5  7  9 11]\n"
     ]
    }
   ],
   "source": [
    "#With ufunc, we can use the add() function\n",
    "x = [1, 2, 3, 4]\n",
    "y = [4, 5, 6, 7]\n",
    "\n",
    "z = np.add(x, y)\n",
    "\n",
    "print(z)"
   ]
  },
  {
   "cell_type": "markdown",
   "id": "2c83f494-f521-48e6-892a-0c0ae4542fc0",
   "metadata": {},
   "source": [
    "<div style=\"background-color:gainsboro; padding:8px; border:2px dotted black; border-radius:8px; font-family:verdana; line-height: 1.7em\">\n",
    "<font color='#6a66bd' size=\"5px\">Simple Arithmetic</font>\n",
    "<br>\n",
    "<br>\n",
    "• You could use arithmetic operators + - * / directly between NumPy arrays.\n",
    "<br>\n",
    "• But we have functions in numpy that can take any array-like objects e.g. lists, tuples etc. and perform arithmetic conditionally.\n",
    "<br>\n",
    "<br>\n",
    "<strong>Addition</strong>\n",
    "<br>\n",
    "• The add() function sums the content of two arrays and return the results in a new array.\n",
    "</div>"
   ]
  },
  {
   "cell_type": "code",
   "execution_count": 121,
   "id": "befdedff-a5b2-4f18-adec-8e877a37ce24",
   "metadata": {},
   "outputs": [
    {
     "name": "stdout",
     "output_type": "stream",
     "text": [
      "[30 32 34 36 38 40]\n"
     ]
    }
   ],
   "source": [
    "#With add() function\n",
    "arr1 = np.array([10, 11, 12, 13, 14, 15])\n",
    "arr2 = np.array([20, 21, 22, 23, 24, 25])\n",
    "\n",
    "newarr = np.add(arr1, arr2)\n",
    "\n",
    "print(newarr)"
   ]
  },
  {
   "cell_type": "code",
   "execution_count": 122,
   "id": "b4205d8b-21b1-4cb0-b039-98a17faec5b5",
   "metadata": {},
   "outputs": [
    {
     "name": "stdout",
     "output_type": "stream",
     "text": [
      "[30 32 34 36 38 40]\n"
     ]
    }
   ],
   "source": [
    "#Without add() function\n",
    "arr1 = np.array([10, 11, 12, 13, 14, 15])\n",
    "arr2 = np.array([20, 21, 22, 23, 24, 25])\n",
    "\n",
    "print(arr1 + arr2)"
   ]
  },
  {
   "cell_type": "markdown",
   "id": "b885c42c-f57a-4a99-a634-843e0227451f",
   "metadata": {},
   "source": [
    "<div style=\"background-color:gainsboro; padding:8px; border:2px dotted black; border-radius:8px; font-family:verdana; line-height: 1.7em\">\n",
    "<strong>Subtraction</strong>\n",
    "<br>\n",
    "• The subtract() function subtracts the values from one array with the values from another array and return the results in a new array.\n",
    "</div>"
   ]
  },
  {
   "cell_type": "code",
   "execution_count": 123,
   "id": "491a5ff1-316e-47fd-b239-3b0b9e51aa7c",
   "metadata": {},
   "outputs": [
    {
     "name": "stdout",
     "output_type": "stream",
     "text": [
      "[-10  -1   8  17  26  35]\n"
     ]
    }
   ],
   "source": [
    "#With subtract() function\n",
    "arr1 = np.array([10, 20, 30, 40, 50, 60])\n",
    "arr2 = np.array([20, 21, 22, 23, 24, 25])\n",
    "\n",
    "newarr = np.subtract(arr1, arr2)\n",
    "\n",
    "print(newarr)"
   ]
  },
  {
   "cell_type": "code",
   "execution_count": 124,
   "id": "148b4e5d-bea4-4e38-a18f-c06f4b3785b0",
   "metadata": {},
   "outputs": [
    {
     "name": "stdout",
     "output_type": "stream",
     "text": [
      "[-10  -1   8  17  26  35]\n"
     ]
    }
   ],
   "source": [
    "#Without subtract() function\n",
    "arr1 = np.array([10, 20, 30, 40, 50, 60])\n",
    "arr2 = np.array([20, 21, 22, 23, 24, 25])\n",
    "\n",
    "print(arr1 - arr2)"
   ]
  },
  {
   "cell_type": "markdown",
   "id": "2f63b254-0cfa-43a5-b99f-7f276a48343b",
   "metadata": {},
   "source": [
    "<div style=\"background-color:gainsboro; padding:8px; border:2px dotted black; border-radius:8px; font-family:verdana; line-height: 1.7em\">\n",
    "<strong>Multiplication</strong>\n",
    "<br>\n",
    "• The multiply() function multiplies the values from one array with the values from another array and return the results in a new array.\n",
    "</div>"
   ]
  },
  {
   "cell_type": "code",
   "execution_count": 125,
   "id": "eb3a69bd-c506-442a-a5d1-82c2a96db9cb",
   "metadata": {},
   "outputs": [
    {
     "name": "stdout",
     "output_type": "stream",
     "text": [
      "[ 200  420  660  920 1200 1500]\n"
     ]
    }
   ],
   "source": [
    "#With multiply() function\n",
    "arr1 = np.array([10, 20, 30, 40, 50, 60])\n",
    "arr2 = np.array([20, 21, 22, 23, 24, 25])\n",
    "\n",
    "newarr = np.multiply(arr1, arr2)\n",
    "\n",
    "print(newarr)"
   ]
  },
  {
   "cell_type": "code",
   "execution_count": 126,
   "id": "d5256a05-d51f-484f-875e-760b7f72eeb8",
   "metadata": {},
   "outputs": [
    {
     "name": "stdout",
     "output_type": "stream",
     "text": [
      "[ 200  420  660  920 1200 1500]\n"
     ]
    }
   ],
   "source": [
    "#Without multiply() function\n",
    "arr1 = np.array([10, 20, 30, 40, 50, 60])\n",
    "arr2 = np.array([20, 21, 22, 23, 24, 25])\n",
    "\n",
    "print(arr1 * arr2)"
   ]
  },
  {
   "cell_type": "markdown",
   "id": "2e66e6c3-86c4-480b-9ef5-ea80de2e9e3e",
   "metadata": {},
   "source": [
    "<div style=\"background-color:gainsboro; padding:8px; border:2px dotted black; border-radius:8px; font-family:verdana; line-height: 1.7em\">\n",
    "<strong>Division</strong>\n",
    "<br>\n",
    "• The divide() function divides the values from one array with the values from another array and return the results in a new array.\n",
    "</div>"
   ]
  },
  {
   "cell_type": "code",
   "execution_count": 127,
   "id": "bff9974e-4719-4080-a958-cbdf067c3bde",
   "metadata": {},
   "outputs": [
    {
     "name": "stdout",
     "output_type": "stream",
     "text": [
      "[0.5        0.95238095 1.36363636 1.73913043 2.08333333 2.4       ]\n"
     ]
    }
   ],
   "source": [
    "#With divide() function\n",
    "arr1 = np.array([10, 20, 30, 40, 50, 60])\n",
    "arr2 = np.array([20, 21, 22, 23, 24, 25])\n",
    "\n",
    "newarr = np.divide(arr1, arr2)\n",
    "\n",
    "print(newarr)"
   ]
  },
  {
   "cell_type": "code",
   "execution_count": 128,
   "id": "a664a4c1-21a3-407c-9790-1fc8e2e47a6d",
   "metadata": {},
   "outputs": [
    {
     "name": "stdout",
     "output_type": "stream",
     "text": [
      "[0.5        0.95238095 1.36363636 1.73913043 2.08333333 2.4       ]\n"
     ]
    }
   ],
   "source": [
    "#Without divide() function\n",
    "arr1 = np.array([10, 20, 30, 40, 50, 60])\n",
    "arr2 = np.array([20, 21, 22, 23, 24, 25])\n",
    "\n",
    "print(arr1 / arr2)"
   ]
  },
  {
   "cell_type": "markdown",
   "id": "5fafccdf-b4d8-4621-b227-c6a41098df40",
   "metadata": {},
   "source": [
    "<div style=\"background-color:gainsboro; padding:8px; border:2px dotted black; border-radius:8px; font-family:verdana; line-height: 1.7em\">\n",
    "<strong>Power</strong>\n",
    "<br>\n",
    "• The power() function rises the values from the first array to the power of the values of the second array and return the results in a new array.\n",
    "</div>"
   ]
  },
  {
   "cell_type": "code",
   "execution_count": 129,
   "id": "8a92b287-7632-4ad0-9f43-96ebf9136f0c",
   "metadata": {},
   "outputs": [
    {
     "name": "stdout",
     "output_type": "stream",
     "text": [
      "[      1000    3200000  729000000 -520093696       2500          0]\n"
     ]
    }
   ],
   "source": [
    "#With power() function\n",
    "arr1 = np.array([10, 20, 30, 40, 50, 60])\n",
    "arr2 = np.array([3, 5, 6, 8, 2, 33])\n",
    "\n",
    "newarr = np.power(arr1, arr2)\n",
    "\n",
    "print(newarr)"
   ]
  },
  {
   "cell_type": "code",
   "execution_count": 130,
   "id": "1fa0b5a1-a90a-4e47-8b15-07e06317ede2",
   "metadata": {},
   "outputs": [
    {
     "name": "stdout",
     "output_type": "stream",
     "text": [
      "[      1000    3200000  729000000 -520093696       2500          0]\n"
     ]
    }
   ],
   "source": [
    "#Without power() function\n",
    "arr1 = np.array([10, 20, 30, 40, 50, 60])\n",
    "arr2 = np.array([3, 5, 6, 8, 2, 33])\n",
    "\n",
    "print(arr1 ** arr2)"
   ]
  },
  {
   "cell_type": "markdown",
   "id": "9ae17971-f009-4588-a62c-5d0c73f2b133",
   "metadata": {},
   "source": [
    "<div style=\"background-color:gainsboro; padding:8px; border:2px dotted black; border-radius:8px; font-family:verdana; line-height: 1.7em\">\n",
    "<strong>Remainder</strong>\n",
    "<br>\n",
    "• Both the mod() and the remainder() functions return the remainder of the values in the first array corresponding to the values in the second array and return the results in a new array.\n",
    "</div>"
   ]
  },
  {
   "cell_type": "code",
   "execution_count": 131,
   "id": "8d598712-afa4-4ea1-9283-25b7c3c45bed",
   "metadata": {},
   "outputs": [
    {
     "name": "stdout",
     "output_type": "stream",
     "text": [
      "[ 1  6  3  0  0 27]\n"
     ]
    }
   ],
   "source": [
    "#With mod() function\n",
    "arr1 = np.array([10, 20, 30, 40, 50, 60])\n",
    "arr2 = np.array([3, 7, 9, 8, 2, 33])\n",
    "\n",
    "newarr = np.mod(arr1, arr2)\n",
    "\n",
    "print(newarr)"
   ]
  },
  {
   "cell_type": "code",
   "execution_count": 132,
   "id": "5f79c0d2-59ae-480f-8a89-01169c3512b1",
   "metadata": {},
   "outputs": [
    {
     "name": "stdout",
     "output_type": "stream",
     "text": [
      "[ 1  6  3  0  0 27]\n"
     ]
    }
   ],
   "source": [
    "#With remainder() function\n",
    "arr1 = np.array([10, 20, 30, 40, 50, 60])\n",
    "arr2 = np.array([3, 7, 9, 8, 2, 33])\n",
    "\n",
    "newarr = np.remainder(arr1, arr2)\n",
    "\n",
    "print(newarr)"
   ]
  },
  {
   "cell_type": "code",
   "execution_count": 133,
   "id": "30bb3564-128a-47b6-8fbf-795792ca6385",
   "metadata": {},
   "outputs": [
    {
     "name": "stdout",
     "output_type": "stream",
     "text": [
      "[ 1  6  3  0  0 27]\n"
     ]
    }
   ],
   "source": [
    "#Without mod() or remainder() function\n",
    "arr1 = np.array([10, 20, 30, 40, 50, 60])\n",
    "arr2 = np.array([3, 7, 9, 8, 2, 33])\n",
    "\n",
    "print(arr1 % arr2)"
   ]
  },
  {
   "cell_type": "markdown",
   "id": "c4ef8ea4-edd0-453d-89de-933c21e0e2ce",
   "metadata": {},
   "source": [
    "<div style=\"background-color:gainsboro; padding:8px; border:2px dotted black; border-radius:8px; font-family:verdana; line-height: 1.7em\">\n",
    "<strong>Quotient and Mod</strong>\n",
    "<br>\n",
    "• The divmod() function return both the quotient and the the mod. \n",
    "<br>\n",
    "• The return value is two arrays, the first array contains the quotient and second array contains the mod.\n",
    "</div>"
   ]
  },
  {
   "cell_type": "code",
   "execution_count": 134,
   "id": "0fd01ce6-ad4f-4c23-9900-857fed626fca",
   "metadata": {},
   "outputs": [
    {
     "name": "stdout",
     "output_type": "stream",
     "text": [
      "(array([ 3,  2,  3,  5, 25,  1]), array([ 1,  6,  3,  0,  0, 27]))\n"
     ]
    }
   ],
   "source": [
    "arr1 = np.array([10, 20, 30, 40, 50, 60])\n",
    "arr2 = np.array([3, 7, 9, 8, 2, 33])\n",
    "\n",
    "newarr = np.divmod(arr1, arr2)\n",
    "\n",
    "print(newarr)"
   ]
  },
  {
   "cell_type": "markdown",
   "id": "b106b99e-88d7-48bb-9c2d-78eb3804b1f0",
   "metadata": {},
   "source": [
    "<div style=\"background-color:gainsboro; padding:8px; border:2px dotted black; border-radius:8px; font-family:verdana; line-height: 1.7em\">\n",
    "<strong>Absolute Values</strong>\n",
    "<br>\n",
    "• Both the absolute() and the abs() functions do the same absolute operation element-wise but we should use absolute() to avoid confusion with python's inbuilt abs() function.\n",
    "</div>"
   ]
  },
  {
   "cell_type": "code",
   "execution_count": 135,
   "id": "80c88f89-a585-41cd-9fa2-0826f6d989f0",
   "metadata": {},
   "outputs": [
    {
     "name": "stdout",
     "output_type": "stream",
     "text": [
      "[1 2 1 2 3 4]\n"
     ]
    }
   ],
   "source": [
    "#With absolute() function\n",
    "arr = np.array([-1, -2, 1, 2, 3, -4])\n",
    "\n",
    "newarr = np.absolute(arr)\n",
    "\n",
    "print(newarr)"
   ]
  },
  {
   "cell_type": "code",
   "execution_count": 136,
   "id": "ed6ccff3-74b5-4420-8dfc-d5f9d5cdaa76",
   "metadata": {},
   "outputs": [
    {
     "name": "stdout",
     "output_type": "stream",
     "text": [
      "[1 2 1 2 3 4]\n"
     ]
    }
   ],
   "source": [
    "#Without absolute() function\n",
    "arr = np.array([-1, -2, 1, 2, 3, -4])\n",
    "print(abs(arr))"
   ]
  },
  {
   "cell_type": "markdown",
   "id": "0ca1379f-6448-4ae6-b99e-0d530238b49c",
   "metadata": {},
   "source": [
    "<div style=\"background-color:gainsboro; padding:8px; border:2px dotted black; border-radius:8px; font-family:verdana; line-height: 1.7em\">\n",
    "<font color='#6a66bd' size=\"5px\">Rounding Decimals</font>\n",
    "<br>\n",
    "<br>\n",
    "• There are primarily five ways of rounding off decimals in NumPy.\n",
    "<br>\n",
    "→ truncation\n",
    "<br>\n",
    "→ fix\n",
    "<br>\n",
    "→ rounding\n",
    "<br>\n",
    "→ floor\n",
    "<br>\n",
    "→ ceil\n",
    "<br>\n",
    "<br>\n",
    "<strong>Truncation</strong>\n",
    "<br>\n",
    "• Remove the decimals and return the float number closest to zero. Use the trunc() and fix() functions.\n",
    "</div>"
   ]
  },
  {
   "cell_type": "code",
   "execution_count": 137,
   "id": "b4805286-873d-4f02-ac46-fe044640233f",
   "metadata": {},
   "outputs": [
    {
     "name": "stdout",
     "output_type": "stream",
     "text": [
      "[-3.  3.]\n",
      "[-3.  3.]\n"
     ]
    }
   ],
   "source": [
    "#Using trunc() Method\n",
    "arr1 = np.trunc([-3.1666, 3.6667])\n",
    "print(arr1)\n",
    "\n",
    "#Using fix() Method\n",
    "arr2 = np.fix([-3.1666, 3.6667])\n",
    "print(arr2)"
   ]
  },
  {
   "cell_type": "markdown",
   "id": "9aa34fe5-46eb-4793-8b47-f4abd519b1b7",
   "metadata": {},
   "source": [
    "<div style=\"background-color:gainsboro; padding:8px; border:2px dotted black; border-radius:8px; font-family:verdana; line-height: 1.7em\">\n",
    "<strong>Rounding</strong>\n",
    "<br>\n",
    "• The around() function increments preceding digit or decimal by 1 if num >= 5 else do nothing.\n",
    "</div>"
   ]
  },
  {
   "cell_type": "code",
   "execution_count": 138,
   "id": "7eb9f8d8-c7d4-461a-9674-d6a0684774b4",
   "metadata": {},
   "outputs": [
    {
     "name": "stdout",
     "output_type": "stream",
     "text": [
      "3.17\n"
     ]
    }
   ],
   "source": [
    "arr = np.around(3.1666, 2)\n",
    "print(arr)"
   ]
  },
  {
   "cell_type": "markdown",
   "id": "eea26b95-5b31-4d60-8a51-7c5f2625935c",
   "metadata": {},
   "source": [
    "<div style=\"background-color:gainsboro; padding:8px; border:2px dotted black; border-radius:8px; font-family:verdana; line-height: 1.7em\">\n",
    "<strong>Floor</strong>\n",
    "<br>\n",
    "• The floor() function rounds off decimal to nearest lower integer.\n",
    "</div>"
   ]
  },
  {
   "cell_type": "code",
   "execution_count": 139,
   "id": "4fb8c19b-9388-4ac5-9bcc-a4542baecf20",
   "metadata": {},
   "outputs": [
    {
     "name": "stdout",
     "output_type": "stream",
     "text": [
      "[-4.  3.]\n"
     ]
    }
   ],
   "source": [
    "arr = np.floor([-3.1666, 3.6667])\n",
    "print(arr)"
   ]
  },
  {
   "cell_type": "markdown",
   "id": "de6ee15f-fc02-4b5f-810d-8f32d783ee74",
   "metadata": {},
   "source": [
    "<div style=\"background-color:gainsboro; padding:8px; border:2px dotted black; border-radius:8px; font-family:verdana; line-height: 1.7em\">\n",
    "<strong>Ceil</strong>\n",
    "<br>\n",
    "• The ceil() function rounds off decimal to nearest upper integer.\n",
    "</div>"
   ]
  },
  {
   "cell_type": "code",
   "execution_count": 140,
   "id": "a6f4e6e4-3f01-43bd-a8a2-e3a0d5a3d5da",
   "metadata": {},
   "outputs": [
    {
     "name": "stdout",
     "output_type": "stream",
     "text": [
      "[-3.  4.]\n"
     ]
    }
   ],
   "source": [
    "arr = np.ceil([-3.1666, 3.6667])\n",
    "print(arr)"
   ]
  },
  {
   "cell_type": "markdown",
   "id": "775a1e83-b251-4d95-bbdb-b414dd0e4baf",
   "metadata": {},
   "source": [
    "<div style=\"background-color:gainsboro; padding:8px; border:2px dotted black; border-radius:8px; font-family:verdana; line-height: 1.7em\">\n",
    "<font color='#6a66bd' size=\"5px\">NumPy Summations</font>\n",
    "<br>\n",
    "<br>\n",
    "<strong>Summations</strong>\n",
    "<br>\n",
    "• What is the difference between summation and addition?\n",
    "<br>\n",
    "• Addition is done between two arguments whereas summation happens over n elements.\n",
    "</div>"
   ]
  },
  {
   "cell_type": "code",
   "execution_count": 141,
   "id": "c5de160e-0263-48d1-92b5-f24b272a2b88",
   "metadata": {},
   "outputs": [
    {
     "name": "stdout",
     "output_type": "stream",
     "text": [
      "[2 4 6]\n"
     ]
    }
   ],
   "source": [
    "#Using add() function\n",
    "arr1 = np.array([1, 2, 3])\n",
    "arr2 = np.array([1, 2, 3])\n",
    "\n",
    "newarr = np.add(arr1, arr2)\n",
    "\n",
    "print(newarr)"
   ]
  },
  {
   "cell_type": "code",
   "execution_count": 142,
   "id": "79aaf045-8ce1-4526-8c5b-918da62eff32",
   "metadata": {},
   "outputs": [
    {
     "name": "stdout",
     "output_type": "stream",
     "text": [
      "12\n"
     ]
    }
   ],
   "source": [
    "#Using sum() function\n",
    "arr1 = np.array([1, 2, 3])\n",
    "arr2 = np.array([1, 2, 3])\n",
    "\n",
    "newarr = np.sum([arr1, arr2])\n",
    "\n",
    "print(newarr)"
   ]
  },
  {
   "cell_type": "markdown",
   "id": "16a7e74e-8602-40b8-b624-59b501232134",
   "metadata": {},
   "source": [
    "<div style=\"background-color:gainsboro; padding:8px; border:2px dotted black; border-radius:8px; font-family:verdana; line-height: 1.7em\">\n",
    "<strong>Summation Over an Axis</strong>\n",
    "<br>\n",
    "• If you specify axis=1, NumPy will sum the numbers with respect to the row.\n",
    "<br>\n",
    "• If you specify axis=0, NumPy will sum the numbers with respect to the columns.\n",
    "</div>"
   ]
  },
  {
   "cell_type": "code",
   "execution_count": 143,
   "id": "0f009fbf-07bb-47a5-89fc-cb94052bc36e",
   "metadata": {},
   "outputs": [
    {
     "name": "stdout",
     "output_type": "stream",
     "text": [
      "[6 6]\n"
     ]
    }
   ],
   "source": [
    "#Using axis=1 (Row Wise)\n",
    "arr1 = np.array([1, 2, 3])\n",
    "arr2 = np.array([1, 2, 3])\n",
    "\n",
    "newarr = np.sum([arr1, arr2], axis=1)\n",
    "\n",
    "print(newarr)"
   ]
  },
  {
   "cell_type": "code",
   "execution_count": 144,
   "id": "8769306a-8a83-4a4b-847f-1ec554f89901",
   "metadata": {},
   "outputs": [
    {
     "name": "stdout",
     "output_type": "stream",
     "text": [
      "[2 4 6]\n"
     ]
    }
   ],
   "source": [
    "#Using axis=0 (Column Wise)\n",
    "arr1 = np.array([1, 2, 3])\n",
    "arr2 = np.array([1, 2, 3])\n",
    "\n",
    "newarr = np.sum([arr1, arr2], axis=0)\n",
    "\n",
    "print(newarr)"
   ]
  },
  {
   "cell_type": "markdown",
   "id": "e33db60a-8fb0-4b0a-a202-ad627b6c9e6d",
   "metadata": {},
   "source": [
    "<div style=\"background-color:gainsboro; padding:8px; border:2px dotted black; border-radius:8px; font-family:verdana; line-height: 1.7em\">\n",
    "<strong>Cummulative Sum</strong>\n",
    "<br>\n",
    "• Cummulative sum means partially adding the elements in array.\n",
    "<br>\n",
    "• Perfom partial sum with the cumsum() function.\n",
    "<br>\n",
    "• The partial sum of [1, 2, 3, 4] would be [1, 1+2, 1+2+3, 1+2+3+4] = [1, 3, 6, 10].\n",
    "</div>"
   ]
  },
  {
   "cell_type": "code",
   "execution_count": 145,
   "id": "ba392e3a-1103-4090-82bc-cd5f00e36b7c",
   "metadata": {},
   "outputs": [
    {
     "name": "stdout",
     "output_type": "stream",
     "text": [
      "[1 3 6]\n"
     ]
    }
   ],
   "source": [
    "arr = np.array([1, 2, 3])\n",
    "newarr = np.cumsum(arr)\n",
    "print(newarr)"
   ]
  },
  {
   "cell_type": "markdown",
   "id": "1934a018-fe65-4fb4-92d3-ab6d278c581b",
   "metadata": {},
   "source": [
    "<div style=\"background-color:gainsboro; padding:8px; border:2px dotted black; border-radius:8px; font-family:verdana; line-height: 1.7em\">\n",
    "<font color='#6a66bd' size=\"5px\">NumPy Differences</font>\n",
    "<br>\n",
    "<br>\n",
    "<strong>Differences</strong>\n",
    "<br>\n",
    "• A discrete difference means subtracting two successive elements.\n",
    "<br>\n",
    "• To find the discrete difference, use the diff() function.\n",
    "<br>\n",
    "• For [1, 2, 3, 4], the discrete difference would be [2-1, 3-2, 4-3] = [1, 1, 1]\n",
    "</div>"
   ]
  },
  {
   "cell_type": "code",
   "execution_count": 146,
   "id": "78e85e27-7c69-4e2a-8592-530cb7ba4639",
   "metadata": {},
   "outputs": [
    {
     "name": "stdout",
     "output_type": "stream",
     "text": [
      "[  5  10 -20]\n"
     ]
    }
   ],
   "source": [
    "arr = np.array([10, 15, 25, 5])\n",
    "newarr = np.diff(arr)\n",
    "print(newarr)"
   ]
  },
  {
   "cell_type": "markdown",
   "id": "4d861ca8-8a44-4631-8d62-0140862f3258",
   "metadata": {},
   "source": [
    "<div style=\"background-color:gainsboro; padding:8px; border:2px dotted black; border-radius:8px; font-family:verdana; line-height: 1.7em\">\n",
    "• We can perform this operation repeatedly by giving parameter n.\n",
    "</div>"
   ]
  },
  {
   "cell_type": "code",
   "execution_count": 147,
   "id": "09ff1bac-727d-4336-a2d2-25f564f714b1",
   "metadata": {},
   "outputs": [
    {
     "name": "stdout",
     "output_type": "stream",
     "text": [
      "[  5 -30]\n"
     ]
    }
   ],
   "source": [
    "arr = np.array([10, 15, 25, 5])\n",
    "newarr = np.diff(arr, n=2)\n",
    "print(newarr)"
   ]
  },
  {
   "cell_type": "markdown",
   "id": "0cb5a998-6353-4b09-a4c2-7dcec8dcfbc9",
   "metadata": {},
   "source": [
    "<div style=\"background-color:gainsboro; padding:8px; border:2px dotted black; border-radius:8px; font-family:verdana; line-height: 1.7em\">\n",
    "<font color='#6a66bd' size=\"5px\">NumPy Products</font>\n",
    "<br>\n",
    "<br>\n",
    "<strong>Products</strong>\n",
    "<br>\n",
    "• To find the product of the elements in an array, use the prod() function.\n",
    "</div>"
   ]
  },
  {
   "cell_type": "code",
   "execution_count": 148,
   "id": "aa4751f9-fce1-4301-98c4-e28b5614baa4",
   "metadata": {},
   "outputs": [
    {
     "name": "stdout",
     "output_type": "stream",
     "text": [
      "24\n"
     ]
    }
   ],
   "source": [
    "#Find the product of the elements of one array\n",
    "arr = np.array([1, 2, 3, 4])\n",
    "x = np.prod(arr)\n",
    "print(x)"
   ]
  },
  {
   "cell_type": "code",
   "execution_count": 149,
   "id": "1a4ac921-1549-4133-ba59-a1602fb85b0f",
   "metadata": {},
   "outputs": [
    {
     "name": "stdout",
     "output_type": "stream",
     "text": [
      "40320\n"
     ]
    }
   ],
   "source": [
    "#Find the product of the elements of two arrays\n",
    "arr1 = np.array([1, 2, 3, 4])\n",
    "arr2 = np.array([5, 6, 7, 8])\n",
    "\n",
    "x = np.prod([arr1, arr2])\n",
    "\n",
    "print(x)"
   ]
  },
  {
   "cell_type": "markdown",
   "id": "b147d74c-ffaf-4468-959a-88fd4b10210d",
   "metadata": {},
   "source": [
    "<div style=\"background-color:gainsboro; padding:8px; border:2px dotted black; border-radius:8px; font-family:verdana; line-height: 1.7em\">\n",
    "<strong>Product Over an Axis</strong>\n",
    "<br>\n",
    "• If you specify axis=1, NumPy will return the product of each array.\n",
    "</div>"
   ]
  },
  {
   "cell_type": "code",
   "execution_count": 150,
   "id": "6674f4d0-c63e-479e-917c-0fd4d70859e0",
   "metadata": {},
   "outputs": [
    {
     "name": "stdout",
     "output_type": "stream",
     "text": [
      "[  24 1680]\n"
     ]
    }
   ],
   "source": [
    "arr1 = np.array([1, 2, 3, 4])\n",
    "arr2 = np.array([5, 6, 7, 8])\n",
    "\n",
    "newarr = np.prod([arr1, arr2], axis=1)\n",
    "\n",
    "print(newarr)"
   ]
  },
  {
   "cell_type": "markdown",
   "id": "52a2b29f-38cb-472a-a47f-9f1042522b61",
   "metadata": {},
   "source": [
    "<div style=\"background-color:gainsboro; padding:8px; border:2px dotted black; border-radius:8px; font-family:verdana; line-height: 1.7em\">\n",
    "<strong>Cummulative Product</strong>\n",
    "<br>\n",
    "• Cummulative product means taking the product partially.\n",
    "<br>\n",
    "• Perfom partial sum with the cumprod() function.\n",
    "<br>\n",
    "• The partial product of [1, 2, 3, 4] is [1, 1*2, 1*2*3, 1*2*3*4] = [1, 2, 6, 24]\n",
    "</div>"
   ]
  },
  {
   "cell_type": "code",
   "execution_count": 151,
   "id": "026b4a1f-94b1-4439-acdf-26ece3d5c11a",
   "metadata": {},
   "outputs": [
    {
     "name": "stdout",
     "output_type": "stream",
     "text": [
      "[   5   30  210 1680]\n"
     ]
    }
   ],
   "source": [
    "arr = np.array([5, 6, 7, 8])\n",
    "newarr = np.cumprod(arr)\n",
    "print(newarr)"
   ]
  },
  {
   "cell_type": "markdown",
   "id": "2b54ecc7-b3b9-44fe-a06d-6cc79a46e248",
   "metadata": {},
   "source": [
    "<div style=\"background-color:gainsboro; padding:8px; border:2px dotted black; border-radius:8px; font-family:verdana; line-height: 1.7em\">\n",
    "<font color='#6a66bd' size=\"5px\">NumPy Broadcasting</font>\n",
    "<br>\n",
    "<br>\n",
    "• In NumPy, we can perform mathematical operations on arrays of different shapes. \n",
    "<br>\n",
    "• An array with a smaller shape is expanded to match the shape of a larger one. This is called broadcasting.\n",
    "<div style=\"background-color:#ADD8E6; padding:8px; border:1px solid #87CEEB; border-radius:4px;\">\n",
    "<strong>Note :</strong> In the example, we added two arrays with different dimensions.\n",
    "</div>\n",
    "<div style=\"background-color:#ADD8E6; padding:8px; border:1px solid #87CEEB; border-radius:4px;\">\n",
    "<strong>Note :</strong> Numpy automatically expands the size of arr1(1D) to match with the size of arr2(2D).\n",
    "</div>"
   ]
  },
  {
   "cell_type": "code",
   "execution_count": 152,
   "id": "91ad3a6d-706b-417b-94e8-47a56c07c3c4",
   "metadata": {},
   "outputs": [
    {
     "name": "stdout",
     "output_type": "stream",
     "text": [
      "Dimension of arr1 : 1\n",
      "Dimension of arr2 : 2\n",
      "Dimension of output : 0\n"
     ]
    }
   ],
   "source": [
    "arr1 = np.array([1, 2, 3])\n",
    "arr2 = np.array([[1], [2], [3]])\n",
    "\n",
    "output = arr1 + arr2\n",
    "\n",
    "print(\"Dimension of arr1 :\", arr1.ndim)\n",
    "print(\"Dimension of arr2 :\", arr2.ndim)\n",
    "print(\"Dimension of output :\", result.ndim)"
   ]
  },
  {
   "cell_type": "markdown",
   "id": "6aeda872-d040-4b4c-a2db-fa23e6dcf285",
   "metadata": {},
   "source": [
    "<div style=\"background-color:gainsboro; padding:8px; border:2px dotted black; border-radius:8px; font-family:verdana; line-height: 1.7em\">\n",
    "<strong>Compatibility Rules for Broadcasting</strong>\n",
    "<br>\n",
    "• Broadcasting only works with compatible arrays. NumPy compares a set of array dimensions from right to left.\n",
    "<br>\n",
    "• Every set of dimensions must be compatible with the arrays to be broadcastable. A set of dimension lengths is compatible when :\n",
    "<br>\n",
    "→ One of them has a length of 1\n",
    "<br>\n",
    "→ Or, they both are equal\n",
    "<br>\n",
    "<br>\n",
    "<strong>Examples</strong>\n",
    "<br>\n",
    "<strong>Broadcastable Shapes</strong>\n",
    "<br>\n",
    "→ (6, 7) and (6, 7)\n",
    "<br>\n",
    "→ (6, 7) and (6, 1)\n",
    "<br>\n",
    "<strong>Non-Broadcastable Shapes</strong>\n",
    "<br>\n",
    "→ (6, 7) and (7, 6)\n",
    "<br>\n",
    "<br>\n",
    "<strong>Broadcasting with Scalars</strong>\n",
    "<br>\n",
    "• We can also perform mathematical operations between arrays and scalars (single values).\n",
    "<div style=\"background-color:#ADD8E6; padding:8px; border:1px solid #87CEEB; border-radius:4px;\">\n",
    "<strong>Note :</strong> In this example, NumPy automatically expands the scalar number to an 1-D array and then performs the element-wise addition.\n",
    "</div>\n",
    "</div>"
   ]
  },
  {
   "cell_type": "code",
   "execution_count": 153,
   "id": "8c2c88af-84b3-4b8e-bdbc-5fac50637f33",
   "metadata": {},
   "outputs": [
    {
     "name": "stdout",
     "output_type": "stream",
     "text": [
      "[ 8 10 12 14 16]\n"
     ]
    }
   ],
   "source": [
    "arr = np.array([2,4,6,8,10])\n",
    "num = 6\n",
    "sum = arr + num\n",
    "print(sum)"
   ]
  },
  {
   "cell_type": "markdown",
   "id": "808732cd-b6f9-4571-92d1-1cdf0aca39d1",
   "metadata": {},
   "source": [
    "---\n",
    "\n",
    "<p style=\"color:#6a66bd; text-align:center; font-weight:bold; font-family:verdana; font-size:25px;\">Thanks 👏 for Visiting!</p>"
   ]
  }
 ],
 "metadata": {
  "kernelspec": {
   "display_name": "Python 3 (ipykernel)",
   "language": "python",
   "name": "python3"
  },
  "language_info": {
   "codemirror_mode": {
    "name": "ipython",
    "version": 3
   },
   "file_extension": ".py",
   "mimetype": "text/x-python",
   "name": "python",
   "nbconvert_exporter": "python",
   "pygments_lexer": "ipython3",
   "version": "3.12.1"
  }
 },
 "nbformat": 4,
 "nbformat_minor": 5
}
