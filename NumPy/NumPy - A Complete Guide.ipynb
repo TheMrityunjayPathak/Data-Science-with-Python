{
 "cells": [
  {
   "cell_type": "markdown",
   "id": "dde8590c",
   "metadata": {
    "papermill": {
     "duration": 0.049672,
     "end_time": "2024-07-23T08:58:47.767502",
     "exception": false,
     "start_time": "2024-07-23T08:58:47.717830",
     "status": "completed"
    },
    "tags": []
   },
   "source": [
    "<div id=\"header\"><p style=\"color:#6a66bd; text-align:center; font-weight:bold; font-family:verdana; font-size:25px;\">NumPy - A Complete Guide</p></div>\n",
    "\n",
    "---\n",
    "\n",
    "<p style=\"text-align:right; font-family:verdana;\">Follow <a href=\"https://github.com/TheMrityunjayPathak\" style=\"color:#6a66bd; text-decoration:none;\">@Mrityunjay Pathak</a> for more!</p>\n",
    "\n",
    "<!--Include Prism.js and CSS-->\n",
    "<link href=\"https://cdnjs.cloudflare.com/ajax/libs/prism/1.25.0/themes/prism.min.css\" rel=\"stylesheet\"/>\n",
    "<script src=\"https://cdnjs.cloudflare.com/ajax/libs/prism/1.25.0/prism.min.js\"></script>\n",
    "<script src=\"https://cdnjs.cloudflare.com/ajax/libs/prism/1.25.0/components/prism-python.min.js\"></script>\n",
    "    \n",
    "<div style=\"background-color:gainsboro; padding:8px; border:2px dotted black; border-radius:8px; font-family:verdana; line-height: 1.7em\">\n",
    "<font color='#6a66bd' size=\"5px\">Introduction to Numpy</font>\n",
    "<br>\n",
    "<br>\n",
    "<strong>What is NumPy?</strong>\n",
    "<br>\n",
    "• NumPy stands for Numerical Python.\n",
    "<br>\n",
    "• NumPy is a Python library used for working with arrays.\n",
    "<br>\n",
    "• It also has functions for working in domain of linear algebra, fourier transform and matrices.\n",
    "<br>\n",
    "• NumPy was created in 2005 by Travis Oliphant. It is an open source project and you can use it freely.\n",
    "<br>\n",
    "<br>\n",
    "<strong>Why Use NumPy?</strong>\n",
    "<br>\n",
    "• In Python we have lists that serve the purpose of arrays, but they are slow to process.\n",
    "<br>\n",
    "• NumPy aims to provide an array object that is up to 50x faster than traditional Python lists.\n",
    "<br>\n",
    "• The array object in NumPy is called ndarray, it provides a lot of supporting functions that make working with ndarray very easy.\n",
    "<br>\n",
    "• Arrays are very frequently used in data science, where speed and resources are very important.\n",
    "<br>\n",
    "<br>\n",
    "<strong>Why is NumPy Faster Than Lists?</strong>\n",
    "<br>\n",
    "• NumPy arrays are stored at one continuous place in memory unlike lists, so processes can access and manipulate them very efficiently.\n",
    "<br>\n",
    "• This behavior is called locality of reference in computer science.\n",
    "<br>\n",
    "• This is the main reason why NumPy is faster than lists. Also it is optimized to work with latest CPU architectures.\n",
    "</div>"
   ]
  },
  {
   "cell_type": "markdown",
   "id": "44bc8405",
   "metadata": {
    "papermill": {
     "duration": 0.043096,
     "end_time": "2024-07-23T08:58:47.854234",
     "exception": false,
     "start_time": "2024-07-23T08:58:47.811138",
     "status": "completed"
    },
    "tags": []
   },
   "source": [
    "<div style=\"background-color:gainsboro; padding:8px; border:2px dotted black; border-radius:8px; font-family:verdana; line-height: 1.7em\">\n",
    "<font color='#6a66bd' size=\"5px\">Installing NumPy</font>\n",
    "<br>\n",
    "<br>\n",
    "• If you have <a href=\"https://www.python.org/downloads/\" style=\"text-decoration:none; color:#6a66bd;\">Python</a> and <a href=\"https://pypi.org/project/pip/\" style=\"text-decoration:none; color:#6a66bd;\">PIP</a> already installed on your system, then installation of NumPy is very easy.\n",
    "<br>\n",
    "• Install it using this command :\n",
    "<div style=\"background-color:#ADD8E6; padding:8px; border:1px solid #87CEEB; border-radius:4px;\">\n",
    "<strong>Note :</strong> You can use your Jupyter Notebook as Terminal to install anything using PIP Command.\n",
    "</div>\n",
    "<div style=\"background-color:#ADD8E6; padding:8px; border:1px solid #87CEEB; border-radius:4px;\">\n",
    "<strong>Note :</strong> Just add an exclamation mark before your PIP Command. Like !pip install numpy\n",
    "</div>\n",
    "</div>"
   ]
  },
  {
   "cell_type": "code",
   "execution_count": 1,
   "id": "58a1c9b6",
   "metadata": {
    "execution": {
     "iopub.execute_input": "2024-07-23T08:58:47.944807Z",
     "iopub.status.busy": "2024-07-23T08:58:47.944365Z",
     "iopub.status.idle": "2024-07-23T08:59:01.326509Z",
     "shell.execute_reply": "2024-07-23T08:59:01.324905Z"
    },
    "papermill": {
     "duration": 13.431304,
     "end_time": "2024-07-23T08:59:01.329355",
     "exception": false,
     "start_time": "2024-07-23T08:58:47.898051",
     "status": "completed"
    },
    "tags": []
   },
   "outputs": [
    {
     "name": "stdout",
     "output_type": "stream",
     "text": [
      "Requirement already satisfied: numpy in /opt/conda/lib/python3.10/site-packages (1.26.4)\r\n"
     ]
    }
   ],
   "source": [
    "!pip install numpy"
   ]
  },
  {
   "cell_type": "markdown",
   "id": "c41989da",
   "metadata": {
    "papermill": {
     "duration": 0.111535,
     "end_time": "2024-07-23T08:59:01.485316",
     "exception": false,
     "start_time": "2024-07-23T08:59:01.373781",
     "status": "completed"
    },
    "tags": []
   },
   "source": [
    "<div style=\"background-color:gainsboro; padding:8px; border:2px dotted black; border-radius:8px; font-family:verdana; line-height: 1.7em\">\n",
    "<font color='#6a66bd' size=\"5px\">Getting Started with NumPy</font>\n",
    "<br>\n",
    "<br>\n",
    "<strong>Import NumPy</strong>\n",
    "<br>\n",
    "• Once NumPy is installed, import it in your project by adding the import keyword.\n",
    "</div>"
   ]
  },
  {
   "cell_type": "code",
   "execution_count": 2,
   "id": "5c5d429c",
   "metadata": {
    "execution": {
     "iopub.execute_input": "2024-07-23T08:59:01.576746Z",
     "iopub.status.busy": "2024-07-23T08:59:01.576311Z",
     "iopub.status.idle": "2024-07-23T08:59:01.582021Z",
     "shell.execute_reply": "2024-07-23T08:59:01.580751Z"
    },
    "papermill": {
     "duration": 0.053651,
     "end_time": "2024-07-23T08:59:01.584394",
     "exception": false,
     "start_time": "2024-07-23T08:59:01.530743",
     "status": "completed"
    },
    "tags": []
   },
   "outputs": [],
   "source": [
    "import numpy"
   ]
  },
  {
   "cell_type": "markdown",
   "id": "7b39e02d",
   "metadata": {
    "papermill": {
     "duration": 0.043842,
     "end_time": "2024-07-23T08:59:01.672382",
     "exception": false,
     "start_time": "2024-07-23T08:59:01.628540",
     "status": "completed"
    },
    "tags": []
   },
   "source": [
    "<div style=\"background-color:gainsboro; padding:8px; border:2px dotted black; border-radius:8px; font-family:verdana; line-height: 1.7em\">\n",
    "<strong>NumPy as np</strong>\n",
    "<br>\n",
    "• NumPy is usually imported under the np alias.\n",
    "<br>\n",
    "• Create an alias with the as keyword while importing.\n",
    "<div style=\"background-color:#ADD8E6; padding:8px; border:1px solid #87CEEB; border-radius:4px;\">\n",
    "<strong>Note :</strong> In Python alias are an alternate name for referring to the same thing.\n",
    "</div>\n",
    "</div>"
   ]
  },
  {
   "cell_type": "code",
   "execution_count": 3,
   "id": "e01bf83a",
   "metadata": {
    "execution": {
     "iopub.execute_input": "2024-07-23T08:59:01.762316Z",
     "iopub.status.busy": "2024-07-23T08:59:01.761933Z",
     "iopub.status.idle": "2024-07-23T08:59:01.766920Z",
     "shell.execute_reply": "2024-07-23T08:59:01.765723Z"
    },
    "papermill": {
     "duration": 0.052474,
     "end_time": "2024-07-23T08:59:01.769175",
     "exception": false,
     "start_time": "2024-07-23T08:59:01.716701",
     "status": "completed"
    },
    "tags": []
   },
   "outputs": [],
   "source": [
    "import numpy as np"
   ]
  },
  {
   "cell_type": "markdown",
   "id": "d705b484",
   "metadata": {
    "papermill": {
     "duration": 0.043494,
     "end_time": "2024-07-23T08:59:01.856535",
     "exception": false,
     "start_time": "2024-07-23T08:59:01.813041",
     "status": "completed"
    },
    "tags": []
   },
   "source": [
    "<div style=\"background-color:gainsboro; padding:8px; border:2px dotted black; border-radius:8px; font-family:verdana; line-height: 1.7em\">\n",
    "<strong>Checking NumPy Version</strong>\n",
    "<br>\n",
    "• The version string is stored under __version__ attribute.\n",
    "</div>"
   ]
  },
  {
   "cell_type": "code",
   "execution_count": 4,
   "id": "e1d48cea",
   "metadata": {
    "execution": {
     "iopub.execute_input": "2024-07-23T08:59:01.947275Z",
     "iopub.status.busy": "2024-07-23T08:59:01.946892Z",
     "iopub.status.idle": "2024-07-23T08:59:01.952611Z",
     "shell.execute_reply": "2024-07-23T08:59:01.951302Z"
    },
    "papermill": {
     "duration": 0.054141,
     "end_time": "2024-07-23T08:59:01.955417",
     "exception": false,
     "start_time": "2024-07-23T08:59:01.901276",
     "status": "completed"
    },
    "tags": []
   },
   "outputs": [
    {
     "name": "stdout",
     "output_type": "stream",
     "text": [
      "1.26.4\n"
     ]
    }
   ],
   "source": [
    "print(numpy.__version__)"
   ]
  },
  {
   "cell_type": "markdown",
   "id": "e202891b",
   "metadata": {
    "papermill": {
     "duration": 0.043923,
     "end_time": "2024-07-23T08:59:02.043504",
     "exception": false,
     "start_time": "2024-07-23T08:59:01.999581",
     "status": "completed"
    },
    "tags": []
   },
   "source": [
    "<div style=\"background-color:gainsboro; padding:8px; border:2px dotted black; border-radius:8px; font-family:verdana; line-height: 1.7em\">\n",
    "<font color='#6a66bd' size=\"5px\">Creating NumPy Array</font>\n",
    "<br>\n",
    "<br>\n",
    "<strong>NumPy ndarray Object</strong>\n",
    "<br>\n",
    "• NumPy is used to work with arrays. The array object in NumPy is called ndarray.\n",
    "<br>\n",
    "• We can create a NumPy ndarray object by using the array() function.\n",
    "<br>\n",
    "• In computer programming, an array is a structure for storing and retrieving data. \n",
    "<br>\n",
    "• We often talk about an array as if it were a grid in space, with each cell storing one element of the data.\n",
    "<br>\n",
    "<br>\n",
    "<strong>Most NumPy arrays have some restrictions, For instance :</strong>\n",
    "<br>\n",
    "• All elements of the array must be of the same type of data.\n",
    "<br>\n",
    "• Once created, the total size of the the array can’t change.\n",
    "<br>\n",
    "• The shape must be “rectangular” not “jagged”.\n",
    "<div style=\"background-color:#ADD8E6; padding:8px; border:1px solid #87CEEB; border-radius:4px;\">\n",
    "<strong>Note :</strong> type() function tells us the type of the object passed to it.\n",
    "</div>\n",
    "</div>"
   ]
  },
  {
   "cell_type": "code",
   "execution_count": 5,
   "id": "2aeb918a",
   "metadata": {
    "execution": {
     "iopub.execute_input": "2024-07-23T08:59:02.134320Z",
     "iopub.status.busy": "2024-07-23T08:59:02.133128Z",
     "iopub.status.idle": "2024-07-23T08:59:02.141780Z",
     "shell.execute_reply": "2024-07-23T08:59:02.140449Z"
    },
    "papermill": {
     "duration": 0.056221,
     "end_time": "2024-07-23T08:59:02.144130",
     "exception": false,
     "start_time": "2024-07-23T08:59:02.087909",
     "status": "completed"
    },
    "tags": []
   },
   "outputs": [
    {
     "name": "stdout",
     "output_type": "stream",
     "text": [
      "[1 2 3 4 5]\n",
      "<class 'numpy.ndarray'>\n"
     ]
    }
   ],
   "source": [
    "arr = np.array([1, 2, 3, 4, 5])\n",
    "print(arr)\n",
    "print(type(arr))"
   ]
  },
  {
   "cell_type": "markdown",
   "id": "37d5b91f",
   "metadata": {
    "papermill": {
     "duration": 0.04578,
     "end_time": "2024-07-23T08:59:02.237098",
     "exception": false,
     "start_time": "2024-07-23T08:59:02.191318",
     "status": "completed"
    },
    "tags": []
   },
   "source": [
    "<div style=\"background-color:gainsboro; padding:8px; border:2px dotted black; border-radius:8px; font-family:verdana; line-height: 1.7em\">\n",
    "• To create an ndarray, we can pass a list, tuple or any array-like object into the array() method, and it will be converted into an ndarray.\n",
    "</div>"
   ]
  },
  {
   "cell_type": "code",
   "execution_count": 6,
   "id": "1da3bfac",
   "metadata": {
    "execution": {
     "iopub.execute_input": "2024-07-23T08:59:02.326235Z",
     "iopub.status.busy": "2024-07-23T08:59:02.325845Z",
     "iopub.status.idle": "2024-07-23T08:59:02.331750Z",
     "shell.execute_reply": "2024-07-23T08:59:02.330773Z"
    },
    "papermill": {
     "duration": 0.053297,
     "end_time": "2024-07-23T08:59:02.334421",
     "exception": false,
     "start_time": "2024-07-23T08:59:02.281124",
     "status": "completed"
    },
    "tags": []
   },
   "outputs": [
    {
     "name": "stdout",
     "output_type": "stream",
     "text": [
      "[1 2 3 4 5]\n"
     ]
    }
   ],
   "source": [
    "arr = np.array((1, 2, 3, 4, 5))\n",
    "print(arr)"
   ]
  },
  {
   "cell_type": "markdown",
   "id": "b96cddf5",
   "metadata": {
    "papermill": {
     "duration": 0.044361,
     "end_time": "2024-07-23T08:59:02.424391",
     "exception": false,
     "start_time": "2024-07-23T08:59:02.380030",
     "status": "completed"
    },
    "tags": []
   },
   "source": [
    "<div style=\"background-color:gainsboro; padding:8px; border:2px dotted black; border-radius:8px; font-family:verdana; line-height: 1.7em\">\n",
    "<font color='#6a66bd' size=\"5px\">Create Basic Arrays</font>\n",
    "<br>\n",
    "<br>\n",
    "• Besides creating an array from a sequence of elements, you can easily create an array of some predefined formats.\n",
    "<br>\n",
    "• To create an array with all elements as zero(0).\n",
    "</div>"
   ]
  },
  {
   "cell_type": "code",
   "execution_count": 7,
   "id": "1b5fc288",
   "metadata": {
    "execution": {
     "iopub.execute_input": "2024-07-23T08:59:02.514628Z",
     "iopub.status.busy": "2024-07-23T08:59:02.514194Z",
     "iopub.status.idle": "2024-07-23T08:59:02.520445Z",
     "shell.execute_reply": "2024-07-23T08:59:02.519335Z"
    },
    "papermill": {
     "duration": 0.054146,
     "end_time": "2024-07-23T08:59:02.522695",
     "exception": false,
     "start_time": "2024-07-23T08:59:02.468549",
     "status": "completed"
    },
    "tags": []
   },
   "outputs": [
    {
     "name": "stdout",
     "output_type": "stream",
     "text": [
      "[0. 0. 0.]\n"
     ]
    }
   ],
   "source": [
    "#Creating a 1D Array\n",
    "zeros = np.zeros(3)\n",
    "print(zeros)"
   ]
  },
  {
   "cell_type": "code",
   "execution_count": 8,
   "id": "a8d6eaa8",
   "metadata": {
    "execution": {
     "iopub.execute_input": "2024-07-23T08:59:02.613553Z",
     "iopub.status.busy": "2024-07-23T08:59:02.613086Z",
     "iopub.status.idle": "2024-07-23T08:59:02.619688Z",
     "shell.execute_reply": "2024-07-23T08:59:02.618236Z"
    },
    "papermill": {
     "duration": 0.055008,
     "end_time": "2024-07-23T08:59:02.622090",
     "exception": false,
     "start_time": "2024-07-23T08:59:02.567082",
     "status": "completed"
    },
    "tags": []
   },
   "outputs": [
    {
     "name": "stdout",
     "output_type": "stream",
     "text": [
      "[[0. 0. 0.]\n",
      " [0. 0. 0.]\n",
      " [0. 0. 0.]]\n"
     ]
    }
   ],
   "source": [
    "#Creating a 2D Array\n",
    "zeros = np.zeros((3,3))\n",
    "print(zeros)"
   ]
  },
  {
   "cell_type": "markdown",
   "id": "ad94529e",
   "metadata": {
    "papermill": {
     "duration": 0.043639,
     "end_time": "2024-07-23T08:59:02.710243",
     "exception": false,
     "start_time": "2024-07-23T08:59:02.666604",
     "status": "completed"
    },
    "tags": []
   },
   "source": [
    "<div style=\"background-color:gainsboro; padding:8px; border:2px dotted black; border-radius:8px; font-family:verdana; line-height: 1.7em\">\n",
    "• To create an array with all elements as one(1).\n",
    "</div>"
   ]
  },
  {
   "cell_type": "code",
   "execution_count": 9,
   "id": "54610b06",
   "metadata": {
    "execution": {
     "iopub.execute_input": "2024-07-23T08:59:02.801287Z",
     "iopub.status.busy": "2024-07-23T08:59:02.800814Z",
     "iopub.status.idle": "2024-07-23T08:59:02.807578Z",
     "shell.execute_reply": "2024-07-23T08:59:02.806215Z"
    },
    "papermill": {
     "duration": 0.055003,
     "end_time": "2024-07-23T08:59:02.809991",
     "exception": false,
     "start_time": "2024-07-23T08:59:02.754988",
     "status": "completed"
    },
    "tags": []
   },
   "outputs": [
    {
     "name": "stdout",
     "output_type": "stream",
     "text": [
      "[1. 1. 1.]\n"
     ]
    }
   ],
   "source": [
    "#Creating a 1D Array\n",
    "ones = np.ones(3)\n",
    "print(ones)"
   ]
  },
  {
   "cell_type": "code",
   "execution_count": 10,
   "id": "323327c3",
   "metadata": {
    "execution": {
     "iopub.execute_input": "2024-07-23T08:59:02.901046Z",
     "iopub.status.busy": "2024-07-23T08:59:02.899982Z",
     "iopub.status.idle": "2024-07-23T08:59:02.906369Z",
     "shell.execute_reply": "2024-07-23T08:59:02.905356Z"
    },
    "papermill": {
     "duration": 0.05433,
     "end_time": "2024-07-23T08:59:02.908550",
     "exception": false,
     "start_time": "2024-07-23T08:59:02.854220",
     "status": "completed"
    },
    "tags": []
   },
   "outputs": [
    {
     "name": "stdout",
     "output_type": "stream",
     "text": [
      "[[1. 1. 1.]\n",
      " [1. 1. 1.]\n",
      " [1. 1. 1.]]\n"
     ]
    }
   ],
   "source": [
    "#Creating a 2D Array\n",
    "ones = np.ones((3,3))\n",
    "print(ones)"
   ]
  },
  {
   "cell_type": "markdown",
   "id": "8d484dd3",
   "metadata": {
    "papermill": {
     "duration": 0.046698,
     "end_time": "2024-07-23T08:59:03.003590",
     "exception": false,
     "start_time": "2024-07-23T08:59:02.956892",
     "status": "completed"
    },
    "tags": []
   },
   "source": [
    "<div style=\"background-color:gainsboro; padding:8px; border:2px dotted black; border-radius:8px; font-family:verdana; line-height: 1.7em\">\n",
    "• The function empty() creates an array whose initial content is random and depends on the state of the memory. \n",
    "<br>\n",
    "• The reason to use empty over zeros (or something similar) is speed - just make sure to fill every element afterwards.\n",
    "</div>"
   ]
  },
  {
   "cell_type": "code",
   "execution_count": 11,
   "id": "84664b30",
   "metadata": {
    "execution": {
     "iopub.execute_input": "2024-07-23T08:59:03.099356Z",
     "iopub.status.busy": "2024-07-23T08:59:03.098923Z",
     "iopub.status.idle": "2024-07-23T08:59:03.105371Z",
     "shell.execute_reply": "2024-07-23T08:59:03.104200Z"
    },
    "papermill": {
     "duration": 0.057263,
     "end_time": "2024-07-23T08:59:03.107978",
     "exception": false,
     "start_time": "2024-07-23T08:59:03.050715",
     "status": "completed"
    },
    "tags": []
   },
   "outputs": [
    {
     "name": "stdout",
     "output_type": "stream",
     "text": [
      "[1. 1. 1.]\n"
     ]
    }
   ],
   "source": [
    "#Create a 1D Array\n",
    "empty = np.empty(3)\n",
    "print(empty)"
   ]
  },
  {
   "cell_type": "code",
   "execution_count": 12,
   "id": "325adfc3",
   "metadata": {
    "execution": {
     "iopub.execute_input": "2024-07-23T08:59:03.199625Z",
     "iopub.status.busy": "2024-07-23T08:59:03.199176Z",
     "iopub.status.idle": "2024-07-23T08:59:03.206240Z",
     "shell.execute_reply": "2024-07-23T08:59:03.204674Z"
    },
    "papermill": {
     "duration": 0.055863,
     "end_time": "2024-07-23T08:59:03.208801",
     "exception": false,
     "start_time": "2024-07-23T08:59:03.152938",
     "status": "completed"
    },
    "tags": []
   },
   "outputs": [
    {
     "name": "stdout",
     "output_type": "stream",
     "text": [
      "[[1. 1. 1.]\n",
      " [1. 1. 1.]\n",
      " [1. 1. 1.]]\n"
     ]
    }
   ],
   "source": [
    "#Create a 2D Array\n",
    "empty = np.empty((3,3))\n",
    "print(empty)"
   ]
  },
  {
   "cell_type": "markdown",
   "id": "4e9b0ef9",
   "metadata": {
    "papermill": {
     "duration": 0.045752,
     "end_time": "2024-07-23T08:59:03.305289",
     "exception": false,
     "start_time": "2024-07-23T08:59:03.259537",
     "status": "completed"
    },
    "tags": []
   },
   "source": [
    "<div style=\"background-color:gainsboro; padding:8px; border:2px dotted black; border-radius:8px; font-family:verdana; line-height: 1.7em\">\n",
    "• To create an array with all digonal elements as one(1).\n",
    "</div>"
   ]
  },
  {
   "cell_type": "code",
   "execution_count": 13,
   "id": "694324d0",
   "metadata": {
    "execution": {
     "iopub.execute_input": "2024-07-23T08:59:03.399258Z",
     "iopub.status.busy": "2024-07-23T08:59:03.398850Z",
     "iopub.status.idle": "2024-07-23T08:59:03.405735Z",
     "shell.execute_reply": "2024-07-23T08:59:03.404419Z"
    },
    "papermill": {
     "duration": 0.05654,
     "end_time": "2024-07-23T08:59:03.408548",
     "exception": false,
     "start_time": "2024-07-23T08:59:03.352008",
     "status": "completed"
    },
    "tags": []
   },
   "outputs": [
    {
     "name": "stdout",
     "output_type": "stream",
     "text": [
      "[[1. 0. 0.]\n",
      " [0. 1. 0.]\n",
      " [0. 0. 1.]]\n"
     ]
    }
   ],
   "source": [
    "idnt = np.identity(3)\n",
    "print(idnt)"
   ]
  },
  {
   "cell_type": "markdown",
   "id": "d7b7d2de",
   "metadata": {
    "papermill": {
     "duration": 0.046553,
     "end_time": "2024-07-23T08:59:03.503459",
     "exception": false,
     "start_time": "2024-07-23T08:59:03.456906",
     "status": "completed"
    },
    "tags": []
   },
   "source": [
    "<div style=\"background-color:gainsboro; padding:8px; border:2px dotted black; border-radius:8px; font-family:verdana; line-height: 1.7em\">\n",
    "• To create an array with all digonal elements as specified.\n",
    "</div>"
   ]
  },
  {
   "cell_type": "code",
   "execution_count": 14,
   "id": "bdc7594c",
   "metadata": {
    "execution": {
     "iopub.execute_input": "2024-07-23T08:59:03.600733Z",
     "iopub.status.busy": "2024-07-23T08:59:03.600301Z",
     "iopub.status.idle": "2024-07-23T08:59:03.606655Z",
     "shell.execute_reply": "2024-07-23T08:59:03.605296Z"
    },
    "papermill": {
     "duration": 0.056589,
     "end_time": "2024-07-23T08:59:03.609026",
     "exception": false,
     "start_time": "2024-07-23T08:59:03.552437",
     "status": "completed"
    },
    "tags": []
   },
   "outputs": [
    {
     "name": "stdout",
     "output_type": "stream",
     "text": [
      "[[1 0 0]\n",
      " [0 2 0]\n",
      " [0 0 3]]\n"
     ]
    }
   ],
   "source": [
    "dig = np.diag((1,2,3))\n",
    "print(dig)"
   ]
  },
  {
   "cell_type": "markdown",
   "id": "28255c19",
   "metadata": {
    "papermill": {
     "duration": 0.045966,
     "end_time": "2024-07-23T08:59:03.701809",
     "exception": false,
     "start_time": "2024-07-23T08:59:03.655843",
     "status": "completed"
    },
    "tags": []
   },
   "source": [
    "<div style=\"background-color:gainsboro; padding:8px; border:2px dotted black; border-radius:8px; font-family:verdana; line-height: 1.7em\">\n",
    "• To create an array with series of numbers starting with zero.\n",
    "</div>"
   ]
  },
  {
   "cell_type": "code",
   "execution_count": 15,
   "id": "38b90d30",
   "metadata": {
    "execution": {
     "iopub.execute_input": "2024-07-23T08:59:03.797348Z",
     "iopub.status.busy": "2024-07-23T08:59:03.796496Z",
     "iopub.status.idle": "2024-07-23T08:59:03.803050Z",
     "shell.execute_reply": "2024-07-23T08:59:03.801882Z"
    },
    "papermill": {
     "duration": 0.057109,
     "end_time": "2024-07-23T08:59:03.805681",
     "exception": false,
     "start_time": "2024-07-23T08:59:03.748572",
     "status": "completed"
    },
    "tags": []
   },
   "outputs": [
    {
     "name": "stdout",
     "output_type": "stream",
     "text": [
      "[0 1 2 3 4 5 6 7 8]\n"
     ]
    }
   ],
   "source": [
    "#To start with 0\n",
    "rng = np.arange(9)\n",
    "print(rng)"
   ]
  },
  {
   "cell_type": "code",
   "execution_count": 16,
   "id": "34a696ba",
   "metadata": {
    "execution": {
     "iopub.execute_input": "2024-07-23T08:59:03.898435Z",
     "iopub.status.busy": "2024-07-23T08:59:03.898033Z",
     "iopub.status.idle": "2024-07-23T08:59:03.904194Z",
     "shell.execute_reply": "2024-07-23T08:59:03.902989Z"
    },
    "papermill": {
     "duration": 0.055397,
     "end_time": "2024-07-23T08:59:03.906421",
     "exception": false,
     "start_time": "2024-07-23T08:59:03.851024",
     "status": "completed"
    },
    "tags": []
   },
   "outputs": [
    {
     "name": "stdout",
     "output_type": "stream",
     "text": [
      "[1 3 5 7 9]\n"
     ]
    }
   ],
   "source": [
    "#To start with any specific number and interval (step) specified\n",
    "rng = np.arange(1, 10, 2)\n",
    "print(rng)"
   ]
  },
  {
   "cell_type": "markdown",
   "id": "f0fe869a",
   "metadata": {
    "papermill": {
     "duration": 0.04546,
     "end_time": "2024-07-23T08:59:03.997355",
     "exception": false,
     "start_time": "2024-07-23T08:59:03.951895",
     "status": "completed"
    },
    "tags": []
   },
   "source": [
    "<div style=\"background-color:gainsboro; padding:8px; border:2px dotted black; border-radius:8px; font-family:verdana; line-height: 1.7em\">\n",
    "• You can also use linspace() method to create an array with values that are spaced linearly in a specified interval.\n",
    "</div>"
   ]
  },
  {
   "cell_type": "code",
   "execution_count": 17,
   "id": "0c45c35d",
   "metadata": {
    "execution": {
     "iopub.execute_input": "2024-07-23T08:59:04.089049Z",
     "iopub.status.busy": "2024-07-23T08:59:04.088713Z",
     "iopub.status.idle": "2024-07-23T08:59:04.095670Z",
     "shell.execute_reply": "2024-07-23T08:59:04.094232Z"
    },
    "papermill": {
     "duration": 0.05564,
     "end_time": "2024-07-23T08:59:04.097979",
     "exception": false,
     "start_time": "2024-07-23T08:59:04.042339",
     "status": "completed"
    },
    "tags": []
   },
   "outputs": [
    {
     "name": "stdout",
     "output_type": "stream",
     "text": [
      "[ 0.   2.5  5.   7.5 10. ]\n"
     ]
    }
   ],
   "source": [
    "lin_arr = np.linspace(0, 10, num=5)\n",
    "print(lin_arr)"
   ]
  },
  {
   "cell_type": "markdown",
   "id": "4396b3ed",
   "metadata": {
    "papermill": {
     "duration": 0.044337,
     "end_time": "2024-07-23T08:59:04.191372",
     "exception": false,
     "start_time": "2024-07-23T08:59:04.147035",
     "status": "completed"
    },
    "tags": []
   },
   "source": [
    "<div style=\"background-color:gainsboro; padding:8px; border:2px dotted black; border-radius:8px; font-family:verdana; line-height: 1.7em\">\n",
    "• The tile() method constructs an array by repeating arrays.\n",
    "<br>\n",
    "• You can specify repetitions to create an array by repeating the array any number of times.\n",
    "</div>"
   ]
  },
  {
   "cell_type": "code",
   "execution_count": 18,
   "id": "f5d4b6b9",
   "metadata": {
    "execution": {
     "iopub.execute_input": "2024-07-23T08:59:04.290557Z",
     "iopub.status.busy": "2024-07-23T08:59:04.287285Z",
     "iopub.status.idle": "2024-07-23T08:59:04.297244Z",
     "shell.execute_reply": "2024-07-23T08:59:04.295666Z"
    },
    "papermill": {
     "duration": 0.062273,
     "end_time": "2024-07-23T08:59:04.299932",
     "exception": false,
     "start_time": "2024-07-23T08:59:04.237659",
     "status": "completed"
    },
    "tags": []
   },
   "outputs": [
    {
     "name": "stdout",
     "output_type": "stream",
     "text": [
      "[1 2 3 4 5 1 2 3 4 5]\n"
     ]
    }
   ],
   "source": [
    "#Create an array by repeating arr 2 times\n",
    "arr = np.array([1,2,3,4,5])\n",
    "tile_arr = np.tile(arr, 2)\n",
    "print(tile_arr)"
   ]
  },
  {
   "cell_type": "markdown",
   "id": "9c866b21",
   "metadata": {
    "papermill": {
     "duration": 0.048796,
     "end_time": "2024-07-23T08:59:04.407796",
     "exception": false,
     "start_time": "2024-07-23T08:59:04.359000",
     "status": "completed"
    },
    "tags": []
   },
   "source": [
    "<div style=\"background-color:gainsboro; padding:8px; border:2px dotted black; border-radius:8px; font-family:verdana; line-height: 1.7em\">\n",
    "• The full() method creates a new array of given shape and type, filled with a given fill value.\n",
    "</div>"
   ]
  },
  {
   "cell_type": "code",
   "execution_count": 19,
   "id": "3e92c44e",
   "metadata": {
    "execution": {
     "iopub.execute_input": "2024-07-23T08:59:04.501503Z",
     "iopub.status.busy": "2024-07-23T08:59:04.500299Z",
     "iopub.status.idle": "2024-07-23T08:59:04.507134Z",
     "shell.execute_reply": "2024-07-23T08:59:04.505868Z"
    },
    "papermill": {
     "duration": 0.056315,
     "end_time": "2024-07-23T08:59:04.509837",
     "exception": false,
     "start_time": "2024-07-23T08:59:04.453522",
     "status": "completed"
    },
    "tags": []
   },
   "outputs": [
    {
     "name": "stdout",
     "output_type": "stream",
     "text": [
      "[[3 3]\n",
      " [3 3]]\n"
     ]
    }
   ],
   "source": [
    "#Create a 2X2 array filled with 3s\n",
    "arr = np.full((2,2),3)\n",
    "print(arr)"
   ]
  },
  {
   "cell_type": "markdown",
   "id": "6985577a",
   "metadata": {
    "papermill": {
     "duration": 0.048471,
     "end_time": "2024-07-23T08:59:04.607643",
     "exception": false,
     "start_time": "2024-07-23T08:59:04.559172",
     "status": "completed"
    },
    "tags": []
   },
   "source": [
    "<div style=\"background-color:gainsboro; padding:8px; border:2px dotted black; border-radius:8px; font-family:verdana; line-height: 1.7em\">\n",
    "<font color='#6a66bd' size=\"5px\">Dimensions in Arrays</font>\n",
    "<br>\n",
    "<br>\n",
    "• A dimension in arrays is one level of array depth.\n",
    "<br>\n",
    "<br>\n",
    "<strong>0-D Arrays</strong>\n",
    "<br>\n",
    "• 0-D arrays or Scalars are the elements in an array. Each value in an array is a 0-D array.\n",
    "</div>"
   ]
  },
  {
   "cell_type": "code",
   "execution_count": 20,
   "id": "073d5dfc",
   "metadata": {
    "execution": {
     "iopub.execute_input": "2024-07-23T08:59:04.710307Z",
     "iopub.status.busy": "2024-07-23T08:59:04.708874Z",
     "iopub.status.idle": "2024-07-23T08:59:04.716727Z",
     "shell.execute_reply": "2024-07-23T08:59:04.714619Z"
    },
    "papermill": {
     "duration": 0.059912,
     "end_time": "2024-07-23T08:59:04.719228",
     "exception": false,
     "start_time": "2024-07-23T08:59:04.659316",
     "status": "completed"
    },
    "tags": []
   },
   "outputs": [
    {
     "name": "stdout",
     "output_type": "stream",
     "text": [
      "42\n"
     ]
    }
   ],
   "source": [
    "arr = np.array(42)\n",
    "print(arr)"
   ]
  },
  {
   "cell_type": "markdown",
   "id": "501f2bbc",
   "metadata": {
    "papermill": {
     "duration": 0.048697,
     "end_time": "2024-07-23T08:59:04.816711",
     "exception": false,
     "start_time": "2024-07-23T08:59:04.768014",
     "status": "completed"
    },
    "tags": []
   },
   "source": [
    "<div style=\"background-color:gainsboro; padding:8px; border:2px dotted black; border-radius:8px; font-family:verdana; line-height: 1.7em\">\n",
    "<strong>1-D Arrays</strong>\n",
    "<br>\n",
    "• An array that has 0-D arrays as its elements is called uni-dimensional or 1-D array.\n",
    "<br>\n",
    "• These are the most common and basic arrays.\n",
    "</div>"
   ]
  },
  {
   "cell_type": "code",
   "execution_count": 21,
   "id": "474370f9",
   "metadata": {
    "execution": {
     "iopub.execute_input": "2024-07-23T08:59:04.911659Z",
     "iopub.status.busy": "2024-07-23T08:59:04.911284Z",
     "iopub.status.idle": "2024-07-23T08:59:04.917545Z",
     "shell.execute_reply": "2024-07-23T08:59:04.916314Z"
    },
    "papermill": {
     "duration": 0.056509,
     "end_time": "2024-07-23T08:59:04.920182",
     "exception": false,
     "start_time": "2024-07-23T08:59:04.863673",
     "status": "completed"
    },
    "tags": []
   },
   "outputs": [
    {
     "name": "stdout",
     "output_type": "stream",
     "text": [
      "[1 2 3 4 5]\n"
     ]
    }
   ],
   "source": [
    "arr = np.array([1, 2, 3, 4, 5])\n",
    "print(arr)"
   ]
  },
  {
   "cell_type": "markdown",
   "id": "fc24b3dc",
   "metadata": {
    "papermill": {
     "duration": 0.047667,
     "end_time": "2024-07-23T08:59:05.015894",
     "exception": false,
     "start_time": "2024-07-23T08:59:04.968227",
     "status": "completed"
    },
    "tags": []
   },
   "source": [
    "<div style=\"background-color:gainsboro; padding:8px; border:2px dotted black; border-radius:8px; font-family:verdana; line-height: 1.7em\">\n",
    "<strong>2-D Arrays</strong>\n",
    "<br>\n",
    "• An array that has 1-D arrays as its elements is called a 2-D array.\n",
    "<br>\n",
    "• These are often used to represent matrix or 2nd order tensors.\n",
    "</div>"
   ]
  },
  {
   "cell_type": "code",
   "execution_count": 22,
   "id": "3559d0de",
   "metadata": {
    "execution": {
     "iopub.execute_input": "2024-07-23T08:59:05.113721Z",
     "iopub.status.busy": "2024-07-23T08:59:05.112476Z",
     "iopub.status.idle": "2024-07-23T08:59:05.119575Z",
     "shell.execute_reply": "2024-07-23T08:59:05.118375Z"
    },
    "papermill": {
     "duration": 0.059632,
     "end_time": "2024-07-23T08:59:05.122590",
     "exception": false,
     "start_time": "2024-07-23T08:59:05.062958",
     "status": "completed"
    },
    "tags": []
   },
   "outputs": [
    {
     "name": "stdout",
     "output_type": "stream",
     "text": [
      "[[1 2 3]\n",
      " [4 5 6]]\n"
     ]
    }
   ],
   "source": [
    "arr = np.array([[1, 2, 3], [4, 5, 6]])\n",
    "print(arr)"
   ]
  },
  {
   "cell_type": "markdown",
   "id": "4a2d4969",
   "metadata": {
    "papermill": {
     "duration": 0.044875,
     "end_time": "2024-07-23T08:59:05.214341",
     "exception": false,
     "start_time": "2024-07-23T08:59:05.169466",
     "status": "completed"
    },
    "tags": []
   },
   "source": [
    "<div style=\"background-color:gainsboro; padding:8px; border:2px dotted black; border-radius:8px; font-family:verdana; line-height: 1.7em\">\n",
    "<strong>3-D arrays</strong>\n",
    "<br>\n",
    "• An array that has 2-D arrays (matrices) as its elements is called 3-D array.\n",
    "<br>\n",
    "• These are often used to represent a 3rd order tensor.\n",
    "</div>"
   ]
  },
  {
   "cell_type": "code",
   "execution_count": 23,
   "id": "ddf0d5ac",
   "metadata": {
    "execution": {
     "iopub.execute_input": "2024-07-23T08:59:05.308387Z",
     "iopub.status.busy": "2024-07-23T08:59:05.307921Z",
     "iopub.status.idle": "2024-07-23T08:59:05.315517Z",
     "shell.execute_reply": "2024-07-23T08:59:05.314247Z"
    },
    "papermill": {
     "duration": 0.056699,
     "end_time": "2024-07-23T08:59:05.317930",
     "exception": false,
     "start_time": "2024-07-23T08:59:05.261231",
     "status": "completed"
    },
    "tags": []
   },
   "outputs": [
    {
     "name": "stdout",
     "output_type": "stream",
     "text": [
      "[[[1 2 3]\n",
      "  [4 5 6]]\n",
      "\n",
      " [[1 2 3]\n",
      "  [4 5 6]]]\n"
     ]
    }
   ],
   "source": [
    "arr = np.array([[[1, 2, 3], [4, 5, 6]], [[1, 2, 3], [4, 5, 6]]])\n",
    "print(arr)"
   ]
  },
  {
   "cell_type": "markdown",
   "id": "f9fbae2d",
   "metadata": {
    "papermill": {
     "duration": 0.04501,
     "end_time": "2024-07-23T08:59:05.408719",
     "exception": false,
     "start_time": "2024-07-23T08:59:05.363709",
     "status": "completed"
    },
    "tags": []
   },
   "source": [
    "<div style=\"background-color:gainsboro; padding:8px; border:2px dotted black; border-radius:8px; font-family:verdana; line-height: 1.7em\">\n",
    "<strong>Check Number of Dimensions?</strong>\n",
    "<br>\n",
    "• NumPy Arrays provides the ndim attribute that returns an integer that tells us how many dimensions the array have.\n",
    "</div>"
   ]
  },
  {
   "cell_type": "code",
   "execution_count": 24,
   "id": "42d083eb",
   "metadata": {
    "execution": {
     "iopub.execute_input": "2024-07-23T08:59:05.501290Z",
     "iopub.status.busy": "2024-07-23T08:59:05.500842Z",
     "iopub.status.idle": "2024-07-23T08:59:05.509131Z",
     "shell.execute_reply": "2024-07-23T08:59:05.507883Z"
    },
    "papermill": {
     "duration": 0.057616,
     "end_time": "2024-07-23T08:59:05.511607",
     "exception": false,
     "start_time": "2024-07-23T08:59:05.453991",
     "status": "completed"
    },
    "tags": []
   },
   "outputs": [
    {
     "name": "stdout",
     "output_type": "stream",
     "text": [
      "0\n",
      "1\n",
      "2\n",
      "3\n"
     ]
    }
   ],
   "source": [
    "a = np.array(42)\n",
    "b = np.array([1, 2, 3, 4, 5])\n",
    "c = np.array([[1, 2, 3], [4, 5, 6]])\n",
    "d = np.array([[[1, 2, 3], [4, 5, 6]], [[1, 2, 3], [4, 5, 6]]])\n",
    "\n",
    "print(a.ndim)\n",
    "print(b.ndim)\n",
    "print(c.ndim)\n",
    "print(d.ndim)"
   ]
  },
  {
   "cell_type": "markdown",
   "id": "d9b8798c",
   "metadata": {
    "papermill": {
     "duration": 0.046295,
     "end_time": "2024-07-23T08:59:05.603425",
     "exception": false,
     "start_time": "2024-07-23T08:59:05.557130",
     "status": "completed"
    },
    "tags": []
   },
   "source": [
    "<div style=\"background-color:gainsboro; padding:8px; border:2px dotted black; border-radius:8px; font-family:verdana; line-height: 1.7em\">\n",
    "<strong>Higher Dimensional Arrays</strong>\n",
    "<br>\n",
    "• An array can have any number of dimensions.\n",
    "<br>\n",
    "• When the array is created, you can define the number of dimensions by using the ndmin argument.\n",
    "</div>"
   ]
  },
  {
   "cell_type": "code",
   "execution_count": 25,
   "id": "e0ba61ff",
   "metadata": {
    "execution": {
     "iopub.execute_input": "2024-07-23T08:59:05.695736Z",
     "iopub.status.busy": "2024-07-23T08:59:05.695315Z",
     "iopub.status.idle": "2024-07-23T08:59:05.702088Z",
     "shell.execute_reply": "2024-07-23T08:59:05.700878Z"
    },
    "papermill": {
     "duration": 0.056065,
     "end_time": "2024-07-23T08:59:05.704823",
     "exception": false,
     "start_time": "2024-07-23T08:59:05.648758",
     "status": "completed"
    },
    "tags": []
   },
   "outputs": [
    {
     "name": "stdout",
     "output_type": "stream",
     "text": [
      "[[[[[1 2 3 4]]]]]\n",
      "Dimension of Array : 5\n"
     ]
    }
   ],
   "source": [
    "arr = np.array([1, 2, 3, 4], ndmin=5)\n",
    "print(arr)\n",
    "print('Dimension of Array :', arr.ndim)"
   ]
  },
  {
   "cell_type": "markdown",
   "id": "78b5f48f",
   "metadata": {
    "papermill": {
     "duration": 0.046836,
     "end_time": "2024-07-23T08:59:05.800381",
     "exception": false,
     "start_time": "2024-07-23T08:59:05.753545",
     "status": "completed"
    },
    "tags": []
   },
   "source": [
    "<div style=\"background-color:gainsboro; padding:8px; border:2px dotted black; border-radius:8px; font-family:verdana; line-height: 1.7em\">\n",
    "<font color='#6a66bd' size=\"5px\">NumPy Indexing Array</font>\n",
    "<br>\n",
    "<br>\n",
    "<strong>Access Array Elements</strong>\n",
    "<br>\n",
    "• Array indexing is the same as accessing an array element.\n",
    "<br>\n",
    "• You can access an array element by referring to its index number.\n",
    "<br>\n",
    "• The indexes in NumPy arrays start with 0, meaning that the first element has index 0, and the second has index 1 etc.\n",
    "</div>"
   ]
  },
  {
   "cell_type": "code",
   "execution_count": 26,
   "id": "771dd3b1",
   "metadata": {
    "execution": {
     "iopub.execute_input": "2024-07-23T08:59:05.897769Z",
     "iopub.status.busy": "2024-07-23T08:59:05.897373Z",
     "iopub.status.idle": "2024-07-23T08:59:05.903063Z",
     "shell.execute_reply": "2024-07-23T08:59:05.902122Z"
    },
    "papermill": {
     "duration": 0.057642,
     "end_time": "2024-07-23T08:59:05.905697",
     "exception": false,
     "start_time": "2024-07-23T08:59:05.848055",
     "status": "completed"
    },
    "tags": []
   },
   "outputs": [
    {
     "name": "stdout",
     "output_type": "stream",
     "text": [
      "1\n"
     ]
    }
   ],
   "source": [
    "arr = np.array([1, 2, 3, 4])\n",
    "print(arr[0])"
   ]
  },
  {
   "cell_type": "markdown",
   "id": "167472a3",
   "metadata": {
    "papermill": {
     "duration": 0.04842,
     "end_time": "2024-07-23T08:59:06.002508",
     "exception": false,
     "start_time": "2024-07-23T08:59:05.954088",
     "status": "completed"
    },
    "tags": []
   },
   "source": [
    "<div style=\"background-color:gainsboro; padding:8px; border:2px dotted black; border-radius:8px; font-family:verdana; line-height: 1.7em\">\n",
    "<strong>Access 2-D Arrays</strong>\n",
    "<br>\n",
    "• To access elements from 2-D arrays we can use comma separated integers representing the dimension and the index of the element.\n",
    "<br>\n",
    "• Think of 2-D arrays like a table with rows and columns, where the dimension represents the row and the index represents the column.\n",
    "</div>"
   ]
  },
  {
   "cell_type": "code",
   "execution_count": 27,
   "id": "b3663bff",
   "metadata": {
    "execution": {
     "iopub.execute_input": "2024-07-23T08:59:06.099931Z",
     "iopub.status.busy": "2024-07-23T08:59:06.099567Z",
     "iopub.status.idle": "2024-07-23T08:59:06.106121Z",
     "shell.execute_reply": "2024-07-23T08:59:06.104819Z"
    },
    "papermill": {
     "duration": 0.058104,
     "end_time": "2024-07-23T08:59:06.108670",
     "exception": false,
     "start_time": "2024-07-23T08:59:06.050566",
     "status": "completed"
    },
    "tags": []
   },
   "outputs": [
    {
     "name": "stdout",
     "output_type": "stream",
     "text": [
      "[[ 1  2  3  4  5]\n",
      " [ 6  7  8  9 10]]\n",
      "2nd element on 1st row : 2\n"
     ]
    }
   ],
   "source": [
    "arr = np.array([[1,2,3,4,5], [6,7,8,9,10]])\n",
    "print(arr)\n",
    "print('2nd element on 1st row :', arr[0, 1])"
   ]
  },
  {
   "cell_type": "markdown",
   "id": "7c22d7c3",
   "metadata": {
    "papermill": {
     "duration": 0.048405,
     "end_time": "2024-07-23T08:59:06.205182",
     "exception": false,
     "start_time": "2024-07-23T08:59:06.156777",
     "status": "completed"
    },
    "tags": []
   },
   "source": [
    "<div style=\"background-color:gainsboro; padding:8px; border:2px dotted black; border-radius:8px; font-family:verdana; line-height: 1.7em\">\n",
    "<strong>Access 3-D Arrays</strong>\n",
    "<br>\n",
    "• To access elements from 3-D arrays we can use comma separated integers representing the dimensions and the index of the element.\n",
    "</div>"
   ]
  },
  {
   "cell_type": "code",
   "execution_count": 28,
   "id": "e38248a1",
   "metadata": {
    "execution": {
     "iopub.execute_input": "2024-07-23T08:59:06.304075Z",
     "iopub.status.busy": "2024-07-23T08:59:06.303663Z",
     "iopub.status.idle": "2024-07-23T08:59:06.314184Z",
     "shell.execute_reply": "2024-07-23T08:59:06.310634Z"
    },
    "papermill": {
     "duration": 0.062626,
     "end_time": "2024-07-23T08:59:06.317089",
     "exception": false,
     "start_time": "2024-07-23T08:59:06.254463",
     "status": "completed"
    },
    "tags": []
   },
   "outputs": [
    {
     "name": "stdout",
     "output_type": "stream",
     "text": [
      "[[[ 1  2  3]\n",
      "  [ 4  5  6]]\n",
      "\n",
      " [[ 7  8  9]\n",
      "  [10 11 12]]]\n",
      "3rd element of the second array of the first array : 6\n"
     ]
    }
   ],
   "source": [
    "arr = np.array([[[1, 2, 3], [4, 5, 6]], [[7, 8, 9], [10, 11, 12]]])\n",
    "print(arr)\n",
    "print('3rd element of the second array of the first array :', arr[0, 1, 2])"
   ]
  },
  {
   "cell_type": "markdown",
   "id": "4a43e732",
   "metadata": {
    "papermill": {
     "duration": 0.050177,
     "end_time": "2024-07-23T08:59:06.420772",
     "exception": false,
     "start_time": "2024-07-23T08:59:06.370595",
     "status": "completed"
    },
    "tags": []
   },
   "source": [
    "<div style=\"background-color:gainsboro; padding:8px; border:2px dotted black; border-radius:8px; font-family:verdana; line-height: 1.7em\">\n",
    "<strong>Negative Indexing</strong>\n",
    "<br>\n",
    "• Use negative indexing to access an array from the end.\n",
    "</div>"
   ]
  },
  {
   "cell_type": "code",
   "execution_count": 29,
   "id": "b898108d",
   "metadata": {
    "execution": {
     "iopub.execute_input": "2024-07-23T08:59:06.526523Z",
     "iopub.status.busy": "2024-07-23T08:59:06.526086Z",
     "iopub.status.idle": "2024-07-23T08:59:06.532488Z",
     "shell.execute_reply": "2024-07-23T08:59:06.531517Z"
    },
    "papermill": {
     "duration": 0.060555,
     "end_time": "2024-07-23T08:59:06.534624",
     "exception": false,
     "start_time": "2024-07-23T08:59:06.474069",
     "status": "completed"
    },
    "tags": []
   },
   "outputs": [
    {
     "name": "stdout",
     "output_type": "stream",
     "text": [
      "[[ 1  2  3  4  5]\n",
      " [ 6  7  8  9 10]]\n",
      "Last element from last row : 10\n"
     ]
    }
   ],
   "source": [
    "arr = np.array([[1,2,3,4,5], [6,7,8,9,10]])\n",
    "print(arr)\n",
    "print('Last element from last row :', arr[1, -1])"
   ]
  },
  {
   "cell_type": "markdown",
   "id": "f203d561",
   "metadata": {
    "papermill": {
     "duration": 0.047544,
     "end_time": "2024-07-23T08:59:06.717390",
     "exception": false,
     "start_time": "2024-07-23T08:59:06.669846",
     "status": "completed"
    },
    "tags": []
   },
   "source": [
    "<div style=\"background-color:gainsboro; padding:8px; border:2px dotted black; border-radius:8px; font-family:verdana; line-height: 1.7em\">\n",
    "<font color='#6a66bd' size=\"5px\">NumPy Slicing Array</font>\n",
    "<br>\n",
    "<br>\n",
    "<strong>Slicing Arrays</strong>\n",
    "<br>\n",
    "• Slicing in python means taking elements from one given index to another given index.\n",
    "<br>\n",
    "• We pass slice instead of index like this : [start:end].\n",
    "<br>\n",
    "• We can also define the step, like this : [start:end:step].\n",
    "<br>\n",
    "• If we don't pass start its considered 0\n",
    "<br>\n",
    "• If we don't pass end its considered length of array in that dimension\n",
    "<br>\n",
    "• If we don't pass step its considered 1\n",
    "<div style=\"background-color:#ADD8E6; padding:8px; border:1px solid #87CEEB; border-radius:4px;\">\n",
    "<strong>Note :</strong> The result includes the start index, but excludes the end index.\n",
    "</div>\n",
    "</div>"
   ]
  },
  {
   "cell_type": "code",
   "execution_count": 30,
   "id": "f26498ea",
   "metadata": {
    "execution": {
     "iopub.execute_input": "2024-07-23T08:59:06.813846Z",
     "iopub.status.busy": "2024-07-23T08:59:06.813468Z",
     "iopub.status.idle": "2024-07-23T08:59:06.819652Z",
     "shell.execute_reply": "2024-07-23T08:59:06.818418Z"
    },
    "papermill": {
     "duration": 0.056953,
     "end_time": "2024-07-23T08:59:06.821990",
     "exception": false,
     "start_time": "2024-07-23T08:59:06.765037",
     "status": "completed"
    },
    "tags": []
   },
   "outputs": [
    {
     "name": "stdout",
     "output_type": "stream",
     "text": [
      "[2 3 4 5]\n"
     ]
    }
   ],
   "source": [
    "#Slice elements from index 1 to index 5\n",
    "arr = np.array([1, 2, 3, 4, 5, 6, 7])\n",
    "print(arr[1:5])"
   ]
  },
  {
   "cell_type": "code",
   "execution_count": 31,
   "id": "03679282",
   "metadata": {
    "execution": {
     "iopub.execute_input": "2024-07-23T08:59:06.915838Z",
     "iopub.status.busy": "2024-07-23T08:59:06.915414Z",
     "iopub.status.idle": "2024-07-23T08:59:06.922270Z",
     "shell.execute_reply": "2024-07-23T08:59:06.920978Z"
    },
    "papermill": {
     "duration": 0.056539,
     "end_time": "2024-07-23T08:59:06.924670",
     "exception": false,
     "start_time": "2024-07-23T08:59:06.868131",
     "status": "completed"
    },
    "tags": []
   },
   "outputs": [
    {
     "name": "stdout",
     "output_type": "stream",
     "text": [
      "[5 6 7]\n"
     ]
    }
   ],
   "source": [
    "#Slice elements from index 4 to the end of the array\n",
    "arr = np.array([1, 2, 3, 4, 5, 6, 7])\n",
    "print(arr[4:])"
   ]
  },
  {
   "cell_type": "code",
   "execution_count": 32,
   "id": "66f0c76d",
   "metadata": {
    "execution": {
     "iopub.execute_input": "2024-07-23T08:59:07.018994Z",
     "iopub.status.busy": "2024-07-23T08:59:07.018631Z",
     "iopub.status.idle": "2024-07-23T08:59:07.025311Z",
     "shell.execute_reply": "2024-07-23T08:59:07.023811Z"
    },
    "papermill": {
     "duration": 0.05696,
     "end_time": "2024-07-23T08:59:07.027665",
     "exception": false,
     "start_time": "2024-07-23T08:59:06.970705",
     "status": "completed"
    },
    "tags": []
   },
   "outputs": [
    {
     "name": "stdout",
     "output_type": "stream",
     "text": [
      "[1 2 3 4]\n"
     ]
    }
   ],
   "source": [
    "#Slice elements from the beginning to index 4 (not included)\n",
    "arr = np.array([1, 2, 3, 4, 5, 6, 7])\n",
    "print(arr[:4])"
   ]
  },
  {
   "cell_type": "markdown",
   "id": "95bd3e36",
   "metadata": {
    "papermill": {
     "duration": 0.045305,
     "end_time": "2024-07-23T08:59:07.119181",
     "exception": false,
     "start_time": "2024-07-23T08:59:07.073876",
     "status": "completed"
    },
    "tags": []
   },
   "source": [
    "<div style=\"background-color:gainsboro; padding:8px; border:2px dotted black; border-radius:8px; font-family:verdana; line-height: 1.7em\">\n",
    "<strong>Negative Slicing</strong>\n",
    "<br>\n",
    "• Use the minus operator to refer to an index from the end.\n",
    "</div>"
   ]
  },
  {
   "cell_type": "code",
   "execution_count": 33,
   "id": "c099c767",
   "metadata": {
    "execution": {
     "iopub.execute_input": "2024-07-23T08:59:07.213342Z",
     "iopub.status.busy": "2024-07-23T08:59:07.212893Z",
     "iopub.status.idle": "2024-07-23T08:59:07.219688Z",
     "shell.execute_reply": "2024-07-23T08:59:07.218370Z"
    },
    "papermill": {
     "duration": 0.056375,
     "end_time": "2024-07-23T08:59:07.221887",
     "exception": false,
     "start_time": "2024-07-23T08:59:07.165512",
     "status": "completed"
    },
    "tags": []
   },
   "outputs": [
    {
     "name": "stdout",
     "output_type": "stream",
     "text": [
      "[5 6]\n"
     ]
    }
   ],
   "source": [
    "#Slice from the index 3 from the end to index 1 from the end\n",
    "arr = np.array([1, 2, 3, 4, 5, 6, 7])\n",
    "print(arr[-3:-1])"
   ]
  },
  {
   "cell_type": "markdown",
   "id": "55b83693",
   "metadata": {
    "papermill": {
     "duration": 0.046234,
     "end_time": "2024-07-23T08:59:07.316268",
     "exception": false,
     "start_time": "2024-07-23T08:59:07.270034",
     "status": "completed"
    },
    "tags": []
   },
   "source": [
    "<div style=\"background-color:gainsboro; padding:8px; border:2px dotted black; border-radius:8px; font-family:verdana; line-height: 1.7em\">\n",
    "<strong>Step</strong>\n",
    "<br>\n",
    "• Use the step value to determine the step of the slicing.\n",
    "</div>"
   ]
  },
  {
   "cell_type": "code",
   "execution_count": 34,
   "id": "774aa569",
   "metadata": {
    "execution": {
     "iopub.execute_input": "2024-07-23T08:59:07.410972Z",
     "iopub.status.busy": "2024-07-23T08:59:07.410552Z",
     "iopub.status.idle": "2024-07-23T08:59:07.417368Z",
     "shell.execute_reply": "2024-07-23T08:59:07.415939Z"
    },
    "papermill": {
     "duration": 0.05712,
     "end_time": "2024-07-23T08:59:07.420224",
     "exception": false,
     "start_time": "2024-07-23T08:59:07.363104",
     "status": "completed"
    },
    "tags": []
   },
   "outputs": [
    {
     "name": "stdout",
     "output_type": "stream",
     "text": [
      "[2 4]\n"
     ]
    }
   ],
   "source": [
    "#Return every other element from index 1 to index 5\n",
    "arr = np.array([1, 2, 3, 4, 5, 6, 7])\n",
    "print(arr[1:5:2])"
   ]
  },
  {
   "cell_type": "markdown",
   "id": "17934497",
   "metadata": {
    "papermill": {
     "duration": 0.049907,
     "end_time": "2024-07-23T08:59:07.519719",
     "exception": false,
     "start_time": "2024-07-23T08:59:07.469812",
     "status": "completed"
    },
    "tags": []
   },
   "source": [
    "<div style=\"background-color:gainsboro; padding:8px; border:2px dotted black; border-radius:8px; font-family:verdana; line-height: 1.7em\">\n",
    "<strong>Slicing 2-D Arrays</strong>\n",
    "</div>"
   ]
  },
  {
   "cell_type": "code",
   "execution_count": 35,
   "id": "b4b0f7a0",
   "metadata": {
    "execution": {
     "iopub.execute_input": "2024-07-23T08:59:07.621282Z",
     "iopub.status.busy": "2024-07-23T08:59:07.620852Z",
     "iopub.status.idle": "2024-07-23T08:59:07.627820Z",
     "shell.execute_reply": "2024-07-23T08:59:07.626532Z"
    },
    "papermill": {
     "duration": 0.061551,
     "end_time": "2024-07-23T08:59:07.630304",
     "exception": false,
     "start_time": "2024-07-23T08:59:07.568753",
     "status": "completed"
    },
    "tags": []
   },
   "outputs": [
    {
     "name": "stdout",
     "output_type": "stream",
     "text": [
      "[7 8 9]\n"
     ]
    }
   ],
   "source": [
    "#From the second element, slice elements from index 1 to index 4\n",
    "arr = np.array([[1, 2, 3, 4, 5], [6, 7, 8, 9, 10]])\n",
    "print(arr[1, 1:4])"
   ]
  },
  {
   "cell_type": "code",
   "execution_count": 36,
   "id": "e1cf4dda",
   "metadata": {
    "execution": {
     "iopub.execute_input": "2024-07-23T08:59:07.731650Z",
     "iopub.status.busy": "2024-07-23T08:59:07.731228Z",
     "iopub.status.idle": "2024-07-23T08:59:07.737737Z",
     "shell.execute_reply": "2024-07-23T08:59:07.736531Z"
    },
    "papermill": {
     "duration": 0.060775,
     "end_time": "2024-07-23T08:59:07.740551",
     "exception": false,
     "start_time": "2024-07-23T08:59:07.679776",
     "status": "completed"
    },
    "tags": []
   },
   "outputs": [
    {
     "name": "stdout",
     "output_type": "stream",
     "text": [
      "[3 8]\n"
     ]
    }
   ],
   "source": [
    "#From both elements, return index 2\n",
    "arr = np.array([[1, 2, 3, 4, 5], [6, 7, 8, 9, 10]])\n",
    "print(arr[0:2, 2])"
   ]
  },
  {
   "cell_type": "code",
   "execution_count": 37,
   "id": "79777a36",
   "metadata": {
    "execution": {
     "iopub.execute_input": "2024-07-23T08:59:07.840191Z",
     "iopub.status.busy": "2024-07-23T08:59:07.839764Z",
     "iopub.status.idle": "2024-07-23T08:59:07.846451Z",
     "shell.execute_reply": "2024-07-23T08:59:07.845342Z"
    },
    "papermill": {
     "duration": 0.058249,
     "end_time": "2024-07-23T08:59:07.848559",
     "exception": false,
     "start_time": "2024-07-23T08:59:07.790310",
     "status": "completed"
    },
    "tags": []
   },
   "outputs": [
    {
     "name": "stdout",
     "output_type": "stream",
     "text": [
      "[[2 3 4]\n",
      " [7 8 9]]\n"
     ]
    }
   ],
   "source": [
    "#From both elements, slice index 1 to index 4 (not included), this will return a 2-D array:\n",
    "arr = np.array([[1, 2, 3, 4, 5], [6, 7, 8, 9, 10]])\n",
    "print(arr[0:2, 1:4])"
   ]
  },
  {
   "cell_type": "markdown",
   "id": "c33c3c76",
   "metadata": {
    "papermill": {
     "duration": 0.046124,
     "end_time": "2024-07-23T08:59:07.941796",
     "exception": false,
     "start_time": "2024-07-23T08:59:07.895672",
     "status": "completed"
    },
    "tags": []
   },
   "source": [
    "<div style=\"background-color:gainsboro; padding:8px; border:2px dotted black; border-radius:8px; font-family:verdana; line-height: 1.7em\">\n",
    "<font color='#6a66bd' size=\"5px\">Data Types in NumPy</font>\n",
    "<br>\n",
    "<br>\n",
    "• NumPy has some extra data types and refer to data types with one character like i for integers, u for unsigned integers etc.\n",
    "<br>\n",
    "• Below is a list of all data types in NumPy and the characters used to represent them.\n",
    "<br>\n",
    "<strong>i</strong> - integer\n",
    "<br>\n",
    "<strong>b</strong> - boolean\n",
    "<br>\n",
    "<strong>u</strong> - unsigned integer\n",
    "<br>\n",
    "<strong>f</strong> - float\n",
    "<br>\n",
    "<strong>c</strong> - complex float\n",
    "<br>\n",
    "<strong>m</strong> - timedelta\n",
    "<br>\n",
    "<strong>M</strong> - datetime\n",
    "<br>\n",
    "<strong>O</strong> - object\n",
    "<br>\n",
    "<strong>S</strong> - string\n",
    "<br>\n",
    "<strong>U</strong> - unicode string\n",
    "<br>\n",
    "<strong>V</strong> - fixed chunk of memory for other type (void)\n",
    "<br>\n",
    "<br>\n",
    "<strong>Checking the Data Type of an Array</strong>\n",
    "<br>\n",
    "• The NumPy array object has a property called dtype that returns the data type of the array.\n",
    "</div>"
   ]
  },
  {
   "cell_type": "code",
   "execution_count": 38,
   "id": "9f413345",
   "metadata": {
    "execution": {
     "iopub.execute_input": "2024-07-23T08:59:08.038498Z",
     "iopub.status.busy": "2024-07-23T08:59:08.038051Z",
     "iopub.status.idle": "2024-07-23T08:59:08.043943Z",
     "shell.execute_reply": "2024-07-23T08:59:08.042553Z"
    },
    "papermill": {
     "duration": 0.057681,
     "end_time": "2024-07-23T08:59:08.046360",
     "exception": false,
     "start_time": "2024-07-23T08:59:07.988679",
     "status": "completed"
    },
    "tags": []
   },
   "outputs": [
    {
     "name": "stdout",
     "output_type": "stream",
     "text": [
      "int64\n"
     ]
    }
   ],
   "source": [
    "arr = np.array([1, 2, 3, 4])\n",
    "print(arr.dtype)"
   ]
  },
  {
   "cell_type": "markdown",
   "id": "33a4778e",
   "metadata": {
    "papermill": {
     "duration": 0.046266,
     "end_time": "2024-07-23T08:59:08.139572",
     "exception": false,
     "start_time": "2024-07-23T08:59:08.093306",
     "status": "completed"
    },
    "tags": []
   },
   "source": [
    "<div style=\"background-color:gainsboro; padding:8px; border:2px dotted black; border-radius:8px; font-family:verdana; line-height: 1.7em\">\n",
    "<strong>Creating Arrays With a Defined Data Type</strong>\n",
    "<br>\n",
    "• We use the array() function to create arrays, this function can take an optional argument : dtype that allows us to define the expected data type of the array elements.\n",
    "</div>"
   ]
  },
  {
   "cell_type": "code",
   "execution_count": 39,
   "id": "7f12a6f2",
   "metadata": {
    "execution": {
     "iopub.execute_input": "2024-07-23T08:59:08.235020Z",
     "iopub.status.busy": "2024-07-23T08:59:08.233949Z",
     "iopub.status.idle": "2024-07-23T08:59:08.240680Z",
     "shell.execute_reply": "2024-07-23T08:59:08.239462Z"
    },
    "papermill": {
     "duration": 0.05684,
     "end_time": "2024-07-23T08:59:08.242926",
     "exception": false,
     "start_time": "2024-07-23T08:59:08.186086",
     "status": "completed"
    },
    "tags": []
   },
   "outputs": [
    {
     "name": "stdout",
     "output_type": "stream",
     "text": [
      "[b'1' b'2' b'3' b'4']\n",
      "|S1\n"
     ]
    }
   ],
   "source": [
    "arr = np.array([1, 2, 3, 4], dtype='S')\n",
    "print(arr)\n",
    "print(arr.dtype)"
   ]
  },
  {
   "cell_type": "markdown",
   "id": "f6106e77",
   "metadata": {
    "papermill": {
     "duration": 0.046357,
     "end_time": "2024-07-23T08:59:08.336583",
     "exception": false,
     "start_time": "2024-07-23T08:59:08.290226",
     "status": "completed"
    },
    "tags": []
   },
   "source": [
    "<div style=\"background-color:gainsboro; padding:8px; border:2px dotted black; border-radius:8px; font-family:verdana; line-height: 1.7em\">\n",
    "• For i, u, f, S and U we can define size for the datatype also.\n",
    "</div>"
   ]
  },
  {
   "cell_type": "code",
   "execution_count": 40,
   "id": "8d887e10",
   "metadata": {
    "execution": {
     "iopub.execute_input": "2024-07-23T08:59:08.431760Z",
     "iopub.status.busy": "2024-07-23T08:59:08.431331Z",
     "iopub.status.idle": "2024-07-23T08:59:08.437975Z",
     "shell.execute_reply": "2024-07-23T08:59:08.436740Z"
    },
    "papermill": {
     "duration": 0.057287,
     "end_time": "2024-07-23T08:59:08.440692",
     "exception": false,
     "start_time": "2024-07-23T08:59:08.383405",
     "status": "completed"
    },
    "tags": []
   },
   "outputs": [
    {
     "name": "stdout",
     "output_type": "stream",
     "text": [
      "[1 2 3 4]\n",
      "int32\n"
     ]
    }
   ],
   "source": [
    "arr = np.array([1, 2, 3, 4], dtype='i4')\n",
    "print(arr)\n",
    "print(arr.dtype)"
   ]
  },
  {
   "cell_type": "markdown",
   "id": "c6e3d6d1",
   "metadata": {
    "papermill": {
     "duration": 0.048493,
     "end_time": "2024-07-23T08:59:08.539557",
     "exception": false,
     "start_time": "2024-07-23T08:59:08.491064",
     "status": "completed"
    },
    "tags": []
   },
   "source": [
    "<div style=\"background-color:gainsboro; padding:8px; border:2px dotted black; border-radius:8px; font-family:verdana; line-height: 1.7em\">\n",
    "<strong>Converting Data Type on Existing Arrays</strong>\n",
    "<br>\n",
    "• The best way to change the data type of an existing array, is to make a copy of the array with the astype() method.\n",
    "<br>\n",
    "• The astype() function creates a copy of the array and allows you to specify the data type as a parameter.\n",
    "<br>\n",
    "• The data type can be specified using a string, like 'f' for float, 'i' for integer etc. \n",
    "<br>\n",
    "• Or you can use the data type directly like float for float and int for integer.\n",
    "</div>"
   ]
  },
  {
   "cell_type": "code",
   "execution_count": 41,
   "id": "83ed07fd",
   "metadata": {
    "execution": {
     "iopub.execute_input": "2024-07-23T08:59:08.640310Z",
     "iopub.status.busy": "2024-07-23T08:59:08.639926Z",
     "iopub.status.idle": "2024-07-23T08:59:08.647254Z",
     "shell.execute_reply": "2024-07-23T08:59:08.645789Z"
    },
    "papermill": {
     "duration": 0.060801,
     "end_time": "2024-07-23T08:59:08.649771",
     "exception": false,
     "start_time": "2024-07-23T08:59:08.588970",
     "status": "completed"
    },
    "tags": []
   },
   "outputs": [
    {
     "name": "stdout",
     "output_type": "stream",
     "text": [
      "[1 2 3]\n",
      "int32\n"
     ]
    }
   ],
   "source": [
    "arr = np.array([1.1, 2.1, 3.1])\n",
    "newarr = arr.astype('i')\n",
    "print(newarr)\n",
    "print(newarr.dtype)"
   ]
  },
  {
   "cell_type": "markdown",
   "id": "84389368",
   "metadata": {
    "papermill": {
     "duration": 0.046378,
     "end_time": "2024-07-23T08:59:08.743658",
     "exception": false,
     "start_time": "2024-07-23T08:59:08.697280",
     "status": "completed"
    },
    "tags": []
   },
   "source": [
    "<div style=\"background-color:gainsboro; padding:8px; border:2px dotted black; border-radius:8px; font-family:verdana; line-height: 1.7em\">\n",
    "<font color='#6a66bd' size=\"5px\">NumPy Array Copy vs View</font>\n",
    "<br>\n",
    "<br>\n",
    "<strong>Difference Between Copy and View</strong>\n",
    "<br>\n",
    "• The main difference between a copy and a view of an array is that the copy is a new array and the view is just a view of the original array.\n",
    "<br>\n",
    "• The copy owns the data and any changes made to the copy will not affect original array and any changes made to the original array will not affect the copy.\n",
    "<br>\n",
    "• The view does not own the data and any changes made to the view will affect the original array and any changes made to the original array will affect the view.\n",
    "\n",
    "\n",
    "\n",
    "\n",
    "\n",
    "\n",
    "\n",
    "\n",
    "\n",
    "\n",
    "\n",
    "</div>"
   ]
  },
  {
   "cell_type": "code",
   "execution_count": 42,
   "id": "e5500427",
   "metadata": {
    "execution": {
     "iopub.execute_input": "2024-07-23T08:59:08.840231Z",
     "iopub.status.busy": "2024-07-23T08:59:08.839794Z",
     "iopub.status.idle": "2024-07-23T08:59:08.846509Z",
     "shell.execute_reply": "2024-07-23T08:59:08.845524Z"
    },
    "papermill": {
     "duration": 0.057557,
     "end_time": "2024-07-23T08:59:08.848804",
     "exception": false,
     "start_time": "2024-07-23T08:59:08.791247",
     "status": "completed"
    },
    "tags": []
   },
   "outputs": [
    {
     "name": "stdout",
     "output_type": "stream",
     "text": [
      "[42  2  3  4  5]\n",
      "[1 2 3 4 5]\n"
     ]
    }
   ],
   "source": [
    "#Make a copy, change the original array and display both arrays\n",
    "arr = np.array([1, 2, 3, 4, 5])\n",
    "x = arr.copy()\n",
    "arr[0] = 42\n",
    "print(arr)\n",
    "print(x)"
   ]
  },
  {
   "cell_type": "code",
   "execution_count": 43,
   "id": "733f671c",
   "metadata": {
    "execution": {
     "iopub.execute_input": "2024-07-23T08:59:08.950335Z",
     "iopub.status.busy": "2024-07-23T08:59:08.949272Z",
     "iopub.status.idle": "2024-07-23T08:59:08.956404Z",
     "shell.execute_reply": "2024-07-23T08:59:08.955298Z"
    },
    "papermill": {
     "duration": 0.060875,
     "end_time": "2024-07-23T08:59:08.958739",
     "exception": false,
     "start_time": "2024-07-23T08:59:08.897864",
     "status": "completed"
    },
    "tags": []
   },
   "outputs": [
    {
     "name": "stdout",
     "output_type": "stream",
     "text": [
      "[42  2  3  4  5]\n",
      "[42  2  3  4  5]\n"
     ]
    }
   ],
   "source": [
    "#Make a view, change the original array and display both arrays\n",
    "arr = np.array([1, 2, 3, 4, 5])\n",
    "x = arr.view()\n",
    "arr[0] = 42\n",
    "print(arr)\n",
    "print(x)"
   ]
  },
  {
   "cell_type": "markdown",
   "id": "08e0427b",
   "metadata": {
    "papermill": {
     "duration": 0.050455,
     "end_time": "2024-07-23T08:59:09.060649",
     "exception": false,
     "start_time": "2024-07-23T08:59:09.010194",
     "status": "completed"
    },
    "tags": []
   },
   "source": [
    "<div style=\"background-color:gainsboro; padding:8px; border:2px dotted black; border-radius:8px; font-family:verdana; line-height: 1.7em\">\n",
    "<strong>Check if Array Owns its Data</strong>\n",
    "<br>\n",
    "• Copies owns the data and views does not own the data, but how can we check this?\n",
    "<br>\n",
    "• Every NumPy array has the attribute base that returns None if the array owns the data.\n",
    "<br>\n",
    "• Otherwise, the base attribute refers to the original object.\n",
    "<div style=\"background-color:#ADD8E6; padding:8px; border:1px solid #87CEEB; border-radius:4px;\">\n",
    "<strong>Note :</strong> The copy returns None.\n",
    "</div>\n",
    "<div style=\"background-color:#ADD8E6; padding:8px; border:1px solid #87CEEB; border-radius:4px;\">\n",
    "<strong>Note :</strong> The view returns the original array.\n",
    "</div>\n",
    "</div>"
   ]
  },
  {
   "cell_type": "code",
   "execution_count": 44,
   "id": "d55b58cb",
   "metadata": {
    "execution": {
     "iopub.execute_input": "2024-07-23T08:59:09.160177Z",
     "iopub.status.busy": "2024-07-23T08:59:09.159756Z",
     "iopub.status.idle": "2024-07-23T08:59:09.166269Z",
     "shell.execute_reply": "2024-07-23T08:59:09.165339Z"
    },
    "papermill": {
     "duration": 0.058802,
     "end_time": "2024-07-23T08:59:09.168398",
     "exception": false,
     "start_time": "2024-07-23T08:59:09.109596",
     "status": "completed"
    },
    "tags": []
   },
   "outputs": [
    {
     "name": "stdout",
     "output_type": "stream",
     "text": [
      "None\n",
      "[1 2 3 4 5]\n"
     ]
    }
   ],
   "source": [
    "arr = np.array([1, 2, 3, 4, 5])\n",
    "\n",
    "x = arr.copy()\n",
    "y = arr.view()\n",
    "\n",
    "print(x.base)\n",
    "print(y.base)"
   ]
  },
  {
   "cell_type": "markdown",
   "id": "86518ef0",
   "metadata": {
    "papermill": {
     "duration": 0.050735,
     "end_time": "2024-07-23T08:59:09.268365",
     "exception": false,
     "start_time": "2024-07-23T08:59:09.217630",
     "status": "completed"
    },
    "tags": []
   },
   "source": [
    "<div style=\"background-color:gainsboro; padding:8px; border:2px dotted black; border-radius:8px; font-family:verdana; line-height: 1.7em\">\n",
    "<font color='#6a66bd' size=\"5px\">NumPy Array Size</font>\n",
    "<br>\n",
    "<br>\n",
    "• To find the total number of elements in the array, use the size function of NumPy.\n",
    "</div>"
   ]
  },
  {
   "cell_type": "code",
   "execution_count": 45,
   "id": "2a0c986a",
   "metadata": {
    "execution": {
     "iopub.execute_input": "2024-07-23T08:59:09.371498Z",
     "iopub.status.busy": "2024-07-23T08:59:09.371081Z",
     "iopub.status.idle": "2024-07-23T08:59:09.378502Z",
     "shell.execute_reply": "2024-07-23T08:59:09.377026Z"
    },
    "papermill": {
     "duration": 0.064125,
     "end_time": "2024-07-23T08:59:09.381374",
     "exception": false,
     "start_time": "2024-07-23T08:59:09.317249",
     "status": "completed"
    },
    "tags": []
   },
   "outputs": [
    {
     "name": "stdout",
     "output_type": "stream",
     "text": [
      "[[1 2 3 4]\n",
      " [5 6 7 8]]\n",
      "8\n"
     ]
    }
   ],
   "source": [
    "arr = np.array([[1, 2, 3, 4], [5, 6, 7, 8]])\n",
    "print(arr)\n",
    "print(arr.size)"
   ]
  },
  {
   "cell_type": "markdown",
   "id": "510a2194",
   "metadata": {
    "papermill": {
     "duration": 0.046611,
     "end_time": "2024-07-23T08:59:09.480046",
     "exception": false,
     "start_time": "2024-07-23T08:59:09.433435",
     "status": "completed"
    },
    "tags": []
   },
   "source": [
    "<div style=\"background-color:gainsboro; padding:8px; border:2px dotted black; border-radius:8px; font-family:verdana; line-height: 1.7em\">\n",
    "<font color='#6a66bd' size=\"5px\">NumPy Array Shape</font>\n",
    "<br>\n",
    "<br>\n",
    "<br>\n",
    "<strong>Shape of an Array</strong>\n",
    "<br>\n",
    "• The shape of an array is the number of elements in each dimension.\n",
    "<br>\n",
    "<br>\n",
    "<strong>Get the Shape of an Array</strong>\n",
    "<br>\n",
    "• NumPy arrays have an attribute called shape that returns a tuple with each index having the number of corresponding elements.\n",
    "</div>"
   ]
  },
  {
   "cell_type": "code",
   "execution_count": 46,
   "id": "ac5c09de",
   "metadata": {
    "execution": {
     "iopub.execute_input": "2024-07-23T08:59:09.575865Z",
     "iopub.status.busy": "2024-07-23T08:59:09.575508Z",
     "iopub.status.idle": "2024-07-23T08:59:09.581575Z",
     "shell.execute_reply": "2024-07-23T08:59:09.580584Z"
    },
    "papermill": {
     "duration": 0.056731,
     "end_time": "2024-07-23T08:59:09.583997",
     "exception": false,
     "start_time": "2024-07-23T08:59:09.527266",
     "status": "completed"
    },
    "tags": []
   },
   "outputs": [
    {
     "name": "stdout",
     "output_type": "stream",
     "text": [
      "[[1 2 3 4]\n",
      " [5 6 7 8]]\n",
      "(2, 4)\n"
     ]
    }
   ],
   "source": [
    "arr = np.array([[1, 2, 3, 4], [5, 6, 7, 8]])\n",
    "print(arr)\n",
    "print(arr.shape)"
   ]
  },
  {
   "cell_type": "markdown",
   "id": "f9642ecd",
   "metadata": {
    "papermill": {
     "duration": 0.050328,
     "end_time": "2024-07-23T08:59:09.685380",
     "exception": false,
     "start_time": "2024-07-23T08:59:09.635052",
     "status": "completed"
    },
    "tags": []
   },
   "source": [
    "<div style=\"background-color:gainsboro; padding:8px; border:2px dotted black; border-radius:8px; font-family:verdana; line-height: 1.7em\">\n",
    "<font color='#6a66bd' size=\"5px\">NumPy Reshaping Array</font>\n",
    "<br>\n",
    "<br>\n",
    "<strong>Reshaping Arrays</strong>\n",
    "<br>\n",
    "• Reshaping means changing the shape of an array.\n",
    "<br>\n",
    "• The shape of an array is the number of elements in each dimension.\n",
    "<br>\n",
    "• By reshaping we can add or remove dimensions or change number of elements in each dimension.\n",
    "</div>"
   ]
  },
  {
   "cell_type": "code",
   "execution_count": 47,
   "id": "7b709682",
   "metadata": {
    "execution": {
     "iopub.execute_input": "2024-07-23T08:59:09.788849Z",
     "iopub.status.busy": "2024-07-23T08:59:09.788488Z",
     "iopub.status.idle": "2024-07-23T08:59:09.795092Z",
     "shell.execute_reply": "2024-07-23T08:59:09.793799Z"
    },
    "papermill": {
     "duration": 0.060555,
     "end_time": "2024-07-23T08:59:09.797511",
     "exception": false,
     "start_time": "2024-07-23T08:59:09.736956",
     "status": "completed"
    },
    "tags": []
   },
   "outputs": [
    {
     "name": "stdout",
     "output_type": "stream",
     "text": [
      "[[ 1  2  3]\n",
      " [ 4  5  6]\n",
      " [ 7  8  9]\n",
      " [10 11 12]]\n"
     ]
    }
   ],
   "source": [
    "#Reshape From 1-D to 2-D\n",
    "arr = np.array([1, 2, 3, 4, 5, 6, 7, 8, 9, 10, 11, 12])\n",
    "newarr = arr.reshape(4, 3)\n",
    "print(newarr)"
   ]
  },
  {
   "cell_type": "code",
   "execution_count": 48,
   "id": "9bf47435",
   "metadata": {
    "execution": {
     "iopub.execute_input": "2024-07-23T08:59:09.895246Z",
     "iopub.status.busy": "2024-07-23T08:59:09.894806Z",
     "iopub.status.idle": "2024-07-23T08:59:09.901649Z",
     "shell.execute_reply": "2024-07-23T08:59:09.900351Z"
    },
    "papermill": {
     "duration": 0.058309,
     "end_time": "2024-07-23T08:59:09.904399",
     "exception": false,
     "start_time": "2024-07-23T08:59:09.846090",
     "status": "completed"
    },
    "tags": []
   },
   "outputs": [
    {
     "name": "stdout",
     "output_type": "stream",
     "text": [
      "[[[ 1  2]\n",
      "  [ 3  4]\n",
      "  [ 5  6]]\n",
      "\n",
      " [[ 7  8]\n",
      "  [ 9 10]\n",
      "  [11 12]]]\n"
     ]
    }
   ],
   "source": [
    "#Reshape From 1-D to 3-D\n",
    "arr = np.array([1, 2, 3, 4, 5, 6, 7, 8, 9, 10, 11, 12])\n",
    "newarr = arr.reshape(2, 3, 2)\n",
    "print(newarr)"
   ]
  },
  {
   "cell_type": "markdown",
   "id": "e1abc631",
   "metadata": {
    "papermill": {
     "duration": 0.050709,
     "end_time": "2024-07-23T08:59:10.006075",
     "exception": false,
     "start_time": "2024-07-23T08:59:09.955366",
     "status": "completed"
    },
    "tags": []
   },
   "source": [
    "<div style=\"background-color:gainsboro; padding:8px; border:2px dotted black; border-radius:8px; font-family:verdana; line-height: 1.7em\">\n",
    "<strong>Can We Reshape Into any Shape?</strong>\n",
    "<br>\n",
    "• Yes, as long as the elements required for reshaping are equal in both shapes.\n",
    "<br>\n",
    "• We can reshape an 8 elements 1D array into 4 elements in 2 rows 2D array but we cannot reshape it into a 3 elements 3 rows 2D array as that would require 3x3 = 9 elements.\n",
    "</div>"
   ]
  },
  {
   "cell_type": "code",
   "execution_count": 49,
   "id": "3b78caa3",
   "metadata": {
    "execution": {
     "iopub.execute_input": "2024-07-23T08:59:10.110473Z",
     "iopub.status.busy": "2024-07-23T08:59:10.109121Z",
     "iopub.status.idle": "2024-07-23T08:59:10.116361Z",
     "shell.execute_reply": "2024-07-23T08:59:10.114807Z"
    },
    "papermill": {
     "duration": 0.061435,
     "end_time": "2024-07-23T08:59:10.118598",
     "exception": false,
     "start_time": "2024-07-23T08:59:10.057163",
     "status": "completed"
    },
    "tags": []
   },
   "outputs": [
    {
     "name": "stdout",
     "output_type": "stream",
     "text": [
      "[[1 2]\n",
      " [3 4]\n",
      " [5 6]\n",
      " [7 8]]\n"
     ]
    }
   ],
   "source": [
    "arr = np.array([1, 2, 3, 4, 5, 6, 7, 8])\n",
    "newarr = arr.reshape(4, 2)\n",
    "print(newarr)"
   ]
  },
  {
   "cell_type": "markdown",
   "id": "31620e5a",
   "metadata": {
    "papermill": {
     "duration": 0.048314,
     "end_time": "2024-07-23T08:59:10.215314",
     "exception": false,
     "start_time": "2024-07-23T08:59:10.167000",
     "status": "completed"
    },
    "tags": []
   },
   "source": [
    "<div style=\"background-color:gainsboro; padding:8px; border:2px dotted black; border-radius:8px; font-family:verdana; line-height: 1.7em\">\n",
    "<strong>Returns Copy or View?</strong>\n",
    "<br>\n",
    "• Check if the returned array in reshape is a copy or a view.\n",
    "</div>"
   ]
  },
  {
   "cell_type": "code",
   "execution_count": 50,
   "id": "8bb38422",
   "metadata": {
    "execution": {
     "iopub.execute_input": "2024-07-23T08:59:10.315219Z",
     "iopub.status.busy": "2024-07-23T08:59:10.314803Z",
     "iopub.status.idle": "2024-07-23T08:59:10.321474Z",
     "shell.execute_reply": "2024-07-23T08:59:10.320341Z"
    },
    "papermill": {
     "duration": 0.058289,
     "end_time": "2024-07-23T08:59:10.323929",
     "exception": false,
     "start_time": "2024-07-23T08:59:10.265640",
     "status": "completed"
    },
    "tags": []
   },
   "outputs": [
    {
     "name": "stdout",
     "output_type": "stream",
     "text": [
      "[1 2 3 4 5 6 7 8]\n"
     ]
    }
   ],
   "source": [
    "arr = np.array([1, 2, 3, 4, 5, 6, 7, 8])\n",
    "print(arr.reshape(2, 4).base) #It is a view as it returns original array"
   ]
  },
  {
   "cell_type": "markdown",
   "id": "92768b62",
   "metadata": {
    "papermill": {
     "duration": 0.051408,
     "end_time": "2024-07-23T08:59:10.426037",
     "exception": false,
     "start_time": "2024-07-23T08:59:10.374629",
     "status": "completed"
    },
    "tags": []
   },
   "source": [
    "<div style=\"background-color:gainsboro; padding:8px; border:2px dotted black; border-radius:8px; font-family:verdana; line-height: 1.7em\">\n",
    "<strong>Unknown Dimension</strong>\n",
    "<br>\n",
    "• You are allowed to have one \"unknown\" dimension.\n",
    "<br>\n",
    "• Meaning that you do not have to specify an exact number for one of the dimensions in the reshape method.\n",
    "<br>\n",
    "• Pass -1 as the value and NumPy will calculate this number for you.\n",
    "</div>"
   ]
  },
  {
   "cell_type": "code",
   "execution_count": 51,
   "id": "a7ff9502",
   "metadata": {
    "execution": {
     "iopub.execute_input": "2024-07-23T08:59:10.526809Z",
     "iopub.status.busy": "2024-07-23T08:59:10.526354Z",
     "iopub.status.idle": "2024-07-23T08:59:10.533572Z",
     "shell.execute_reply": "2024-07-23T08:59:10.532138Z"
    },
    "papermill": {
     "duration": 0.059591,
     "end_time": "2024-07-23T08:59:10.536213",
     "exception": false,
     "start_time": "2024-07-23T08:59:10.476622",
     "status": "completed"
    },
    "tags": []
   },
   "outputs": [
    {
     "name": "stdout",
     "output_type": "stream",
     "text": [
      "[[[1 2]\n",
      "  [3 4]]\n",
      "\n",
      " [[5 6]\n",
      "  [7 8]]]\n"
     ]
    }
   ],
   "source": [
    "arr = np.array([1, 2, 3, 4, 5, 6, 7, 8])\n",
    "newarr = arr.reshape(2, 2, -1)\n",
    "print(newarr)"
   ]
  },
  {
   "cell_type": "markdown",
   "id": "b9ec13f1",
   "metadata": {
    "papermill": {
     "duration": 0.050342,
     "end_time": "2024-07-23T08:59:10.636320",
     "exception": false,
     "start_time": "2024-07-23T08:59:10.585978",
     "status": "completed"
    },
    "tags": []
   },
   "source": [
    "<div style=\"background-color:gainsboro; padding:8px; border:2px dotted black; border-radius:8px; font-family:verdana; line-height: 1.7em\">\n",
    "<font color='#6a66bd' size=\"5px\">NumPy Flattening Arrays</font>\n",
    "<br>\n",
    "<br>\n",
    "• Flattening array means converting a multidimensional array into a 1D array.\n",
    "<br>\n",
    "• We can use reshape(-1) to do this.\n",
    "</div>"
   ]
  },
  {
   "cell_type": "code",
   "execution_count": 52,
   "id": "4cb23f99",
   "metadata": {
    "execution": {
     "iopub.execute_input": "2024-07-23T08:59:10.740559Z",
     "iopub.status.busy": "2024-07-23T08:59:10.740120Z",
     "iopub.status.idle": "2024-07-23T08:59:10.746810Z",
     "shell.execute_reply": "2024-07-23T08:59:10.745474Z"
    },
    "papermill": {
     "duration": 0.062517,
     "end_time": "2024-07-23T08:59:10.749573",
     "exception": false,
     "start_time": "2024-07-23T08:59:10.687056",
     "status": "completed"
    },
    "tags": []
   },
   "outputs": [
    {
     "name": "stdout",
     "output_type": "stream",
     "text": [
      "[1 2 3 4 5 6]\n"
     ]
    }
   ],
   "source": [
    "arr = np.array([[1, 2, 3], [4, 5, 6]])\n",
    "newarr = arr.reshape(-1)\n",
    "print(newarr)"
   ]
  },
  {
   "cell_type": "markdown",
   "id": "66493fd3",
   "metadata": {
    "papermill": {
     "duration": 0.050357,
     "end_time": "2024-07-23T08:59:10.852428",
     "exception": false,
     "start_time": "2024-07-23T08:59:10.802071",
     "status": "completed"
    },
    "tags": []
   },
   "source": [
    "<div style=\"background-color:gainsboro; padding:8px; border:2px dotted black; border-radius:8px; font-family:verdana; line-height: 1.7em\">\n",
    "• arr.ravel() can also be used to flatten an array.\n",
    "</div>"
   ]
  },
  {
   "cell_type": "code",
   "execution_count": 53,
   "id": "b5e7b434",
   "metadata": {
    "execution": {
     "iopub.execute_input": "2024-07-23T08:59:10.956600Z",
     "iopub.status.busy": "2024-07-23T08:59:10.955575Z",
     "iopub.status.idle": "2024-07-23T08:59:10.962342Z",
     "shell.execute_reply": "2024-07-23T08:59:10.960838Z"
    },
    "papermill": {
     "duration": 0.061912,
     "end_time": "2024-07-23T08:59:10.964864",
     "exception": false,
     "start_time": "2024-07-23T08:59:10.902952",
     "status": "completed"
    },
    "tags": []
   },
   "outputs": [
    {
     "name": "stdout",
     "output_type": "stream",
     "text": [
      "[1 2 3 4 5 6 7 8 9]\n"
     ]
    }
   ],
   "source": [
    "arr = np.array([[1,2,3],[4,5,6],[7,8,9]])\n",
    "newarr = arr.ravel()\n",
    "print(newarr)"
   ]
  },
  {
   "cell_type": "markdown",
   "id": "186721a5",
   "metadata": {
    "papermill": {
     "duration": 0.050325,
     "end_time": "2024-07-23T08:59:11.066506",
     "exception": false,
     "start_time": "2024-07-23T08:59:11.016181",
     "status": "completed"
    },
    "tags": []
   },
   "source": [
    "<div style=\"background-color:gainsboro; padding:8px; border:2px dotted black; border-radius:8px; font-family:verdana; line-height: 1.7em\">\n",
    "• You can use flatten() to flatten your array into a 1D array.\n",
    "</div>"
   ]
  },
  {
   "cell_type": "code",
   "execution_count": 54,
   "id": "38a46760",
   "metadata": {
    "execution": {
     "iopub.execute_input": "2024-07-23T08:59:11.175405Z",
     "iopub.status.busy": "2024-07-23T08:59:11.174981Z",
     "iopub.status.idle": "2024-07-23T08:59:11.181891Z",
     "shell.execute_reply": "2024-07-23T08:59:11.180558Z"
    },
    "papermill": {
     "duration": 0.064257,
     "end_time": "2024-07-23T08:59:11.184421",
     "exception": false,
     "start_time": "2024-07-23T08:59:11.120164",
     "status": "completed"
    },
    "tags": []
   },
   "outputs": [
    {
     "name": "stdout",
     "output_type": "stream",
     "text": [
      "[1 2 3 4 5 6 7 8 9]\n"
     ]
    }
   ],
   "source": [
    "arr = np.array([[1,2,3],[4,5,6],[7,8,9]])\n",
    "newarr = arr.flatten()\n",
    "print(newarr)"
   ]
  },
  {
   "cell_type": "markdown",
   "id": "59b7e550",
   "metadata": {
    "papermill": {
     "duration": 0.052159,
     "end_time": "2024-07-23T08:59:11.287338",
     "exception": false,
     "start_time": "2024-07-23T08:59:11.235179",
     "status": "completed"
    },
    "tags": []
   },
   "source": [
    "<div style=\"background-color:gainsboro; padding:8px; border:2px dotted black; border-radius:8px; font-family:verdana; line-height: 1.7em\">\n",
    "<font color='#6a66bd' size=\"5px\">Reversing an Array</font>\n",
    "<br>\n",
    "<br>\n",
    "• np.flip() function allows you to flip or reverse the contents of an array along an axis. \n",
    "<br>\n",
    "• When using np.flip(), specify the array you would like to reverse and the axis. \n",
    "<br>\n",
    "• If you don’t specify the axis, NumPy will reverse the contents along all of the axes of your input array.\n",
    "</div>"
   ]
  },
  {
   "cell_type": "code",
   "execution_count": 55,
   "id": "b186d122",
   "metadata": {
    "execution": {
     "iopub.execute_input": "2024-07-23T08:59:11.394625Z",
     "iopub.status.busy": "2024-07-23T08:59:11.394205Z",
     "iopub.status.idle": "2024-07-23T08:59:11.400951Z",
     "shell.execute_reply": "2024-07-23T08:59:11.399669Z"
    },
    "papermill": {
     "duration": 0.06385,
     "end_time": "2024-07-23T08:59:11.403978",
     "exception": false,
     "start_time": "2024-07-23T08:59:11.340128",
     "status": "completed"
    },
    "tags": []
   },
   "outputs": [
    {
     "name": "stdout",
     "output_type": "stream",
     "text": [
      "[1 2 3 4 5 6 7 8]\n",
      "[8 7 6 5 4 3 2 1]\n"
     ]
    }
   ],
   "source": [
    "#Reversing an 1D Array\n",
    "arr = np.array([1, 2, 3, 4, 5, 6, 7, 8])\n",
    "newarr = np.flip(arr)\n",
    "\n",
    "print(arr)\n",
    "\n",
    "print(newarr)"
   ]
  },
  {
   "cell_type": "code",
   "execution_count": 56,
   "id": "58c6fcbf",
   "metadata": {
    "execution": {
     "iopub.execute_input": "2024-07-23T08:59:11.514178Z",
     "iopub.status.busy": "2024-07-23T08:59:11.512907Z",
     "iopub.status.idle": "2024-07-23T08:59:11.520809Z",
     "shell.execute_reply": "2024-07-23T08:59:11.519441Z"
    },
    "papermill": {
     "duration": 0.065652,
     "end_time": "2024-07-23T08:59:11.523255",
     "exception": false,
     "start_time": "2024-07-23T08:59:11.457603",
     "status": "completed"
    },
    "tags": []
   },
   "outputs": [
    {
     "name": "stdout",
     "output_type": "stream",
     "text": [
      "[[1 2 3]\n",
      " [4 5 6]\n",
      " [7 8 9]]\n",
      "[[9 8 7]\n",
      " [6 5 4]\n",
      " [3 2 1]]\n"
     ]
    }
   ],
   "source": [
    "#Reversing an 2D Array\n",
    "arr = np.array([[1,2,3],[4,5,6],[7,8,9]])\n",
    "newarr = np.flip(arr)\n",
    "\n",
    "print(arr)\n",
    "\n",
    "print(newarr)"
   ]
  },
  {
   "cell_type": "markdown",
   "id": "11fa48da",
   "metadata": {
    "papermill": {
     "duration": 0.047651,
     "end_time": "2024-07-23T08:59:11.618969",
     "exception": false,
     "start_time": "2024-07-23T08:59:11.571318",
     "status": "completed"
    },
    "tags": []
   },
   "source": [
    "<div style=\"background-color:gainsboro; padding:8px; border:2px dotted black; border-radius:8px; font-family:verdana; line-height: 1.7em\">\n",
    "<font color='#6a66bd' size=\"5px\">NumPy Unique Elements</font>\n",
    "<br>\n",
    "<br>\n",
    "• You can find the unique elements in an array easily with np.unique.\n",
    "</div>"
   ]
  },
  {
   "cell_type": "code",
   "execution_count": 57,
   "id": "2cc869fc",
   "metadata": {
    "execution": {
     "iopub.execute_input": "2024-07-23T08:59:11.718060Z",
     "iopub.status.busy": "2024-07-23T08:59:11.717047Z",
     "iopub.status.idle": "2024-07-23T08:59:11.724818Z",
     "shell.execute_reply": "2024-07-23T08:59:11.723369Z"
    },
    "papermill": {
     "duration": 0.0601,
     "end_time": "2024-07-23T08:59:11.727634",
     "exception": false,
     "start_time": "2024-07-23T08:59:11.667534",
     "status": "completed"
    },
    "tags": []
   },
   "outputs": [
    {
     "name": "stdout",
     "output_type": "stream",
     "text": [
      "[11 12 13 14 15 16 17 18 19 20]\n"
     ]
    }
   ],
   "source": [
    "arr = np.array([11, 11, 12, 13, 14, 15, 16, 17, 12, 13, 11, 14, 18, 19, 20])\n",
    "newarr = np.unique(arr)\n",
    "print(newarr)"
   ]
  },
  {
   "cell_type": "markdown",
   "id": "e21776da",
   "metadata": {
    "papermill": {
     "duration": 0.051438,
     "end_time": "2024-07-23T08:59:11.830824",
     "exception": false,
     "start_time": "2024-07-23T08:59:11.779386",
     "status": "completed"
    },
    "tags": []
   },
   "source": [
    "<div style=\"background-color:gainsboro; padding:8px; border:2px dotted black; border-radius:8px; font-family:verdana; line-height: 1.7em\">\n",
    "• To get the index of unique values in a NumPy array, just pass the return_index argument in np.unique() function.\n",
    "</div>"
   ]
  },
  {
   "cell_type": "code",
   "execution_count": 58,
   "id": "4c8093d4",
   "metadata": {
    "execution": {
     "iopub.execute_input": "2024-07-23T08:59:11.937035Z",
     "iopub.status.busy": "2024-07-23T08:59:11.936648Z",
     "iopub.status.idle": "2024-07-23T08:59:11.944342Z",
     "shell.execute_reply": "2024-07-23T08:59:11.943043Z"
    },
    "papermill": {
     "duration": 0.065407,
     "end_time": "2024-07-23T08:59:11.947062",
     "exception": false,
     "start_time": "2024-07-23T08:59:11.881655",
     "status": "completed"
    },
    "tags": []
   },
   "outputs": [
    {
     "name": "stdout",
     "output_type": "stream",
     "text": [
      "[11 12 13 14 15 16 17 18 19 20]\n",
      "[ 0  2  3  4  5  6  7 12 13 14]\n"
     ]
    }
   ],
   "source": [
    "arr = np.array([11, 11, 12, 13, 14, 15, 16, 17, 12, 13, 11, 14, 18, 19, 20])\n",
    "newarr, index_list = np.unique(arr, return_index=True)\n",
    "print(newarr)\n",
    "print(index_list)"
   ]
  },
  {
   "cell_type": "markdown",
   "id": "e7f452de",
   "metadata": {
    "papermill": {
     "duration": 0.04792,
     "end_time": "2024-07-23T08:59:12.044481",
     "exception": false,
     "start_time": "2024-07-23T08:59:11.996561",
     "status": "completed"
    },
    "tags": []
   },
   "source": [
    "<div style=\"background-color:gainsboro; padding:8px; border:2px dotted black; border-radius:8px; font-family:verdana; line-height: 1.7em\">\n",
    "• You can pass the return_counts argument in np.unique() along with your array to get the frequency count of unique values in a NumPy array.\n",
    "</div>"
   ]
  },
  {
   "cell_type": "code",
   "execution_count": 59,
   "id": "6a5369b4",
   "metadata": {
    "execution": {
     "iopub.execute_input": "2024-07-23T08:59:12.144241Z",
     "iopub.status.busy": "2024-07-23T08:59:12.143786Z",
     "iopub.status.idle": "2024-07-23T08:59:12.153462Z",
     "shell.execute_reply": "2024-07-23T08:59:12.152006Z"
    },
    "papermill": {
     "duration": 0.061798,
     "end_time": "2024-07-23T08:59:12.156138",
     "exception": false,
     "start_time": "2024-07-23T08:59:12.094340",
     "status": "completed"
    },
    "tags": []
   },
   "outputs": [
    {
     "name": "stdout",
     "output_type": "stream",
     "text": [
      "[11 12 13 14 15 16 17 18 19 20]\n",
      "[3 2 2 2 1 1 1 1 1 1]\n"
     ]
    }
   ],
   "source": [
    "arr = np.array([11, 11, 12, 13, 14, 15, 16, 17, 12, 13, 11, 14, 18, 19, 20])\n",
    "newarr, count_list = np.unique(arr, return_counts=True)\n",
    "print(newarr)\n",
    "print(count_list)"
   ]
  },
  {
   "cell_type": "markdown",
   "id": "50d8e4eb",
   "metadata": {
    "papermill": {
     "duration": 0.053777,
     "end_time": "2024-07-23T08:59:12.262375",
     "exception": false,
     "start_time": "2024-07-23T08:59:12.208598",
     "status": "completed"
    },
    "tags": []
   },
   "source": [
    "<div style=\"background-color:gainsboro; padding:8px; border:2px dotted black; border-radius:8px; font-family:verdana; line-height: 1.7em\">\n",
    "<font color='#6a66bd' size=\"5px\">NumPy Iterating Array</font>\n",
    "<br>\n",
    "<br>\n",
    "<strong>Iterating Arrays</strong>\n",
    "<br>\n",
    "• Iterating means going through elements one by one.\n",
    "<br>\n",
    "• As we deal with multi-dimensional arrays in numpy, we can do this using basic for loop of python.\n",
    "<br>\n",
    "• If we iterate on a 1-D array it will go through each element one by one.\n",
    "</div>"
   ]
  },
  {
   "cell_type": "code",
   "execution_count": 60,
   "id": "e950c2e3",
   "metadata": {
    "execution": {
     "iopub.execute_input": "2024-07-23T08:59:12.463371Z",
     "iopub.status.busy": "2024-07-23T08:59:12.462933Z",
     "iopub.status.idle": "2024-07-23T08:59:12.469523Z",
     "shell.execute_reply": "2024-07-23T08:59:12.468227Z"
    },
    "papermill": {
     "duration": 0.068444,
     "end_time": "2024-07-23T08:59:12.471860",
     "exception": false,
     "start_time": "2024-07-23T08:59:12.403416",
     "status": "completed"
    },
    "tags": []
   },
   "outputs": [
    {
     "name": "stdout",
     "output_type": "stream",
     "text": [
      "1\n",
      "2\n",
      "3\n"
     ]
    }
   ],
   "source": [
    "arr = np.array([1, 2, 3])\n",
    "for x in arr:\n",
    "  print(x)"
   ]
  },
  {
   "cell_type": "markdown",
   "id": "9d32aeae",
   "metadata": {
    "papermill": {
     "duration": 0.051285,
     "end_time": "2024-07-23T08:59:12.575483",
     "exception": false,
     "start_time": "2024-07-23T08:59:12.524198",
     "status": "completed"
    },
    "tags": []
   },
   "source": [
    "<div style=\"background-color:gainsboro; padding:8px; border:2px dotted black; border-radius:8px; font-family:verdana; line-height: 1.7em\">\n",
    "<strong>Iterating 2-D Arrays</strong>\n",
    "<br>\n",
    "• In a 2-D array it will go through all the rows.\n",
    "</div>"
   ]
  },
  {
   "cell_type": "code",
   "execution_count": 61,
   "id": "6530c0b9",
   "metadata": {
    "execution": {
     "iopub.execute_input": "2024-07-23T08:59:12.682926Z",
     "iopub.status.busy": "2024-07-23T08:59:12.682531Z",
     "iopub.status.idle": "2024-07-23T08:59:12.688826Z",
     "shell.execute_reply": "2024-07-23T08:59:12.687601Z"
    },
    "papermill": {
     "duration": 0.06208,
     "end_time": "2024-07-23T08:59:12.691611",
     "exception": false,
     "start_time": "2024-07-23T08:59:12.629531",
     "status": "completed"
    },
    "tags": []
   },
   "outputs": [
    {
     "name": "stdout",
     "output_type": "stream",
     "text": [
      "[1 2 3]\n",
      "[4 5 6]\n"
     ]
    }
   ],
   "source": [
    "arr = np.array([[1, 2, 3], [4, 5, 6]])\n",
    "for x in arr:\n",
    "  print(x)"
   ]
  },
  {
   "cell_type": "code",
   "execution_count": 62,
   "id": "30245c82",
   "metadata": {
    "execution": {
     "iopub.execute_input": "2024-07-23T08:59:12.795064Z",
     "iopub.status.busy": "2024-07-23T08:59:12.794159Z",
     "iopub.status.idle": "2024-07-23T08:59:12.800999Z",
     "shell.execute_reply": "2024-07-23T08:59:12.799751Z"
    },
    "papermill": {
     "duration": 0.061179,
     "end_time": "2024-07-23T08:59:12.803442",
     "exception": false,
     "start_time": "2024-07-23T08:59:12.742263",
     "status": "completed"
    },
    "tags": []
   },
   "outputs": [
    {
     "name": "stdout",
     "output_type": "stream",
     "text": [
      "1\n",
      "2\n",
      "3\n",
      "4\n",
      "5\n",
      "6\n"
     ]
    }
   ],
   "source": [
    "#Iterate on each scalar element of the 2-D array\n",
    "arr = np.array([[1, 2, 3], [4, 5, 6]])\n",
    "for x in arr:\n",
    "  for y in x:\n",
    "    print(y)"
   ]
  },
  {
   "cell_type": "markdown",
   "id": "e6ae635e",
   "metadata": {
    "papermill": {
     "duration": 0.048611,
     "end_time": "2024-07-23T08:59:12.901774",
     "exception": false,
     "start_time": "2024-07-23T08:59:12.853163",
     "status": "completed"
    },
    "tags": []
   },
   "source": [
    "<div style=\"background-color:gainsboro; padding:8px; border:2px dotted black; border-radius:8px; font-family:verdana; line-height: 1.7em\">\n",
    "<strong>Iterating 3-D Arrays</strong>\n",
    "<br>\n",
    "• In a 3-D array it will go through all the 2-D arrays.\n",
    "</div>"
   ]
  },
  {
   "cell_type": "code",
   "execution_count": 63,
   "id": "0f66e4c8",
   "metadata": {
    "execution": {
     "iopub.execute_input": "2024-07-23T08:59:13.002182Z",
     "iopub.status.busy": "2024-07-23T08:59:13.001731Z",
     "iopub.status.idle": "2024-07-23T08:59:13.008714Z",
     "shell.execute_reply": "2024-07-23T08:59:13.007443Z"
    },
    "papermill": {
     "duration": 0.060388,
     "end_time": "2024-07-23T08:59:13.011596",
     "exception": false,
     "start_time": "2024-07-23T08:59:12.951208",
     "status": "completed"
    },
    "tags": []
   },
   "outputs": [
    {
     "name": "stdout",
     "output_type": "stream",
     "text": [
      "[[1 2 3]\n",
      " [4 5 6]]\n",
      "[[ 7  8  9]\n",
      " [10 11 12]]\n"
     ]
    }
   ],
   "source": [
    "arr = np.array([[[1, 2, 3], [4, 5, 6]], [[7, 8, 9], [10, 11, 12]]])\n",
    "for x in arr:\n",
    "  print(x)"
   ]
  },
  {
   "cell_type": "code",
   "execution_count": 64,
   "id": "2551e98b",
   "metadata": {
    "execution": {
     "iopub.execute_input": "2024-07-23T08:59:13.117839Z",
     "iopub.status.busy": "2024-07-23T08:59:13.117420Z",
     "iopub.status.idle": "2024-07-23T08:59:13.124622Z",
     "shell.execute_reply": "2024-07-23T08:59:13.123236Z"
    },
    "papermill": {
     "duration": 0.063793,
     "end_time": "2024-07-23T08:59:13.127654",
     "exception": false,
     "start_time": "2024-07-23T08:59:13.063861",
     "status": "completed"
    },
    "tags": []
   },
   "outputs": [
    {
     "name": "stdout",
     "output_type": "stream",
     "text": [
      "1\n",
      "2\n",
      "3\n",
      "4\n",
      "5\n",
      "6\n",
      "7\n",
      "8\n",
      "9\n",
      "10\n",
      "11\n",
      "12\n"
     ]
    }
   ],
   "source": [
    "#Iterate on each scalar element of the 2-D array\n",
    "arr = np.array([[[1, 2, 3], [4, 5, 6]], [[7, 8, 9], [10, 11, 12]]])\n",
    "for x in arr:\n",
    "  for y in x:\n",
    "    for z in y:\n",
    "      print(z)"
   ]
  },
  {
   "cell_type": "markdown",
   "id": "5d4ca577",
   "metadata": {
    "papermill": {
     "duration": 0.050628,
     "end_time": "2024-07-23T08:59:13.230075",
     "exception": false,
     "start_time": "2024-07-23T08:59:13.179447",
     "status": "completed"
    },
    "tags": []
   },
   "source": [
    "<div style=\"background-color:gainsboro; padding:8px; border:2px dotted black; border-radius:8px; font-family:verdana; line-height: 1.7em\">\n",
    "<strong>Iterating Arrays Using nditer()</strong>\n",
    "<br>\n",
    "• The function nditer() is a helping function that can be used from very basic to very advanced iterations. \n",
    "<br>    \n",
    "• It solves some basic issues which we face in iteration, lets go through it with examples.\n",
    "</div>"
   ]
  },
  {
   "cell_type": "code",
   "execution_count": 65,
   "id": "623cf1f5",
   "metadata": {
    "execution": {
     "iopub.execute_input": "2024-07-23T08:59:13.336989Z",
     "iopub.status.busy": "2024-07-23T08:59:13.336584Z",
     "iopub.status.idle": "2024-07-23T08:59:13.342986Z",
     "shell.execute_reply": "2024-07-23T08:59:13.341763Z"
    },
    "papermill": {
     "duration": 0.062437,
     "end_time": "2024-07-23T08:59:13.345711",
     "exception": false,
     "start_time": "2024-07-23T08:59:13.283274",
     "status": "completed"
    },
    "tags": []
   },
   "outputs": [
    {
     "name": "stdout",
     "output_type": "stream",
     "text": [
      "1\n",
      "2\n",
      "3\n",
      "4\n",
      "5\n",
      "6\n",
      "7\n",
      "8\n"
     ]
    }
   ],
   "source": [
    "arr = np.array([[[1, 2], [3, 4]], [[5, 6], [7, 8]]])\n",
    "for x in np.nditer(arr):\n",
    "  print(x)"
   ]
  },
  {
   "cell_type": "markdown",
   "id": "9562a15d",
   "metadata": {
    "papermill": {
     "duration": 0.054645,
     "end_time": "2024-07-23T08:59:13.452652",
     "exception": false,
     "start_time": "2024-07-23T08:59:13.398007",
     "status": "completed"
    },
    "tags": []
   },
   "source": [
    "<div style=\"background-color:gainsboro; padding:8px; border:2px dotted black; border-radius:8px; font-family:verdana; line-height: 1.7em\">\n",
    "<strong>Iterating With Different Step Size</strong>\n",
    "<br>\n",
    "• We can use filtering and followed by iteration.\n",
    "</div>"
   ]
  },
  {
   "cell_type": "code",
   "execution_count": 66,
   "id": "6038ffff",
   "metadata": {
    "execution": {
     "iopub.execute_input": "2024-07-23T08:59:13.560000Z",
     "iopub.status.busy": "2024-07-23T08:59:13.559628Z",
     "iopub.status.idle": "2024-07-23T08:59:13.566263Z",
     "shell.execute_reply": "2024-07-23T08:59:13.565002Z"
    },
    "papermill": {
     "duration": 0.061145,
     "end_time": "2024-07-23T08:59:13.568547",
     "exception": false,
     "start_time": "2024-07-23T08:59:13.507402",
     "status": "completed"
    },
    "tags": []
   },
   "outputs": [
    {
     "name": "stdout",
     "output_type": "stream",
     "text": [
      "1\n",
      "3\n",
      "5\n",
      "7\n"
     ]
    }
   ],
   "source": [
    "#Iterate through every scalar element of the 2D array skipping 1 element\n",
    "arr = np.array([[1, 2, 3, 4], [5, 6, 7, 8]])\n",
    "for x in np.nditer(arr[:, ::2]):\n",
    "  print(x)"
   ]
  },
  {
   "cell_type": "markdown",
   "id": "975a0eb0",
   "metadata": {
    "papermill": {
     "duration": 0.049553,
     "end_time": "2024-07-23T08:59:13.666803",
     "exception": false,
     "start_time": "2024-07-23T08:59:13.617250",
     "status": "completed"
    },
    "tags": []
   },
   "source": [
    "<div style=\"background-color:gainsboro; padding:8px; border:2px dotted black; border-radius:8px; font-family:verdana; line-height: 1.7em\">\n",
    "<strong>Enumerated Iteration Using ndenumerate()</strong>\n",
    "<br>\n",
    "• Enumeration means mentioning sequence number of somethings one by one.\n",
    "<br>\n",
    "• Sometimes we require corresponding index of the element while iterating, the ndenumerate() method can be used for those use cases.\n",
    "</div>"
   ]
  },
  {
   "cell_type": "code",
   "execution_count": 67,
   "id": "e60f65f4",
   "metadata": {
    "execution": {
     "iopub.execute_input": "2024-07-23T08:59:13.770023Z",
     "iopub.status.busy": "2024-07-23T08:59:13.769677Z",
     "iopub.status.idle": "2024-07-23T08:59:13.775960Z",
     "shell.execute_reply": "2024-07-23T08:59:13.774669Z"
    },
    "papermill": {
     "duration": 0.062077,
     "end_time": "2024-07-23T08:59:13.779127",
     "exception": false,
     "start_time": "2024-07-23T08:59:13.717050",
     "status": "completed"
    },
    "tags": []
   },
   "outputs": [
    {
     "name": "stdout",
     "output_type": "stream",
     "text": [
      "(0,) 1\n",
      "(1,) 2\n",
      "(2,) 3\n"
     ]
    }
   ],
   "source": [
    "#Enumerate on following 1D arrays elements\n",
    "arr = np.array([1, 2, 3])\n",
    "for idx, x in np.ndenumerate(arr):\n",
    "  print(idx, x)"
   ]
  },
  {
   "cell_type": "code",
   "execution_count": 68,
   "id": "41360a6c",
   "metadata": {
    "execution": {
     "iopub.execute_input": "2024-07-23T08:59:13.888858Z",
     "iopub.status.busy": "2024-07-23T08:59:13.888217Z",
     "iopub.status.idle": "2024-07-23T08:59:13.895442Z",
     "shell.execute_reply": "2024-07-23T08:59:13.894008Z"
    },
    "papermill": {
     "duration": 0.064258,
     "end_time": "2024-07-23T08:59:13.898292",
     "exception": false,
     "start_time": "2024-07-23T08:59:13.834034",
     "status": "completed"
    },
    "tags": []
   },
   "outputs": [
    {
     "name": "stdout",
     "output_type": "stream",
     "text": [
      "(0, 0) 1\n",
      "(0, 1) 2\n",
      "(0, 2) 3\n",
      "(0, 3) 4\n",
      "(1, 0) 5\n",
      "(1, 1) 6\n",
      "(1, 2) 7\n",
      "(1, 3) 8\n"
     ]
    }
   ],
   "source": [
    "#Enumerate on following 2D arrays elements\n",
    "arr = np.array([[1, 2, 3, 4], [5, 6, 7, 8]])\n",
    "for idx, x in np.ndenumerate(arr):\n",
    "  print(idx, x)"
   ]
  },
  {
   "cell_type": "markdown",
   "id": "31488d37",
   "metadata": {
    "papermill": {
     "duration": 0.052097,
     "end_time": "2024-07-23T08:59:14.007354",
     "exception": false,
     "start_time": "2024-07-23T08:59:13.955257",
     "status": "completed"
    },
    "tags": []
   },
   "source": [
    "<div style=\"background-color:gainsboro; padding:8px; border:2px dotted black; border-radius:8px; font-family:verdana; line-height: 1.7em\">\n",
    "<font color='#6a66bd' size=\"5px\">NumPy Joining Array</font>\n",
    "<br>\n",
    "<br>\n",
    "<strong>Joining NumPy Arrays</strong>\n",
    "<br>\n",
    "• Joining means putting contents of two or more arrays in a single array.\n",
    "<br>\n",
    "• We pass a sequence of arrays that we want to join to the concatenate() function, along with the axis. \n",
    "<br>\n",
    "• If axis is not explicitly passed, it is taken as 0.\n",
    "<br>\n",
    "→ Axis 0 = Rows\n",
    "<br>\n",
    "→ Axis 1 = Columns  \n",
    "</div>"
   ]
  },
  {
   "cell_type": "code",
   "execution_count": 69,
   "id": "fe79f713",
   "metadata": {
    "execution": {
     "iopub.execute_input": "2024-07-23T08:59:14.115516Z",
     "iopub.status.busy": "2024-07-23T08:59:14.114364Z",
     "iopub.status.idle": "2024-07-23T08:59:14.122072Z",
     "shell.execute_reply": "2024-07-23T08:59:14.120270Z"
    },
    "papermill": {
     "duration": 0.065048,
     "end_time": "2024-07-23T08:59:14.124757",
     "exception": false,
     "start_time": "2024-07-23T08:59:14.059709",
     "status": "completed"
    },
    "tags": []
   },
   "outputs": [
    {
     "name": "stdout",
     "output_type": "stream",
     "text": [
      "[1 2 3 4 5 6]\n"
     ]
    }
   ],
   "source": [
    "#Join two 1-D arrays\n",
    "arr1 = np.array([1, 2, 3])\n",
    "arr2 = np.array([4, 5, 6])\n",
    "\n",
    "arr = np.concatenate((arr1, arr2))\n",
    "\n",
    "print(arr)"
   ]
  },
  {
   "cell_type": "code",
   "execution_count": 70,
   "id": "97a69b07",
   "metadata": {
    "execution": {
     "iopub.execute_input": "2024-07-23T08:59:14.234305Z",
     "iopub.status.busy": "2024-07-23T08:59:14.233166Z",
     "iopub.status.idle": "2024-07-23T08:59:14.240394Z",
     "shell.execute_reply": "2024-07-23T08:59:14.239176Z"
    },
    "papermill": {
     "duration": 0.063804,
     "end_time": "2024-07-23T08:59:14.243207",
     "exception": false,
     "start_time": "2024-07-23T08:59:14.179403",
     "status": "completed"
    },
    "tags": []
   },
   "outputs": [
    {
     "name": "stdout",
     "output_type": "stream",
     "text": [
      "[[1 2 5 6]\n",
      " [3 4 7 8]]\n"
     ]
    }
   ],
   "source": [
    "#Join two 2-D arrays along rows (axis=1)\n",
    "arr1 = np.array([[1, 2], [3, 4]])\n",
    "arr2 = np.array([[5, 6], [7, 8]])\n",
    "\n",
    "arr = np.concatenate((arr1, arr2), axis=1)\n",
    "\n",
    "print(arr)"
   ]
  },
  {
   "cell_type": "markdown",
   "id": "5ddf419a",
   "metadata": {
    "papermill": {
     "duration": 0.06464,
     "end_time": "2024-07-23T08:59:14.370916",
     "exception": false,
     "start_time": "2024-07-23T08:59:14.306276",
     "status": "completed"
    },
    "tags": []
   },
   "source": [
    "<div style=\"background-color:gainsboro; padding:8px; border:2px dotted black; border-radius:8px; font-family:verdana; line-height: 1.7em\">\n",
    "<strong>Joining Arrays Using Stack Functions</strong>\n",
    "<br>\n",
    "• Stacking is same as concatenation, the only difference is that stacking is done along a new axis.\n",
    "<br>\n",
    "• We can concatenate two 1-D arrays along the second axis which would result in putting them one over the other, ie. stacking.\n",
    "<br>\n",
    "• We pass a sequence of arrays that we want to join to the stack() method along with the axis. If axis is not explicitly passed it is taken as 0.\n",
    "</div>"
   ]
  },
  {
   "cell_type": "code",
   "execution_count": 71,
   "id": "0e3812b6",
   "metadata": {
    "execution": {
     "iopub.execute_input": "2024-07-23T08:59:14.478681Z",
     "iopub.status.busy": "2024-07-23T08:59:14.477735Z",
     "iopub.status.idle": "2024-07-23T08:59:14.484160Z",
     "shell.execute_reply": "2024-07-23T08:59:14.483025Z"
    },
    "papermill": {
     "duration": 0.062781,
     "end_time": "2024-07-23T08:59:14.487125",
     "exception": false,
     "start_time": "2024-07-23T08:59:14.424344",
     "status": "completed"
    },
    "tags": []
   },
   "outputs": [
    {
     "name": "stdout",
     "output_type": "stream",
     "text": [
      "[[1 4]\n",
      " [2 5]\n",
      " [3 6]]\n"
     ]
    }
   ],
   "source": [
    "arr1 = np.array([1, 2, 3])\n",
    "arr2 = np.array([4, 5, 6])\n",
    "\n",
    "arr = np.stack((arr1, arr2), axis=1)\n",
    "\n",
    "print(arr)"
   ]
  },
  {
   "cell_type": "markdown",
   "id": "2b3c1307",
   "metadata": {
    "papermill": {
     "duration": 0.051984,
     "end_time": "2024-07-23T08:59:14.590082",
     "exception": false,
     "start_time": "2024-07-23T08:59:14.538098",
     "status": "completed"
    },
    "tags": []
   },
   "source": [
    "<div style=\"background-color:gainsboro; padding:8px; border:2px dotted black; border-radius:8px; font-family:verdana; line-height: 1.7em\">\n",
    "<strong>Stacking Along Rows</strong>\n",
    "<br>\n",
    "• NumPy provides a helper function : hstack() to stack along rows.\n",
    "</div>"
   ]
  },
  {
   "cell_type": "code",
   "execution_count": 72,
   "id": "4b8abf95",
   "metadata": {
    "execution": {
     "iopub.execute_input": "2024-07-23T08:59:14.694960Z",
     "iopub.status.busy": "2024-07-23T08:59:14.694538Z",
     "iopub.status.idle": "2024-07-23T08:59:14.702060Z",
     "shell.execute_reply": "2024-07-23T08:59:14.700686Z"
    },
    "papermill": {
     "duration": 0.062936,
     "end_time": "2024-07-23T08:59:14.704432",
     "exception": false,
     "start_time": "2024-07-23T08:59:14.641496",
     "status": "completed"
    },
    "tags": []
   },
   "outputs": [
    {
     "name": "stdout",
     "output_type": "stream",
     "text": [
      "[1 2 3 4 5 6]\n"
     ]
    }
   ],
   "source": [
    "arr1 = np.array([1, 2, 3])\n",
    "arr2 = np.array([4, 5, 6])\n",
    "\n",
    "arr = np.hstack((arr1, arr2))\n",
    "\n",
    "print(arr)"
   ]
  },
  {
   "cell_type": "markdown",
   "id": "bac6dfe4",
   "metadata": {
    "papermill": {
     "duration": 0.05194,
     "end_time": "2024-07-23T08:59:14.809015",
     "exception": false,
     "start_time": "2024-07-23T08:59:14.757075",
     "status": "completed"
    },
    "tags": []
   },
   "source": [
    "<div style=\"background-color:gainsboro; padding:8px; border:2px dotted black; border-radius:8px; font-family:verdana; line-height: 1.7em\">\n",
    "<strong>Stacking Along Columns</strong>\n",
    "<br>\n",
    "• NumPy provides a helper function : vstack() to stack along columns.\n",
    "</div>"
   ]
  },
  {
   "cell_type": "code",
   "execution_count": 73,
   "id": "8af5a309",
   "metadata": {
    "execution": {
     "iopub.execute_input": "2024-07-23T08:59:14.917857Z",
     "iopub.status.busy": "2024-07-23T08:59:14.917488Z",
     "iopub.status.idle": "2024-07-23T08:59:14.924989Z",
     "shell.execute_reply": "2024-07-23T08:59:14.923543Z"
    },
    "papermill": {
     "duration": 0.065009,
     "end_time": "2024-07-23T08:59:14.927852",
     "exception": false,
     "start_time": "2024-07-23T08:59:14.862843",
     "status": "completed"
    },
    "tags": []
   },
   "outputs": [
    {
     "name": "stdout",
     "output_type": "stream",
     "text": [
      "[[1 2 3]\n",
      " [4 5 6]]\n"
     ]
    }
   ],
   "source": [
    "arr1 = np.array([1, 2, 3])\n",
    "arr2 = np.array([4, 5, 6])\n",
    "\n",
    "arr = np.vstack((arr1, arr2))\n",
    "\n",
    "print(arr)"
   ]
  },
  {
   "cell_type": "markdown",
   "id": "3920ed06",
   "metadata": {
    "papermill": {
     "duration": 0.049015,
     "end_time": "2024-07-23T08:59:15.040279",
     "exception": false,
     "start_time": "2024-07-23T08:59:14.991264",
     "status": "completed"
    },
    "tags": []
   },
   "source": [
    "<div style=\"background-color:gainsboro; padding:8px; border:2px dotted black; border-radius:8px; font-family:verdana; line-height: 1.7em\">\n",
    "<strong>Stacking Along Height (depth)</strong>\n",
    "<br>\n",
    "• NumPy provides a helper function : dstack() to stack along height, which is the same as depth.\n",
    "</div>"
   ]
  },
  {
   "cell_type": "code",
   "execution_count": 74,
   "id": "6252ee49",
   "metadata": {
    "execution": {
     "iopub.execute_input": "2024-07-23T08:59:15.141871Z",
     "iopub.status.busy": "2024-07-23T08:59:15.141524Z",
     "iopub.status.idle": "2024-07-23T08:59:15.148198Z",
     "shell.execute_reply": "2024-07-23T08:59:15.147027Z"
    },
    "papermill": {
     "duration": 0.061298,
     "end_time": "2024-07-23T08:59:15.150703",
     "exception": false,
     "start_time": "2024-07-23T08:59:15.089405",
     "status": "completed"
    },
    "tags": []
   },
   "outputs": [
    {
     "name": "stdout",
     "output_type": "stream",
     "text": [
      "[[[1 4]\n",
      "  [2 5]\n",
      "  [3 6]]]\n"
     ]
    }
   ],
   "source": [
    "arr1 = np.array([1, 2, 3])\n",
    "arr2 = np.array([4, 5, 6])\n",
    "\n",
    "arr = np.dstack((arr1, arr2))\n",
    "\n",
    "print(arr)"
   ]
  },
  {
   "cell_type": "markdown",
   "id": "731e1813",
   "metadata": {
    "papermill": {
     "duration": 0.049335,
     "end_time": "2024-07-23T08:59:15.249351",
     "exception": false,
     "start_time": "2024-07-23T08:59:15.200016",
     "status": "completed"
    },
    "tags": []
   },
   "source": [
    "<div style=\"background-color:gainsboro; padding:8px; border:2px dotted black; border-radius:8px; font-family:verdana; line-height: 1.7em\">\n",
    "<font color='#6a66bd' size=\"5px\">NumPy Splitting Array</font>\n",
    "<br>\n",
    "<br>\n",
    "<strong>Splitting NumPy Arrays</strong>\n",
    "<br>\n",
    "• Splitting is reverse operation of Joining.\n",
    "<br>\n",
    "• Joining merges multiple arrays into one and Splitting breaks one array into multiple.\n",
    "<br>\n",
    "• We use array_split() for splitting arrays, we pass it the array we want to split and the number of splits.\n",
    "<div style=\"background-color:#ADD8E6; padding:8px; border:1px solid #87CEEB; border-radius:4px;\">\n",
    "<strong>Note :</strong> The return value is a list containing three arrays.\n",
    "</div>\n",
    "</div>"
   ]
  },
  {
   "cell_type": "code",
   "execution_count": 75,
   "id": "c3a8e1b3",
   "metadata": {
    "execution": {
     "iopub.execute_input": "2024-07-23T08:59:15.361735Z",
     "iopub.status.busy": "2024-07-23T08:59:15.360249Z",
     "iopub.status.idle": "2024-07-23T08:59:15.368128Z",
     "shell.execute_reply": "2024-07-23T08:59:15.366635Z"
    },
    "papermill": {
     "duration": 0.07009,
     "end_time": "2024-07-23T08:59:15.371158",
     "exception": false,
     "start_time": "2024-07-23T08:59:15.301068",
     "status": "completed"
    },
    "tags": []
   },
   "outputs": [
    {
     "name": "stdout",
     "output_type": "stream",
     "text": [
      "[array([1, 2]), array([3, 4]), array([5, 6])]\n"
     ]
    }
   ],
   "source": [
    "arr = np.array([1, 2, 3, 4, 5, 6])\n",
    "newarr = np.array_split(arr, 3)\n",
    "print(newarr)"
   ]
  },
  {
   "cell_type": "code",
   "execution_count": 76,
   "id": "ce1be8ad",
   "metadata": {
    "execution": {
     "iopub.execute_input": "2024-07-23T08:59:15.484385Z",
     "iopub.status.busy": "2024-07-23T08:59:15.483565Z",
     "iopub.status.idle": "2024-07-23T08:59:15.489429Z",
     "shell.execute_reply": "2024-07-23T08:59:15.488501Z"
    },
    "papermill": {
     "duration": 0.064572,
     "end_time": "2024-07-23T08:59:15.491969",
     "exception": false,
     "start_time": "2024-07-23T08:59:15.427397",
     "status": "completed"
    },
    "tags": []
   },
   "outputs": [
    {
     "name": "stdout",
     "output_type": "stream",
     "text": [
      "[array([1, 2]), array([3, 4]), array([5]), array([6])]\n"
     ]
    }
   ],
   "source": [
    "arr = np.array([1, 2, 3, 4, 5, 6])\n",
    "newarr = np.array_split(arr, 4)\n",
    "print(newarr)"
   ]
  },
  {
   "cell_type": "markdown",
   "id": "c75fc99a",
   "metadata": {
    "papermill": {
     "duration": 0.0516,
     "end_time": "2024-07-23T08:59:15.595107",
     "exception": false,
     "start_time": "2024-07-23T08:59:15.543507",
     "status": "completed"
    },
    "tags": []
   },
   "source": [
    "<div style=\"background-color:gainsboro; padding:8px; border:2px dotted black; border-radius:8px; font-family:verdana; line-height: 1.7em\">\n",
    "<strong>Split Into Arrays</strong>\n",
    "<br>\n",
    "• The return value of the array_split() method is an array containing each of the split as an array.\n",
    "<br>\n",
    "• If you split an array into 3 arrays, you can access them from the result just like any array element.\n",
    "</div>"
   ]
  },
  {
   "cell_type": "code",
   "execution_count": 77,
   "id": "83b3ba30",
   "metadata": {
    "execution": {
     "iopub.execute_input": "2024-07-23T08:59:15.696998Z",
     "iopub.status.busy": "2024-07-23T08:59:15.696077Z",
     "iopub.status.idle": "2024-07-23T08:59:15.703246Z",
     "shell.execute_reply": "2024-07-23T08:59:15.701995Z"
    },
    "papermill": {
     "duration": 0.060243,
     "end_time": "2024-07-23T08:59:15.705582",
     "exception": false,
     "start_time": "2024-07-23T08:59:15.645339",
     "status": "completed"
    },
    "tags": []
   },
   "outputs": [
    {
     "name": "stdout",
     "output_type": "stream",
     "text": [
      "[1 2]\n",
      "[3 4]\n",
      "[5 6]\n"
     ]
    }
   ],
   "source": [
    "arr = np.array([1, 2, 3, 4, 5, 6])\n",
    "\n",
    "newarr = np.array_split(arr, 3)\n",
    "\n",
    "print(newarr[0])\n",
    "print(newarr[1])\n",
    "print(newarr[2])"
   ]
  },
  {
   "cell_type": "markdown",
   "id": "fedc0a60",
   "metadata": {
    "papermill": {
     "duration": 0.049426,
     "end_time": "2024-07-23T08:59:15.804661",
     "exception": false,
     "start_time": "2024-07-23T08:59:15.755235",
     "status": "completed"
    },
    "tags": []
   },
   "source": [
    "<div style=\"background-color:gainsboro; padding:8px; border:2px dotted black; border-radius:8px; font-family:verdana; line-height: 1.7em\">\n",
    "<strong>Splitting 2-D Arrays</strong>\n",
    "<br>\n",
    "• Use the same syntax when splitting 2-D arrays.\n",
    "<br>\n",
    "• Use the array_split() method, pass in the array you want to split and the number of splits you want to do.\n",
    "</div>"
   ]
  },
  {
   "cell_type": "code",
   "execution_count": 78,
   "id": "d9ef9724",
   "metadata": {
    "execution": {
     "iopub.execute_input": "2024-07-23T08:59:15.907273Z",
     "iopub.status.busy": "2024-07-23T08:59:15.906386Z",
     "iopub.status.idle": "2024-07-23T08:59:15.915038Z",
     "shell.execute_reply": "2024-07-23T08:59:15.913364Z"
    },
    "papermill": {
     "duration": 0.062139,
     "end_time": "2024-07-23T08:59:15.917473",
     "exception": false,
     "start_time": "2024-07-23T08:59:15.855334",
     "status": "completed"
    },
    "tags": []
   },
   "outputs": [
    {
     "name": "stdout",
     "output_type": "stream",
     "text": [
      "[array([[1, 2],\n",
      "       [3, 4]]), array([[5, 6],\n",
      "       [7, 8]]), array([[ 9, 10],\n",
      "       [11, 12]])]\n"
     ]
    }
   ],
   "source": [
    "#Split the 2-D array into three 2-D arrays\n",
    "arr = np.array([[1, 2], [3, 4], [5, 6], [7, 8], [9, 10], [11, 12]])\n",
    "newarr = np.array_split(arr, 3)\n",
    "print(newarr)"
   ]
  },
  {
   "cell_type": "markdown",
   "id": "6c391894",
   "metadata": {
    "papermill": {
     "duration": 0.052006,
     "end_time": "2024-07-23T08:59:16.020299",
     "exception": false,
     "start_time": "2024-07-23T08:59:15.968293",
     "status": "completed"
    },
    "tags": []
   },
   "source": [
    "<div style=\"background-color:gainsboro; padding:8px; border:2px dotted black; border-radius:8px; font-family:verdana; line-height: 1.7em\">\n",
    "• In addition, you can specify which axis you want to do the split around.\n",
    "</div>"
   ]
  },
  {
   "cell_type": "code",
   "execution_count": 79,
   "id": "6eda425d",
   "metadata": {
    "execution": {
     "iopub.execute_input": "2024-07-23T08:59:16.125197Z",
     "iopub.status.busy": "2024-07-23T08:59:16.124267Z",
     "iopub.status.idle": "2024-07-23T08:59:16.132207Z",
     "shell.execute_reply": "2024-07-23T08:59:16.130558Z"
    },
    "papermill": {
     "duration": 0.062769,
     "end_time": "2024-07-23T08:59:16.134825",
     "exception": false,
     "start_time": "2024-07-23T08:59:16.072056",
     "status": "completed"
    },
    "tags": []
   },
   "outputs": [
    {
     "name": "stdout",
     "output_type": "stream",
     "text": [
      "[array([[ 1],\n",
      "       [ 4],\n",
      "       [ 7],\n",
      "       [10],\n",
      "       [13],\n",
      "       [16]]), array([[ 2],\n",
      "       [ 5],\n",
      "       [ 8],\n",
      "       [11],\n",
      "       [14],\n",
      "       [17]]), array([[ 3],\n",
      "       [ 6],\n",
      "       [ 9],\n",
      "       [12],\n",
      "       [15],\n",
      "       [18]])]\n"
     ]
    }
   ],
   "source": [
    "#Split the 2-D array into three 2-D arrays along columns\n",
    "arr = np.array([[1, 2, 3], [4, 5, 6], [7, 8, 9], [10, 11, 12], [13, 14, 15], [16, 17, 18]])\n",
    "newarr = np.array_split(arr, 3, axis=1)\n",
    "print(newarr)"
   ]
  },
  {
   "cell_type": "code",
   "execution_count": 80,
   "id": "bc509cb2",
   "metadata": {
    "execution": {
     "iopub.execute_input": "2024-07-23T08:59:16.238436Z",
     "iopub.status.busy": "2024-07-23T08:59:16.237516Z",
     "iopub.status.idle": "2024-07-23T08:59:16.245070Z",
     "shell.execute_reply": "2024-07-23T08:59:16.243838Z"
    },
    "papermill": {
     "duration": 0.06325,
     "end_time": "2024-07-23T08:59:16.247915",
     "exception": false,
     "start_time": "2024-07-23T08:59:16.184665",
     "status": "completed"
    },
    "tags": []
   },
   "outputs": [
    {
     "name": "stdout",
     "output_type": "stream",
     "text": [
      "[array([[ 1],\n",
      "       [ 4],\n",
      "       [ 7],\n",
      "       [10],\n",
      "       [13],\n",
      "       [16]]), array([[ 2],\n",
      "       [ 5],\n",
      "       [ 8],\n",
      "       [11],\n",
      "       [14],\n",
      "       [17]]), array([[ 3],\n",
      "       [ 6],\n",
      "       [ 9],\n",
      "       [12],\n",
      "       [15],\n",
      "       [18]])]\n"
     ]
    }
   ],
   "source": [
    "#Split the 2-D array into three 2-D arrays with hsplit()\n",
    "arr = np.array([[1, 2, 3], [4, 5, 6], [7, 8, 9], [10, 11, 12], [13, 14, 15], [16, 17, 18]])\n",
    "newarr = np.hsplit(arr, 3)\n",
    "print(newarr)"
   ]
  },
  {
   "cell_type": "code",
   "execution_count": 81,
   "id": "96201b81",
   "metadata": {
    "execution": {
     "iopub.execute_input": "2024-07-23T08:59:16.359746Z",
     "iopub.status.busy": "2024-07-23T08:59:16.359357Z",
     "iopub.status.idle": "2024-07-23T08:59:16.366532Z",
     "shell.execute_reply": "2024-07-23T08:59:16.365226Z"
    },
    "papermill": {
     "duration": 0.067898,
     "end_time": "2024-07-23T08:59:16.369295",
     "exception": false,
     "start_time": "2024-07-23T08:59:16.301397",
     "status": "completed"
    },
    "tags": []
   },
   "outputs": [
    {
     "name": "stdout",
     "output_type": "stream",
     "text": [
      "[array([[1, 2, 3],\n",
      "       [4, 5, 6]]), array([[ 7,  8,  9],\n",
      "       [10, 11, 12]]), array([[13, 14, 15],\n",
      "       [16, 17, 18]])]\n"
     ]
    }
   ],
   "source": [
    "#Split the 2-D array into three 2-D arrays using vsplit()\n",
    "arr = np.array([[1, 2, 3], [4, 5, 6], [7, 8, 9], [10, 11, 12], [13, 14, 15], [16, 17, 18]])\n",
    "newarr = np.vsplit(arr, 3)\n",
    "print(newarr)"
   ]
  },
  {
   "cell_type": "markdown",
   "id": "2413ec05",
   "metadata": {
    "papermill": {
     "duration": 0.049812,
     "end_time": "2024-07-23T08:59:16.470232",
     "exception": false,
     "start_time": "2024-07-23T08:59:16.420420",
     "status": "completed"
    },
    "tags": []
   },
   "source": [
    "<div style=\"background-color:gainsboro; padding:8px; border:2px dotted black; border-radius:8px; font-family:verdana; line-height: 1.7em\">\n",
    "<font color='#6a66bd' size=\"5px\">NumPy Searching Arrays</font>\n",
    "<br>\n",
    "<br>\n",
    "<strong>Searching Arrays</strong>\n",
    "<br>\n",
    "• You can search an array for a certain value and return the indexes that get a match.\n",
    "<br>\n",
    "• To search an array, use the where() method.\n",
    "<br>\n",
    "• It returns a tuple after finding elements according to condition.\n",
    "</div>"
   ]
  },
  {
   "cell_type": "code",
   "execution_count": 82,
   "id": "feae5481",
   "metadata": {
    "execution": {
     "iopub.execute_input": "2024-07-23T08:59:16.571359Z",
     "iopub.status.busy": "2024-07-23T08:59:16.570996Z",
     "iopub.status.idle": "2024-07-23T08:59:16.577180Z",
     "shell.execute_reply": "2024-07-23T08:59:16.576033Z"
    },
    "papermill": {
     "duration": 0.058686,
     "end_time": "2024-07-23T08:59:16.579454",
     "exception": false,
     "start_time": "2024-07-23T08:59:16.520768",
     "status": "completed"
    },
    "tags": []
   },
   "outputs": [
    {
     "name": "stdout",
     "output_type": "stream",
     "text": [
      "(array([3, 5, 6]),)\n"
     ]
    }
   ],
   "source": [
    "#Find the indexes where the value is 4\n",
    "arr = np.array([1, 2, 3, 4, 5, 4, 4])\n",
    "x = np.where(arr == 4)\n",
    "print(x)"
   ]
  },
  {
   "cell_type": "code",
   "execution_count": 83,
   "id": "2b98cb8d",
   "metadata": {
    "execution": {
     "iopub.execute_input": "2024-07-23T08:59:16.679955Z",
     "iopub.status.busy": "2024-07-23T08:59:16.679610Z",
     "iopub.status.idle": "2024-07-23T08:59:16.685821Z",
     "shell.execute_reply": "2024-07-23T08:59:16.684656Z"
    },
    "papermill": {
     "duration": 0.059383,
     "end_time": "2024-07-23T08:59:16.688221",
     "exception": false,
     "start_time": "2024-07-23T08:59:16.628838",
     "status": "completed"
    },
    "tags": []
   },
   "outputs": [
    {
     "name": "stdout",
     "output_type": "stream",
     "text": [
      "(array([1, 3, 5, 7]),)\n"
     ]
    }
   ],
   "source": [
    "#Find the indexes where the values are even\n",
    "arr = np.array([1, 2, 3, 4, 5, 6, 7, 8])\n",
    "x = np.where(arr%2 == 0)\n",
    "print(x)"
   ]
  },
  {
   "cell_type": "markdown",
   "id": "fc11cd9f",
   "metadata": {
    "papermill": {
     "duration": 0.049509,
     "end_time": "2024-07-23T08:59:16.789049",
     "exception": false,
     "start_time": "2024-07-23T08:59:16.739540",
     "status": "completed"
    },
    "tags": []
   },
   "source": [
    "<div style=\"background-color:gainsboro; padding:8px; border:2px dotted black; border-radius:8px; font-family:verdana; line-height: 1.7em\">\n",
    "<strong>Search Sorted</strong>\n",
    "<br>\n",
    "• There is a method called searchsorted() which performs a binary search in the array and returns the index where the specified value would be inserted to maintain the search order.\n",
    "<br>\n",
    "• The searchsorted() method is assumed to be used on sorted arrays.\n",
    "<br>\n",
    "• The method starts the search from the left and returns the first index where the number is no longer larger than the next value.\n",
    "</div>"
   ]
  },
  {
   "cell_type": "code",
   "execution_count": 84,
   "id": "d808c77a",
   "metadata": {
    "execution": {
     "iopub.execute_input": "2024-07-23T08:59:16.890362Z",
     "iopub.status.busy": "2024-07-23T08:59:16.889902Z",
     "iopub.status.idle": "2024-07-23T08:59:16.896802Z",
     "shell.execute_reply": "2024-07-23T08:59:16.895241Z"
    },
    "papermill": {
     "duration": 0.06087,
     "end_time": "2024-07-23T08:59:16.899211",
     "exception": false,
     "start_time": "2024-07-23T08:59:16.838341",
     "status": "completed"
    },
    "tags": []
   },
   "outputs": [
    {
     "name": "stdout",
     "output_type": "stream",
     "text": [
      "1\n"
     ]
    }
   ],
   "source": [
    "#Find the indexes where the value 7 should be inserted\n",
    "arr = np.array([6, 7, 8, 9])\n",
    "x = np.searchsorted(arr, 7)\n",
    "print(x)"
   ]
  },
  {
   "cell_type": "markdown",
   "id": "99ed4fe9",
   "metadata": {
    "papermill": {
     "duration": 0.049769,
     "end_time": "2024-07-23T08:59:17.000390",
     "exception": false,
     "start_time": "2024-07-23T08:59:16.950621",
     "status": "completed"
    },
    "tags": []
   },
   "source": [
    "<div style=\"background-color:gainsboro; padding:8px; border:2px dotted black; border-radius:8px; font-family:verdana; line-height: 1.7em\">\n",
    "<strong>Search From the Right Side</strong>\n",
    "<br>\n",
    "• By default the left most index is returned, but we can give side='right' to return the right most index instead.\n",
    "</div>"
   ]
  },
  {
   "cell_type": "code",
   "execution_count": 85,
   "id": "72958d35",
   "metadata": {
    "execution": {
     "iopub.execute_input": "2024-07-23T08:59:17.102175Z",
     "iopub.status.busy": "2024-07-23T08:59:17.101784Z",
     "iopub.status.idle": "2024-07-23T08:59:17.108010Z",
     "shell.execute_reply": "2024-07-23T08:59:17.106944Z"
    },
    "papermill": {
     "duration": 0.059899,
     "end_time": "2024-07-23T08:59:17.110417",
     "exception": false,
     "start_time": "2024-07-23T08:59:17.050518",
     "status": "completed"
    },
    "tags": []
   },
   "outputs": [
    {
     "name": "stdout",
     "output_type": "stream",
     "text": [
      "2\n"
     ]
    }
   ],
   "source": [
    "#Find the indexes where the value 7 should be inserted, starting from the right\n",
    "arr = np.array([6, 7, 8, 9])\n",
    "x = np.searchsorted(arr, 7, side='right')\n",
    "print(x)"
   ]
  },
  {
   "cell_type": "markdown",
   "id": "875ed817",
   "metadata": {
    "papermill": {
     "duration": 0.050432,
     "end_time": "2024-07-23T08:59:17.213410",
     "exception": false,
     "start_time": "2024-07-23T08:59:17.162978",
     "status": "completed"
    },
    "tags": []
   },
   "source": [
    "<div style=\"background-color:gainsboro; padding:8px; border:2px dotted black; border-radius:8px; font-family:verdana; line-height: 1.7em\">\n",
    "<strong>Multiple Values</strong>\n",
    "<br>\n",
    "• To search for more than one value, use an array with the specified values.\n",
    "</div>"
   ]
  },
  {
   "cell_type": "code",
   "execution_count": 86,
   "id": "34169ef2",
   "metadata": {
    "execution": {
     "iopub.execute_input": "2024-07-23T08:59:17.317398Z",
     "iopub.status.busy": "2024-07-23T08:59:17.316804Z",
     "iopub.status.idle": "2024-07-23T08:59:17.322862Z",
     "shell.execute_reply": "2024-07-23T08:59:17.321864Z"
    },
    "papermill": {
     "duration": 0.061348,
     "end_time": "2024-07-23T08:59:17.325064",
     "exception": false,
     "start_time": "2024-07-23T08:59:17.263716",
     "status": "completed"
    },
    "tags": []
   },
   "outputs": [
    {
     "name": "stdout",
     "output_type": "stream",
     "text": [
      "[1 2 3]\n"
     ]
    }
   ],
   "source": [
    "#Find the indexes where the values 2, 4, and 6 should be inserted\n",
    "arr = np.array([1, 3, 5, 7])\n",
    "x = np.searchsorted(arr, [2, 4, 6])\n",
    "print(x)"
   ]
  },
  {
   "cell_type": "markdown",
   "id": "d287ea11",
   "metadata": {
    "papermill": {
     "duration": 0.049788,
     "end_time": "2024-07-23T08:59:17.425677",
     "exception": false,
     "start_time": "2024-07-23T08:59:17.375889",
     "status": "completed"
    },
    "tags": []
   },
   "source": [
    "<div style=\"background-color:gainsboro; padding:8px; border:2px dotted black; border-radius:8px; font-family:verdana; line-height: 1.7em\">\n",
    "<strong>Non Zero Elements</strong>\n",
    "<br>\n",
    "• The NumPy nonzero() method finds the indices of array elements that are not zero.\n",
    "</div>"
   ]
  },
  {
   "cell_type": "code",
   "execution_count": 87,
   "id": "8049857c",
   "metadata": {
    "execution": {
     "iopub.execute_input": "2024-07-23T08:59:17.527421Z",
     "iopub.status.busy": "2024-07-23T08:59:17.527038Z",
     "iopub.status.idle": "2024-07-23T08:59:17.533570Z",
     "shell.execute_reply": "2024-07-23T08:59:17.532518Z"
    },
    "papermill": {
     "duration": 0.060297,
     "end_time": "2024-07-23T08:59:17.535844",
     "exception": false,
     "start_time": "2024-07-23T08:59:17.475547",
     "status": "completed"
    },
    "tags": []
   },
   "outputs": [
    {
     "name": "stdout",
     "output_type": "stream",
     "text": [
      "(array([0, 3, 4]),)\n"
     ]
    }
   ],
   "source": [
    "arr = np.array([1, 0, 0, 4, -5])\n",
    "non_zero_arr = np.nonzero(arr)\n",
    "print(non_zero_arr)"
   ]
  },
  {
   "cell_type": "markdown",
   "id": "1ac6d4bf",
   "metadata": {
    "papermill": {
     "duration": 0.049578,
     "end_time": "2024-07-23T08:59:17.635408",
     "exception": false,
     "start_time": "2024-07-23T08:59:17.585830",
     "status": "completed"
    },
    "tags": []
   },
   "source": [
    "<div style=\"background-color:gainsboro; padding:8px; border:2px dotted black; border-radius:8px; font-family:verdana; line-height: 1.7em\">\n",
    "<strong>Elements wise Searching</strong>\n",
    "<br>\n",
    "• The argmax() method returns the index of the largest element of an array.\n",
    "<br>\n",
    "• Similarly, argmin() method returns the index of the smallest element of an array.\n",
    "</div>"
   ]
  },
  {
   "cell_type": "code",
   "execution_count": 88,
   "id": "6aa4ffa4",
   "metadata": {
    "execution": {
     "iopub.execute_input": "2024-07-23T08:59:17.736931Z",
     "iopub.status.busy": "2024-07-23T08:59:17.736497Z",
     "iopub.status.idle": "2024-07-23T08:59:17.744427Z",
     "shell.execute_reply": "2024-07-23T08:59:17.743061Z"
    },
    "papermill": {
     "duration": 0.06179,
     "end_time": "2024-07-23T08:59:17.746923",
     "exception": false,
     "start_time": "2024-07-23T08:59:17.685133",
     "status": "completed"
    },
    "tags": []
   },
   "outputs": [
    {
     "name": "stdout",
     "output_type": "stream",
     "text": [
      "Index of largest element : 4\n",
      "Index of smallest element : 1\n"
     ]
    }
   ],
   "source": [
    "arr = np.array([71,4,7,65,91,12,8])\n",
    "print(\"Index of largest element :\", np.argmax(arr))\n",
    "print(\"Index of smallest element :\", np.argmin(arr))"
   ]
  },
  {
   "cell_type": "markdown",
   "id": "6827d7e5",
   "metadata": {
    "papermill": {
     "duration": 0.051741,
     "end_time": "2024-07-23T08:59:17.852497",
     "exception": false,
     "start_time": "2024-07-23T08:59:17.800756",
     "status": "completed"
    },
    "tags": []
   },
   "source": [
    "<div style=\"background-color:gainsboro; padding:8px; border:2px dotted black; border-radius:8px; font-family:verdana; line-height: 1.7em\">\n",
    "<font color='#6a66bd' size=\"5px\">NumPy Sorting Arrays</font>\n",
    "<br>\n",
    "<br>\n",
    "<strong>Sorting Arrays</strong>\n",
    "<br>\n",
    "• Sorting means putting elements in an ordered sequence.\n",
    "<br>\n",
    "• Ordered sequence is any sequence that has an order corresponding to elements, like numeric or alphabetical, ascending or descending.\n",
    "<br>\n",
    "• The NumPy ndarray object has a function called sort() that will sort a specified array.\n",
    "<div style=\"background-color:#ADD8E6; padding:8px; border:1px solid #87CEEB; border-radius:4px;\">\n",
    "<strong>Note :</strong> This method returns a copy of the array leaving the original array unchanged.\n",
    "</div>"
   ]
  },
  {
   "cell_type": "code",
   "execution_count": 89,
   "id": "043ee8ba",
   "metadata": {
    "execution": {
     "iopub.execute_input": "2024-07-23T08:59:17.958904Z",
     "iopub.status.busy": "2024-07-23T08:59:17.958502Z",
     "iopub.status.idle": "2024-07-23T08:59:17.964901Z",
     "shell.execute_reply": "2024-07-23T08:59:17.963732Z"
    },
    "papermill": {
     "duration": 0.063115,
     "end_time": "2024-07-23T08:59:17.967519",
     "exception": false,
     "start_time": "2024-07-23T08:59:17.904404",
     "status": "completed"
    },
    "tags": []
   },
   "outputs": [
    {
     "name": "stdout",
     "output_type": "stream",
     "text": [
      "[0 1 2 3]\n"
     ]
    }
   ],
   "source": [
    "arr = np.array([3, 2, 0, 1])\n",
    "print(np.sort(arr))"
   ]
  },
  {
   "cell_type": "markdown",
   "id": "2083c6d1",
   "metadata": {
    "papermill": {
     "duration": 0.05351,
     "end_time": "2024-07-23T08:59:18.074158",
     "exception": false,
     "start_time": "2024-07-23T08:59:18.020648",
     "status": "completed"
    },
    "tags": []
   },
   "source": [
    "<div style=\"background-color:gainsboro; padding:8px; border:2px dotted black; border-radius:8px; font-family:verdana; line-height: 1.7em\">\n",
    "• You can also sort arrays of strings or any other data type.\n",
    "</div>"
   ]
  },
  {
   "cell_type": "code",
   "execution_count": 90,
   "id": "2bc082c9",
   "metadata": {
    "execution": {
     "iopub.execute_input": "2024-07-23T08:59:18.184391Z",
     "iopub.status.busy": "2024-07-23T08:59:18.183513Z",
     "iopub.status.idle": "2024-07-23T08:59:18.189238Z",
     "shell.execute_reply": "2024-07-23T08:59:18.188250Z"
    },
    "papermill": {
     "duration": 0.065481,
     "end_time": "2024-07-23T08:59:18.191973",
     "exception": false,
     "start_time": "2024-07-23T08:59:18.126492",
     "status": "completed"
    },
    "tags": []
   },
   "outputs": [
    {
     "name": "stdout",
     "output_type": "stream",
     "text": [
      "['apple' 'banana' 'cherry']\n"
     ]
    }
   ],
   "source": [
    "#Sort the array alphabetically\n",
    "arr = np.array(['banana', 'cherry', 'apple'])\n",
    "print(np.sort(arr))"
   ]
  },
  {
   "cell_type": "code",
   "execution_count": 91,
   "id": "4cd65650",
   "metadata": {
    "execution": {
     "iopub.execute_input": "2024-07-23T08:59:18.364730Z",
     "iopub.status.busy": "2024-07-23T08:59:18.364370Z",
     "iopub.status.idle": "2024-07-23T08:59:18.371344Z",
     "shell.execute_reply": "2024-07-23T08:59:18.369460Z"
    },
    "papermill": {
     "duration": 0.062895,
     "end_time": "2024-07-23T08:59:18.373962",
     "exception": false,
     "start_time": "2024-07-23T08:59:18.311067",
     "status": "completed"
    },
    "tags": []
   },
   "outputs": [
    {
     "name": "stdout",
     "output_type": "stream",
     "text": [
      "[False  True  True]\n"
     ]
    }
   ],
   "source": [
    "#Sort a boolean array\n",
    "arr = np.array([True, False, True])\n",
    "print(np.sort(arr))"
   ]
  },
  {
   "cell_type": "markdown",
   "id": "8ebedc2e",
   "metadata": {
    "papermill": {
     "duration": 0.055031,
     "end_time": "2024-07-23T08:59:18.481933",
     "exception": false,
     "start_time": "2024-07-23T08:59:18.426902",
     "status": "completed"
    },
    "tags": []
   },
   "source": [
    "<div style=\"background-color:gainsboro; padding:8px; border:2px dotted black; border-radius:8px; font-family:verdana; line-height: 1.7em\">\n",
    "<strong>Sorting a 2-D Array</strong>\n",
    "<br>\n",
    "• If you use the sort() method on a 2-D array both arrays will be sorted.\n",
    "</div>"
   ]
  },
  {
   "cell_type": "code",
   "execution_count": 92,
   "id": "a61858ad",
   "metadata": {
    "execution": {
     "iopub.execute_input": "2024-07-23T08:59:18.590737Z",
     "iopub.status.busy": "2024-07-23T08:59:18.589696Z",
     "iopub.status.idle": "2024-07-23T08:59:18.595995Z",
     "shell.execute_reply": "2024-07-23T08:59:18.595009Z"
    },
    "papermill": {
     "duration": 0.062228,
     "end_time": "2024-07-23T08:59:18.598131",
     "exception": false,
     "start_time": "2024-07-23T08:59:18.535903",
     "status": "completed"
    },
    "tags": []
   },
   "outputs": [
    {
     "name": "stdout",
     "output_type": "stream",
     "text": [
      "[[2 3 4]\n",
      " [0 1 5]]\n"
     ]
    }
   ],
   "source": [
    "arr = np.array([[3, 2, 4], [5, 0, 1]])\n",
    "print(np.sort(arr))"
   ]
  },
  {
   "cell_type": "markdown",
   "id": "312320b7",
   "metadata": {
    "papermill": {
     "duration": 0.052047,
     "end_time": "2024-07-23T08:59:18.702768",
     "exception": false,
     "start_time": "2024-07-23T08:59:18.650721",
     "status": "completed"
    },
    "tags": []
   },
   "source": [
    "<div style=\"background-color:gainsboro; padding:8px; border:2px dotted black; border-radius:8px; font-family:verdana; line-height: 1.7em\">\n",
    "<strong>Elements wise Sorting</strong>\n",
    "<br>\n",
    "• The argsort() method in NumPy sorts the array elements in ascending order and returns indices of the sorted elements.\n",
    "</div>"
   ]
  },
  {
   "cell_type": "code",
   "execution_count": 93,
   "id": "f188e795",
   "metadata": {
    "execution": {
     "iopub.execute_input": "2024-07-23T08:59:18.812281Z",
     "iopub.status.busy": "2024-07-23T08:59:18.811223Z",
     "iopub.status.idle": "2024-07-23T08:59:18.817473Z",
     "shell.execute_reply": "2024-07-23T08:59:18.816514Z"
    },
    "papermill": {
     "duration": 0.063007,
     "end_time": "2024-07-23T08:59:18.819947",
     "exception": false,
     "start_time": "2024-07-23T08:59:18.756940",
     "status": "completed"
    },
    "tags": []
   },
   "outputs": [
    {
     "name": "stdout",
     "output_type": "stream",
     "text": [
      "Sorted Array : [-1  2  9 10]\n",
      "Sorted Index : [3 1 2 0]\n"
     ]
    }
   ],
   "source": [
    "arr = np.array([10, 2, 9, -1])\n",
    "arg_sort = np.argsort(arr)\n",
    "print(\"Sorted Array :\", arr[arg_sort])\n",
    "print(\"Sorted Index :\", arg_sort)"
   ]
  },
  {
   "cell_type": "markdown",
   "id": "cf7dc9ed",
   "metadata": {
    "papermill": {
     "duration": 0.051933,
     "end_time": "2024-07-23T08:59:18.925569",
     "exception": false,
     "start_time": "2024-07-23T08:59:18.873636",
     "status": "completed"
    },
    "tags": []
   },
   "source": [
    "<div style=\"background-color:gainsboro; padding:8px; border:2px dotted black; border-radius:8px; font-family:verdana; line-height: 1.7em\">\n",
    "<font color='#6a66bd' size=\"5px\">NumPy Matrix</font>\n",
    "<br>\n",
    "<br>\n",
    "• A matrix is a two-dimensional data structure where numbers are arranged into rows and columns.\n",
    "<br>\n",
    "• The matrix is represented as 3x4 (pronounced \"three by four\") matrix because it has 3 rows and 4 columns.\n",
    "<br>\n",
    "• Python doesn't have a built-in type for matrices. However, we can treat a list of a list as a matrix.\n",
    "<br>\n",
    "• But, NumPy has matrix() method which is used to create a matrix from a 2-D array-like object.\n",
    "</div>"
   ]
  },
  {
   "cell_type": "code",
   "execution_count": 94,
   "id": "2686ca7d",
   "metadata": {
    "execution": {
     "iopub.execute_input": "2024-07-23T08:59:19.033847Z",
     "iopub.status.busy": "2024-07-23T08:59:19.033479Z",
     "iopub.status.idle": "2024-07-23T08:59:19.040073Z",
     "shell.execute_reply": "2024-07-23T08:59:19.038935Z"
    },
    "papermill": {
     "duration": 0.062732,
     "end_time": "2024-07-23T08:59:19.042429",
     "exception": false,
     "start_time": "2024-07-23T08:59:18.979697",
     "status": "completed"
    },
    "tags": []
   },
   "outputs": [
    {
     "name": "stdout",
     "output_type": "stream",
     "text": [
      "[[1 2 3]\n",
      " [4 5 6]\n",
      " [7 8 9]]\n",
      "3\n"
     ]
    }
   ],
   "source": [
    "#Creating a matrix from 2D array\n",
    "arr = np.array([[1,2,3],[4,5,6],[7,8,9]])\n",
    "matrix_arr = np.matrix(arr)\n",
    "\n",
    "print(matrix_arr)\n",
    "\n",
    "#Accessing elements of a matrix\n",
    "print(matrix_arr[0,2])"
   ]
  },
  {
   "cell_type": "markdown",
   "id": "71ba0218",
   "metadata": {
    "papermill": {
     "duration": 0.05194,
     "end_time": "2024-07-23T08:59:19.147010",
     "exception": false,
     "start_time": "2024-07-23T08:59:19.095070",
     "status": "completed"
    },
    "tags": []
   },
   "source": [
    "<div style=\"background-color:gainsboro; padding:8px; border:2px dotted black; border-radius:8px; font-family:verdana; line-height: 1.7em\">\n",
    "<strong>Matrix Operation</strong>\n",
    "<br>\n",
    "• The determinant of a matrix is a scalar value that provides information about the properties and behavior of the matrix.\n",
    "<br>\n",
    "• The np.linalg.det() function is used to compute the determinant of a square matrix.\n",
    "</div>"
   ]
  },
  {
   "cell_type": "code",
   "execution_count": 95,
   "id": "10361e08",
   "metadata": {
    "execution": {
     "iopub.execute_input": "2024-07-23T08:59:19.257193Z",
     "iopub.status.busy": "2024-07-23T08:59:19.255990Z",
     "iopub.status.idle": "2024-07-23T08:59:19.263249Z",
     "shell.execute_reply": "2024-07-23T08:59:19.262171Z"
    },
    "papermill": {
     "duration": 0.063585,
     "end_time": "2024-07-23T08:59:19.265574",
     "exception": false,
     "start_time": "2024-07-23T08:59:19.201989",
     "status": "completed"
    },
    "tags": []
   },
   "outputs": [
    {
     "name": "stdout",
     "output_type": "stream",
     "text": [
      "0.0\n"
     ]
    }
   ],
   "source": [
    "arr = np.array([[1,2,3],[4,5,6],[7,8,9]])\n",
    "matrix_arr = np.matrix(arr)\n",
    "\n",
    "det_arr = np.linalg.det(matrix_arr)\n",
    "\n",
    "print(det_arr)"
   ]
  },
  {
   "cell_type": "markdown",
   "id": "a8bef015",
   "metadata": {
    "papermill": {
     "duration": 0.052001,
     "end_time": "2024-07-23T08:59:19.373595",
     "exception": false,
     "start_time": "2024-07-23T08:59:19.321594",
     "status": "completed"
    },
    "tags": []
   },
   "source": [
    "<div style=\"background-color:gainsboro; padding:8px; border:2px dotted black; border-radius:8px; font-family:verdana; line-height: 1.7em\">\n",
    "• The matmul() method is used to perform matrix multiplication in NumPy.\n",
    "</div>"
   ]
  },
  {
   "cell_type": "code",
   "execution_count": 96,
   "id": "550ed629",
   "metadata": {
    "execution": {
     "iopub.execute_input": "2024-07-23T08:59:19.484068Z",
     "iopub.status.busy": "2024-07-23T08:59:19.483487Z",
     "iopub.status.idle": "2024-07-23T08:59:19.491625Z",
     "shell.execute_reply": "2024-07-23T08:59:19.490330Z"
    },
    "papermill": {
     "duration": 0.068476,
     "end_time": "2024-07-23T08:59:19.494792",
     "exception": false,
     "start_time": "2024-07-23T08:59:19.426316",
     "status": "completed"
    },
    "tags": []
   },
   "outputs": [
    {
     "name": "stdout",
     "output_type": "stream",
     "text": [
      "[[19 22]\n",
      " [43 50]]\n"
     ]
    }
   ],
   "source": [
    "arr1 = np.array([[1,2],[3,4]])\n",
    "arr2 = np.array([[5,6],[7,8]])\n",
    "\n",
    "matrix1 = np.matrix(arr1)\n",
    "matrix2 = np.matrix(arr2)\n",
    "\n",
    "arr_multi = np.matmul(matrix1, matrix2)\n",
    "print(arr_multi)"
   ]
  },
  {
   "cell_type": "markdown",
   "id": "514d06f1",
   "metadata": {
    "papermill": {
     "duration": 0.055969,
     "end_time": "2024-07-23T08:59:19.605264",
     "exception": false,
     "start_time": "2024-07-23T08:59:19.549295",
     "status": "completed"
    },
    "tags": []
   },
   "source": [
    "<div style=\"background-color:gainsboro; padding:8px; border:2px dotted black; border-radius:8px; font-family:verdana; line-height: 1.7em\">\n",
    "• The np.trace() function is used to return the sum of the diagonals of the matrix.\n",
    "</div>"
   ]
  },
  {
   "cell_type": "code",
   "execution_count": 97,
   "id": "b87cdbee",
   "metadata": {
    "execution": {
     "iopub.execute_input": "2024-07-23T08:59:19.715871Z",
     "iopub.status.busy": "2024-07-23T08:59:19.715498Z",
     "iopub.status.idle": "2024-07-23T08:59:19.722002Z",
     "shell.execute_reply": "2024-07-23T08:59:19.720821Z"
    },
    "papermill": {
     "duration": 0.062196,
     "end_time": "2024-07-23T08:59:19.724420",
     "exception": false,
     "start_time": "2024-07-23T08:59:19.662224",
     "status": "completed"
    },
    "tags": []
   },
   "outputs": [
    {
     "name": "stdout",
     "output_type": "stream",
     "text": [
      "[[1 2]\n",
      " [3 4]]\n",
      "5\n"
     ]
    }
   ],
   "source": [
    "arr = np.array([[1,2],[3,4]])\n",
    "matrix = np.matrix(arr)\n",
    "\n",
    "result = np.trace(matrix)\n",
    "\n",
    "print(matrix)\n",
    "print(result)  "
   ]
  },
  {
   "cell_type": "markdown",
   "id": "4ad6bf5c",
   "metadata": {
    "papermill": {
     "duration": 0.050904,
     "end_time": "2024-07-23T08:59:19.825947",
     "exception": false,
     "start_time": "2024-07-23T08:59:19.775043",
     "status": "completed"
    },
    "tags": []
   },
   "source": [
    "<div style=\"background-color:gainsboro; padding:8px; border:2px dotted black; border-radius:8px; font-family:verdana; line-height: 1.7em\">\n",
    "<strong>Transpose an Aarray</strong>\n",
    "<br>\n",
    "• The np.transpose() method swaps the axes of the given array similar to the transpose of a matrix in mathematics. \n",
    "<br>\n",
    "• In the case of arrays with more than two dimensions, np.transpose() permutes the axes based on the given argument.\n",
    "</div>"
   ]
  },
  {
   "cell_type": "code",
   "execution_count": 98,
   "id": "699f0388",
   "metadata": {
    "execution": {
     "iopub.execute_input": "2024-07-23T08:59:19.931936Z",
     "iopub.status.busy": "2024-07-23T08:59:19.931039Z",
     "iopub.status.idle": "2024-07-23T08:59:19.939319Z",
     "shell.execute_reply": "2024-07-23T08:59:19.938217Z"
    },
    "papermill": {
     "duration": 0.063836,
     "end_time": "2024-07-23T08:59:19.941479",
     "exception": false,
     "start_time": "2024-07-23T08:59:19.877643",
     "status": "completed"
    },
    "tags": []
   },
   "outputs": [
    {
     "name": "stdout",
     "output_type": "stream",
     "text": [
      "Array before Transpose : [[1 2 3]\n",
      " [4 5 6]\n",
      " [7 8 9]]\n",
      "Array after Transpose : [[1 4 7]\n",
      " [2 5 8]\n",
      " [3 6 9]]\n"
     ]
    }
   ],
   "source": [
    "#By using transpose() function\n",
    "arr = np.array([[1,2,3],[4,5,6],[7,8,9]])\n",
    "matrix_arr = np.matrix(arr)\n",
    "\n",
    "trans_arr = np.transpose(matrix_arr)\n",
    "\n",
    "print(\"Array before Transpose :\", arr)\n",
    "print(\"Array after Transpose :\", trans_arr)"
   ]
  },
  {
   "cell_type": "code",
   "execution_count": 99,
   "id": "ed95a330",
   "metadata": {
    "execution": {
     "iopub.execute_input": "2024-07-23T08:59:20.046013Z",
     "iopub.status.busy": "2024-07-23T08:59:20.045591Z",
     "iopub.status.idle": "2024-07-23T08:59:20.052905Z",
     "shell.execute_reply": "2024-07-23T08:59:20.051808Z"
    },
    "papermill": {
     "duration": 0.062291,
     "end_time": "2024-07-23T08:59:20.055654",
     "exception": false,
     "start_time": "2024-07-23T08:59:19.993363",
     "status": "completed"
    },
    "tags": []
   },
   "outputs": [
    {
     "name": "stdout",
     "output_type": "stream",
     "text": [
      "Array before Transpose : [[1 2 3]\n",
      " [4 5 6]\n",
      " [7 8 9]]\n",
      "Array after Transpose : [[1 4 7]\n",
      " [2 5 8]\n",
      " [3 6 9]]\n"
     ]
    }
   ],
   "source": [
    "#By using T function\n",
    "arr = np.array([[1,2,3],[4,5,6],[7,8,9]])\n",
    "matrix_arr = np.matrix(arr)\n",
    "\n",
    "trans_arr = matrix_arr.T\n",
    "\n",
    "print(\"Array before Transpose :\", arr)\n",
    "print(\"Array after Transpose :\", trans_arr)"
   ]
  },
  {
   "cell_type": "markdown",
   "id": "79b29dbc",
   "metadata": {
    "papermill": {
     "duration": 0.051039,
     "end_time": "2024-07-23T08:59:20.157383",
     "exception": false,
     "start_time": "2024-07-23T08:59:20.106344",
     "status": "completed"
    },
    "tags": []
   },
   "source": [
    "<div style=\"background-color:gainsboro; padding:8px; border:2px dotted black; border-radius:8px; font-family:verdana; line-height: 1.7em\">\n",
    "<font color='#6a66bd' size=\"5px\">NumPy Aggregation Functions</font>\n",
    "<br>\n",
    "<br>\n",
    "• NumPy also performs aggregation functions. \n",
    "<br>\n",
    "• In addition to min, max and sum, you can easily run mean to get the average, prod to get the result of multiplying the elements together, std to get the standard deviation and more.\n",
    "<div style=\"background-color:#ADD8E6; padding:8px; border:1px solid #87CEEB; border-radius:4px;\">\n",
    "<strong>Note :</strong> You can add axis() parameter to any function listed below.\n",
    "</div>\n",
    "<div style=\"background-color:#ADD8E6; padding:8px; border:1px solid #87CEEB; border-radius:4px;\">\n",
    "<strong>Note :</strong> Remember to add axis() only for 2D or above array.\n",
    "</div>\n",
    "</div>"
   ]
  },
  {
   "cell_type": "code",
   "execution_count": 100,
   "id": "452a7bda",
   "metadata": {
    "execution": {
     "iopub.execute_input": "2024-07-23T08:59:20.263298Z",
     "iopub.status.busy": "2024-07-23T08:59:20.262389Z",
     "iopub.status.idle": "2024-07-23T08:59:20.268769Z",
     "shell.execute_reply": "2024-07-23T08:59:20.267454Z"
    },
    "papermill": {
     "duration": 0.061284,
     "end_time": "2024-07-23T08:59:20.271160",
     "exception": false,
     "start_time": "2024-07-23T08:59:20.209876",
     "status": "completed"
    },
    "tags": []
   },
   "outputs": [
    {
     "name": "stdout",
     "output_type": "stream",
     "text": [
      "1\n"
     ]
    }
   ],
   "source": [
    "#Min() Function\n",
    "arr = np.array([1,2,3,4,5,6])\n",
    "print(np.min(arr))"
   ]
  },
  {
   "cell_type": "code",
   "execution_count": 101,
   "id": "49bc1281",
   "metadata": {
    "execution": {
     "iopub.execute_input": "2024-07-23T08:59:20.378472Z",
     "iopub.status.busy": "2024-07-23T08:59:20.377345Z",
     "iopub.status.idle": "2024-07-23T08:59:20.383664Z",
     "shell.execute_reply": "2024-07-23T08:59:20.382640Z"
    },
    "papermill": {
     "duration": 0.061883,
     "end_time": "2024-07-23T08:59:20.386288",
     "exception": false,
     "start_time": "2024-07-23T08:59:20.324405",
     "status": "completed"
    },
    "tags": []
   },
   "outputs": [
    {
     "name": "stdout",
     "output_type": "stream",
     "text": [
      "6\n"
     ]
    }
   ],
   "source": [
    "#Max() Function\n",
    "arr = np.array([1,2,3,4,5,6])\n",
    "print(np.max(arr))"
   ]
  },
  {
   "cell_type": "code",
   "execution_count": 102,
   "id": "dcf2086d",
   "metadata": {
    "execution": {
     "iopub.execute_input": "2024-07-23T08:59:20.493251Z",
     "iopub.status.busy": "2024-07-23T08:59:20.492791Z",
     "iopub.status.idle": "2024-07-23T08:59:20.499026Z",
     "shell.execute_reply": "2024-07-23T08:59:20.497974Z"
    },
    "papermill": {
     "duration": 0.062007,
     "end_time": "2024-07-23T08:59:20.501334",
     "exception": false,
     "start_time": "2024-07-23T08:59:20.439327",
     "status": "completed"
    },
    "tags": []
   },
   "outputs": [
    {
     "name": "stdout",
     "output_type": "stream",
     "text": [
      "21\n"
     ]
    }
   ],
   "source": [
    "#Sum() Function\n",
    "arr = np.array([1,2,3,4,5,6])\n",
    "print(np.sum(arr))"
   ]
  },
  {
   "cell_type": "code",
   "execution_count": 103,
   "id": "a5c4deae",
   "metadata": {
    "execution": {
     "iopub.execute_input": "2024-07-23T08:59:20.609158Z",
     "iopub.status.busy": "2024-07-23T08:59:20.608052Z",
     "iopub.status.idle": "2024-07-23T08:59:20.614625Z",
     "shell.execute_reply": "2024-07-23T08:59:20.613410Z"
    },
    "papermill": {
     "duration": 0.06304,
     "end_time": "2024-07-23T08:59:20.616983",
     "exception": false,
     "start_time": "2024-07-23T08:59:20.553943",
     "status": "completed"
    },
    "tags": []
   },
   "outputs": [
    {
     "name": "stdout",
     "output_type": "stream",
     "text": [
      "720\n"
     ]
    }
   ],
   "source": [
    "#Prod() Function\n",
    "arr = np.array([1,2,3,4,5,6])\n",
    "print(np.prod(arr))"
   ]
  },
  {
   "cell_type": "code",
   "execution_count": 104,
   "id": "043aedb6",
   "metadata": {
    "execution": {
     "iopub.execute_input": "2024-07-23T08:59:20.722168Z",
     "iopub.status.busy": "2024-07-23T08:59:20.721744Z",
     "iopub.status.idle": "2024-07-23T08:59:20.728312Z",
     "shell.execute_reply": "2024-07-23T08:59:20.727170Z"
    },
    "papermill": {
     "duration": 0.061768,
     "end_time": "2024-07-23T08:59:20.730468",
     "exception": false,
     "start_time": "2024-07-23T08:59:20.668700",
     "status": "completed"
    },
    "tags": []
   },
   "outputs": [
    {
     "name": "stdout",
     "output_type": "stream",
     "text": [
      "3.5\n"
     ]
    }
   ],
   "source": [
    "#Mean() Function\n",
    "arr = np.array([1,2,3,4,5,6])\n",
    "print(np.mean(arr))"
   ]
  },
  {
   "cell_type": "code",
   "execution_count": 105,
   "id": "ee4e562d",
   "metadata": {
    "execution": {
     "iopub.execute_input": "2024-07-23T08:59:20.834947Z",
     "iopub.status.busy": "2024-07-23T08:59:20.834037Z",
     "iopub.status.idle": "2024-07-23T08:59:20.841665Z",
     "shell.execute_reply": "2024-07-23T08:59:20.840102Z"
    },
    "papermill": {
     "duration": 0.062727,
     "end_time": "2024-07-23T08:59:20.844268",
     "exception": false,
     "start_time": "2024-07-23T08:59:20.781541",
     "status": "completed"
    },
    "tags": []
   },
   "outputs": [
    {
     "name": "stdout",
     "output_type": "stream",
     "text": [
      "3.5\n"
     ]
    }
   ],
   "source": [
    "#Median() Function\n",
    "arr = np.array([1,2,3,4,5,6])\n",
    "print(np.median(arr))"
   ]
  },
  {
   "cell_type": "code",
   "execution_count": 106,
   "id": "b53508c9",
   "metadata": {
    "execution": {
     "iopub.execute_input": "2024-07-23T08:59:20.949420Z",
     "iopub.status.busy": "2024-07-23T08:59:20.949023Z",
     "iopub.status.idle": "2024-07-23T08:59:20.956133Z",
     "shell.execute_reply": "2024-07-23T08:59:20.954729Z"
    },
    "papermill": {
     "duration": 0.062742,
     "end_time": "2024-07-23T08:59:20.958751",
     "exception": false,
     "start_time": "2024-07-23T08:59:20.896009",
     "status": "completed"
    },
    "tags": []
   },
   "outputs": [
    {
     "name": "stdout",
     "output_type": "stream",
     "text": [
      "2.25\n"
     ]
    }
   ],
   "source": [
    "#Percentile() Function\n",
    "arr = np.array([1,2,3,4,5,6])\n",
    "print(np.percentile(arr, 25))"
   ]
  },
  {
   "cell_type": "code",
   "execution_count": 107,
   "id": "ebc3c1d0",
   "metadata": {
    "execution": {
     "iopub.execute_input": "2024-07-23T08:59:21.073758Z",
     "iopub.status.busy": "2024-07-23T08:59:21.073333Z",
     "iopub.status.idle": "2024-07-23T08:59:21.080832Z",
     "shell.execute_reply": "2024-07-23T08:59:21.079519Z"
    },
    "papermill": {
     "duration": 0.067923,
     "end_time": "2024-07-23T08:59:21.083118",
     "exception": false,
     "start_time": "2024-07-23T08:59:21.015195",
     "status": "completed"
    },
    "tags": []
   },
   "outputs": [
    {
     "name": "stdout",
     "output_type": "stream",
     "text": [
      "4.75\n"
     ]
    }
   ],
   "source": [
    "#Quantile() Method\n",
    "arr = np.array([1,2,3,4,5,6])\n",
    "print(np.quantile(arr, 0.75))"
   ]
  },
  {
   "cell_type": "code",
   "execution_count": 108,
   "id": "09569c76",
   "metadata": {
    "execution": {
     "iopub.execute_input": "2024-07-23T08:59:21.189034Z",
     "iopub.status.busy": "2024-07-23T08:59:21.188618Z",
     "iopub.status.idle": "2024-07-23T08:59:21.195342Z",
     "shell.execute_reply": "2024-07-23T08:59:21.193884Z"
    },
    "papermill": {
     "duration": 0.062599,
     "end_time": "2024-07-23T08:59:21.197510",
     "exception": false,
     "start_time": "2024-07-23T08:59:21.134911",
     "status": "completed"
    },
    "tags": []
   },
   "outputs": [
    {
     "name": "stdout",
     "output_type": "stream",
     "text": [
      "2.9166666666666665\n"
     ]
    }
   ],
   "source": [
    "#Var() Function\n",
    "arr = np.array([1,2,3,4,5,6])\n",
    "print(np.var(arr))"
   ]
  },
  {
   "cell_type": "code",
   "execution_count": 109,
   "id": "37ded7be",
   "metadata": {
    "execution": {
     "iopub.execute_input": "2024-07-23T08:59:21.306265Z",
     "iopub.status.busy": "2024-07-23T08:59:21.305857Z",
     "iopub.status.idle": "2024-07-23T08:59:21.316027Z",
     "shell.execute_reply": "2024-07-23T08:59:21.312969Z"
    },
    "papermill": {
     "duration": 0.070087,
     "end_time": "2024-07-23T08:59:21.319646",
     "exception": false,
     "start_time": "2024-07-23T08:59:21.249559",
     "status": "completed"
    },
    "tags": []
   },
   "outputs": [
    {
     "name": "stdout",
     "output_type": "stream",
     "text": [
      "1.707825127659933\n"
     ]
    }
   ],
   "source": [
    "#Std() Function\n",
    "arr = np.array([1,2,3,4,5,6])\n",
    "print(np.std(arr))"
   ]
  },
  {
   "cell_type": "code",
   "execution_count": 110,
   "id": "6b04031d",
   "metadata": {
    "execution": {
     "iopub.execute_input": "2024-07-23T08:59:21.430919Z",
     "iopub.status.busy": "2024-07-23T08:59:21.430569Z",
     "iopub.status.idle": "2024-07-23T08:59:21.437269Z",
     "shell.execute_reply": "2024-07-23T08:59:21.435973Z"
    },
    "papermill": {
     "duration": 0.063888,
     "end_time": "2024-07-23T08:59:21.439534",
     "exception": false,
     "start_time": "2024-07-23T08:59:21.375646",
     "status": "completed"
    },
    "tags": []
   },
   "outputs": [
    {
     "name": "stdout",
     "output_type": "stream",
     "text": [
      "[1.         1.41421356 1.73205081 2.         2.23606798 2.44948974]\n"
     ]
    }
   ],
   "source": [
    "#Sqrt() Function\n",
    "arr = np.array([1,2,3,4,5,6])\n",
    "print(np.sqrt(arr))"
   ]
  },
  {
   "cell_type": "code",
   "execution_count": 111,
   "id": "a8284df9",
   "metadata": {
    "execution": {
     "iopub.execute_input": "2024-07-23T08:59:21.547596Z",
     "iopub.status.busy": "2024-07-23T08:59:21.546784Z",
     "iopub.status.idle": "2024-07-23T08:59:21.553251Z",
     "shell.execute_reply": "2024-07-23T08:59:21.552131Z"
    },
    "papermill": {
     "duration": 0.064539,
     "end_time": "2024-07-23T08:59:21.555945",
     "exception": false,
     "start_time": "2024-07-23T08:59:21.491406",
     "status": "completed"
    },
    "tags": []
   },
   "outputs": [
    {
     "name": "stdout",
     "output_type": "stream",
     "text": [
      "[ 1  4  9 16 25 36]\n"
     ]
    }
   ],
   "source": [
    "#Square() Function\n",
    "arr = np.array([1,2,3,4,5,6])\n",
    "print(np.square(arr))"
   ]
  },
  {
   "cell_type": "markdown",
   "id": "0018c558",
   "metadata": {
    "papermill": {
     "duration": 0.056446,
     "end_time": "2024-07-23T08:59:21.668069",
     "exception": false,
     "start_time": "2024-07-23T08:59:21.611623",
     "status": "completed"
    },
    "tags": []
   },
   "source": [
    "<div style=\"background-color:gainsboro; padding:8px; border:2px dotted black; border-radius:8px; font-family:verdana; line-height: 1.7em\">\n",
    "• The np.nanmean() method computes the arithmetic mean along the specified axis and ignores the NaNs (Not a Number).\n",
    "<br>\n",
    "• Computing Mean of an array having NaN Values in it, results in NaN as output. \n",
    "<br>\n",
    "• But nanmean() function ignores NaN Values whie computing mean and provide the result.\n",
    "</div>"
   ]
  },
  {
   "cell_type": "code",
   "execution_count": 112,
   "id": "d96b3f34",
   "metadata": {
    "execution": {
     "iopub.execute_input": "2024-07-23T08:59:21.777950Z",
     "iopub.status.busy": "2024-07-23T08:59:21.777582Z",
     "iopub.status.idle": "2024-07-23T08:59:21.784780Z",
     "shell.execute_reply": "2024-07-23T08:59:21.783504Z"
    },
    "papermill": {
     "duration": 0.063724,
     "end_time": "2024-07-23T08:59:21.787347",
     "exception": false,
     "start_time": "2024-07-23T08:59:21.723623",
     "status": "completed"
    },
    "tags": []
   },
   "outputs": [
    {
     "name": "stdout",
     "output_type": "stream",
     "text": [
      "Calculating mean with mean() function : nan\n",
      "Calculating mean with nanmean() function : 3.5\n"
     ]
    }
   ],
   "source": [
    "#Nanmean() Function\n",
    "arr = np.array([0, np.nan, np.nan, 1, 2, 3, 4, 5, 6, 7])\n",
    "\n",
    "mean_arr = np.mean(arr)\n",
    "nan_mean_arr = np.nanmean(arr)\n",
    "\n",
    "print(\"Calculating mean with mean() function :\", mean_arr)\n",
    "print(\"Calculating mean with nanmean() function :\", nan_mean_arr)"
   ]
  },
  {
   "cell_type": "markdown",
   "id": "f71f9ee3",
   "metadata": {
    "papermill": {
     "duration": 0.054579,
     "end_time": "2024-07-23T08:59:21.896326",
     "exception": false,
     "start_time": "2024-07-23T08:59:21.841747",
     "status": "completed"
    },
    "tags": []
   },
   "source": [
    "<div style=\"background-color:gainsboro; padding:8px; border:2px dotted black; border-radius:8px; font-family:verdana; line-height: 1.7em\">\n",
    "<font color='#6a66bd' size=\"5px\">NumPy ufuncs</font>\n",
    "<br>\n",
    "<br>\n",
    "<strong>What are ufuncs?</strong>\n",
    "<br>\n",
    "• ufuncs stands for \"Universal Functions\" and they are NumPy functions that operate on the ndarray object.\n",
    "<br>\n",
    "<br>\n",
    "<strong>Why use ufuncs?</strong>\n",
    "<br>\n",
    "• ufuncs are used to implement vectorization in NumPy which is way faster than iterating over elements.\n",
    "<br>\n",
    "• They also provide broadcasting and additional methods like reduce, accumulate etc. that are very helpful for computation.\n",
    "<br>\n",
    "<br>\n",
    "<strong>Add the Elements of Two Lists</strong>\n",
    "<br>\n",
    "→ list 1: [1, 2, 3, 4]\n",
    "<br>\n",
    "→ list 2: [4, 5, 6, 7]\n",
    "</div>"
   ]
  },
  {
   "cell_type": "code",
   "execution_count": 113,
   "id": "285d389a",
   "metadata": {
    "execution": {
     "iopub.execute_input": "2024-07-23T08:59:22.010544Z",
     "iopub.status.busy": "2024-07-23T08:59:22.010134Z",
     "iopub.status.idle": "2024-07-23T08:59:22.016816Z",
     "shell.execute_reply": "2024-07-23T08:59:22.015659Z"
    },
    "papermill": {
     "duration": 0.06698,
     "end_time": "2024-07-23T08:59:22.019569",
     "exception": false,
     "start_time": "2024-07-23T08:59:21.952589",
     "status": "completed"
    },
    "tags": []
   },
   "outputs": [
    {
     "name": "stdout",
     "output_type": "stream",
     "text": [
      "[5, 7, 9, 11]\n"
     ]
    }
   ],
   "source": [
    "#Without ufunc, we can use Python's built-in zip() method\n",
    "x = [1, 2, 3, 4]\n",
    "y = [4, 5, 6, 7]\n",
    "z = []\n",
    "\n",
    "for i, j in zip(x, y):\n",
    "  z.append(i + j)\n",
    "print(z)"
   ]
  },
  {
   "cell_type": "code",
   "execution_count": 114,
   "id": "34543acf",
   "metadata": {
    "execution": {
     "iopub.execute_input": "2024-07-23T08:59:22.128014Z",
     "iopub.status.busy": "2024-07-23T08:59:22.127590Z",
     "iopub.status.idle": "2024-07-23T08:59:22.134441Z",
     "shell.execute_reply": "2024-07-23T08:59:22.133134Z"
    },
    "papermill": {
     "duration": 0.063878,
     "end_time": "2024-07-23T08:59:22.137178",
     "exception": false,
     "start_time": "2024-07-23T08:59:22.073300",
     "status": "completed"
    },
    "tags": []
   },
   "outputs": [
    {
     "name": "stdout",
     "output_type": "stream",
     "text": [
      "[ 5  7  9 11]\n"
     ]
    }
   ],
   "source": [
    "#With ufunc, we can use the add() function\n",
    "x = [1, 2, 3, 4]\n",
    "y = [4, 5, 6, 7]\n",
    "\n",
    "z = np.add(x, y)\n",
    "\n",
    "print(z)"
   ]
  },
  {
   "cell_type": "markdown",
   "id": "00bd05b2",
   "metadata": {
    "papermill": {
     "duration": 0.052211,
     "end_time": "2024-07-23T08:59:22.242238",
     "exception": false,
     "start_time": "2024-07-23T08:59:22.190027",
     "status": "completed"
    },
    "tags": []
   },
   "source": [
    "<div style=\"background-color:gainsboro; padding:8px; border:2px dotted black; border-radius:8px; font-family:verdana; line-height: 1.7em\">\n",
    "<font color='#6a66bd' size=\"5px\">Simple Arithmetic</font>\n",
    "<br>\n",
    "<br>\n",
    "• You could use arithmetic operators + - * / directly between NumPy arrays.\n",
    "<br>\n",
    "• But we have functions in numpy that can take any array-like objects e.g. lists, tuples etc. and perform arithmetic conditionally.\n",
    "<br>\n",
    "<br>\n",
    "<strong>Addition</strong>\n",
    "<br>\n",
    "• The add() function sums the content of two arrays and return the results in a new array.\n",
    "</div>"
   ]
  },
  {
   "cell_type": "code",
   "execution_count": 115,
   "id": "d865e246",
   "metadata": {
    "execution": {
     "iopub.execute_input": "2024-07-23T08:59:22.350446Z",
     "iopub.status.busy": "2024-07-23T08:59:22.349836Z",
     "iopub.status.idle": "2024-07-23T08:59:22.357051Z",
     "shell.execute_reply": "2024-07-23T08:59:22.355793Z"
    },
    "papermill": {
     "duration": 0.064927,
     "end_time": "2024-07-23T08:59:22.359319",
     "exception": false,
     "start_time": "2024-07-23T08:59:22.294392",
     "status": "completed"
    },
    "tags": []
   },
   "outputs": [
    {
     "name": "stdout",
     "output_type": "stream",
     "text": [
      "[30 32 34 36 38 40]\n"
     ]
    }
   ],
   "source": [
    "#With add() function\n",
    "arr1 = np.array([10, 11, 12, 13, 14, 15])\n",
    "arr2 = np.array([20, 21, 22, 23, 24, 25])\n",
    "\n",
    "newarr = np.add(arr1, arr2)\n",
    "\n",
    "print(newarr)"
   ]
  },
  {
   "cell_type": "code",
   "execution_count": 116,
   "id": "85261764",
   "metadata": {
    "execution": {
     "iopub.execute_input": "2024-07-23T08:59:22.466224Z",
     "iopub.status.busy": "2024-07-23T08:59:22.465790Z",
     "iopub.status.idle": "2024-07-23T08:59:22.472819Z",
     "shell.execute_reply": "2024-07-23T08:59:22.471501Z"
    },
    "papermill": {
     "duration": 0.063369,
     "end_time": "2024-07-23T08:59:22.474994",
     "exception": false,
     "start_time": "2024-07-23T08:59:22.411625",
     "status": "completed"
    },
    "tags": []
   },
   "outputs": [
    {
     "name": "stdout",
     "output_type": "stream",
     "text": [
      "[30 32 34 36 38 40]\n"
     ]
    }
   ],
   "source": [
    "#Without add() function\n",
    "arr1 = np.array([10, 11, 12, 13, 14, 15])\n",
    "arr2 = np.array([20, 21, 22, 23, 24, 25])\n",
    "\n",
    "print(arr1 + arr2)"
   ]
  },
  {
   "cell_type": "markdown",
   "id": "82af00c2",
   "metadata": {
    "papermill": {
     "duration": 0.052218,
     "end_time": "2024-07-23T08:59:22.579920",
     "exception": false,
     "start_time": "2024-07-23T08:59:22.527702",
     "status": "completed"
    },
    "tags": []
   },
   "source": [
    "<div style=\"background-color:gainsboro; padding:8px; border:2px dotted black; border-radius:8px; font-family:verdana; line-height: 1.7em\">\n",
    "<strong>Subtraction</strong>\n",
    "<br>\n",
    "• The subtract() function subtracts the values from one array with the values from another array and return the results in a new array.\n",
    "</div>"
   ]
  },
  {
   "cell_type": "code",
   "execution_count": 117,
   "id": "92be7c1d",
   "metadata": {
    "execution": {
     "iopub.execute_input": "2024-07-23T08:59:22.686458Z",
     "iopub.status.busy": "2024-07-23T08:59:22.685528Z",
     "iopub.status.idle": "2024-07-23T08:59:22.692626Z",
     "shell.execute_reply": "2024-07-23T08:59:22.691226Z"
    },
    "papermill": {
     "duration": 0.0631,
     "end_time": "2024-07-23T08:59:22.695262",
     "exception": false,
     "start_time": "2024-07-23T08:59:22.632162",
     "status": "completed"
    },
    "tags": []
   },
   "outputs": [
    {
     "name": "stdout",
     "output_type": "stream",
     "text": [
      "[-10  -1   8  17  26  35]\n"
     ]
    }
   ],
   "source": [
    "#With subtract() function\n",
    "arr1 = np.array([10, 20, 30, 40, 50, 60])\n",
    "arr2 = np.array([20, 21, 22, 23, 24, 25])\n",
    "\n",
    "newarr = np.subtract(arr1, arr2)\n",
    "\n",
    "print(newarr)"
   ]
  },
  {
   "cell_type": "code",
   "execution_count": 118,
   "id": "ce0c7152",
   "metadata": {
    "execution": {
     "iopub.execute_input": "2024-07-23T08:59:22.806389Z",
     "iopub.status.busy": "2024-07-23T08:59:22.806006Z",
     "iopub.status.idle": "2024-07-23T08:59:22.812650Z",
     "shell.execute_reply": "2024-07-23T08:59:22.811245Z"
    },
    "papermill": {
     "duration": 0.06296,
     "end_time": "2024-07-23T08:59:22.815311",
     "exception": false,
     "start_time": "2024-07-23T08:59:22.752351",
     "status": "completed"
    },
    "tags": []
   },
   "outputs": [
    {
     "name": "stdout",
     "output_type": "stream",
     "text": [
      "[-10  -1   8  17  26  35]\n"
     ]
    }
   ],
   "source": [
    "#Without subtract() function\n",
    "arr1 = np.array([10, 20, 30, 40, 50, 60])\n",
    "arr2 = np.array([20, 21, 22, 23, 24, 25])\n",
    "\n",
    "print(arr1 - arr2)"
   ]
  },
  {
   "cell_type": "markdown",
   "id": "b7bc4aa0",
   "metadata": {
    "papermill": {
     "duration": 0.055476,
     "end_time": "2024-07-23T08:59:22.925613",
     "exception": false,
     "start_time": "2024-07-23T08:59:22.870137",
     "status": "completed"
    },
    "tags": []
   },
   "source": [
    "<div style=\"background-color:gainsboro; padding:8px; border:2px dotted black; border-radius:8px; font-family:verdana; line-height: 1.7em\">\n",
    "<strong>Multiplication</strong>\n",
    "<br>\n",
    "• The multiply() function multiplies the values from one array with the values from another array and return the results in a new array.\n",
    "</div>"
   ]
  },
  {
   "cell_type": "code",
   "execution_count": 119,
   "id": "fd1d33ae",
   "metadata": {
    "execution": {
     "iopub.execute_input": "2024-07-23T08:59:23.038322Z",
     "iopub.status.busy": "2024-07-23T08:59:23.037890Z",
     "iopub.status.idle": "2024-07-23T08:59:23.044766Z",
     "shell.execute_reply": "2024-07-23T08:59:23.043528Z"
    },
    "papermill": {
     "duration": 0.066531,
     "end_time": "2024-07-23T08:59:23.047456",
     "exception": false,
     "start_time": "2024-07-23T08:59:22.980925",
     "status": "completed"
    },
    "tags": []
   },
   "outputs": [
    {
     "name": "stdout",
     "output_type": "stream",
     "text": [
      "[ 200  420  660  920 1200 1500]\n"
     ]
    }
   ],
   "source": [
    "#With multiply() function\n",
    "arr1 = np.array([10, 20, 30, 40, 50, 60])\n",
    "arr2 = np.array([20, 21, 22, 23, 24, 25])\n",
    "\n",
    "newarr = np.multiply(arr1, arr2)\n",
    "\n",
    "print(newarr)"
   ]
  },
  {
   "cell_type": "code",
   "execution_count": 120,
   "id": "57e0fd82",
   "metadata": {
    "execution": {
     "iopub.execute_input": "2024-07-23T08:59:23.159637Z",
     "iopub.status.busy": "2024-07-23T08:59:23.159262Z",
     "iopub.status.idle": "2024-07-23T08:59:23.165778Z",
     "shell.execute_reply": "2024-07-23T08:59:23.164609Z"
    },
    "papermill": {
     "duration": 0.064907,
     "end_time": "2024-07-23T08:59:23.168223",
     "exception": false,
     "start_time": "2024-07-23T08:59:23.103316",
     "status": "completed"
    },
    "tags": []
   },
   "outputs": [
    {
     "name": "stdout",
     "output_type": "stream",
     "text": [
      "[ 200  420  660  920 1200 1500]\n"
     ]
    }
   ],
   "source": [
    "#Without multiply() function\n",
    "arr1 = np.array([10, 20, 30, 40, 50, 60])\n",
    "arr2 = np.array([20, 21, 22, 23, 24, 25])\n",
    "\n",
    "print(arr1 * arr2)"
   ]
  },
  {
   "cell_type": "markdown",
   "id": "76647f65",
   "metadata": {
    "papermill": {
     "duration": 0.051819,
     "end_time": "2024-07-23T08:59:23.274505",
     "exception": false,
     "start_time": "2024-07-23T08:59:23.222686",
     "status": "completed"
    },
    "tags": []
   },
   "source": [
    "<div style=\"background-color:gainsboro; padding:8px; border:2px dotted black; border-radius:8px; font-family:verdana; line-height: 1.7em\">\n",
    "<strong>Division</strong>\n",
    "<br>\n",
    "• The divide() function divides the values from one array with the values from another array and return the results in a new array.\n",
    "</div>"
   ]
  },
  {
   "cell_type": "code",
   "execution_count": 121,
   "id": "34f1c182",
   "metadata": {
    "execution": {
     "iopub.execute_input": "2024-07-23T08:59:23.383118Z",
     "iopub.status.busy": "2024-07-23T08:59:23.382678Z",
     "iopub.status.idle": "2024-07-23T08:59:23.390256Z",
     "shell.execute_reply": "2024-07-23T08:59:23.388900Z"
    },
    "papermill": {
     "duration": 0.064069,
     "end_time": "2024-07-23T08:59:23.392509",
     "exception": false,
     "start_time": "2024-07-23T08:59:23.328440",
     "status": "completed"
    },
    "tags": []
   },
   "outputs": [
    {
     "name": "stdout",
     "output_type": "stream",
     "text": [
      "[0.5        0.95238095 1.36363636 1.73913043 2.08333333 2.4       ]\n"
     ]
    }
   ],
   "source": [
    "#With divide() function\n",
    "arr1 = np.array([10, 20, 30, 40, 50, 60])\n",
    "arr2 = np.array([20, 21, 22, 23, 24, 25])\n",
    "\n",
    "newarr = np.divide(arr1, arr2)\n",
    "\n",
    "print(newarr)"
   ]
  },
  {
   "cell_type": "code",
   "execution_count": 122,
   "id": "0ea8abe8",
   "metadata": {
    "execution": {
     "iopub.execute_input": "2024-07-23T08:59:23.509190Z",
     "iopub.status.busy": "2024-07-23T08:59:23.508123Z",
     "iopub.status.idle": "2024-07-23T08:59:23.514976Z",
     "shell.execute_reply": "2024-07-23T08:59:23.513844Z"
    },
    "papermill": {
     "duration": 0.067471,
     "end_time": "2024-07-23T08:59:23.517417",
     "exception": false,
     "start_time": "2024-07-23T08:59:23.449946",
     "status": "completed"
    },
    "tags": []
   },
   "outputs": [
    {
     "name": "stdout",
     "output_type": "stream",
     "text": [
      "[0.5        0.95238095 1.36363636 1.73913043 2.08333333 2.4       ]\n"
     ]
    }
   ],
   "source": [
    "#Without divide() function\n",
    "arr1 = np.array([10, 20, 30, 40, 50, 60])\n",
    "arr2 = np.array([20, 21, 22, 23, 24, 25])\n",
    "\n",
    "print(arr1 / arr2)"
   ]
  },
  {
   "cell_type": "markdown",
   "id": "003c0080",
   "metadata": {
    "papermill": {
     "duration": 0.05472,
     "end_time": "2024-07-23T08:59:23.631092",
     "exception": false,
     "start_time": "2024-07-23T08:59:23.576372",
     "status": "completed"
    },
    "tags": []
   },
   "source": [
    "<div style=\"background-color:gainsboro; padding:8px; border:2px dotted black; border-radius:8px; font-family:verdana; line-height: 1.7em\">\n",
    "<strong>Power</strong>\n",
    "<br>\n",
    "• The power() function rises the values from the first array to the power of the values of the second array and return the results in a new array.\n",
    "</div>"
   ]
  },
  {
   "cell_type": "code",
   "execution_count": 123,
   "id": "1b530851",
   "metadata": {
    "execution": {
     "iopub.execute_input": "2024-07-23T08:59:23.744478Z",
     "iopub.status.busy": "2024-07-23T08:59:23.743622Z",
     "iopub.status.idle": "2024-07-23T08:59:23.750321Z",
     "shell.execute_reply": "2024-07-23T08:59:23.749166Z"
    },
    "papermill": {
     "duration": 0.066211,
     "end_time": "2024-07-23T08:59:23.752898",
     "exception": false,
     "start_time": "2024-07-23T08:59:23.686687",
     "status": "completed"
    },
    "tags": []
   },
   "outputs": [
    {
     "name": "stdout",
     "output_type": "stream",
     "text": [
      "[         1000       3200000     729000000 6553600000000          2500\n",
      "             0]\n"
     ]
    }
   ],
   "source": [
    "#With power() function\n",
    "arr1 = np.array([10, 20, 30, 40, 50, 60])\n",
    "arr2 = np.array([3, 5, 6, 8, 2, 33])\n",
    "\n",
    "newarr = np.power(arr1, arr2)\n",
    "\n",
    "print(newarr)"
   ]
  },
  {
   "cell_type": "code",
   "execution_count": 124,
   "id": "9161eb5c",
   "metadata": {
    "execution": {
     "iopub.execute_input": "2024-07-23T08:59:23.866840Z",
     "iopub.status.busy": "2024-07-23T08:59:23.866105Z",
     "iopub.status.idle": "2024-07-23T08:59:23.872946Z",
     "shell.execute_reply": "2024-07-23T08:59:23.871607Z"
    },
    "papermill": {
     "duration": 0.065497,
     "end_time": "2024-07-23T08:59:23.875382",
     "exception": false,
     "start_time": "2024-07-23T08:59:23.809885",
     "status": "completed"
    },
    "tags": []
   },
   "outputs": [
    {
     "name": "stdout",
     "output_type": "stream",
     "text": [
      "[         1000       3200000     729000000 6553600000000          2500\n",
      "             0]\n"
     ]
    }
   ],
   "source": [
    "#Without power() function\n",
    "arr1 = np.array([10, 20, 30, 40, 50, 60])\n",
    "arr2 = np.array([3, 5, 6, 8, 2, 33])\n",
    "\n",
    "print(arr1 ** arr2)"
   ]
  },
  {
   "cell_type": "markdown",
   "id": "f8d2274f",
   "metadata": {
    "papermill": {
     "duration": 0.060231,
     "end_time": "2024-07-23T08:59:23.990948",
     "exception": false,
     "start_time": "2024-07-23T08:59:23.930717",
     "status": "completed"
    },
    "tags": []
   },
   "source": [
    "<div style=\"background-color:gainsboro; padding:8px; border:2px dotted black; border-radius:8px; font-family:verdana; line-height: 1.7em\">\n",
    "<strong>Remainder</strong>\n",
    "<br>\n",
    "• Both the mod() and the remainder() functions return the remainder of the values in the first array corresponding to the values in the second array and return the results in a new array.\n",
    "</div>"
   ]
  },
  {
   "cell_type": "code",
   "execution_count": 125,
   "id": "6f7ede85",
   "metadata": {
    "execution": {
     "iopub.execute_input": "2024-07-23T08:59:24.109889Z",
     "iopub.status.busy": "2024-07-23T08:59:24.109537Z",
     "iopub.status.idle": "2024-07-23T08:59:24.116324Z",
     "shell.execute_reply": "2024-07-23T08:59:24.114987Z"
    },
    "papermill": {
     "duration": 0.067779,
     "end_time": "2024-07-23T08:59:24.118703",
     "exception": false,
     "start_time": "2024-07-23T08:59:24.050924",
     "status": "completed"
    },
    "tags": []
   },
   "outputs": [
    {
     "name": "stdout",
     "output_type": "stream",
     "text": [
      "[ 1  6  3  0  0 27]\n"
     ]
    }
   ],
   "source": [
    "#With mod() function\n",
    "arr1 = np.array([10, 20, 30, 40, 50, 60])\n",
    "arr2 = np.array([3, 7, 9, 8, 2, 33])\n",
    "\n",
    "newarr = np.mod(arr1, arr2)\n",
    "\n",
    "print(newarr)"
   ]
  },
  {
   "cell_type": "code",
   "execution_count": 126,
   "id": "1d900378",
   "metadata": {
    "execution": {
     "iopub.execute_input": "2024-07-23T08:59:24.239356Z",
     "iopub.status.busy": "2024-07-23T08:59:24.238939Z",
     "iopub.status.idle": "2024-07-23T08:59:24.245603Z",
     "shell.execute_reply": "2024-07-23T08:59:24.244381Z"
    },
    "papermill": {
     "duration": 0.067012,
     "end_time": "2024-07-23T08:59:24.247951",
     "exception": false,
     "start_time": "2024-07-23T08:59:24.180939",
     "status": "completed"
    },
    "tags": []
   },
   "outputs": [
    {
     "name": "stdout",
     "output_type": "stream",
     "text": [
      "[ 1  6  3  0  0 27]\n"
     ]
    }
   ],
   "source": [
    "#With remainder() function\n",
    "arr1 = np.array([10, 20, 30, 40, 50, 60])\n",
    "arr2 = np.array([3, 7, 9, 8, 2, 33])\n",
    "\n",
    "newarr = np.remainder(arr1, arr2)\n",
    "\n",
    "print(newarr)"
   ]
  },
  {
   "cell_type": "code",
   "execution_count": 127,
   "id": "2ebd7a3e",
   "metadata": {
    "execution": {
     "iopub.execute_input": "2024-07-23T08:59:24.472620Z",
     "iopub.status.busy": "2024-07-23T08:59:24.472255Z",
     "iopub.status.idle": "2024-07-23T08:59:24.478488Z",
     "shell.execute_reply": "2024-07-23T08:59:24.477518Z"
    },
    "papermill": {
     "duration": 0.170585,
     "end_time": "2024-07-23T08:59:24.480862",
     "exception": false,
     "start_time": "2024-07-23T08:59:24.310277",
     "status": "completed"
    },
    "tags": []
   },
   "outputs": [
    {
     "name": "stdout",
     "output_type": "stream",
     "text": [
      "[ 1  6  3  0  0 27]\n"
     ]
    }
   ],
   "source": [
    "#Without mod() or remainder() function\n",
    "arr1 = np.array([10, 20, 30, 40, 50, 60])\n",
    "arr2 = np.array([3, 7, 9, 8, 2, 33])\n",
    "\n",
    "print(arr1 % arr2)"
   ]
  },
  {
   "cell_type": "markdown",
   "id": "66a52ea9",
   "metadata": {
    "papermill": {
     "duration": 0.054767,
     "end_time": "2024-07-23T08:59:24.592715",
     "exception": false,
     "start_time": "2024-07-23T08:59:24.537948",
     "status": "completed"
    },
    "tags": []
   },
   "source": [
    "<div style=\"background-color:gainsboro; padding:8px; border:2px dotted black; border-radius:8px; font-family:verdana; line-height: 1.7em\">\n",
    "<strong>Quotient and Mod</strong>\n",
    "<br>\n",
    "• The divmod() function return both the quotient and the the mod. \n",
    "<br>\n",
    "• The return value is two arrays, the first array contains the quotient and second array contains the mod.\n",
    "</div>"
   ]
  },
  {
   "cell_type": "code",
   "execution_count": 128,
   "id": "72e97fea",
   "metadata": {
    "execution": {
     "iopub.execute_input": "2024-07-23T08:59:24.706156Z",
     "iopub.status.busy": "2024-07-23T08:59:24.705785Z",
     "iopub.status.idle": "2024-07-23T08:59:24.712787Z",
     "shell.execute_reply": "2024-07-23T08:59:24.711452Z"
    },
    "papermill": {
     "duration": 0.067501,
     "end_time": "2024-07-23T08:59:24.715396",
     "exception": false,
     "start_time": "2024-07-23T08:59:24.647895",
     "status": "completed"
    },
    "tags": []
   },
   "outputs": [
    {
     "name": "stdout",
     "output_type": "stream",
     "text": [
      "(array([ 3,  2,  3,  5, 25,  1]), array([ 1,  6,  3,  0,  0, 27]))\n"
     ]
    }
   ],
   "source": [
    "arr1 = np.array([10, 20, 30, 40, 50, 60])\n",
    "arr2 = np.array([3, 7, 9, 8, 2, 33])\n",
    "\n",
    "newarr = np.divmod(arr1, arr2)\n",
    "\n",
    "print(newarr)"
   ]
  },
  {
   "cell_type": "markdown",
   "id": "16464799",
   "metadata": {
    "papermill": {
     "duration": 0.05435,
     "end_time": "2024-07-23T08:59:24.825388",
     "exception": false,
     "start_time": "2024-07-23T08:59:24.771038",
     "status": "completed"
    },
    "tags": []
   },
   "source": [
    "<div style=\"background-color:gainsboro; padding:8px; border:2px dotted black; border-radius:8px; font-family:verdana; line-height: 1.7em\">\n",
    "<strong>Absolute Values</strong>\n",
    "<br>\n",
    "• Both the absolute() and the abs() functions do the same absolute operation element-wise but we should use absolute() to avoid confusion with python's inbuilt abs() function.\n",
    "</div>"
   ]
  },
  {
   "cell_type": "code",
   "execution_count": 129,
   "id": "1970270f",
   "metadata": {
    "execution": {
     "iopub.execute_input": "2024-07-23T08:59:24.933682Z",
     "iopub.status.busy": "2024-07-23T08:59:24.933245Z",
     "iopub.status.idle": "2024-07-23T08:59:24.941362Z",
     "shell.execute_reply": "2024-07-23T08:59:24.940040Z"
    },
    "papermill": {
     "duration": 0.065007,
     "end_time": "2024-07-23T08:59:24.943535",
     "exception": false,
     "start_time": "2024-07-23T08:59:24.878528",
     "status": "completed"
    },
    "tags": []
   },
   "outputs": [
    {
     "name": "stdout",
     "output_type": "stream",
     "text": [
      "[1 2 1 2 3 4]\n"
     ]
    }
   ],
   "source": [
    "#With absolute() function\n",
    "arr = np.array([-1, -2, 1, 2, 3, -4])\n",
    "\n",
    "newarr = np.absolute(arr)\n",
    "\n",
    "print(newarr)"
   ]
  },
  {
   "cell_type": "code",
   "execution_count": 130,
   "id": "343bafb9",
   "metadata": {
    "execution": {
     "iopub.execute_input": "2024-07-23T08:59:25.052683Z",
     "iopub.status.busy": "2024-07-23T08:59:25.051469Z",
     "iopub.status.idle": "2024-07-23T08:59:25.058409Z",
     "shell.execute_reply": "2024-07-23T08:59:25.057152Z"
    },
    "papermill": {
     "duration": 0.064297,
     "end_time": "2024-07-23T08:59:25.060629",
     "exception": false,
     "start_time": "2024-07-23T08:59:24.996332",
     "status": "completed"
    },
    "tags": []
   },
   "outputs": [
    {
     "name": "stdout",
     "output_type": "stream",
     "text": [
      "[1 2 1 2 3 4]\n"
     ]
    }
   ],
   "source": [
    "#Without absolute() function\n",
    "arr = np.array([-1, -2, 1, 2, 3, -4])\n",
    "print(abs(arr))"
   ]
  },
  {
   "cell_type": "markdown",
   "id": "24a27331",
   "metadata": {
    "papermill": {
     "duration": 0.052728,
     "end_time": "2024-07-23T08:59:25.166519",
     "exception": false,
     "start_time": "2024-07-23T08:59:25.113791",
     "status": "completed"
    },
    "tags": []
   },
   "source": [
    "<div style=\"background-color:gainsboro; padding:8px; border:2px dotted black; border-radius:8px; font-family:verdana; line-height: 1.7em\">\n",
    "<font color='#6a66bd' size=\"5px\">Rounding Decimals</font>\n",
    "<br>\n",
    "<br>\n",
    "• There are primarily five ways of rounding off decimals in NumPy.\n",
    "<br>\n",
    "→ truncation\n",
    "<br>\n",
    "→ fix\n",
    "<br>\n",
    "→ rounding\n",
    "<br>\n",
    "→ floor\n",
    "<br>\n",
    "→ ceil\n",
    "<br>\n",
    "<br>\n",
    "<strong>Truncation</strong>\n",
    "<br>\n",
    "• Remove the decimals and return the float number closest to zero. Use the trunc() and fix() functions.\n",
    "</div>"
   ]
  },
  {
   "cell_type": "code",
   "execution_count": 131,
   "id": "5df9d5d8",
   "metadata": {
    "execution": {
     "iopub.execute_input": "2024-07-23T08:59:25.275700Z",
     "iopub.status.busy": "2024-07-23T08:59:25.275265Z",
     "iopub.status.idle": "2024-07-23T08:59:25.282780Z",
     "shell.execute_reply": "2024-07-23T08:59:25.281512Z"
    },
    "papermill": {
     "duration": 0.064008,
     "end_time": "2024-07-23T08:59:25.285106",
     "exception": false,
     "start_time": "2024-07-23T08:59:25.221098",
     "status": "completed"
    },
    "tags": []
   },
   "outputs": [
    {
     "name": "stdout",
     "output_type": "stream",
     "text": [
      "[-3.  3.]\n",
      "[-3.  3.]\n"
     ]
    }
   ],
   "source": [
    "#Using trunc() Method\n",
    "arr1 = np.trunc([-3.1666, 3.6667])\n",
    "print(arr1)\n",
    "\n",
    "#Using fix() Method\n",
    "arr2 = np.fix([-3.1666, 3.6667])\n",
    "print(arr2)"
   ]
  },
  {
   "cell_type": "markdown",
   "id": "2b68a14f",
   "metadata": {
    "papermill": {
     "duration": 0.052966,
     "end_time": "2024-07-23T08:59:25.395337",
     "exception": false,
     "start_time": "2024-07-23T08:59:25.342371",
     "status": "completed"
    },
    "tags": []
   },
   "source": [
    "<div style=\"background-color:gainsboro; padding:8px; border:2px dotted black; border-radius:8px; font-family:verdana; line-height: 1.7em\">\n",
    "<strong>Rounding</strong>\n",
    "<br>\n",
    "• The around() function increments preceding digit or decimal by 1 if num >= 5 else do nothing.\n",
    "</div>"
   ]
  },
  {
   "cell_type": "code",
   "execution_count": 132,
   "id": "85b68ff9",
   "metadata": {
    "execution": {
     "iopub.execute_input": "2024-07-23T08:59:25.503728Z",
     "iopub.status.busy": "2024-07-23T08:59:25.503296Z",
     "iopub.status.idle": "2024-07-23T08:59:25.509845Z",
     "shell.execute_reply": "2024-07-23T08:59:25.508516Z"
    },
    "papermill": {
     "duration": 0.063672,
     "end_time": "2024-07-23T08:59:25.512552",
     "exception": false,
     "start_time": "2024-07-23T08:59:25.448880",
     "status": "completed"
    },
    "tags": []
   },
   "outputs": [
    {
     "name": "stdout",
     "output_type": "stream",
     "text": [
      "3.17\n"
     ]
    }
   ],
   "source": [
    "arr = np.around(3.1666, 2)\n",
    "print(arr)"
   ]
  },
  {
   "cell_type": "markdown",
   "id": "ff2d2ac0",
   "metadata": {
    "papermill": {
     "duration": 0.052737,
     "end_time": "2024-07-23T08:59:25.618911",
     "exception": false,
     "start_time": "2024-07-23T08:59:25.566174",
     "status": "completed"
    },
    "tags": []
   },
   "source": [
    "<div style=\"background-color:gainsboro; padding:8px; border:2px dotted black; border-radius:8px; font-family:verdana; line-height: 1.7em\">\n",
    "<strong>Floor</strong>\n",
    "<br>\n",
    "• The floor() function rounds off decimal to nearest lower integer.\n",
    "</div>"
   ]
  },
  {
   "cell_type": "code",
   "execution_count": 133,
   "id": "4fce4e10",
   "metadata": {
    "execution": {
     "iopub.execute_input": "2024-07-23T08:59:25.727461Z",
     "iopub.status.busy": "2024-07-23T08:59:25.727038Z",
     "iopub.status.idle": "2024-07-23T08:59:25.733719Z",
     "shell.execute_reply": "2024-07-23T08:59:25.732387Z"
    },
    "papermill": {
     "duration": 0.063458,
     "end_time": "2024-07-23T08:59:25.736291",
     "exception": false,
     "start_time": "2024-07-23T08:59:25.672833",
     "status": "completed"
    },
    "tags": []
   },
   "outputs": [
    {
     "name": "stdout",
     "output_type": "stream",
     "text": [
      "[-4.  3.]\n"
     ]
    }
   ],
   "source": [
    "arr = np.floor([-3.1666, 3.6667])\n",
    "print(arr)"
   ]
  },
  {
   "cell_type": "markdown",
   "id": "f8d26a6a",
   "metadata": {
    "papermill": {
     "duration": 0.055083,
     "end_time": "2024-07-23T08:59:25.849687",
     "exception": false,
     "start_time": "2024-07-23T08:59:25.794604",
     "status": "completed"
    },
    "tags": []
   },
   "source": [
    "<div style=\"background-color:gainsboro; padding:8px; border:2px dotted black; border-radius:8px; font-family:verdana; line-height: 1.7em\">\n",
    "<strong>Ceil</strong>\n",
    "<br>\n",
    "• The ceil() function rounds off decimal to nearest upper integer.\n",
    "</div>"
   ]
  },
  {
   "cell_type": "code",
   "execution_count": 134,
   "id": "1f68538d",
   "metadata": {
    "execution": {
     "iopub.execute_input": "2024-07-23T08:59:25.960008Z",
     "iopub.status.busy": "2024-07-23T08:59:25.959038Z",
     "iopub.status.idle": "2024-07-23T08:59:25.965545Z",
     "shell.execute_reply": "2024-07-23T08:59:25.964455Z"
    },
    "papermill": {
     "duration": 0.064451,
     "end_time": "2024-07-23T08:59:25.967839",
     "exception": false,
     "start_time": "2024-07-23T08:59:25.903388",
     "status": "completed"
    },
    "tags": []
   },
   "outputs": [
    {
     "name": "stdout",
     "output_type": "stream",
     "text": [
      "[-3.  4.]\n"
     ]
    }
   ],
   "source": [
    "arr = np.ceil([-3.1666, 3.6667])\n",
    "print(arr)"
   ]
  },
  {
   "cell_type": "markdown",
   "id": "d0e487fe",
   "metadata": {
    "papermill": {
     "duration": 0.053179,
     "end_time": "2024-07-23T08:59:26.074610",
     "exception": false,
     "start_time": "2024-07-23T08:59:26.021431",
     "status": "completed"
    },
    "tags": []
   },
   "source": [
    "<div style=\"background-color:gainsboro; padding:8px; border:2px dotted black; border-radius:8px; font-family:verdana; line-height: 1.7em\">\n",
    "<font color='#6a66bd' size=\"5px\">NumPy Summations</font>\n",
    "<br>\n",
    "<br>\n",
    "<strong>Summations</strong>\n",
    "<br>\n",
    "• What is the difference between summation and addition?\n",
    "<br>\n",
    "• Addition is done between two arguments whereas summation happens over n elements.\n",
    "</div>"
   ]
  },
  {
   "cell_type": "code",
   "execution_count": 135,
   "id": "32cd02bd",
   "metadata": {
    "execution": {
     "iopub.execute_input": "2024-07-23T08:59:26.185507Z",
     "iopub.status.busy": "2024-07-23T08:59:26.184522Z",
     "iopub.status.idle": "2024-07-23T08:59:26.191654Z",
     "shell.execute_reply": "2024-07-23T08:59:26.190359Z"
    },
    "papermill": {
     "duration": 0.065833,
     "end_time": "2024-07-23T08:59:26.193937",
     "exception": false,
     "start_time": "2024-07-23T08:59:26.128104",
     "status": "completed"
    },
    "tags": []
   },
   "outputs": [
    {
     "name": "stdout",
     "output_type": "stream",
     "text": [
      "[2 4 6]\n"
     ]
    }
   ],
   "source": [
    "#Using add() function\n",
    "arr1 = np.array([1, 2, 3])\n",
    "arr2 = np.array([1, 2, 3])\n",
    "\n",
    "newarr = np.add(arr1, arr2)\n",
    "\n",
    "print(newarr)"
   ]
  },
  {
   "cell_type": "code",
   "execution_count": 136,
   "id": "14adbf2b",
   "metadata": {
    "execution": {
     "iopub.execute_input": "2024-07-23T08:59:26.304495Z",
     "iopub.status.busy": "2024-07-23T08:59:26.303292Z",
     "iopub.status.idle": "2024-07-23T08:59:26.310498Z",
     "shell.execute_reply": "2024-07-23T08:59:26.309201Z"
    },
    "papermill": {
     "duration": 0.064885,
     "end_time": "2024-07-23T08:59:26.313446",
     "exception": false,
     "start_time": "2024-07-23T08:59:26.248561",
     "status": "completed"
    },
    "tags": []
   },
   "outputs": [
    {
     "name": "stdout",
     "output_type": "stream",
     "text": [
      "12\n"
     ]
    }
   ],
   "source": [
    "#Using sum() function\n",
    "arr1 = np.array([1, 2, 3])\n",
    "arr2 = np.array([1, 2, 3])\n",
    "\n",
    "newarr = np.sum([arr1, arr2])\n",
    "\n",
    "print(newarr)"
   ]
  },
  {
   "cell_type": "markdown",
   "id": "8aa9cc1b",
   "metadata": {
    "papermill": {
     "duration": 0.058122,
     "end_time": "2024-07-23T08:59:26.431487",
     "exception": false,
     "start_time": "2024-07-23T08:59:26.373365",
     "status": "completed"
    },
    "tags": []
   },
   "source": [
    "<div style=\"background-color:gainsboro; padding:8px; border:2px dotted black; border-radius:8px; font-family:verdana; line-height: 1.7em\">\n",
    "<strong>Summation Over an Axis</strong>\n",
    "<br>\n",
    "• If you specify axis=1, NumPy will sum the numbers with respect to the row.\n",
    "<br>\n",
    "• If you specify axis=0, NumPy will sum the numbers with respect to the columns.\n",
    "</div>"
   ]
  },
  {
   "cell_type": "code",
   "execution_count": 137,
   "id": "8126a6da",
   "metadata": {
    "execution": {
     "iopub.execute_input": "2024-07-23T08:59:26.547244Z",
     "iopub.status.busy": "2024-07-23T08:59:26.546860Z",
     "iopub.status.idle": "2024-07-23T08:59:26.553669Z",
     "shell.execute_reply": "2024-07-23T08:59:26.552466Z"
    },
    "papermill": {
     "duration": 0.067717,
     "end_time": "2024-07-23T08:59:26.556916",
     "exception": false,
     "start_time": "2024-07-23T08:59:26.489199",
     "status": "completed"
    },
    "tags": []
   },
   "outputs": [
    {
     "name": "stdout",
     "output_type": "stream",
     "text": [
      "[6 6]\n"
     ]
    }
   ],
   "source": [
    "#Using axis=1 (Row Wise)\n",
    "arr1 = np.array([1, 2, 3])\n",
    "arr2 = np.array([1, 2, 3])\n",
    "\n",
    "newarr = np.sum([arr1, arr2], axis=1)\n",
    "\n",
    "print(newarr)"
   ]
  },
  {
   "cell_type": "code",
   "execution_count": 138,
   "id": "57e73769",
   "metadata": {
    "execution": {
     "iopub.execute_input": "2024-07-23T08:59:26.677989Z",
     "iopub.status.busy": "2024-07-23T08:59:26.677626Z",
     "iopub.status.idle": "2024-07-23T08:59:26.684833Z",
     "shell.execute_reply": "2024-07-23T08:59:26.683673Z"
    },
    "papermill": {
     "duration": 0.068719,
     "end_time": "2024-07-23T08:59:26.687352",
     "exception": false,
     "start_time": "2024-07-23T08:59:26.618633",
     "status": "completed"
    },
    "tags": []
   },
   "outputs": [
    {
     "name": "stdout",
     "output_type": "stream",
     "text": [
      "[2 4 6]\n"
     ]
    }
   ],
   "source": [
    "#Using axis=0 (Column Wise)\n",
    "arr1 = np.array([1, 2, 3])\n",
    "arr2 = np.array([1, 2, 3])\n",
    "\n",
    "newarr = np.sum([arr1, arr2], axis=0)\n",
    "\n",
    "print(newarr)"
   ]
  },
  {
   "cell_type": "markdown",
   "id": "5d25aa79",
   "metadata": {
    "papermill": {
     "duration": 0.053774,
     "end_time": "2024-07-23T08:59:26.795848",
     "exception": false,
     "start_time": "2024-07-23T08:59:26.742074",
     "status": "completed"
    },
    "tags": []
   },
   "source": [
    "<div style=\"background-color:gainsboro; padding:8px; border:2px dotted black; border-radius:8px; font-family:verdana; line-height: 1.7em\">\n",
    "<strong>Cummulative Sum</strong>\n",
    "<br>\n",
    "• Cummulative sum means partially adding the elements in array.\n",
    "<br>\n",
    "• Perfom partial sum with the cumsum() function.\n",
    "<br>\n",
    "• The partial sum of [1, 2, 3, 4] would be [1, 1+2, 1+2+3, 1+2+3+4] = [1, 3, 6, 10].\n",
    "</div>"
   ]
  },
  {
   "cell_type": "code",
   "execution_count": 139,
   "id": "d4d4cb85",
   "metadata": {
    "execution": {
     "iopub.execute_input": "2024-07-23T08:59:26.906825Z",
     "iopub.status.busy": "2024-07-23T08:59:26.905717Z",
     "iopub.status.idle": "2024-07-23T08:59:26.911835Z",
     "shell.execute_reply": "2024-07-23T08:59:26.910892Z"
    },
    "papermill": {
     "duration": 0.064505,
     "end_time": "2024-07-23T08:59:26.914376",
     "exception": false,
     "start_time": "2024-07-23T08:59:26.849871",
     "status": "completed"
    },
    "tags": []
   },
   "outputs": [
    {
     "name": "stdout",
     "output_type": "stream",
     "text": [
      "[1 3 6]\n"
     ]
    }
   ],
   "source": [
    "arr = np.array([1, 2, 3])\n",
    "newarr = np.cumsum(arr)\n",
    "print(newarr)"
   ]
  },
  {
   "cell_type": "markdown",
   "id": "70c74ad1",
   "metadata": {
    "papermill": {
     "duration": 0.059286,
     "end_time": "2024-07-23T08:59:27.030474",
     "exception": false,
     "start_time": "2024-07-23T08:59:26.971188",
     "status": "completed"
    },
    "tags": []
   },
   "source": [
    "<div style=\"background-color:gainsboro; padding:8px; border:2px dotted black; border-radius:8px; font-family:verdana; line-height: 1.7em\">\n",
    "<font color='#6a66bd' size=\"5px\">NumPy Differences</font>\n",
    "<br>\n",
    "<br>\n",
    "<strong>Differences</strong>\n",
    "<br>\n",
    "• A discrete difference means subtracting two successive elements.\n",
    "<br>\n",
    "• To find the discrete difference, use the diff() function.\n",
    "<br>\n",
    "• For [1, 2, 3, 4], the discrete difference would be [2-1, 3-2, 4-3] = [1, 1, 1]\n",
    "</div>"
   ]
  },
  {
   "cell_type": "code",
   "execution_count": 140,
   "id": "8012f083",
   "metadata": {
    "execution": {
     "iopub.execute_input": "2024-07-23T08:59:27.150081Z",
     "iopub.status.busy": "2024-07-23T08:59:27.149244Z",
     "iopub.status.idle": "2024-07-23T08:59:27.156368Z",
     "shell.execute_reply": "2024-07-23T08:59:27.154710Z"
    },
    "papermill": {
     "duration": 0.067931,
     "end_time": "2024-07-23T08:59:27.158695",
     "exception": false,
     "start_time": "2024-07-23T08:59:27.090764",
     "status": "completed"
    },
    "tags": []
   },
   "outputs": [
    {
     "name": "stdout",
     "output_type": "stream",
     "text": [
      "[  5  10 -20]\n"
     ]
    }
   ],
   "source": [
    "arr = np.array([10, 15, 25, 5])\n",
    "newarr = np.diff(arr)\n",
    "print(newarr)"
   ]
  },
  {
   "cell_type": "markdown",
   "id": "a8da1e7e",
   "metadata": {
    "papermill": {
     "duration": 0.054913,
     "end_time": "2024-07-23T08:59:27.269471",
     "exception": false,
     "start_time": "2024-07-23T08:59:27.214558",
     "status": "completed"
    },
    "tags": []
   },
   "source": [
    "<div style=\"background-color:gainsboro; padding:8px; border:2px dotted black; border-radius:8px; font-family:verdana; line-height: 1.7em\">\n",
    "• We can perform this operation repeatedly by giving parameter n.\n",
    "</div>"
   ]
  },
  {
   "cell_type": "code",
   "execution_count": 141,
   "id": "4df17b8a",
   "metadata": {
    "execution": {
     "iopub.execute_input": "2024-07-23T08:59:27.385020Z",
     "iopub.status.busy": "2024-07-23T08:59:27.384595Z",
     "iopub.status.idle": "2024-07-23T08:59:27.391095Z",
     "shell.execute_reply": "2024-07-23T08:59:27.389749Z"
    },
    "papermill": {
     "duration": 0.068633,
     "end_time": "2024-07-23T08:59:27.393700",
     "exception": false,
     "start_time": "2024-07-23T08:59:27.325067",
     "status": "completed"
    },
    "tags": []
   },
   "outputs": [
    {
     "name": "stdout",
     "output_type": "stream",
     "text": [
      "[  5 -30]\n"
     ]
    }
   ],
   "source": [
    "arr = np.array([10, 15, 25, 5])\n",
    "newarr = np.diff(arr, n=2)\n",
    "print(newarr)"
   ]
  },
  {
   "cell_type": "markdown",
   "id": "b6b8254c",
   "metadata": {
    "papermill": {
     "duration": 0.054007,
     "end_time": "2024-07-23T08:59:27.503859",
     "exception": false,
     "start_time": "2024-07-23T08:59:27.449852",
     "status": "completed"
    },
    "tags": []
   },
   "source": [
    "<div style=\"background-color:gainsboro; padding:8px; border:2px dotted black; border-radius:8px; font-family:verdana; line-height: 1.7em\">\n",
    "<font color='#6a66bd' size=\"5px\">NumPy Products</font>\n",
    "<br>\n",
    "<br>\n",
    "<strong>Products</strong>\n",
    "<br>\n",
    "• To find the product of the elements in an array, use the prod() function.\n",
    "</div>"
   ]
  },
  {
   "cell_type": "code",
   "execution_count": 142,
   "id": "ea9561aa",
   "metadata": {
    "execution": {
     "iopub.execute_input": "2024-07-23T08:59:27.615323Z",
     "iopub.status.busy": "2024-07-23T08:59:27.614935Z",
     "iopub.status.idle": "2024-07-23T08:59:27.621249Z",
     "shell.execute_reply": "2024-07-23T08:59:27.619851Z"
    },
    "papermill": {
     "duration": 0.06583,
     "end_time": "2024-07-23T08:59:27.623515",
     "exception": false,
     "start_time": "2024-07-23T08:59:27.557685",
     "status": "completed"
    },
    "tags": []
   },
   "outputs": [
    {
     "name": "stdout",
     "output_type": "stream",
     "text": [
      "24\n"
     ]
    }
   ],
   "source": [
    "#Find the product of the elements of one array\n",
    "arr = np.array([1, 2, 3, 4])\n",
    "x = np.prod(arr)\n",
    "print(x)"
   ]
  },
  {
   "cell_type": "code",
   "execution_count": 143,
   "id": "6fad941d",
   "metadata": {
    "execution": {
     "iopub.execute_input": "2024-07-23T08:59:27.737351Z",
     "iopub.status.busy": "2024-07-23T08:59:27.736902Z",
     "iopub.status.idle": "2024-07-23T08:59:27.744050Z",
     "shell.execute_reply": "2024-07-23T08:59:27.742711Z"
    },
    "papermill": {
     "duration": 0.06679,
     "end_time": "2024-07-23T08:59:27.746452",
     "exception": false,
     "start_time": "2024-07-23T08:59:27.679662",
     "status": "completed"
    },
    "tags": []
   },
   "outputs": [
    {
     "name": "stdout",
     "output_type": "stream",
     "text": [
      "40320\n"
     ]
    }
   ],
   "source": [
    "#Find the product of the elements of two arrays\n",
    "arr1 = np.array([1, 2, 3, 4])\n",
    "arr2 = np.array([5, 6, 7, 8])\n",
    "\n",
    "x = np.prod([arr1, arr2])\n",
    "\n",
    "print(x)"
   ]
  },
  {
   "cell_type": "markdown",
   "id": "5098554b",
   "metadata": {
    "papermill": {
     "duration": 0.054728,
     "end_time": "2024-07-23T08:59:27.855452",
     "exception": false,
     "start_time": "2024-07-23T08:59:27.800724",
     "status": "completed"
    },
    "tags": []
   },
   "source": [
    "<div style=\"background-color:gainsboro; padding:8px; border:2px dotted black; border-radius:8px; font-family:verdana; line-height: 1.7em\">\n",
    "<strong>Product Over an Axis</strong>\n",
    "<br>\n",
    "• If you specify axis=1, NumPy will return the product of each array.\n",
    "</div>"
   ]
  },
  {
   "cell_type": "code",
   "execution_count": 144,
   "id": "959a224d",
   "metadata": {
    "execution": {
     "iopub.execute_input": "2024-07-23T08:59:27.966364Z",
     "iopub.status.busy": "2024-07-23T08:59:27.965970Z",
     "iopub.status.idle": "2024-07-23T08:59:27.973188Z",
     "shell.execute_reply": "2024-07-23T08:59:27.971824Z"
    },
    "papermill": {
     "duration": 0.066007,
     "end_time": "2024-07-23T08:59:27.975585",
     "exception": false,
     "start_time": "2024-07-23T08:59:27.909578",
     "status": "completed"
    },
    "tags": []
   },
   "outputs": [
    {
     "name": "stdout",
     "output_type": "stream",
     "text": [
      "[  24 1680]\n"
     ]
    }
   ],
   "source": [
    "arr1 = np.array([1, 2, 3, 4])\n",
    "arr2 = np.array([5, 6, 7, 8])\n",
    "\n",
    "newarr = np.prod([arr1, arr2], axis=1)\n",
    "\n",
    "print(newarr)"
   ]
  },
  {
   "cell_type": "markdown",
   "id": "5570c16a",
   "metadata": {
    "papermill": {
     "duration": 0.05509,
     "end_time": "2024-07-23T08:59:28.086276",
     "exception": false,
     "start_time": "2024-07-23T08:59:28.031186",
     "status": "completed"
    },
    "tags": []
   },
   "source": [
    "<div style=\"background-color:gainsboro; padding:8px; border:2px dotted black; border-radius:8px; font-family:verdana; line-height: 1.7em\">\n",
    "<strong>Cummulative Product</strong>\n",
    "<br>\n",
    "• Cummulative product means taking the product partially.\n",
    "<br>\n",
    "• Perfom partial sum with the cumprod() function.\n",
    "<br>\n",
    "• The partial product of [1, 2, 3, 4] is [1, 1*2, 1*2*3, 1*2*3*4] = [1, 2, 6, 24]\n",
    "</div>"
   ]
  },
  {
   "cell_type": "code",
   "execution_count": 145,
   "id": "302ceaf9",
   "metadata": {
    "execution": {
     "iopub.execute_input": "2024-07-23T08:59:28.199276Z",
     "iopub.status.busy": "2024-07-23T08:59:28.198272Z",
     "iopub.status.idle": "2024-07-23T08:59:28.204807Z",
     "shell.execute_reply": "2024-07-23T08:59:28.203462Z"
    },
    "papermill": {
     "duration": 0.065553,
     "end_time": "2024-07-23T08:59:28.207584",
     "exception": false,
     "start_time": "2024-07-23T08:59:28.142031",
     "status": "completed"
    },
    "tags": []
   },
   "outputs": [
    {
     "name": "stdout",
     "output_type": "stream",
     "text": [
      "[   5   30  210 1680]\n"
     ]
    }
   ],
   "source": [
    "arr = np.array([5, 6, 7, 8])\n",
    "newarr = np.cumprod(arr)\n",
    "print(newarr)"
   ]
  },
  {
   "cell_type": "markdown",
   "id": "dd8a3a5c",
   "metadata": {
    "papermill": {
     "duration": 0.056568,
     "end_time": "2024-07-23T08:59:28.322173",
     "exception": false,
     "start_time": "2024-07-23T08:59:28.265605",
     "status": "completed"
    },
    "tags": []
   },
   "source": [
    "<div style=\"background-color:gainsboro; padding:8px; border:2px dotted black; border-radius:8px; font-family:verdana; line-height: 1.7em\">\n",
    "<font color='#6a66bd' size=\"5px\">NumPy Broadcasting</font>\n",
    "<br>\n",
    "<br>\n",
    "• In NumPy, we can perform mathematical operations on arrays of different shapes. \n",
    "<br>\n",
    "• An array with a smaller shape is expanded to match the shape of a larger one. This is called broadcasting.\n",
    "<div style=\"background-color:#ADD8E6; padding:8px; border:1px solid #87CEEB; border-radius:4px;\">\n",
    "<strong>Note :</strong> In the example, we added two arrays with different dimensions.\n",
    "</div>\n",
    "<div style=\"background-color:#ADD8E6; padding:8px; border:1px solid #87CEEB; border-radius:4px;\">\n",
    "<strong>Note :</strong> Numpy automatically expands the size of arr1(1D) to match with the size of arr2(2D).\n",
    "</div>"
   ]
  },
  {
   "cell_type": "code",
   "execution_count": 146,
   "id": "ba8d0d44",
   "metadata": {
    "execution": {
     "iopub.execute_input": "2024-07-23T08:59:28.439606Z",
     "iopub.status.busy": "2024-07-23T08:59:28.439195Z",
     "iopub.status.idle": "2024-07-23T08:59:28.446245Z",
     "shell.execute_reply": "2024-07-23T08:59:28.444952Z"
    },
    "papermill": {
     "duration": 0.068136,
     "end_time": "2024-07-23T08:59:28.448681",
     "exception": false,
     "start_time": "2024-07-23T08:59:28.380545",
     "status": "completed"
    },
    "tags": []
   },
   "outputs": [
    {
     "name": "stdout",
     "output_type": "stream",
     "text": [
      "Dimension of arr1 : 1\n",
      "Dimension of arr2 : 2\n",
      "Dimension of output : 2\n"
     ]
    }
   ],
   "source": [
    "arr1 = np.array([1, 2, 3])\n",
    "arr2 = np.array([[1], [2], [3]])\n",
    "\n",
    "output = arr1 + arr2\n",
    "\n",
    "print(\"Dimension of arr1 :\", arr1.ndim)\n",
    "print(\"Dimension of arr2 :\", arr2.ndim)\n",
    "print(\"Dimension of output :\", output.ndim)"
   ]
  },
  {
   "cell_type": "markdown",
   "id": "46ab2494",
   "metadata": {
    "papermill": {
     "duration": 0.053548,
     "end_time": "2024-07-23T08:59:28.557540",
     "exception": false,
     "start_time": "2024-07-23T08:59:28.503992",
     "status": "completed"
    },
    "tags": []
   },
   "source": [
    "<div style=\"background-color:gainsboro; padding:8px; border:2px dotted black; border-radius:8px; font-family:verdana; line-height: 1.7em\">\n",
    "<strong>Compatibility Rules for Broadcasting</strong>\n",
    "<br>\n",
    "• Broadcasting only works with compatible arrays. NumPy compares a set of array dimensions from right to left.\n",
    "<br>\n",
    "• Every set of dimensions must be compatible with the arrays to be broadcastable. A set of dimension lengths is compatible when :\n",
    "<br>\n",
    "→ One of them has a length of 1\n",
    "<br>\n",
    "→ Or, they both are equal\n",
    "<br>\n",
    "<br>\n",
    "<strong>Examples</strong>\n",
    "<br>\n",
    "<strong>Broadcastable Shapes</strong>\n",
    "<br>\n",
    "→ (6, 7) and (6, 7)\n",
    "<br>\n",
    "→ (6, 7) and (6, 1)\n",
    "<br>\n",
    "<strong>Non-Broadcastable Shapes</strong>\n",
    "<br>\n",
    "→ (6, 7) and (7, 6)\n",
    "<br>\n",
    "<br>\n",
    "<strong>Broadcasting with Scalars</strong>\n",
    "<br>\n",
    "• We can also perform mathematical operations between arrays and scalars (single values).\n",
    "<div style=\"background-color:#ADD8E6; padding:8px; border:1px solid #87CEEB; border-radius:4px;\">\n",
    "<strong>Note :</strong> In this example, NumPy automatically expands the scalar number to an 1-D array and then performs the element-wise addition.\n",
    "</div>\n",
    "</div>"
   ]
  },
  {
   "cell_type": "code",
   "execution_count": 147,
   "id": "1f6ed4f8",
   "metadata": {
    "execution": {
     "iopub.execute_input": "2024-07-23T08:59:28.671745Z",
     "iopub.status.busy": "2024-07-23T08:59:28.671383Z",
     "iopub.status.idle": "2024-07-23T08:59:28.677801Z",
     "shell.execute_reply": "2024-07-23T08:59:28.676423Z"
    },
    "papermill": {
     "duration": 0.068659,
     "end_time": "2024-07-23T08:59:28.680676",
     "exception": false,
     "start_time": "2024-07-23T08:59:28.612017",
     "status": "completed"
    },
    "tags": []
   },
   "outputs": [
    {
     "name": "stdout",
     "output_type": "stream",
     "text": [
      "[ 8 10 12 14 16]\n"
     ]
    }
   ],
   "source": [
    "arr = np.array([2,4,6,8,10])\n",
    "num = 6\n",
    "sum = arr + num\n",
    "print(sum)"
   ]
  },
  {
   "cell_type": "markdown",
   "id": "0c27d5aa",
   "metadata": {
    "papermill": {
     "duration": 0.055222,
     "end_time": "2024-07-23T08:59:28.793717",
     "exception": false,
     "start_time": "2024-07-23T08:59:28.738495",
     "status": "completed"
    },
    "tags": []
   },
   "source": [
    "---\n",
    "\n",
    "<p style=\"color:#6a66bd; text-align:center; font-weight:bold; font-family:verdana; font-size:25px;\">Thanks 👏 for Visiting!</p>"
   ]
  }
 ],
 "metadata": {
  "kaggle": {
   "accelerator": "none",
   "dataSources": [],
   "dockerImageVersionId": 30746,
   "isGpuEnabled": false,
   "isInternetEnabled": true,
   "language": "python",
   "sourceType": "notebook"
  },
  "kernelspec": {
   "display_name": "Python 3",
   "language": "python",
   "name": "python3"
  },
  "language_info": {
   "codemirror_mode": {
    "name": "ipython",
    "version": 3
   },
   "file_extension": ".py",
   "mimetype": "text/x-python",
   "name": "python",
   "nbconvert_exporter": "python",
   "pygments_lexer": "ipython3",
   "version": "3.10.13"
  },
  "papermill": {
   "default_parameters": {},
   "duration": 44.536446,
   "end_time": "2024-07-23T08:59:29.371961",
   "environment_variables": {},
   "exception": null,
   "input_path": "__notebook__.ipynb",
   "output_path": "__notebook__.ipynb",
   "parameters": {},
   "start_time": "2024-07-23T08:58:44.835515",
   "version": "2.5.0"
  }
 },
 "nbformat": 4,
 "nbformat_minor": 5
}
