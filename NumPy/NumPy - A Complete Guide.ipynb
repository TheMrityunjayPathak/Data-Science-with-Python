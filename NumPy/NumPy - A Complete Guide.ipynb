{
 "cells": [
  {
   "cell_type": "markdown",
   "id": "3fa8976c",
   "metadata": {
    "papermill": {
     "duration": 0.038913,
     "end_time": "2024-07-26T09:15:49.752975",
     "exception": false,
     "start_time": "2024-07-26T09:15:49.714062",
     "status": "completed"
    },
    "tags": []
   },
   "source": [
    "<div id=\"header\"><p style=\"color:#6a66bd; text-align:center; font-weight:bold; font-family:verdana; font-size:25px;\">NumPy - A Complete Guide</p></div>\n",
    "\n",
    "---\n",
    "\n",
    "<p style=\"text-align:right; font-family:verdana;\">Follow <a href=\"https://github.com/TheMrityunjayPathak\" style=\"color:#6a66bd; text-decoration:none;\">@Mrityunjay Pathak</a> for more!</p>\n",
    "\n",
    "<!--Include Prism.js and CSS-->\n",
    "<link href=\"https://cdnjs.cloudflare.com/ajax/libs/prism/1.25.0/themes/prism.min.css\" rel=\"stylesheet\"/>\n",
    "<script src=\"https://cdnjs.cloudflare.com/ajax/libs/prism/1.25.0/prism.min.js\"></script>\n",
    "<script src=\"https://cdnjs.cloudflare.com/ajax/libs/prism/1.25.0/components/prism-python.min.js\"></script>\n",
    "    \n",
    "<div style=\"background-color:gainsboro; padding:8px; border:2px dotted black; border-radius:8px; font-family:verdana; line-height: 1.7em\">\n",
    "<font color='#6a66bd' size=\"5px\">Introduction to Numpy</font>\n",
    "<br>\n",
    "<br>\n",
    "<strong>What is NumPy?</strong>\n",
    "<br>\n",
    "• NumPy stands for Numerical Python.\n",
    "<br>\n",
    "• NumPy is a Python library used for working with arrays.\n",
    "<br>\n",
    "• It also has functions for working in domain of linear algebra, fourier transform and matrices.\n",
    "<br>\n",
    "• NumPy was created in 2005 by Travis Oliphant. It is an open source project and you can use it freely.\n",
    "<br>\n",
    "<br>\n",
    "<strong>Why Use NumPy?</strong>\n",
    "<br>\n",
    "• In Python we have lists that serve the purpose of arrays, but they are slow to process.\n",
    "<br>\n",
    "• NumPy aims to provide an array object that is up to 50x faster than traditional Python lists.\n",
    "<br>\n",
    "• The array object in NumPy is called ndarray, it provides a lot of supporting functions that make working with ndarray very easy.\n",
    "<br>\n",
    "• Arrays are very frequently used in data science, where speed and resources are very important.\n",
    "<br>\n",
    "<br>\n",
    "<strong>Why is NumPy Faster Than Lists?</strong>\n",
    "<br>\n",
    "• NumPy arrays are stored at one continuous place in memory unlike lists, so processes can access and manipulate them very efficiently.\n",
    "<br>\n",
    "• This behavior is called locality of reference in computer science.\n",
    "<br>\n",
    "• This is the main reason why NumPy is faster than lists. Also it is optimized to work with latest CPU architectures.\n",
    "</div>"
   ]
  },
  {
   "cell_type": "markdown",
   "id": "5a632678",
   "metadata": {
    "papermill": {
     "duration": 0.036462,
     "end_time": "2024-07-26T09:15:49.826586",
     "exception": false,
     "start_time": "2024-07-26T09:15:49.790124",
     "status": "completed"
    },
    "tags": []
   },
   "source": [
    "<div style=\"background-color:gainsboro; padding:8px; border:2px dotted black; border-radius:8px; font-family:verdana; line-height: 1.7em\">\n",
    "<font color='#6a66bd' size=\"5px\">Installing NumPy</font>\n",
    "<br>\n",
    "<br>\n",
    "• If you have <a href=\"https://www.python.org/downloads/\" style=\"text-decoration:none; color:#6a66bd;\">Python</a> and <a href=\"https://pypi.org/project/pip/\" style=\"text-decoration:none; color:#6a66bd;\">PIP</a> already installed on your system, then installation of NumPy is very easy.\n",
    "<br>\n",
    "• Install it using this command :\n",
    "<div style=\"background-color:#ADD8E6; padding:8px; border:1px solid #87CEEB; border-radius:4px;\">\n",
    "<strong>Note :</strong> You can use your Jupyter Notebook as Terminal to install anything using PIP Command.\n",
    "</div>\n",
    "<div style=\"background-color:#ADD8E6; padding:8px; border:1px solid #87CEEB; border-radius:4px;\">\n",
    "<strong>Note :</strong> Just add an exclamation mark before your PIP Command. Like !pip install numpy\n",
    "</div>\n",
    "</div>"
   ]
  },
  {
   "cell_type": "code",
   "execution_count": 1,
   "id": "1d7843b7",
   "metadata": {
    "execution": {
     "iopub.execute_input": "2024-07-26T09:15:49.902647Z",
     "iopub.status.busy": "2024-07-26T09:15:49.902242Z",
     "iopub.status.idle": "2024-07-26T09:16:04.892893Z",
     "shell.execute_reply": "2024-07-26T09:16:04.891148Z"
    },
    "papermill": {
     "duration": 15.031715,
     "end_time": "2024-07-26T09:16:04.895929",
     "exception": false,
     "start_time": "2024-07-26T09:15:49.864214",
     "status": "completed"
    },
    "tags": []
   },
   "outputs": [
    {
     "name": "stdout",
     "output_type": "stream",
     "text": [
      "Requirement already satisfied: numpy in /opt/conda/lib/python3.10/site-packages (1.26.4)\r\n"
     ]
    }
   ],
   "source": [
    "!pip install numpy"
   ]
  },
  {
   "cell_type": "markdown",
   "id": "54894d61",
   "metadata": {
    "papermill": {
     "duration": 0.038858,
     "end_time": "2024-07-26T09:16:04.972671",
     "exception": false,
     "start_time": "2024-07-26T09:16:04.933813",
     "status": "completed"
    },
    "tags": []
   },
   "source": [
    "<div style=\"background-color:gainsboro; padding:8px; border:2px dotted black; border-radius:8px; font-family:verdana; line-height: 1.7em\">\n",
    "<font color='#6a66bd' size=\"5px\">Getting Started with NumPy</font>\n",
    "<br>\n",
    "<br>\n",
    "<strong>Import NumPy</strong>\n",
    "<br>\n",
    "• Once NumPy is installed, import it in your project by adding the import keyword.\n",
    "</div>"
   ]
  },
  {
   "cell_type": "code",
   "execution_count": 2,
   "id": "11cc59bb",
   "metadata": {
    "execution": {
     "iopub.execute_input": "2024-07-26T09:16:05.113984Z",
     "iopub.status.busy": "2024-07-26T09:16:05.113573Z",
     "iopub.status.idle": "2024-07-26T09:16:05.119254Z",
     "shell.execute_reply": "2024-07-26T09:16:05.117977Z"
    },
    "papermill": {
     "duration": 0.111428,
     "end_time": "2024-07-26T09:16:05.121821",
     "exception": false,
     "start_time": "2024-07-26T09:16:05.010393",
     "status": "completed"
    },
    "tags": []
   },
   "outputs": [],
   "source": [
    "import numpy"
   ]
  },
  {
   "cell_type": "markdown",
   "id": "fcee3a73",
   "metadata": {
    "papermill": {
     "duration": 0.037209,
     "end_time": "2024-07-26T09:16:05.196883",
     "exception": false,
     "start_time": "2024-07-26T09:16:05.159674",
     "status": "completed"
    },
    "tags": []
   },
   "source": [
    "<div style=\"background-color:gainsboro; padding:8px; border:2px dotted black; border-radius:8px; font-family:verdana; line-height: 1.7em\">\n",
    "<strong>NumPy as np</strong>\n",
    "<br>\n",
    "• NumPy is usually imported under the np alias.\n",
    "<br>\n",
    "• Create an alias with the as keyword while importing.\n",
    "<div style=\"background-color:#ADD8E6; padding:8px; border:1px solid #87CEEB; border-radius:4px;\">\n",
    "<strong>Note :</strong> In Python alias are an alternate name for referring to the same thing.\n",
    "</div>\n",
    "</div>"
   ]
  },
  {
   "cell_type": "code",
   "execution_count": 3,
   "id": "5cbe1718",
   "metadata": {
    "execution": {
     "iopub.execute_input": "2024-07-26T09:16:05.274626Z",
     "iopub.status.busy": "2024-07-26T09:16:05.274189Z",
     "iopub.status.idle": "2024-07-26T09:16:05.279877Z",
     "shell.execute_reply": "2024-07-26T09:16:05.278717Z"
    },
    "papermill": {
     "duration": 0.046831,
     "end_time": "2024-07-26T09:16:05.282320",
     "exception": false,
     "start_time": "2024-07-26T09:16:05.235489",
     "status": "completed"
    },
    "tags": []
   },
   "outputs": [],
   "source": [
    "import numpy as np"
   ]
  },
  {
   "cell_type": "markdown",
   "id": "4c196f89",
   "metadata": {
    "papermill": {
     "duration": 0.037479,
     "end_time": "2024-07-26T09:16:05.357924",
     "exception": false,
     "start_time": "2024-07-26T09:16:05.320445",
     "status": "completed"
    },
    "tags": []
   },
   "source": [
    "<div style=\"background-color:gainsboro; padding:8px; border:2px dotted black; border-radius:8px; font-family:verdana; line-height: 1.7em\">\n",
    "<strong>Checking NumPy Version</strong>\n",
    "<br>\n",
    "• The version string is stored under __version__ attribute.\n",
    "</div>"
   ]
  },
  {
   "cell_type": "code",
   "execution_count": 4,
   "id": "4b2aa59b",
   "metadata": {
    "execution": {
     "iopub.execute_input": "2024-07-26T09:16:05.436232Z",
     "iopub.status.busy": "2024-07-26T09:16:05.435835Z",
     "iopub.status.idle": "2024-07-26T09:16:05.441512Z",
     "shell.execute_reply": "2024-07-26T09:16:05.440396Z"
    },
    "papermill": {
     "duration": 0.046283,
     "end_time": "2024-07-26T09:16:05.443756",
     "exception": false,
     "start_time": "2024-07-26T09:16:05.397473",
     "status": "completed"
    },
    "tags": []
   },
   "outputs": [
    {
     "name": "stdout",
     "output_type": "stream",
     "text": [
      "1.26.4\n"
     ]
    }
   ],
   "source": [
    "print(numpy.__version__)"
   ]
  },
  {
   "cell_type": "markdown",
   "id": "fb3186a2",
   "metadata": {
    "papermill": {
     "duration": 0.037017,
     "end_time": "2024-07-26T09:16:05.518080",
     "exception": false,
     "start_time": "2024-07-26T09:16:05.481063",
     "status": "completed"
    },
    "tags": []
   },
   "source": [
    "<div style=\"background-color:gainsboro; padding:8px; border:2px dotted black; border-radius:8px; font-family:verdana; line-height: 1.7em\">\n",
    "<font color='#6a66bd' size=\"5px\">Creating NumPy Array</font>\n",
    "<br>\n",
    "<br>\n",
    "<strong>NumPy ndarray Object</strong>\n",
    "<br>\n",
    "• NumPy is used to work with arrays. The array object in NumPy is called ndarray.\n",
    "<br>\n",
    "• We can create a NumPy ndarray object by using the array() function.\n",
    "<br>\n",
    "• In computer programming, an array is a structure for storing and retrieving data. \n",
    "<br>\n",
    "• We often talk about an array as if it were a grid in space, with each cell storing one element of the data.\n",
    "<br>\n",
    "<br>\n",
    "<strong>Most NumPy arrays have some restrictions, For instance :</strong>\n",
    "<br>\n",
    "• All elements of the array must be of the same type of data.\n",
    "<br>\n",
    "• Once created, the total size of the the array can’t change.\n",
    "<br>\n",
    "• The shape must be “rectangular” not “jagged”.\n",
    "<div style=\"background-color:#ADD8E6; padding:8px; border:1px solid #87CEEB; border-radius:4px;\">\n",
    "<strong>Note :</strong> type() function tells us the type of the object passed to it.\n",
    "</div>\n",
    "</div>"
   ]
  },
  {
   "cell_type": "code",
   "execution_count": 5,
   "id": "e83e387f",
   "metadata": {
    "execution": {
     "iopub.execute_input": "2024-07-26T09:16:05.596296Z",
     "iopub.status.busy": "2024-07-26T09:16:05.595441Z",
     "iopub.status.idle": "2024-07-26T09:16:05.604200Z",
     "shell.execute_reply": "2024-07-26T09:16:05.603076Z"
    },
    "papermill": {
     "duration": 0.050108,
     "end_time": "2024-07-26T09:16:05.606569",
     "exception": false,
     "start_time": "2024-07-26T09:16:05.556461",
     "status": "completed"
    },
    "tags": []
   },
   "outputs": [
    {
     "name": "stdout",
     "output_type": "stream",
     "text": [
      "[1 2 3 4 5]\n",
      "<class 'numpy.ndarray'>\n"
     ]
    }
   ],
   "source": [
    "arr = np.array([1, 2, 3, 4, 5])\n",
    "print(arr)\n",
    "print(type(arr))"
   ]
  },
  {
   "cell_type": "markdown",
   "id": "fd10eae5",
   "metadata": {
    "papermill": {
     "duration": 0.037784,
     "end_time": "2024-07-26T09:16:05.682425",
     "exception": false,
     "start_time": "2024-07-26T09:16:05.644641",
     "status": "completed"
    },
    "tags": []
   },
   "source": [
    "<div style=\"background-color:gainsboro; padding:8px; border:2px dotted black; border-radius:8px; font-family:verdana; line-height: 1.7em\">\n",
    "• To create an ndarray, we can pass a list, tuple or any array-like object into the array() method, and it will be converted into an ndarray.\n",
    "</div>"
   ]
  },
  {
   "cell_type": "code",
   "execution_count": 6,
   "id": "344f7cf6",
   "metadata": {
    "execution": {
     "iopub.execute_input": "2024-07-26T09:16:05.760542Z",
     "iopub.status.busy": "2024-07-26T09:16:05.760161Z",
     "iopub.status.idle": "2024-07-26T09:16:05.766133Z",
     "shell.execute_reply": "2024-07-26T09:16:05.764983Z"
    },
    "papermill": {
     "duration": 0.048991,
     "end_time": "2024-07-26T09:16:05.769254",
     "exception": false,
     "start_time": "2024-07-26T09:16:05.720263",
     "status": "completed"
    },
    "tags": []
   },
   "outputs": [
    {
     "name": "stdout",
     "output_type": "stream",
     "text": [
      "[1 2 3 4 5]\n"
     ]
    }
   ],
   "source": [
    "arr = np.array((1, 2, 3, 4, 5))\n",
    "print(arr)"
   ]
  },
  {
   "cell_type": "markdown",
   "id": "ce5a84f9",
   "metadata": {
    "papermill": {
     "duration": 0.038309,
     "end_time": "2024-07-26T09:16:05.845957",
     "exception": false,
     "start_time": "2024-07-26T09:16:05.807648",
     "status": "completed"
    },
    "tags": []
   },
   "source": [
    "<div style=\"background-color:gainsboro; padding:8px; border:2px dotted black; border-radius:8px; font-family:verdana; line-height: 1.7em\">\n",
    "<font color='#6a66bd' size=\"5px\">Create Basic Arrays</font>\n",
    "<br>\n",
    "<br>\n",
    "• Besides creating an array from a sequence of elements, you can easily create an array of some predefined formats.\n",
    "<br>\n",
    "• To create an array with all elements as zero(0).\n",
    "</div>"
   ]
  },
  {
   "cell_type": "code",
   "execution_count": 7,
   "id": "129a48a9",
   "metadata": {
    "execution": {
     "iopub.execute_input": "2024-07-26T09:16:05.924529Z",
     "iopub.status.busy": "2024-07-26T09:16:05.924118Z",
     "iopub.status.idle": "2024-07-26T09:16:05.930309Z",
     "shell.execute_reply": "2024-07-26T09:16:05.929084Z"
    },
    "papermill": {
     "duration": 0.048329,
     "end_time": "2024-07-26T09:16:05.932771",
     "exception": false,
     "start_time": "2024-07-26T09:16:05.884442",
     "status": "completed"
    },
    "tags": []
   },
   "outputs": [
    {
     "name": "stdout",
     "output_type": "stream",
     "text": [
      "[0. 0. 0.]\n"
     ]
    }
   ],
   "source": [
    "#Creating a 1D Array\n",
    "zeros = np.zeros(3)\n",
    "print(zeros)"
   ]
  },
  {
   "cell_type": "code",
   "execution_count": 8,
   "id": "a77db3a7",
   "metadata": {
    "execution": {
     "iopub.execute_input": "2024-07-26T09:16:06.013477Z",
     "iopub.status.busy": "2024-07-26T09:16:06.013086Z",
     "iopub.status.idle": "2024-07-26T09:16:06.019031Z",
     "shell.execute_reply": "2024-07-26T09:16:06.017855Z"
    },
    "papermill": {
     "duration": 0.048136,
     "end_time": "2024-07-26T09:16:06.021446",
     "exception": false,
     "start_time": "2024-07-26T09:16:05.973310",
     "status": "completed"
    },
    "tags": []
   },
   "outputs": [
    {
     "name": "stdout",
     "output_type": "stream",
     "text": [
      "[[0. 0. 0.]\n",
      " [0. 0. 0.]\n",
      " [0. 0. 0.]]\n"
     ]
    }
   ],
   "source": [
    "#Creating a 2D Array\n",
    "zeros = np.zeros((3,3))\n",
    "print(zeros)"
   ]
  },
  {
   "cell_type": "markdown",
   "id": "fbe908de",
   "metadata": {
    "papermill": {
     "duration": 0.038587,
     "end_time": "2024-07-26T09:16:06.100284",
     "exception": false,
     "start_time": "2024-07-26T09:16:06.061697",
     "status": "completed"
    },
    "tags": []
   },
   "source": [
    "<div style=\"background-color:gainsboro; padding:8px; border:2px dotted black; border-radius:8px; font-family:verdana; line-height: 1.7em\">\n",
    "• To create an array with all elements as one(1).\n",
    "</div>"
   ]
  },
  {
   "cell_type": "code",
   "execution_count": 9,
   "id": "3f11d85f",
   "metadata": {
    "execution": {
     "iopub.execute_input": "2024-07-26T09:16:06.182483Z",
     "iopub.status.busy": "2024-07-26T09:16:06.182098Z",
     "iopub.status.idle": "2024-07-26T09:16:06.188643Z",
     "shell.execute_reply": "2024-07-26T09:16:06.187169Z"
    },
    "papermill": {
     "duration": 0.050475,
     "end_time": "2024-07-26T09:16:06.192062",
     "exception": false,
     "start_time": "2024-07-26T09:16:06.141587",
     "status": "completed"
    },
    "tags": []
   },
   "outputs": [
    {
     "name": "stdout",
     "output_type": "stream",
     "text": [
      "[1. 1. 1.]\n"
     ]
    }
   ],
   "source": [
    "#Creating a 1D Array\n",
    "ones = np.ones(3)\n",
    "print(ones)"
   ]
  },
  {
   "cell_type": "code",
   "execution_count": 10,
   "id": "0db58f77",
   "metadata": {
    "execution": {
     "iopub.execute_input": "2024-07-26T09:16:06.271418Z",
     "iopub.status.busy": "2024-07-26T09:16:06.271034Z",
     "iopub.status.idle": "2024-07-26T09:16:06.276870Z",
     "shell.execute_reply": "2024-07-26T09:16:06.275814Z"
    },
    "papermill": {
     "duration": 0.047752,
     "end_time": "2024-07-26T09:16:06.279135",
     "exception": false,
     "start_time": "2024-07-26T09:16:06.231383",
     "status": "completed"
    },
    "tags": []
   },
   "outputs": [
    {
     "name": "stdout",
     "output_type": "stream",
     "text": [
      "[[1. 1. 1.]\n",
      " [1. 1. 1.]\n",
      " [1. 1. 1.]]\n"
     ]
    }
   ],
   "source": [
    "#Creating a 2D Array\n",
    "ones = np.ones((3,3))\n",
    "print(ones)"
   ]
  },
  {
   "cell_type": "markdown",
   "id": "2243664c",
   "metadata": {
    "papermill": {
     "duration": 0.038159,
     "end_time": "2024-07-26T09:16:06.355675",
     "exception": false,
     "start_time": "2024-07-26T09:16:06.317516",
     "status": "completed"
    },
    "tags": []
   },
   "source": [
    "<div style=\"background-color:gainsboro; padding:8px; border:2px dotted black; border-radius:8px; font-family:verdana; line-height: 1.7em\">\n",
    "• The function empty() creates an array whose initial content is random and depends on the state of the memory. \n",
    "<br>\n",
    "• The reason to use empty over zeros (or something similar) is speed - just make sure to fill every element afterwards.\n",
    "</div>"
   ]
  },
  {
   "cell_type": "code",
   "execution_count": 11,
   "id": "193f73d1",
   "metadata": {
    "execution": {
     "iopub.execute_input": "2024-07-26T09:16:06.435772Z",
     "iopub.status.busy": "2024-07-26T09:16:06.435342Z",
     "iopub.status.idle": "2024-07-26T09:16:06.441547Z",
     "shell.execute_reply": "2024-07-26T09:16:06.440191Z"
    },
    "papermill": {
     "duration": 0.04827,
     "end_time": "2024-07-26T09:16:06.443896",
     "exception": false,
     "start_time": "2024-07-26T09:16:06.395626",
     "status": "completed"
    },
    "tags": []
   },
   "outputs": [
    {
     "name": "stdout",
     "output_type": "stream",
     "text": [
      "[1. 1. 1.]\n"
     ]
    }
   ],
   "source": [
    "#Create a 1D Array\n",
    "empty = np.empty(3)\n",
    "print(empty)"
   ]
  },
  {
   "cell_type": "code",
   "execution_count": 12,
   "id": "ec07054d",
   "metadata": {
    "execution": {
     "iopub.execute_input": "2024-07-26T09:16:06.523261Z",
     "iopub.status.busy": "2024-07-26T09:16:06.522043Z",
     "iopub.status.idle": "2024-07-26T09:16:06.528758Z",
     "shell.execute_reply": "2024-07-26T09:16:06.527462Z"
    },
    "papermill": {
     "duration": 0.048896,
     "end_time": "2024-07-26T09:16:06.531339",
     "exception": false,
     "start_time": "2024-07-26T09:16:06.482443",
     "status": "completed"
    },
    "tags": []
   },
   "outputs": [
    {
     "name": "stdout",
     "output_type": "stream",
     "text": [
      "[[1. 1. 1.]\n",
      " [1. 1. 1.]\n",
      " [1. 1. 1.]]\n"
     ]
    }
   ],
   "source": [
    "#Create a 2D Array\n",
    "empty = np.empty((3,3))\n",
    "print(empty)"
   ]
  },
  {
   "cell_type": "markdown",
   "id": "fde593a1",
   "metadata": {
    "papermill": {
     "duration": 0.038448,
     "end_time": "2024-07-26T09:16:06.609116",
     "exception": false,
     "start_time": "2024-07-26T09:16:06.570668",
     "status": "completed"
    },
    "tags": []
   },
   "source": [
    "<div style=\"background-color:gainsboro; padding:8px; border:2px dotted black; border-radius:8px; font-family:verdana; line-height: 1.7em\">\n",
    "• To create an array with all digonal elements as one(1).\n",
    "</div>"
   ]
  },
  {
   "cell_type": "code",
   "execution_count": 13,
   "id": "832ad48c",
   "metadata": {
    "execution": {
     "iopub.execute_input": "2024-07-26T09:16:06.688068Z",
     "iopub.status.busy": "2024-07-26T09:16:06.687605Z",
     "iopub.status.idle": "2024-07-26T09:16:06.694128Z",
     "shell.execute_reply": "2024-07-26T09:16:06.692817Z"
    },
    "papermill": {
     "duration": 0.048639,
     "end_time": "2024-07-26T09:16:06.696351",
     "exception": false,
     "start_time": "2024-07-26T09:16:06.647712",
     "status": "completed"
    },
    "tags": []
   },
   "outputs": [
    {
     "name": "stdout",
     "output_type": "stream",
     "text": [
      "[[1. 0. 0.]\n",
      " [0. 1. 0.]\n",
      " [0. 0. 1.]]\n"
     ]
    }
   ],
   "source": [
    "idnt = np.identity(3)\n",
    "print(idnt)"
   ]
  },
  {
   "cell_type": "markdown",
   "id": "b1114513",
   "metadata": {
    "papermill": {
     "duration": 0.037844,
     "end_time": "2024-07-26T09:16:06.772811",
     "exception": false,
     "start_time": "2024-07-26T09:16:06.734967",
     "status": "completed"
    },
    "tags": []
   },
   "source": [
    "<div style=\"background-color:gainsboro; padding:8px; border:2px dotted black; border-radius:8px; font-family:verdana; line-height: 1.7em\">\n",
    "• To create an array with all digonal elements as specified.\n",
    "</div>"
   ]
  },
  {
   "cell_type": "code",
   "execution_count": 14,
   "id": "9ca2ccd9",
   "metadata": {
    "execution": {
     "iopub.execute_input": "2024-07-26T09:16:06.851551Z",
     "iopub.status.busy": "2024-07-26T09:16:06.851179Z",
     "iopub.status.idle": "2024-07-26T09:16:06.856989Z",
     "shell.execute_reply": "2024-07-26T09:16:06.855810Z"
    },
    "papermill": {
     "duration": 0.048065,
     "end_time": "2024-07-26T09:16:06.859199",
     "exception": false,
     "start_time": "2024-07-26T09:16:06.811134",
     "status": "completed"
    },
    "tags": []
   },
   "outputs": [
    {
     "name": "stdout",
     "output_type": "stream",
     "text": [
      "[[1 0 0]\n",
      " [0 2 0]\n",
      " [0 0 3]]\n"
     ]
    }
   ],
   "source": [
    "dig = np.diag((1,2,3))\n",
    "print(dig)"
   ]
  },
  {
   "cell_type": "markdown",
   "id": "2ce67a6c",
   "metadata": {
    "papermill": {
     "duration": 0.038446,
     "end_time": "2024-07-26T09:16:06.936373",
     "exception": false,
     "start_time": "2024-07-26T09:16:06.897927",
     "status": "completed"
    },
    "tags": []
   },
   "source": [
    "<div style=\"background-color:gainsboro; padding:8px; border:2px dotted black; border-radius:8px; font-family:verdana; line-height: 1.7em\">\n",
    "• To create an array with series of numbers starting with zero.\n",
    "</div>"
   ]
  },
  {
   "cell_type": "code",
   "execution_count": 15,
   "id": "b6da96b1",
   "metadata": {
    "execution": {
     "iopub.execute_input": "2024-07-26T09:16:07.020208Z",
     "iopub.status.busy": "2024-07-26T09:16:07.018927Z",
     "iopub.status.idle": "2024-07-26T09:16:07.025825Z",
     "shell.execute_reply": "2024-07-26T09:16:07.024691Z"
    },
    "papermill": {
     "duration": 0.051218,
     "end_time": "2024-07-26T09:16:07.028395",
     "exception": false,
     "start_time": "2024-07-26T09:16:06.977177",
     "status": "completed"
    },
    "tags": []
   },
   "outputs": [
    {
     "name": "stdout",
     "output_type": "stream",
     "text": [
      "[0 1 2 3 4 5 6 7 8]\n"
     ]
    }
   ],
   "source": [
    "#To start with 0\n",
    "rng = np.arange(9)\n",
    "print(rng)"
   ]
  },
  {
   "cell_type": "code",
   "execution_count": 16,
   "id": "d52e5683",
   "metadata": {
    "execution": {
     "iopub.execute_input": "2024-07-26T09:16:07.108687Z",
     "iopub.status.busy": "2024-07-26T09:16:07.108294Z",
     "iopub.status.idle": "2024-07-26T09:16:07.115310Z",
     "shell.execute_reply": "2024-07-26T09:16:07.113707Z"
    },
    "papermill": {
     "duration": 0.049421,
     "end_time": "2024-07-26T09:16:07.117653",
     "exception": false,
     "start_time": "2024-07-26T09:16:07.068232",
     "status": "completed"
    },
    "tags": []
   },
   "outputs": [
    {
     "name": "stdout",
     "output_type": "stream",
     "text": [
      "[1 3 5 7 9]\n"
     ]
    }
   ],
   "source": [
    "#To start with any specific number and interval (step) specified\n",
    "rng = np.arange(1, 10, 2)\n",
    "print(rng)"
   ]
  },
  {
   "cell_type": "markdown",
   "id": "d1303f40",
   "metadata": {
    "papermill": {
     "duration": 0.039583,
     "end_time": "2024-07-26T09:16:07.196712",
     "exception": false,
     "start_time": "2024-07-26T09:16:07.157129",
     "status": "completed"
    },
    "tags": []
   },
   "source": [
    "<div style=\"background-color:gainsboro; padding:8px; border:2px dotted black; border-radius:8px; font-family:verdana; line-height: 1.7em\">\n",
    "• You can also use linspace() method to create an array with values that are spaced linearly in a specified interval.\n",
    "</div>"
   ]
  },
  {
   "cell_type": "code",
   "execution_count": 17,
   "id": "16406d33",
   "metadata": {
    "execution": {
     "iopub.execute_input": "2024-07-26T09:16:07.277485Z",
     "iopub.status.busy": "2024-07-26T09:16:07.277077Z",
     "iopub.status.idle": "2024-07-26T09:16:07.283377Z",
     "shell.execute_reply": "2024-07-26T09:16:07.282206Z"
    },
    "papermill": {
     "duration": 0.050039,
     "end_time": "2024-07-26T09:16:07.285861",
     "exception": false,
     "start_time": "2024-07-26T09:16:07.235822",
     "status": "completed"
    },
    "tags": []
   },
   "outputs": [
    {
     "name": "stdout",
     "output_type": "stream",
     "text": [
      "[ 0.   2.5  5.   7.5 10. ]\n"
     ]
    }
   ],
   "source": [
    "lin_arr = np.linspace(0, 10, num=5)\n",
    "print(lin_arr)"
   ]
  },
  {
   "cell_type": "markdown",
   "id": "94550b31",
   "metadata": {
    "papermill": {
     "duration": 0.039823,
     "end_time": "2024-07-26T09:16:07.364941",
     "exception": false,
     "start_time": "2024-07-26T09:16:07.325118",
     "status": "completed"
    },
    "tags": []
   },
   "source": [
    "<div style=\"background-color:gainsboro; padding:8px; border:2px dotted black; border-radius:8px; font-family:verdana; line-height: 1.7em\">\n",
    "• The tile() method constructs an array by repeating arrays.\n",
    "<br>\n",
    "• You can specify repetitions to create an array by repeating the array any number of times.\n",
    "</div>"
   ]
  },
  {
   "cell_type": "code",
   "execution_count": 18,
   "id": "4fa68b65",
   "metadata": {
    "execution": {
     "iopub.execute_input": "2024-07-26T09:16:07.447956Z",
     "iopub.status.busy": "2024-07-26T09:16:07.447516Z",
     "iopub.status.idle": "2024-07-26T09:16:07.453756Z",
     "shell.execute_reply": "2024-07-26T09:16:07.452695Z"
    },
    "papermill": {
     "duration": 0.050087,
     "end_time": "2024-07-26T09:16:07.455984",
     "exception": false,
     "start_time": "2024-07-26T09:16:07.405897",
     "status": "completed"
    },
    "tags": []
   },
   "outputs": [
    {
     "name": "stdout",
     "output_type": "stream",
     "text": [
      "[1 2 3 4 5 1 2 3 4 5]\n"
     ]
    }
   ],
   "source": [
    "#Create an array by repeating arr 2 times\n",
    "arr = np.array([1,2,3,4,5])\n",
    "tile_arr = np.tile(arr, 2)\n",
    "print(tile_arr)"
   ]
  },
  {
   "cell_type": "markdown",
   "id": "89e8bb7a",
   "metadata": {
    "papermill": {
     "duration": 0.039609,
     "end_time": "2024-07-26T09:16:07.534971",
     "exception": false,
     "start_time": "2024-07-26T09:16:07.495362",
     "status": "completed"
    },
    "tags": []
   },
   "source": [
    "<div style=\"background-color:gainsboro; padding:8px; border:2px dotted black; border-radius:8px; font-family:verdana; line-height: 1.7em\">\n",
    "• The full() method creates a new array of given shape and type, filled with a given fill value.\n",
    "</div>"
   ]
  },
  {
   "cell_type": "code",
   "execution_count": 19,
   "id": "340fd4c3",
   "metadata": {
    "execution": {
     "iopub.execute_input": "2024-07-26T09:16:07.619221Z",
     "iopub.status.busy": "2024-07-26T09:16:07.618813Z",
     "iopub.status.idle": "2024-07-26T09:16:07.625104Z",
     "shell.execute_reply": "2024-07-26T09:16:07.624040Z"
    },
    "papermill": {
     "duration": 0.050788,
     "end_time": "2024-07-26T09:16:07.627310",
     "exception": false,
     "start_time": "2024-07-26T09:16:07.576522",
     "status": "completed"
    },
    "tags": []
   },
   "outputs": [
    {
     "name": "stdout",
     "output_type": "stream",
     "text": [
      "[[3 3]\n",
      " [3 3]]\n"
     ]
    }
   ],
   "source": [
    "#Create a 2X2 array filled with 3s\n",
    "arr = np.full((2,2),3)\n",
    "print(arr)"
   ]
  },
  {
   "cell_type": "markdown",
   "id": "f3945423",
   "metadata": {
    "papermill": {
     "duration": 0.039152,
     "end_time": "2024-07-26T09:16:07.706045",
     "exception": false,
     "start_time": "2024-07-26T09:16:07.666893",
     "status": "completed"
    },
    "tags": []
   },
   "source": [
    "<div style=\"background-color:gainsboro; padding:8px; border:2px dotted black; border-radius:8px; font-family:verdana; line-height: 1.7em\">\n",
    "<font color='#6a66bd' size=\"5px\">Dimensions in Arrays</font>\n",
    "<br>\n",
    "<br>\n",
    "• A dimension in arrays is one level of array depth.\n",
    "<br>\n",
    "<br>\n",
    "<strong>0-D Arrays</strong>\n",
    "<br>\n",
    "• 0-D arrays or Scalars are the elements in an array. Each value in an array is a 0-D array.\n",
    "</div>"
   ]
  },
  {
   "cell_type": "code",
   "execution_count": 20,
   "id": "368366da",
   "metadata": {
    "execution": {
     "iopub.execute_input": "2024-07-26T09:16:07.786701Z",
     "iopub.status.busy": "2024-07-26T09:16:07.786268Z",
     "iopub.status.idle": "2024-07-26T09:16:07.792088Z",
     "shell.execute_reply": "2024-07-26T09:16:07.791081Z"
    },
    "papermill": {
     "duration": 0.049365,
     "end_time": "2024-07-26T09:16:07.794525",
     "exception": false,
     "start_time": "2024-07-26T09:16:07.745160",
     "status": "completed"
    },
    "tags": []
   },
   "outputs": [
    {
     "name": "stdout",
     "output_type": "stream",
     "text": [
      "42\n"
     ]
    }
   ],
   "source": [
    "arr = np.array(42)\n",
    "print(arr)"
   ]
  },
  {
   "cell_type": "markdown",
   "id": "8f8fd899",
   "metadata": {
    "papermill": {
     "duration": 0.03953,
     "end_time": "2024-07-26T09:16:07.874630",
     "exception": false,
     "start_time": "2024-07-26T09:16:07.835100",
     "status": "completed"
    },
    "tags": []
   },
   "source": [
    "<div style=\"background-color:gainsboro; padding:8px; border:2px dotted black; border-radius:8px; font-family:verdana; line-height: 1.7em\">\n",
    "<strong>1-D Arrays</strong>\n",
    "<br>\n",
    "• An array that has 0-D arrays as its elements is called uni-dimensional or 1-D array.\n",
    "<br>\n",
    "• These are the most common and basic arrays.\n",
    "</div>"
   ]
  },
  {
   "cell_type": "code",
   "execution_count": 21,
   "id": "fc1e6861",
   "metadata": {
    "execution": {
     "iopub.execute_input": "2024-07-26T09:16:07.955957Z",
     "iopub.status.busy": "2024-07-26T09:16:07.955562Z",
     "iopub.status.idle": "2024-07-26T09:16:07.961220Z",
     "shell.execute_reply": "2024-07-26T09:16:07.960133Z"
    },
    "papermill": {
     "duration": 0.04969,
     "end_time": "2024-07-26T09:16:07.964143",
     "exception": false,
     "start_time": "2024-07-26T09:16:07.914453",
     "status": "completed"
    },
    "tags": []
   },
   "outputs": [
    {
     "name": "stdout",
     "output_type": "stream",
     "text": [
      "[1 2 3 4 5]\n"
     ]
    }
   ],
   "source": [
    "arr = np.array([1, 2, 3, 4, 5])\n",
    "print(arr)"
   ]
  },
  {
   "cell_type": "markdown",
   "id": "8c6db083",
   "metadata": {
    "papermill": {
     "duration": 0.039232,
     "end_time": "2024-07-26T09:16:08.043516",
     "exception": false,
     "start_time": "2024-07-26T09:16:08.004284",
     "status": "completed"
    },
    "tags": []
   },
   "source": [
    "<div style=\"background-color:gainsboro; padding:8px; border:2px dotted black; border-radius:8px; font-family:verdana; line-height: 1.7em\">\n",
    "<strong>2-D Arrays</strong>\n",
    "<br>\n",
    "• An array that has 1-D arrays as its elements is called a 2-D array.\n",
    "<br>\n",
    "• These are often used to represent matrix or 2nd order tensors.\n",
    "</div>"
   ]
  },
  {
   "cell_type": "code",
   "execution_count": 22,
   "id": "eb574ad5",
   "metadata": {
    "execution": {
     "iopub.execute_input": "2024-07-26T09:16:08.124141Z",
     "iopub.status.busy": "2024-07-26T09:16:08.123748Z",
     "iopub.status.idle": "2024-07-26T09:16:08.129810Z",
     "shell.execute_reply": "2024-07-26T09:16:08.128727Z"
    },
    "papermill": {
     "duration": 0.049249,
     "end_time": "2024-07-26T09:16:08.132210",
     "exception": false,
     "start_time": "2024-07-26T09:16:08.082961",
     "status": "completed"
    },
    "tags": []
   },
   "outputs": [
    {
     "name": "stdout",
     "output_type": "stream",
     "text": [
      "[[1 2 3]\n",
      " [4 5 6]]\n"
     ]
    }
   ],
   "source": [
    "arr = np.array([[1, 2, 3], [4, 5, 6]])\n",
    "print(arr)"
   ]
  },
  {
   "cell_type": "markdown",
   "id": "19ac11dd",
   "metadata": {
    "papermill": {
     "duration": 0.052776,
     "end_time": "2024-07-26T09:16:08.238074",
     "exception": false,
     "start_time": "2024-07-26T09:16:08.185298",
     "status": "completed"
    },
    "tags": []
   },
   "source": [
    "<div style=\"background-color:gainsboro; padding:8px; border:2px dotted black; border-radius:8px; font-family:verdana; line-height: 1.7em\">\n",
    "<strong>3-D arrays</strong>\n",
    "<br>\n",
    "• An array that has 2-D arrays (matrices) as its elements is called 3-D array.\n",
    "<br>\n",
    "• These are often used to represent a 3rd order tensor.\n",
    "</div>"
   ]
  },
  {
   "cell_type": "code",
   "execution_count": 23,
   "id": "2e1c1526",
   "metadata": {
    "execution": {
     "iopub.execute_input": "2024-07-26T09:16:08.327668Z",
     "iopub.status.busy": "2024-07-26T09:16:08.327312Z",
     "iopub.status.idle": "2024-07-26T09:16:08.333650Z",
     "shell.execute_reply": "2024-07-26T09:16:08.332457Z"
    },
    "papermill": {
     "duration": 0.057301,
     "end_time": "2024-07-26T09:16:08.336269",
     "exception": false,
     "start_time": "2024-07-26T09:16:08.278968",
     "status": "completed"
    },
    "tags": []
   },
   "outputs": [
    {
     "name": "stdout",
     "output_type": "stream",
     "text": [
      "[[[1 2 3]\n",
      "  [4 5 6]]\n",
      "\n",
      " [[1 2 3]\n",
      "  [4 5 6]]]\n"
     ]
    }
   ],
   "source": [
    "arr = np.array([[[1, 2, 3], [4, 5, 6]], [[1, 2, 3], [4, 5, 6]]])\n",
    "print(arr)"
   ]
  },
  {
   "cell_type": "markdown",
   "id": "bccd1f3a",
   "metadata": {
    "papermill": {
     "duration": 0.042567,
     "end_time": "2024-07-26T09:16:08.419233",
     "exception": false,
     "start_time": "2024-07-26T09:16:08.376666",
     "status": "completed"
    },
    "tags": []
   },
   "source": [
    "<div style=\"background-color:gainsboro; padding:8px; border:2px dotted black; border-radius:8px; font-family:verdana; line-height: 1.7em\">\n",
    "<strong>Check Number of Dimensions?</strong>\n",
    "<br>\n",
    "• NumPy Arrays provides the ndim attribute that returns an integer that tells us how many dimensions the array have.\n",
    "</div>"
   ]
  },
  {
   "cell_type": "code",
   "execution_count": 24,
   "id": "56f6f724",
   "metadata": {
    "execution": {
     "iopub.execute_input": "2024-07-26T09:16:08.507852Z",
     "iopub.status.busy": "2024-07-26T09:16:08.507465Z",
     "iopub.status.idle": "2024-07-26T09:16:08.515249Z",
     "shell.execute_reply": "2024-07-26T09:16:08.513996Z"
    },
    "papermill": {
     "duration": 0.05244,
     "end_time": "2024-07-26T09:16:08.517634",
     "exception": false,
     "start_time": "2024-07-26T09:16:08.465194",
     "status": "completed"
    },
    "tags": []
   },
   "outputs": [
    {
     "name": "stdout",
     "output_type": "stream",
     "text": [
      "0\n",
      "1\n",
      "2\n",
      "3\n"
     ]
    }
   ],
   "source": [
    "a = np.array(42)\n",
    "b = np.array([1, 2, 3, 4, 5])\n",
    "c = np.array([[1, 2, 3], [4, 5, 6]])\n",
    "d = np.array([[[1, 2, 3], [4, 5, 6]], [[1, 2, 3], [4, 5, 6]]])\n",
    "\n",
    "print(a.ndim)\n",
    "print(b.ndim)\n",
    "print(c.ndim)\n",
    "print(d.ndim)"
   ]
  },
  {
   "cell_type": "markdown",
   "id": "94419c4e",
   "metadata": {
    "papermill": {
     "duration": 0.041393,
     "end_time": "2024-07-26T09:16:08.600792",
     "exception": false,
     "start_time": "2024-07-26T09:16:08.559399",
     "status": "completed"
    },
    "tags": []
   },
   "source": [
    "<div style=\"background-color:gainsboro; padding:8px; border:2px dotted black; border-radius:8px; font-family:verdana; line-height: 1.7em\">\n",
    "<strong>Higher Dimensional Arrays</strong>\n",
    "<br>\n",
    "• An array can have any number of dimensions.\n",
    "<br>\n",
    "• When the array is created, you can define the number of dimensions by using the ndmin argument.\n",
    "</div>"
   ]
  },
  {
   "cell_type": "code",
   "execution_count": 25,
   "id": "399d6a1b",
   "metadata": {
    "execution": {
     "iopub.execute_input": "2024-07-26T09:16:08.710051Z",
     "iopub.status.busy": "2024-07-26T09:16:08.709549Z",
     "iopub.status.idle": "2024-07-26T09:16:08.717054Z",
     "shell.execute_reply": "2024-07-26T09:16:08.715728Z"
    },
    "papermill": {
     "duration": 0.061614,
     "end_time": "2024-07-26T09:16:08.719528",
     "exception": false,
     "start_time": "2024-07-26T09:16:08.657914",
     "status": "completed"
    },
    "tags": []
   },
   "outputs": [
    {
     "name": "stdout",
     "output_type": "stream",
     "text": [
      "[[[[[1 2 3 4]]]]]\n",
      "Dimension of Array : 5\n"
     ]
    }
   ],
   "source": [
    "arr = np.array([1, 2, 3, 4], ndmin=5)\n",
    "print(arr)\n",
    "print('Dimension of Array :', arr.ndim)"
   ]
  },
  {
   "cell_type": "markdown",
   "id": "e1a7a945",
   "metadata": {
    "papermill": {
     "duration": 0.04139,
     "end_time": "2024-07-26T09:16:08.802174",
     "exception": false,
     "start_time": "2024-07-26T09:16:08.760784",
     "status": "completed"
    },
    "tags": []
   },
   "source": [
    "<div style=\"background-color:gainsboro; padding:8px; border:2px dotted black; border-radius:8px; font-family:verdana; line-height: 1.7em\">\n",
    "<font color='#6a66bd' size=\"5px\">NumPy Indexing Array</font>\n",
    "<br>\n",
    "<br>\n",
    "<strong>Access Array Elements</strong>\n",
    "<br>\n",
    "• Array indexing is the same as accessing an array element.\n",
    "<br>\n",
    "• You can access an array element by referring to its index number.\n",
    "<br>\n",
    "• The indexes in NumPy arrays start with 0, meaning that the first element has index 0, and the second has index 1 etc.\n",
    "</div>"
   ]
  },
  {
   "cell_type": "code",
   "execution_count": 26,
   "id": "3b90da79",
   "metadata": {
    "execution": {
     "iopub.execute_input": "2024-07-26T09:16:08.887944Z",
     "iopub.status.busy": "2024-07-26T09:16:08.887039Z",
     "iopub.status.idle": "2024-07-26T09:16:08.893591Z",
     "shell.execute_reply": "2024-07-26T09:16:08.892400Z"
    },
    "papermill": {
     "duration": 0.052026,
     "end_time": "2024-07-26T09:16:08.895946",
     "exception": false,
     "start_time": "2024-07-26T09:16:08.843920",
     "status": "completed"
    },
    "tags": []
   },
   "outputs": [
    {
     "name": "stdout",
     "output_type": "stream",
     "text": [
      "1\n"
     ]
    }
   ],
   "source": [
    "arr = np.array([1, 2, 3, 4])\n",
    "print(arr[0])"
   ]
  },
  {
   "cell_type": "markdown",
   "id": "5d78cc30",
   "metadata": {
    "papermill": {
     "duration": 0.042147,
     "end_time": "2024-07-26T09:16:08.980071",
     "exception": false,
     "start_time": "2024-07-26T09:16:08.937924",
     "status": "completed"
    },
    "tags": []
   },
   "source": [
    "<div style=\"background-color:gainsboro; padding:8px; border:2px dotted black; border-radius:8px; font-family:verdana; line-height: 1.7em\">\n",
    "<strong>Access 2-D Arrays</strong>\n",
    "<br>\n",
    "• To access elements from 2-D arrays we can use comma separated integers representing the dimension and the index of the element.\n",
    "<br>\n",
    "• Think of 2-D arrays like a table with rows and columns, where the dimension represents the row and the index represents the column.\n",
    "</div>"
   ]
  },
  {
   "cell_type": "code",
   "execution_count": 27,
   "id": "db2170e9",
   "metadata": {
    "execution": {
     "iopub.execute_input": "2024-07-26T09:16:09.064965Z",
     "iopub.status.busy": "2024-07-26T09:16:09.063800Z",
     "iopub.status.idle": "2024-07-26T09:16:09.071828Z",
     "shell.execute_reply": "2024-07-26T09:16:09.070549Z"
    },
    "papermill": {
     "duration": 0.053027,
     "end_time": "2024-07-26T09:16:09.074290",
     "exception": false,
     "start_time": "2024-07-26T09:16:09.021263",
     "status": "completed"
    },
    "tags": []
   },
   "outputs": [
    {
     "name": "stdout",
     "output_type": "stream",
     "text": [
      "[[ 1  2  3  4  5]\n",
      " [ 6  7  8  9 10]]\n",
      "2nd element on 1st row : 2\n"
     ]
    }
   ],
   "source": [
    "arr = np.array([[1,2,3,4,5], [6,7,8,9,10]])\n",
    "print(arr)\n",
    "print('2nd element on 1st row :', arr[0, 1])"
   ]
  },
  {
   "cell_type": "markdown",
   "id": "9306496f",
   "metadata": {
    "papermill": {
     "duration": 0.040283,
     "end_time": "2024-07-26T09:16:09.155532",
     "exception": false,
     "start_time": "2024-07-26T09:16:09.115249",
     "status": "completed"
    },
    "tags": []
   },
   "source": [
    "<div style=\"background-color:gainsboro; padding:8px; border:2px dotted black; border-radius:8px; font-family:verdana; line-height: 1.7em\">\n",
    "<strong>Access 3-D Arrays</strong>\n",
    "<br>\n",
    "• To access elements from 3-D arrays we can use comma separated integers representing the dimensions and the index of the element.\n",
    "</div>"
   ]
  },
  {
   "cell_type": "code",
   "execution_count": 28,
   "id": "5848d071",
   "metadata": {
    "execution": {
     "iopub.execute_input": "2024-07-26T09:16:09.238777Z",
     "iopub.status.busy": "2024-07-26T09:16:09.238400Z",
     "iopub.status.idle": "2024-07-26T09:16:09.245206Z",
     "shell.execute_reply": "2024-07-26T09:16:09.244056Z"
    },
    "papermill": {
     "duration": 0.051372,
     "end_time": "2024-07-26T09:16:09.247973",
     "exception": false,
     "start_time": "2024-07-26T09:16:09.196601",
     "status": "completed"
    },
    "tags": []
   },
   "outputs": [
    {
     "name": "stdout",
     "output_type": "stream",
     "text": [
      "[[[ 1  2  3]\n",
      "  [ 4  5  6]]\n",
      "\n",
      " [[ 7  8  9]\n",
      "  [10 11 12]]]\n",
      "3rd element of the second array of the first array : 6\n"
     ]
    }
   ],
   "source": [
    "arr = np.array([[[1, 2, 3], [4, 5, 6]], [[7, 8, 9], [10, 11, 12]]])\n",
    "print(arr)\n",
    "print('3rd element of the second array of the first array :', arr[0, 1, 2])"
   ]
  },
  {
   "cell_type": "markdown",
   "id": "123de69d",
   "metadata": {
    "papermill": {
     "duration": 0.040376,
     "end_time": "2024-07-26T09:16:09.329637",
     "exception": false,
     "start_time": "2024-07-26T09:16:09.289261",
     "status": "completed"
    },
    "tags": []
   },
   "source": [
    "<div style=\"background-color:gainsboro; padding:8px; border:2px dotted black; border-radius:8px; font-family:verdana; line-height: 1.7em\">\n",
    "<strong>Negative Indexing</strong>\n",
    "<br>\n",
    "• Use negative indexing to access an array from the end.\n",
    "</div>"
   ]
  },
  {
   "cell_type": "code",
   "execution_count": 29,
   "id": "dacc22f8",
   "metadata": {
    "execution": {
     "iopub.execute_input": "2024-07-26T09:16:09.418407Z",
     "iopub.status.busy": "2024-07-26T09:16:09.418044Z",
     "iopub.status.idle": "2024-07-26T09:16:09.424928Z",
     "shell.execute_reply": "2024-07-26T09:16:09.423537Z"
    },
    "papermill": {
     "duration": 0.054038,
     "end_time": "2024-07-26T09:16:09.427590",
     "exception": false,
     "start_time": "2024-07-26T09:16:09.373552",
     "status": "completed"
    },
    "tags": []
   },
   "outputs": [
    {
     "name": "stdout",
     "output_type": "stream",
     "text": [
      "[[ 1  2  3  4  5]\n",
      " [ 6  7  8  9 10]]\n",
      "Last element from last row : 10\n"
     ]
    }
   ],
   "source": [
    "arr = np.array([[1,2,3,4,5], [6,7,8,9,10]])\n",
    "print(arr)\n",
    "print('Last element from last row :', arr[1, -1])"
   ]
  },
  {
   "cell_type": "markdown",
   "id": "e192ba8d",
   "metadata": {
    "papermill": {
     "duration": 0.041476,
     "end_time": "2024-07-26T09:16:09.510513",
     "exception": false,
     "start_time": "2024-07-26T09:16:09.469037",
     "status": "completed"
    },
    "tags": []
   },
   "source": [
    "<div style=\"background-color:gainsboro; padding:8px; border:2px dotted black; border-radius:8px; font-family:verdana; line-height: 1.7em\">\n",
    "<font color='#6a66bd' size=\"5px\">NumPy Slicing Array</font>\n",
    "<br>\n",
    "<br>\n",
    "<strong>Slicing Arrays</strong>\n",
    "<br>\n",
    "• Slicing in python means taking elements from one given index to another given index.\n",
    "<br>\n",
    "• We pass slice instead of index like this : [start:end].\n",
    "<br>\n",
    "• We can also define the step, like this : [start:end:step].\n",
    "<br>\n",
    "• If we don't pass start its considered 0\n",
    "<br>\n",
    "• If we don't pass end its considered length of array in that dimension\n",
    "<br>\n",
    "• If we don't pass step its considered 1\n",
    "<div style=\"background-color:#ADD8E6; padding:8px; border:1px solid #87CEEB; border-radius:4px;\">\n",
    "<strong>Note :</strong> The result includes the start index, but excludes the end index.\n",
    "</div>\n",
    "</div>"
   ]
  },
  {
   "cell_type": "code",
   "execution_count": 30,
   "id": "b84388fb",
   "metadata": {
    "execution": {
     "iopub.execute_input": "2024-07-26T09:16:09.595661Z",
     "iopub.status.busy": "2024-07-26T09:16:09.595275Z",
     "iopub.status.idle": "2024-07-26T09:16:09.601620Z",
     "shell.execute_reply": "2024-07-26T09:16:09.600458Z"
    },
    "papermill": {
     "duration": 0.052456,
     "end_time": "2024-07-26T09:16:09.603957",
     "exception": false,
     "start_time": "2024-07-26T09:16:09.551501",
     "status": "completed"
    },
    "tags": []
   },
   "outputs": [
    {
     "name": "stdout",
     "output_type": "stream",
     "text": [
      "[2 3 4 5]\n"
     ]
    }
   ],
   "source": [
    "#Slice elements from index 1 to index 5\n",
    "arr = np.array([1, 2, 3, 4, 5, 6, 7])\n",
    "print(arr[1:5])"
   ]
  },
  {
   "cell_type": "code",
   "execution_count": 31,
   "id": "52b9ec66",
   "metadata": {
    "execution": {
     "iopub.execute_input": "2024-07-26T09:16:09.688832Z",
     "iopub.status.busy": "2024-07-26T09:16:09.688144Z",
     "iopub.status.idle": "2024-07-26T09:16:09.695512Z",
     "shell.execute_reply": "2024-07-26T09:16:09.694292Z"
    },
    "papermill": {
     "duration": 0.052396,
     "end_time": "2024-07-26T09:16:09.698358",
     "exception": false,
     "start_time": "2024-07-26T09:16:09.645962",
     "status": "completed"
    },
    "tags": []
   },
   "outputs": [
    {
     "name": "stdout",
     "output_type": "stream",
     "text": [
      "[5 6 7]\n"
     ]
    }
   ],
   "source": [
    "#Slice elements from index 4 to the end of the array\n",
    "arr = np.array([1, 2, 3, 4, 5, 6, 7])\n",
    "print(arr[4:])"
   ]
  },
  {
   "cell_type": "code",
   "execution_count": 32,
   "id": "bd92af13",
   "metadata": {
    "execution": {
     "iopub.execute_input": "2024-07-26T09:16:09.784132Z",
     "iopub.status.busy": "2024-07-26T09:16:09.783730Z",
     "iopub.status.idle": "2024-07-26T09:16:09.790107Z",
     "shell.execute_reply": "2024-07-26T09:16:09.788916Z"
    },
    "papermill": {
     "duration": 0.053049,
     "end_time": "2024-07-26T09:16:09.792464",
     "exception": false,
     "start_time": "2024-07-26T09:16:09.739415",
     "status": "completed"
    },
    "tags": []
   },
   "outputs": [
    {
     "name": "stdout",
     "output_type": "stream",
     "text": [
      "[1 2 3 4]\n"
     ]
    }
   ],
   "source": [
    "#Slice elements from the beginning to index 4 (not included)\n",
    "arr = np.array([1, 2, 3, 4, 5, 6, 7])\n",
    "print(arr[:4])"
   ]
  },
  {
   "cell_type": "markdown",
   "id": "fd68f921",
   "metadata": {
    "papermill": {
     "duration": 0.040632,
     "end_time": "2024-07-26T09:16:09.874231",
     "exception": false,
     "start_time": "2024-07-26T09:16:09.833599",
     "status": "completed"
    },
    "tags": []
   },
   "source": [
    "<div style=\"background-color:gainsboro; padding:8px; border:2px dotted black; border-radius:8px; font-family:verdana; line-height: 1.7em\">\n",
    "<strong>Negative Slicing</strong>\n",
    "<br>\n",
    "• Use the minus operator to refer to an index from the end.\n",
    "</div>"
   ]
  },
  {
   "cell_type": "code",
   "execution_count": 33,
   "id": "71e7a2de",
   "metadata": {
    "execution": {
     "iopub.execute_input": "2024-07-26T09:16:09.960213Z",
     "iopub.status.busy": "2024-07-26T09:16:09.958985Z",
     "iopub.status.idle": "2024-07-26T09:16:09.967280Z",
     "shell.execute_reply": "2024-07-26T09:16:09.965989Z"
    },
    "papermill": {
     "duration": 0.053673,
     "end_time": "2024-07-26T09:16:09.969915",
     "exception": false,
     "start_time": "2024-07-26T09:16:09.916242",
     "status": "completed"
    },
    "tags": []
   },
   "outputs": [
    {
     "name": "stdout",
     "output_type": "stream",
     "text": [
      "[5 6]\n"
     ]
    }
   ],
   "source": [
    "#Slice from the index 3 from the end to index 1 from the end\n",
    "arr = np.array([1, 2, 3, 4, 5, 6, 7])\n",
    "print(arr[-3:-1])"
   ]
  },
  {
   "cell_type": "markdown",
   "id": "9321d162",
   "metadata": {
    "papermill": {
     "duration": 0.040865,
     "end_time": "2024-07-26T09:16:10.054421",
     "exception": false,
     "start_time": "2024-07-26T09:16:10.013556",
     "status": "completed"
    },
    "tags": []
   },
   "source": [
    "<div style=\"background-color:gainsboro; padding:8px; border:2px dotted black; border-radius:8px; font-family:verdana; line-height: 1.7em\">\n",
    "<strong>Step</strong>\n",
    "<br>\n",
    "• Use the step value to determine the step of the slicing.\n",
    "</div>"
   ]
  },
  {
   "cell_type": "code",
   "execution_count": 34,
   "id": "c2a82eba",
   "metadata": {
    "execution": {
     "iopub.execute_input": "2024-07-26T09:16:10.139960Z",
     "iopub.status.busy": "2024-07-26T09:16:10.139597Z",
     "iopub.status.idle": "2024-07-26T09:16:10.145576Z",
     "shell.execute_reply": "2024-07-26T09:16:10.144485Z"
    },
    "papermill": {
     "duration": 0.052712,
     "end_time": "2024-07-26T09:16:10.148485",
     "exception": false,
     "start_time": "2024-07-26T09:16:10.095773",
     "status": "completed"
    },
    "tags": []
   },
   "outputs": [
    {
     "name": "stdout",
     "output_type": "stream",
     "text": [
      "[2 4]\n"
     ]
    }
   ],
   "source": [
    "#Return every other element from index 1 to index 5\n",
    "arr = np.array([1, 2, 3, 4, 5, 6, 7])\n",
    "print(arr[1:5:2])"
   ]
  },
  {
   "cell_type": "markdown",
   "id": "4754c975",
   "metadata": {
    "papermill": {
     "duration": 0.041521,
     "end_time": "2024-07-26T09:16:10.231764",
     "exception": false,
     "start_time": "2024-07-26T09:16:10.190243",
     "status": "completed"
    },
    "tags": []
   },
   "source": [
    "<div style=\"background-color:gainsboro; padding:8px; border:2px dotted black; border-radius:8px; font-family:verdana; line-height: 1.7em\">\n",
    "<strong>Slicing 2-D Arrays</strong>\n",
    "</div>"
   ]
  },
  {
   "cell_type": "code",
   "execution_count": 35,
   "id": "ca9dbab1",
   "metadata": {
    "execution": {
     "iopub.execute_input": "2024-07-26T09:16:10.315041Z",
     "iopub.status.busy": "2024-07-26T09:16:10.314665Z",
     "iopub.status.idle": "2024-07-26T09:16:10.320756Z",
     "shell.execute_reply": "2024-07-26T09:16:10.319832Z"
    },
    "papermill": {
     "duration": 0.050561,
     "end_time": "2024-07-26T09:16:10.323265",
     "exception": false,
     "start_time": "2024-07-26T09:16:10.272704",
     "status": "completed"
    },
    "tags": []
   },
   "outputs": [
    {
     "name": "stdout",
     "output_type": "stream",
     "text": [
      "[7 8 9]\n"
     ]
    }
   ],
   "source": [
    "#From the second element, slice elements from index 1 to index 4\n",
    "arr = np.array([[1, 2, 3, 4, 5], [6, 7, 8, 9, 10]])\n",
    "print(arr[1, 1:4])"
   ]
  },
  {
   "cell_type": "code",
   "execution_count": 36,
   "id": "ceea717b",
   "metadata": {
    "execution": {
     "iopub.execute_input": "2024-07-26T09:16:10.408909Z",
     "iopub.status.busy": "2024-07-26T09:16:10.408553Z",
     "iopub.status.idle": "2024-07-26T09:16:10.414575Z",
     "shell.execute_reply": "2024-07-26T09:16:10.413421Z"
    },
    "papermill": {
     "duration": 0.052534,
     "end_time": "2024-07-26T09:16:10.417052",
     "exception": false,
     "start_time": "2024-07-26T09:16:10.364518",
     "status": "completed"
    },
    "tags": []
   },
   "outputs": [
    {
     "name": "stdout",
     "output_type": "stream",
     "text": [
      "[3 8]\n"
     ]
    }
   ],
   "source": [
    "#From both elements, return index 2\n",
    "arr = np.array([[1, 2, 3, 4, 5], [6, 7, 8, 9, 10]])\n",
    "print(arr[0:2, 2])"
   ]
  },
  {
   "cell_type": "code",
   "execution_count": 37,
   "id": "d3efbe6f",
   "metadata": {
    "execution": {
     "iopub.execute_input": "2024-07-26T09:16:10.503361Z",
     "iopub.status.busy": "2024-07-26T09:16:10.502933Z",
     "iopub.status.idle": "2024-07-26T09:16:10.509967Z",
     "shell.execute_reply": "2024-07-26T09:16:10.508553Z"
    },
    "papermill": {
     "duration": 0.053993,
     "end_time": "2024-07-26T09:16:10.512574",
     "exception": false,
     "start_time": "2024-07-26T09:16:10.458581",
     "status": "completed"
    },
    "tags": []
   },
   "outputs": [
    {
     "name": "stdout",
     "output_type": "stream",
     "text": [
      "[[2 3 4]\n",
      " [7 8 9]]\n"
     ]
    }
   ],
   "source": [
    "#From both elements, slice index 1 to index 4 (not included), this will return a 2-D array:\n",
    "arr = np.array([[1, 2, 3, 4, 5], [6, 7, 8, 9, 10]])\n",
    "print(arr[0:2, 1:4])"
   ]
  },
  {
   "cell_type": "markdown",
   "id": "9755b2b8",
   "metadata": {
    "papermill": {
     "duration": 0.042537,
     "end_time": "2024-07-26T09:16:10.598672",
     "exception": false,
     "start_time": "2024-07-26T09:16:10.556135",
     "status": "completed"
    },
    "tags": []
   },
   "source": [
    "<!--Font Awesome-->\n",
    "<link rel=\"stylesheet\" href=\"https://cdnjs.cloudflare.com/ajax/libs/font-awesome/5.15.4/css/all.min.css\"/>\n",
    "\n",
    "<div style=\"background-color:gainsboro; padding:8px; border:2px dotted black; border-radius:8px; font-family:verdana; line-height: 1.7em\">\n",
    "<font color='#6a66bd' size=\"5px\">Data Types in NumPy</font>\n",
    "<br>\n",
    "<br>\n",
    "• NumPy has some extra data types and refer to data types with one character like i for integers, u for unsigned integers etc.\n",
    "<br>\n",
    "• Below is a list of all data types in NumPy and the characters used to represent them.\n",
    "<br>\n",
    "<i class=\"fas fa-arrow-right\"></i> <strong>i</strong> - integer\n",
    "<br>\n",
    "<i class=\"fas fa-arrow-right\"></i> <strong>b</strong> - boolean\n",
    "<br>\n",
    "<i class=\"fas fa-arrow-right\"></i> <strong>u</strong> - unsigned integer\n",
    "<br>\n",
    "<i class=\"fas fa-arrow-right\"></i> <strong>f</strong> - float\n",
    "<br>\n",
    "<i class=\"fas fa-arrow-right\"></i> <strong>c</strong> - complex float\n",
    "<br>\n",
    "<i class=\"fas fa-arrow-right\"></i> <strong>m</strong> - timedelta\n",
    "<br>\n",
    "<i class=\"fas fa-arrow-right\"></i> <strong>M</strong> - datetime\n",
    "<br>\n",
    "<i class=\"fas fa-arrow-right\"></i> <strong>O</strong> - object\n",
    "<br>\n",
    "<i class=\"fas fa-arrow-right\"></i> <strong>S</strong> - string\n",
    "<br>\n",
    "<i class=\"fas fa-arrow-right\"></i> <strong>U</strong> - unicode string\n",
    "<br>\n",
    "<i class=\"fas fa-arrow-right\"></i> <strong>V</strong> - fixed chunk of memory for other type (void)\n",
    "<br>\n",
    "<br>\n",
    "<strong>Checking the Data Type of an Array</strong>\n",
    "<br>\n",
    "• The NumPy array object has a property called dtype that returns the data type of the array.\n",
    "</div>"
   ]
  },
  {
   "cell_type": "code",
   "execution_count": 38,
   "id": "6eef9df2",
   "metadata": {
    "execution": {
     "iopub.execute_input": "2024-07-26T09:16:10.684650Z",
     "iopub.status.busy": "2024-07-26T09:16:10.684266Z",
     "iopub.status.idle": "2024-07-26T09:16:10.689775Z",
     "shell.execute_reply": "2024-07-26T09:16:10.688626Z"
    },
    "papermill": {
     "duration": 0.051179,
     "end_time": "2024-07-26T09:16:10.692431",
     "exception": false,
     "start_time": "2024-07-26T09:16:10.641252",
     "status": "completed"
    },
    "tags": []
   },
   "outputs": [
    {
     "name": "stdout",
     "output_type": "stream",
     "text": [
      "int64\n"
     ]
    }
   ],
   "source": [
    "arr = np.array([1, 2, 3, 4])\n",
    "print(arr.dtype)"
   ]
  },
  {
   "cell_type": "markdown",
   "id": "669434a0",
   "metadata": {
    "papermill": {
     "duration": 0.041543,
     "end_time": "2024-07-26T09:16:10.776917",
     "exception": false,
     "start_time": "2024-07-26T09:16:10.735374",
     "status": "completed"
    },
    "tags": []
   },
   "source": [
    "<div style=\"background-color:gainsboro; padding:8px; border:2px dotted black; border-radius:8px; font-family:verdana; line-height: 1.7em\">\n",
    "<strong>Creating Arrays With a Defined Data Type</strong>\n",
    "<br>\n",
    "• We use the array() function to create arrays, this function can take an optional argument : dtype that allows us to define the expected data type of the array elements.\n",
    "</div>"
   ]
  },
  {
   "cell_type": "code",
   "execution_count": 39,
   "id": "e1a57f24",
   "metadata": {
    "execution": {
     "iopub.execute_input": "2024-07-26T09:16:10.864028Z",
     "iopub.status.busy": "2024-07-26T09:16:10.863625Z",
     "iopub.status.idle": "2024-07-26T09:16:10.870523Z",
     "shell.execute_reply": "2024-07-26T09:16:10.869135Z"
    },
    "papermill": {
     "duration": 0.053937,
     "end_time": "2024-07-26T09:16:10.872864",
     "exception": false,
     "start_time": "2024-07-26T09:16:10.818927",
     "status": "completed"
    },
    "tags": []
   },
   "outputs": [
    {
     "name": "stdout",
     "output_type": "stream",
     "text": [
      "[b'1' b'2' b'3' b'4']\n",
      "|S1\n"
     ]
    }
   ],
   "source": [
    "arr = np.array([1, 2, 3, 4], dtype='S')\n",
    "print(arr)\n",
    "print(arr.dtype)"
   ]
  },
  {
   "cell_type": "markdown",
   "id": "377f13ad",
   "metadata": {
    "papermill": {
     "duration": 0.042686,
     "end_time": "2024-07-26T09:16:10.957911",
     "exception": false,
     "start_time": "2024-07-26T09:16:10.915225",
     "status": "completed"
    },
    "tags": []
   },
   "source": [
    "<div style=\"background-color:gainsboro; padding:8px; border:2px dotted black; border-radius:8px; font-family:verdana; line-height: 1.7em\">\n",
    "• For i, u, f, S and U we can define size for the datatype also.\n",
    "</div>"
   ]
  },
  {
   "cell_type": "code",
   "execution_count": 40,
   "id": "2543ae9c",
   "metadata": {
    "execution": {
     "iopub.execute_input": "2024-07-26T09:16:11.046983Z",
     "iopub.status.busy": "2024-07-26T09:16:11.045858Z",
     "iopub.status.idle": "2024-07-26T09:16:11.052311Z",
     "shell.execute_reply": "2024-07-26T09:16:11.051199Z"
    },
    "papermill": {
     "duration": 0.052047,
     "end_time": "2024-07-26T09:16:11.054762",
     "exception": false,
     "start_time": "2024-07-26T09:16:11.002715",
     "status": "completed"
    },
    "tags": []
   },
   "outputs": [
    {
     "name": "stdout",
     "output_type": "stream",
     "text": [
      "[1 2 3 4]\n",
      "int32\n"
     ]
    }
   ],
   "source": [
    "arr = np.array([1, 2, 3, 4], dtype='i4')\n",
    "print(arr)\n",
    "print(arr.dtype)"
   ]
  },
  {
   "cell_type": "markdown",
   "id": "2fd1de97",
   "metadata": {
    "papermill": {
     "duration": 0.04217,
     "end_time": "2024-07-26T09:16:11.140800",
     "exception": false,
     "start_time": "2024-07-26T09:16:11.098630",
     "status": "completed"
    },
    "tags": []
   },
   "source": [
    "<div style=\"background-color:gainsboro; padding:8px; border:2px dotted black; border-radius:8px; font-family:verdana; line-height: 1.7em\">\n",
    "<strong>Converting Data Type on Existing Arrays</strong>\n",
    "<br>\n",
    "• The best way to change the data type of an existing array, is to make a copy of the array with the astype() method.\n",
    "<br>\n",
    "• The astype() function creates a copy of the array and allows you to specify the data type as a parameter.\n",
    "<br>\n",
    "• The data type can be specified using a string, like 'f' for float, 'i' for integer etc. \n",
    "<br>\n",
    "• Or you can use the data type directly like float for float and int for integer.\n",
    "</div>"
   ]
  },
  {
   "cell_type": "code",
   "execution_count": 41,
   "id": "ca8d5031",
   "metadata": {
    "execution": {
     "iopub.execute_input": "2024-07-26T09:16:11.227622Z",
     "iopub.status.busy": "2024-07-26T09:16:11.226866Z",
     "iopub.status.idle": "2024-07-26T09:16:11.233255Z",
     "shell.execute_reply": "2024-07-26T09:16:11.232189Z"
    },
    "papermill": {
     "duration": 0.052864,
     "end_time": "2024-07-26T09:16:11.235711",
     "exception": false,
     "start_time": "2024-07-26T09:16:11.182847",
     "status": "completed"
    },
    "tags": []
   },
   "outputs": [
    {
     "name": "stdout",
     "output_type": "stream",
     "text": [
      "[1 2 3]\n",
      "int32\n"
     ]
    }
   ],
   "source": [
    "arr = np.array([1.1, 2.1, 3.1])\n",
    "newarr = arr.astype('i')\n",
    "print(newarr)\n",
    "print(newarr.dtype)"
   ]
  },
  {
   "cell_type": "markdown",
   "id": "600759cf",
   "metadata": {
    "papermill": {
     "duration": 0.04625,
     "end_time": "2024-07-26T09:16:11.326606",
     "exception": false,
     "start_time": "2024-07-26T09:16:11.280356",
     "status": "completed"
    },
    "tags": []
   },
   "source": [
    "<div style=\"background-color:gainsboro; padding:8px; border:2px dotted black; border-radius:8px; font-family:verdana; line-height: 1.7em\">\n",
    "<font color='#6a66bd' size=\"5px\">NumPy Array Copy vs View</font>\n",
    "<br>\n",
    "<br>\n",
    "<strong>Difference Between Copy and View</strong>\n",
    "<br>\n",
    "• The main difference between a copy and a view of an array is that the copy is a new array and the view is just a view of the original array.\n",
    "<br>\n",
    "• The copy owns the data and any changes made to the copy will not affect original array and any changes made to the original array will not affect the copy.\n",
    "<br>\n",
    "• The view does not own the data and any changes made to the view will affect the original array and any changes made to the original array will affect the view.\n",
    "\n",
    "\n",
    "\n",
    "\n",
    "\n",
    "\n",
    "\n",
    "\n",
    "\n",
    "\n",
    "\n",
    "</div>"
   ]
  },
  {
   "cell_type": "code",
   "execution_count": 42,
   "id": "49af9646",
   "metadata": {
    "execution": {
     "iopub.execute_input": "2024-07-26T09:16:11.416142Z",
     "iopub.status.busy": "2024-07-26T09:16:11.415737Z",
     "iopub.status.idle": "2024-07-26T09:16:11.422044Z",
     "shell.execute_reply": "2024-07-26T09:16:11.420887Z"
    },
    "papermill": {
     "duration": 0.055475,
     "end_time": "2024-07-26T09:16:11.424612",
     "exception": false,
     "start_time": "2024-07-26T09:16:11.369137",
     "status": "completed"
    },
    "tags": []
   },
   "outputs": [
    {
     "name": "stdout",
     "output_type": "stream",
     "text": [
      "[42  2  3  4  5]\n",
      "[1 2 3 4 5]\n"
     ]
    }
   ],
   "source": [
    "#Make a copy, change the original array and display both arrays\n",
    "arr = np.array([1, 2, 3, 4, 5])\n",
    "x = arr.copy()\n",
    "arr[0] = 42\n",
    "print(arr)\n",
    "print(x)"
   ]
  },
  {
   "cell_type": "code",
   "execution_count": 43,
   "id": "e575a2de",
   "metadata": {
    "execution": {
     "iopub.execute_input": "2024-07-26T09:16:11.517464Z",
     "iopub.status.busy": "2024-07-26T09:16:11.517046Z",
     "iopub.status.idle": "2024-07-26T09:16:11.524680Z",
     "shell.execute_reply": "2024-07-26T09:16:11.523517Z"
    },
    "papermill": {
     "duration": 0.056303,
     "end_time": "2024-07-26T09:16:11.527176",
     "exception": false,
     "start_time": "2024-07-26T09:16:11.470873",
     "status": "completed"
    },
    "tags": []
   },
   "outputs": [
    {
     "name": "stdout",
     "output_type": "stream",
     "text": [
      "[42  2  3  4  5]\n",
      "[42  2  3  4  5]\n"
     ]
    }
   ],
   "source": [
    "#Make a view, change the original array and display both arrays\n",
    "arr = np.array([1, 2, 3, 4, 5])\n",
    "x = arr.view()\n",
    "arr[0] = 42\n",
    "print(arr)\n",
    "print(x)"
   ]
  },
  {
   "cell_type": "markdown",
   "id": "2ff62afe",
   "metadata": {
    "papermill": {
     "duration": 0.042855,
     "end_time": "2024-07-26T09:16:11.613270",
     "exception": false,
     "start_time": "2024-07-26T09:16:11.570415",
     "status": "completed"
    },
    "tags": []
   },
   "source": [
    "<div style=\"background-color:gainsboro; padding:8px; border:2px dotted black; border-radius:8px; font-family:verdana; line-height: 1.7em\">\n",
    "<strong>Check if Array Owns its Data</strong>\n",
    "<br>\n",
    "• Copies owns the data and views does not own the data, but how can we check this?\n",
    "<br>\n",
    "• Every NumPy array has the attribute base that returns None if the array owns the data.\n",
    "<br>\n",
    "• Otherwise, the base attribute refers to the original object.\n",
    "<div style=\"background-color:#ADD8E6; padding:8px; border:1px solid #87CEEB; border-radius:4px;\">\n",
    "<strong>Note :</strong> The copy returns None.\n",
    "</div>\n",
    "<div style=\"background-color:#ADD8E6; padding:8px; border:1px solid #87CEEB; border-radius:4px;\">\n",
    "<strong>Note :</strong> The view returns the original array.\n",
    "</div>\n",
    "</div>"
   ]
  },
  {
   "cell_type": "code",
   "execution_count": 44,
   "id": "c78ad701",
   "metadata": {
    "execution": {
     "iopub.execute_input": "2024-07-26T09:16:11.702150Z",
     "iopub.status.busy": "2024-07-26T09:16:11.701140Z",
     "iopub.status.idle": "2024-07-26T09:16:11.708097Z",
     "shell.execute_reply": "2024-07-26T09:16:11.706884Z"
    },
    "papermill": {
     "duration": 0.053344,
     "end_time": "2024-07-26T09:16:11.710626",
     "exception": false,
     "start_time": "2024-07-26T09:16:11.657282",
     "status": "completed"
    },
    "tags": []
   },
   "outputs": [
    {
     "name": "stdout",
     "output_type": "stream",
     "text": [
      "None\n",
      "[1 2 3 4 5]\n"
     ]
    }
   ],
   "source": [
    "arr = np.array([1, 2, 3, 4, 5])\n",
    "\n",
    "x = arr.copy()\n",
    "y = arr.view()\n",
    "\n",
    "print(x.base)\n",
    "print(y.base)"
   ]
  },
  {
   "cell_type": "markdown",
   "id": "bd4ea6f9",
   "metadata": {
    "papermill": {
     "duration": 0.041956,
     "end_time": "2024-07-26T09:16:11.796483",
     "exception": false,
     "start_time": "2024-07-26T09:16:11.754527",
     "status": "completed"
    },
    "tags": []
   },
   "source": [
    "<div style=\"background-color:gainsboro; padding:8px; border:2px dotted black; border-radius:8px; font-family:verdana; line-height: 1.7em\">\n",
    "<font color='#6a66bd' size=\"5px\">NumPy Array Size</font>\n",
    "<br>\n",
    "<br>\n",
    "• To find the total number of elements in the array, use the size function of NumPy.\n",
    "</div>"
   ]
  },
  {
   "cell_type": "code",
   "execution_count": 45,
   "id": "1b291d04",
   "metadata": {
    "execution": {
     "iopub.execute_input": "2024-07-26T09:16:11.882992Z",
     "iopub.status.busy": "2024-07-26T09:16:11.882609Z",
     "iopub.status.idle": "2024-07-26T09:16:11.889086Z",
     "shell.execute_reply": "2024-07-26T09:16:11.887881Z"
    },
    "papermill": {
     "duration": 0.052936,
     "end_time": "2024-07-26T09:16:11.891915",
     "exception": false,
     "start_time": "2024-07-26T09:16:11.838979",
     "status": "completed"
    },
    "tags": []
   },
   "outputs": [
    {
     "name": "stdout",
     "output_type": "stream",
     "text": [
      "[[1 2 3 4]\n",
      " [5 6 7 8]]\n",
      "8\n"
     ]
    }
   ],
   "source": [
    "arr = np.array([[1, 2, 3, 4], [5, 6, 7, 8]])\n",
    "print(arr)\n",
    "print(arr.size)"
   ]
  },
  {
   "cell_type": "markdown",
   "id": "36b88840",
   "metadata": {
    "papermill": {
     "duration": 0.042475,
     "end_time": "2024-07-26T09:16:11.978235",
     "exception": false,
     "start_time": "2024-07-26T09:16:11.935760",
     "status": "completed"
    },
    "tags": []
   },
   "source": [
    "<div style=\"background-color:gainsboro; padding:8px; border:2px dotted black; border-radius:8px; font-family:verdana; line-height: 1.7em\">\n",
    "<font color='#6a66bd' size=\"5px\">NumPy Array Shape</font>\n",
    "<br>\n",
    "<br>\n",
    "<br>\n",
    "<strong>Shape of an Array</strong>\n",
    "<br>\n",
    "• The shape of an array is the number of elements in each dimension.\n",
    "<br>\n",
    "<br>\n",
    "<strong>Get the Shape of an Array</strong>\n",
    "<br>\n",
    "• NumPy arrays have an attribute called shape that returns a tuple with each index having the number of corresponding elements.\n",
    "</div>"
   ]
  },
  {
   "cell_type": "code",
   "execution_count": 46,
   "id": "66e8b7b4",
   "metadata": {
    "execution": {
     "iopub.execute_input": "2024-07-26T09:16:12.066834Z",
     "iopub.status.busy": "2024-07-26T09:16:12.066359Z",
     "iopub.status.idle": "2024-07-26T09:16:12.073186Z",
     "shell.execute_reply": "2024-07-26T09:16:12.071949Z"
    },
    "papermill": {
     "duration": 0.053274,
     "end_time": "2024-07-26T09:16:12.075444",
     "exception": false,
     "start_time": "2024-07-26T09:16:12.022170",
     "status": "completed"
    },
    "tags": []
   },
   "outputs": [
    {
     "name": "stdout",
     "output_type": "stream",
     "text": [
      "[[1 2 3 4]\n",
      " [5 6 7 8]]\n",
      "(2, 4)\n"
     ]
    }
   ],
   "source": [
    "arr = np.array([[1, 2, 3, 4], [5, 6, 7, 8]])\n",
    "print(arr)\n",
    "print(arr.shape)"
   ]
  },
  {
   "cell_type": "markdown",
   "id": "bd5891f3",
   "metadata": {
    "papermill": {
     "duration": 0.041992,
     "end_time": "2024-07-26T09:16:12.160347",
     "exception": false,
     "start_time": "2024-07-26T09:16:12.118355",
     "status": "completed"
    },
    "tags": []
   },
   "source": [
    "<div style=\"background-color:gainsboro; padding:8px; border:2px dotted black; border-radius:8px; font-family:verdana; line-height: 1.7em\">\n",
    "<font color='#6a66bd' size=\"5px\">NumPy Reshaping Array</font>\n",
    "<br>\n",
    "<br>\n",
    "<strong>Reshaping Arrays</strong>\n",
    "<br>\n",
    "• Reshaping means changing the shape of an array.\n",
    "<br>\n",
    "• The shape of an array is the number of elements in each dimension.\n",
    "<br>\n",
    "• By reshaping we can add or remove dimensions or change number of elements in each dimension.\n",
    "</div>"
   ]
  },
  {
   "cell_type": "code",
   "execution_count": 47,
   "id": "6eee20d9",
   "metadata": {
    "execution": {
     "iopub.execute_input": "2024-07-26T09:16:12.246672Z",
     "iopub.status.busy": "2024-07-26T09:16:12.246261Z",
     "iopub.status.idle": "2024-07-26T09:16:12.252780Z",
     "shell.execute_reply": "2024-07-26T09:16:12.251485Z"
    },
    "papermill": {
     "duration": 0.052934,
     "end_time": "2024-07-26T09:16:12.255712",
     "exception": false,
     "start_time": "2024-07-26T09:16:12.202778",
     "status": "completed"
    },
    "tags": []
   },
   "outputs": [
    {
     "name": "stdout",
     "output_type": "stream",
     "text": [
      "[[ 1  2  3]\n",
      " [ 4  5  6]\n",
      " [ 7  8  9]\n",
      " [10 11 12]]\n"
     ]
    }
   ],
   "source": [
    "#Reshape From 1-D to 2-D\n",
    "arr = np.array([1, 2, 3, 4, 5, 6, 7, 8, 9, 10, 11, 12])\n",
    "newarr = arr.reshape(4, 3)\n",
    "print(newarr)"
   ]
  },
  {
   "cell_type": "code",
   "execution_count": 48,
   "id": "680f503a",
   "metadata": {
    "execution": {
     "iopub.execute_input": "2024-07-26T09:16:12.344208Z",
     "iopub.status.busy": "2024-07-26T09:16:12.343818Z",
     "iopub.status.idle": "2024-07-26T09:16:12.350056Z",
     "shell.execute_reply": "2024-07-26T09:16:12.348956Z"
    },
    "papermill": {
     "duration": 0.052376,
     "end_time": "2024-07-26T09:16:12.352315",
     "exception": false,
     "start_time": "2024-07-26T09:16:12.299939",
     "status": "completed"
    },
    "tags": []
   },
   "outputs": [
    {
     "name": "stdout",
     "output_type": "stream",
     "text": [
      "[[[ 1  2]\n",
      "  [ 3  4]\n",
      "  [ 5  6]]\n",
      "\n",
      " [[ 7  8]\n",
      "  [ 9 10]\n",
      "  [11 12]]]\n"
     ]
    }
   ],
   "source": [
    "#Reshape From 1-D to 3-D\n",
    "arr = np.array([1, 2, 3, 4, 5, 6, 7, 8, 9, 10, 11, 12])\n",
    "newarr = arr.reshape(2, 3, 2)\n",
    "print(newarr)"
   ]
  },
  {
   "cell_type": "markdown",
   "id": "dddf4314",
   "metadata": {
    "papermill": {
     "duration": 0.04502,
     "end_time": "2024-07-26T09:16:12.441539",
     "exception": false,
     "start_time": "2024-07-26T09:16:12.396519",
     "status": "completed"
    },
    "tags": []
   },
   "source": [
    "<div style=\"background-color:gainsboro; padding:8px; border:2px dotted black; border-radius:8px; font-family:verdana; line-height: 1.7em\">\n",
    "<strong>Can We Reshape Into any Shape?</strong>\n",
    "<br>\n",
    "• Yes, as long as the elements required for reshaping are equal in both shapes.\n",
    "<br>\n",
    "• We can reshape an 8 elements 1D array into 4 elements in 2 rows 2D array but we cannot reshape it into a 3 elements 3 rows 2D array as that would require 3x3 = 9 elements.\n",
    "</div>"
   ]
  },
  {
   "cell_type": "code",
   "execution_count": 49,
   "id": "b6dd6e08",
   "metadata": {
    "execution": {
     "iopub.execute_input": "2024-07-26T09:16:12.529297Z",
     "iopub.status.busy": "2024-07-26T09:16:12.528874Z",
     "iopub.status.idle": "2024-07-26T09:16:12.535346Z",
     "shell.execute_reply": "2024-07-26T09:16:12.534282Z"
    },
    "papermill": {
     "duration": 0.053801,
     "end_time": "2024-07-26T09:16:12.538168",
     "exception": false,
     "start_time": "2024-07-26T09:16:12.484367",
     "status": "completed"
    },
    "tags": []
   },
   "outputs": [
    {
     "name": "stdout",
     "output_type": "stream",
     "text": [
      "[[1 2]\n",
      " [3 4]\n",
      " [5 6]\n",
      " [7 8]]\n"
     ]
    }
   ],
   "source": [
    "arr = np.array([1, 2, 3, 4, 5, 6, 7, 8])\n",
    "newarr = arr.reshape(4, 2)\n",
    "print(newarr)"
   ]
  },
  {
   "cell_type": "markdown",
   "id": "ed0bcec8",
   "metadata": {
    "papermill": {
     "duration": 0.043063,
     "end_time": "2024-07-26T09:16:12.624888",
     "exception": false,
     "start_time": "2024-07-26T09:16:12.581825",
     "status": "completed"
    },
    "tags": []
   },
   "source": [
    "<div style=\"background-color:gainsboro; padding:8px; border:2px dotted black; border-radius:8px; font-family:verdana; line-height: 1.7em\">\n",
    "<strong>Returns Copy or View?</strong>\n",
    "<br>\n",
    "• Check if the returned array in reshape is a copy or a view.\n",
    "</div>"
   ]
  },
  {
   "cell_type": "code",
   "execution_count": 50,
   "id": "f2091cc9",
   "metadata": {
    "execution": {
     "iopub.execute_input": "2024-07-26T09:16:12.714074Z",
     "iopub.status.busy": "2024-07-26T09:16:12.713680Z",
     "iopub.status.idle": "2024-07-26T09:16:12.720035Z",
     "shell.execute_reply": "2024-07-26T09:16:12.718856Z"
    },
    "papermill": {
     "duration": 0.053756,
     "end_time": "2024-07-26T09:16:12.722589",
     "exception": false,
     "start_time": "2024-07-26T09:16:12.668833",
     "status": "completed"
    },
    "tags": []
   },
   "outputs": [
    {
     "name": "stdout",
     "output_type": "stream",
     "text": [
      "[1 2 3 4 5 6 7 8]\n"
     ]
    }
   ],
   "source": [
    "arr = np.array([1, 2, 3, 4, 5, 6, 7, 8])\n",
    "print(arr.reshape(2, 4).base) #It is a view as it returns original array"
   ]
  },
  {
   "cell_type": "markdown",
   "id": "3609403b",
   "metadata": {
    "papermill": {
     "duration": 0.043782,
     "end_time": "2024-07-26T09:16:12.810073",
     "exception": false,
     "start_time": "2024-07-26T09:16:12.766291",
     "status": "completed"
    },
    "tags": []
   },
   "source": [
    "<div style=\"background-color:gainsboro; padding:8px; border:2px dotted black; border-radius:8px; font-family:verdana; line-height: 1.7em\">\n",
    "<strong>Unknown Dimension</strong>\n",
    "<br>\n",
    "• You are allowed to have one \"unknown\" dimension.\n",
    "<br>\n",
    "• Meaning that you do not have to specify an exact number for one of the dimensions in the reshape method.\n",
    "<br>\n",
    "• Pass -1 as the value and NumPy will calculate this number for you.\n",
    "</div>"
   ]
  },
  {
   "cell_type": "code",
   "execution_count": 51,
   "id": "da4d7397",
   "metadata": {
    "execution": {
     "iopub.execute_input": "2024-07-26T09:16:12.898065Z",
     "iopub.status.busy": "2024-07-26T09:16:12.897283Z",
     "iopub.status.idle": "2024-07-26T09:16:12.903875Z",
     "shell.execute_reply": "2024-07-26T09:16:12.902670Z"
    },
    "papermill": {
     "duration": 0.05325,
     "end_time": "2024-07-26T09:16:12.906282",
     "exception": false,
     "start_time": "2024-07-26T09:16:12.853032",
     "status": "completed"
    },
    "tags": []
   },
   "outputs": [
    {
     "name": "stdout",
     "output_type": "stream",
     "text": [
      "[[[1 2]\n",
      "  [3 4]]\n",
      "\n",
      " [[5 6]\n",
      "  [7 8]]]\n"
     ]
    }
   ],
   "source": [
    "arr = np.array([1, 2, 3, 4, 5, 6, 7, 8])\n",
    "newarr = arr.reshape(2, 2, -1)\n",
    "print(newarr)"
   ]
  },
  {
   "cell_type": "markdown",
   "id": "155abb07",
   "metadata": {
    "papermill": {
     "duration": 0.043886,
     "end_time": "2024-07-26T09:16:12.993586",
     "exception": false,
     "start_time": "2024-07-26T09:16:12.949700",
     "status": "completed"
    },
    "tags": []
   },
   "source": [
    "<div style=\"background-color:gainsboro; padding:8px; border:2px dotted black; border-radius:8px; font-family:verdana; line-height: 1.7em\">\n",
    "<font color='#6a66bd' size=\"5px\">NumPy Flattening Arrays</font>\n",
    "<br>\n",
    "<br>\n",
    "• Flattening array means converting a multidimensional array into a 1D array.\n",
    "<br>\n",
    "• We can use reshape(-1) to do this.\n",
    "</div>"
   ]
  },
  {
   "cell_type": "code",
   "execution_count": 52,
   "id": "553db2ab",
   "metadata": {
    "execution": {
     "iopub.execute_input": "2024-07-26T09:16:13.084050Z",
     "iopub.status.busy": "2024-07-26T09:16:13.083112Z",
     "iopub.status.idle": "2024-07-26T09:16:13.089793Z",
     "shell.execute_reply": "2024-07-26T09:16:13.088444Z"
    },
    "papermill": {
     "duration": 0.054181,
     "end_time": "2024-07-26T09:16:13.092031",
     "exception": false,
     "start_time": "2024-07-26T09:16:13.037850",
     "status": "completed"
    },
    "tags": []
   },
   "outputs": [
    {
     "name": "stdout",
     "output_type": "stream",
     "text": [
      "[1 2 3 4 5 6]\n"
     ]
    }
   ],
   "source": [
    "arr = np.array([[1, 2, 3], [4, 5, 6]])\n",
    "newarr = arr.reshape(-1)\n",
    "print(newarr)"
   ]
  },
  {
   "cell_type": "markdown",
   "id": "f945df9d",
   "metadata": {
    "papermill": {
     "duration": 0.043142,
     "end_time": "2024-07-26T09:16:13.179220",
     "exception": false,
     "start_time": "2024-07-26T09:16:13.136078",
     "status": "completed"
    },
    "tags": []
   },
   "source": [
    "<div style=\"background-color:gainsboro; padding:8px; border:2px dotted black; border-radius:8px; font-family:verdana; line-height: 1.7em\">\n",
    "• arr.ravel() can also be used to flatten an array.\n",
    "</div>"
   ]
  },
  {
   "cell_type": "code",
   "execution_count": 53,
   "id": "7b82d73e",
   "metadata": {
    "execution": {
     "iopub.execute_input": "2024-07-26T09:16:13.269768Z",
     "iopub.status.busy": "2024-07-26T09:16:13.269250Z",
     "iopub.status.idle": "2024-07-26T09:16:13.276967Z",
     "shell.execute_reply": "2024-07-26T09:16:13.275694Z"
    },
    "papermill": {
     "duration": 0.058085,
     "end_time": "2024-07-26T09:16:13.280743",
     "exception": false,
     "start_time": "2024-07-26T09:16:13.222658",
     "status": "completed"
    },
    "tags": []
   },
   "outputs": [
    {
     "name": "stdout",
     "output_type": "stream",
     "text": [
      "[1 2 3 4 5 6 7 8 9]\n"
     ]
    }
   ],
   "source": [
    "arr = np.array([[1,2,3],[4,5,6],[7,8,9]])\n",
    "newarr = arr.ravel()\n",
    "print(newarr)"
   ]
  },
  {
   "cell_type": "markdown",
   "id": "453eca51",
   "metadata": {
    "papermill": {
     "duration": 0.043811,
     "end_time": "2024-07-26T09:16:13.371501",
     "exception": false,
     "start_time": "2024-07-26T09:16:13.327690",
     "status": "completed"
    },
    "tags": []
   },
   "source": [
    "<div style=\"background-color:gainsboro; padding:8px; border:2px dotted black; border-radius:8px; font-family:verdana; line-height: 1.7em\">\n",
    "• You can use flatten() to flatten your array into a 1D array.\n",
    "</div>"
   ]
  },
  {
   "cell_type": "code",
   "execution_count": 54,
   "id": "e724ed67",
   "metadata": {
    "execution": {
     "iopub.execute_input": "2024-07-26T09:16:13.468575Z",
     "iopub.status.busy": "2024-07-26T09:16:13.467835Z",
     "iopub.status.idle": "2024-07-26T09:16:13.475490Z",
     "shell.execute_reply": "2024-07-26T09:16:13.474475Z"
    },
    "papermill": {
     "duration": 0.060678,
     "end_time": "2024-07-26T09:16:13.478564",
     "exception": false,
     "start_time": "2024-07-26T09:16:13.417886",
     "status": "completed"
    },
    "tags": []
   },
   "outputs": [
    {
     "name": "stdout",
     "output_type": "stream",
     "text": [
      "[1 2 3 4 5 6 7 8 9]\n"
     ]
    }
   ],
   "source": [
    "arr = np.array([[1,2,3],[4,5,6],[7,8,9]])\n",
    "newarr = arr.flatten()\n",
    "print(newarr)"
   ]
  },
  {
   "cell_type": "markdown",
   "id": "a04098c3",
   "metadata": {
    "papermill": {
     "duration": 0.04603,
     "end_time": "2024-07-26T09:16:13.588816",
     "exception": false,
     "start_time": "2024-07-26T09:16:13.542786",
     "status": "completed"
    },
    "tags": []
   },
   "source": [
    "<div style=\"background-color:gainsboro; padding:8px; border:2px dotted black; border-radius:8px; font-family:verdana; line-height: 1.7em\">\n",
    "<font color='#6a66bd' size=\"5px\">Reversing an Array</font>\n",
    "<br>\n",
    "<br>\n",
    "• np.flip() function allows you to flip or reverse the contents of an array along an axis. \n",
    "<br>\n",
    "• When using np.flip(), specify the array you would like to reverse and the axis. \n",
    "<br>\n",
    "• If you don’t specify the axis, NumPy will reverse the contents along all of the axes of your input array.\n",
    "</div>"
   ]
  },
  {
   "cell_type": "code",
   "execution_count": 55,
   "id": "2193446b",
   "metadata": {
    "execution": {
     "iopub.execute_input": "2024-07-26T09:16:13.680974Z",
     "iopub.status.busy": "2024-07-26T09:16:13.680575Z",
     "iopub.status.idle": "2024-07-26T09:16:13.686836Z",
     "shell.execute_reply": "2024-07-26T09:16:13.685660Z"
    },
    "papermill": {
     "duration": 0.054816,
     "end_time": "2024-07-26T09:16:13.689449",
     "exception": false,
     "start_time": "2024-07-26T09:16:13.634633",
     "status": "completed"
    },
    "tags": []
   },
   "outputs": [
    {
     "name": "stdout",
     "output_type": "stream",
     "text": [
      "[1 2 3 4 5 6 7 8]\n",
      "[8 7 6 5 4 3 2 1]\n"
     ]
    }
   ],
   "source": [
    "#Reversing an 1D Array\n",
    "arr = np.array([1, 2, 3, 4, 5, 6, 7, 8])\n",
    "newarr = np.flip(arr)\n",
    "\n",
    "print(arr)\n",
    "\n",
    "print(newarr)"
   ]
  },
  {
   "cell_type": "code",
   "execution_count": 56,
   "id": "79564145",
   "metadata": {
    "execution": {
     "iopub.execute_input": "2024-07-26T09:16:13.779751Z",
     "iopub.status.busy": "2024-07-26T09:16:13.779340Z",
     "iopub.status.idle": "2024-07-26T09:16:13.786288Z",
     "shell.execute_reply": "2024-07-26T09:16:13.785086Z"
    },
    "papermill": {
     "duration": 0.054892,
     "end_time": "2024-07-26T09:16:13.788630",
     "exception": false,
     "start_time": "2024-07-26T09:16:13.733738",
     "status": "completed"
    },
    "tags": []
   },
   "outputs": [
    {
     "name": "stdout",
     "output_type": "stream",
     "text": [
      "[[1 2 3]\n",
      " [4 5 6]\n",
      " [7 8 9]]\n",
      "[[9 8 7]\n",
      " [6 5 4]\n",
      " [3 2 1]]\n"
     ]
    }
   ],
   "source": [
    "#Reversing an 2D Array\n",
    "arr = np.array([[1,2,3],[4,5,6],[7,8,9]])\n",
    "newarr = np.flip(arr)\n",
    "\n",
    "print(arr)\n",
    "\n",
    "print(newarr)"
   ]
  },
  {
   "cell_type": "markdown",
   "id": "7843bb75",
   "metadata": {
    "papermill": {
     "duration": 0.044433,
     "end_time": "2024-07-26T09:16:13.877105",
     "exception": false,
     "start_time": "2024-07-26T09:16:13.832672",
     "status": "completed"
    },
    "tags": []
   },
   "source": [
    "<div style=\"background-color:gainsboro; padding:8px; border:2px dotted black; border-radius:8px; font-family:verdana; line-height: 1.7em\">\n",
    "<font color='#6a66bd' size=\"5px\">NumPy Unique Elements</font>\n",
    "<br>\n",
    "<br>\n",
    "• You can find the unique elements in an array easily with np.unique.\n",
    "</div>"
   ]
  },
  {
   "cell_type": "code",
   "execution_count": 57,
   "id": "24d4ebcc",
   "metadata": {
    "execution": {
     "iopub.execute_input": "2024-07-26T09:16:13.966809Z",
     "iopub.status.busy": "2024-07-26T09:16:13.966418Z",
     "iopub.status.idle": "2024-07-26T09:16:13.973197Z",
     "shell.execute_reply": "2024-07-26T09:16:13.971920Z"
    },
    "papermill": {
     "duration": 0.054813,
     "end_time": "2024-07-26T09:16:13.975783",
     "exception": false,
     "start_time": "2024-07-26T09:16:13.920970",
     "status": "completed"
    },
    "tags": []
   },
   "outputs": [
    {
     "name": "stdout",
     "output_type": "stream",
     "text": [
      "[11 12 13 14 15 16 17 18 19 20]\n"
     ]
    }
   ],
   "source": [
    "arr = np.array([11, 11, 12, 13, 14, 15, 16, 17, 12, 13, 11, 14, 18, 19, 20])\n",
    "newarr = np.unique(arr)\n",
    "print(newarr)"
   ]
  },
  {
   "cell_type": "markdown",
   "id": "5a86bd36",
   "metadata": {
    "papermill": {
     "duration": 0.046019,
     "end_time": "2024-07-26T09:16:14.067821",
     "exception": false,
     "start_time": "2024-07-26T09:16:14.021802",
     "status": "completed"
    },
    "tags": []
   },
   "source": [
    "<div style=\"background-color:gainsboro; padding:8px; border:2px dotted black; border-radius:8px; font-family:verdana; line-height: 1.7em\">\n",
    "• To get the index of unique values in a NumPy array, just pass the return_index argument in np.unique() function.\n",
    "</div>"
   ]
  },
  {
   "cell_type": "code",
   "execution_count": 58,
   "id": "58649624",
   "metadata": {
    "execution": {
     "iopub.execute_input": "2024-07-26T09:16:14.158263Z",
     "iopub.status.busy": "2024-07-26T09:16:14.157473Z",
     "iopub.status.idle": "2024-07-26T09:16:14.165627Z",
     "shell.execute_reply": "2024-07-26T09:16:14.164419Z"
    },
    "papermill": {
     "duration": 0.055667,
     "end_time": "2024-07-26T09:16:14.167840",
     "exception": false,
     "start_time": "2024-07-26T09:16:14.112173",
     "status": "completed"
    },
    "tags": []
   },
   "outputs": [
    {
     "name": "stdout",
     "output_type": "stream",
     "text": [
      "[11 12 13 14 15 16 17 18 19 20]\n",
      "[ 0  2  3  4  5  6  7 12 13 14]\n"
     ]
    }
   ],
   "source": [
    "arr = np.array([11, 11, 12, 13, 14, 15, 16, 17, 12, 13, 11, 14, 18, 19, 20])\n",
    "newarr, index_list = np.unique(arr, return_index=True)\n",
    "print(newarr)\n",
    "print(index_list)"
   ]
  },
  {
   "cell_type": "markdown",
   "id": "c3dbb456",
   "metadata": {
    "papermill": {
     "duration": 0.044482,
     "end_time": "2024-07-26T09:16:14.256667",
     "exception": false,
     "start_time": "2024-07-26T09:16:14.212185",
     "status": "completed"
    },
    "tags": []
   },
   "source": [
    "<div style=\"background-color:gainsboro; padding:8px; border:2px dotted black; border-radius:8px; font-family:verdana; line-height: 1.7em\">\n",
    "• You can pass the return_counts argument in np.unique() along with your array to get the frequency count of unique values in a NumPy array.\n",
    "</div>"
   ]
  },
  {
   "cell_type": "code",
   "execution_count": 59,
   "id": "192b8428",
   "metadata": {
    "execution": {
     "iopub.execute_input": "2024-07-26T09:16:14.347920Z",
     "iopub.status.busy": "2024-07-26T09:16:14.346893Z",
     "iopub.status.idle": "2024-07-26T09:16:14.355730Z",
     "shell.execute_reply": "2024-07-26T09:16:14.354513Z"
    },
    "papermill": {
     "duration": 0.057706,
     "end_time": "2024-07-26T09:16:14.358698",
     "exception": false,
     "start_time": "2024-07-26T09:16:14.300992",
     "status": "completed"
    },
    "tags": []
   },
   "outputs": [
    {
     "name": "stdout",
     "output_type": "stream",
     "text": [
      "[11 12 13 14 15 16 17 18 19 20]\n",
      "[3 2 2 2 1 1 1 1 1 1]\n"
     ]
    }
   ],
   "source": [
    "arr = np.array([11, 11, 12, 13, 14, 15, 16, 17, 12, 13, 11, 14, 18, 19, 20])\n",
    "newarr, count_list = np.unique(arr, return_counts=True)\n",
    "print(newarr)\n",
    "print(count_list)"
   ]
  },
  {
   "cell_type": "markdown",
   "id": "e8b8d073",
   "metadata": {
    "papermill": {
     "duration": 0.047016,
     "end_time": "2024-07-26T09:16:14.450341",
     "exception": false,
     "start_time": "2024-07-26T09:16:14.403325",
     "status": "completed"
    },
    "tags": []
   },
   "source": [
    "<div style=\"background-color:gainsboro; padding:8px; border:2px dotted black; border-radius:8px; font-family:verdana; line-height: 1.7em\">\n",
    "<font color='#6a66bd' size=\"5px\">NumPy Iterating Array</font>\n",
    "<br>\n",
    "<br>\n",
    "<strong>Iterating Arrays</strong>\n",
    "<br>\n",
    "• Iterating means going through elements one by one.\n",
    "<br>\n",
    "• As we deal with multi-dimensional arrays in numpy, we can do this using basic for loop of python.\n",
    "<br>\n",
    "• If we iterate on a 1-D array it will go through each element one by one.\n",
    "</div>"
   ]
  },
  {
   "cell_type": "code",
   "execution_count": 60,
   "id": "952fd40c",
   "metadata": {
    "execution": {
     "iopub.execute_input": "2024-07-26T09:16:14.541983Z",
     "iopub.status.busy": "2024-07-26T09:16:14.541594Z",
     "iopub.status.idle": "2024-07-26T09:16:14.548137Z",
     "shell.execute_reply": "2024-07-26T09:16:14.546929Z"
    },
    "papermill": {
     "duration": 0.056653,
     "end_time": "2024-07-26T09:16:14.551749",
     "exception": false,
     "start_time": "2024-07-26T09:16:14.495096",
     "status": "completed"
    },
    "tags": []
   },
   "outputs": [
    {
     "name": "stdout",
     "output_type": "stream",
     "text": [
      "1\n",
      "2\n",
      "3\n"
     ]
    }
   ],
   "source": [
    "arr = np.array([1, 2, 3])\n",
    "for x in arr:\n",
    "  print(x)"
   ]
  },
  {
   "cell_type": "markdown",
   "id": "7d831642",
   "metadata": {
    "papermill": {
     "duration": 0.045661,
     "end_time": "2024-07-26T09:16:14.645068",
     "exception": false,
     "start_time": "2024-07-26T09:16:14.599407",
     "status": "completed"
    },
    "tags": []
   },
   "source": [
    "<div style=\"background-color:gainsboro; padding:8px; border:2px dotted black; border-radius:8px; font-family:verdana; line-height: 1.7em\">\n",
    "<strong>Iterating 2-D Arrays</strong>\n",
    "<br>\n",
    "• In a 2-D array it will go through all the rows.\n",
    "</div>"
   ]
  },
  {
   "cell_type": "code",
   "execution_count": 61,
   "id": "b6067951",
   "metadata": {
    "execution": {
     "iopub.execute_input": "2024-07-26T09:16:14.735948Z",
     "iopub.status.busy": "2024-07-26T09:16:14.735561Z",
     "iopub.status.idle": "2024-07-26T09:16:14.741775Z",
     "shell.execute_reply": "2024-07-26T09:16:14.740647Z"
    },
    "papermill": {
     "duration": 0.054852,
     "end_time": "2024-07-26T09:16:14.744809",
     "exception": false,
     "start_time": "2024-07-26T09:16:14.689957",
     "status": "completed"
    },
    "tags": []
   },
   "outputs": [
    {
     "name": "stdout",
     "output_type": "stream",
     "text": [
      "[1 2 3]\n",
      "[4 5 6]\n"
     ]
    }
   ],
   "source": [
    "arr = np.array([[1, 2, 3], [4, 5, 6]])\n",
    "for x in arr:\n",
    "  print(x)"
   ]
  },
  {
   "cell_type": "code",
   "execution_count": 62,
   "id": "c23099ad",
   "metadata": {
    "execution": {
     "iopub.execute_input": "2024-07-26T09:16:14.836016Z",
     "iopub.status.busy": "2024-07-26T09:16:14.835630Z",
     "iopub.status.idle": "2024-07-26T09:16:14.841628Z",
     "shell.execute_reply": "2024-07-26T09:16:14.840497Z"
    },
    "papermill": {
     "duration": 0.054079,
     "end_time": "2024-07-26T09:16:14.843762",
     "exception": false,
     "start_time": "2024-07-26T09:16:14.789683",
     "status": "completed"
    },
    "tags": []
   },
   "outputs": [
    {
     "name": "stdout",
     "output_type": "stream",
     "text": [
      "1\n",
      "2\n",
      "3\n",
      "4\n",
      "5\n",
      "6\n"
     ]
    }
   ],
   "source": [
    "#Iterate on each scalar element of the 2-D array\n",
    "arr = np.array([[1, 2, 3], [4, 5, 6]])\n",
    "for x in arr:\n",
    "  for y in x:\n",
    "    print(y)"
   ]
  },
  {
   "cell_type": "markdown",
   "id": "dbb6acc7",
   "metadata": {
    "papermill": {
     "duration": 0.044096,
     "end_time": "2024-07-26T09:16:14.932461",
     "exception": false,
     "start_time": "2024-07-26T09:16:14.888365",
     "status": "completed"
    },
    "tags": []
   },
   "source": [
    "<div style=\"background-color:gainsboro; padding:8px; border:2px dotted black; border-radius:8px; font-family:verdana; line-height: 1.7em\">\n",
    "<strong>Iterating 3-D Arrays</strong>\n",
    "<br>\n",
    "• In a 3-D array it will go through all the 2-D arrays.\n",
    "</div>"
   ]
  },
  {
   "cell_type": "code",
   "execution_count": 63,
   "id": "3d89dbb2",
   "metadata": {
    "execution": {
     "iopub.execute_input": "2024-07-26T09:16:15.024094Z",
     "iopub.status.busy": "2024-07-26T09:16:15.023654Z",
     "iopub.status.idle": "2024-07-26T09:16:15.030545Z",
     "shell.execute_reply": "2024-07-26T09:16:15.029432Z"
    },
    "papermill": {
     "duration": 0.056425,
     "end_time": "2024-07-26T09:16:15.033414",
     "exception": false,
     "start_time": "2024-07-26T09:16:14.976989",
     "status": "completed"
    },
    "tags": []
   },
   "outputs": [
    {
     "name": "stdout",
     "output_type": "stream",
     "text": [
      "[[1 2 3]\n",
      " [4 5 6]]\n",
      "[[ 7  8  9]\n",
      " [10 11 12]]\n"
     ]
    }
   ],
   "source": [
    "arr = np.array([[[1, 2, 3], [4, 5, 6]], [[7, 8, 9], [10, 11, 12]]])\n",
    "for x in arr:\n",
    "  print(x)"
   ]
  },
  {
   "cell_type": "code",
   "execution_count": 64,
   "id": "d1efbfb9",
   "metadata": {
    "execution": {
     "iopub.execute_input": "2024-07-26T09:16:15.125282Z",
     "iopub.status.busy": "2024-07-26T09:16:15.124321Z",
     "iopub.status.idle": "2024-07-26T09:16:15.131081Z",
     "shell.execute_reply": "2024-07-26T09:16:15.129805Z"
    },
    "papermill": {
     "duration": 0.055399,
     "end_time": "2024-07-26T09:16:15.133647",
     "exception": false,
     "start_time": "2024-07-26T09:16:15.078248",
     "status": "completed"
    },
    "tags": []
   },
   "outputs": [
    {
     "name": "stdout",
     "output_type": "stream",
     "text": [
      "1\n",
      "2\n",
      "3\n",
      "4\n",
      "5\n",
      "6\n",
      "7\n",
      "8\n",
      "9\n",
      "10\n",
      "11\n",
      "12\n"
     ]
    }
   ],
   "source": [
    "#Iterate on each scalar element of the 2-D array\n",
    "arr = np.array([[[1, 2, 3], [4, 5, 6]], [[7, 8, 9], [10, 11, 12]]])\n",
    "for x in arr:\n",
    "  for y in x:\n",
    "    for z in y:\n",
    "      print(z)"
   ]
  },
  {
   "cell_type": "markdown",
   "id": "b1a66db1",
   "metadata": {
    "papermill": {
     "duration": 0.044838,
     "end_time": "2024-07-26T09:16:15.223357",
     "exception": false,
     "start_time": "2024-07-26T09:16:15.178519",
     "status": "completed"
    },
    "tags": []
   },
   "source": [
    "<div style=\"background-color:gainsboro; padding:8px; border:2px dotted black; border-radius:8px; font-family:verdana; line-height: 1.7em\">\n",
    "<strong>Iterating Arrays Using nditer()</strong>\n",
    "<br>\n",
    "• The function nditer() is a helping function that can be used from very basic to very advanced iterations. \n",
    "<br>    \n",
    "• It solves some basic issues which we face in iteration, lets go through it with examples.\n",
    "</div>"
   ]
  },
  {
   "cell_type": "code",
   "execution_count": 65,
   "id": "330b3a9d",
   "metadata": {
    "execution": {
     "iopub.execute_input": "2024-07-26T09:16:15.314596Z",
     "iopub.status.busy": "2024-07-26T09:16:15.313801Z",
     "iopub.status.idle": "2024-07-26T09:16:15.320128Z",
     "shell.execute_reply": "2024-07-26T09:16:15.319078Z"
    },
    "papermill": {
     "duration": 0.054189,
     "end_time": "2024-07-26T09:16:15.322356",
     "exception": false,
     "start_time": "2024-07-26T09:16:15.268167",
     "status": "completed"
    },
    "tags": []
   },
   "outputs": [
    {
     "name": "stdout",
     "output_type": "stream",
     "text": [
      "1\n",
      "2\n",
      "3\n",
      "4\n",
      "5\n",
      "6\n",
      "7\n",
      "8\n"
     ]
    }
   ],
   "source": [
    "arr = np.array([[[1, 2], [3, 4]], [[5, 6], [7, 8]]])\n",
    "for x in np.nditer(arr):\n",
    "  print(x)"
   ]
  },
  {
   "cell_type": "markdown",
   "id": "3689aed3",
   "metadata": {
    "papermill": {
     "duration": 0.045162,
     "end_time": "2024-07-26T09:16:15.413438",
     "exception": false,
     "start_time": "2024-07-26T09:16:15.368276",
     "status": "completed"
    },
    "tags": []
   },
   "source": [
    "<div style=\"background-color:gainsboro; padding:8px; border:2px dotted black; border-radius:8px; font-family:verdana; line-height: 1.7em\">\n",
    "<strong>Iterating With Different Step Size</strong>\n",
    "<br>\n",
    "• We can use filtering and followed by iteration.\n",
    "</div>"
   ]
  },
  {
   "cell_type": "code",
   "execution_count": 66,
   "id": "71b8b000",
   "metadata": {
    "execution": {
     "iopub.execute_input": "2024-07-26T09:16:15.507720Z",
     "iopub.status.busy": "2024-07-26T09:16:15.507317Z",
     "iopub.status.idle": "2024-07-26T09:16:15.513678Z",
     "shell.execute_reply": "2024-07-26T09:16:15.512499Z"
    },
    "papermill": {
     "duration": 0.056033,
     "end_time": "2024-07-26T09:16:15.516646",
     "exception": false,
     "start_time": "2024-07-26T09:16:15.460613",
     "status": "completed"
    },
    "tags": []
   },
   "outputs": [
    {
     "name": "stdout",
     "output_type": "stream",
     "text": [
      "1\n",
      "3\n",
      "5\n",
      "7\n"
     ]
    }
   ],
   "source": [
    "#Iterate through every scalar element of the 2D array skipping 1 element\n",
    "arr = np.array([[1, 2, 3, 4], [5, 6, 7, 8]])\n",
    "for x in np.nditer(arr[:, ::2]):\n",
    "  print(x)"
   ]
  },
  {
   "cell_type": "markdown",
   "id": "24d32655",
   "metadata": {
    "papermill": {
     "duration": 0.04551,
     "end_time": "2024-07-26T09:16:15.609373",
     "exception": false,
     "start_time": "2024-07-26T09:16:15.563863",
     "status": "completed"
    },
    "tags": []
   },
   "source": [
    "<div style=\"background-color:gainsboro; padding:8px; border:2px dotted black; border-radius:8px; font-family:verdana; line-height: 1.7em\">\n",
    "<strong>Enumerated Iteration Using ndenumerate()</strong>\n",
    "<br>\n",
    "• Enumeration means mentioning sequence number of somethings one by one.\n",
    "<br>\n",
    "• Sometimes we require corresponding index of the element while iterating, the ndenumerate() method can be used for those use cases.\n",
    "</div>"
   ]
  },
  {
   "cell_type": "code",
   "execution_count": 67,
   "id": "85b89409",
   "metadata": {
    "execution": {
     "iopub.execute_input": "2024-07-26T09:16:15.701599Z",
     "iopub.status.busy": "2024-07-26T09:16:15.701134Z",
     "iopub.status.idle": "2024-07-26T09:16:15.707029Z",
     "shell.execute_reply": "2024-07-26T09:16:15.705923Z"
    },
    "papermill": {
     "duration": 0.055092,
     "end_time": "2024-07-26T09:16:15.709646",
     "exception": false,
     "start_time": "2024-07-26T09:16:15.654554",
     "status": "completed"
    },
    "tags": []
   },
   "outputs": [
    {
     "name": "stdout",
     "output_type": "stream",
     "text": [
      "(0,) 1\n",
      "(1,) 2\n",
      "(2,) 3\n"
     ]
    }
   ],
   "source": [
    "#Enumerate on following 1D arrays elements\n",
    "arr = np.array([1, 2, 3])\n",
    "for idx, x in np.ndenumerate(arr):\n",
    "  print(idx, x)"
   ]
  },
  {
   "cell_type": "code",
   "execution_count": 68,
   "id": "a0590ae8",
   "metadata": {
    "execution": {
     "iopub.execute_input": "2024-07-26T09:16:15.803698Z",
     "iopub.status.busy": "2024-07-26T09:16:15.803269Z",
     "iopub.status.idle": "2024-07-26T09:16:15.809271Z",
     "shell.execute_reply": "2024-07-26T09:16:15.808242Z"
    },
    "papermill": {
     "duration": 0.056724,
     "end_time": "2024-07-26T09:16:15.812673",
     "exception": false,
     "start_time": "2024-07-26T09:16:15.755949",
     "status": "completed"
    },
    "tags": []
   },
   "outputs": [
    {
     "name": "stdout",
     "output_type": "stream",
     "text": [
      "(0, 0) 1\n",
      "(0, 1) 2\n",
      "(0, 2) 3\n",
      "(0, 3) 4\n",
      "(1, 0) 5\n",
      "(1, 1) 6\n",
      "(1, 2) 7\n",
      "(1, 3) 8\n"
     ]
    }
   ],
   "source": [
    "#Enumerate on following 2D arrays elements\n",
    "arr = np.array([[1, 2, 3, 4], [5, 6, 7, 8]])\n",
    "for idx, x in np.ndenumerate(arr):\n",
    "  print(idx, x)"
   ]
  },
  {
   "cell_type": "markdown",
   "id": "bad6de98",
   "metadata": {
    "papermill": {
     "duration": 0.045113,
     "end_time": "2024-07-26T09:16:15.903782",
     "exception": false,
     "start_time": "2024-07-26T09:16:15.858669",
     "status": "completed"
    },
    "tags": []
   },
   "source": [
    "<!--Font Awesome-->\n",
    "<link rel=\"stylesheet\" href=\"https://cdnjs.cloudflare.com/ajax/libs/font-awesome/5.15.4/css/all.min.css\"/>\n",
    "\n",
    "<div style=\"background-color:gainsboro; padding:8px; border:2px dotted black; border-radius:8px; font-family:verdana; line-height: 1.7em\">\n",
    "<font color='#6a66bd' size=\"5px\">NumPy Joining Array</font>\n",
    "<br>\n",
    "<br>\n",
    "<strong>Joining NumPy Arrays</strong>\n",
    "<br>\n",
    "• Joining means putting contents of two or more arrays in a single array.\n",
    "<br>\n",
    "• We pass a sequence of arrays that we want to join to the concatenate() function, along with the axis. \n",
    "<br>\n",
    "• If axis is not explicitly passed, it is taken as 0.\n",
    "<br>\n",
    "<i class=\"fas fa-arrow-right\"></i> Axis 0 = Rows\n",
    "<br>\n",
    "<i class=\"fas fa-arrow-right\"></i> Axis 1 = Columns  \n",
    "</div>"
   ]
  },
  {
   "cell_type": "code",
   "execution_count": 69,
   "id": "b74a7879",
   "metadata": {
    "execution": {
     "iopub.execute_input": "2024-07-26T09:16:15.997742Z",
     "iopub.status.busy": "2024-07-26T09:16:15.997337Z",
     "iopub.status.idle": "2024-07-26T09:16:16.003786Z",
     "shell.execute_reply": "2024-07-26T09:16:16.002735Z"
    },
    "papermill": {
     "duration": 0.0555,
     "end_time": "2024-07-26T09:16:16.006222",
     "exception": false,
     "start_time": "2024-07-26T09:16:15.950722",
     "status": "completed"
    },
    "tags": []
   },
   "outputs": [
    {
     "name": "stdout",
     "output_type": "stream",
     "text": [
      "[1 2 3 4 5 6]\n"
     ]
    }
   ],
   "source": [
    "#Join two 1-D arrays\n",
    "arr1 = np.array([1, 2, 3])\n",
    "arr2 = np.array([4, 5, 6])\n",
    "\n",
    "arr = np.concatenate((arr1, arr2))\n",
    "\n",
    "print(arr)"
   ]
  },
  {
   "cell_type": "code",
   "execution_count": 70,
   "id": "d67222b2",
   "metadata": {
    "execution": {
     "iopub.execute_input": "2024-07-26T09:16:16.100050Z",
     "iopub.status.busy": "2024-07-26T09:16:16.099657Z",
     "iopub.status.idle": "2024-07-26T09:16:16.106106Z",
     "shell.execute_reply": "2024-07-26T09:16:16.105071Z"
    },
    "papermill": {
     "duration": 0.055368,
     "end_time": "2024-07-26T09:16:16.108385",
     "exception": false,
     "start_time": "2024-07-26T09:16:16.053017",
     "status": "completed"
    },
    "tags": []
   },
   "outputs": [
    {
     "name": "stdout",
     "output_type": "stream",
     "text": [
      "[[1 2 5 6]\n",
      " [3 4 7 8]]\n"
     ]
    }
   ],
   "source": [
    "#Join two 2-D arrays along rows (axis=1)\n",
    "arr1 = np.array([[1, 2], [3, 4]])\n",
    "arr2 = np.array([[5, 6], [7, 8]])\n",
    "\n",
    "arr = np.concatenate((arr1, arr2), axis=1)\n",
    "\n",
    "print(arr)"
   ]
  },
  {
   "cell_type": "markdown",
   "id": "f945185d",
   "metadata": {
    "papermill": {
     "duration": 0.04491,
     "end_time": "2024-07-26T09:16:16.199286",
     "exception": false,
     "start_time": "2024-07-26T09:16:16.154376",
     "status": "completed"
    },
    "tags": []
   },
   "source": [
    "<div style=\"background-color:gainsboro; padding:8px; border:2px dotted black; border-radius:8px; font-family:verdana; line-height: 1.7em\">\n",
    "<strong>Joining Arrays Using Stack Functions</strong>\n",
    "<br>\n",
    "• Stacking is same as concatenation, the only difference is that stacking is done along a new axis.\n",
    "<br>\n",
    "• We can concatenate two 1-D arrays along the second axis which would result in putting them one over the other, ie. stacking.\n",
    "<br>\n",
    "• We pass a sequence of arrays that we want to join to the stack() method along with the axis. If axis is not explicitly passed it is taken as 0.\n",
    "</div>"
   ]
  },
  {
   "cell_type": "code",
   "execution_count": 71,
   "id": "5e1ff544",
   "metadata": {
    "execution": {
     "iopub.execute_input": "2024-07-26T09:16:16.291939Z",
     "iopub.status.busy": "2024-07-26T09:16:16.291521Z",
     "iopub.status.idle": "2024-07-26T09:16:16.298144Z",
     "shell.execute_reply": "2024-07-26T09:16:16.297070Z"
    },
    "papermill": {
     "duration": 0.055937,
     "end_time": "2024-07-26T09:16:16.300381",
     "exception": false,
     "start_time": "2024-07-26T09:16:16.244444",
     "status": "completed"
    },
    "tags": []
   },
   "outputs": [
    {
     "name": "stdout",
     "output_type": "stream",
     "text": [
      "[[1 4]\n",
      " [2 5]\n",
      " [3 6]]\n"
     ]
    }
   ],
   "source": [
    "arr1 = np.array([1, 2, 3])\n",
    "arr2 = np.array([4, 5, 6])\n",
    "\n",
    "arr = np.stack((arr1, arr2), axis=1)\n",
    "\n",
    "print(arr)"
   ]
  },
  {
   "cell_type": "markdown",
   "id": "f38121f9",
   "metadata": {
    "papermill": {
     "duration": 0.046191,
     "end_time": "2024-07-26T09:16:16.391799",
     "exception": false,
     "start_time": "2024-07-26T09:16:16.345608",
     "status": "completed"
    },
    "tags": []
   },
   "source": [
    "<div style=\"background-color:gainsboro; padding:8px; border:2px dotted black; border-radius:8px; font-family:verdana; line-height: 1.7em\">\n",
    "<strong>Stacking Along Rows</strong>\n",
    "<br>\n",
    "• NumPy provides a helper function : hstack() to stack along rows.\n",
    "</div>"
   ]
  },
  {
   "cell_type": "code",
   "execution_count": 72,
   "id": "6a514266",
   "metadata": {
    "execution": {
     "iopub.execute_input": "2024-07-26T09:16:16.488140Z",
     "iopub.status.busy": "2024-07-26T09:16:16.487716Z",
     "iopub.status.idle": "2024-07-26T09:16:16.494547Z",
     "shell.execute_reply": "2024-07-26T09:16:16.493289Z"
    },
    "papermill": {
     "duration": 0.056846,
     "end_time": "2024-07-26T09:16:16.497497",
     "exception": false,
     "start_time": "2024-07-26T09:16:16.440651",
     "status": "completed"
    },
    "tags": []
   },
   "outputs": [
    {
     "name": "stdout",
     "output_type": "stream",
     "text": [
      "[1 2 3 4 5 6]\n"
     ]
    }
   ],
   "source": [
    "arr1 = np.array([1, 2, 3])\n",
    "arr2 = np.array([4, 5, 6])\n",
    "\n",
    "arr = np.hstack((arr1, arr2))\n",
    "\n",
    "print(arr)"
   ]
  },
  {
   "cell_type": "markdown",
   "id": "bb24b182",
   "metadata": {
    "papermill": {
     "duration": 0.045981,
     "end_time": "2024-07-26T09:16:16.589955",
     "exception": false,
     "start_time": "2024-07-26T09:16:16.543974",
     "status": "completed"
    },
    "tags": []
   },
   "source": [
    "<div style=\"background-color:gainsboro; padding:8px; border:2px dotted black; border-radius:8px; font-family:verdana; line-height: 1.7em\">\n",
    "<strong>Stacking Along Columns</strong>\n",
    "<br>\n",
    "• NumPy provides a helper function : vstack() to stack along columns.\n",
    "</div>"
   ]
  },
  {
   "cell_type": "code",
   "execution_count": 73,
   "id": "aae129e4",
   "metadata": {
    "execution": {
     "iopub.execute_input": "2024-07-26T09:16:16.745646Z",
     "iopub.status.busy": "2024-07-26T09:16:16.745274Z",
     "iopub.status.idle": "2024-07-26T09:16:16.751725Z",
     "shell.execute_reply": "2024-07-26T09:16:16.750517Z"
    },
    "papermill": {
     "duration": 0.117936,
     "end_time": "2024-07-26T09:16:16.754828",
     "exception": false,
     "start_time": "2024-07-26T09:16:16.636892",
     "status": "completed"
    },
    "tags": []
   },
   "outputs": [
    {
     "name": "stdout",
     "output_type": "stream",
     "text": [
      "[[1 2 3]\n",
      " [4 5 6]]\n"
     ]
    }
   ],
   "source": [
    "arr1 = np.array([1, 2, 3])\n",
    "arr2 = np.array([4, 5, 6])\n",
    "\n",
    "arr = np.vstack((arr1, arr2))\n",
    "\n",
    "print(arr)"
   ]
  },
  {
   "cell_type": "markdown",
   "id": "52a9f036",
   "metadata": {
    "papermill": {
     "duration": 0.047305,
     "end_time": "2024-07-26T09:16:16.848284",
     "exception": false,
     "start_time": "2024-07-26T09:16:16.800979",
     "status": "completed"
    },
    "tags": []
   },
   "source": [
    "<div style=\"background-color:gainsboro; padding:8px; border:2px dotted black; border-radius:8px; font-family:verdana; line-height: 1.7em\">\n",
    "<strong>Stacking Along Height (depth)</strong>\n",
    "<br>\n",
    "• NumPy provides a helper function : dstack() to stack along height, which is the same as depth.\n",
    "</div>"
   ]
  },
  {
   "cell_type": "code",
   "execution_count": 74,
   "id": "7514d7ec",
   "metadata": {
    "execution": {
     "iopub.execute_input": "2024-07-26T09:16:16.945562Z",
     "iopub.status.busy": "2024-07-26T09:16:16.945149Z",
     "iopub.status.idle": "2024-07-26T09:16:16.952065Z",
     "shell.execute_reply": "2024-07-26T09:16:16.950995Z"
    },
    "papermill": {
     "duration": 0.058983,
     "end_time": "2024-07-26T09:16:16.954785",
     "exception": false,
     "start_time": "2024-07-26T09:16:16.895802",
     "status": "completed"
    },
    "tags": []
   },
   "outputs": [
    {
     "name": "stdout",
     "output_type": "stream",
     "text": [
      "[[[1 4]\n",
      "  [2 5]\n",
      "  [3 6]]]\n"
     ]
    }
   ],
   "source": [
    "arr1 = np.array([1, 2, 3])\n",
    "arr2 = np.array([4, 5, 6])\n",
    "\n",
    "arr = np.dstack((arr1, arr2))\n",
    "\n",
    "print(arr)"
   ]
  },
  {
   "cell_type": "markdown",
   "id": "84ad0630",
   "metadata": {
    "papermill": {
     "duration": 0.046084,
     "end_time": "2024-07-26T09:16:17.046911",
     "exception": false,
     "start_time": "2024-07-26T09:16:17.000827",
     "status": "completed"
    },
    "tags": []
   },
   "source": [
    "<div style=\"background-color:gainsboro; padding:8px; border:2px dotted black; border-radius:8px; font-family:verdana; line-height: 1.7em\">\n",
    "<font color='#6a66bd' size=\"5px\">NumPy Splitting Array</font>\n",
    "<br>\n",
    "<br>\n",
    "<strong>Splitting NumPy Arrays</strong>\n",
    "<br>\n",
    "• Splitting is reverse operation of Joining.\n",
    "<br>\n",
    "• Joining merges multiple arrays into one and Splitting breaks one array into multiple.\n",
    "<br>\n",
    "• We use array_split() for splitting arrays, we pass it the array we want to split and the number of splits.\n",
    "<div style=\"background-color:#ADD8E6; padding:8px; border:1px solid #87CEEB; border-radius:4px;\">\n",
    "<strong>Note :</strong> The return value is a list containing three arrays.\n",
    "</div>\n",
    "</div>"
   ]
  },
  {
   "cell_type": "code",
   "execution_count": 75,
   "id": "5983ff17",
   "metadata": {
    "execution": {
     "iopub.execute_input": "2024-07-26T09:16:17.145482Z",
     "iopub.status.busy": "2024-07-26T09:16:17.144148Z",
     "iopub.status.idle": "2024-07-26T09:16:17.151250Z",
     "shell.execute_reply": "2024-07-26T09:16:17.150173Z"
    },
    "papermill": {
     "duration": 0.057647,
     "end_time": "2024-07-26T09:16:17.153519",
     "exception": false,
     "start_time": "2024-07-26T09:16:17.095872",
     "status": "completed"
    },
    "tags": []
   },
   "outputs": [
    {
     "name": "stdout",
     "output_type": "stream",
     "text": [
      "[array([1, 2]), array([3, 4]), array([5, 6])]\n"
     ]
    }
   ],
   "source": [
    "arr = np.array([1, 2, 3, 4, 5, 6])\n",
    "newarr = np.array_split(arr, 3)\n",
    "print(newarr)"
   ]
  },
  {
   "cell_type": "code",
   "execution_count": 76,
   "id": "e10dc0ff",
   "metadata": {
    "execution": {
     "iopub.execute_input": "2024-07-26T09:16:17.249116Z",
     "iopub.status.busy": "2024-07-26T09:16:17.248704Z",
     "iopub.status.idle": "2024-07-26T09:16:17.254919Z",
     "shell.execute_reply": "2024-07-26T09:16:17.253793Z"
    },
    "papermill": {
     "duration": 0.056779,
     "end_time": "2024-07-26T09:16:17.257947",
     "exception": false,
     "start_time": "2024-07-26T09:16:17.201168",
     "status": "completed"
    },
    "tags": []
   },
   "outputs": [
    {
     "name": "stdout",
     "output_type": "stream",
     "text": [
      "[array([1, 2]), array([3, 4]), array([5]), array([6])]\n"
     ]
    }
   ],
   "source": [
    "arr = np.array([1, 2, 3, 4, 5, 6])\n",
    "newarr = np.array_split(arr, 4)\n",
    "print(newarr)"
   ]
  },
  {
   "cell_type": "markdown",
   "id": "af4b4d1d",
   "metadata": {
    "papermill": {
     "duration": 0.045667,
     "end_time": "2024-07-26T09:16:17.350447",
     "exception": false,
     "start_time": "2024-07-26T09:16:17.304780",
     "status": "completed"
    },
    "tags": []
   },
   "source": [
    "<div style=\"background-color:gainsboro; padding:8px; border:2px dotted black; border-radius:8px; font-family:verdana; line-height: 1.7em\">\n",
    "<strong>Split Into Arrays</strong>\n",
    "<br>\n",
    "• The return value of the array_split() method is an array containing each of the split as an array.\n",
    "<br>\n",
    "• If you split an array into 3 arrays, you can access them from the result just like any array element.\n",
    "</div>"
   ]
  },
  {
   "cell_type": "code",
   "execution_count": 77,
   "id": "fd66f0c2",
   "metadata": {
    "execution": {
     "iopub.execute_input": "2024-07-26T09:16:17.447228Z",
     "iopub.status.busy": "2024-07-26T09:16:17.446189Z",
     "iopub.status.idle": "2024-07-26T09:16:17.452996Z",
     "shell.execute_reply": "2024-07-26T09:16:17.451995Z"
    },
    "papermill": {
     "duration": 0.058773,
     "end_time": "2024-07-26T09:16:17.455221",
     "exception": false,
     "start_time": "2024-07-26T09:16:17.396448",
     "status": "completed"
    },
    "tags": []
   },
   "outputs": [
    {
     "name": "stdout",
     "output_type": "stream",
     "text": [
      "[1 2]\n",
      "[3 4]\n",
      "[5 6]\n"
     ]
    }
   ],
   "source": [
    "arr = np.array([1, 2, 3, 4, 5, 6])\n",
    "\n",
    "newarr = np.array_split(arr, 3)\n",
    "\n",
    "print(newarr[0])\n",
    "print(newarr[1])\n",
    "print(newarr[2])"
   ]
  },
  {
   "cell_type": "markdown",
   "id": "460dd80d",
   "metadata": {
    "papermill": {
     "duration": 0.047258,
     "end_time": "2024-07-26T09:16:17.548768",
     "exception": false,
     "start_time": "2024-07-26T09:16:17.501510",
     "status": "completed"
    },
    "tags": []
   },
   "source": [
    "<div style=\"background-color:gainsboro; padding:8px; border:2px dotted black; border-radius:8px; font-family:verdana; line-height: 1.7em\">\n",
    "<strong>Splitting 2-D Arrays</strong>\n",
    "<br>\n",
    "• Use the same syntax when splitting 2-D arrays.\n",
    "<br>\n",
    "• Use the array_split() method, pass in the array you want to split and the number of splits you want to do.\n",
    "</div>"
   ]
  },
  {
   "cell_type": "code",
   "execution_count": 78,
   "id": "a503a6b3",
   "metadata": {
    "execution": {
     "iopub.execute_input": "2024-07-26T09:16:17.646040Z",
     "iopub.status.busy": "2024-07-26T09:16:17.644980Z",
     "iopub.status.idle": "2024-07-26T09:16:17.651807Z",
     "shell.execute_reply": "2024-07-26T09:16:17.650815Z"
    },
    "papermill": {
     "duration": 0.056914,
     "end_time": "2024-07-26T09:16:17.654042",
     "exception": false,
     "start_time": "2024-07-26T09:16:17.597128",
     "status": "completed"
    },
    "tags": []
   },
   "outputs": [
    {
     "name": "stdout",
     "output_type": "stream",
     "text": [
      "[array([[1, 2],\n",
      "       [3, 4]]), array([[5, 6],\n",
      "       [7, 8]]), array([[ 9, 10],\n",
      "       [11, 12]])]\n"
     ]
    }
   ],
   "source": [
    "#Split the 2-D array into three 2-D arrays\n",
    "arr = np.array([[1, 2], [3, 4], [5, 6], [7, 8], [9, 10], [11, 12]])\n",
    "newarr = np.array_split(arr, 3)\n",
    "print(newarr)"
   ]
  },
  {
   "cell_type": "markdown",
   "id": "c989e807",
   "metadata": {
    "papermill": {
     "duration": 0.046135,
     "end_time": "2024-07-26T09:16:17.746586",
     "exception": false,
     "start_time": "2024-07-26T09:16:17.700451",
     "status": "completed"
    },
    "tags": []
   },
   "source": [
    "<div style=\"background-color:gainsboro; padding:8px; border:2px dotted black; border-radius:8px; font-family:verdana; line-height: 1.7em\">\n",
    "• In addition, you can specify which axis you want to do the split around.\n",
    "</div>"
   ]
  },
  {
   "cell_type": "code",
   "execution_count": 79,
   "id": "4f0d6c2c",
   "metadata": {
    "execution": {
     "iopub.execute_input": "2024-07-26T09:16:17.841716Z",
     "iopub.status.busy": "2024-07-26T09:16:17.840770Z",
     "iopub.status.idle": "2024-07-26T09:16:17.847818Z",
     "shell.execute_reply": "2024-07-26T09:16:17.846747Z"
    },
    "papermill": {
     "duration": 0.056618,
     "end_time": "2024-07-26T09:16:17.849939",
     "exception": false,
     "start_time": "2024-07-26T09:16:17.793321",
     "status": "completed"
    },
    "tags": []
   },
   "outputs": [
    {
     "name": "stdout",
     "output_type": "stream",
     "text": [
      "[array([[ 1],\n",
      "       [ 4],\n",
      "       [ 7],\n",
      "       [10],\n",
      "       [13],\n",
      "       [16]]), array([[ 2],\n",
      "       [ 5],\n",
      "       [ 8],\n",
      "       [11],\n",
      "       [14],\n",
      "       [17]]), array([[ 3],\n",
      "       [ 6],\n",
      "       [ 9],\n",
      "       [12],\n",
      "       [15],\n",
      "       [18]])]\n"
     ]
    }
   ],
   "source": [
    "#Split the 2-D array into three 2-D arrays along columns\n",
    "arr = np.array([[1, 2, 3], [4, 5, 6], [7, 8, 9], [10, 11, 12], [13, 14, 15], [16, 17, 18]])\n",
    "newarr = np.array_split(arr, 3, axis=1)\n",
    "print(newarr)"
   ]
  },
  {
   "cell_type": "code",
   "execution_count": 80,
   "id": "5d95bdd8",
   "metadata": {
    "execution": {
     "iopub.execute_input": "2024-07-26T09:16:17.945701Z",
     "iopub.status.busy": "2024-07-26T09:16:17.944877Z",
     "iopub.status.idle": "2024-07-26T09:16:17.951790Z",
     "shell.execute_reply": "2024-07-26T09:16:17.950713Z"
    },
    "papermill": {
     "duration": 0.057153,
     "end_time": "2024-07-26T09:16:17.953953",
     "exception": false,
     "start_time": "2024-07-26T09:16:17.896800",
     "status": "completed"
    },
    "tags": []
   },
   "outputs": [
    {
     "name": "stdout",
     "output_type": "stream",
     "text": [
      "[array([[ 1],\n",
      "       [ 4],\n",
      "       [ 7],\n",
      "       [10],\n",
      "       [13],\n",
      "       [16]]), array([[ 2],\n",
      "       [ 5],\n",
      "       [ 8],\n",
      "       [11],\n",
      "       [14],\n",
      "       [17]]), array([[ 3],\n",
      "       [ 6],\n",
      "       [ 9],\n",
      "       [12],\n",
      "       [15],\n",
      "       [18]])]\n"
     ]
    }
   ],
   "source": [
    "#Split the 2-D array into three 2-D arrays with hsplit()\n",
    "arr = np.array([[1, 2, 3], [4, 5, 6], [7, 8, 9], [10, 11, 12], [13, 14, 15], [16, 17, 18]])\n",
    "newarr = np.hsplit(arr, 3)\n",
    "print(newarr)"
   ]
  },
  {
   "cell_type": "code",
   "execution_count": 81,
   "id": "c2960e95",
   "metadata": {
    "execution": {
     "iopub.execute_input": "2024-07-26T09:16:18.048486Z",
     "iopub.status.busy": "2024-07-26T09:16:18.048070Z",
     "iopub.status.idle": "2024-07-26T09:16:18.054993Z",
     "shell.execute_reply": "2024-07-26T09:16:18.053787Z"
    },
    "papermill": {
     "duration": 0.057633,
     "end_time": "2024-07-26T09:16:18.057955",
     "exception": false,
     "start_time": "2024-07-26T09:16:18.000322",
     "status": "completed"
    },
    "tags": []
   },
   "outputs": [
    {
     "name": "stdout",
     "output_type": "stream",
     "text": [
      "[array([[1, 2, 3],\n",
      "       [4, 5, 6]]), array([[ 7,  8,  9],\n",
      "       [10, 11, 12]]), array([[13, 14, 15],\n",
      "       [16, 17, 18]])]\n"
     ]
    }
   ],
   "source": [
    "#Split the 2-D array into three 2-D arrays using vsplit()\n",
    "arr = np.array([[1, 2, 3], [4, 5, 6], [7, 8, 9], [10, 11, 12], [13, 14, 15], [16, 17, 18]])\n",
    "newarr = np.vsplit(arr, 3)\n",
    "print(newarr)"
   ]
  },
  {
   "cell_type": "markdown",
   "id": "10039836",
   "metadata": {
    "papermill": {
     "duration": 0.046757,
     "end_time": "2024-07-26T09:16:18.152517",
     "exception": false,
     "start_time": "2024-07-26T09:16:18.105760",
     "status": "completed"
    },
    "tags": []
   },
   "source": [
    "<div style=\"background-color:gainsboro; padding:8px; border:2px dotted black; border-radius:8px; font-family:verdana; line-height: 1.7em\">\n",
    "<font color='#6a66bd' size=\"5px\">NumPy Searching Arrays</font>\n",
    "<br>\n",
    "<br>\n",
    "<strong>Searching Arrays</strong>\n",
    "<br>\n",
    "• You can search an array for a certain value and return the indexes that get a match.\n",
    "<br>\n",
    "• To search an array, use the where() method.\n",
    "<br>\n",
    "• It returns a tuple after finding elements according to condition.\n",
    "</div>"
   ]
  },
  {
   "cell_type": "code",
   "execution_count": 82,
   "id": "258a1c92",
   "metadata": {
    "execution": {
     "iopub.execute_input": "2024-07-26T09:16:18.250918Z",
     "iopub.status.busy": "2024-07-26T09:16:18.250478Z",
     "iopub.status.idle": "2024-07-26T09:16:18.256667Z",
     "shell.execute_reply": "2024-07-26T09:16:18.255648Z"
    },
    "papermill": {
     "duration": 0.059583,
     "end_time": "2024-07-26T09:16:18.258912",
     "exception": false,
     "start_time": "2024-07-26T09:16:18.199329",
     "status": "completed"
    },
    "tags": []
   },
   "outputs": [
    {
     "name": "stdout",
     "output_type": "stream",
     "text": [
      "(array([3, 5, 6]),)\n"
     ]
    }
   ],
   "source": [
    "#Find the indexes where the value is 4\n",
    "arr = np.array([1, 2, 3, 4, 5, 4, 4])\n",
    "x = np.where(arr == 4)\n",
    "print(x)"
   ]
  },
  {
   "cell_type": "code",
   "execution_count": 83,
   "id": "22e4c7d6",
   "metadata": {
    "execution": {
     "iopub.execute_input": "2024-07-26T09:16:18.355094Z",
     "iopub.status.busy": "2024-07-26T09:16:18.354672Z",
     "iopub.status.idle": "2024-07-26T09:16:18.361075Z",
     "shell.execute_reply": "2024-07-26T09:16:18.360065Z"
    },
    "papermill": {
     "duration": 0.057497,
     "end_time": "2024-07-26T09:16:18.363362",
     "exception": false,
     "start_time": "2024-07-26T09:16:18.305865",
     "status": "completed"
    },
    "tags": []
   },
   "outputs": [
    {
     "name": "stdout",
     "output_type": "stream",
     "text": [
      "(array([1, 3, 5, 7]),)\n"
     ]
    }
   ],
   "source": [
    "#Find the indexes where the values are even\n",
    "arr = np.array([1, 2, 3, 4, 5, 6, 7, 8])\n",
    "x = np.where(arr%2 == 0)\n",
    "print(x)"
   ]
  },
  {
   "cell_type": "markdown",
   "id": "a293da49",
   "metadata": {
    "papermill": {
     "duration": 0.048344,
     "end_time": "2024-07-26T09:16:18.459862",
     "exception": false,
     "start_time": "2024-07-26T09:16:18.411518",
     "status": "completed"
    },
    "tags": []
   },
   "source": [
    "<div style=\"background-color:gainsboro; padding:8px; border:2px dotted black; border-radius:8px; font-family:verdana; line-height: 1.7em\">\n",
    "<strong>Search Sorted</strong>\n",
    "<br>\n",
    "• There is a method called searchsorted() which performs a binary search in the array and returns the index where the specified value would be inserted to maintain the search order.\n",
    "<br>\n",
    "• The searchsorted() method is assumed to be used on sorted arrays.\n",
    "<br>\n",
    "• The method starts the search from the left and returns the first index where the number is no longer larger than the next value.\n",
    "</div>"
   ]
  },
  {
   "cell_type": "code",
   "execution_count": 84,
   "id": "2e2dc29d",
   "metadata": {
    "execution": {
     "iopub.execute_input": "2024-07-26T09:16:18.557925Z",
     "iopub.status.busy": "2024-07-26T09:16:18.557540Z",
     "iopub.status.idle": "2024-07-26T09:16:18.564299Z",
     "shell.execute_reply": "2024-07-26T09:16:18.563100Z"
    },
    "papermill": {
     "duration": 0.059071,
     "end_time": "2024-07-26T09:16:18.566772",
     "exception": false,
     "start_time": "2024-07-26T09:16:18.507701",
     "status": "completed"
    },
    "tags": []
   },
   "outputs": [
    {
     "name": "stdout",
     "output_type": "stream",
     "text": [
      "1\n"
     ]
    }
   ],
   "source": [
    "#Find the indexes where the value 7 should be inserted\n",
    "arr = np.array([6, 7, 8, 9])\n",
    "x = np.searchsorted(arr, 7)\n",
    "print(x)"
   ]
  },
  {
   "cell_type": "markdown",
   "id": "7a6f7c42",
   "metadata": {
    "papermill": {
     "duration": 0.047966,
     "end_time": "2024-07-26T09:16:18.665475",
     "exception": false,
     "start_time": "2024-07-26T09:16:18.617509",
     "status": "completed"
    },
    "tags": []
   },
   "source": [
    "<div style=\"background-color:gainsboro; padding:8px; border:2px dotted black; border-radius:8px; font-family:verdana; line-height: 1.7em\">\n",
    "<strong>Search From the Right Side</strong>\n",
    "<br>\n",
    "• By default the left most index is returned, but we can give side='right' to return the right most index instead.\n",
    "</div>"
   ]
  },
  {
   "cell_type": "code",
   "execution_count": 85,
   "id": "38c395e2",
   "metadata": {
    "execution": {
     "iopub.execute_input": "2024-07-26T09:16:18.762541Z",
     "iopub.status.busy": "2024-07-26T09:16:18.761650Z",
     "iopub.status.idle": "2024-07-26T09:16:18.768653Z",
     "shell.execute_reply": "2024-07-26T09:16:18.767323Z"
    },
    "papermill": {
     "duration": 0.05772,
     "end_time": "2024-07-26T09:16:18.770987",
     "exception": false,
     "start_time": "2024-07-26T09:16:18.713267",
     "status": "completed"
    },
    "tags": []
   },
   "outputs": [
    {
     "name": "stdout",
     "output_type": "stream",
     "text": [
      "2\n"
     ]
    }
   ],
   "source": [
    "#Find the indexes where the value 7 should be inserted, starting from the right\n",
    "arr = np.array([6, 7, 8, 9])\n",
    "x = np.searchsorted(arr, 7, side='right')\n",
    "print(x)"
   ]
  },
  {
   "cell_type": "markdown",
   "id": "cd760e66",
   "metadata": {
    "papermill": {
     "duration": 0.046983,
     "end_time": "2024-07-26T09:16:18.865377",
     "exception": false,
     "start_time": "2024-07-26T09:16:18.818394",
     "status": "completed"
    },
    "tags": []
   },
   "source": [
    "<div style=\"background-color:gainsboro; padding:8px; border:2px dotted black; border-radius:8px; font-family:verdana; line-height: 1.7em\">\n",
    "<strong>Multiple Values</strong>\n",
    "<br>\n",
    "• To search for more than one value, use an array with the specified values.\n",
    "</div>"
   ]
  },
  {
   "cell_type": "code",
   "execution_count": 86,
   "id": "b673351d",
   "metadata": {
    "execution": {
     "iopub.execute_input": "2024-07-26T09:16:18.961769Z",
     "iopub.status.busy": "2024-07-26T09:16:18.961385Z",
     "iopub.status.idle": "2024-07-26T09:16:18.967948Z",
     "shell.execute_reply": "2024-07-26T09:16:18.966583Z"
    },
    "papermill": {
     "duration": 0.058334,
     "end_time": "2024-07-26T09:16:18.970940",
     "exception": false,
     "start_time": "2024-07-26T09:16:18.912606",
     "status": "completed"
    },
    "tags": []
   },
   "outputs": [
    {
     "name": "stdout",
     "output_type": "stream",
     "text": [
      "[1 2 3]\n"
     ]
    }
   ],
   "source": [
    "#Find the indexes where the values 2, 4, and 6 should be inserted\n",
    "arr = np.array([1, 3, 5, 7])\n",
    "x = np.searchsorted(arr, [2, 4, 6])\n",
    "print(x)"
   ]
  },
  {
   "cell_type": "markdown",
   "id": "27c13cff",
   "metadata": {
    "papermill": {
     "duration": 0.048246,
     "end_time": "2024-07-26T09:16:19.066928",
     "exception": false,
     "start_time": "2024-07-26T09:16:19.018682",
     "status": "completed"
    },
    "tags": []
   },
   "source": [
    "<div style=\"background-color:gainsboro; padding:8px; border:2px dotted black; border-radius:8px; font-family:verdana; line-height: 1.7em\">\n",
    "<strong>Non Zero Elements</strong>\n",
    "<br>\n",
    "• The NumPy nonzero() method finds the indices of array elements that are not zero.\n",
    "</div>"
   ]
  },
  {
   "cell_type": "code",
   "execution_count": 87,
   "id": "7aa7b3a4",
   "metadata": {
    "execution": {
     "iopub.execute_input": "2024-07-26T09:16:19.164891Z",
     "iopub.status.busy": "2024-07-26T09:16:19.163893Z",
     "iopub.status.idle": "2024-07-26T09:16:19.169817Z",
     "shell.execute_reply": "2024-07-26T09:16:19.168588Z"
    },
    "papermill": {
     "duration": 0.056952,
     "end_time": "2024-07-26T09:16:19.172400",
     "exception": false,
     "start_time": "2024-07-26T09:16:19.115448",
     "status": "completed"
    },
    "tags": []
   },
   "outputs": [
    {
     "name": "stdout",
     "output_type": "stream",
     "text": [
      "(array([0, 3, 4]),)\n"
     ]
    }
   ],
   "source": [
    "arr = np.array([1, 0, 0, 4, -5])\n",
    "non_zero_arr = np.nonzero(arr)\n",
    "print(non_zero_arr)"
   ]
  },
  {
   "cell_type": "markdown",
   "id": "5f89483e",
   "metadata": {
    "papermill": {
     "duration": 0.048351,
     "end_time": "2024-07-26T09:16:19.267973",
     "exception": false,
     "start_time": "2024-07-26T09:16:19.219622",
     "status": "completed"
    },
    "tags": []
   },
   "source": [
    "<div style=\"background-color:gainsboro; padding:8px; border:2px dotted black; border-radius:8px; font-family:verdana; line-height: 1.7em\">\n",
    "<strong>Elements wise Searching</strong>\n",
    "<br>\n",
    "• The argmax() method returns the index of the largest element of an array.\n",
    "<br>\n",
    "• Similarly, argmin() method returns the index of the smallest element of an array.\n",
    "</div>"
   ]
  },
  {
   "cell_type": "code",
   "execution_count": 88,
   "id": "a420b5fb",
   "metadata": {
    "execution": {
     "iopub.execute_input": "2024-07-26T09:16:19.365649Z",
     "iopub.status.busy": "2024-07-26T09:16:19.365255Z",
     "iopub.status.idle": "2024-07-26T09:16:19.371993Z",
     "shell.execute_reply": "2024-07-26T09:16:19.370813Z"
    },
    "papermill": {
     "duration": 0.058539,
     "end_time": "2024-07-26T09:16:19.374521",
     "exception": false,
     "start_time": "2024-07-26T09:16:19.315982",
     "status": "completed"
    },
    "tags": []
   },
   "outputs": [
    {
     "name": "stdout",
     "output_type": "stream",
     "text": [
      "Index of largest element : 4\n",
      "Index of smallest element : 1\n"
     ]
    }
   ],
   "source": [
    "arr = np.array([71,4,7,65,91,12,8])\n",
    "print(\"Index of largest element :\", np.argmax(arr))\n",
    "print(\"Index of smallest element :\", np.argmin(arr))"
   ]
  },
  {
   "cell_type": "markdown",
   "id": "7cb6006c",
   "metadata": {
    "papermill": {
     "duration": 0.050263,
     "end_time": "2024-07-26T09:16:19.472870",
     "exception": false,
     "start_time": "2024-07-26T09:16:19.422607",
     "status": "completed"
    },
    "tags": []
   },
   "source": [
    "<div style=\"background-color:gainsboro; padding:8px; border:2px dotted black; border-radius:8px; font-family:verdana; line-height: 1.7em\">\n",
    "<font color='#6a66bd' size=\"5px\">NumPy Sorting Arrays</font>\n",
    "<br>\n",
    "<br>\n",
    "<strong>Sorting Arrays</strong>\n",
    "<br>\n",
    "• Sorting means putting elements in an ordered sequence.\n",
    "<br>\n",
    "• Ordered sequence is any sequence that has an order corresponding to elements, like numeric or alphabetical, ascending or descending.\n",
    "<br>\n",
    "• The NumPy ndarray object has a function called sort() that will sort a specified array.\n",
    "<div style=\"background-color:#ADD8E6; padding:8px; border:1px solid #87CEEB; border-radius:4px;\">\n",
    "<strong>Note :</strong> This method returns a copy of the array leaving the original array unchanged.\n",
    "</div>"
   ]
  },
  {
   "cell_type": "code",
   "execution_count": 89,
   "id": "efb4c814",
   "metadata": {
    "execution": {
     "iopub.execute_input": "2024-07-26T09:16:19.570987Z",
     "iopub.status.busy": "2024-07-26T09:16:19.570585Z",
     "iopub.status.idle": "2024-07-26T09:16:19.576880Z",
     "shell.execute_reply": "2024-07-26T09:16:19.575797Z"
    },
    "papermill": {
     "duration": 0.058391,
     "end_time": "2024-07-26T09:16:19.579480",
     "exception": false,
     "start_time": "2024-07-26T09:16:19.521089",
     "status": "completed"
    },
    "tags": []
   },
   "outputs": [
    {
     "name": "stdout",
     "output_type": "stream",
     "text": [
      "[0 1 2 3]\n"
     ]
    }
   ],
   "source": [
    "arr = np.array([3, 2, 0, 1])\n",
    "print(np.sort(arr))"
   ]
  },
  {
   "cell_type": "markdown",
   "id": "c6e71672",
   "metadata": {
    "papermill": {
     "duration": 0.048092,
     "end_time": "2024-07-26T09:16:19.676529",
     "exception": false,
     "start_time": "2024-07-26T09:16:19.628437",
     "status": "completed"
    },
    "tags": []
   },
   "source": [
    "<div style=\"background-color:gainsboro; padding:8px; border:2px dotted black; border-radius:8px; font-family:verdana; line-height: 1.7em\">\n",
    "• You can also sort arrays of strings or any other data type.\n",
    "</div>"
   ]
  },
  {
   "cell_type": "code",
   "execution_count": 90,
   "id": "5627db80",
   "metadata": {
    "execution": {
     "iopub.execute_input": "2024-07-26T09:16:19.774630Z",
     "iopub.status.busy": "2024-07-26T09:16:19.774186Z",
     "iopub.status.idle": "2024-07-26T09:16:19.779960Z",
     "shell.execute_reply": "2024-07-26T09:16:19.778952Z"
    },
    "papermill": {
     "duration": 0.05752,
     "end_time": "2024-07-26T09:16:19.782500",
     "exception": false,
     "start_time": "2024-07-26T09:16:19.724980",
     "status": "completed"
    },
    "tags": []
   },
   "outputs": [
    {
     "name": "stdout",
     "output_type": "stream",
     "text": [
      "['apple' 'banana' 'cherry']\n"
     ]
    }
   ],
   "source": [
    "#Sort the array alphabetically\n",
    "arr = np.array(['banana', 'cherry', 'apple'])\n",
    "print(np.sort(arr))"
   ]
  },
  {
   "cell_type": "code",
   "execution_count": 91,
   "id": "747b632f",
   "metadata": {
    "execution": {
     "iopub.execute_input": "2024-07-26T09:16:19.879390Z",
     "iopub.status.busy": "2024-07-26T09:16:19.878972Z",
     "iopub.status.idle": "2024-07-26T09:16:19.885787Z",
     "shell.execute_reply": "2024-07-26T09:16:19.884613Z"
    },
    "papermill": {
     "duration": 0.057985,
     "end_time": "2024-07-26T09:16:19.887979",
     "exception": false,
     "start_time": "2024-07-26T09:16:19.829994",
     "status": "completed"
    },
    "tags": []
   },
   "outputs": [
    {
     "name": "stdout",
     "output_type": "stream",
     "text": [
      "[False  True  True]\n"
     ]
    }
   ],
   "source": [
    "#Sort a boolean array\n",
    "arr = np.array([True, False, True])\n",
    "print(np.sort(arr))"
   ]
  },
  {
   "cell_type": "markdown",
   "id": "41e6e6b2",
   "metadata": {
    "papermill": {
     "duration": 0.049235,
     "end_time": "2024-07-26T09:16:19.987356",
     "exception": false,
     "start_time": "2024-07-26T09:16:19.938121",
     "status": "completed"
    },
    "tags": []
   },
   "source": [
    "<div style=\"background-color:gainsboro; padding:8px; border:2px dotted black; border-radius:8px; font-family:verdana; line-height: 1.7em\">\n",
    "<strong>Sorting a 2-D Array</strong>\n",
    "<br>\n",
    "• If you use the sort() method on a 2-D array both arrays will be sorted.\n",
    "</div>"
   ]
  },
  {
   "cell_type": "code",
   "execution_count": 92,
   "id": "32048ff0",
   "metadata": {
    "execution": {
     "iopub.execute_input": "2024-07-26T09:16:20.090407Z",
     "iopub.status.busy": "2024-07-26T09:16:20.090019Z",
     "iopub.status.idle": "2024-07-26T09:16:20.097197Z",
     "shell.execute_reply": "2024-07-26T09:16:20.095895Z"
    },
    "papermill": {
     "duration": 0.061663,
     "end_time": "2024-07-26T09:16:20.099722",
     "exception": false,
     "start_time": "2024-07-26T09:16:20.038059",
     "status": "completed"
    },
    "tags": []
   },
   "outputs": [
    {
     "name": "stdout",
     "output_type": "stream",
     "text": [
      "[[2 3 4]\n",
      " [0 1 5]]\n"
     ]
    }
   ],
   "source": [
    "arr = np.array([[3, 2, 4], [5, 0, 1]])\n",
    "print(np.sort(arr))"
   ]
  },
  {
   "cell_type": "markdown",
   "id": "4f6c16cc",
   "metadata": {
    "papermill": {
     "duration": 0.047775,
     "end_time": "2024-07-26T09:16:20.195990",
     "exception": false,
     "start_time": "2024-07-26T09:16:20.148215",
     "status": "completed"
    },
    "tags": []
   },
   "source": [
    "<div style=\"background-color:gainsboro; padding:8px; border:2px dotted black; border-radius:8px; font-family:verdana; line-height: 1.7em\">\n",
    "<strong>Elements wise Sorting</strong>\n",
    "<br>\n",
    "• The argsort() method in NumPy sorts the array elements in ascending order and returns indices of the sorted elements.\n",
    "</div>"
   ]
  },
  {
   "cell_type": "code",
   "execution_count": 93,
   "id": "5364bdc4",
   "metadata": {
    "execution": {
     "iopub.execute_input": "2024-07-26T09:16:20.294902Z",
     "iopub.status.busy": "2024-07-26T09:16:20.294126Z",
     "iopub.status.idle": "2024-07-26T09:16:20.300830Z",
     "shell.execute_reply": "2024-07-26T09:16:20.299722Z"
    },
    "papermill": {
     "duration": 0.058403,
     "end_time": "2024-07-26T09:16:20.303126",
     "exception": false,
     "start_time": "2024-07-26T09:16:20.244723",
     "status": "completed"
    },
    "tags": []
   },
   "outputs": [
    {
     "name": "stdout",
     "output_type": "stream",
     "text": [
      "Sorted Array : [-1  2  9 10]\n",
      "Sorted Index : [3 1 2 0]\n"
     ]
    }
   ],
   "source": [
    "arr = np.array([10, 2, 9, -1])\n",
    "arg_sort = np.argsort(arr)\n",
    "print(\"Sorted Array :\", arr[arg_sort])\n",
    "print(\"Sorted Index :\", arg_sort)"
   ]
  },
  {
   "cell_type": "markdown",
   "id": "7e4a4cb3",
   "metadata": {
    "papermill": {
     "duration": 0.047958,
     "end_time": "2024-07-26T09:16:20.399140",
     "exception": false,
     "start_time": "2024-07-26T09:16:20.351182",
     "status": "completed"
    },
    "tags": []
   },
   "source": [
    "<div style=\"background-color:gainsboro; padding:8px; border:2px dotted black; border-radius:8px; font-family:verdana; line-height: 1.7em\">\n",
    "<font color='#6a66bd' size=\"5px\">NumPy Matrix</font>\n",
    "<br>\n",
    "<br>\n",
    "• A matrix is a two-dimensional data structure where numbers are arranged into rows and columns.\n",
    "<br>\n",
    "• The matrix is represented as 3x4 (pronounced \"three by four\") matrix because it has 3 rows and 4 columns.\n",
    "<br>\n",
    "• Python doesn't have a built-in type for matrices. However, we can treat a list of a list as a matrix.\n",
    "<br>\n",
    "• But, NumPy has matrix() method which is used to create a matrix from a 2-D array-like object.\n",
    "</div>"
   ]
  },
  {
   "cell_type": "code",
   "execution_count": 94,
   "id": "ee5c7e41",
   "metadata": {
    "execution": {
     "iopub.execute_input": "2024-07-26T09:16:20.500554Z",
     "iopub.status.busy": "2024-07-26T09:16:20.500162Z",
     "iopub.status.idle": "2024-07-26T09:16:20.507061Z",
     "shell.execute_reply": "2024-07-26T09:16:20.505851Z"
    },
    "papermill": {
     "duration": 0.059839,
     "end_time": "2024-07-26T09:16:20.509673",
     "exception": false,
     "start_time": "2024-07-26T09:16:20.449834",
     "status": "completed"
    },
    "tags": []
   },
   "outputs": [
    {
     "name": "stdout",
     "output_type": "stream",
     "text": [
      "[[1 2 3]\n",
      " [4 5 6]\n",
      " [7 8 9]]\n",
      "3\n"
     ]
    }
   ],
   "source": [
    "#Creating a matrix from 2D array\n",
    "arr = np.array([[1,2,3],[4,5,6],[7,8,9]])\n",
    "matrix_arr = np.matrix(arr)\n",
    "\n",
    "print(matrix_arr)\n",
    "\n",
    "#Accessing elements of a matrix\n",
    "print(matrix_arr[0,2])"
   ]
  },
  {
   "cell_type": "markdown",
   "id": "d73eaa5b",
   "metadata": {
    "papermill": {
     "duration": 0.049165,
     "end_time": "2024-07-26T09:16:20.607837",
     "exception": false,
     "start_time": "2024-07-26T09:16:20.558672",
     "status": "completed"
    },
    "tags": []
   },
   "source": [
    "<div style=\"background-color:gainsboro; padding:8px; border:2px dotted black; border-radius:8px; font-family:verdana; line-height: 1.7em\">\n",
    "<strong>Matrix Operation</strong>\n",
    "<br>\n",
    "• The determinant of a matrix is a scalar value that provides information about the properties and behavior of the matrix.\n",
    "<br>\n",
    "• The np.linalg.det() function is used to compute the determinant of a square matrix.\n",
    "</div>"
   ]
  },
  {
   "cell_type": "code",
   "execution_count": 95,
   "id": "93928273",
   "metadata": {
    "execution": {
     "iopub.execute_input": "2024-07-26T09:16:20.707393Z",
     "iopub.status.busy": "2024-07-26T09:16:20.706962Z",
     "iopub.status.idle": "2024-07-26T09:16:20.713654Z",
     "shell.execute_reply": "2024-07-26T09:16:20.712531Z"
    },
    "papermill": {
     "duration": 0.059145,
     "end_time": "2024-07-26T09:16:20.715906",
     "exception": false,
     "start_time": "2024-07-26T09:16:20.656761",
     "status": "completed"
    },
    "tags": []
   },
   "outputs": [
    {
     "name": "stdout",
     "output_type": "stream",
     "text": [
      "0.0\n"
     ]
    }
   ],
   "source": [
    "arr = np.array([[1,2,3],[4,5,6],[7,8,9]])\n",
    "matrix_arr = np.matrix(arr)\n",
    "\n",
    "det_arr = np.linalg.det(matrix_arr)\n",
    "\n",
    "print(det_arr)"
   ]
  },
  {
   "cell_type": "markdown",
   "id": "585565a8",
   "metadata": {
    "papermill": {
     "duration": 0.048782,
     "end_time": "2024-07-26T09:16:20.813228",
     "exception": false,
     "start_time": "2024-07-26T09:16:20.764446",
     "status": "completed"
    },
    "tags": []
   },
   "source": [
    "<div style=\"background-color:gainsboro; padding:8px; border:2px dotted black; border-radius:8px; font-family:verdana; line-height: 1.7em\">\n",
    "• The matmul() method is used to perform matrix multiplication in NumPy.\n",
    "</div>"
   ]
  },
  {
   "cell_type": "code",
   "execution_count": 96,
   "id": "2f313a68",
   "metadata": {
    "execution": {
     "iopub.execute_input": "2024-07-26T09:16:20.915859Z",
     "iopub.status.busy": "2024-07-26T09:16:20.915451Z",
     "iopub.status.idle": "2024-07-26T09:16:20.923046Z",
     "shell.execute_reply": "2024-07-26T09:16:20.921522Z"
    },
    "papermill": {
     "duration": 0.0636,
     "end_time": "2024-07-26T09:16:20.925405",
     "exception": false,
     "start_time": "2024-07-26T09:16:20.861805",
     "status": "completed"
    },
    "tags": []
   },
   "outputs": [
    {
     "name": "stdout",
     "output_type": "stream",
     "text": [
      "[[19 22]\n",
      " [43 50]]\n"
     ]
    }
   ],
   "source": [
    "arr1 = np.array([[1,2],[3,4]])\n",
    "arr2 = np.array([[5,6],[7,8]])\n",
    "\n",
    "matrix1 = np.matrix(arr1)\n",
    "matrix2 = np.matrix(arr2)\n",
    "\n",
    "arr_multi = np.matmul(matrix1, matrix2)\n",
    "print(arr_multi)"
   ]
  },
  {
   "cell_type": "markdown",
   "id": "8e2194c1",
   "metadata": {
    "papermill": {
     "duration": 0.048228,
     "end_time": "2024-07-26T09:16:21.022750",
     "exception": false,
     "start_time": "2024-07-26T09:16:20.974522",
     "status": "completed"
    },
    "tags": []
   },
   "source": [
    "<div style=\"background-color:gainsboro; padding:8px; border:2px dotted black; border-radius:8px; font-family:verdana; line-height: 1.7em\">\n",
    "• The np.trace() function is used to return the sum of the diagonals of the matrix.\n",
    "</div>"
   ]
  },
  {
   "cell_type": "code",
   "execution_count": 97,
   "id": "1b719252",
   "metadata": {
    "execution": {
     "iopub.execute_input": "2024-07-26T09:16:21.122496Z",
     "iopub.status.busy": "2024-07-26T09:16:21.122110Z",
     "iopub.status.idle": "2024-07-26T09:16:21.128692Z",
     "shell.execute_reply": "2024-07-26T09:16:21.127555Z"
    },
    "papermill": {
     "duration": 0.059555,
     "end_time": "2024-07-26T09:16:21.130778",
     "exception": false,
     "start_time": "2024-07-26T09:16:21.071223",
     "status": "completed"
    },
    "tags": []
   },
   "outputs": [
    {
     "name": "stdout",
     "output_type": "stream",
     "text": [
      "[[1 2]\n",
      " [3 4]]\n",
      "5\n"
     ]
    }
   ],
   "source": [
    "arr = np.array([[1,2],[3,4]])\n",
    "matrix = np.matrix(arr)\n",
    "\n",
    "result = np.trace(matrix)\n",
    "\n",
    "print(matrix)\n",
    "print(result)  "
   ]
  },
  {
   "cell_type": "markdown",
   "id": "22d4df6e",
   "metadata": {
    "papermill": {
     "duration": 0.049042,
     "end_time": "2024-07-26T09:16:21.228424",
     "exception": false,
     "start_time": "2024-07-26T09:16:21.179382",
     "status": "completed"
    },
    "tags": []
   },
   "source": [
    "<div style=\"background-color:gainsboro; padding:8px; border:2px dotted black; border-radius:8px; font-family:verdana; line-height: 1.7em\">\n",
    "<strong>Transpose an Aarray</strong>\n",
    "<br>\n",
    "• The np.transpose() method swaps the axes of the given array similar to the transpose of a matrix in mathematics. \n",
    "<br>\n",
    "• In the case of arrays with more than two dimensions, np.transpose() permutes the axes based on the given argument.\n",
    "</div>"
   ]
  },
  {
   "cell_type": "code",
   "execution_count": 98,
   "id": "54c5d2c1",
   "metadata": {
    "execution": {
     "iopub.execute_input": "2024-07-26T09:16:21.327662Z",
     "iopub.status.busy": "2024-07-26T09:16:21.327255Z",
     "iopub.status.idle": "2024-07-26T09:16:21.334353Z",
     "shell.execute_reply": "2024-07-26T09:16:21.333196Z"
    },
    "papermill": {
     "duration": 0.059492,
     "end_time": "2024-07-26T09:16:21.336722",
     "exception": false,
     "start_time": "2024-07-26T09:16:21.277230",
     "status": "completed"
    },
    "tags": []
   },
   "outputs": [
    {
     "name": "stdout",
     "output_type": "stream",
     "text": [
      "Array before Transpose : [[1 2 3]\n",
      " [4 5 6]\n",
      " [7 8 9]]\n",
      "Array after Transpose : [[1 4 7]\n",
      " [2 5 8]\n",
      " [3 6 9]]\n"
     ]
    }
   ],
   "source": [
    "#By using transpose() function\n",
    "arr = np.array([[1,2,3],[4,5,6],[7,8,9]])\n",
    "matrix_arr = np.matrix(arr)\n",
    "\n",
    "trans_arr = np.transpose(matrix_arr)\n",
    "\n",
    "print(\"Array before Transpose :\", arr)\n",
    "print(\"Array after Transpose :\", trans_arr)"
   ]
  },
  {
   "cell_type": "code",
   "execution_count": 99,
   "id": "35553c96",
   "metadata": {
    "execution": {
     "iopub.execute_input": "2024-07-26T09:16:21.436957Z",
     "iopub.status.busy": "2024-07-26T09:16:21.436275Z",
     "iopub.status.idle": "2024-07-26T09:16:21.444577Z",
     "shell.execute_reply": "2024-07-26T09:16:21.443393Z"
    },
    "papermill": {
     "duration": 0.060911,
     "end_time": "2024-07-26T09:16:21.447047",
     "exception": false,
     "start_time": "2024-07-26T09:16:21.386136",
     "status": "completed"
    },
    "tags": []
   },
   "outputs": [
    {
     "name": "stdout",
     "output_type": "stream",
     "text": [
      "Array before Transpose : [[1 2 3]\n",
      " [4 5 6]\n",
      " [7 8 9]]\n",
      "Array after Transpose : [[1 4 7]\n",
      " [2 5 8]\n",
      " [3 6 9]]\n"
     ]
    }
   ],
   "source": [
    "#By using T function\n",
    "arr = np.array([[1,2,3],[4,5,6],[7,8,9]])\n",
    "matrix_arr = np.matrix(arr)\n",
    "\n",
    "trans_arr = matrix_arr.T\n",
    "\n",
    "print(\"Array before Transpose :\", arr)\n",
    "print(\"Array after Transpose :\", trans_arr)"
   ]
  },
  {
   "cell_type": "markdown",
   "id": "6b1f5fc6",
   "metadata": {
    "papermill": {
     "duration": 0.048927,
     "end_time": "2024-07-26T09:16:21.545655",
     "exception": false,
     "start_time": "2024-07-26T09:16:21.496728",
     "status": "completed"
    },
    "tags": []
   },
   "source": [
    "<div style=\"background-color:gainsboro; padding:8px; border:2px dotted black; border-radius:8px; font-family:verdana; line-height: 1.7em\">\n",
    "<font color='#6a66bd' size=\"5px\">NumPy Aggregation Functions</font>\n",
    "<br>\n",
    "<br>\n",
    "• NumPy also performs aggregation functions. \n",
    "<br>\n",
    "• In addition to min, max and sum, you can easily run mean to get the average, prod to get the result of multiplying the elements together, std to get the standard deviation and more.\n",
    "<div style=\"background-color:#ADD8E6; padding:8px; border:1px solid #87CEEB; border-radius:4px;\">\n",
    "<strong>Note :</strong> You can add axis() parameter to any function listed below.\n",
    "</div>\n",
    "<div style=\"background-color:#ADD8E6; padding:8px; border:1px solid #87CEEB; border-radius:4px;\">\n",
    "<strong>Note :</strong> Remember to add axis() only for 2D or above array.\n",
    "</div>\n",
    "</div>"
   ]
  },
  {
   "cell_type": "code",
   "execution_count": 100,
   "id": "2f3397e3",
   "metadata": {
    "execution": {
     "iopub.execute_input": "2024-07-26T09:16:21.646953Z",
     "iopub.status.busy": "2024-07-26T09:16:21.646560Z",
     "iopub.status.idle": "2024-07-26T09:16:21.652445Z",
     "shell.execute_reply": "2024-07-26T09:16:21.651232Z"
    },
    "papermill": {
     "duration": 0.060162,
     "end_time": "2024-07-26T09:16:21.655020",
     "exception": false,
     "start_time": "2024-07-26T09:16:21.594858",
     "status": "completed"
    },
    "tags": []
   },
   "outputs": [
    {
     "name": "stdout",
     "output_type": "stream",
     "text": [
      "1\n"
     ]
    }
   ],
   "source": [
    "#Min() Function\n",
    "arr = np.array([1,2,3,4,5,6])\n",
    "print(np.min(arr))"
   ]
  },
  {
   "cell_type": "code",
   "execution_count": 101,
   "id": "ed00c4fd",
   "metadata": {
    "execution": {
     "iopub.execute_input": "2024-07-26T09:16:21.756241Z",
     "iopub.status.busy": "2024-07-26T09:16:21.755842Z",
     "iopub.status.idle": "2024-07-26T09:16:21.761883Z",
     "shell.execute_reply": "2024-07-26T09:16:21.760794Z"
    },
    "papermill": {
     "duration": 0.058828,
     "end_time": "2024-07-26T09:16:21.764059",
     "exception": false,
     "start_time": "2024-07-26T09:16:21.705231",
     "status": "completed"
    },
    "tags": []
   },
   "outputs": [
    {
     "name": "stdout",
     "output_type": "stream",
     "text": [
      "6\n"
     ]
    }
   ],
   "source": [
    "#Max() Function\n",
    "arr = np.array([1,2,3,4,5,6])\n",
    "print(np.max(arr))"
   ]
  },
  {
   "cell_type": "code",
   "execution_count": 102,
   "id": "542c9383",
   "metadata": {
    "execution": {
     "iopub.execute_input": "2024-07-26T09:16:21.864640Z",
     "iopub.status.busy": "2024-07-26T09:16:21.864238Z",
     "iopub.status.idle": "2024-07-26T09:16:21.869953Z",
     "shell.execute_reply": "2024-07-26T09:16:21.868866Z"
    },
    "papermill": {
     "duration": 0.059125,
     "end_time": "2024-07-26T09:16:21.872812",
     "exception": false,
     "start_time": "2024-07-26T09:16:21.813687",
     "status": "completed"
    },
    "tags": []
   },
   "outputs": [
    {
     "name": "stdout",
     "output_type": "stream",
     "text": [
      "21\n"
     ]
    }
   ],
   "source": [
    "#Sum() Function\n",
    "arr = np.array([1,2,3,4,5,6])\n",
    "print(np.sum(arr))"
   ]
  },
  {
   "cell_type": "code",
   "execution_count": 103,
   "id": "668876e0",
   "metadata": {
    "execution": {
     "iopub.execute_input": "2024-07-26T09:16:21.975325Z",
     "iopub.status.busy": "2024-07-26T09:16:21.974478Z",
     "iopub.status.idle": "2024-07-26T09:16:21.980557Z",
     "shell.execute_reply": "2024-07-26T09:16:21.979410Z"
    },
    "papermill": {
     "duration": 0.05975,
     "end_time": "2024-07-26T09:16:21.982918",
     "exception": false,
     "start_time": "2024-07-26T09:16:21.923168",
     "status": "completed"
    },
    "tags": []
   },
   "outputs": [
    {
     "name": "stdout",
     "output_type": "stream",
     "text": [
      "720\n"
     ]
    }
   ],
   "source": [
    "#Prod() Function\n",
    "arr = np.array([1,2,3,4,5,6])\n",
    "print(np.prod(arr))"
   ]
  },
  {
   "cell_type": "code",
   "execution_count": 104,
   "id": "f3518280",
   "metadata": {
    "execution": {
     "iopub.execute_input": "2024-07-26T09:16:22.084073Z",
     "iopub.status.busy": "2024-07-26T09:16:22.083084Z",
     "iopub.status.idle": "2024-07-26T09:16:22.089358Z",
     "shell.execute_reply": "2024-07-26T09:16:22.088284Z"
    },
    "papermill": {
     "duration": 0.0592,
     "end_time": "2024-07-26T09:16:22.091539",
     "exception": false,
     "start_time": "2024-07-26T09:16:22.032339",
     "status": "completed"
    },
    "tags": []
   },
   "outputs": [
    {
     "name": "stdout",
     "output_type": "stream",
     "text": [
      "3.5\n"
     ]
    }
   ],
   "source": [
    "#Mean() Function\n",
    "arr = np.array([1,2,3,4,5,6])\n",
    "print(np.mean(arr))"
   ]
  },
  {
   "cell_type": "code",
   "execution_count": 105,
   "id": "4501e6c5",
   "metadata": {
    "execution": {
     "iopub.execute_input": "2024-07-26T09:16:22.193559Z",
     "iopub.status.busy": "2024-07-26T09:16:22.193149Z",
     "iopub.status.idle": "2024-07-26T09:16:22.200937Z",
     "shell.execute_reply": "2024-07-26T09:16:22.199687Z"
    },
    "papermill": {
     "duration": 0.061481,
     "end_time": "2024-07-26T09:16:22.203576",
     "exception": false,
     "start_time": "2024-07-26T09:16:22.142095",
     "status": "completed"
    },
    "tags": []
   },
   "outputs": [
    {
     "name": "stdout",
     "output_type": "stream",
     "text": [
      "3.5\n"
     ]
    }
   ],
   "source": [
    "#Median() Function\n",
    "arr = np.array([1,2,3,4,5,6])\n",
    "print(np.median(arr))"
   ]
  },
  {
   "cell_type": "code",
   "execution_count": 106,
   "id": "9f9984c7",
   "metadata": {
    "execution": {
     "iopub.execute_input": "2024-07-26T09:16:22.365233Z",
     "iopub.status.busy": "2024-07-26T09:16:22.364089Z",
     "iopub.status.idle": "2024-07-26T09:16:22.370883Z",
     "shell.execute_reply": "2024-07-26T09:16:22.369832Z"
    },
    "papermill": {
     "duration": 0.060402,
     "end_time": "2024-07-26T09:16:22.373166",
     "exception": false,
     "start_time": "2024-07-26T09:16:22.312764",
     "status": "completed"
    },
    "tags": []
   },
   "outputs": [
    {
     "name": "stdout",
     "output_type": "stream",
     "text": [
      "2.25\n"
     ]
    }
   ],
   "source": [
    "#Percentile() Function\n",
    "arr = np.array([1,2,3,4,5,6])\n",
    "print(np.percentile(arr, 25))"
   ]
  },
  {
   "cell_type": "code",
   "execution_count": 107,
   "id": "0671d7cb",
   "metadata": {
    "execution": {
     "iopub.execute_input": "2024-07-26T09:16:22.479842Z",
     "iopub.status.busy": "2024-07-26T09:16:22.479096Z",
     "iopub.status.idle": "2024-07-26T09:16:22.485165Z",
     "shell.execute_reply": "2024-07-26T09:16:22.484189Z"
    },
    "papermill": {
     "duration": 0.06296,
     "end_time": "2024-07-26T09:16:22.487535",
     "exception": false,
     "start_time": "2024-07-26T09:16:22.424575",
     "status": "completed"
    },
    "tags": []
   },
   "outputs": [
    {
     "name": "stdout",
     "output_type": "stream",
     "text": [
      "4.75\n"
     ]
    }
   ],
   "source": [
    "#Quantile() Method\n",
    "arr = np.array([1,2,3,4,5,6])\n",
    "print(np.quantile(arr, 0.75))"
   ]
  },
  {
   "cell_type": "code",
   "execution_count": 108,
   "id": "8780f74b",
   "metadata": {
    "execution": {
     "iopub.execute_input": "2024-07-26T09:16:22.593619Z",
     "iopub.status.busy": "2024-07-26T09:16:22.592906Z",
     "iopub.status.idle": "2024-07-26T09:16:22.599207Z",
     "shell.execute_reply": "2024-07-26T09:16:22.598150Z"
    },
    "papermill": {
     "duration": 0.063123,
     "end_time": "2024-07-26T09:16:22.601794",
     "exception": false,
     "start_time": "2024-07-26T09:16:22.538671",
     "status": "completed"
    },
    "tags": []
   },
   "outputs": [
    {
     "name": "stdout",
     "output_type": "stream",
     "text": [
      "2.9166666666666665\n"
     ]
    }
   ],
   "source": [
    "#Var() Function\n",
    "arr = np.array([1,2,3,4,5,6])\n",
    "print(np.var(arr))"
   ]
  },
  {
   "cell_type": "code",
   "execution_count": 109,
   "id": "e8265997",
   "metadata": {
    "execution": {
     "iopub.execute_input": "2024-07-26T09:16:22.706053Z",
     "iopub.status.busy": "2024-07-26T09:16:22.705658Z",
     "iopub.status.idle": "2024-07-26T09:16:22.711462Z",
     "shell.execute_reply": "2024-07-26T09:16:22.710431Z"
    },
    "papermill": {
     "duration": 0.060818,
     "end_time": "2024-07-26T09:16:22.713558",
     "exception": false,
     "start_time": "2024-07-26T09:16:22.652740",
     "status": "completed"
    },
    "tags": []
   },
   "outputs": [
    {
     "name": "stdout",
     "output_type": "stream",
     "text": [
      "1.707825127659933\n"
     ]
    }
   ],
   "source": [
    "#Std() Function\n",
    "arr = np.array([1,2,3,4,5,6])\n",
    "print(np.std(arr))"
   ]
  },
  {
   "cell_type": "code",
   "execution_count": 110,
   "id": "27700873",
   "metadata": {
    "execution": {
     "iopub.execute_input": "2024-07-26T09:16:22.816263Z",
     "iopub.status.busy": "2024-07-26T09:16:22.815871Z",
     "iopub.status.idle": "2024-07-26T09:16:22.822595Z",
     "shell.execute_reply": "2024-07-26T09:16:22.821403Z"
    },
    "papermill": {
     "duration": 0.061329,
     "end_time": "2024-07-26T09:16:22.824915",
     "exception": false,
     "start_time": "2024-07-26T09:16:22.763586",
     "status": "completed"
    },
    "tags": []
   },
   "outputs": [
    {
     "name": "stdout",
     "output_type": "stream",
     "text": [
      "[1.         1.41421356 1.73205081 2.         2.23606798 2.44948974]\n"
     ]
    }
   ],
   "source": [
    "#Sqrt() Function\n",
    "arr = np.array([1,2,3,4,5,6])\n",
    "print(np.sqrt(arr))"
   ]
  },
  {
   "cell_type": "code",
   "execution_count": 111,
   "id": "bd1c1673",
   "metadata": {
    "execution": {
     "iopub.execute_input": "2024-07-26T09:16:22.928696Z",
     "iopub.status.busy": "2024-07-26T09:16:22.928274Z",
     "iopub.status.idle": "2024-07-26T09:16:22.934518Z",
     "shell.execute_reply": "2024-07-26T09:16:22.933169Z"
    },
    "papermill": {
     "duration": 0.061462,
     "end_time": "2024-07-26T09:16:22.937099",
     "exception": false,
     "start_time": "2024-07-26T09:16:22.875637",
     "status": "completed"
    },
    "tags": []
   },
   "outputs": [
    {
     "name": "stdout",
     "output_type": "stream",
     "text": [
      "[ 1  4  9 16 25 36]\n"
     ]
    }
   ],
   "source": [
    "#Square() Function\n",
    "arr = np.array([1,2,3,4,5,6])\n",
    "print(np.square(arr))"
   ]
  },
  {
   "cell_type": "markdown",
   "id": "0824ae5f",
   "metadata": {
    "papermill": {
     "duration": 0.050415,
     "end_time": "2024-07-26T09:16:23.038269",
     "exception": false,
     "start_time": "2024-07-26T09:16:22.987854",
     "status": "completed"
    },
    "tags": []
   },
   "source": [
    "<div style=\"background-color:gainsboro; padding:8px; border:2px dotted black; border-radius:8px; font-family:verdana; line-height: 1.7em\">\n",
    "• The np.nanmean() method computes the arithmetic mean along the specified axis and ignores the NaNs (Not a Number).\n",
    "<br>\n",
    "• Computing Mean of an array having NaN Values in it, results in NaN as output. \n",
    "<br>\n",
    "• But nanmean() function ignores NaN Values whie computing mean and provide the result.\n",
    "</div>"
   ]
  },
  {
   "cell_type": "code",
   "execution_count": 112,
   "id": "2e164556",
   "metadata": {
    "execution": {
     "iopub.execute_input": "2024-07-26T09:16:23.144072Z",
     "iopub.status.busy": "2024-07-26T09:16:23.143074Z",
     "iopub.status.idle": "2024-07-26T09:16:23.149912Z",
     "shell.execute_reply": "2024-07-26T09:16:23.148873Z"
    },
    "papermill": {
     "duration": 0.063698,
     "end_time": "2024-07-26T09:16:23.152761",
     "exception": false,
     "start_time": "2024-07-26T09:16:23.089063",
     "status": "completed"
    },
    "tags": []
   },
   "outputs": [
    {
     "name": "stdout",
     "output_type": "stream",
     "text": [
      "Calculating mean with mean() function : nan\n",
      "Calculating mean with nanmean() function : 3.5\n"
     ]
    }
   ],
   "source": [
    "#Nanmean() Function\n",
    "arr = np.array([0, np.nan, np.nan, 1, 2, 3, 4, 5, 6, 7])\n",
    "\n",
    "mean_arr = np.mean(arr)\n",
    "nan_mean_arr = np.nanmean(arr)\n",
    "\n",
    "print(\"Calculating mean with mean() function :\", mean_arr)\n",
    "print(\"Calculating mean with nanmean() function :\", nan_mean_arr)"
   ]
  },
  {
   "cell_type": "markdown",
   "id": "a0eb9efa",
   "metadata": {
    "papermill": {
     "duration": 0.050929,
     "end_time": "2024-07-26T09:16:23.254628",
     "exception": false,
     "start_time": "2024-07-26T09:16:23.203699",
     "status": "completed"
    },
    "tags": []
   },
   "source": [
    "<!--Font Awesome-->\n",
    "<link rel=\"stylesheet\" href=\"https://cdnjs.cloudflare.com/ajax/libs/font-awesome/5.15.4/css/all.min.css\"/>\n",
    "\n",
    "<div style=\"background-color:gainsboro; padding:8px; border:2px dotted black; border-radius:8px; font-family:verdana; line-height: 1.7em\">\n",
    "<font color='#6a66bd' size=\"5px\">NumPy ufuncs</font>\n",
    "<br>\n",
    "<br>\n",
    "<strong>What are ufuncs?</strong>\n",
    "<br>\n",
    "• ufuncs stands for \"Universal Functions\" and they are NumPy functions that operate on the ndarray object.\n",
    "<br>\n",
    "<br>\n",
    "<strong>Why use ufuncs?</strong>\n",
    "<br>\n",
    "• ufuncs are used to implement vectorization in NumPy which is way faster than iterating over elements.\n",
    "<br>\n",
    "• They also provide broadcasting and additional methods like reduce, accumulate etc. that are very helpful for computation.\n",
    "<br>\n",
    "<br>\n",
    "<strong>Add the Elements of Two Lists</strong>\n",
    "<br>\n",
    "<i class=\"fas fa-arrow-right\"></i> list 1: [1, 2, 3, 4]\n",
    "<br>\n",
    "<i class=\"fas fa-arrow-right\"></i> list 2: [4, 5, 6, 7]\n",
    "</div>"
   ]
  },
  {
   "cell_type": "code",
   "execution_count": 113,
   "id": "3d73fc01",
   "metadata": {
    "execution": {
     "iopub.execute_input": "2024-07-26T09:16:23.366464Z",
     "iopub.status.busy": "2024-07-26T09:16:23.366089Z",
     "iopub.status.idle": "2024-07-26T09:16:23.372279Z",
     "shell.execute_reply": "2024-07-26T09:16:23.371165Z"
    },
    "papermill": {
     "duration": 0.063707,
     "end_time": "2024-07-26T09:16:23.374957",
     "exception": false,
     "start_time": "2024-07-26T09:16:23.311250",
     "status": "completed"
    },
    "tags": []
   },
   "outputs": [
    {
     "name": "stdout",
     "output_type": "stream",
     "text": [
      "[5, 7, 9, 11]\n"
     ]
    }
   ],
   "source": [
    "#Without ufunc, we can use Python's built-in zip() method\n",
    "x = [1, 2, 3, 4]\n",
    "y = [4, 5, 6, 7]\n",
    "z = []\n",
    "\n",
    "for i, j in zip(x, y):\n",
    "  z.append(i + j)\n",
    "print(z)"
   ]
  },
  {
   "cell_type": "code",
   "execution_count": 114,
   "id": "d7952016",
   "metadata": {
    "execution": {
     "iopub.execute_input": "2024-07-26T09:16:23.493110Z",
     "iopub.status.busy": "2024-07-26T09:16:23.492532Z",
     "iopub.status.idle": "2024-07-26T09:16:23.499761Z",
     "shell.execute_reply": "2024-07-26T09:16:23.498511Z"
    },
    "papermill": {
     "duration": 0.074878,
     "end_time": "2024-07-26T09:16:23.502483",
     "exception": false,
     "start_time": "2024-07-26T09:16:23.427605",
     "status": "completed"
    },
    "tags": []
   },
   "outputs": [
    {
     "name": "stdout",
     "output_type": "stream",
     "text": [
      "[ 5  7  9 11]\n"
     ]
    }
   ],
   "source": [
    "#With ufunc, we can use the add() function\n",
    "x = [1, 2, 3, 4]\n",
    "y = [4, 5, 6, 7]\n",
    "\n",
    "z = np.add(x, y)\n",
    "\n",
    "print(z)"
   ]
  },
  {
   "cell_type": "markdown",
   "id": "7b521d28",
   "metadata": {
    "papermill": {
     "duration": 0.051249,
     "end_time": "2024-07-26T09:16:23.612158",
     "exception": false,
     "start_time": "2024-07-26T09:16:23.560909",
     "status": "completed"
    },
    "tags": []
   },
   "source": [
    "<div style=\"background-color:gainsboro; padding:8px; border:2px dotted black; border-radius:8px; font-family:verdana; line-height: 1.7em\">\n",
    "<font color='#6a66bd' size=\"5px\">Simple Arithmetic</font>\n",
    "<br>\n",
    "<br>\n",
    "• You could use arithmetic operators + - * / directly between NumPy arrays.\n",
    "<br>\n",
    "• But we have functions in numpy that can take any array-like objects e.g. lists, tuples etc. and perform arithmetic conditionally.\n",
    "<br>\n",
    "<br>\n",
    "<strong>Addition</strong>\n",
    "<br>\n",
    "• The add() function sums the content of two arrays and return the results in a new array.\n",
    "</div>"
   ]
  },
  {
   "cell_type": "code",
   "execution_count": 115,
   "id": "eaf6a811",
   "metadata": {
    "execution": {
     "iopub.execute_input": "2024-07-26T09:16:23.717789Z",
     "iopub.status.busy": "2024-07-26T09:16:23.717369Z",
     "iopub.status.idle": "2024-07-26T09:16:23.724138Z",
     "shell.execute_reply": "2024-07-26T09:16:23.723041Z"
    },
    "papermill": {
     "duration": 0.062958,
     "end_time": "2024-07-26T09:16:23.727041",
     "exception": false,
     "start_time": "2024-07-26T09:16:23.664083",
     "status": "completed"
    },
    "tags": []
   },
   "outputs": [
    {
     "name": "stdout",
     "output_type": "stream",
     "text": [
      "[30 32 34 36 38 40]\n"
     ]
    }
   ],
   "source": [
    "#With add() function\n",
    "arr1 = np.array([10, 11, 12, 13, 14, 15])\n",
    "arr2 = np.array([20, 21, 22, 23, 24, 25])\n",
    "\n",
    "newarr = np.add(arr1, arr2)\n",
    "\n",
    "print(newarr)"
   ]
  },
  {
   "cell_type": "code",
   "execution_count": 116,
   "id": "258cc3bc",
   "metadata": {
    "execution": {
     "iopub.execute_input": "2024-07-26T09:16:23.833544Z",
     "iopub.status.busy": "2024-07-26T09:16:23.833028Z",
     "iopub.status.idle": "2024-07-26T09:16:23.839614Z",
     "shell.execute_reply": "2024-07-26T09:16:23.838525Z"
    },
    "papermill": {
     "duration": 0.062037,
     "end_time": "2024-07-26T09:16:23.842126",
     "exception": false,
     "start_time": "2024-07-26T09:16:23.780089",
     "status": "completed"
    },
    "tags": []
   },
   "outputs": [
    {
     "name": "stdout",
     "output_type": "stream",
     "text": [
      "[30 32 34 36 38 40]\n"
     ]
    }
   ],
   "source": [
    "#Without add() function\n",
    "arr1 = np.array([10, 11, 12, 13, 14, 15])\n",
    "arr2 = np.array([20, 21, 22, 23, 24, 25])\n",
    "\n",
    "print(arr1 + arr2)"
   ]
  },
  {
   "cell_type": "markdown",
   "id": "3e56160c",
   "metadata": {
    "papermill": {
     "duration": 0.051846,
     "end_time": "2024-07-26T09:16:23.945835",
     "exception": false,
     "start_time": "2024-07-26T09:16:23.893989",
     "status": "completed"
    },
    "tags": []
   },
   "source": [
    "<div style=\"background-color:gainsboro; padding:8px; border:2px dotted black; border-radius:8px; font-family:verdana; line-height: 1.7em\">\n",
    "<strong>Subtraction</strong>\n",
    "<br>\n",
    "• The subtract() function subtracts the values from one array with the values from another array and return the results in a new array.\n",
    "</div>"
   ]
  },
  {
   "cell_type": "code",
   "execution_count": 117,
   "id": "53bc47cf",
   "metadata": {
    "execution": {
     "iopub.execute_input": "2024-07-26T09:16:24.052597Z",
     "iopub.status.busy": "2024-07-26T09:16:24.052182Z",
     "iopub.status.idle": "2024-07-26T09:16:24.059452Z",
     "shell.execute_reply": "2024-07-26T09:16:24.058223Z"
    },
    "papermill": {
     "duration": 0.063703,
     "end_time": "2024-07-26T09:16:24.061811",
     "exception": false,
     "start_time": "2024-07-26T09:16:23.998108",
     "status": "completed"
    },
    "tags": []
   },
   "outputs": [
    {
     "name": "stdout",
     "output_type": "stream",
     "text": [
      "[-10  -1   8  17  26  35]\n"
     ]
    }
   ],
   "source": [
    "#With subtract() function\n",
    "arr1 = np.array([10, 20, 30, 40, 50, 60])\n",
    "arr2 = np.array([20, 21, 22, 23, 24, 25])\n",
    "\n",
    "newarr = np.subtract(arr1, arr2)\n",
    "\n",
    "print(newarr)"
   ]
  },
  {
   "cell_type": "code",
   "execution_count": 118,
   "id": "31429933",
   "metadata": {
    "execution": {
     "iopub.execute_input": "2024-07-26T09:16:24.168167Z",
     "iopub.status.busy": "2024-07-26T09:16:24.167751Z",
     "iopub.status.idle": "2024-07-26T09:16:24.174101Z",
     "shell.execute_reply": "2024-07-26T09:16:24.173073Z"
    },
    "papermill": {
     "duration": 0.062712,
     "end_time": "2024-07-26T09:16:24.176352",
     "exception": false,
     "start_time": "2024-07-26T09:16:24.113640",
     "status": "completed"
    },
    "tags": []
   },
   "outputs": [
    {
     "name": "stdout",
     "output_type": "stream",
     "text": [
      "[-10  -1   8  17  26  35]\n"
     ]
    }
   ],
   "source": [
    "#Without subtract() function\n",
    "arr1 = np.array([10, 20, 30, 40, 50, 60])\n",
    "arr2 = np.array([20, 21, 22, 23, 24, 25])\n",
    "\n",
    "print(arr1 - arr2)"
   ]
  },
  {
   "cell_type": "markdown",
   "id": "2a09c27e",
   "metadata": {
    "papermill": {
     "duration": 0.052474,
     "end_time": "2024-07-26T09:16:24.280612",
     "exception": false,
     "start_time": "2024-07-26T09:16:24.228138",
     "status": "completed"
    },
    "tags": []
   },
   "source": [
    "<div style=\"background-color:gainsboro; padding:8px; border:2px dotted black; border-radius:8px; font-family:verdana; line-height: 1.7em\">\n",
    "<strong>Multiplication</strong>\n",
    "<br>\n",
    "• The multiply() function multiplies the values from one array with the values from another array and return the results in a new array.\n",
    "</div>"
   ]
  },
  {
   "cell_type": "code",
   "execution_count": 119,
   "id": "e966c057",
   "metadata": {
    "execution": {
     "iopub.execute_input": "2024-07-26T09:16:24.386474Z",
     "iopub.status.busy": "2024-07-26T09:16:24.386099Z",
     "iopub.status.idle": "2024-07-26T09:16:24.392434Z",
     "shell.execute_reply": "2024-07-26T09:16:24.391288Z"
    },
    "papermill": {
     "duration": 0.062467,
     "end_time": "2024-07-26T09:16:24.395524",
     "exception": false,
     "start_time": "2024-07-26T09:16:24.333057",
     "status": "completed"
    },
    "tags": []
   },
   "outputs": [
    {
     "name": "stdout",
     "output_type": "stream",
     "text": [
      "[ 200  420  660  920 1200 1500]\n"
     ]
    }
   ],
   "source": [
    "#With multiply() function\n",
    "arr1 = np.array([10, 20, 30, 40, 50, 60])\n",
    "arr2 = np.array([20, 21, 22, 23, 24, 25])\n",
    "\n",
    "newarr = np.multiply(arr1, arr2)\n",
    "\n",
    "print(newarr)"
   ]
  },
  {
   "cell_type": "code",
   "execution_count": 120,
   "id": "67c1d3fc",
   "metadata": {
    "execution": {
     "iopub.execute_input": "2024-07-26T09:16:24.505092Z",
     "iopub.status.busy": "2024-07-26T09:16:24.504221Z",
     "iopub.status.idle": "2024-07-26T09:16:24.510611Z",
     "shell.execute_reply": "2024-07-26T09:16:24.509423Z"
    },
    "papermill": {
     "duration": 0.064817,
     "end_time": "2024-07-26T09:16:24.513662",
     "exception": false,
     "start_time": "2024-07-26T09:16:24.448845",
     "status": "completed"
    },
    "tags": []
   },
   "outputs": [
    {
     "name": "stdout",
     "output_type": "stream",
     "text": [
      "[ 200  420  660  920 1200 1500]\n"
     ]
    }
   ],
   "source": [
    "#Without multiply() function\n",
    "arr1 = np.array([10, 20, 30, 40, 50, 60])\n",
    "arr2 = np.array([20, 21, 22, 23, 24, 25])\n",
    "\n",
    "print(arr1 * arr2)"
   ]
  },
  {
   "cell_type": "markdown",
   "id": "6efe0d41",
   "metadata": {
    "papermill": {
     "duration": 0.053535,
     "end_time": "2024-07-26T09:16:24.624059",
     "exception": false,
     "start_time": "2024-07-26T09:16:24.570524",
     "status": "completed"
    },
    "tags": []
   },
   "source": [
    "<div style=\"background-color:gainsboro; padding:8px; border:2px dotted black; border-radius:8px; font-family:verdana; line-height: 1.7em\">\n",
    "<strong>Division</strong>\n",
    "<br>\n",
    "• The divide() function divides the values from one array with the values from another array and return the results in a new array.\n",
    "</div>"
   ]
  },
  {
   "cell_type": "code",
   "execution_count": 121,
   "id": "e536a5a8",
   "metadata": {
    "execution": {
     "iopub.execute_input": "2024-07-26T09:16:24.731972Z",
     "iopub.status.busy": "2024-07-26T09:16:24.731555Z",
     "iopub.status.idle": "2024-07-26T09:16:24.738737Z",
     "shell.execute_reply": "2024-07-26T09:16:24.737245Z"
    },
    "papermill": {
     "duration": 0.064892,
     "end_time": "2024-07-26T09:16:24.741297",
     "exception": false,
     "start_time": "2024-07-26T09:16:24.676405",
     "status": "completed"
    },
    "tags": []
   },
   "outputs": [
    {
     "name": "stdout",
     "output_type": "stream",
     "text": [
      "[0.5        0.95238095 1.36363636 1.73913043 2.08333333 2.4       ]\n"
     ]
    }
   ],
   "source": [
    "#With divide() function\n",
    "arr1 = np.array([10, 20, 30, 40, 50, 60])\n",
    "arr2 = np.array([20, 21, 22, 23, 24, 25])\n",
    "\n",
    "newarr = np.divide(arr1, arr2)\n",
    "\n",
    "print(newarr)"
   ]
  },
  {
   "cell_type": "code",
   "execution_count": 122,
   "id": "4d1ca99d",
   "metadata": {
    "execution": {
     "iopub.execute_input": "2024-07-26T09:16:24.847482Z",
     "iopub.status.busy": "2024-07-26T09:16:24.847080Z",
     "iopub.status.idle": "2024-07-26T09:16:24.853810Z",
     "shell.execute_reply": "2024-07-26T09:16:24.852777Z"
    },
    "papermill": {
     "duration": 0.062372,
     "end_time": "2024-07-26T09:16:24.856265",
     "exception": false,
     "start_time": "2024-07-26T09:16:24.793893",
     "status": "completed"
    },
    "tags": []
   },
   "outputs": [
    {
     "name": "stdout",
     "output_type": "stream",
     "text": [
      "[0.5        0.95238095 1.36363636 1.73913043 2.08333333 2.4       ]\n"
     ]
    }
   ],
   "source": [
    "#Without divide() function\n",
    "arr1 = np.array([10, 20, 30, 40, 50, 60])\n",
    "arr2 = np.array([20, 21, 22, 23, 24, 25])\n",
    "\n",
    "print(arr1 / arr2)"
   ]
  },
  {
   "cell_type": "markdown",
   "id": "dce34a1d",
   "metadata": {
    "papermill": {
     "duration": 0.052863,
     "end_time": "2024-07-26T09:16:24.962205",
     "exception": false,
     "start_time": "2024-07-26T09:16:24.909342",
     "status": "completed"
    },
    "tags": []
   },
   "source": [
    "<div style=\"background-color:gainsboro; padding:8px; border:2px dotted black; border-radius:8px; font-family:verdana; line-height: 1.7em\">\n",
    "<strong>Power</strong>\n",
    "<br>\n",
    "• The power() function rises the values from the first array to the power of the values of the second array and return the results in a new array.\n",
    "</div>"
   ]
  },
  {
   "cell_type": "code",
   "execution_count": 123,
   "id": "4e2360cc",
   "metadata": {
    "execution": {
     "iopub.execute_input": "2024-07-26T09:16:25.076604Z",
     "iopub.status.busy": "2024-07-26T09:16:25.076127Z",
     "iopub.status.idle": "2024-07-26T09:16:25.082807Z",
     "shell.execute_reply": "2024-07-26T09:16:25.081523Z"
    },
    "papermill": {
     "duration": 0.069395,
     "end_time": "2024-07-26T09:16:25.085426",
     "exception": false,
     "start_time": "2024-07-26T09:16:25.016031",
     "status": "completed"
    },
    "tags": []
   },
   "outputs": [
    {
     "name": "stdout",
     "output_type": "stream",
     "text": [
      "[         1000       3200000     729000000 6553600000000          2500\n",
      "             0]\n"
     ]
    }
   ],
   "source": [
    "#With power() function\n",
    "arr1 = np.array([10, 20, 30, 40, 50, 60])\n",
    "arr2 = np.array([3, 5, 6, 8, 2, 33])\n",
    "\n",
    "newarr = np.power(arr1, arr2)\n",
    "\n",
    "print(newarr)"
   ]
  },
  {
   "cell_type": "code",
   "execution_count": 124,
   "id": "871b3b40",
   "metadata": {
    "execution": {
     "iopub.execute_input": "2024-07-26T09:16:25.193384Z",
     "iopub.status.busy": "2024-07-26T09:16:25.192974Z",
     "iopub.status.idle": "2024-07-26T09:16:25.199357Z",
     "shell.execute_reply": "2024-07-26T09:16:25.198179Z"
    },
    "papermill": {
     "duration": 0.06383,
     "end_time": "2024-07-26T09:16:25.201780",
     "exception": false,
     "start_time": "2024-07-26T09:16:25.137950",
     "status": "completed"
    },
    "tags": []
   },
   "outputs": [
    {
     "name": "stdout",
     "output_type": "stream",
     "text": [
      "[         1000       3200000     729000000 6553600000000          2500\n",
      "             0]\n"
     ]
    }
   ],
   "source": [
    "#Without power() function\n",
    "arr1 = np.array([10, 20, 30, 40, 50, 60])\n",
    "arr2 = np.array([3, 5, 6, 8, 2, 33])\n",
    "\n",
    "print(arr1 ** arr2)"
   ]
  },
  {
   "cell_type": "markdown",
   "id": "44d8db86",
   "metadata": {
    "papermill": {
     "duration": 0.052972,
     "end_time": "2024-07-26T09:16:25.307082",
     "exception": false,
     "start_time": "2024-07-26T09:16:25.254110",
     "status": "completed"
    },
    "tags": []
   },
   "source": [
    "<div style=\"background-color:gainsboro; padding:8px; border:2px dotted black; border-radius:8px; font-family:verdana; line-height: 1.7em\">\n",
    "<strong>Remainder</strong>\n",
    "<br>\n",
    "• Both the mod() and the remainder() functions return the remainder of the values in the first array corresponding to the values in the second array and return the results in a new array.\n",
    "</div>"
   ]
  },
  {
   "cell_type": "code",
   "execution_count": 125,
   "id": "97566224",
   "metadata": {
    "execution": {
     "iopub.execute_input": "2024-07-26T09:16:25.413782Z",
     "iopub.status.busy": "2024-07-26T09:16:25.413348Z",
     "iopub.status.idle": "2024-07-26T09:16:25.419665Z",
     "shell.execute_reply": "2024-07-26T09:16:25.418560Z"
    },
    "papermill": {
     "duration": 0.062492,
     "end_time": "2024-07-26T09:16:25.422238",
     "exception": false,
     "start_time": "2024-07-26T09:16:25.359746",
     "status": "completed"
    },
    "tags": []
   },
   "outputs": [
    {
     "name": "stdout",
     "output_type": "stream",
     "text": [
      "[ 1  6  3  0  0 27]\n"
     ]
    }
   ],
   "source": [
    "#With mod() function\n",
    "arr1 = np.array([10, 20, 30, 40, 50, 60])\n",
    "arr2 = np.array([3, 7, 9, 8, 2, 33])\n",
    "\n",
    "newarr = np.mod(arr1, arr2)\n",
    "\n",
    "print(newarr)"
   ]
  },
  {
   "cell_type": "code",
   "execution_count": 126,
   "id": "e3a54701",
   "metadata": {
    "execution": {
     "iopub.execute_input": "2024-07-26T09:16:25.531202Z",
     "iopub.status.busy": "2024-07-26T09:16:25.530778Z",
     "iopub.status.idle": "2024-07-26T09:16:25.538052Z",
     "shell.execute_reply": "2024-07-26T09:16:25.537019Z"
    },
    "papermill": {
     "duration": 0.063845,
     "end_time": "2024-07-26T09:16:25.540474",
     "exception": false,
     "start_time": "2024-07-26T09:16:25.476629",
     "status": "completed"
    },
    "tags": []
   },
   "outputs": [
    {
     "name": "stdout",
     "output_type": "stream",
     "text": [
      "[ 1  6  3  0  0 27]\n"
     ]
    }
   ],
   "source": [
    "#With remainder() function\n",
    "arr1 = np.array([10, 20, 30, 40, 50, 60])\n",
    "arr2 = np.array([3, 7, 9, 8, 2, 33])\n",
    "\n",
    "newarr = np.remainder(arr1, arr2)\n",
    "\n",
    "print(newarr)"
   ]
  },
  {
   "cell_type": "code",
   "execution_count": 127,
   "id": "24782f69",
   "metadata": {
    "execution": {
     "iopub.execute_input": "2024-07-26T09:16:25.647651Z",
     "iopub.status.busy": "2024-07-26T09:16:25.647274Z",
     "iopub.status.idle": "2024-07-26T09:16:25.653967Z",
     "shell.execute_reply": "2024-07-26T09:16:25.652859Z"
    },
    "papermill": {
     "duration": 0.063063,
     "end_time": "2024-07-26T09:16:25.656272",
     "exception": false,
     "start_time": "2024-07-26T09:16:25.593209",
     "status": "completed"
    },
    "tags": []
   },
   "outputs": [
    {
     "name": "stdout",
     "output_type": "stream",
     "text": [
      "[ 1  6  3  0  0 27]\n"
     ]
    }
   ],
   "source": [
    "#Without mod() or remainder() function\n",
    "arr1 = np.array([10, 20, 30, 40, 50, 60])\n",
    "arr2 = np.array([3, 7, 9, 8, 2, 33])\n",
    "\n",
    "print(arr1 % arr2)"
   ]
  },
  {
   "cell_type": "markdown",
   "id": "9346017e",
   "metadata": {
    "papermill": {
     "duration": 0.052488,
     "end_time": "2024-07-26T09:16:25.761326",
     "exception": false,
     "start_time": "2024-07-26T09:16:25.708838",
     "status": "completed"
    },
    "tags": []
   },
   "source": [
    "<div style=\"background-color:gainsboro; padding:8px; border:2px dotted black; border-radius:8px; font-family:verdana; line-height: 1.7em\">\n",
    "<strong>Quotient and Mod</strong>\n",
    "<br>\n",
    "• The divmod() function return both the quotient and the the mod. \n",
    "<br>\n",
    "• The return value is two arrays, the first array contains the quotient and second array contains the mod.\n",
    "</div>"
   ]
  },
  {
   "cell_type": "code",
   "execution_count": 128,
   "id": "5a7be038",
   "metadata": {
    "execution": {
     "iopub.execute_input": "2024-07-26T09:16:25.870817Z",
     "iopub.status.busy": "2024-07-26T09:16:25.869857Z",
     "iopub.status.idle": "2024-07-26T09:16:25.876938Z",
     "shell.execute_reply": "2024-07-26T09:16:25.875852Z"
    },
    "papermill": {
     "duration": 0.064155,
     "end_time": "2024-07-26T09:16:25.879457",
     "exception": false,
     "start_time": "2024-07-26T09:16:25.815302",
     "status": "completed"
    },
    "tags": []
   },
   "outputs": [
    {
     "name": "stdout",
     "output_type": "stream",
     "text": [
      "(array([ 3,  2,  3,  5, 25,  1]), array([ 1,  6,  3,  0,  0, 27]))\n"
     ]
    }
   ],
   "source": [
    "arr1 = np.array([10, 20, 30, 40, 50, 60])\n",
    "arr2 = np.array([3, 7, 9, 8, 2, 33])\n",
    "\n",
    "newarr = np.divmod(arr1, arr2)\n",
    "\n",
    "print(newarr)"
   ]
  },
  {
   "cell_type": "markdown",
   "id": "49108a34",
   "metadata": {
    "papermill": {
     "duration": 0.052304,
     "end_time": "2024-07-26T09:16:25.984789",
     "exception": false,
     "start_time": "2024-07-26T09:16:25.932485",
     "status": "completed"
    },
    "tags": []
   },
   "source": [
    "<div style=\"background-color:gainsboro; padding:8px; border:2px dotted black; border-radius:8px; font-family:verdana; line-height: 1.7em\">\n",
    "<strong>Absolute Values</strong>\n",
    "<br>\n",
    "• Both the absolute() and the abs() functions do the same absolute operation element-wise but we should use absolute() to avoid confusion with python's inbuilt abs() function.\n",
    "</div>"
   ]
  },
  {
   "cell_type": "code",
   "execution_count": 129,
   "id": "4a2972e7",
   "metadata": {
    "execution": {
     "iopub.execute_input": "2024-07-26T09:16:26.094229Z",
     "iopub.status.busy": "2024-07-26T09:16:26.093831Z",
     "iopub.status.idle": "2024-07-26T09:16:26.101459Z",
     "shell.execute_reply": "2024-07-26T09:16:26.100161Z"
    },
    "papermill": {
     "duration": 0.065505,
     "end_time": "2024-07-26T09:16:26.104199",
     "exception": false,
     "start_time": "2024-07-26T09:16:26.038694",
     "status": "completed"
    },
    "tags": []
   },
   "outputs": [
    {
     "name": "stdout",
     "output_type": "stream",
     "text": [
      "[1 2 1 2 3 4]\n"
     ]
    }
   ],
   "source": [
    "#With absolute() function\n",
    "arr = np.array([-1, -2, 1, 2, 3, -4])\n",
    "\n",
    "newarr = np.absolute(arr)\n",
    "\n",
    "print(newarr)"
   ]
  },
  {
   "cell_type": "code",
   "execution_count": 130,
   "id": "01294e33",
   "metadata": {
    "execution": {
     "iopub.execute_input": "2024-07-26T09:16:26.214197Z",
     "iopub.status.busy": "2024-07-26T09:16:26.213793Z",
     "iopub.status.idle": "2024-07-26T09:16:26.220167Z",
     "shell.execute_reply": "2024-07-26T09:16:26.219015Z"
    },
    "papermill": {
     "duration": 0.064798,
     "end_time": "2024-07-26T09:16:26.222529",
     "exception": false,
     "start_time": "2024-07-26T09:16:26.157731",
     "status": "completed"
    },
    "tags": []
   },
   "outputs": [
    {
     "name": "stdout",
     "output_type": "stream",
     "text": [
      "[1 2 1 2 3 4]\n"
     ]
    }
   ],
   "source": [
    "#Without absolute() function\n",
    "arr = np.array([-1, -2, 1, 2, 3, -4])\n",
    "print(abs(arr))"
   ]
  },
  {
   "cell_type": "markdown",
   "id": "cba511b8",
   "metadata": {
    "papermill": {
     "duration": 0.05339,
     "end_time": "2024-07-26T09:16:26.329917",
     "exception": false,
     "start_time": "2024-07-26T09:16:26.276527",
     "status": "completed"
    },
    "tags": []
   },
   "source": [
    "<!--Font Awesome-->\n",
    "<link rel=\"stylesheet\" href=\"https://cdnjs.cloudflare.com/ajax/libs/font-awesome/5.15.4/css/all.min.css\"/>\n",
    "\n",
    "<div style=\"background-color:gainsboro; padding:8px; border:2px dotted black; border-radius:8px; font-family:verdana; line-height: 1.7em\">\n",
    "<font color='#6a66bd' size=\"5px\">Rounding Decimals</font>\n",
    "<br>\n",
    "<br>\n",
    "• There are primarily five ways of rounding off decimals in NumPy.\n",
    "<br>\n",
    "<i class=\"fas fa-arrow-right\"></i> truncation\n",
    "<br>\n",
    "<i class=\"fas fa-arrow-right\"></i> fix\n",
    "<br>\n",
    "<i class=\"fas fa-arrow-right\"></i> rounding\n",
    "<br>\n",
    "<i class=\"fas fa-arrow-right\"></i> floor\n",
    "<br>\n",
    "<i class=\"fas fa-arrow-right\"></i> ceil\n",
    "<br>\n",
    "<br>\n",
    "<strong>Truncation</strong>\n",
    "<br>\n",
    "• Remove the decimals and return the float number closest to zero. Use the trunc() and fix() functions.\n",
    "</div>"
   ]
  },
  {
   "cell_type": "code",
   "execution_count": 131,
   "id": "891d9012",
   "metadata": {
    "execution": {
     "iopub.execute_input": "2024-07-26T09:16:26.439164Z",
     "iopub.status.busy": "2024-07-26T09:16:26.438746Z",
     "iopub.status.idle": "2024-07-26T09:16:26.445433Z",
     "shell.execute_reply": "2024-07-26T09:16:26.444317Z"
    },
    "papermill": {
     "duration": 0.063971,
     "end_time": "2024-07-26T09:16:26.447771",
     "exception": false,
     "start_time": "2024-07-26T09:16:26.383800",
     "status": "completed"
    },
    "tags": []
   },
   "outputs": [
    {
     "name": "stdout",
     "output_type": "stream",
     "text": [
      "[-3.  3.]\n",
      "[-3.  3.]\n"
     ]
    }
   ],
   "source": [
    "#Using trunc() Method\n",
    "arr1 = np.trunc([-3.1666, 3.6667])\n",
    "print(arr1)\n",
    "\n",
    "#Using fix() Method\n",
    "arr2 = np.fix([-3.1666, 3.6667])\n",
    "print(arr2)"
   ]
  },
  {
   "cell_type": "markdown",
   "id": "28231b4f",
   "metadata": {
    "papermill": {
     "duration": 0.053091,
     "end_time": "2024-07-26T09:16:26.555551",
     "exception": false,
     "start_time": "2024-07-26T09:16:26.502460",
     "status": "completed"
    },
    "tags": []
   },
   "source": [
    "<div style=\"background-color:gainsboro; padding:8px; border:2px dotted black; border-radius:8px; font-family:verdana; line-height: 1.7em\">\n",
    "<strong>Rounding</strong>\n",
    "<br>\n",
    "• The around() function increments preceding digit or decimal by 1 if num >= 5 else do nothing.\n",
    "</div>"
   ]
  },
  {
   "cell_type": "code",
   "execution_count": 132,
   "id": "fdb75ec6",
   "metadata": {
    "execution": {
     "iopub.execute_input": "2024-07-26T09:16:26.665099Z",
     "iopub.status.busy": "2024-07-26T09:16:26.664682Z",
     "iopub.status.idle": "2024-07-26T09:16:26.670024Z",
     "shell.execute_reply": "2024-07-26T09:16:26.668819Z"
    },
    "papermill": {
     "duration": 0.063213,
     "end_time": "2024-07-26T09:16:26.672907",
     "exception": false,
     "start_time": "2024-07-26T09:16:26.609694",
     "status": "completed"
    },
    "tags": []
   },
   "outputs": [
    {
     "name": "stdout",
     "output_type": "stream",
     "text": [
      "3.17\n"
     ]
    }
   ],
   "source": [
    "arr = np.around(3.1666, 2)\n",
    "print(arr)"
   ]
  },
  {
   "cell_type": "markdown",
   "id": "1d904616",
   "metadata": {
    "papermill": {
     "duration": 0.052802,
     "end_time": "2024-07-26T09:16:26.778674",
     "exception": false,
     "start_time": "2024-07-26T09:16:26.725872",
     "status": "completed"
    },
    "tags": []
   },
   "source": [
    "<div style=\"background-color:gainsboro; padding:8px; border:2px dotted black; border-radius:8px; font-family:verdana; line-height: 1.7em\">\n",
    "<strong>Floor</strong>\n",
    "<br>\n",
    "• The floor() function rounds off decimal to nearest lower integer.\n",
    "</div>"
   ]
  },
  {
   "cell_type": "code",
   "execution_count": 133,
   "id": "db24c658",
   "metadata": {
    "execution": {
     "iopub.execute_input": "2024-07-26T09:16:26.888066Z",
     "iopub.status.busy": "2024-07-26T09:16:26.887052Z",
     "iopub.status.idle": "2024-07-26T09:16:26.893059Z",
     "shell.execute_reply": "2024-07-26T09:16:26.892048Z"
    },
    "papermill": {
     "duration": 0.06301,
     "end_time": "2024-07-26T09:16:26.895409",
     "exception": false,
     "start_time": "2024-07-26T09:16:26.832399",
     "status": "completed"
    },
    "tags": []
   },
   "outputs": [
    {
     "name": "stdout",
     "output_type": "stream",
     "text": [
      "[-4.  3.]\n"
     ]
    }
   ],
   "source": [
    "arr = np.floor([-3.1666, 3.6667])\n",
    "print(arr)"
   ]
  },
  {
   "cell_type": "markdown",
   "id": "53238ebd",
   "metadata": {
    "papermill": {
     "duration": 0.053815,
     "end_time": "2024-07-26T09:16:27.003792",
     "exception": false,
     "start_time": "2024-07-26T09:16:26.949977",
     "status": "completed"
    },
    "tags": []
   },
   "source": [
    "<div style=\"background-color:gainsboro; padding:8px; border:2px dotted black; border-radius:8px; font-family:verdana; line-height: 1.7em\">\n",
    "<strong>Ceil</strong>\n",
    "<br>\n",
    "• The ceil() function rounds off decimal to nearest upper integer.\n",
    "</div>"
   ]
  },
  {
   "cell_type": "code",
   "execution_count": 134,
   "id": "476d00b2",
   "metadata": {
    "execution": {
     "iopub.execute_input": "2024-07-26T09:16:27.113105Z",
     "iopub.status.busy": "2024-07-26T09:16:27.112559Z",
     "iopub.status.idle": "2024-07-26T09:16:27.118787Z",
     "shell.execute_reply": "2024-07-26T09:16:27.117760Z"
    },
    "papermill": {
     "duration": 0.063475,
     "end_time": "2024-07-26T09:16:27.121133",
     "exception": false,
     "start_time": "2024-07-26T09:16:27.057658",
     "status": "completed"
    },
    "tags": []
   },
   "outputs": [
    {
     "name": "stdout",
     "output_type": "stream",
     "text": [
      "[-3.  4.]\n"
     ]
    }
   ],
   "source": [
    "arr = np.ceil([-3.1666, 3.6667])\n",
    "print(arr)"
   ]
  },
  {
   "cell_type": "markdown",
   "id": "81f179a9",
   "metadata": {
    "papermill": {
     "duration": 0.052648,
     "end_time": "2024-07-26T09:16:27.228374",
     "exception": false,
     "start_time": "2024-07-26T09:16:27.175726",
     "status": "completed"
    },
    "tags": []
   },
   "source": [
    "<div style=\"background-color:gainsboro; padding:8px; border:2px dotted black; border-radius:8px; font-family:verdana; line-height: 1.7em\">\n",
    "<font color='#6a66bd' size=\"5px\">NumPy Summations</font>\n",
    "<br>\n",
    "<br>\n",
    "<strong>Summations</strong>\n",
    "<br>\n",
    "• What is the difference between summation and addition?\n",
    "<br>\n",
    "• Addition is done between two arguments whereas summation happens over n elements.\n",
    "</div>"
   ]
  },
  {
   "cell_type": "code",
   "execution_count": 135,
   "id": "c7512bd7",
   "metadata": {
    "execution": {
     "iopub.execute_input": "2024-07-26T09:16:27.337040Z",
     "iopub.status.busy": "2024-07-26T09:16:27.336642Z",
     "iopub.status.idle": "2024-07-26T09:16:27.343140Z",
     "shell.execute_reply": "2024-07-26T09:16:27.341827Z"
    },
    "papermill": {
     "duration": 0.064285,
     "end_time": "2024-07-26T09:16:27.345411",
     "exception": false,
     "start_time": "2024-07-26T09:16:27.281126",
     "status": "completed"
    },
    "tags": []
   },
   "outputs": [
    {
     "name": "stdout",
     "output_type": "stream",
     "text": [
      "[2 4 6]\n"
     ]
    }
   ],
   "source": [
    "#Using add() function\n",
    "arr1 = np.array([1, 2, 3])\n",
    "arr2 = np.array([1, 2, 3])\n",
    "\n",
    "newarr = np.add(arr1, arr2)\n",
    "\n",
    "print(newarr)"
   ]
  },
  {
   "cell_type": "code",
   "execution_count": 136,
   "id": "5600300e",
   "metadata": {
    "execution": {
     "iopub.execute_input": "2024-07-26T09:16:27.453549Z",
     "iopub.status.busy": "2024-07-26T09:16:27.453173Z",
     "iopub.status.idle": "2024-07-26T09:16:27.459578Z",
     "shell.execute_reply": "2024-07-26T09:16:27.458510Z"
    },
    "papermill": {
     "duration": 0.063483,
     "end_time": "2024-07-26T09:16:27.462045",
     "exception": false,
     "start_time": "2024-07-26T09:16:27.398562",
     "status": "completed"
    },
    "tags": []
   },
   "outputs": [
    {
     "name": "stdout",
     "output_type": "stream",
     "text": [
      "12\n"
     ]
    }
   ],
   "source": [
    "#Using sum() function\n",
    "arr1 = np.array([1, 2, 3])\n",
    "arr2 = np.array([1, 2, 3])\n",
    "\n",
    "newarr = np.sum([arr1, arr2])\n",
    "\n",
    "print(newarr)"
   ]
  },
  {
   "cell_type": "markdown",
   "id": "db7749c0",
   "metadata": {
    "papermill": {
     "duration": 0.054252,
     "end_time": "2024-07-26T09:16:27.571112",
     "exception": false,
     "start_time": "2024-07-26T09:16:27.516860",
     "status": "completed"
    },
    "tags": []
   },
   "source": [
    "<div style=\"background-color:gainsboro; padding:8px; border:2px dotted black; border-radius:8px; font-family:verdana; line-height: 1.7em\">\n",
    "<strong>Summation Over an Axis</strong>\n",
    "<br>\n",
    "• If you specify axis=1, NumPy will sum the numbers with respect to the row.\n",
    "<br>\n",
    "• If you specify axis=0, NumPy will sum the numbers with respect to the columns.\n",
    "</div>"
   ]
  },
  {
   "cell_type": "code",
   "execution_count": 137,
   "id": "283ad4c1",
   "metadata": {
    "execution": {
     "iopub.execute_input": "2024-07-26T09:16:27.679917Z",
     "iopub.status.busy": "2024-07-26T09:16:27.679548Z",
     "iopub.status.idle": "2024-07-26T09:16:27.686103Z",
     "shell.execute_reply": "2024-07-26T09:16:27.684961Z"
    },
    "papermill": {
     "duration": 0.06329,
     "end_time": "2024-07-26T09:16:27.688488",
     "exception": false,
     "start_time": "2024-07-26T09:16:27.625198",
     "status": "completed"
    },
    "tags": []
   },
   "outputs": [
    {
     "name": "stdout",
     "output_type": "stream",
     "text": [
      "[6 6]\n"
     ]
    }
   ],
   "source": [
    "#Using axis=1 (Row Wise)\n",
    "arr1 = np.array([1, 2, 3])\n",
    "arr2 = np.array([1, 2, 3])\n",
    "\n",
    "newarr = np.sum([arr1, arr2], axis=1)\n",
    "\n",
    "print(newarr)"
   ]
  },
  {
   "cell_type": "code",
   "execution_count": 138,
   "id": "bafcb7ec",
   "metadata": {
    "execution": {
     "iopub.execute_input": "2024-07-26T09:16:27.797777Z",
     "iopub.status.busy": "2024-07-26T09:16:27.797421Z",
     "iopub.status.idle": "2024-07-26T09:16:27.804268Z",
     "shell.execute_reply": "2024-07-26T09:16:27.803105Z"
    },
    "papermill": {
     "duration": 0.064328,
     "end_time": "2024-07-26T09:16:27.806774",
     "exception": false,
     "start_time": "2024-07-26T09:16:27.742446",
     "status": "completed"
    },
    "tags": []
   },
   "outputs": [
    {
     "name": "stdout",
     "output_type": "stream",
     "text": [
      "[2 4 6]\n"
     ]
    }
   ],
   "source": [
    "#Using axis=0 (Column Wise)\n",
    "arr1 = np.array([1, 2, 3])\n",
    "arr2 = np.array([1, 2, 3])\n",
    "\n",
    "newarr = np.sum([arr1, arr2], axis=0)\n",
    "\n",
    "print(newarr)"
   ]
  },
  {
   "cell_type": "markdown",
   "id": "25fec476",
   "metadata": {
    "papermill": {
     "duration": 0.054023,
     "end_time": "2024-07-26T09:16:27.915261",
     "exception": false,
     "start_time": "2024-07-26T09:16:27.861238",
     "status": "completed"
    },
    "tags": []
   },
   "source": [
    "<div style=\"background-color:gainsboro; padding:8px; border:2px dotted black; border-radius:8px; font-family:verdana; line-height: 1.7em\">\n",
    "<strong>Cummulative Sum</strong>\n",
    "<br>\n",
    "• Cummulative sum means partially adding the elements in array.\n",
    "<br>\n",
    "• Perfom partial sum with the cumsum() function.\n",
    "<br>\n",
    "• The partial sum of [1, 2, 3, 4] would be [1, 1+2, 1+2+3, 1+2+3+4] = [1, 3, 6, 10].\n",
    "</div>"
   ]
  },
  {
   "cell_type": "code",
   "execution_count": 139,
   "id": "067d05d3",
   "metadata": {
    "execution": {
     "iopub.execute_input": "2024-07-26T09:16:28.025132Z",
     "iopub.status.busy": "2024-07-26T09:16:28.024722Z",
     "iopub.status.idle": "2024-07-26T09:16:28.030789Z",
     "shell.execute_reply": "2024-07-26T09:16:28.029728Z"
    },
    "papermill": {
     "duration": 0.063963,
     "end_time": "2024-07-26T09:16:28.033387",
     "exception": false,
     "start_time": "2024-07-26T09:16:27.969424",
     "status": "completed"
    },
    "tags": []
   },
   "outputs": [
    {
     "name": "stdout",
     "output_type": "stream",
     "text": [
      "[1 3 6]\n"
     ]
    }
   ],
   "source": [
    "arr = np.array([1, 2, 3])\n",
    "newarr = np.cumsum(arr)\n",
    "print(newarr)"
   ]
  },
  {
   "cell_type": "markdown",
   "id": "9b4276ae",
   "metadata": {
    "papermill": {
     "duration": 0.053854,
     "end_time": "2024-07-26T09:16:28.141984",
     "exception": false,
     "start_time": "2024-07-26T09:16:28.088130",
     "status": "completed"
    },
    "tags": []
   },
   "source": [
    "<div style=\"background-color:gainsboro; padding:8px; border:2px dotted black; border-radius:8px; font-family:verdana; line-height: 1.7em\">\n",
    "<font color='#6a66bd' size=\"5px\">NumPy Differences</font>\n",
    "<br>\n",
    "<br>\n",
    "<strong>Differences</strong>\n",
    "<br>\n",
    "• A discrete difference means subtracting two successive elements.\n",
    "<br>\n",
    "• To find the discrete difference, use the diff() function.\n",
    "<br>\n",
    "• For [1, 2, 3, 4], the discrete difference would be [2-1, 3-2, 4-3] = [1, 1, 1]\n",
    "</div>"
   ]
  },
  {
   "cell_type": "code",
   "execution_count": 140,
   "id": "2380b95f",
   "metadata": {
    "execution": {
     "iopub.execute_input": "2024-07-26T09:16:28.252918Z",
     "iopub.status.busy": "2024-07-26T09:16:28.252519Z",
     "iopub.status.idle": "2024-07-26T09:16:28.258522Z",
     "shell.execute_reply": "2024-07-26T09:16:28.257364Z"
    },
    "papermill": {
     "duration": 0.06432,
     "end_time": "2024-07-26T09:16:28.261163",
     "exception": false,
     "start_time": "2024-07-26T09:16:28.196843",
     "status": "completed"
    },
    "tags": []
   },
   "outputs": [
    {
     "name": "stdout",
     "output_type": "stream",
     "text": [
      "[  5  10 -20]\n"
     ]
    }
   ],
   "source": [
    "arr = np.array([10, 15, 25, 5])\n",
    "newarr = np.diff(arr)\n",
    "print(newarr)"
   ]
  },
  {
   "cell_type": "markdown",
   "id": "c551f74f",
   "metadata": {
    "papermill": {
     "duration": 0.053779,
     "end_time": "2024-07-26T09:16:28.369452",
     "exception": false,
     "start_time": "2024-07-26T09:16:28.315673",
     "status": "completed"
    },
    "tags": []
   },
   "source": [
    "<div style=\"background-color:gainsboro; padding:8px; border:2px dotted black; border-radius:8px; font-family:verdana; line-height: 1.7em\">\n",
    "• We can perform this operation repeatedly by giving parameter n.\n",
    "</div>"
   ]
  },
  {
   "cell_type": "code",
   "execution_count": 141,
   "id": "6a1eb2be",
   "metadata": {
    "execution": {
     "iopub.execute_input": "2024-07-26T09:16:28.539621Z",
     "iopub.status.busy": "2024-07-26T09:16:28.539247Z",
     "iopub.status.idle": "2024-07-26T09:16:28.545474Z",
     "shell.execute_reply": "2024-07-26T09:16:28.544315Z"
    },
    "papermill": {
     "duration": 0.06394,
     "end_time": "2024-07-26T09:16:28.547926",
     "exception": false,
     "start_time": "2024-07-26T09:16:28.483986",
     "status": "completed"
    },
    "tags": []
   },
   "outputs": [
    {
     "name": "stdout",
     "output_type": "stream",
     "text": [
      "[  5 -30]\n"
     ]
    }
   ],
   "source": [
    "arr = np.array([10, 15, 25, 5])\n",
    "newarr = np.diff(arr, n=2)\n",
    "print(newarr)"
   ]
  },
  {
   "cell_type": "markdown",
   "id": "5c7fcee2",
   "metadata": {
    "papermill": {
     "duration": 0.054247,
     "end_time": "2024-07-26T09:16:28.659954",
     "exception": false,
     "start_time": "2024-07-26T09:16:28.605707",
     "status": "completed"
    },
    "tags": []
   },
   "source": [
    "<div style=\"background-color:gainsboro; padding:8px; border:2px dotted black; border-radius:8px; font-family:verdana; line-height: 1.7em\">\n",
    "<font color='#6a66bd' size=\"5px\">NumPy Products</font>\n",
    "<br>\n",
    "<br>\n",
    "<strong>Products</strong>\n",
    "<br>\n",
    "• To find the product of the elements in an array, use the prod() function.\n",
    "</div>"
   ]
  },
  {
   "cell_type": "code",
   "execution_count": 142,
   "id": "817dbb34",
   "metadata": {
    "execution": {
     "iopub.execute_input": "2024-07-26T09:16:28.769756Z",
     "iopub.status.busy": "2024-07-26T09:16:28.769369Z",
     "iopub.status.idle": "2024-07-26T09:16:28.775701Z",
     "shell.execute_reply": "2024-07-26T09:16:28.774508Z"
    },
    "papermill": {
     "duration": 0.063595,
     "end_time": "2024-07-26T09:16:28.778059",
     "exception": false,
     "start_time": "2024-07-26T09:16:28.714464",
     "status": "completed"
    },
    "tags": []
   },
   "outputs": [
    {
     "name": "stdout",
     "output_type": "stream",
     "text": [
      "24\n"
     ]
    }
   ],
   "source": [
    "#Find the product of the elements of one array\n",
    "arr = np.array([1, 2, 3, 4])\n",
    "x = np.prod(arr)\n",
    "print(x)"
   ]
  },
  {
   "cell_type": "code",
   "execution_count": 143,
   "id": "fca4e0e9",
   "metadata": {
    "execution": {
     "iopub.execute_input": "2024-07-26T09:16:28.889464Z",
     "iopub.status.busy": "2024-07-26T09:16:28.889051Z",
     "iopub.status.idle": "2024-07-26T09:16:28.895866Z",
     "shell.execute_reply": "2024-07-26T09:16:28.894719Z"
    },
    "papermill": {
     "duration": 0.064242,
     "end_time": "2024-07-26T09:16:28.898271",
     "exception": false,
     "start_time": "2024-07-26T09:16:28.834029",
     "status": "completed"
    },
    "tags": []
   },
   "outputs": [
    {
     "name": "stdout",
     "output_type": "stream",
     "text": [
      "40320\n"
     ]
    }
   ],
   "source": [
    "#Find the product of the elements of two arrays\n",
    "arr1 = np.array([1, 2, 3, 4])\n",
    "arr2 = np.array([5, 6, 7, 8])\n",
    "\n",
    "x = np.prod([arr1, arr2])\n",
    "\n",
    "print(x)"
   ]
  },
  {
   "cell_type": "markdown",
   "id": "8e44b91c",
   "metadata": {
    "papermill": {
     "duration": 0.054546,
     "end_time": "2024-07-26T09:16:29.008248",
     "exception": false,
     "start_time": "2024-07-26T09:16:28.953702",
     "status": "completed"
    },
    "tags": []
   },
   "source": [
    "<div style=\"background-color:gainsboro; padding:8px; border:2px dotted black; border-radius:8px; font-family:verdana; line-height: 1.7em\">\n",
    "<strong>Product Over an Axis</strong>\n",
    "<br>\n",
    "• If you specify axis=1, NumPy will return the product of each array.\n",
    "</div>"
   ]
  },
  {
   "cell_type": "code",
   "execution_count": 144,
   "id": "25c415f2",
   "metadata": {
    "execution": {
     "iopub.execute_input": "2024-07-26T09:16:29.120764Z",
     "iopub.status.busy": "2024-07-26T09:16:29.120395Z",
     "iopub.status.idle": "2024-07-26T09:16:29.126956Z",
     "shell.execute_reply": "2024-07-26T09:16:29.125839Z"
    },
    "papermill": {
     "duration": 0.066822,
     "end_time": "2024-07-26T09:16:29.130034",
     "exception": false,
     "start_time": "2024-07-26T09:16:29.063212",
     "status": "completed"
    },
    "tags": []
   },
   "outputs": [
    {
     "name": "stdout",
     "output_type": "stream",
     "text": [
      "[  24 1680]\n"
     ]
    }
   ],
   "source": [
    "arr1 = np.array([1, 2, 3, 4])\n",
    "arr2 = np.array([5, 6, 7, 8])\n",
    "\n",
    "newarr = np.prod([arr1, arr2], axis=1)\n",
    "\n",
    "print(newarr)"
   ]
  },
  {
   "cell_type": "markdown",
   "id": "c07f9106",
   "metadata": {
    "papermill": {
     "duration": 0.054603,
     "end_time": "2024-07-26T09:16:29.240395",
     "exception": false,
     "start_time": "2024-07-26T09:16:29.185792",
     "status": "completed"
    },
    "tags": []
   },
   "source": [
    "<div style=\"background-color:gainsboro; padding:8px; border:2px dotted black; border-radius:8px; font-family:verdana; line-height: 1.7em\">\n",
    "<strong>Cummulative Product</strong>\n",
    "<br>\n",
    "• Cummulative product means taking the product partially.\n",
    "<br>\n",
    "• Perfom partial sum with the cumprod() function.\n",
    "<br>\n",
    "• The partial product of [1, 2, 3, 4] is [1, 1*2, 1*2*3, 1*2*3*4] = [1, 2, 6, 24]\n",
    "</div>"
   ]
  },
  {
   "cell_type": "code",
   "execution_count": 145,
   "id": "51801e91",
   "metadata": {
    "execution": {
     "iopub.execute_input": "2024-07-26T09:16:29.353498Z",
     "iopub.status.busy": "2024-07-26T09:16:29.353129Z",
     "iopub.status.idle": "2024-07-26T09:16:29.359312Z",
     "shell.execute_reply": "2024-07-26T09:16:29.358055Z"
    },
    "papermill": {
     "duration": 0.06491,
     "end_time": "2024-07-26T09:16:29.361899",
     "exception": false,
     "start_time": "2024-07-26T09:16:29.296989",
     "status": "completed"
    },
    "tags": []
   },
   "outputs": [
    {
     "name": "stdout",
     "output_type": "stream",
     "text": [
      "[   5   30  210 1680]\n"
     ]
    }
   ],
   "source": [
    "arr = np.array([5, 6, 7, 8])\n",
    "newarr = np.cumprod(arr)\n",
    "print(newarr)"
   ]
  },
  {
   "cell_type": "markdown",
   "id": "c5ae702e",
   "metadata": {
    "papermill": {
     "duration": 0.055686,
     "end_time": "2024-07-26T09:16:29.473108",
     "exception": false,
     "start_time": "2024-07-26T09:16:29.417422",
     "status": "completed"
    },
    "tags": []
   },
   "source": [
    "<div style=\"background-color:gainsboro; padding:8px; border:2px dotted black; border-radius:8px; font-family:verdana; line-height: 1.7em\">\n",
    "<font color='#6a66bd' size=\"5px\">NumPy Broadcasting</font>\n",
    "<br>\n",
    "<br>\n",
    "• In NumPy, we can perform mathematical operations on arrays of different shapes. \n",
    "<br>\n",
    "• An array with a smaller shape is expanded to match the shape of a larger one. This is called broadcasting.\n",
    "<div style=\"background-color:#ADD8E6; padding:8px; border:1px solid #87CEEB; border-radius:4px;\">\n",
    "<strong>Note :</strong> In the example, we added two arrays with different dimensions.\n",
    "</div>\n",
    "<div style=\"background-color:#ADD8E6; padding:8px; border:1px solid #87CEEB; border-radius:4px;\">\n",
    "<strong>Note :</strong> Numpy automatically expands the size of arr1(1D) to match with the size of arr2(2D).\n",
    "</div>"
   ]
  },
  {
   "cell_type": "code",
   "execution_count": 146,
   "id": "ff36b1e9",
   "metadata": {
    "execution": {
     "iopub.execute_input": "2024-07-26T09:16:29.586200Z",
     "iopub.status.busy": "2024-07-26T09:16:29.585786Z",
     "iopub.status.idle": "2024-07-26T09:16:29.592336Z",
     "shell.execute_reply": "2024-07-26T09:16:29.591088Z"
    },
    "papermill": {
     "duration": 0.067122,
     "end_time": "2024-07-26T09:16:29.595437",
     "exception": false,
     "start_time": "2024-07-26T09:16:29.528315",
     "status": "completed"
    },
    "tags": []
   },
   "outputs": [
    {
     "name": "stdout",
     "output_type": "stream",
     "text": [
      "Dimension of arr1 : 1\n",
      "Dimension of arr2 : 2\n",
      "Dimension of output : 2\n"
     ]
    }
   ],
   "source": [
    "arr1 = np.array([1, 2, 3])\n",
    "arr2 = np.array([[1], [2], [3]])\n",
    "\n",
    "output = arr1 + arr2\n",
    "\n",
    "print(\"Dimension of arr1 :\", arr1.ndim)\n",
    "print(\"Dimension of arr2 :\", arr2.ndim)\n",
    "print(\"Dimension of output :\", output.ndim)"
   ]
  },
  {
   "cell_type": "markdown",
   "id": "56bf09c7",
   "metadata": {
    "papermill": {
     "duration": 0.055776,
     "end_time": "2024-07-26T09:16:29.708014",
     "exception": false,
     "start_time": "2024-07-26T09:16:29.652238",
     "status": "completed"
    },
    "tags": []
   },
   "source": [
    "<!--Font Awesome-->\n",
    "<link rel=\"stylesheet\" href=\"https://cdnjs.cloudflare.com/ajax/libs/font-awesome/5.15.4/css/all.min.css\"/>\n",
    "\n",
    "<div style=\"background-color:gainsboro; padding:8px; border:2px dotted black; border-radius:8px; font-family:verdana; line-height: 1.7em\">\n",
    "<strong>Compatibility Rules for Broadcasting</strong>\n",
    "<br>\n",
    "• Broadcasting only works with compatible arrays. NumPy compares a set of array dimensions from right to left.\n",
    "<br>\n",
    "• Every set of dimensions must be compatible with the arrays to be broadcastable. A set of dimension lengths is compatible when :\n",
    "<br>\n",
    "<i class=\"fas fa-arrow-right\"></i> One of them has a length of 1\n",
    "<br>\n",
    "<i class=\"fas fa-arrow-right\"></i> Or, they both are equal\n",
    "<br>\n",
    "<br>\n",
    "<strong>Examples</strong>\n",
    "<br>\n",
    "<strong>Broadcastable Shapes</strong>\n",
    "<br>\n",
    "<i class=\"fas fa-arrow-right\"></i> (6, 7) and (6, 7)\n",
    "<br>\n",
    "<i class=\"fas fa-arrow-right\"></i> (6, 7) and (6, 1)\n",
    "<br>\n",
    "<strong>Non-Broadcastable Shapes</strong>\n",
    "<br>\n",
    "<i class=\"fas fa-arrow-right\"></i> (6, 7) and (7, 6)\n",
    "<br>\n",
    "<br>\n",
    "<strong>Broadcasting with Scalars</strong>\n",
    "<br>\n",
    "• We can also perform mathematical operations between arrays and scalars (single values).\n",
    "<div style=\"background-color:#ADD8E6; padding:8px; border:1px solid #87CEEB; border-radius:4px;\">\n",
    "<strong>Note :</strong> In this example, NumPy automatically expands the scalar number to an 1-D array and then performs the element-wise addition.\n",
    "</div>\n",
    "</div>"
   ]
  },
  {
   "cell_type": "code",
   "execution_count": 147,
   "id": "40e708a4",
   "metadata": {
    "execution": {
     "iopub.execute_input": "2024-07-26T09:16:29.820315Z",
     "iopub.status.busy": "2024-07-26T09:16:29.819908Z",
     "iopub.status.idle": "2024-07-26T09:16:29.825753Z",
     "shell.execute_reply": "2024-07-26T09:16:29.824672Z"
    },
    "papermill": {
     "duration": 0.064732,
     "end_time": "2024-07-26T09:16:29.827890",
     "exception": false,
     "start_time": "2024-07-26T09:16:29.763158",
     "status": "completed"
    },
    "tags": []
   },
   "outputs": [
    {
     "name": "stdout",
     "output_type": "stream",
     "text": [
      "[ 8 10 12 14 16]\n"
     ]
    }
   ],
   "source": [
    "arr = np.array([2,4,6,8,10])\n",
    "num = 6\n",
    "sum = arr + num\n",
    "print(sum)"
   ]
  },
  {
   "cell_type": "markdown",
   "id": "d55b8844",
   "metadata": {
    "papermill": {
     "duration": 0.054344,
     "end_time": "2024-07-26T09:16:29.937238",
     "exception": false,
     "start_time": "2024-07-26T09:16:29.882894",
     "status": "completed"
    },
    "tags": []
   },
   "source": [
    "---\n",
    "\n",
    "<p style=\"color:#6a66bd; text-align:center; font-weight:bold; font-family:verdana; font-size:25px;\">Thanks 👏 for Visiting!</p>"
   ]
  }
 ],
 "metadata": {
  "kaggle": {
   "accelerator": "none",
   "dataSources": [],
   "dockerImageVersionId": 30746,
   "isGpuEnabled": false,
   "isInternetEnabled": true,
   "language": "python",
   "sourceType": "notebook"
  },
  "kernelspec": {
   "display_name": "Python 3 (ipykernel)",
   "language": "python",
   "name": "python3"
  },
  "language_info": {
   "codemirror_mode": {
    "name": "ipython",
    "version": 3
   },
   "file_extension": ".py",
   "mimetype": "text/x-python",
   "name": "python",
   "nbconvert_exporter": "python",
   "pygments_lexer": "ipython3",
   "version": "3.10.13"
  },
  "papermill": {
   "default_parameters": {},
   "duration": 44.000999,
   "end_time": "2024-07-26T09:16:30.412840",
   "environment_variables": {},
   "exception": null,
   "input_path": "__notebook__.ipynb",
   "output_path": "__notebook__.ipynb",
   "parameters": {},
   "start_time": "2024-07-26T09:15:46.411841",
   "version": "2.5.0"
  }
 },
 "nbformat": 4,
 "nbformat_minor": 5
}
