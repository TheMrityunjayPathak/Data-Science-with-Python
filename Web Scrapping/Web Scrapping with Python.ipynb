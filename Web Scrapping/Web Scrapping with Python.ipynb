{
 "cells": [
  {
   "cell_type": "markdown",
   "id": "9e38b6de-6a67-4cc1-ba0f-ce45580b692f",
   "metadata": {},
   "source": [
    "<div id=\"header\"><p style=\"color:#6a66bd; text-align:center; font-weight:bold; font-family:verdana; font-size:25px;\">Web Scrapping with Python</p></div>\n",
    "\n",
    "---\n",
    "\n",
    "<p style=\"text-align:right; font-family:verdana;\">Follow <a href=\"https://github.com/TheMrityunjayPathak\" style=\"color:#6a66bd; text-decoration:none;\">@Mrityunjay Pathak</a> for more!</p>"
   ]
  },
  {
   "attachments": {},
   "cell_type": "markdown",
   "id": "42c508b4-38d9-4e3b-9a41-9827ef79c539",
   "metadata": {},
   "source": [
    "<div style=\"background-color:gainsboro; padding:8px; border:2px dotted black; border-radius:8px; font-family:verdana; line-height: 1.7em\">\n",
    "<font color='#6a66bd' size=\"5px\">Web Scrapping</font>\n",
    "<br>\n",
    "• Web scraping is the process of extracting information from websites. \n",
    "<br>\n",
    "• Two popular tools for this task are Selenium and BeautifulSoup. \n",
    "<br>\n",
    "• Each has its strengths and is often used together to leverage their combined capabilities.\n",
    "<br>\n",
    "<br>\n",
    "<font color='#6a66bd' size=\"5px\">BeautifulSoup</font>\n",
    "<br>\n",
    "• BeautifulSoup is a library for parsing HTML and XML documents. \n",
    "<br>\n",
    "• It helps to navigate the HTML structure, search for elements, and extract data. \n",
    "<br>\n",
    "• It is particularly effective for handling and cleaning up the HTML after fetching it, making it easier to extract the desired information.\n",
    "<br>\n",
    "<br>\n",
    "<font color='#6a66bd' size=\"5px\">Selenium</font>\n",
    "<br>\n",
    "• Selenium is a powerful tool for automating web browsers. \n",
    "<br>\n",
    "• It can simulate user interactions, such as clicking buttons, filling out forms, and scrolling through pages. \n",
    "<br>\n",
    "• This makes it especially useful for scraping dynamic content that is loaded via JavaScript or requires user actions.\n",
    "</div>\n",
    "\n",
    "---\n",
    "\n",
    "<div style=\"background-color:gainsboro; padding:8px; border:2px dotted black; border-radius:8px; font-family:verdana; line-height: 1.7em\">\n",
    "<font color='#6a66bd' size=\"5px\">Libraries Used</font>\n",
    "<br>\n",
    "<br>\n",
    "<strong>pandas</strong>\n",
    "<br>\n",
    "• This library is used for data manipulation and analysis. \n",
    "<br>\n",
    "• It provides powerful data structures like DataFrames which are great for organizing and analyzing data scraped from websites. \n",
    "<br>\n",
    "• For example, after scraping data you can use pandas to clean and save the data in various formats like CSV or Excel.\n",
    "<br>\n",
    "<br>\n",
    "<strong>requests</strong>\n",
    "<br>\n",
    "• This library allows you to send HTTP requests using Python. \n",
    "<br>\n",
    "• It's often used to fetch the HTML content of a webpage. \n",
    "<br>\n",
    "• With requests, you can easily retrieve the page source which can then be parsed to extract the desired information.\n",
    "<br>\n",
    "<br>\n",
    "<strong>BeautifulSoup</strong>\n",
    "<br>\n",
    "• This library is used for parsing HTML and XML documents.\n",
    "<br>\n",
    "• It makes it easy to navigate and search the HTML structure of a webpage. \n",
    "<br>\n",
    "• After retrieving the HTML content using requests you can use BeautifulSoup to parse and extract specific elements of the webpage.\n",
    "<br>\n",
    "<br>\n",
    "<strong>selenium</strong>\n",
    "<br>\n",
    "• This library is used for automating web browsers.\n",
    "<br>\n",
    "• It allows you to interact with web pages, which is particularly useful for scraping dynamic content that is loaded via JavaScript. \n",
    "<br>\n",
    "• Selenium can simulate user interactions such as clicking buttons, filling out forms and scrolling.\n",
    "<br>\n",
    "<br>\n",
    "<strong>webdriver_manager</strong>\n",
    "<br>\n",
    "• This library is used to automatically manage browser drivers for Selenium.\n",
    "<br>\n",
    "• Instead of manually downloading and setting up browser drivers, webdriver_manager handles the installation and setup for you.\n",
    "<br>\n",
    "• This simplifies the process of ensuring you have the correct driver version for your browser.\n",
    "</div>"
   ]
  },
  {
   "attachments": {},
   "cell_type": "markdown",
   "id": "91ebf692-a827-4eaf-883b-d1cd3d734f89",
   "metadata": {},
   "source": [
    "<a href=\"https://www.imdb.com/chart/toptv/\" text-decoration=\"none\" color=\"black\"><img src=\"https://raw.githubusercontent.com/TheMrityunjayPathak/Data-Science-with-Python/main/Web%20Scrapping/images/home.png\" border=\"2px solid black\"></a>"
   ]
  },
  {
   "cell_type": "code",
   "execution_count": 1,
   "id": "bc1421f3-4346-4217-a9ab-54e8c342bb77",
   "metadata": {},
   "outputs": [],
   "source": [
    "import pandas as pd\n",
    "# requests\n",
    "import requests\n",
    "# BeautifulSoup\n",
    "from bs4 import BeautifulSoup\n",
    "# selenium\n",
    "from selenium import webdriver\n",
    "from selenium.webdriver.chrome.service import Service\n",
    "from webdriver_manager.chrome import ChromeDriverManager"
   ]
  },
  {
   "cell_type": "code",
   "execution_count": 2,
   "id": "ed347d05-73ee-40f2-b5f7-26a50e8e3a4e",
   "metadata": {},
   "outputs": [],
   "source": [
    "# Setting Up Selenium WebDriver\n",
    "driver = webdriver.Chrome(service=Service(ChromeDriverManager().install()))\n",
    "\n",
    "# Navigating to a Web Page\n",
    "driver.get(\"https://www.imdb.com/chart/toptv/\")\n",
    "\n",
    "# Scrolling to the Bottom of the Page\n",
    "driver.execute_script(\"window.scrollTo(0, document.body.scrollHeight);\")\n",
    "\n",
    "# Adding a Time Gap for Loading Content\n",
    "import time\n",
    "time.sleep(10)\n",
    "\n",
    "# Saving the Final HTML and Closing the Browser\n",
    "html = driver.page_source\n",
    "driver.quit()"
   ]
  },
  {
   "cell_type": "code",
   "execution_count": 3,
   "id": "b423230d-0dbb-456c-8098-5b0ac60f7425",
   "metadata": {},
   "outputs": [],
   "source": [
    "# Creating BeautifulSoup Object\n",
    "soup = BeautifulSoup(html, \"lxml\")"
   ]
  },
  {
   "cell_type": "code",
   "execution_count": 6,
   "id": "d952b0e3-28ef-43d2-b831-e2b951004148",
   "metadata": {},
   "outputs": [
    {
     "name": "stdout",
     "output_type": "stream",
     "text": [
      "Top 250 TV Shows\n"
     ]
    }
   ],
   "source": [
    "# Heading of the Webpage\n",
    "heading = soup.find(\"h1\").text\n",
    "print(heading)"
   ]
  },
  {
   "attachments": {},
   "cell_type": "markdown",
   "id": "7201aab8-3c46-4f53-a204-69cff38c371a",
   "metadata": {},
   "source": [
    "<img src=\"https://raw.githubusercontent.com/TheMrityunjayPathak/Data-Science-with-Python/main/Web%20Scrapping/images/heading.png\" width=\"500px\" border=\"2px solid black\">"
   ]
  },
  {
   "cell_type": "code",
   "execution_count": 7,
   "id": "24879f56-0718-4df3-9d46-56ea030094fe",
   "metadata": {},
   "outputs": [
    {
     "name": "stdout",
     "output_type": "stream",
     "text": [
      "['IMDb Charts', '1. Breaking Bad', '2. Planet Earth II', '3. Planet Earth', '4. Band of Brothers', '5. Chernobyl', '6. The Wire', '7. Avatar: The Last Airbender', '8. Blue Planet II', '9. The Sopranos', '10. Cosmos: A Spacetime Odyssey', '11. Cosmos', '12. Our Planet', '13. Game of Thrones', '14. Bluey', '15. The World at War', '16. Fullmetal Alchemist: Brotherhood', '17. Rick and Morty', '18. Life', '19. The Last Dance', '20. The Twilight Zone', '21. The Vietnam War', '22. Sherlock', '23. Attack on Titan', '24. Batman: The Animated Series', '25. The Office', '26. The Blue Planet', '27. Better Call Saul', '28. Arcane', '29. Scam 1992: The Harshad Mehta Story', \"30. Clarkson's Farm\", '31. Human Planet', '32. Frozen Planet', '33. Firefly', '34. Hunter x Hunter', '35. Only Fools and Horses', '36. The Civil War', '37. Death Note', '38. Seinfeld', '39. Dekalog', '40. Gravity Falls', '41. The Beatles: Get Back', '42. True Detective', '43. Cowboy Bebop', '44. Fargo', '45. Persona', '46. Nathan for You', '47. As If', '48. Taskmaster', '49. Apocalypse: The Second World War', '50. When They See Us', '51. Last Week Tonight with John Oliver', '52. Africa', '53. Friends', '54. Succession', \"55. It's Always Sunny in Philadelphia\", '56. TVF Pitchers', '57. The West Wing', \"58. Monty Python's Flying Circus\", '59. Curb Your Enthusiasm', '60. Das Boot', '61. One Piece', \"62. Frieren: Beyond Journey's End\", '63. BoJack Horseman', '64. Fawlty Towers', '65. Leyla and Mecnun', '66. Pride and Prejudice', '67. Freaks and Geeks', '68. Blackadder Goes Forth', '69. Dragon Ball Z', \"70. X-Men '97\", '71. Twin Peaks', '72. Dragon Ball Z', '73. Narcos', \"74. Chappelle's Show\", '75. Panchayat', '76. Gullak', '77. I, Claudius', '78. Black Mirror', '79. Kota Factory', '80. Vinland Saga', '81. South Park', '82. Over the Garden Wall', '83. Ted Lasso', '84. Reply 1988', '85. Bleach: Thousand-Year Blood War', '86. Peaky Blinders', '87. Six Feet Under', '88. Rome', '89. Oz', '90. Steins;Gate', '91. The Last of Us', '92. Dark', '93. Fleabag', '94. Berserk', '95. The Shield', '96. Blue Eye Samurai', '97. Downton Abbey', '98. Battlestar Galactica', '99. The Simpsons', '100. Severance', '101. The Boys', '102. Mad Men', '103. House', '104. Arrested Development', '105. Peep Show', '106. One Punch Man', '107. Star Trek: The Next Generation', '108. Invincible', '109. The Grand Tour', '110. The Adventures of Sherlock Holmes', '111. Justice League Unlimited', '112. Stranger Things', '113. The Marvelous Mrs. Maisel', '114. Naruto: Shippuden', '115. Friday Night Lights', '116. Mahabharat', '117. Monster', '118. Line of Duty', '119. Behzat Ç: An Ankara Detective Story', '120. Top Gear', '121. 1883', '122. Shōgun', '123. The Thick of It', '124. Sarabhai V/S Sarabhai', '125. How to with John Wilson', '126. The Mandalorian', '127. Aspirants', '128. This Is Us', '129. Father Ted', '130. House of Cards', '131. Atlanta', '132. Code Geass', '133. Parks and Recreation', '134. Deadwood', '135. The X-Files', '136. The Crown', '137. Dexter', '138. Adventure Time', '139. Primal', \"140. It's a Sin\", '141. The Bridge', '142. Daredevil', '143. Ramayan', '144. Blackadder II', '145. Lonesome Dove', '146. The Jinx: The Life and Deaths of Robert Durst', '147. Mindhunter', '148. Haikyu!!', '149. Poirot', '150. Mr. Bean', '151. The Return of Sherlock Holmes', '152. The Offer', '153. Mr Inbetween', '154. Fighting Spirit', '155. Scavengers Reign', '156. Crash Landing on You', '157. Gomorrah', '158. Critical Role', '159. Pose', '160. Blackadder the Third', '161. Yes Minister', '162. Mystery Science Theater 3000', '163. Archer', '164. Anne with an E', '165. Demon Slayer: Kimetsu no Yaiba', '166. Yeh Meri Family', '167. Dopesick', '168. Greatest Events of WWII in Colour', '169. Young Justice', '170. The Newsroom', '171. Boardwalk Empire', '172. The Bear', '173. QI', '174. Yellowstone', '175. Justified', '176. El Chavo del Ocho', '177. Homicide: Life on the Street', '178. The Bugs Bunny Show', '179. The Bureau', '180. What We Do in the Shadows', '181. The Haunting of Hill House', '182. Dragon Ball', '183. Justice League', '184. The Family Man', '185. The Venture Bros.', '186. Battlestar Galactica', '187. Dragon Ball', \"188. The Queen's Gambit\", '189. Flight of the Conchords', '190. Endeavour', '191. Jujutsu Kaisen', '192. Yes, Prime Minister', '193. Making a Murderer', '194. Samurai Champloo', '195. Coupling', '196. Rocket Boys', '197. The IT Crowd', '198. Mr. Robot', '199. Impractical Jokers', '200. Ezel', '201. Black Sun', '202. Spaced', \"203. I'm Alan Partridge\", '204. The Eric Andre Show', '205. Samurai Jack', '206. Detectorists', '207. Long Way Round', '208. Happy Valley', '209. Mob Psycho 100', '210. Spartacus', '211. Whose Line Is It Anyway?', '212. Louie', '213. Sons of Anarchy', '214. Through the Wormhole', '215. The Office', '216. Derry Girls', '217. Neon Genesis Evangelion', '218. Regular Show', '219. Formula 1: Drive to Survive', '220. Twin Peaks', '221. Trailer Park Boys', '222. Spartacus: Gods of the Arena', '223. Shameless', '224. Skam', '225. Brass Eye', '226. North & South', \"227. Schitt's Creek\", '228. Heartstopper', '229. Silicon Valley', '230. Futurama', '231. Fullmetal Alchemist', '232. Doctor Who', '233. Rurouni Kenshin: Trust and Betrayal', '234. The Expanse', '235. Hannibal', '236. Extraordinary Attorney Woo', '237. Letterkenny', '238. From the Earth to the Moon', '239. My Brilliant Friend', '240. Alchemy of Souls', '241. Avrupa Yakasi', '242. Wentworth', '243. Tash ma Tash', '244. Umbre', '245. The Rehearsal', '246. Your Lie in April', '247. Westworld', '248. Community', '249. Gintama', '250. Tear Along the Dotted Line', 'You have rated', 'More to explore', 'Charts', 'Top Box Office (US)', 'Most Popular Movies', 'IMDb Top 250 Movies', 'Top Rated English Movies', 'Most Popular TV Shows', 'Lowest Rated Movies', 'Most Popular Celebs', 'TV News', 'Top Rated TV by Genre', 'Recently viewed']\n"
     ]
    }
   ],
   "source": [
    "# TV Shows Name\n",
    "lst1 = []\n",
    "for i in soup.find_all(\"h3\",\"ipc-title__text\"):\n",
    "    lst1.append(i.text)\n",
    "\n",
    "print(lst1)"
   ]
  },
  {
   "attachments": {},
   "cell_type": "markdown",
   "id": "94931cb6-21de-40a0-9491-ef618b663fc5",
   "metadata": {},
   "source": [
    "<img src=\"https://raw.githubusercontent.com/TheMrityunjayPathak/Data-Science-with-Python/main/Web%20Scrapping/images/tv%20show%20name.png\" width=\"500px\" border=\"2px solid black\">"
   ]
  },
  {
   "cell_type": "code",
   "execution_count": 8,
   "id": "a714fdb4-0f94-49bb-9dd5-b73e018a9e01",
   "metadata": {},
   "outputs": [
    {
     "name": "stdout",
     "output_type": "stream",
     "text": [
      "['1. Breaking Bad', '2. Planet Earth II', '3. Planet Earth', '4. Band of Brothers', '5. Chernobyl', '6. The Wire', '7. Avatar: The Last Airbender', '8. Blue Planet II', '9. The Sopranos', '10. Cosmos: A Spacetime Odyssey', '11. Cosmos', '12. Our Planet', '13. Game of Thrones', '14. Bluey', '15. The World at War', '16. Fullmetal Alchemist: Brotherhood', '17. Rick and Morty', '18. Life', '19. The Last Dance', '20. The Twilight Zone', '21. The Vietnam War', '22. Sherlock', '23. Attack on Titan', '24. Batman: The Animated Series', '25. The Office', '26. The Blue Planet', '27. Better Call Saul', '28. Arcane', '29. Scam 1992: The Harshad Mehta Story', \"30. Clarkson's Farm\", '31. Human Planet', '32. Frozen Planet', '33. Firefly', '34. Hunter x Hunter', '35. Only Fools and Horses', '36. The Civil War', '37. Death Note', '38. Seinfeld', '39. Dekalog', '40. Gravity Falls', '41. The Beatles: Get Back', '42. True Detective', '43. Cowboy Bebop', '44. Fargo', '45. Persona', '46. Nathan for You', '47. As If', '48. Taskmaster', '49. Apocalypse: The Second World War', '50. When They See Us', '51. Last Week Tonight with John Oliver', '52. Africa', '53. Friends', '54. Succession', \"55. It's Always Sunny in Philadelphia\", '56. TVF Pitchers', '57. The West Wing', \"58. Monty Python's Flying Circus\", '59. Curb Your Enthusiasm', '60. Das Boot', '61. One Piece', \"62. Frieren: Beyond Journey's End\", '63. BoJack Horseman', '64. Fawlty Towers', '65. Leyla and Mecnun', '66. Pride and Prejudice', '67. Freaks and Geeks', '68. Blackadder Goes Forth', '69. Dragon Ball Z', \"70. X-Men '97\", '71. Twin Peaks', '72. Dragon Ball Z', '73. Narcos', \"74. Chappelle's Show\", '75. Panchayat', '76. Gullak', '77. I, Claudius', '78. Black Mirror', '79. Kota Factory', '80. Vinland Saga', '81. South Park', '82. Over the Garden Wall', '83. Ted Lasso', '84. Reply 1988', '85. Bleach: Thousand-Year Blood War', '86. Peaky Blinders', '87. Six Feet Under', '88. Rome', '89. Oz', '90. Steins;Gate', '91. The Last of Us', '92. Dark', '93. Fleabag', '94. Berserk', '95. The Shield', '96. Blue Eye Samurai', '97. Downton Abbey', '98. Battlestar Galactica', '99. The Simpsons', '100. Severance', '101. The Boys', '102. Mad Men', '103. House', '104. Arrested Development', '105. Peep Show', '106. One Punch Man', '107. Star Trek: The Next Generation', '108. Invincible', '109. The Grand Tour', '110. The Adventures of Sherlock Holmes', '111. Justice League Unlimited', '112. Stranger Things', '113. The Marvelous Mrs. Maisel', '114. Naruto: Shippuden', '115. Friday Night Lights', '116. Mahabharat', '117. Monster', '118. Line of Duty', '119. Behzat Ç: An Ankara Detective Story', '120. Top Gear', '121. 1883', '122. Shōgun', '123. The Thick of It', '124. Sarabhai V/S Sarabhai', '125. How to with John Wilson', '126. The Mandalorian', '127. Aspirants', '128. This Is Us', '129. Father Ted', '130. House of Cards', '131. Atlanta', '132. Code Geass', '133. Parks and Recreation', '134. Deadwood', '135. The X-Files', '136. The Crown', '137. Dexter', '138. Adventure Time', '139. Primal', \"140. It's a Sin\", '141. The Bridge', '142. Daredevil', '143. Ramayan', '144. Blackadder II', '145. Lonesome Dove', '146. The Jinx: The Life and Deaths of Robert Durst', '147. Mindhunter', '148. Haikyu!!', '149. Poirot', '150. Mr. Bean', '151. The Return of Sherlock Holmes', '152. The Offer', '153. Mr Inbetween', '154. Fighting Spirit', '155. Scavengers Reign', '156. Crash Landing on You', '157. Gomorrah', '158. Critical Role', '159. Pose', '160. Blackadder the Third', '161. Yes Minister', '162. Mystery Science Theater 3000', '163. Archer', '164. Anne with an E', '165. Demon Slayer: Kimetsu no Yaiba', '166. Yeh Meri Family', '167. Dopesick', '168. Greatest Events of WWII in Colour', '169. Young Justice', '170. The Newsroom', '171. Boardwalk Empire', '172. The Bear', '173. QI', '174. Yellowstone', '175. Justified', '176. El Chavo del Ocho', '177. Homicide: Life on the Street', '178. The Bugs Bunny Show', '179. The Bureau', '180. What We Do in the Shadows', '181. The Haunting of Hill House', '182. Dragon Ball', '183. Justice League', '184. The Family Man', '185. The Venture Bros.', '186. Battlestar Galactica', '187. Dragon Ball', \"188. The Queen's Gambit\", '189. Flight of the Conchords', '190. Endeavour', '191. Jujutsu Kaisen', '192. Yes, Prime Minister', '193. Making a Murderer', '194. Samurai Champloo', '195. Coupling', '196. Rocket Boys', '197. The IT Crowd', '198. Mr. Robot', '199. Impractical Jokers', '200. Ezel', '201. Black Sun', '202. Spaced', \"203. I'm Alan Partridge\", '204. The Eric Andre Show', '205. Samurai Jack', '206. Detectorists', '207. Long Way Round', '208. Happy Valley', '209. Mob Psycho 100', '210. Spartacus', '211. Whose Line Is It Anyway?', '212. Louie', '213. Sons of Anarchy', '214. Through the Wormhole', '215. The Office', '216. Derry Girls', '217. Neon Genesis Evangelion', '218. Regular Show', '219. Formula 1: Drive to Survive', '220. Twin Peaks', '221. Trailer Park Boys', '222. Spartacus: Gods of the Arena', '223. Shameless', '224. Skam', '225. Brass Eye', '226. North & South', \"227. Schitt's Creek\", '228. Heartstopper', '229. Silicon Valley', '230. Futurama', '231. Fullmetal Alchemist', '232. Doctor Who', '233. Rurouni Kenshin: Trust and Betrayal', '234. The Expanse', '235. Hannibal', '236. Extraordinary Attorney Woo', '237. Letterkenny', '238. From the Earth to the Moon', '239. My Brilliant Friend', '240. Alchemy of Souls', '241. Avrupa Yakasi', '242. Wentworth', '243. Tash ma Tash', '244. Umbre', '245. The Rehearsal', '246. Your Lie in April', '247. Westworld', '248. Community', '249. Gintama', '250. Tear Along the Dotted Line']\n"
     ]
    }
   ],
   "source": [
    "# To remove additional <h3> Text from TV Shows Name\n",
    "lst1 = lst1[1:251]\n",
    "print(lst1)"
   ]
  },
  {
   "cell_type": "code",
   "execution_count": 9,
   "id": "9d04e54b-ea36-459b-864e-02cd00b1cefa",
   "metadata": {},
   "outputs": [
    {
     "name": "stdout",
     "output_type": "stream",
     "text": [
      "['Breaking Bad', 'Planet Earth II', 'Planet Earth', 'Band of Brothers', 'Chernobyl', 'The Wire', 'Avatar: The Last Airbender', 'Blue Planet II', 'The Sopranos', 'Cosmos: A Spacetime Odyssey', 'Cosmos', 'Our Planet', 'Game of Thrones', 'Bluey', 'The World at War', 'Fullmetal Alchemist: Brotherhood', 'Rick and Morty', 'Life', 'The Last Dance', 'The Twilight Zone', 'The Vietnam War', 'Sherlock', 'Attack on Titan', 'Batman: The Animated Series', 'The Office', 'The Blue Planet', 'Better Call Saul', 'Arcane', 'Scam 1992: The Harshad Mehta Story', \"Clarkson's Farm\", 'Human Planet', 'Frozen Planet', 'Firefly', 'Hunter x Hunter', 'Only Fools and Horses', 'The Civil War', 'Death Note', 'Seinfeld', 'Dekalog', 'Gravity Falls', 'The Beatles: Get Back', 'True Detective', 'Cowboy Bebop', 'Fargo', 'Persona', 'Nathan for You', 'As If', 'Taskmaster', 'Apocalypse: The Second World War', 'When They See Us', 'Last Week Tonight with John Oliver', 'Africa', 'Friends', 'Succession', \"It's Always Sunny in Philadelphia\", 'TVF Pitchers', 'The West Wing', \"Monty Python's Flying Circus\", 'Curb Your Enthusiasm', 'Das Boot', 'One Piece', \"Frieren: Beyond Journey's End\", 'BoJack Horseman', 'Fawlty Towers', 'Leyla and Mecnun', 'Pride and Prejudice', 'Freaks and Geeks', 'Blackadder Goes Forth', 'Dragon Ball Z', \"X-Men '97\", 'Twin Peaks', 'Dragon Ball Z', 'Narcos', \"Chappelle's Show\", 'Panchayat', 'Gullak', 'I, Claudius', 'Black Mirror', 'Kota Factory', 'Vinland Saga', 'South Park', 'Over the Garden Wall', 'Ted Lasso', 'Reply 1988', 'Bleach: Thousand-Year Blood War', 'Peaky Blinders', 'Six Feet Under', 'Rome', 'Oz', 'Steins;Gate', 'The Last of Us', 'Dark', 'Fleabag', 'Berserk', 'The Shield', 'Blue Eye Samurai', 'Downton Abbey', 'Battlestar Galactica', 'The Simpsons', 'Severance', 'The Boys', 'Mad Men', 'House', 'Arrested Development', 'Peep Show', 'One Punch Man', 'Star Trek: The Next Generation', 'Invincible', 'The Grand Tour', 'The Adventures of Sherlock Holmes', 'Justice League Unlimited', 'Stranger Things', 'The Marvelous Mrs', 'Naruto: Shippuden', 'Friday Night Lights', 'Mahabharat', 'Monster', 'Line of Duty', 'Behzat Ç: An Ankara Detective Story', 'Top Gear', '1883', 'Shōgun', 'The Thick of It', 'Sarabhai V/S Sarabhai', 'How to with John Wilson', 'The Mandalorian', 'Aspirants', 'This Is Us', 'Father Ted', 'House of Cards', 'Atlanta', 'Code Geass', 'Parks and Recreation', 'Deadwood', 'The X-Files', 'The Crown', 'Dexter', 'Adventure Time', 'Primal', \"It's a Sin\", 'The Bridge', 'Daredevil', 'Ramayan', 'Blackadder II', 'Lonesome Dove', 'The Jinx: The Life and Deaths of Robert Durst', 'Mindhunter', 'Haikyu!!', 'Poirot', 'Mr', 'The Return of Sherlock Holmes', 'The Offer', 'Mr Inbetween', 'Fighting Spirit', 'Scavengers Reign', 'Crash Landing on You', 'Gomorrah', 'Critical Role', 'Pose', 'Blackadder the Third', 'Yes Minister', 'Mystery Science Theater 3000', 'Archer', 'Anne with an E', 'Demon Slayer: Kimetsu no Yaiba', 'Yeh Meri Family', 'Dopesick', 'Greatest Events of WWII in Colour', 'Young Justice', 'The Newsroom', 'Boardwalk Empire', 'The Bear', 'QI', 'Yellowstone', 'Justified', 'El Chavo del Ocho', 'Homicide: Life on the Street', 'The Bugs Bunny Show', 'The Bureau', 'What We Do in the Shadows', 'The Haunting of Hill House', 'Dragon Ball', 'Justice League', 'The Family Man', 'The Venture Bros', 'Battlestar Galactica', 'Dragon Ball', \"The Queen's Gambit\", 'Flight of the Conchords', 'Endeavour', 'Jujutsu Kaisen', 'Yes, Prime Minister', 'Making a Murderer', 'Samurai Champloo', 'Coupling', 'Rocket Boys', 'The IT Crowd', 'Mr', 'Impractical Jokers', 'Ezel', 'Black Sun', 'Spaced', \"I'm Alan Partridge\", 'The Eric Andre Show', 'Samurai Jack', 'Detectorists', 'Long Way Round', 'Happy Valley', 'Mob Psycho 100', 'Spartacus', 'Whose Line Is It Anyway?', 'Louie', 'Sons of Anarchy', 'Through the Wormhole', 'The Office', 'Derry Girls', 'Neon Genesis Evangelion', 'Regular Show', 'Formula 1: Drive to Survive', 'Twin Peaks', 'Trailer Park Boys', 'Spartacus: Gods of the Arena', 'Shameless', 'Skam', 'Brass Eye', 'North & South', \"Schitt's Creek\", 'Heartstopper', 'Silicon Valley', 'Futurama', 'Fullmetal Alchemist', 'Doctor Who', 'Rurouni Kenshin: Trust and Betrayal', 'The Expanse', 'Hannibal', 'Extraordinary Attorney Woo', 'Letterkenny', 'From the Earth to the Moon', 'My Brilliant Friend', 'Alchemy of Souls', 'Avrupa Yakasi', 'Wentworth', 'Tash ma Tash', 'Umbre', 'The Rehearsal', 'Your Lie in April', 'Westworld', 'Community', 'Gintama', 'Tear Along the Dotted Line']\n"
     ]
    }
   ],
   "source": [
    "# Name of TV Show\n",
    "name_list = []\n",
    "for i in lst1:\n",
    "    name_list.append(i.split(\".\")[1].strip())\n",
    "\n",
    "print(name_list)"
   ]
  },
  {
   "cell_type": "code",
   "execution_count": 10,
   "id": "c75fe71f-47ad-491f-8665-e8b6dfa46afd",
   "metadata": {},
   "outputs": [
    {
     "name": "stdout",
     "output_type": "stream",
     "text": [
      "['9.5', '9.5', '9.4', '9.4', '9.3', '9.3', '9.3', '9.3', '9.2', '9.2', '9.3', '9.3', '9.2', '9.4', '9.2', '9.1', '9.1', '9.1', '9.1', '9.1', '9.1', '9.1', '9.1', '9.0', '9.0', '9.0', '9.0', '9.0', '9.2', '9.0', '9.0', '9.0', '8.9', '9.0', '9.0', '9.0', '8.9', '8.9', '8.9', '8.9', '8.9', '8.9', '8.9', '8.9', '9.0', '8.9', '9.0', '9.0', '9.0', '8.8', '8.8', '8.9', '8.9', '8.8', '8.8', '9.1', '8.9', '8.8', '8.8', '8.8', '9.0', '8.9', '8.8', '8.8', '9.1', '8.8', '8.8', '8.8', '8.8', '8.8', '8.8', '8.8', '8.8', '8.8', '9.0', '9.1', '8.8', '8.7', '9.0', '8.8', '8.7', '8.8', '8.8', '9.1', '9.0', '8.8', '8.7', '8.7', '8.7', '8.8', '8.7', '8.7', '8.7', '8.7', '8.7', '8.7', '8.7', '8.7', '8.7', '8.7', '8.7', '8.7', '8.7', '8.7', '8.7', '8.7', '8.7', '8.7', '8.7', '8.7', '8.7', '8.7', '8.7', '8.7', '8.7', '8.9', '8.7', '8.7', '8.9', '8.7', '8.7', '8.7', '8.7', '8.9', '8.7', '8.6', '9.2', '8.7', '8.7', '8.6', '8.6', '8.7', '8.6', '8.6', '8.6', '8.6', '8.6', '8.6', '8.7', '8.6', '8.6', '8.6', '9.0', '8.6', '8.7', '8.6', '8.6', '8.7', '8.6', '8.6', '8.7', '8.6', '8.7', '8.8', '8.7', '8.7', '8.6', '9.1', '8.6', '8.6', '8.6', '8.6', '8.6', '8.6', '8.6', '9.0', '8.6', '8.6', '8.6', '8.6', '8.6', '8.6', '8.6', '8.7', '8.6', '8.7', '8.7', '8.6', '8.7', '8.6', '8.5', '8.5', '8.6', '8.7', '8.6', '8.5', '8.5', '8.5', '8.5', '8.6', '8.6', '8.6', '8.5', '8.5', '8.6', '8.9', '8.5', '8.5', '8.6', '8.7', '8.8', '8.5', '8.6', '8.6', '8.5', '8.6', '8.6', '8.5', '8.6', '8.5', '8.5', '8.5', '8.6', '8.6', '8.5', '8.5', '8.5', '8.5', '8.5', '8.5', '8.5', '8.5', '8.5', '8.6', '8.6', '8.6', '8.5', '8.6', '8.5', '8.5', '8.5', '8.5', '8.6', '8.5', '8.5', '8.6', '8.6', '8.6', '8.6', '8.7', '8.6', '8.6', '9.0', '8.7', '8.5', '8.5', '8.5', '8.5', '8.7', '8.6']\n"
     ]
    }
   ],
   "source": [
    "# IMDB Rating\n",
    "rating = []\n",
    "for i in soup.find_all(\"span\",\"ipc-rating-star--rating\"):\n",
    "    rating.append(i.text.strip())\n",
    "\n",
    "print(rating)"
   ]
  },
  {
   "attachments": {},
   "cell_type": "markdown",
   "id": "fd24711f-eb9e-4c3c-a402-2ba12e3acb4c",
   "metadata": {},
   "source": [
    "<img src=\"https://raw.githubusercontent.com/TheMrityunjayPathak/Data-Science-with-Python/main/Web%20Scrapping/images/ratings.png\" width=\"500px\" border=\"2px solid black\">"
   ]
  },
  {
   "cell_type": "code",
   "execution_count": 19,
   "id": "db79b5d7-9662-4e89-8481-269878182e03",
   "metadata": {},
   "outputs": [
    {
     "name": "stdout",
     "output_type": "stream",
     "text": [
      "['(2.2M)', '(160K)', '(222K)', '(537K)', '(886K)', '(384K)', '(382K)', '(48K)', '(485K)', '(130K)', '(45K)', '(53K)', '(2.3M)', '(31K)', '(30K)', '(203K)', '(615K)', '(43K)', '(156K)', '(95K)', '(28K)', '(1M)', '(538K)', '(120K)', '(730K)', '(43K)', '(668K)', '(283K)', '(159K)', '(63K)', '(28K)', '(33K)', '(284K)', '(142K)', '(57K)', '(19K)', '(390K)', '(356K)', '(28K)', '(141K)', '(29K)', '(667K)', '(142K)', '(428K)', '(48K)', '(39K)', '(24K)', '(21K)', '(15K)', '(140K)', '(97K)', '(17K)', '(1.1M)', '(284K)', '(255K)', '(73K)', '(87K)', '(79K)', '(150K)', '(34K)', '(252K)', '(22K)', '(194K)', '(101K)', '(97K)', '(93K)', '(155K)', '(57K)', '(151K)', '(33K)', '(218K)', '(89K)', '(478K)', '(73K)', '(96K)', '(24K)', '(20K)', '(650K)', '(85K)', '(78K)', '(410K)', '(73K)', '(361K)', '(13K)', '(38K)', '(667K)', '(152K)', '(188K)', '(108K)', '(76K)', '(555K)', '(456K)', '(209K)', '(56K)', '(89K)', '(74K)', '(227K)', '(178K)', '(440K)', '(215K)', '(708K)', '(264K)', '(526K)', '(327K)', '(67K)', '(190K)', '(138K)', '(215K)', '(85K)', '(25K)', '(21K)', '(1.4M)', '(145K)', '(177K)', '(73K)', '(24K)', '(48K)', '(72K)', '(33K)', '(128K)', '(120K)', '(161K)', '(27K)', '(18K)', '(14K)', '(599K)', '(313K)', '(162K)', '(44K)', '(535K)', '(90K)', '(83K)', '(292K)', '(119K)', '(253K)', '(261K)', '(785K)', '(115K)', '(22K)', '(37K)', '(78K)', '(480K)', '(24K)', '(50K)', '(26K)', '(54K)', '(345K)', '(38K)', '(53K)', '(136K)', '(14K)', '(41K)', '(32K)', '(10K)', '(21K)', '(44K)', '(45K)', '(13K)', '(33K)', '(47K)', '(17K)', '(26K)', '(168K)', '(68K)', '(162K)', '(26K)', '(80K)', '(11K)', '(46K)', '(126K)', '(205K)', '(237K)', '(34K)', '(231K)', '(121K)', '(13K)', '(14K)', '(36K)', '(15K)', '(106K)', '(294K)', '(68K)', '(52K)', '(100K)', '(28K)', '(81K)', '(66K)', '(571K)', '(67K)', '(34K)', '(127K)', '(13K)', '(104K)', '(56K)', '(48K)', '(18K)', '(166K)', '(424K)', '(47K)', '(38K)', '(13K)', '(58K)', '(22K)', '(22K)', '(61K)', '(22K)', '(15K)', '(66K)', '(48K)', '(260K)', '(47K)', '(83K)', '(328K)', '(19K)', '(124K)', '(62K)', '(88K)', '(60K)', '(52K)', '(77K)', '(52K)', '(147K)', '(293K)', '(39K)', '(12K)', '(35K)', '(149K)', '(79K)', '(168K)', '(264K)', '(79K)', '(251K)', '(16K)', '(175K)', '(280K)', '(28K)', '(30K)', '(13K)', '(18K)', '(19K)', '(22K)', '(25K)', '(10K)', '(12K)', '(27K)', '(39K)', '(538K)', '(297K)', '(16K)', '(15K)']\n"
     ]
    }
   ],
   "source": [
    "# Votes for TV Shows\n",
    "lst2 = []\n",
    "for i in soup.find_all(\"span\",\"ipc-rating-star--voteCount\"):\n",
    "    lst2.append(i.text.strip())\n",
    "\n",
    "print(lst2)"
   ]
  },
  {
   "attachments": {},
   "cell_type": "markdown",
   "id": "85f435b6-c1b5-461f-9a42-845ccccde0a6",
   "metadata": {},
   "source": [
    "<img src=\"https://raw.githubusercontent.com/TheMrityunjayPathak/Data-Science-with-Python/main/Web%20Scrapping/images/votes.png\" width=\"500px\" border=\"2px solid black\">"
   ]
  },
  {
   "cell_type": "code",
   "execution_count": 18,
   "id": "45e24f0a-b2f4-4897-b2ae-b849a775d5b3",
   "metadata": {},
   "outputs": [
    {
     "name": "stdout",
     "output_type": "stream",
     "text": [
      "['2.2M', '160K', '222K', '537K', '886K', '384K', '382K', '48K', '485K', '130K', '45K', '53K', '2.3M', '31K', '30K', '203K', '615K', '43K', '156K', '95K', '28K', '1M', '538K', '120K', '730K', '43K', '668K', '283K', '159K', '63K', '28K', '33K', '284K', '142K', '57K', '19K', '390K', '356K', '28K', '141K', '29K', '667K', '142K', '428K', '48K', '39K', '24K', '21K', '15K', '140K', '97K', '17K', '1.1M', '284K', '255K', '73K', '87K', '79K', '150K', '34K', '252K', '22K', '194K', '101K', '97K', '93K', '155K', '57K', '151K', '33K', '218K', '89K', '478K', '73K', '96K', '24K', '20K', '650K', '85K', '78K', '410K', '73K', '361K', '13K', '38K', '667K', '152K', '188K', '108K', '76K', '555K', '456K', '209K', '56K', '89K', '74K', '227K', '178K', '440K', '215K', '708K', '264K', '526K', '327K', '67K', '190K', '138K', '215K', '85K', '25K', '21K', '1.4M', '145K', '177K', '73K', '24K', '48K', '72K', '33K', '128K', '120K', '161K', '27K', '18K', '14K', '599K', '313K', '162K', '44K', '535K', '90K', '83K', '292K', '119K', '253K', '261K', '785K', '115K', '22K', '37K', '78K', '480K', '24K', '50K', '26K', '54K', '345K', '38K', '53K', '136K', '14K', '41K', '32K', '10K', '21K', '44K', '45K', '13K', '33K', '47K', '17K', '26K', '168K', '68K', '162K', '26K', '80K', '11K', '46K', '126K', '205K', '237K', '34K', '231K', '121K', '13K', '14K', '36K', '15K', '106K', '294K', '68K', '52K', '100K', '28K', '81K', '66K', '571K', '67K', '34K', '127K', '13K', '104K', '56K', '48K', '18K', '166K', '424K', '47K', '38K', '13K', '58K', '22K', '22K', '61K', '22K', '15K', '66K', '48K', '260K', '47K', '83K', '328K', '19K', '124K', '62K', '88K', '60K', '52K', '77K', '52K', '147K', '293K', '39K', '12K', '35K', '149K', '79K', '168K', '264K', '79K', '251K', '16K', '175K', '280K', '28K', '30K', '13K', '18K', '19K', '22K', '25K', '10K', '12K', '27K', '39K', '538K', '297K', '16K', '15K']\n"
     ]
    }
   ],
   "source": [
    "# Audience Votes\n",
    "votes = []\n",
    "for i in lst2:\n",
    "    votes.append(i.replace(\"(\",\"\").replace(\")\",\"\").strip())\n",
    "\n",
    "print(votes)"
   ]
  },
  {
   "cell_type": "code",
   "execution_count": 17,
   "id": "49732733-9624-49b4-abbd-949aa063520a",
   "metadata": {},
   "outputs": [
    {
     "data": {
      "text/html": [
       "<div>\n",
       "<style scoped>\n",
       "    .dataframe tbody tr th:only-of-type {\n",
       "        vertical-align: middle;\n",
       "    }\n",
       "\n",
       "    .dataframe tbody tr th {\n",
       "        vertical-align: top;\n",
       "    }\n",
       "\n",
       "    .dataframe thead th {\n",
       "        text-align: right;\n",
       "    }\n",
       "</style>\n",
       "<table border=\"1\" class=\"dataframe\">\n",
       "  <thead>\n",
       "    <tr style=\"text-align: right;\">\n",
       "      <th></th>\n",
       "      <th>Name</th>\n",
       "      <th>Ratings</th>\n",
       "      <th>Votes</th>\n",
       "    </tr>\n",
       "  </thead>\n",
       "  <tbody>\n",
       "    <tr>\n",
       "      <th>0</th>\n",
       "      <td>Breaking Bad</td>\n",
       "      <td>9.5</td>\n",
       "      <td>2.2M</td>\n",
       "    </tr>\n",
       "    <tr>\n",
       "      <th>1</th>\n",
       "      <td>Planet Earth II</td>\n",
       "      <td>9.5</td>\n",
       "      <td>160K</td>\n",
       "    </tr>\n",
       "    <tr>\n",
       "      <th>2</th>\n",
       "      <td>Planet Earth</td>\n",
       "      <td>9.4</td>\n",
       "      <td>222K</td>\n",
       "    </tr>\n",
       "    <tr>\n",
       "      <th>3</th>\n",
       "      <td>Band of Brothers</td>\n",
       "      <td>9.4</td>\n",
       "      <td>537K</td>\n",
       "    </tr>\n",
       "    <tr>\n",
       "      <th>4</th>\n",
       "      <td>Chernobyl</td>\n",
       "      <td>9.3</td>\n",
       "      <td>886K</td>\n",
       "    </tr>\n",
       "    <tr>\n",
       "      <th>5</th>\n",
       "      <td>The Wire</td>\n",
       "      <td>9.3</td>\n",
       "      <td>384K</td>\n",
       "    </tr>\n",
       "    <tr>\n",
       "      <th>6</th>\n",
       "      <td>Avatar: The Last Airbender</td>\n",
       "      <td>9.3</td>\n",
       "      <td>382K</td>\n",
       "    </tr>\n",
       "    <tr>\n",
       "      <th>7</th>\n",
       "      <td>Blue Planet II</td>\n",
       "      <td>9.3</td>\n",
       "      <td>48K</td>\n",
       "    </tr>\n",
       "    <tr>\n",
       "      <th>8</th>\n",
       "      <td>The Sopranos</td>\n",
       "      <td>9.2</td>\n",
       "      <td>485K</td>\n",
       "    </tr>\n",
       "    <tr>\n",
       "      <th>9</th>\n",
       "      <td>Cosmos: A Spacetime Odyssey</td>\n",
       "      <td>9.2</td>\n",
       "      <td>130K</td>\n",
       "    </tr>\n",
       "  </tbody>\n",
       "</table>\n",
       "</div>"
      ],
      "text/plain": [
       "                          Name Ratings Votes\n",
       "0                 Breaking Bad     9.5  2.2M\n",
       "1              Planet Earth II     9.5  160K\n",
       "2                 Planet Earth     9.4  222K\n",
       "3             Band of Brothers     9.4  537K\n",
       "4                    Chernobyl     9.3  886K\n",
       "5                     The Wire     9.3  384K\n",
       "6   Avatar: The Last Airbender     9.3  382K\n",
       "7               Blue Planet II     9.3   48K\n",
       "8                 The Sopranos     9.2  485K\n",
       "9  Cosmos: A Spacetime Odyssey     9.2  130K"
      ]
     },
     "execution_count": 17,
     "metadata": {},
     "output_type": "execute_result"
    }
   ],
   "source": [
    "# Collecting all the Data into a DataFrame\n",
    "tv_shows = pd.DataFrame({\"Name\":name_list,\"Ratings\":rating,\"Votes\":votes})\n",
    "tv_shows.head(10)"
   ]
  },
  {
   "cell_type": "code",
   "execution_count": 16,
   "id": "74f8f832-28c1-40ba-bd29-6faf02c522f8",
   "metadata": {},
   "outputs": [],
   "source": [
    "# Saving the DataFrame as CSV File\n",
    "tv_shows.to_csv(\"tv_shows.csv\",index=False)"
   ]
  },
  {
   "cell_type": "markdown",
   "id": "3aaca370-2935-41f3-b2c5-19ec7e212994",
   "metadata": {},
   "source": [
    "---\n",
    "\n",
    "<p style=\"color:#6a66bd; text-align:center; font-weight:bold; font-family:verdana; font-size:25px;\">Thanks 👏 for Visiting!</p>"
   ]
  }
 ],
 "metadata": {
  "kernelspec": {
   "display_name": "Python 3 (ipykernel)",
   "language": "python",
   "name": "python3"
  },
  "language_info": {
   "codemirror_mode": {
    "name": "ipython",
    "version": 3
   },
   "file_extension": ".py",
   "mimetype": "text/x-python",
   "name": "python",
   "nbconvert_exporter": "python",
   "pygments_lexer": "ipython3",
   "version": "3.12.1"
  }
 },
 "nbformat": 4,
 "nbformat_minor": 5
}
